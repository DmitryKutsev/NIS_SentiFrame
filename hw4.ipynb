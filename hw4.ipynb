{
  "nbformat": 4,
  "nbformat_minor": 0,
  "metadata": {
    "colab": {
      "name": "Untitled29.ipynb",
      "provenance": [],
      "authorship_tag": "ABX9TyOrBKD0IFPZ4I//A644WfBW",
      "include_colab_link": true
    },
    "kernelspec": {
      "name": "python3",
      "display_name": "Python 3"
    }
  },
  "cells": [
    {
      "cell_type": "markdown",
      "metadata": {
        "id": "view-in-github",
        "colab_type": "text"
      },
      "source": [
        "<a href=\"https://colab.research.google.com/github/DmitryKutsev/NIS_SentiFrame/blob/master/hw4.ipynb\" target=\"_parent\"><img src=\"https://colab.research.google.com/assets/colab-badge.svg\" alt=\"Open In Colab\"/></a>"
      ]
    },
    {
      "cell_type": "code",
      "metadata": {
        "id": "f-mQYZ5SV5Ik",
        "colab_type": "code",
        "colab": {
          "base_uri": "https://localhost:8080/",
          "height": 204
        },
        "outputId": "21383f40-e522-4aa5-c87a-1ac375d1ef3c"
      },
      "source": [
        "!wget https://raw.githubusercontent.com/DmitryKutsev/ml_hw/master/small_data.csv\n"
      ],
      "execution_count": 9,
      "outputs": [
        {
          "output_type": "stream",
          "text": [
            "--2020-03-03 23:02:59--  https://raw.githubusercontent.com/DmitryKutsev/ml_hw/master/small_data.csv\n",
            "Resolving raw.githubusercontent.com (raw.githubusercontent.com)... 151.101.0.133, 151.101.64.133, 151.101.128.133, ...\n",
            "Connecting to raw.githubusercontent.com (raw.githubusercontent.com)|151.101.0.133|:443... connected.\n",
            "HTTP request sent, awaiting response... 200 OK\n",
            "Length: 24394136 (23M) [text/plain]\n",
            "Saving to: ‘small_data.csv’\n",
            "\n",
            "\rsmall_data.csv        0%[                    ]       0  --.-KB/s               \rsmall_data.csv       96%[==================> ]  22.56M   113MB/s               \rsmall_data.csv      100%[===================>]  23.26M   115MB/s    in 0.2s    \n",
            "\n",
            "2020-03-03 23:03:00 (115 MB/s) - ‘small_data.csv’ saved [24394136/24394136]\n",
            "\n"
          ],
          "name": "stdout"
        }
      ]
    },
    {
      "cell_type": "code",
      "metadata": {
        "id": "qqiICcEeWA-7",
        "colab_type": "code",
        "colab": {}
      },
      "source": [
        "import pandas as pd"
      ],
      "execution_count": 0,
      "outputs": []
    },
    {
      "cell_type": "code",
      "metadata": {
        "id": "6qnF2VDAXI5v",
        "colab_type": "code",
        "colab": {}
      },
      "source": [
        "data = pd.read_csv('small_data.csv')"
      ],
      "execution_count": 0,
      "outputs": []
    },
    {
      "cell_type": "code",
      "metadata": {
        "id": "muMQC4LqpA6T",
        "colab_type": "code",
        "colab": {
          "base_uri": "https://localhost:8080/",
          "height": 513
        },
        "outputId": "92190dff-c23b-4ec9-9dc2-17ae890f7416"
      },
      "source": [
        "data.head(5)"
      ],
      "execution_count": 13,
      "outputs": [
        {
          "output_type": "execute_result",
          "data": {
            "text/html": [
              "<div>\n",
              "<style scoped>\n",
              "    .dataframe tbody tr th:only-of-type {\n",
              "        vertical-align: middle;\n",
              "    }\n",
              "\n",
              "    .dataframe tbody tr th {\n",
              "        vertical-align: top;\n",
              "    }\n",
              "\n",
              "    .dataframe thead th {\n",
              "        text-align: right;\n",
              "    }\n",
              "</style>\n",
              "<table border=\"1\" class=\"dataframe\">\n",
              "  <thead>\n",
              "    <tr style=\"text-align: right;\">\n",
              "      <th></th>\n",
              "      <th>item_id</th>\n",
              "      <th>user_id</th>\n",
              "      <th>region</th>\n",
              "      <th>city</th>\n",
              "      <th>parent_category_name</th>\n",
              "      <th>category_name</th>\n",
              "      <th>param_1</th>\n",
              "      <th>param_2</th>\n",
              "      <th>param_3</th>\n",
              "      <th>title</th>\n",
              "      <th>description</th>\n",
              "      <th>price</th>\n",
              "      <th>item_seq_number</th>\n",
              "      <th>activation_date</th>\n",
              "      <th>user_type</th>\n",
              "      <th>image</th>\n",
              "      <th>image_top_1</th>\n",
              "    </tr>\n",
              "  </thead>\n",
              "  <tbody>\n",
              "    <tr>\n",
              "      <th>0</th>\n",
              "      <td>793dd3d5f0f0</td>\n",
              "      <td>9467e0341c0e</td>\n",
              "      <td>Алтайский край</td>\n",
              "      <td>Барнаул</td>\n",
              "      <td>Личные вещи</td>\n",
              "      <td>Детская одежда и обувь</td>\n",
              "      <td>Для девочек</td>\n",
              "      <td>Платья и юбки</td>\n",
              "      <td>146-152 см (10-12 лет)</td>\n",
              "      <td>Платье праздничное для девочки</td>\n",
              "      <td>Очень красивое торг</td>\n",
              "      <td>1500.0</td>\n",
              "      <td>106</td>\n",
              "      <td>2017-04-12</td>\n",
              "      <td>Company</td>\n",
              "      <td>ace7b2b7f066a6b6ff244f90d030c2c1a1bf118dd0e1ac...</td>\n",
              "      <td>573.0</td>\n",
              "    </tr>\n",
              "    <tr>\n",
              "      <th>1</th>\n",
              "      <td>f8c965d9b668</td>\n",
              "      <td>1905516660f5</td>\n",
              "      <td>Свердловская область</td>\n",
              "      <td>Каменск-Уральский</td>\n",
              "      <td>Для дома и дачи</td>\n",
              "      <td>Мебель и интерьер</td>\n",
              "      <td>Кровати, диваны и кресла</td>\n",
              "      <td>NaN</td>\n",
              "      <td>NaN</td>\n",
              "      <td>Кровать двухспальная</td>\n",
              "      <td>Двуспальная кровать 140х200 с металлическим ка...</td>\n",
              "      <td>5700.0</td>\n",
              "      <td>10</td>\n",
              "      <td>2017-04-15</td>\n",
              "      <td>Private</td>\n",
              "      <td>b38ef24dd5b876ed626bd98241e228e4e19e4160d33abe...</td>\n",
              "      <td>1439.0</td>\n",
              "    </tr>\n",
              "    <tr>\n",
              "      <th>2</th>\n",
              "      <td>2f153c00d561</td>\n",
              "      <td>b4dc4849fdd4</td>\n",
              "      <td>Самарская область</td>\n",
              "      <td>Самара</td>\n",
              "      <td>Бытовая электроника</td>\n",
              "      <td>Телефоны</td>\n",
              "      <td>Samsung</td>\n",
              "      <td>NaN</td>\n",
              "      <td>NaN</td>\n",
              "      <td>Samsung S3 mini gt-i8190</td>\n",
              "      <td>Продам телефон самсунг 2 ядра, 1 гиг оперативн...</td>\n",
              "      <td>1500.0</td>\n",
              "      <td>6</td>\n",
              "      <td>2017-04-12</td>\n",
              "      <td>Private</td>\n",
              "      <td>8530cc0c8d5dc6d212497dffd610d89b92a7db952934db...</td>\n",
              "      <td>2932.0</td>\n",
              "    </tr>\n",
              "    <tr>\n",
              "      <th>3</th>\n",
              "      <td>7fc5eea56915</td>\n",
              "      <td>02c14d39fdb4</td>\n",
              "      <td>Саратовская область</td>\n",
              "      <td>Саратов</td>\n",
              "      <td>Личные вещи</td>\n",
              "      <td>Одежда, обувь, аксессуары</td>\n",
              "      <td>Женская одежда</td>\n",
              "      <td>Платья и юбки</td>\n",
              "      <td>44–46 (M)</td>\n",
              "      <td>Красивое платье на одно плечо, в идеале размер м</td>\n",
              "      <td>Заказывала в Сша, прекрасное качество, в деле ...</td>\n",
              "      <td>1000.0</td>\n",
              "      <td>1280</td>\n",
              "      <td>2017-04-13</td>\n",
              "      <td>Company</td>\n",
              "      <td>eb21745ba276d3b00b05856a58fe719e31a82419c0221a...</td>\n",
              "      <td>386.0</td>\n",
              "    </tr>\n",
              "    <tr>\n",
              "      <th>4</th>\n",
              "      <td>b01000d29ea3</td>\n",
              "      <td>b17f14110367</td>\n",
              "      <td>Удмуртия</td>\n",
              "      <td>Ижевск</td>\n",
              "      <td>Личные вещи</td>\n",
              "      <td>Детская одежда и обувь</td>\n",
              "      <td>Для мальчиков</td>\n",
              "      <td>Шапки, варежки, шарфы</td>\n",
              "      <td>NaN</td>\n",
              "      <td>Стильная панама</td>\n",
              "      <td>Состояние новой. Размер до года- полтора.  По ...</td>\n",
              "      <td>150.0</td>\n",
              "      <td>145</td>\n",
              "      <td>2017-04-14</td>\n",
              "      <td>Company</td>\n",
              "      <td>5bf1001fa681b96f121ad8047c85e3747f3dac37830dd0...</td>\n",
              "      <td>209.0</td>\n",
              "    </tr>\n",
              "  </tbody>\n",
              "</table>\n",
              "</div>"
            ],
            "text/plain": [
              "        item_id  ... image_top_1\n",
              "0  793dd3d5f0f0  ...       573.0\n",
              "1  f8c965d9b668  ...      1439.0\n",
              "2  2f153c00d561  ...      2932.0\n",
              "3  7fc5eea56915  ...       386.0\n",
              "4  b01000d29ea3  ...       209.0\n",
              "\n",
              "[5 rows x 17 columns]"
            ]
          },
          "metadata": {
            "tags": []
          },
          "execution_count": 13
        }
      ]
    },
    {
      "cell_type": "code",
      "metadata": {
        "id": "JO1BF_bApEYZ",
        "colab_type": "code",
        "colab": {}
      },
      "source": [
        ""
      ],
      "execution_count": 0,
      "outputs": []
    }
  ]
}