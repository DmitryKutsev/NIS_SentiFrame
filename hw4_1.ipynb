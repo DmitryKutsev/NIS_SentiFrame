{
  "nbformat": 4,
  "nbformat_minor": 0,
  "metadata": {
    "colab": {
      "name": "Untitled12.ipynb",
      "provenance": [],
      "authorship_tag": "ABX9TyNBWx3m72PETauWXFqRWlo9",
      "include_colab_link": true
    },
    "kernelspec": {
      "name": "python3",
      "display_name": "Python 3"
    }
  },
  "cells": [
    {
      "cell_type": "markdown",
      "metadata": {
        "id": "view-in-github",
        "colab_type": "text"
      },
      "source": [
        "<a href=\"https://colab.research.google.com/github/DmitryKutsev/NIS_SentiFrame/blob/master/hw4_1.ipynb\" target=\"_parent\"><img src=\"https://colab.research.google.com/assets/colab-badge.svg\" alt=\"Open In Colab\"/></a>"
      ]
    },
    {
      "cell_type": "code",
      "metadata": {
        "id": "xTsrd6RJjFv2",
        "colab_type": "code",
        "colab": {
          "base_uri": "https://localhost:8080/",
          "height": 68
        },
        "outputId": "0a67a692-a480-4afa-b9c8-2f0a21f187e6"
      },
      "source": [
        "\n",
        "!curl --remote-name \\\n",
        "     -H 'Accept: application/vnd.github.v3.raw' \\\n",
        "     --location https://raw.githubusercontent.com/mannefedov/compling_nlp_hse_course/master/data/pristavki.csv"
      ],
      "execution_count": 1,
      "outputs": [
        {
          "output_type": "stream",
          "text": [
            "  % Total    % Received % Xferd  Average Speed   Time    Time     Time  Current\n",
            "                                 Dload  Upload   Total   Spent    Left  Speed\n",
            "100 2870k  100 2870k    0     0  1332k      0  0:00:02  0:00:02 --:--:-- 1332k\n"
          ],
          "name": "stdout"
        }
      ]
    },
    {
      "cell_type": "code",
      "metadata": {
        "id": "0KPs-EpEjqJ1",
        "colab_type": "code",
        "colab": {
          "base_uri": "https://localhost:8080/",
          "height": 340
        },
        "outputId": "d3c05100-ee5d-4918-9bc3-1040e68977d1"
      },
      "source": [
        "!pip install natasha"
      ],
      "execution_count": 2,
      "outputs": [
        {
          "output_type": "stream",
          "text": [
            "Collecting natasha\n",
            "\u001b[?25l  Downloading https://files.pythonhosted.org/packages/4b/9d/3330c5a8c98f45a6f090cc8bfaa1132a58ead75cedec5ac758b2999bf34c/natasha-0.10.0-py2.py3-none-any.whl (777kB)\n",
            "\u001b[K     |████████████████████████████████| 778kB 2.7MB/s \n",
            "\u001b[?25hCollecting yargy\n",
            "\u001b[?25l  Downloading https://files.pythonhosted.org/packages/37/64/d6abf637228bed6b0249b522f588d19dca9f09ab65db13bef41096f51889/yargy-0.12.0-py2.py3-none-any.whl (41kB)\n",
            "\u001b[K     |████████████████████████████████| 51kB 6.9MB/s \n",
            "\u001b[?25hCollecting backports.functools-lru-cache==1.3\n",
            "  Downloading https://files.pythonhosted.org/packages/d4/40/0b1db94fdfd71353ae67ec444ff28e0a7ecc25212d1cb94c291b6cd226f9/backports.functools_lru_cache-1.3-py2.py3-none-any.whl\n",
            "Collecting pymorphy2==0.8\n",
            "\u001b[?25l  Downloading https://files.pythonhosted.org/packages/a3/33/fff9675c68b5f6c63ec8c6e6ff57827dda28a1fa5b2c2d727dffff92dd47/pymorphy2-0.8-py2.py3-none-any.whl (46kB)\n",
            "\u001b[K     |████████████████████████████████| 51kB 3.4MB/s \n",
            "\u001b[?25hCollecting pymorphy2-dicts<3.0,>=2.4\n",
            "\u001b[?25l  Downloading https://files.pythonhosted.org/packages/02/51/2465fd4f72328ab50877b54777764d928da8cb15b74e2680fc1bd8cb3173/pymorphy2_dicts-2.4.393442.3710985-py2.py3-none-any.whl (7.1MB)\n",
            "\u001b[K     |████████████████████████████████| 7.1MB 13.7MB/s \n",
            "\u001b[?25hCollecting dawg-python>=0.7\n",
            "  Downloading https://files.pythonhosted.org/packages/6a/84/ff1ce2071d4c650ec85745766c0047ccc3b5036f1d03559fd46bb38b5eeb/DAWG_Python-0.7.2-py2.py3-none-any.whl\n",
            "Requirement already satisfied: docopt>=0.6 in /usr/local/lib/python3.6/dist-packages (from pymorphy2==0.8->yargy->natasha) (0.6.2)\n",
            "Installing collected packages: backports.functools-lru-cache, pymorphy2-dicts, dawg-python, pymorphy2, yargy, natasha\n",
            "Successfully installed backports.functools-lru-cache-1.3 dawg-python-0.7.2 natasha-0.10.0 pymorphy2-0.8 pymorphy2-dicts-2.4.393442.3710985 yargy-0.12.0\n"
          ],
          "name": "stdout"
        }
      ]
    },
    {
      "cell_type": "code",
      "metadata": {
        "id": "FfPGSTSpl5Fx",
        "colab_type": "code",
        "colab": {}
      },
      "source": [
        "from natasha import (NamesExtractor,\n",
        "                     SimpleNamesExtractor,\n",
        "                     PersonExtractor,\n",
        "                     LocationExtractor,\n",
        "                     AddressExtractor,\n",
        "                     OrganisationExtractor,\n",
        "                     DatesExtractor,\n",
        "                     MoneyExtractor,\n",
        "                     MoneyRateExtractor,\n",
        "                     MoneyRangeExtractor)\n",
        "\n",
        "from natasha.markup import (show_markup_notebook as show_markup,\n",
        "                            format_json)"
      ],
      "execution_count": 0,
      "outputs": []
    },
    {
      "cell_type": "code",
      "metadata": {
        "id": "Z_rLcJxpl83_",
        "colab_type": "code",
        "colab": {
          "base_uri": "https://localhost:8080/",
          "height": 34
        },
        "outputId": "3c989ff1-5d3c-4d1d-e35e-0714d418d9d3"
      },
      "source": [
        "\n",
        "text = 'ФСБ. Московский государственный университет. Высшая школа экономики. ВШЭ. Mail.ru '\n",
        "\n",
        "extractor_per = NamesExtractor()\n",
        "matches = extractor_per(text)\n",
        "spans = [_.span for _ in matches]\n",
        "facts = [_.fact.as_json for _ in matches]\n",
        "show_markup(text, spans)\n",
        "# print(format_json(facts))"
      ],
      "execution_count": 5,
      "outputs": [
        {
          "output_type": "display_data",
          "data": {
            "text/html": [
              "<style>\n",
              "\n",
              ".markup {\n",
              "    white-space: pre-wrap;\n",
              "}\n",
              "\n",
              ".markup > mark {\n",
              "    padding: 0.15em;\n",
              "    border-radius: 0.25em;\n",
              "    border: 1px solid #fdf07c;\n",
              "    background: #ffffc2;\n",
              "}\n",
              "    </style><div class=\"markup tex2jax_ignore\">ФСБ. Московский государственный университет. Высшая школа экономики. ВШЭ. Mail.ru </div>"
            ],
            "text/plain": [
              "<IPython.core.display.HTML object>"
            ]
          },
          "metadata": {
            "tags": []
          }
        }
      ]
    },
    {
      "cell_type": "code",
      "metadata": {
        "id": "L8QQKBYBmPmn",
        "colab_type": "code",
        "colab": {}
      },
      "source": [
        "\n",
        "import pandas as pd\n",
        "pd.set_option('display.max_colwidth', -1)"
      ],
      "execution_count": 0,
      "outputs": []
    },
    {
      "cell_type": "code",
      "metadata": {
        "id": "PhbpScbKmf_v",
        "colab_type": "code",
        "colab": {}
      },
      "source": [
        "data = pd.read_csv('pristavki.csv', header=None, names=['text'])"
      ],
      "execution_count": 0,
      "outputs": []
    },
    {
      "cell_type": "code",
      "metadata": {
        "id": "hlvgGHpXmhsw",
        "colab_type": "code",
        "colab": {
          "base_uri": "https://localhost:8080/",
          "height": 34
        },
        "outputId": "ec8b9f2d-9b16-4c08-b671-ebb6522592fc"
      },
      "source": [
        "\n",
        "data.shape"
      ],
      "execution_count": 8,
      "outputs": [
        {
          "output_type": "execute_result",
          "data": {
            "text/plain": [
              "(9285, 1)"
            ]
          },
          "metadata": {
            "tags": []
          },
          "execution_count": 8
        }
      ]
    },
    {
      "cell_type": "code",
      "metadata": {
        "id": "wkRQFN25mjMw",
        "colab_type": "code",
        "colab": {}
      },
      "source": [
        "\n",
        "from yargy import Parser, rule, or_\n",
        "from yargy.predicates import in_, in_caseless\n",
        "from yargy.tokenizer import MorphTokenizer\n",
        "from yargy.pipelines import morph_pipeline, caseless_pipeline\n",
        "from yargy.interpretation import fact\n",
        "from IPython.display import display"
      ],
      "execution_count": 0,
      "outputs": []
    },
    {
      "cell_type": "code",
      "metadata": {
        "id": "Wiu0ol1FmlRA",
        "colab_type": "code",
        "colab": {}
      },
      "source": [
        "Accs = fact(\n",
        "    'Accessory',\n",
        "    ['name', 'console']\n",
        ")"
      ],
      "execution_count": 0,
      "outputs": []
    },
    {
      "cell_type": "code",
      "metadata": {
        "id": "tVs4qhNQmy9Y",
        "colab_type": "code",
        "colab": {}
      },
      "source": [
        "Games = rule(\n",
        "    morph_pipeline(['Fallout', 'Ведьмак', 'Batman', 'Wolfenstein', 'UFC', 'Minecraft', 'Battlefield', 'Watch Dogs', 'FarCry', 'Call of Duty', 'GTA', 'Kill Zone', 'Орден', 'Second son', 'Garden warfare']).interpretation(Game.name),\n",
        "    morph_pipeline(['1', '2', '3', '4', '5']).interpretation(Game.version).optional()\n",
        ")"
      ],
      "execution_count": 0,
      "outputs": []
    },
    {
      "cell_type": "code",
      "metadata": {
        "id": "BKCqnAqFpIh-",
        "colab_type": "code",
        "colab": {}
      },
      "source": [
        "IGRA = (Games).interpretation(Game)\n",
        "\n",
        "parser = Parser(IGRA) # создаем парсер, которым будем проходить по тексту"
      ],
      "execution_count": 0,
      "outputs": []
    },
    {
      "cell_type": "code",
      "metadata": {
        "id": "YYQE4eltpgCO",
        "colab_type": "code",
        "colab": {}
      },
      "source": [
        "matches = []\n",
        "\n",
        "for sent in data.text[:1000]:\n",
        "    for match in parser.findall(sent):\n",
        "        matches.append(match.fact)"
      ],
      "execution_count": 0,
      "outputs": []
    },
    {
      "cell_type": "code",
      "metadata": {
        "id": "esLTx69zp3MT",
        "colab_type": "code",
        "colab": {
          "base_uri": "https://localhost:8080/",
          "height": 1000
        },
        "outputId": "aa312d15-660d-425c-c19f-583ce101bcc0"
      },
      "source": [
        "for m in matches:\n",
        "    print(m.name, m.version)"
      ],
      "execution_count": 23,
      "outputs": [
        {
          "output_type": "stream",
          "text": [
            "GTA 5\n",
            "Call of Duty None\n",
            "Call of Duty 4\n",
            "Call of Duty None\n",
            "Battlefield 3\n",
            "Farcry 3\n",
            "gta 5\n",
            "Battlefield 4\n",
            "GTA None\n",
            "Battlefield None\n",
            "Battlefield None\n",
            "Call Of Duty None\n",
            "Call Of Duty None\n",
            "Battlefield 4\n",
            "GTA 5\n",
            "Battlefield 4\n",
            "Battlefield 4\n",
            "second son None\n",
            "Minecraft None\n",
            "Call of Duty None\n",
            "GTA None\n",
            "Fallout None\n",
            "Ведьмак None\n",
            "Batman None\n",
            "Wolfenstein None\n",
            "UFC None\n",
            "Watch dogs None\n",
            "Wolfenstein None\n",
            "GTA None\n",
            "Watch Dogs None\n",
            "FarCry 4\n",
            "Call of Duty None\n",
            "GTA 5\n",
            "Kill Zone None\n",
            "Орден None\n",
            "Second son None\n",
            "Garden warfare None\n",
            "GTA None\n",
            "second son None\n",
            "Battlefield 3\n",
            "Ufc None\n",
            "watch dogs 2\n",
            "GTA 5\n",
            "GTA None\n",
            "Farcry 4\n",
            "GTA None\n",
            "Watch dogs None\n",
            "Battlefield 1\n",
            "GTA None\n",
            "Batman None\n",
            "GTA 4\n",
            "UFC 2\n",
            "gta 5\n",
            "GTA 5\n",
            "Ведьмак 3\n",
            "UFC 2\n",
            "Minecraft None\n",
            "gta None\n",
            "ведьмак 2\n",
            "fallout 4\n",
            "UFC None\n",
            "GTA None\n",
            "GTA 5\n",
            "ufc 2\n",
            "ведьмак 3\n",
            "Ufc 2\n",
            "battlefield 4\n",
            "Call of Duty None\n",
            "Garden Warfare None\n",
            "gta 5\n",
            "gta None\n",
            "battlefield 1\n",
            "Fallout 3\n",
            "Fallout None\n",
            "Watch dogs 2\n",
            "FarCry 3\n",
            "FarCry 4\n",
            "Call of Duty None\n",
            "GTA 5\n",
            "fallout 4\n",
            "GTA 5\n",
            "GTA None\n",
            "Gta 5\n",
            "Watch dogs 2\n",
            "Watch Dogs None\n",
            "Battlefield 4\n",
            "GTA 5\n",
            "GTA None\n",
            "watch dogs 2\n",
            "battlefield 1\n",
            "GTA 5\n",
            "Battlefield None\n",
            "Farcry 4\n",
            "Battlefield 4\n",
            "gta None\n",
            "Call of duty None\n",
            "Battlefield 4\n",
            "ВЕДЬМАК None\n",
            "Call of Duty None\n",
            "Gta None\n",
            "watch dogs 2\n",
            "GTA 5\n",
            "Call of Duty None\n",
            "Орден None\n",
            "GTA 5\n",
            "GTA None\n",
            "gta 5\n",
            "ufc None\n",
            "battlefield 4\n",
            "GTA 5\n",
            "Farcry None\n",
            "Ведьмак 3\n",
            "Ведьмак 3\n",
            "Battlefield None\n",
            "Fallout 3\n",
            "Watch dogs None\n",
            "GTA 5\n",
            "ведьмак 3\n",
            "ведьмак None\n",
            "Minecraft None\n",
            "gta 5\n",
            "Ведьмак 3\n",
            "GTA None\n",
            "Battlefield 4\n",
            "Орден None\n",
            "ордена None\n",
            "Watch dogs None\n",
            "Batman None\n",
            "GTA 5\n",
            "Second Son None\n",
            "GTA None\n",
            "gta None\n",
            "Ведьмак 3\n",
            "batman None\n",
            "fallout 4\n",
            "farcry None\n",
            "Gta 5\n",
            "Ведьмак 2\n",
            "Garden Warfare 2\n",
            "FarCry 4\n",
            "Call Of Duty None\n",
            "UFC None\n",
            "Farcry 4\n",
            "UFC None\n",
            "Wolfenstein None\n",
            "Wolfenstein None\n",
            "орден None\n",
            "Ведьмак 2\n",
            "GTA None\n",
            "gta 5\n",
            "Battlefield 3\n",
            "GTA 5\n",
            "Batman None\n",
            "Call of Duty None\n",
            "Call of Duty None\n",
            "Call of Duty None\n",
            "GTA 4\n",
            "GTA None\n",
            "UFC 3\n",
            "Call of Duty None\n",
            "GTA 5\n",
            "Watch Dogs None\n",
            "Call Of Duty None\n",
            "Battlefield 4\n",
            "Battlefield None\n",
            "GTA 4\n",
            "GTA 5\n",
            "Watch Dogs 2\n",
            "FARCRY 3\n",
            "CALL OF DUTY None\n",
            "Minecraft None\n",
            "Batman 3\n",
            "Gta 4\n",
            "Call of Duty None\n",
            "GTA 5\n",
            "Watch Dogs None\n",
            "Battlefield 3\n",
            "Batman None\n",
            "gta 5\n",
            "GTA 5\n",
            "Watch Dogs None\n",
            "Farcry None\n",
            "call of duty None\n",
            "Call of Duty None\n",
            "Wolfenstein None\n",
            "Wolfenstein None\n",
            "Battlefield None\n",
            "Battlefield 3\n",
            "Battlefield 4\n",
            "Batman None\n",
            "Batman None\n",
            "GTA 4\n",
            "Watch dogs 2\n",
            "Call of duty None\n",
            "Kill Zone 3\n",
            "GTA 5\n",
            "BattleField 1\n",
            "Battlefield 4\n",
            "Watch Dogs None\n",
            "gta 4\n",
            "gta 5\n",
            "farcry 3\n",
            "Batman None\n",
            "Batman None\n",
            "Batman None\n",
            "Batman None\n",
            "Batman None\n",
            "Batman None\n",
            "call of duty None\n",
            "GTA None\n",
            "GTA 5\n",
            "UFC 3\n",
            "Batman None\n",
            "fallout 4\n",
            "minecraft None\n",
            "fallout 3\n",
            "BATTLEFIELD 1\n",
            "ведьмак 3\n",
            "Watch dogs None\n",
            "Watch Dogs 2\n",
            "Watch Dogs 2\n",
            "UFC None\n",
            "Ведьмак 3\n",
            "Call of Duty None\n",
            "Watch dogs None\n",
            "gta 5\n",
            "UFC 2\n",
            "Battlefield None\n",
            "Call of duty None\n"
          ],
          "name": "stdout"
        }
      ]
    },
    {
      "cell_type": "code",
      "metadata": {
        "id": "ahwX0p73p5Pu",
        "colab_type": "code",
        "colab": {
          "base_uri": "https://localhost:8080/",
          "height": 34
        },
        "outputId": "f542a743-715c-4ad3-f820-a309b6b29aca"
      },
      "source": [
        "print(len(matches))"
      ],
      "execution_count": 24,
      "outputs": [
        {
          "output_type": "stream",
          "text": [
            "229\n"
          ],
          "name": "stdout"
        }
      ]
    },
    {
      "cell_type": "code",
      "metadata": {
        "id": "d7cImIKK79BY",
        "colab_type": "code",
        "colab": {}
      },
      "source": [
        ""
      ],
      "execution_count": 0,
      "outputs": []
    }
  ]
}