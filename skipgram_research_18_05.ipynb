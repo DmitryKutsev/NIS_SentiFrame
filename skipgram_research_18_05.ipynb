{
  "nbformat": 4,
  "nbformat_minor": 0,
  "metadata": {
    "colab": {
      "name": "skipgram_research_18_05",
      "provenance": [],
      "authorship_tag": "ABX9TyPjtQExYGbe2GiUvjssHpEO",
      "include_colab_link": true
    },
    "kernelspec": {
      "name": "python3",
      "display_name": "Python 3"
    }
  },
  "cells": [
    {
      "cell_type": "markdown",
      "metadata": {
        "id": "view-in-github",
        "colab_type": "text"
      },
      "source": [
        "<a href=\"https://colab.research.google.com/github/DmitryKutsev/NIS_SentiFrame/blob/master/skipgram_research_18_05.ipynb\" target=\"_parent\"><img src=\"https://colab.research.google.com/assets/colab-badge.svg\" alt=\"Open In Colab\"/></a>"
      ]
    },
    {
      "cell_type": "code",
      "metadata": {
        "id": "dtKwr2TKjj4L",
        "colab_type": "code",
        "colab": {}
      },
      "source": [
        ""
      ],
      "execution_count": 0,
      "outputs": []
    },
    {
      "cell_type": "code",
      "metadata": {
        "id": "0pmfD_qRGnTp",
        "colab_type": "code",
        "colab": {}
      },
      "source": [
        "%%capture\n",
        "!pip install pymorphy2[fast]"
      ],
      "execution_count": 0,
      "outputs": []
    },
    {
      "cell_type": "code",
      "metadata": {
        "id": "Li86rx1Velyo",
        "colab_type": "code",
        "colab": {}
      },
      "source": [
        "import gensim\n",
        "from collections import Counter\n",
        "import json\n",
        "import pandas as pd\n",
        "import numpy as np\n",
        "import matplotlib.pyplot as plt\n",
        "from os import listdir\n",
        "from sklearn.metrics.pairwise import cosine_similarity\n",
        "import pymorphy2\n",
        "morph = pymorphy2.MorphAnalyzer()"
      ],
      "execution_count": 0,
      "outputs": []
    },
    {
      "cell_type": "code",
      "metadata": {
        "id": "Ou8kqXReel1C",
        "colab_type": "code",
        "colab": {}
      },
      "source": [
        "%%capture\n",
        "# at least two mutual negative attitudes\n",
        "!wget https://raw.githubusercontent.com/DmitryKutsev/NIS_SentiFrame/master/grouped_verb_lists/neg_a0_a1_mutual.json\n",
        "!wget https://raw.githubusercontent.com/DmitryKutsev/NIS_SentiFrame/master/grouped_verb_lists/neg_a0_a2_mutual.json\n",
        "!wget https://raw.githubusercontent.com/DmitryKutsev/NIS_SentiFrame/master/grouped_verb_lists/neg_a1_a2_mutual.json\n",
        "\n",
        "# at least two mutual positive attitudes\n",
        "!wget https://raw.githubusercontent.com/DmitryKutsev/NIS_SentiFrame/master/grouped_verb_lists/pos_a0_a1_mutual.json\n",
        "!wget https://raw.githubusercontent.com/DmitryKutsev/NIS_SentiFrame/master/grouped_verb_lists/pos_a0_a2_mutual.json\n",
        "!wget https://raw.githubusercontent.com/DmitryKutsev/NIS_SentiFrame/master/grouped_verb_lists/pos_a1_a2_mutual.json\n",
        "\n",
        "# at least two opposite attitudes (only a0/a1 show opposite attitudes toward each other)\n",
        "!wget https://raw.githubusercontent.com/DmitryKutsev/NIS_SentiFrame/master/grouped_verb_lists/opp_a0_a1_candidates_l.json"
      ],
      "execution_count": 0,
      "outputs": []
    },
    {
      "cell_type": "code",
      "metadata": {
        "id": "cPWHs9_f-4go",
        "colab_type": "code",
        "colab": {}
      },
      "source": [
        "# !wget https://raw.githubusercontent.com/nicolay-r/RuSentiFrames/master/collection.json\n",
        "with open(\"collection.json\", \"r\", encoding=\"utf-8\") as f:\n",
        "  collection = json.load(f)\n",
        "# !rm collection.json"
      ],
      "execution_count": 0,
      "outputs": []
    },
    {
      "cell_type": "code",
      "metadata": {
        "id": "0pJtUpucelwf",
        "colab_type": "code",
        "colab": {}
      },
      "source": [
        "%%capture\n",
        "# taiga model\n",
        "!wget http://vectors.nlpl.eu/repository/20/185.zip"
      ],
      "execution_count": 0,
      "outputs": []
    },
    {
      "cell_type": "code",
      "metadata": {
        "id": "qRvs3c2TrMfq",
        "colab_type": "code",
        "outputId": "d31141c0-83aa-4d24-dee1-4a0638c95828",
        "colab": {
          "base_uri": "https://localhost:8080/",
          "height": 71
        }
      },
      "source": [
        "import zipfile\n",
        "model_url = 'http://vectors.nlpl.eu/repository/20/185.zip'\n",
        "# m = wget.download(model_url)\n",
        "model_file = model_url.split('/')[-1]\n",
        "with zipfile.ZipFile(model_file, 'r') as archive:\n",
        "    stream = archive.open('model.bin')\n",
        "    skipgram_model = gensim.models.KeyedVectors.load_word2vec_format(stream, binary=True)"
      ],
      "execution_count": 9,
      "outputs": [
        {
          "output_type": "stream",
          "text": [
            "/usr/local/lib/python3.6/dist-packages/smart_open/smart_open_lib.py:253: UserWarning: This function is deprecated, use smart_open.open instead. See the migration notes for details: https://github.com/RaRe-Technologies/smart_open/blob/master/README.rst#migrating-to-the-new-open-function\n",
            "  'See the migration notes for details: %s' % _MIGRATION_NOTES_URL\n"
          ],
          "name": "stderr"
        }
      ]
    },
    {
      "cell_type": "code",
      "metadata": {
        "id": "KYWMByktuP7L",
        "colab_type": "code",
        "colab": {}
      },
      "source": [
        "def make_seed_embedding(seed_dict, model):\n",
        "  '''\n",
        "  Принимает на вход список, на выходе дает средний вектор всех слов из этого списка\n",
        "  '''\n",
        "  summ = 0\n",
        "  if model == skipgram_model:\n",
        "    for verb in seed_dict:\n",
        "      summ = summ + model[verb + '_VERB']\n",
        "    return summ/len(seed_dict)"
      ],
      "execution_count": 0,
      "outputs": []
    },
    {
      "cell_type": "markdown",
      "metadata": {
        "id": "IGeU_mPbvgFg",
        "colab_type": "text"
      },
      "source": [
        "#Добавим близость к оси"
      ]
    },
    {
      "cell_type": "code",
      "metadata": {
        "id": "KJb3yDyC_zt7",
        "colab_type": "code",
        "colab": {}
      },
      "source": [
        "!wget https://github.com/DmitryKutsev/NIS_SentiFrame/raw/master/annotations/polarity_annotation/3annotators_agree_on_these.zip\n",
        "!unzip 3annotators_agree_on_these.zip\n",
        "!rm 3annotators_agree_on_these.zip"
      ],
      "execution_count": 0,
      "outputs": []
    },
    {
      "cell_type": "code",
      "metadata": {
        "id": "n0g945RevfpN",
        "colab_type": "code",
        "colab": {}
      },
      "source": [
        "where_csv_is = 'https://raw.githubusercontent.com/DmitryKutsev/\\\n",
        "NIS_SentiFrame/master/annotations/SENTIFRAME%20-%20case_annotation.csv'\n",
        "df = pd.read_csv(where_csv_is)\n",
        "columns2drop = ['polar_or_not', 'polarity_dima', 'polarity_ira', \n",
        "                'падеж первого аргумента, по умолчанию nomn', \n",
        "                'падеж второго аргумента в нотации pymorphy2, по умолчанию accs', \n",
        "                'rel(А0,A1)', 'rel(А1,A0)']\n",
        "df.drop(columns2drop, axis=1, inplace=True)\n",
        "df.rename(columns={\"polarity_masha\": \"annotation_polarity\"}, inplace=True)"
      ],
      "execution_count": 0,
      "outputs": []
    },
    {
      "cell_type": "markdown",
      "metadata": {
        "id": "flrN6cyCy9cT",
        "colab_type": "text"
      },
      "source": [
        "#Axis approach"
      ]
    },
    {
      "cell_type": "code",
      "metadata": {
        "id": "Fdpn6Xlay3E-",
        "colab_type": "code",
        "colab": {}
      },
      "source": [
        "def compare2axis(word_list, \n",
        "                 positive_seed_list, negative_seed_list, \n",
        "                 model=skipgram_model):\n",
        "    p_seed_emb = make_seed_embedding(positive_seed_list, model=model)\n",
        "    n_seed_emb = make_seed_embedding(negative_seed_list, model=model)\n",
        "    seed_axis = p_seed_emb - n_seed_emb\n",
        "    return cosine_similarity(\n",
        "        np.atleast_2d(make_seed_embedding(word_list, model=model)), \n",
        "        np.atleast_2d(seed_axis))[0][0]"
      ],
      "execution_count": 0,
      "outputs": []
    },
    {
      "cell_type": "code",
      "metadata": {
        "id": "vXxkjRsyXJK8",
        "colab_type": "code",
        "colab": {}
      },
      "source": [
        "def survey(results, category_names):\n",
        "    \"\"\"\n",
        "    Parameters\n",
        "    ----------\n",
        "    results : dict\n",
        "        A mapping from question labels to a list of answers per category.\n",
        "        It is assumed all lists contain the same number of entries and that\n",
        "        it matches the length of *category_names*.\n",
        "    category_names : list of str\n",
        "        The category labels.\n",
        "    \"\"\"\n",
        "    labels = list(results.keys())\n",
        "    data = np.array(list(results.values()))\n",
        "    data_cum = data.cumsum(axis=1)\n",
        "    category_colors = plt.get_cmap('RdYlGn')(\n",
        "        np.linspace(0.15, 0.85, data.shape[1]))\n",
        "\n",
        "    fig, ax = plt.subplots(figsize=(9.2, 5))\n",
        "    ax.invert_yaxis()\n",
        "    ax.xaxis.set_visible(False)\n",
        "    ax.set_xlim(0, np.sum(data, axis=1).max())\n",
        "\n",
        "    for i, (colname, color) in enumerate(zip(category_names, category_colors)):\n",
        "        \n",
        "        widths = data[:, i]\n",
        "        starts = data_cum[:, i] - widths\n",
        "        ax.barh(labels, widths, left=starts, height=0.5,\n",
        "                label=colname, color=color)\n",
        "        xcenters = starts + widths / 2\n",
        "\n",
        "        r, g, b, _ = color\n",
        "        text_color = 'white' if r * g * b < 0.5 else 'darkgrey'\n",
        "        for y, (x, c) in enumerate(zip(xcenters, widths)):\n",
        "            # ax.text(x, y, str(int(c)), ha='center', va='center',\n",
        "            ax.text(x, y, str(round(c, 2)), ha='center', va='center',\n",
        "                    color=text_color)\n",
        "    ax.legend(ncol=len(category_names), bbox_to_anchor=(0, 1),\n",
        "              loc='lower left', fontsize='large')\n",
        "\n",
        "    return fig, ax"
      ],
      "execution_count": 0,
      "outputs": []
    },
    {
      "cell_type": "code",
      "metadata": {
        "id": "Pnh1P-w5MihK",
        "colab_type": "code",
        "colab": {}
      },
      "source": [
        "def percentage(pd_df, less_than=True, threshold=0.2):\n",
        "    total = len(pd_df)\n",
        "    if less_than:\n",
        "        return len(pd_df[(pd_df['skipgram_axis_similarity']<threshold)])/total\n",
        "    else:\n",
        "        return len(pd_df[(pd_df['skipgram_axis_similarity']>threshold)])/total\n",
        "\n",
        "def draw_bars(pd_df, threshold=0.2, list_description='annotated_',\n",
        "              categories = ('neg_labels, %', 'pos_labels, %')):\n",
        "    results = {}\n",
        "    for polarity in range(0, 2):\n",
        "        percentage_list = []\n",
        "        sub_df = pd_df[pd_df['annotation_polarity']==polarity]\n",
        "        for direction in [True, False]:\n",
        "            percentage_list.append(percentage(sub_df, less_than=direction, \n",
        "                                            threshold=threshold))\n",
        "        results.update({'{}{}'.format(list_description, polarity):percentage_list})\n",
        "    return results, list(categories)"
      ],
      "execution_count": 0,
      "outputs": []
    },
    {
      "cell_type": "code",
      "metadata": {
        "id": "fOWUJ-9zg0OK",
        "colab_type": "code",
        "colab": {}
      },
      "source": [
        "def plot_with_seeds(pd_df, threshold, p_seed, n_seed, \n",
        "                    model=skipgram_model, where_word_is='verb'):\n",
        "    pd_df['skipgram_axis_similarity'] = pd_df[where_word_is].apply(\n",
        "        lambda x: compare2axis([x], p_seed, n_seed, model=model))\n",
        "    results, category_names = draw_bars(pd_df=pd_df, threshold=threshold)\n",
        "    survey(results, category_names)\n",
        "    plt.show()"
      ],
      "execution_count": 0,
      "outputs": []
    },
    {
      "cell_type": "code",
      "metadata": {
        "id": "EO28bHzvxl89",
        "colab_type": "code",
        "colab": {}
      },
      "source": [
        "p_multi_seed = ['одобрять', 'хвалить', 'поощрять', 'любить']\n",
        "n_multi_seed = ['ненавидеть', 'убить', 'ругать', 'злиться']\n",
        "p_single_seed = ['ценить']\n",
        "n_single_seed = ['ненавидеть']\n",
        "# n_single_seed = ['убивать']"
      ],
      "execution_count": 0,
      "outputs": []
    },
    {
      "cell_type": "code",
      "metadata": {
        "id": "enQbwTtpVDNy",
        "colab_type": "code",
        "colab": {
          "base_uri": "https://localhost:8080/",
          "height": 335
        },
        "outputId": "454071a4-989d-4c87-837f-a59755480e8e"
      },
      "source": [
        "plot_with_seeds(pd_df=df, threshold=-0.018, \n",
        "                p_seed=p_single_seed, n_seed=n_single_seed)"
      ],
      "execution_count": 188,
      "outputs": [
        {
          "output_type": "display_data",
          "data": {
            "image/png": "[encoded data removed]",
            "text/plain": [
              "<Figure size 662.4x360 with 1 Axes>"
            ]
          },
          "metadata": {
            "tags": [],
            "needs_background": "light"
          }
        }
      ]
    },
    {
      "cell_type": "code",
      "metadata": {
        "id": "ToeH1fkHjUch",
        "colab_type": "code",
        "colab": {}
      },
      "source": [
        "p_multi_seed = ['одобрять', 'хвалить', 'поощрять', 'любить']\n",
        "n_multi_seed = ['ненавидеть', 'убить', 'ругать', 'злиться']\n",
        "\n",
        "for thres in np.arange(-0.2, 0.2, 0.001):\n",
        "    print(round(thres, 4))\n",
        "    plot_with_seeds(pd_df=df, threshold=thres, \n",
        "                    p_seed=p_multi_seed, n_seed=n_multi_seed)\n",
        "# -0.07"
      ],
      "execution_count": 0,
      "outputs": []
    },
    {
      "cell_type": "code",
      "metadata": {
        "id": "oYN2XawumDSi",
        "colab_type": "code",
        "colab": {}
      },
      "source": [
        "p_multi_seed = ['одобрять', 'хвалить', 'поощрять', 'любить',\n",
        "                'обожать', 'восхищаться', 'восторгаться', 'гордиться',\n",
        "                'ценить','превозносить',]\n",
        "n_multi_seed = ['ненавидеть', 'ругать', 'злиться', 'порицать', \n",
        "                'осуждать', 'негодовать', 'обвинять', 'наказывать', \n",
        "                'убивать', 'разрушать',]\n",
        "\n",
        "for thres in np.arange(-0.2, 0.2, 0.001):\n",
        "    print(round(thres, 4))\n",
        "    plot_with_seeds(pd_df=df, threshold=thres, \n",
        "                    p_seed=p_multi_seed, n_seed=n_multi_seed)\n",
        "\n",
        "# -0.049"
      ],
      "execution_count": 0,
      "outputs": []
    }
  ]
}