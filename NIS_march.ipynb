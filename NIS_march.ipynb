{
  "nbformat": 4,
  "nbformat_minor": 0,
  "metadata": {
    "colab": {
      "name": "Untitled30.ipynb",
      "provenance": [],
      "authorship_tag": "ABX9TyMQQa1/1zWi+FfjIzLj7M2N",
      "include_colab_link": true
    },
    "kernelspec": {
      "name": "python3",
      "display_name": "Python 3"
    }
  },
  "cells": [
    {
      "cell_type": "markdown",
      "metadata": {
        "id": "view-in-github",
        "colab_type": "text"
      },
      "source": [
        "<a href=\"https://colab.research.google.com/github/DmitryKutsev/NIS_SentiFrame/blob/master/NIS_march.ipynb\" target=\"_parent\"><img src=\"https://colab.research.google.com/assets/colab-badge.svg\" alt=\"Open In Colab\"/></a>"
      ]
    },
    {
      "cell_type": "markdown",
      "metadata": {
        "id": "VAH3UCVlenKK",
        "colab_type": "text"
      },
      "source": [
        "## **НИС SENTI-FRAME**"
      ]
    },
    {
      "cell_type": "code",
      "metadata": {
        "id": "Li86rx1Velyo",
        "colab_type": "code",
        "colab": {
          "base_uri": "https://localhost:8080/",
          "height": 102
        },
        "outputId": "d369d965-a268-4ac7-ee18-4477d33804bc"
      },
      "source": [
        "!pip install pymorphy2[fast]\n",
        "#!rm collection.json.1 collection.json\n",
        "#!ls\n",
        "import gensim\n",
        "from collections import Counter\n",
        "import json\n",
        "import pandas as pd\n",
        "import numpy as np\n",
        "from sklearn.metrics.pairwise import cosine_distances\n",
        "import pymorphy2\n",
        "morph = pymorphy2.MorphAnalyzer()\n"
      ],
      "execution_count": 5,
      "outputs": [
        {
          "output_type": "stream",
          "text": [
            "Requirement already satisfied: pymorphy2[fast] in /usr/local/lib/python3.6/dist-packages (0.8)\n",
            "Requirement already satisfied: docopt>=0.6 in /usr/local/lib/python3.6/dist-packages (from pymorphy2[fast]) (0.6.2)\n",
            "Requirement already satisfied: pymorphy2-dicts<3.0,>=2.4 in /usr/local/lib/python3.6/dist-packages (from pymorphy2[fast]) (2.4.393442.3710985)\n",
            "Requirement already satisfied: dawg-python>=0.7 in /usr/local/lib/python3.6/dist-packages (from pymorphy2[fast]) (0.7.2)\n",
            "Requirement already satisfied: DAWG>=0.7.3; extra == \"fast\" in /usr/local/lib/python3.6/dist-packages (from pymorphy2[fast]) (0.8.0)\n"
          ],
          "name": "stdout"
        }
      ]
    },
    {
      "cell_type": "code",
      "metadata": {
        "id": "Ou8kqXReel1C",
        "colab_type": "code",
        "colab": {}
      },
      "source": [
        ""
      ],
      "execution_count": 0,
      "outputs": []
    },
    {
      "cell_type": "code",
      "metadata": {
        "id": "zceqDxAqel8w",
        "colab_type": "code",
        "colab": {}
      },
      "source": [
        ""
      ],
      "execution_count": 0,
      "outputs": []
    },
    {
      "cell_type": "code",
      "metadata": {
        "id": "1RzMj8tNf_Fz",
        "colab_type": "code",
        "colab": {}
      },
      "source": [
        ""
      ],
      "execution_count": 0,
      "outputs": []
    },
    {
      "cell_type": "code",
      "metadata": {
        "id": "Ny_vCFuDf_Is",
        "colab_type": "code",
        "colab": {}
      },
      "source": [
        ""
      ],
      "execution_count": 0,
      "outputs": []
    },
    {
      "cell_type": "code",
      "metadata": {
        "id": "QAjCtkeAf_Lf",
        "colab_type": "code",
        "colab": {}
      },
      "source": [
        ""
      ],
      "execution_count": 0,
      "outputs": []
    },
    {
      "cell_type": "code",
      "metadata": {
        "id": "XooWBJ-Nf_OO",
        "colab_type": "code",
        "colab": {}
      },
      "source": [
        ""
      ],
      "execution_count": 0,
      "outputs": []
    },
    {
      "cell_type": "code",
      "metadata": {
        "id": "A0leLiE8f_Q1",
        "colab_type": "code",
        "colab": {}
      },
      "source": [
        ""
      ],
      "execution_count": 0,
      "outputs": []
    },
    {
      "cell_type": "markdown",
      "metadata": {
        "id": "atEYaBGCfk3r",
        "colab_type": "text"
      },
      "source": [
        "## **Импорт с Rusvectores skipgram и fasttext модлей, обученных на корпусе Тайга.**"
      ]
    },
    {
      "cell_type": "code",
      "metadata": {
        "id": "0pJtUpucelwf",
        "colab_type": "code",
        "colab": {
          "base_uri": "https://localhost:8080/",
          "height": 697
        },
        "outputId": "8a3a71df-e737-412d-fe59-6a119b5e3579"
      },
      "source": [
        "!wget https://raw.githubusercontent.com/nicolay-r/RuSentiFrames/master/collection.json\n",
        "!wget rusvectores.org/static/models/rusvectores2/news_mystem_skipgram_1000_20_2015.bin.gz\n",
        "!wget http://vectors.nlpl.eu/repository/20/187.zip\n",
        "!unzip 187.zip"
      ],
      "execution_count": 2,
      "outputs": [
        {
          "output_type": "stream",
          "text": [
            "--2020-03-10 08:11:53--  https://raw.githubusercontent.com/nicolay-r/RuSentiFrames/master/collection.json\n",
            "Resolving raw.githubusercontent.com (raw.githubusercontent.com)... 151.101.0.133, 151.101.64.133, 151.101.128.133, ...\n",
            "Connecting to raw.githubusercontent.com (raw.githubusercontent.com)|151.101.0.133|:443... connected.\n",
            "HTTP request sent, awaiting response... 200 OK\n",
            "Length: 606414 (592K) [text/plain]\n",
            "Saving to: ‘collection.json’\n",
            "\n",
            "\rcollection.json       0%[                    ]       0  --.-KB/s               \rcollection.json     100%[===================>] 592.20K  --.-KB/s    in 0.04s   \n",
            "\n",
            "2020-03-10 08:11:54 (15.4 MB/s) - ‘collection.json’ saved [606414/606414]\n",
            "\n",
            "--2020-03-10 08:11:55--  http://rusvectores.org/static/models/rusvectores2/news_mystem_skipgram_1000_20_2015.bin.gz\n",
            "Resolving rusvectores.org (rusvectores.org)... 116.203.104.23\n",
            "Connecting to rusvectores.org (rusvectores.org)|116.203.104.23|:80... connected.\n",
            "HTTP request sent, awaiting response... 200 OK\n",
            "Length: 549952184 (524M) [application/x-gzip]\n",
            "Saving to: ‘news_mystem_skipgram_1000_20_2015.bin.gz’\n",
            "\n",
            "news_mystem_skipgra 100%[===================>] 524.47M  19.8MB/s    in 27s     \n",
            "\n",
            "2020-03-10 08:12:22 (19.5 MB/s) - ‘news_mystem_skipgram_1000_20_2015.bin.gz’ saved [549952184/549952184]\n",
            "\n",
            "--2020-03-10 08:12:23--  http://vectors.nlpl.eu/repository/20/187.zip\n",
            "Resolving vectors.nlpl.eu (vectors.nlpl.eu)... 129.240.189.225\n",
            "Connecting to vectors.nlpl.eu (vectors.nlpl.eu)|129.240.189.225|:80... connected.\n",
            "HTTP request sent, awaiting response... 200 OK\n",
            "Length: 2692389554 (2.5G) [application/zip]\n",
            "Saving to: ‘187.zip’\n",
            "\n",
            "187.zip             100%[===================>]   2.51G  16.6MB/s    in 3m 26s  \n",
            "\n",
            "2020-03-10 08:15:50 (12.5 MB/s) - ‘187.zip’ saved [2692389554/2692389554]\n",
            "\n",
            "Archive:  187.zip\n",
            "  inflating: meta.json               \n",
            "  inflating: model.model             \n",
            "  inflating: model.model.vectors_ngrams.npy  \n",
            "  inflating: model.model.vectors.npy  \n",
            "  inflating: model.model.vectors_vocab.npy  \n",
            "  inflating: README                  \n"
          ],
          "name": "stdout"
        }
      ]
    },
    {
      "cell_type": "code",
      "metadata": {
        "id": "axlA3roafGib",
        "colab_type": "code",
        "colab": {
          "base_uri": "https://localhost:8080/",
          "height": 71
        },
        "outputId": "d3f5e1e7-fa12-4774-ae1a-3dc789db564e"
      },
      "source": [
        "collection_handler = open(\"collection.json\", \"r\", encoding=\"utf-8\")\n",
        "collection = json.load(collection_handler, encoding=\"utf-8\")\n",
        "skipgram_model = gensim.models.KeyedVectors.load_word2vec_format('news_mystem_skipgram_1000_20_2015.bin.gz', binary=True)\n",
        "fasttext_model = gensim.models.KeyedVectors.load(\"model.model\")"
      ],
      "execution_count": 6,
      "outputs": [
        {
          "output_type": "stream",
          "text": [
            "/usr/local/lib/python3.6/dist-packages/smart_open/smart_open_lib.py:402: UserWarning: This function is deprecated, use smart_open.open instead. See the migration notes for details: https://github.com/RaRe-Technologies/smart_open/blob/master/README.rst#migrating-to-the-new-open-function\n",
            "  'See the migration notes for details: %s' % _MIGRATION_NOTES_URL\n"
          ],
          "name": "stderr"
        }
      ]
    },
    {
      "cell_type": "markdown",
      "metadata": {
        "id": "0l-3hS81teou",
        "colab_type": "text"
      },
      "source": [
        "## **В процессе формирования сидовых множеств выяснилось, что косинусная дистанция очень сильно зависит от количества слов в сидовом множестве. Вот несколько примеров:**"
      ]
    },
    {
      "cell_type": "code",
      "metadata": {
        "id": "IJi3CX4MfbVh",
        "colab_type": "code",
        "colab": {}
      },
      "source": [
        "seed_1_dict = ['одобрять']\n",
        "seed_2_dict = ['негодовать']\n",
        "seed_3_dict = ['убивать']\n",
        "seed_4_dict = ['хвалить']\n",
        "seed_5_dict = ['убивать', 'негодовать']\n",
        "seed_6_dict = ['хвалить', 'одобрять']\n",
        "def make_seed_embedding(seed_dict, model):\n",
        "  '''\n",
        "  Принимает на вход список, на выходе дает средний вектор всех слов из этого списка\n",
        "  '''\n",
        "  summ = 0\n",
        "  if model == skipgram_model:\n",
        "    for verb in seed_dict:\n",
        "      summ = summ + model[verb + '_V']\n",
        "    vector = summ/len(seed_dict)\n",
        "  else:\n",
        "    for verb in seed_dict:\n",
        "      summ = summ + model.get_vector(verb)\n",
        "    vector = summ/len(seed_dict)\n",
        "\n",
        "  return vector\n",
        "seed_1_skipgram = make_seed_embedding(seed_1_dict, skipgram_model)\n",
        "seed_1_fasttext = make_seed_embedding(seed_1_dict, fasttext_model)\n",
        "\n",
        "seed_2_skipgram = make_seed_embedding(seed_2_dict, skipgram_model)\n",
        "seed_2_fasttext = make_seed_embedding(seed_2_dict, fasttext_model)\n",
        "\n",
        "seed_3_skipgram = make_seed_embedding(seed_3_dict, skipgram_model)\n",
        "seed_3_fasttext = make_seed_embedding(seed_3_dict, fasttext_model)\n",
        "\n",
        "seed_4_skipgram = make_seed_embedding(seed_4_dict, skipgram_model)\n",
        "seed_4_fasttext = make_seed_embedding(seed_4_dict, fasttext_model)\n",
        "\n",
        "seed_5_skipgram = make_seed_embedding(seed_5_dict, skipgram_model)\n",
        "seed_5_fasttext = make_seed_embedding(seed_5_dict, fasttext_model)\n",
        "\n",
        "\n",
        "seed_6_skipgram = make_seed_embedding(seed_6_dict, skipgram_model)\n",
        "seed_6_fasttext = make_seed_embedding(seed_6_dict, fasttext_model)\n"
      ],
      "execution_count": 0,
      "outputs": []
    },
    {
      "cell_type": "code",
      "metadata": {
        "id": "RxhKr1aXgTzf",
        "colab_type": "code",
        "colab": {
          "base_uri": "https://localhost:8080/",
          "height": 68
        },
        "outputId": "6a2c01d3-e4b3-47ec-da15-f1862dc9d928"
      },
      "source": [
        "similarity = cosine_distances(np.atleast_2d(seed_1_skipgram), np.atleast_2d(seed_2_skipgram))\n",
        "similarity2 = cosine_distances(np.atleast_2d(seed_3_skipgram), np.atleast_2d(seed_4_skipgram))\n",
        "similarity3 = cosine_distances(np.atleast_2d(seed_5_skipgram), np.atleast_2d(seed_6_skipgram))\n",
        "print(similarity, 'одобрять-негодовать')\n",
        "print(similarity2, 'убивать-хвалить')\n",
        "print(similarity3, 'одобрять, негодовать - убивать, хвалить')"
      ],
      "execution_count": 34,
      "outputs": [
        {
          "output_type": "stream",
          "text": [
            "[[0.8885118]] одобрять-негодовать\n",
            "[[0.8539348]] убивать-хвалить\n",
            "[[0.6935718]] одобрять, негодовать - убивать, хвалить\n"
          ],
          "name": "stdout"
        }
      ]
    },
    {
      "cell_type": "code",
      "metadata": {
        "id": "MYJz-V78g7Rv",
        "colab_type": "code",
        "colab": {}
      },
      "source": [
        "def add_sim_list(model, my_verbs_list, seed_vector):\n",
        "  '''\n",
        "  Принимает на вход модель, как назвать результирующую колонку в датафрейме,\n",
        "  словарь из глаголов, и средний вектор сидового множества.\n",
        "  записывает колонку в датафрейм, возвращает словарь косинусных расстояний\n",
        "  '''\n",
        "  sim_list = []\n",
        "  if model == skipgram_model:  \n",
        "    for verb in my_verbs_list:\n",
        "        try:\n",
        "          similarity = cosine_distances(np.atleast_2d(model[verb + '_V']), np.atleast_2d(seed_vector))\n",
        "        except KeyError as e:\n",
        "          similarity = 'verb is not in model dict'\n",
        "        sim_list.append(similarity)\n",
        "  else:\n",
        "    for verb in my_verbs_list:\n",
        "      try:\n",
        "        similarity = cosine_distances(np.atleast_2d(model.get_vector(verb)), np.atleast_2d(seed_vector))\n",
        "      except (KeyError, AttributeError) as e:\n",
        "        similarity = 'verb is not in model dict'\n",
        "      sim_list.append(similarity)\n",
        "  print(len(sim_list))\n",
        "  print(len(my_verbs_list))\n",
        "\n",
        "  #dataframe[df_pos] = sim_list\n",
        "  return sim_list"
      ],
      "execution_count": 0,
      "outputs": []
    }
  ]
}