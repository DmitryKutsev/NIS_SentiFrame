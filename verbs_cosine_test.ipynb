{
  "nbformat": 4,
  "nbformat_minor": 0,
  "metadata": {
    "colab": {
      "name": "Untitled24.ipynb",
      "provenance": [],
      "authorship_tag": "ABX9TyO6I5YJZm7Oj6BSKgUWZ88B",
      "include_colab_link": true
    },
    "kernelspec": {
      "name": "python3",
      "display_name": "Python 3"
    }
  },
  "cells": [
    {
      "cell_type": "markdown",
      "metadata": {
        "id": "view-in-github",
        "colab_type": "text"
      },
      "source": [
        "<a href=\"https://colab.research.google.com/github/DmitryKutsev/NIS_SentiFrame/blob/master/verbs_cosine_test.ipynb\" target=\"_parent\"><img src=\"https://colab.research.google.com/assets/colab-badge.svg\" alt=\"Open In Colab\"/></a>"
      ]
    },
    {
      "cell_type": "code",
      "metadata": {
        "id": "ZnAbfQ2EytKo",
        "colab_type": "code",
        "colab": {
          "base_uri": "https://localhost:8080/",
          "height": 204
        },
        "outputId": "02921938-2c22-433b-9c1b-bcf3252a096d"
      },
      "source": [
        "!wget rusvectores.org/static/models/rusvectores2/news_mystem_skipgram_1000_20_2015.bin.gz\n"
      ],
      "execution_count": 13,
      "outputs": [
        {
          "output_type": "stream",
          "text": [
            "--2020-02-16 21:15:50--  http://rusvectores.org/static/models/rusvectores2/news_mystem_skipgram_1000_20_2015.bin.gz\n",
            "Resolving rusvectores.org (rusvectores.org)... 116.203.104.23\n",
            "Connecting to rusvectores.org (rusvectores.org)|116.203.104.23|:80... connected.\n",
            "HTTP request sent, awaiting response... 200 OK\n",
            "Length: 549952184 (524M) [application/x-gzip]\n",
            "Saving to: ‘news_mystem_skipgram_1000_20_2015.bin.gz’\n",
            "\n",
            "news_mystem_skipgra 100%[===================>] 524.47M  19.1MB/s    in 29s     \n",
            "\n",
            "2020-02-16 21:16:19 (18.3 MB/s) - ‘news_mystem_skipgram_1000_20_2015.bin.gz’ saved [549952184/549952184]\n",
            "\n"
          ],
          "name": "stdout"
        }
      ]
    },
    {
      "cell_type": "code",
      "metadata": {
        "id": "XvF5IwNoO638",
        "colab_type": "code",
        "colab": {}
      },
      "source": [
        "import gensim\n",
        "from collections import Counter"
      ],
      "execution_count": 0,
      "outputs": []
    },
    {
      "cell_type": "code",
      "metadata": {
        "id": "VVqZukM10GFD",
        "colab_type": "code",
        "colab": {
          "base_uri": "https://localhost:8080/",
          "height": 71
        },
        "outputId": "a6d0dcac-c515-4c79-9e57-19a4fc53a8aa"
      },
      "source": [
        "rv_model = gensim.models.KeyedVectors.load_word2vec_format('news_mystem_skipgram_1000_20_2015.bin.gz', binary=True)"
      ],
      "execution_count": 15,
      "outputs": [
        {
          "output_type": "stream",
          "text": [
            "/usr/local/lib/python3.6/dist-packages/smart_open/smart_open_lib.py:402: UserWarning: This function is deprecated, use smart_open.open instead. See the migration notes for details: https://github.com/RaRe-Technologies/smart_open/blob/master/README.rst#migrating-to-the-new-open-function\n",
            "  'See the migration notes for details: %s' % _MIGRATION_NOTES_URL\n"
          ],
          "name": "stderr"
        }
      ]
    },
    {
      "cell_type": "code",
      "metadata": {
        "id": "cJGCmbd6BZj1",
        "colab_type": "code",
        "colab": {}
      },
      "source": [
        "#rv_model.vocab\n",
        "#rv_model.get_vector('снимать_V')"
      ],
      "execution_count": 0,
      "outputs": []
    },
    {
      "cell_type": "code",
      "metadata": {
        "id": "RaD60ME3BB6D",
        "colab_type": "code",
        "colab": {
          "base_uri": "https://localhost:8080/",
          "height": 88
        },
        "outputId": "918ac4b0-0835-4787-cecc-314e84cca1ff"
      },
      "source": [
        "\n",
        "one = 'террорист_S'\n",
        "two = 'ребенок_S'\n",
        "group = [['a0', 'a1', 'neg', 1.0]]\n",
        "verbs_for_check_dict = {'снимать': [['a0', 'a1', 'neg', 1.0]]}\n",
        "\n",
        "def just_words_similarity(base_verb, verbs_for_check_dict):\n",
        "  group_dict = Counter()\n",
        "  my_base_verb = base_verb + '_V'\n",
        "  for verb in verbs_for_check_dict.keys():\n",
        "    verb_for_check = verb + '_V'\n",
        "    similarity = rv_model.similarity(my_base_verb, verb_for_check)\n",
        "    group_dict[str(verbs_for_check_dict[verb])] = [base_verb, verb, similarity]\n",
        "  return group_dict\n",
        "\n",
        "just_words_similarity('радоваться', verbs_for_check_dict)\n",
        "\n",
        "\n"
      ],
      "execution_count": 103,
      "outputs": [
        {
          "output_type": "stream",
          "text": [
            "/usr/local/lib/python3.6/dist-packages/gensim/matutils.py:737: FutureWarning: Conversion of the second argument of issubdtype from `int` to `np.signedinteger` is deprecated. In future, it will be treated as `np.int64 == np.dtype(int).type`.\n",
            "  if np.issubdtype(vec.dtype, np.int):\n"
          ],
          "name": "stderr"
        },
        {
          "output_type": "execute_result",
          "data": {
            "text/plain": [
              "Counter({\"[['a0', 'a1', 'neg', 1.0]]\": ['радоваться', 'снимать', 0.15058792]})"
            ]
          },
          "metadata": {
            "tags": []
          },
          "execution_count": 103
        }
      ]
    },
    {
      "cell_type": "code",
      "metadata": {
        "id": "8hCoLzvMJ_YZ",
        "colab_type": "code",
        "colab": {}
      },
      "source": [
        ""
      ],
      "execution_count": 0,
      "outputs": []
    },
    {
      "cell_type": "code",
      "metadata": {
        "id": "J7TDue89J_VA",
        "colab_type": "code",
        "colab": {}
      },
      "source": [
        ""
      ],
      "execution_count": 0,
      "outputs": []
    },
    {
      "cell_type": "code",
      "metadata": {
        "id": "Tv7i-zJEJ_P6",
        "colab_type": "code",
        "colab": {}
      },
      "source": [
        ""
      ],
      "execution_count": 0,
      "outputs": []
    },
    {
      "cell_type": "code",
      "metadata": {
        "id": "GVcLWwG9BB3T",
        "colab_type": "code",
        "colab": {}
      },
      "source": [
        ""
      ],
      "execution_count": 0,
      "outputs": []
    },
    {
      "cell_type": "code",
      "metadata": {
        "id": "rFh6Nq614Rgr",
        "colab_type": "code",
        "colab": {
          "base_uri": "https://localhost:8080/",
          "height": 204
        },
        "outputId": "4e198d0d-9b3c-46b8-afb2-918cbad31154"
      },
      "source": [
        "# !rm collection.json.1 collection.json\n",
        "# !wget https://raw.githubusercontent.com/nicolay-r/RuSentiFrames/master/collection.json"
      ],
      "execution_count": 29,
      "outputs": [
        {
          "output_type": "stream",
          "text": [
            "--2020-02-16 21:28:11--  https://raw.githubusercontent.com/nicolay-r/RuSentiFrames/master/collection.json\n",
            "Resolving raw.githubusercontent.com (raw.githubusercontent.com)... 151.101.0.133, 151.101.64.133, 151.101.128.133, ...\n",
            "Connecting to raw.githubusercontent.com (raw.githubusercontent.com)|151.101.0.133|:443... connected.\n",
            "HTTP request sent, awaiting response... 200 OK\n",
            "Length: 606414 (592K) [text/plain]\n",
            "Saving to: ‘collection.json’\n",
            "\n",
            "\rcollection.json       0%[                    ]       0  --.-KB/s               \rcollection.json     100%[===================>] 592.20K  --.-KB/s    in 0.04s   \n",
            "\n",
            "2020-02-16 21:28:11 (15.3 MB/s) - ‘collection.json’ saved [606414/606414]\n",
            "\n"
          ],
          "name": "stdout"
        }
      ]
    },
    {
      "cell_type": "code",
      "metadata": {
        "id": "0fP-wB7f4RyW",
        "colab_type": "code",
        "colab": {}
      },
      "source": [
        "# collection_handler = open(\"collection.json\", \"r\", encoding=\"utf-8\")\n",
        "# collection = json.load(collection_handler, encoding=\"utf-8\")"
      ],
      "execution_count": 0,
      "outputs": []
    },
    {
      "cell_type": "code",
      "metadata": {
        "id": "mF4R7DWk4ReA",
        "colab_type": "code",
        "colab": {}
      },
      "source": [
        "# from collection import Counter\n",
        "# group_one = [['author', 'a0', 'pos', 0.7]]\n",
        "# group_two = [['author', 'a1', 'neg', 0.7]]\n",
        "# group_three = [['a0', 'a1', 'pos', 1.0], ['a1', 'a0', 'pos', 1.0]]\n",
        "# group_four = [['a0', 'a1', 'neg', 1.0], ['author', 'a0', 'neg', 1.0]]\n",
        "# groups_dict = Counter()\n",
        "# # two_dict = Counter()\n",
        "# # three_dict = Counter()\n",
        "# # for_dict = Counter()\n",
        "# print(type(collection))\n",
        "# for key in collection.keys():\n",
        "#   try:\n",
        "#     #print(collection[key]['frames']['polarity'])\n",
        "#     if collection[key]['frames']['polarity'] == group_one:\n",
        "#       one[collection[key]['frames']['title']] = group_one\n",
        "#   except Exception as e:\n",
        "#     print(e)\n",
        "#     print(collection[key]['frames'])\n",
        "#   try:\n",
        "#     #print(collection[key]['frames']['polarity'])\n",
        "#     if collection[key]['frames']['polarity'] == group_two:\n",
        "#       one[collection[key]['frames']['title']] = group_two\n",
        "#   except Exception as e:\n",
        "#     print(e)\n",
        "#     print(collection[key]['frames'])\n",
        "#   try:\n",
        "#     #print(collection[key]['frames']['polarity'])\n",
        "#     if collection[key]['frames']['polarity'] == group_three:\n",
        "#       one[collection[key]['frames']['title']] = group_three\n",
        "#   except Exception as e:\n",
        "#     print(e)\n",
        "#     print(collection[key]['frames'])\n",
        "#   try:\n",
        "#     #print(collection[key]['frames']['polarity'])\n",
        "#     if collection[key]['frames']['polarity'] == group_four:\n",
        "#       one[collection[key]['frames']['title']] = group_four\n",
        "#   except Exception as e:\n",
        "#     print(e)\n",
        "#     print(collection[key]['frames'])\n"
      ],
      "execution_count": 0,
      "outputs": []
    }
  ]
}