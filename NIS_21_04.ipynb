{
  "nbformat": 4,
  "nbformat_minor": 0,
  "metadata": {
    "colab": {
      "name": "NIS_21_04.ipynb",
      "provenance": [],
      "authorship_tag": "ABX9TyNqtT2y5PywaBMETLxLGKkR",
      "include_colab_link": true
    },
    "kernelspec": {
      "name": "python3",
      "display_name": "Python 3"
    }
  },
  "cells": [
    {
      "cell_type": "markdown",
      "metadata": {
        "id": "view-in-github",
        "colab_type": "text"
      },
      "source": [
        "<a href=\"https://colab.research.google.com/github/DmitryKutsev/NIS_SentiFrame/blob/master/NIS_21_04.ipynb\" target=\"_parent\"><img src=\"https://colab.research.google.com/assets/colab-badge.svg\" alt=\"Open In Colab\"/></a>"
      ]
    },
    {
      "cell_type": "code",
      "metadata": {
        "id": "0pmfD_qRGnTp",
        "colab_type": "code",
        "colab": {}
      },
      "source": [
        "%%capture\n",
        "!pip install pymorphy2[fast]\n",
        "!wget https://raw.githubusercontent.com/nicolay-r/RuSentiFrames/master/collection.json"
      ],
      "execution_count": 0,
      "outputs": []
    },
    {
      "cell_type": "code",
      "metadata": {
        "id": "Li86rx1Velyo",
        "colab_type": "code",
        "colab": {}
      },
      "source": [
        "#!rm collection.json.1\n",
        "#!ls\n",
        "import gensim\n",
        "from collections import Counter\n",
        "import json\n",
        "import pandas as pd\n",
        "import numpy as np\n",
        "import matplotlib.pyplot as plt\n",
        "from os import listdir\n",
        "from sklearn.metrics.pairwise import cosine_distances\n",
        "import pymorphy2\n",
        "morph = pymorphy2.MorphAnalyzer()"
      ],
      "execution_count": 0,
      "outputs": []
    },
    {
      "cell_type": "code",
      "metadata": {
        "id": "Ou8kqXReel1C",
        "colab_type": "code",
        "colab": {}
      },
      "source": [
        "%%capture\n",
        "# at least two mutual negative attitudes\n",
        "!wget https://raw.githubusercontent.com/DmitryKutsev/NIS_SentiFrame/master/grouped_verb_lists/neg_a0_a1_mutual.json\n",
        "!wget https://raw.githubusercontent.com/DmitryKutsev/NIS_SentiFrame/master/grouped_verb_lists/neg_a0_a2_mutual.json\n",
        "!wget https://raw.githubusercontent.com/DmitryKutsev/NIS_SentiFrame/master/grouped_verb_lists/neg_a1_a2_mutual.json\n",
        "\n",
        "# at least two mutual positive attitudes\n",
        "!wget https://raw.githubusercontent.com/DmitryKutsev/NIS_SentiFrame/master/grouped_verb_lists/pos_a0_a1_mutual.json\n",
        "!wget https://raw.githubusercontent.com/DmitryKutsev/NIS_SentiFrame/master/grouped_verb_lists/pos_a0_a2_mutual.json\n",
        "!wget https://raw.githubusercontent.com/DmitryKutsev/NIS_SentiFrame/master/grouped_verb_lists/pos_a1_a2_mutual.json\n",
        "\n",
        "# at least two opposite attitudes (only a0/a1 show opposite attitudes toward each other)\n",
        "!wget https://raw.githubusercontent.com/DmitryKutsev/NIS_SentiFrame/master/grouped_verb_lists/opp_a0_a1_candidates_l.json"
      ],
      "execution_count": 0,
      "outputs": []
    },
    {
      "cell_type": "code",
      "metadata": {
        "id": "cPWHs9_f-4go",
        "colab_type": "code",
        "colab": {}
      },
      "source": [
        "with open(\"collection.json\", \"r\", encoding=\"utf-8\") as f:\n",
        "  collection = json.load(f)\n",
        "!rm collection.json"
      ],
      "execution_count": 0,
      "outputs": []
    },
    {
      "cell_type": "code",
      "metadata": {
        "id": "0pJtUpucelwf",
        "colab_type": "code",
        "colab": {
          "base_uri": "https://localhost:8080/",
          "height": 510
        },
        "outputId": "f338aab2-d53d-432d-9adc-5dab598cd24d"
      },
      "source": [
        "!wget rusvectores.org/static/models/rusvectores2/news_mystem_skipgram_1000_20_2015.bin.gz\n",
        "!wget http://vectors.nlpl.eu/repository/20/187.zip\n",
        "!unzip 187.zip"
      ],
      "execution_count": 4,
      "outputs": [
        {
          "output_type": "stream",
          "text": [
            "--2020-04-21 08:49:56--  http://rusvectores.org/static/models/rusvectores2/news_mystem_skipgram_1000_20_2015.bin.gz\n",
            "Resolving rusvectores.org (rusvectores.org)... 116.203.104.23\n",
            "Connecting to rusvectores.org (rusvectores.org)|116.203.104.23|:80... connected.\n",
            "HTTP request sent, awaiting response... 200 OK\n",
            "Length: 549952184 (524M) [application/x-gzip]\n",
            "Saving to: ‘news_mystem_skipgram_1000_20_2015.bin.gz’\n",
            "\n",
            "news_mystem_skipgra 100%[===================>] 524.47M  28.2MB/s    in 20s     \n",
            "\n",
            "2020-04-21 08:50:16 (26.8 MB/s) - ‘news_mystem_skipgram_1000_20_2015.bin.gz’ saved [549952184/549952184]\n",
            "\n",
            "--2020-04-21 08:50:17--  http://vectors.nlpl.eu/repository/20/187.zip\n",
            "Resolving vectors.nlpl.eu (vectors.nlpl.eu)... 129.240.189.225\n",
            "Connecting to vectors.nlpl.eu (vectors.nlpl.eu)|129.240.189.225|:80... connected.\n",
            "HTTP request sent, awaiting response... 200 OK\n",
            "Length: 2692389554 (2.5G) [application/zip]\n",
            "Saving to: ‘187.zip’\n",
            "\n",
            "187.zip             100%[===================>]   2.51G  23.4MB/s    in 1m 55s  \n",
            "\n",
            "2020-04-21 08:52:13 (22.3 MB/s) - ‘187.zip’ saved [2692389554/2692389554]\n",
            "\n",
            "Archive:  187.zip\n",
            "  inflating: meta.json               \n",
            "  inflating: model.model             \n",
            "  inflating: model.model.vectors_ngrams.npy  \n",
            "  inflating: model.model.vectors.npy  \n",
            "  inflating: model.model.vectors_vocab.npy  \n",
            "  inflating: README                  \n"
          ],
          "name": "stdout"
        }
      ]
    },
    {
      "cell_type": "code",
      "metadata": {
        "id": "axlA3roafGib",
        "colab_type": "code",
        "outputId": "2cb38d0f-f580-4c13-883d-6ecf46b73a5d",
        "colab": {
          "base_uri": "https://localhost:8080/",
          "height": 71
        }
      },
      "source": [
        "skipgram_model = gensim.models.KeyedVectors.load_word2vec_format('news_mystem_skipgram_1000_20_2015.bin.gz', binary=True)\n",
        "fasttext_model = gensim.models.KeyedVectors.load(\"model.model\")"
      ],
      "execution_count": 5,
      "outputs": [
        {
          "output_type": "stream",
          "text": [
            "/usr/local/lib/python3.6/dist-packages/smart_open/smart_open_lib.py:253: UserWarning: This function is deprecated, use smart_open.open instead. See the migration notes for details: https://github.com/RaRe-Technologies/smart_open/blob/master/README.rst#migrating-to-the-new-open-function\n",
            "  'See the migration notes for details: %s' % _MIGRATION_NOTES_URL\n"
          ],
          "name": "stderr"
        }
      ]
    },
    {
      "cell_type": "code",
      "metadata": {
        "id": "IJi3CX4MfbVh",
        "colab_type": "code",
        "colab": {}
      },
      "source": [
        "def make_seed_embedding(seed_dict, model):\n",
        "  '''\n",
        "  Принимает на вход список, на выходе дает средний вектор всех слов из этого списка\n",
        "  '''\n",
        "  summ = 0\n",
        "  if model == skipgram_model:\n",
        "    for verb in seed_dict:\n",
        "      summ = summ + model[verb + '_V']\n",
        "    vector = summ/len(seed_dict)\n",
        "\n",
        "  else:\n",
        "    for verb in seed_dict:\n",
        "      summ = summ + model.get_vector(verb)\n",
        "    vector = summ/len(seed_dict)\n",
        "\n",
        "  return vector"
      ],
      "execution_count": 0,
      "outputs": []
    },
    {
      "cell_type": "code",
      "metadata": {
        "colab_type": "code",
        "id": "K2ZjJwUrSjS0",
        "colab": {}
      },
      "source": [
        "def verb_distance_df_w2v(verb_list, model,\n",
        "                  seed1=['ценить'],\n",
        "                  seed2=['убивать']):\n",
        "\n",
        "  df = pd.DataFrame({'variant':verb_list})\n",
        "\n",
        "  distance_to_seed1 = df['variant'].apply(\n",
        "      lambda x: cosine_distances(\n",
        "          np.atleast_2d(make_seed_embedding([x], model)), \n",
        "          np.atleast_2d(make_seed_embedding(seed1, model))).item() \n",
        "          if (x+'_V' in model.vocab) or (x in model.vocab) else None)\n",
        "  distance_to_seed2 = df['variant'].apply(\n",
        "      lambda x: cosine_distances(\n",
        "          np.atleast_2d(make_seed_embedding([x], model)), \n",
        "          np.atleast_2d(make_seed_embedding(seed2, model))).item() \n",
        "          if (x+'_V' in model.vocab) or (x in model.vocab) else None)\n",
        "\n",
        "  df['distance_to_seed1'] = distance_to_seed1\n",
        "  df['distance_to_seed2'] = distance_to_seed2\n",
        "\n",
        "  df['attributed_polarity'] = np.where(\n",
        "      # если дистанция до первого сида меньше\n",
        "      df['distance_to_seed1'] < df['distance_to_seed2'], \n",
        "      # то в результирующую колонку кладём 'seed1', иначе 'seed2'\n",
        "      'seed1', 'seed2')\n",
        "  \n",
        "  df['seed1'] = ' '.join(seed1)\n",
        "  df['seed2'] = ' '.join(seed2)\n",
        "\n",
        "  return df"
      ],
      "execution_count": 0,
      "outputs": []
    },
    {
      "cell_type": "code",
      "metadata": {
        "id": "HKQuiMJGH4J-",
        "colab_type": "code",
        "colab": {}
      },
      "source": [
        "def highlight_seed1(s):\n",
        "    '''green'''\n",
        "    is_true = s == 'seed1'\n",
        "    return ['background-color: green' if v else '' for v in is_true]\n",
        "def highlight_none(s):\n",
        "    '''grey'''\n",
        "    is_none = s == None\n",
        "    return ['background-color: grey' if v else '' for v in is_none]\n",
        "# styled = df.style.apply(highlight_seed1)"
      ],
      "execution_count": 0,
      "outputs": []
    },
    {
      "cell_type": "markdown",
      "metadata": {
        "id": "U6USNFpKPhBA",
        "colab_type": "text"
      },
      "source": [
        "**Skipgram**"
      ]
    },
    {
      "cell_type": "code",
      "metadata": {
        "id": "mDE4iWvjsFo3",
        "colab_type": "code",
        "colab": {}
      },
      "source": [
        "  list2check = ['порицать', 'осуждать', 'негодовать',\n",
        "            'обвинять', 'наказывать', \n",
        "            'ненавидеть', 'убивать', 'разрушать', 'одобрять', 'хвалить', 'поощрять', \n",
        "            'обожать', 'восхищаться', 'восторгаться', \n",
        "            'нравиться', 'ценить', 'гордиться',\n",
        "            'хвалить', 'нахваливать', 'превозносить', 'фанфарониться']\n",
        "df = verb_distance_df_w2v(list2check, skipgram_model)\n",
        "# df"
      ],
      "execution_count": 0,
      "outputs": []
    },
    {
      "cell_type": "code",
      "metadata": {
        "id": "D4xXh8ESLZ0M",
        "colab_type": "code",
        "colab": {}
      },
      "source": [
        "def seed_percentage(pd_df, seed=1):\n",
        "  if seed:\n",
        "    n_preds = len(pd_df[\n",
        "      #  эти две строчки обязательны\n",
        "      (pd_df['distance_to_seed1'].notnull())\n",
        "      & (pd_df['distance_to_seed2'].notnull())\n",
        "      & (pd_df['attributed_polarity']=='seed{}'.format(seed))\n",
        "      ])\n",
        "    # return round(n_preds/len(pd_df), 2)\n",
        "    return n_preds/len(pd_df)\n",
        "\n",
        "  else:\n",
        "    nans = pd_df[\n",
        "      #  эти две строчки обязательны\n",
        "      (pd_df['distance_to_seed1'].isna())\n",
        "      & (pd_df['distance_to_seed2'].isna())\n",
        "      ]\n",
        "    \n",
        "    # return round(len(nans)/len(pd_df), 2)\n",
        "    return len(nans)/len(pd_df)\n",
        "    # return pd_df"
      ],
      "execution_count": 0,
      "outputs": []
    },
    {
      "cell_type": "code",
      "metadata": {
        "id": "NJWkEjd5Zf6k",
        "colab_type": "code",
        "colab": {
          "base_uri": "https://localhost:8080/",
          "height": 153
        },
        "outputId": "14168c6d-fc49-456f-eb16-d34160ea4518"
      },
      "source": [
        "print ('file_name', '\\t\\t', 'pos_labels, %', '\\t', 'neg_labels, %', '\\t', 'no_label, %', '\\t', 'list_length')\n",
        "for fname in listdir():\n",
        "  if (fname.endswith('.json')) and (not 'meta' in fname):\n",
        "    with open (fname, 'r', encoding='utf-8') as f:\n",
        "      list2check = json.load(f, encoding=\"utf-8\")\n",
        "    df2check = verb_distance_df_w2v(list2check, skipgram_model)\n",
        "    perc_pos = seed_percentage(pd_df=df2check, seed=1)\n",
        "    perc_neg = seed_percentage(pd_df=df2check, seed=2)\n",
        "    perc_nan = seed_percentage(pd_df=df2check, seed=0)\n",
        "    print (fname, '\\t', perc_pos, '\\t\\t', perc_neg, '\\t\\t', perc_nan, '\\t\\t', len(df2check))"
      ],
      "execution_count": 15,
      "outputs": [
        {
          "output_type": "stream",
          "text": [
            "file_name \t\t pos_labels, % \t neg_labels, % \t no_label, % \t list_length\n",
            "neg_a0_a2_mutual.json \t 0.04 \t\t 0.53 \t\t 0.43 \t\t 89\n",
            "pos_a1_a2_mutual.json \t 0.39 \t\t 0.18 \t\t 0.43 \t\t 28\n",
            "opp_a0_a1_candidates_l.json \t 0.29 \t\t 0.24 \t\t 0.47 \t\t 17\n",
            "pos_a0_a2_mutual.json \t 0.38 \t\t 0.38 \t\t 0.25 \t\t 16\n",
            "pos_a0_a1_mutual.json \t 0.33 \t\t 0.26 \t\t 0.41 \t\t 427\n",
            "neg_a1_a2_mutual.json \t 0.03 \t\t 0.41 \t\t 0.55 \t\t 58\n",
            "neg_a0_a1_mutual.json \t 0.12 \t\t 0.46 \t\t 0.43 \t\t 1022\n"
          ],
          "name": "stdout"
        }
      ]
    },
    {
      "cell_type": "code",
      "metadata": {
        "id": "NGvuwl0s_1rs",
        "colab_type": "code",
        "colab": {}
      },
      "source": [
        "def draw_bars(model, path='.', ext='.json',\n",
        "              categories = ('neg_labels, %', 'no_label, %', 'pos_labels, %')):\n",
        "  results = {}\n",
        "  for fname in listdir(path=path):\n",
        "    if (fname.endswith(ext)) and (not 'meta' in fname):\n",
        "      with open (fname, 'r', encoding='utf-8') as f:\n",
        "        list2check = json.load(f)\n",
        "      df = verb_distance_df_w2v(list2check, model)\n",
        "      results.update({\n",
        "          fname:[seed_percentage(df, x) for x in [2,0,1]]\n",
        "      })\n",
        "  return results, list(categories)"
      ],
      "execution_count": 0,
      "outputs": []
    },
    {
      "cell_type": "code",
      "metadata": {
        "id": "7KxgWETbpGGt",
        "colab_type": "code",
        "colab": {
          "base_uri": "https://localhost:8080/",
          "height": 705
        },
        "outputId": "502b945c-a2f7-4f35-9521-1a09f676c2f4"
      },
      "source": [
        "category_names = ['neg_labels, %', 'no_label, %', 'pos_labels, %']\n",
        "results = {\n",
        "    'neg_a0_a1_mutual.json ': [float(x) for x in '0.46 \t\t 0.43 0.12'.split()],\n",
        "    'neg_a1_a2_mutual.json': [float(x) for x in '0.41 \t\t 0.55 0.03'.split()],\n",
        "    # 'Question 3': [35, 37, 7, 2, 19],\n",
        "    # 'Question 4': [32, 11, 9, 15, 33],\n",
        "    # 'Question 5': [21, 29, 5, 5, 40],\n",
        "    # 'Question 6': [8, 19, 5, 30, 38]\n",
        "}\n",
        "\n",
        "\n",
        "def survey(results, category_names):\n",
        "    \"\"\"\n",
        "    Parameters\n",
        "    ----------\n",
        "    results : dict\n",
        "        A mapping from question labels to a list of answers per category.\n",
        "        It is assumed all lists contain the same number of entries and that\n",
        "        it matches the length of *category_names*.\n",
        "    category_names : list of str\n",
        "        The category labels.\n",
        "    \"\"\"\n",
        "    labels = list(results.keys())\n",
        "    data = np.array(list(results.values()))\n",
        "    data_cum = data.cumsum(axis=1)\n",
        "    category_colors = plt.get_cmap('RdYlGn')(\n",
        "        np.linspace(0.15, 0.85, data.shape[1]))\n",
        "\n",
        "    fig, ax = plt.subplots(figsize=(9.2, 5))\n",
        "    ax.invert_yaxis()\n",
        "    # ax.xaxis.set_visible(False)\n",
        "    ax.set_xlim(0, np.sum(data, axis=1).max())\n",
        "\n",
        "    for i, (colname, color) in enumerate(zip(category_names, category_colors)):\n",
        "        \n",
        "        widths = data[:, i]\n",
        "        starts = data_cum[:, i] - widths\n",
        "        ax.barh(labels, widths, left=starts, height=0.5,\n",
        "                label=colname, color=color)\n",
        "        xcenters = starts + widths / 2\n",
        "\n",
        "        r, g, b, _ = color\n",
        "        text_color = 'white' if r * g * b < 0.5 else 'darkgrey'\n",
        "        for y, (x, c) in enumerate(zip(xcenters, widths)):\n",
        "            print (c)\n",
        "            # ax.text(x, y, str(int(c)), ha='center', va='center',\n",
        "            ax.text(x, y, str(round(c, 2)), ha='center', va='center',\n",
        "                    color=text_color)\n",
        "    ax.legend(ncol=len(category_names), bbox_to_anchor=(0, 1),\n",
        "              loc='lower left', fontsize='large')\n",
        "\n",
        "    return fig, ax\n",
        "\n",
        "\n",
        "\n",
        "results, category_names = draw_bars(skipgram_model)\n",
        "survey(results, category_names)\n",
        "plt.show()"
      ],
      "execution_count": 38,
      "outputs": [
        {
          "output_type": "stream",
          "text": [
            "0.5280898876404494\n",
            "0.17857142857142858\n",
            "0.23529411764705882\n",
            "0.375\n",
            "0.25526932084309134\n",
            "0.41379310344827586\n",
            "0.45596868884540115\n",
            "0.42696629213483145\n",
            "0.42857142857142855\n",
            "0.47058823529411764\n",
            "0.25\n",
            "0.41217798594847777\n",
            "0.5517241379310345\n",
            "0.42857142857142855\n",
            "0.0449438202247191\n",
            "0.39285714285714285\n",
            "0.29411764705882354\n",
            "0.375\n",
            "0.3325526932084309\n",
            "0.034482758620689655\n",
            "0.11545988258317025\n"
          ],
          "name": "stdout"
        },
        {
          "output_type": "display_data",
          "data": {
            "image/png": "[encoded data removed]",
            "text/plain": [
              "<Figure size 662.4x360 with 1 Axes>"
            ]
          },
          "metadata": {
            "tags": [],
            "needs_background": "light"
          }
        }
      ]
    },
    {
      "cell_type": "markdown",
      "metadata": {
        "id": "nTG0BJQ66gPX",
        "colab_type": "text"
      },
      "source": [
        "#More verb lists"
      ]
    }
  ]
}