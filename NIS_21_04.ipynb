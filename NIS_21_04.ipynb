{
  "nbformat": 4,
  "nbformat_minor": 0,
  "metadata": {
    "colab": {
      "name": "NIS_21_04.ipynb",
      "provenance": [],
      "authorship_tag": "ABX9TyPKVKpUXd5Xg+V35/K/QFLZ",
      "include_colab_link": true
    },
    "kernelspec": {
      "name": "python3",
      "display_name": "Python 3"
    }
  },
  "cells": [
    {
      "cell_type": "markdown",
      "metadata": {
        "id": "view-in-github",
        "colab_type": "text"
      },
      "source": [
        "<a href=\"https://colab.research.google.com/github/DmitryKutsev/NIS_SentiFrame/blob/master/NIS_21_04.ipynb\" target=\"_parent\"><img src=\"https://colab.research.google.com/assets/colab-badge.svg\" alt=\"Open In Colab\"/></a>"
      ]
    },
    {
      "cell_type": "code",
      "metadata": {
        "id": "0pmfD_qRGnTp",
        "colab_type": "code",
        "colab": {
          "base_uri": "https://localhost:8080/",
          "height": 547
        },
        "outputId": "dd3cf8d1-b90e-4aed-d80f-59f4acffdf55"
      },
      "source": [
        "!pip install pymorphy2[fast]\n",
        "!wget https://raw.githubusercontent.com/nicolay-r/RuSentiFrames/master/collection.json"
      ],
      "execution_count": 1,
      "outputs": [
        {
          "output_type": "stream",
          "text": [
            "Collecting pymorphy2[fast]\n",
            "\u001b[?25l  Downloading https://files.pythonhosted.org/packages/a3/33/fff9675c68b5f6c63ec8c6e6ff57827dda28a1fa5b2c2d727dffff92dd47/pymorphy2-0.8-py2.py3-none-any.whl (46kB)\n",
            "\r\u001b[K     |███████                         | 10kB 17.8MB/s eta 0:00:01\r\u001b[K     |██████████████▏                 | 20kB 1.7MB/s eta 0:00:01\r\u001b[K     |█████████████████████▎          | 30kB 2.5MB/s eta 0:00:01\r\u001b[K     |████████████████████████████▍   | 40kB 1.7MB/s eta 0:00:01\r\u001b[K     |████████████████████████████████| 51kB 1.7MB/s \n",
            "\u001b[?25hCollecting dawg-python>=0.7\n",
            "  Downloading https://files.pythonhosted.org/packages/6a/84/ff1ce2071d4c650ec85745766c0047ccc3b5036f1d03559fd46bb38b5eeb/DAWG_Python-0.7.2-py2.py3-none-any.whl\n",
            "Collecting pymorphy2-dicts<3.0,>=2.4\n",
            "\u001b[?25l  Downloading https://files.pythonhosted.org/packages/02/51/2465fd4f72328ab50877b54777764d928da8cb15b74e2680fc1bd8cb3173/pymorphy2_dicts-2.4.393442.3710985-py2.py3-none-any.whl (7.1MB)\n",
            "\u001b[K     |████████████████████████████████| 7.1MB 8.0MB/s \n",
            "\u001b[?25hRequirement already satisfied: docopt>=0.6 in /usr/local/lib/python3.6/dist-packages (from pymorphy2[fast]) (0.6.2)\n",
            "Collecting DAWG>=0.7.3; extra == \"fast\"\n",
            "\u001b[?25l  Downloading https://files.pythonhosted.org/packages/b8/ef/91b619a399685f7a0a95a03628006ba814d96293bbbbed234ee66fbdefd9/DAWG-0.8.0.tar.gz (371kB)\n",
            "\u001b[K     |████████████████████████████████| 378kB 50.5MB/s \n",
            "\u001b[?25hBuilding wheels for collected packages: DAWG\n",
            "  Building wheel for DAWG (setup.py) ... \u001b[?25l\u001b[?25hdone\n",
            "  Created wheel for DAWG: filename=DAWG-0.8.0-cp36-cp36m-linux_x86_64.whl size=859439 sha256=7fc593fade072b2baa7dd281eab440da36940bd148868b8afa604340ba07168f\n",
            "  Stored in directory: /root/.cache/pip/wheels/3d/1f/f0/a5b1f9d02e193c997d252c33d215f24dfd7a448bc0166b2a12\n",
            "Successfully built DAWG\n",
            "Installing collected packages: dawg-python, pymorphy2-dicts, DAWG, pymorphy2\n",
            "Successfully installed DAWG-0.8.0 dawg-python-0.7.2 pymorphy2-0.8 pymorphy2-dicts-2.4.393442.3710985\n",
            "--2020-04-20 20:36:43--  https://raw.githubusercontent.com/nicolay-r/RuSentiFrames/master/collection.json\n",
            "Resolving raw.githubusercontent.com (raw.githubusercontent.com)... 151.101.0.133, 151.101.64.133, 151.101.128.133, ...\n",
            "Connecting to raw.githubusercontent.com (raw.githubusercontent.com)|151.101.0.133|:443... connected.\n",
            "HTTP request sent, awaiting response... 200 OK\n",
            "Length: 606414 (592K) [text/plain]\n",
            "Saving to: ‘collection.json’\n",
            "\n",
            "collection.json     100%[===================>] 592.20K  --.-KB/s    in 0.06s   \n",
            "\n",
            "2020-04-20 20:36:44 (9.44 MB/s) - ‘collection.json’ saved [606414/606414]\n",
            "\n"
          ],
          "name": "stdout"
        }
      ]
    },
    {
      "cell_type": "code",
      "metadata": {
        "id": "Li86rx1Velyo",
        "colab_type": "code",
        "colab": {}
      },
      "source": [
        "#!rm collection.json.1\n",
        "#!ls\n",
        "import gensim\n",
        "from collections import Counter\n",
        "import json\n",
        "import pandas as pd\n",
        "import numpy as np\n",
        "from os import listdir\n",
        "from sklearn.metrics.pairwise import cosine_distances\n",
        "import pymorphy2\n",
        "morph = pymorphy2.MorphAnalyzer()"
      ],
      "execution_count": 0,
      "outputs": []
    },
    {
      "cell_type": "code",
      "metadata": {
        "id": "Ou8kqXReel1C",
        "colab_type": "code",
        "colab": {}
      },
      "source": [
        "%%capture\n",
        "# at least two mutual negative attitudes\n",
        "!wget https://raw.githubusercontent.com/DmitryKutsev/NIS_SentiFrame/master/grouped_verb_lists/neg_a0_a1_mutual.json\n",
        "!wget https://raw.githubusercontent.com/DmitryKutsev/NIS_SentiFrame/master/grouped_verb_lists/neg_a0_a2_mutual.json\n",
        "!wget https://raw.githubusercontent.com/DmitryKutsev/NIS_SentiFrame/master/grouped_verb_lists/neg_a1_a2_mutual.json\n",
        "\n",
        "# at least two mutual positive attitudes\n",
        "!wget https://raw.githubusercontent.com/DmitryKutsev/NIS_SentiFrame/master/grouped_verb_lists/pos_a0_a1_mutual.json\n",
        "!wget https://raw.githubusercontent.com/DmitryKutsev/NIS_SentiFrame/master/grouped_verb_lists/pos_a0_a2_mutual.json\n",
        "!wget https://raw.githubusercontent.com/DmitryKutsev/NIS_SentiFrame/master/grouped_verb_lists/pos_a1_a2_mutual.json\n",
        "\n",
        "# at least two opposite attitudes (only a0/a1 show opposite attitudes toward each other)\n",
        "!wget https://raw.githubusercontent.com/DmitryKutsev/NIS_SentiFrame/master/grouped_verb_lists/opp_a0_a1_candidates_l.json"
      ],
      "execution_count": 0,
      "outputs": []
    },
    {
      "cell_type": "code",
      "metadata": {
        "id": "0pJtUpucelwf",
        "colab_type": "code",
        "colab": {}
      },
      "source": [
        "!wget rusvectores.org/static/models/rusvectores2/news_mystem_skipgram_1000_20_2015.bin.gz"
      ],
      "execution_count": 0,
      "outputs": []
    },
    {
      "cell_type": "code",
      "metadata": {
        "id": "axlA3roafGib",
        "colab_type": "code",
        "outputId": "c53017ed-ee62-4413-a202-d3aefad4c0e5",
        "colab": {
          "base_uri": "https://localhost:8080/",
          "height": 71
        }
      },
      "source": [
        "skipgram_model = gensim.models.KeyedVectors.load_word2vec_format('news_mystem_skipgram_1000_20_2015.bin.gz', binary=True)"
      ],
      "execution_count": 5,
      "outputs": [
        {
          "output_type": "stream",
          "text": [
            "/usr/local/lib/python3.6/dist-packages/smart_open/smart_open_lib.py:253: UserWarning: This function is deprecated, use smart_open.open instead. See the migration notes for details: https://github.com/RaRe-Technologies/smart_open/blob/master/README.rst#migrating-to-the-new-open-function\n",
            "  'See the migration notes for details: %s' % _MIGRATION_NOTES_URL\n"
          ],
          "name": "stderr"
        }
      ]
    },
    {
      "cell_type": "code",
      "metadata": {
        "id": "IJi3CX4MfbVh",
        "colab_type": "code",
        "colab": {}
      },
      "source": [
        "def make_seed_embedding(seed_dict, model):\n",
        "  '''\n",
        "  Принимает на вход список, на выходе дает средний вектор всех слов из этого списка\n",
        "  '''\n",
        "  summ = 0\n",
        "  if model == skipgram_model:\n",
        "    for verb in seed_dict:\n",
        "      summ = summ + model[verb + '_V']\n",
        "    vector = summ/len(seed_dict)\n",
        "\n",
        "  else:\n",
        "    for verb in seed_dict:\n",
        "      summ = summ + model.get_vector(verb)\n",
        "    vector = summ/len(seed_dict)\n",
        "\n",
        "  return vector"
      ],
      "execution_count": 0,
      "outputs": []
    },
    {
      "cell_type": "code",
      "metadata": {
        "colab_type": "code",
        "id": "K2ZjJwUrSjS0",
        "colab": {}
      },
      "source": [
        "def verb_distance_df_w2v(verb_list, model,\n",
        "                  seed1=['ценить'],\n",
        "                  seed2=['убивать']):\n",
        "\n",
        "  df = pd.DataFrame({'variant':verb_list})\n",
        "\n",
        "  distance_to_seed1 = df['variant'].apply(\n",
        "      lambda x: cosine_distances(\n",
        "          np.atleast_2d(make_seed_embedding([x], model)), \n",
        "          np.atleast_2d(make_seed_embedding(seed1, model))).item() \n",
        "          if (x+'_V' in model.vocab) or (x in model.vocab) else None)\n",
        "  distance_to_seed2 = df['variant'].apply(\n",
        "      lambda x: cosine_distances(\n",
        "          np.atleast_2d(make_seed_embedding([x], model)), \n",
        "          np.atleast_2d(make_seed_embedding(seed2, model))).item() \n",
        "          if (x+'_V' in model.vocab) or (x in model.vocab) else None)\n",
        "\n",
        "  df['distance_to_seed1'] = distance_to_seed1\n",
        "  df['distance_to_seed2'] = distance_to_seed2\n",
        "\n",
        "  df['attributed_polarity'] = np.where(\n",
        "      # если дистанция до первого сида меньше\n",
        "      df['distance_to_seed1'] < df['distance_to_seed2'], \n",
        "      # то в результирующую колонку кладём 'seed1', иначе 'seed2'\n",
        "      'seed1', 'seed2')\n",
        "  \n",
        "  df['seed1'] = ' '.join(seed1)\n",
        "  df['seed2'] = ' '.join(seed2)\n",
        "\n",
        "  return df"
      ],
      "execution_count": 0,
      "outputs": []
    },
    {
      "cell_type": "code",
      "metadata": {
        "id": "HKQuiMJGH4J-",
        "colab_type": "code",
        "colab": {}
      },
      "source": [
        "def highlight_true(s):\n",
        "    '''\n",
        "    green\n",
        "    '''\n",
        "    is_true = s == True\n",
        "    return ['background-color: green' if v else '' for v in is_true]\n",
        "\n",
        "def highlight_none(s):\n",
        "    '''\n",
        "    grey\n",
        "    '''\n",
        "    is_none = s == None\n",
        "    return ['background-color: grey' if v else '' for v in is_none]"
      ],
      "execution_count": 0,
      "outputs": []
    },
    {
      "cell_type": "markdown",
      "metadata": {
        "id": "U6USNFpKPhBA",
        "colab_type": "text"
      },
      "source": [
        "**Skipgram**"
      ]
    },
    {
      "cell_type": "code",
      "metadata": {
        "id": "mDE4iWvjsFo3",
        "colab_type": "code",
        "colab": {}
      },
      "source": [
        "  list2check = ['порицать', 'осуждать', 'негодовать',\n",
        "            'обвинять', 'наказывать', \n",
        "            'ненавидеть', 'убивать', 'разрушать', 'одобрять', 'хвалить', 'поощрять', \n",
        "            'обожать', 'восхищаться', 'восторгаться', \n",
        "            'нравиться', 'ценить', 'гордиться',\n",
        "            'хвалить', 'нахваливать', 'превозносить', 'фанфарониться']\n",
        "df = verb_distance_df_w2v(list2check, skipgram_model)\n",
        "# df"
      ],
      "execution_count": 0,
      "outputs": []
    },
    {
      "cell_type": "code",
      "metadata": {
        "id": "xRLH46MY1_mL",
        "colab_type": "code",
        "colab": {}
      },
      "source": [
        "# styled = df.style.apply(highlight_true)\n",
        "# styled"
      ],
      "execution_count": 0,
      "outputs": []
    },
    {
      "cell_type": "code",
      "metadata": {
        "id": "D4xXh8ESLZ0M",
        "colab_type": "code",
        "colab": {}
      },
      "source": [
        "def seed_percentage(pd_df, seed=1):\n",
        "  if seed:\n",
        "    n_preds = len(pd_df[\n",
        "      #  эти две строчки обязательны\n",
        "      (pd_df['distance_to_seed1'].notnull())\n",
        "      & (pd_df['distance_to_seed2'].notnull())\n",
        "      & (pd_df['attributed_polarity']=='seed{}'.format(seed))\n",
        "      ])\n",
        "    return round(n_preds/len(pd_df), 2)\n",
        "  else:\n",
        "    nans = pd_df[\n",
        "      #  эти две строчки обязательны\n",
        "      (pd_df['distance_to_seed1'].isnull())\n",
        "      & (pd_df['distance_to_seed2'].isnull())\n",
        "      ]\n",
        "    \n",
        "    return round(len(nans)/len(pd_df), 2)\n",
        "    # return pd_df"
      ],
      "execution_count": 0,
      "outputs": []
    },
    {
      "cell_type": "code",
      "metadata": {
        "id": "NJWkEjd5Zf6k",
        "colab_type": "code",
        "colab": {
          "base_uri": "https://localhost:8080/",
          "height": 153
        },
        "outputId": "66f49502-6909-48f9-c2be-81feb177ca1d"
      },
      "source": [
        "print ('file_name', '\\t\\t', 'pos_labels, %', '\\t', 'neg_labels, %', '\\t', 'no_label, %', '\\t', 'list_length')\n",
        "\n",
        "for fname in listdir():\n",
        "  if (fname.endswith('.json') and (not 'meta' in fname)):\n",
        "    with open (fname, 'r', encoding='utf-8') as f:\n",
        "      list2check = json.load(f, encoding=\"utf-8\")\n",
        "    df2check = verb_distance_df_w2v(list2check, skipgram_model)\n",
        "    perc_pos = seed_percentage(pd_df=df2check, seed=1)\n",
        "    perc_neg = seed_percentage(pd_df=df2check, seed=2)\n",
        "    perc_nan = seed_percentage(pd_df=df2check, seed=0)\n",
        "    print (fname, '\\t', perc_pos, '\\t\\t', perc_neg, '\\t\\t', perc_nan, '\\t\\t', len(df2check))"
      ],
      "execution_count": 144,
      "outputs": [
        {
          "output_type": "stream",
          "text": [
            "file_name \t\t pos_labels, % \t neg_labels, % \t no_label, % \t list_length\n",
            "neg_a0_a2_mutual.json \t 0.04 \t\t 0.53 \t\t 0.43 \t\t 89\n",
            "pos_a1_a2_mutual.json \t 0.39 \t\t 0.18 \t\t 0.43 \t\t 28\n",
            "opp_a0_a1_candidates_l.json \t 0.29 \t\t 0.24 \t\t 0.47 \t\t 17\n",
            "pos_a0_a2_mutual.json \t 0.38 \t\t 0.38 \t\t 0.25 \t\t 16\n",
            "pos_a0_a1_mutual.json \t 0.33 \t\t 0.26 \t\t 0.41 \t\t 427\n",
            "neg_a1_a2_mutual.json \t 0.03 \t\t 0.41 \t\t 0.55 \t\t 58\n",
            "neg_a0_a1_mutual.json \t 0.12 \t\t 0.46 \t\t 0.43 \t\t 1022\n"
          ],
          "name": "stdout"
        }
      ]
    },
    {
      "cell_type": "code",
      "metadata": {
        "id": "7KxgWETbpGGt",
        "colab_type": "code",
        "colab": {
          "base_uri": "https://localhost:8080/",
          "height": 335
        },
        "outputId": "08738fc5-f83a-47ae-f5fe-566430470d80"
      },
      "source": [
        "import numpy as np\n",
        "import matplotlib.pyplot as plt\n",
        "\n",
        "\n",
        "category_names = ['neg_labels, %', 'no_label, %', 'pos_labels, %']\n",
        "results = {\n",
        "    'neg_a0_a1_mutual.json ': [float(x) for x in '0.46 \t\t 0.43 0.12'.split()],\n",
        "    'neg_a1_a2_mutual.json': [float(x) for x in '0.41 \t\t 0.55 0.03'.split()],\n",
        "    # 'Question 3': [35, 37, 7, 2, 19],\n",
        "    # 'Question 4': [32, 11, 9, 15, 33],\n",
        "    # 'Question 5': [21, 29, 5, 5, 40],\n",
        "    # 'Question 6': [8, 19, 5, 30, 38]\n",
        "}\n",
        "\n",
        "\n",
        "def survey(results, category_names):\n",
        "    \"\"\"\n",
        "    Parameters\n",
        "    ----------\n",
        "    results : dict\n",
        "        A mapping from question labels to a list of answers per category.\n",
        "        It is assumed all lists contain the same number of entries and that\n",
        "        it matches the length of *category_names*.\n",
        "    category_names : list of str\n",
        "        The category labels.\n",
        "    \"\"\"\n",
        "    labels = list(results.keys())\n",
        "    data = np.array(list(results.values()))\n",
        "    data_cum = data.cumsum(axis=1)\n",
        "    category_colors = plt.get_cmap('RdYlGn')(\n",
        "        np.linspace(0.15, 0.85, data.shape[1]))\n",
        "\n",
        "    fig, ax = plt.subplots(figsize=(9.2, 5))\n",
        "    ax.invert_yaxis()\n",
        "    ax.xaxis.set_visible(False)\n",
        "    ax.set_xlim(0, np.sum(data, axis=1).max())\n",
        "\n",
        "    for i, (colname, color) in enumerate(zip(category_names, category_colors)):\n",
        "        widths = data[:, i]\n",
        "        starts = data_cum[:, i] - widths\n",
        "        ax.barh(labels, widths, left=starts, height=0.5,\n",
        "                label=colname, color=color)\n",
        "        xcenters = starts + widths / 2\n",
        "\n",
        "        r, g, b, _ = color\n",
        "        text_color = 'white' if r * g * b < 0.5 else 'darkgrey'\n",
        "        for y, (x, c) in enumerate(zip(xcenters, widths)):\n",
        "            ax.text(x, y, str(int(c)), ha='center', va='center',\n",
        "                    color=text_color)\n",
        "    ax.legend(ncol=len(category_names), bbox_to_anchor=(0, 1),\n",
        "              loc='lower left', fontsize='large')\n",
        "\n",
        "    return fig, ax\n",
        "\n",
        "\n",
        "survey(results, category_names)\n",
        "plt.show()"
      ],
      "execution_count": 142,
      "outputs": [
        {
          "output_type": "display_data",
          "data": {
            "image/png": "[encoded data removed]",
            "text/plain": [
              "<Figure size 662.4x360 with 1 Axes>"
            ]
          },
          "metadata": {
            "tags": [],
            "needs_background": "light"
          }
        }
      ]
    }
  ]
}