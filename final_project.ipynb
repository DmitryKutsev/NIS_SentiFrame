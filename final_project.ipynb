{
  "nbformat": 4,
  "nbformat_minor": 0,
  "metadata": {
    "colab": {
      "name": "Untitled38.ipynb",
      "provenance": [],
      "authorship_tag": "ABX9TyMAjVQBEA5MlawDlw/yG8cK",
      "include_colab_link": true
    },
    "kernelspec": {
      "name": "python3",
      "display_name": "Python 3"
    }
  },
  "cells": [
    {
      "cell_type": "markdown",
      "metadata": {
        "id": "view-in-github",
        "colab_type": "text"
      },
      "source": [
        "<a href=\"https://colab.research.google.com/github/DmitryKutsev/NIS_SentiFrame/blob/master/final_project.ipynb\" target=\"_parent\"><img src=\"https://colab.research.google.com/assets/colab-badge.svg\" alt=\"Open In Colab\"/></a>"
      ]
    },
    {
      "cell_type": "code",
      "metadata": {
        "id": "3mcnl3d4t16E",
        "colab_type": "code",
        "colab": {
          "base_uri": "https://localhost:8080/",
          "height": 122
        },
        "outputId": "bb9ff2d5-7197-44cf-9949-c649e3d4ec1e"
      },
      "source": [
        "from google.colab import drive\n",
        "drive.mount('/content/drive')"
      ],
      "execution_count": 1,
      "outputs": [
        {
          "output_type": "stream",
          "text": [
            "Go to this URL in a browser: https://accounts.google.com/o/oauth2/auth?client_id=947318989803-6bn6qk8qdgf4n4g3pfee6491hc0brc4i.apps.googleusercontent.com&redirect_uri=urn%3aietf%3awg%3aoauth%3a2.0%3aoob&response_type=code&scope=email%20https%3a%2f%2fwww.googleapis.com%2fauth%2fdocs.test%20https%3a%2f%2fwww.googleapis.com%2fauth%2fdrive%20https%3a%2f%2fwww.googleapis.com%2fauth%2fdrive.photos.readonly%20https%3a%2f%2fwww.googleapis.com%2fauth%2fpeopleapi.readonly\n",
            "\n",
            "Enter your authorization code:\n",
            "··········\n",
            "Mounted at /content/drive\n"
          ],
          "name": "stdout"
        }
      ]
    },
    {
      "cell_type": "code",
      "metadata": {
        "id": "ktBc033kvgpn",
        "colab_type": "code",
        "colab": {
          "base_uri": "https://localhost:8080/",
          "height": 51
        },
        "outputId": "4c67cc29-2736-4ace-e280-f4c163216369"
      },
      "source": [
        "!unzip '/content/drive/My Drive/jigsaw-toxic-comment-train.csv.zip'"
      ],
      "execution_count": 100,
      "outputs": [
        {
          "output_type": "stream",
          "text": [
            "Archive:  /content/drive/My Drive/jigsaw-toxic-comment-train.csv.zip\n",
            "replace jigsaw-toxic-comment-train.csv? [y]es, [n]o, [A]ll, [N]one, [r]ename: n\n"
          ],
          "name": "stdout"
        }
      ]
    },
    {
      "cell_type": "code",
      "metadata": {
        "id": "49azZAoIwKS5",
        "colab_type": "code",
        "colab": {}
      },
      "source": [
        "import pandas as pd\n",
        "import matplotlib.pyplot as plt \n",
        "from statsmodels.graphics.mosaicplot import mosaic\n",
        "import statistics \n",
        "import re\n",
        "from nltk.tokenize import word_tokenize\n",
        "from nltk.corpus import stopwords\n",
        "import string\n",
        "from collections import Counter\n",
        "import seaborn as sns"
      ],
      "execution_count": 142,
      "outputs": []
    },
    {
      "cell_type": "code",
      "metadata": {
        "id": "p01Q0kQYTjgi",
        "colab_type": "code",
        "colab": {
          "base_uri": "https://localhost:8080/",
          "height": 51
        },
        "outputId": "775dc926-a20e-470c-bc58-1ab17812aed0"
      },
      "source": [
        "import nltk\n",
        "nltk.download('stopwords')\n",
        "from nltk.corpus import stopwords\n",
        "#print(stopwords.words('english'))\n"
      ],
      "execution_count": 102,
      "outputs": [
        {
          "output_type": "stream",
          "text": [
            "[nltk_data] Downloading package stopwords to /root/nltk_data...\n",
            "[nltk_data]   Package stopwords is already up-to-date!\n"
          ],
          "name": "stdout"
        }
      ]
    },
    {
      "cell_type": "code",
      "metadata": {
        "id": "wyK6JPXbSPYI",
        "colab_type": "code",
        "colab": {}
      },
      "source": [
        "my_train = pd.read_csv('jigsaw-toxic-comment-train.csv')"
      ],
      "execution_count": 103,
      "outputs": []
    },
    {
      "cell_type": "code",
      "metadata": {
        "id": "ML57pGG1T3d1",
        "colab_type": "code",
        "colab": {
          "base_uri": "https://localhost:8080/",
          "height": 736
        },
        "outputId": "197968c2-a78f-433e-98f5-2a25d0f87c98"
      },
      "source": [
        "pd.set_option('display.max_rows', None)\n",
        "pd.set_option('display.max_columns', None)\n",
        "pd.set_option('display.width', None)\n",
        "pd.set_option('display.max_colwidth', -1)\n",
        "my_train.head(10)"
      ],
      "execution_count": 104,
      "outputs": [
        {
          "output_type": "stream",
          "text": [
            "/usr/local/lib/python3.6/dist-packages/ipykernel_launcher.py:4: FutureWarning: Passing a negative integer is deprecated in version 1.0 and will not be supported in future version. Instead, use None to not limit the column width.\n",
            "  after removing the cwd from sys.path.\n"
          ],
          "name": "stderr"
        },
        {
          "output_type": "execute_result",
          "data": {
            "text/html": [
              "<div>\n",
              "<style scoped>\n",
              "    .dataframe tbody tr th:only-of-type {\n",
              "        vertical-align: middle;\n",
              "    }\n",
              "\n",
              "    .dataframe tbody tr th {\n",
              "        vertical-align: top;\n",
              "    }\n",
              "\n",
              "    .dataframe thead th {\n",
              "        text-align: right;\n",
              "    }\n",
              "</style>\n",
              "<table border=\"1\" class=\"dataframe\">\n",
              "  <thead>\n",
              "    <tr style=\"text-align: right;\">\n",
              "      <th></th>\n",
              "      <th>id</th>\n",
              "      <th>comment_text</th>\n",
              "      <th>toxic</th>\n",
              "      <th>severe_toxic</th>\n",
              "      <th>obscene</th>\n",
              "      <th>threat</th>\n",
              "      <th>insult</th>\n",
              "      <th>identity_hate</th>\n",
              "    </tr>\n",
              "  </thead>\n",
              "  <tbody>\n",
              "    <tr>\n",
              "      <th>0</th>\n",
              "      <td>0000997932d777bf</td>\n",
              "      <td>Explanation\\nWhy the edits made under my username Hardcore Metallica Fan were reverted? They weren't vandalisms, just closure on some GAs after I voted at New York Dolls FAC. And please don't remove the template from the talk page since I'm retired now.89.205.38.27</td>\n",
              "      <td>0</td>\n",
              "      <td>0</td>\n",
              "      <td>0</td>\n",
              "      <td>0</td>\n",
              "      <td>0</td>\n",
              "      <td>0</td>\n",
              "    </tr>\n",
              "    <tr>\n",
              "      <th>1</th>\n",
              "      <td>000103f0d9cfb60f</td>\n",
              "      <td>D'aww! He matches this background colour I'm seemingly stuck with. Thanks.  (talk) 21:51, January 11, 2016 (UTC)</td>\n",
              "      <td>0</td>\n",
              "      <td>0</td>\n",
              "      <td>0</td>\n",
              "      <td>0</td>\n",
              "      <td>0</td>\n",
              "      <td>0</td>\n",
              "    </tr>\n",
              "    <tr>\n",
              "      <th>2</th>\n",
              "      <td>000113f07ec002fd</td>\n",
              "      <td>Hey man, I'm really not trying to edit war. It's just that this guy is constantly removing relevant information and talking to me through edits instead of my talk page. He seems to care more about the formatting than the actual info.</td>\n",
              "      <td>0</td>\n",
              "      <td>0</td>\n",
              "      <td>0</td>\n",
              "      <td>0</td>\n",
              "      <td>0</td>\n",
              "      <td>0</td>\n",
              "    </tr>\n",
              "    <tr>\n",
              "      <th>3</th>\n",
              "      <td>0001b41b1c6bb37e</td>\n",
              "      <td>\"\\nMore\\nI can't make any real suggestions on improvement - I wondered if the section statistics should be later on, or a subsection of \"\"types of accidents\"\"  -I think the references may need tidying so that they are all in the exact same format ie date format etc. I can do that later on, if no-one else does first - if you have any preferences for formatting style on references or want to do it yourself please let me know.\\n\\nThere appears to be a backlog on articles for review so I guess there may be a delay until a reviewer turns up. It's listed in the relevant form eg Wikipedia:Good_article_nominations#Transport  \"</td>\n",
              "      <td>0</td>\n",
              "      <td>0</td>\n",
              "      <td>0</td>\n",
              "      <td>0</td>\n",
              "      <td>0</td>\n",
              "      <td>0</td>\n",
              "    </tr>\n",
              "    <tr>\n",
              "      <th>4</th>\n",
              "      <td>0001d958c54c6e35</td>\n",
              "      <td>You, sir, are my hero. Any chance you remember what page that's on?</td>\n",
              "      <td>0</td>\n",
              "      <td>0</td>\n",
              "      <td>0</td>\n",
              "      <td>0</td>\n",
              "      <td>0</td>\n",
              "      <td>0</td>\n",
              "    </tr>\n",
              "    <tr>\n",
              "      <th>5</th>\n",
              "      <td>00025465d4725e87</td>\n",
              "      <td>\"\\n\\nCongratulations from me as well, use the tools well.  · talk \"</td>\n",
              "      <td>0</td>\n",
              "      <td>0</td>\n",
              "      <td>0</td>\n",
              "      <td>0</td>\n",
              "      <td>0</td>\n",
              "      <td>0</td>\n",
              "    </tr>\n",
              "    <tr>\n",
              "      <th>6</th>\n",
              "      <td>0002bcb3da6cb337</td>\n",
              "      <td>COCKSUCKER BEFORE YOU PISS AROUND ON MY WORK</td>\n",
              "      <td>1</td>\n",
              "      <td>1</td>\n",
              "      <td>1</td>\n",
              "      <td>0</td>\n",
              "      <td>1</td>\n",
              "      <td>0</td>\n",
              "    </tr>\n",
              "    <tr>\n",
              "      <th>7</th>\n",
              "      <td>00031b1e95af7921</td>\n",
              "      <td>Your vandalism to the Matt Shirvington article has been reverted.  Please don't do it again, or you will be banned.</td>\n",
              "      <td>0</td>\n",
              "      <td>0</td>\n",
              "      <td>0</td>\n",
              "      <td>0</td>\n",
              "      <td>0</td>\n",
              "      <td>0</td>\n",
              "    </tr>\n",
              "    <tr>\n",
              "      <th>8</th>\n",
              "      <td>00037261f536c51d</td>\n",
              "      <td>Sorry if the word 'nonsense' was offensive to you. Anyway, I'm not intending to write anything in the article(wow they would jump on me for vandalism), I'm merely requesting that it be more encyclopedic so one can use it for school as a reference. I have been to the selective breeding page but it's almost a stub. It points to 'animal breeding' which is a short messy article that gives you no info. There must be someone around with expertise in eugenics? 93.161.107.169</td>\n",
              "      <td>0</td>\n",
              "      <td>0</td>\n",
              "      <td>0</td>\n",
              "      <td>0</td>\n",
              "      <td>0</td>\n",
              "      <td>0</td>\n",
              "    </tr>\n",
              "    <tr>\n",
              "      <th>9</th>\n",
              "      <td>00040093b2687caa</td>\n",
              "      <td>alignment on this subject and which are contrary to those of DuLithgow</td>\n",
              "      <td>0</td>\n",
              "      <td>0</td>\n",
              "      <td>0</td>\n",
              "      <td>0</td>\n",
              "      <td>0</td>\n",
              "      <td>0</td>\n",
              "    </tr>\n",
              "  </tbody>\n",
              "</table>\n",
              "</div>"
            ],
            "text/plain": [
              "                 id  \\\n",
              "0  0000997932d777bf   \n",
              "1  000103f0d9cfb60f   \n",
              "2  000113f07ec002fd   \n",
              "3  0001b41b1c6bb37e   \n",
              "4  0001d958c54c6e35   \n",
              "5  00025465d4725e87   \n",
              "6  0002bcb3da6cb337   \n",
              "7  00031b1e95af7921   \n",
              "8  00037261f536c51d   \n",
              "9  00040093b2687caa   \n",
              "\n",
              "                                                                                                                                                                                                                                                                                                                                                                                                                                                                                                                                                                                                                                         comment_text  \\\n",
              "0  Explanation\\nWhy the edits made under my username Hardcore Metallica Fan were reverted? They weren't vandalisms, just closure on some GAs after I voted at New York Dolls FAC. And please don't remove the template from the talk page since I'm retired now.89.205.38.27                                                                                                                                                                                                                                                                                                                                                                            \n",
              "1  D'aww! He matches this background colour I'm seemingly stuck with. Thanks.  (talk) 21:51, January 11, 2016 (UTC)                                                                                                                                                                                                                                                                                                                                                                                                                                                                                                                                     \n",
              "2  Hey man, I'm really not trying to edit war. It's just that this guy is constantly removing relevant information and talking to me through edits instead of my talk page. He seems to care more about the formatting than the actual info.                                                                                                                                                                                                                                                                                                                                                                                                            \n",
              "3  \"\\nMore\\nI can't make any real suggestions on improvement - I wondered if the section statistics should be later on, or a subsection of \"\"types of accidents\"\"  -I think the references may need tidying so that they are all in the exact same format ie date format etc. I can do that later on, if no-one else does first - if you have any preferences for formatting style on references or want to do it yourself please let me know.\\n\\nThere appears to be a backlog on articles for review so I guess there may be a delay until a reviewer turns up. It's listed in the relevant form eg Wikipedia:Good_article_nominations#Transport  \"   \n",
              "4  You, sir, are my hero. Any chance you remember what page that's on?                                                                                                                                                                                                                                                                                                                                                                                                                                                                                                                                                                                  \n",
              "5  \"\\n\\nCongratulations from me as well, use the tools well.  · talk \"                                                                                                                                                                                                                                                                                                                                                                                                                                                                                                                                                                                  \n",
              "6  COCKSUCKER BEFORE YOU PISS AROUND ON MY WORK                                                                                                                                                                                                                                                                                                                                                                                                                                                                                                                                                                                                         \n",
              "7  Your vandalism to the Matt Shirvington article has been reverted.  Please don't do it again, or you will be banned.                                                                                                                                                                                                                                                                                                                                                                                                                                                                                                                                  \n",
              "8  Sorry if the word 'nonsense' was offensive to you. Anyway, I'm not intending to write anything in the article(wow they would jump on me for vandalism), I'm merely requesting that it be more encyclopedic so one can use it for school as a reference. I have been to the selective breeding page but it's almost a stub. It points to 'animal breeding' which is a short messy article that gives you no info. There must be someone around with expertise in eugenics? 93.161.107.169                                                                                                                                                             \n",
              "9  alignment on this subject and which are contrary to those of DuLithgow                                                                                                                                                                                                                                                                                                                                                                                                                                                                                                                                                                               \n",
              "\n",
              "   toxic  severe_toxic  obscene  threat  insult  identity_hate  \n",
              "0  0      0             0        0       0       0              \n",
              "1  0      0             0        0       0       0              \n",
              "2  0      0             0        0       0       0              \n",
              "3  0      0             0        0       0       0              \n",
              "4  0      0             0        0       0       0              \n",
              "5  0      0             0        0       0       0              \n",
              "6  1      1             1        0       1       0              \n",
              "7  0      0             0        0       0       0              \n",
              "8  0      0             0        0       0       0              \n",
              "9  0      0             0        0       0       0              "
            ]
          },
          "metadata": {
            "tags": []
          },
          "execution_count": 104
        }
      ]
    },
    {
      "cell_type": "markdown",
      "metadata": {
        "id": "m7JFUmTqu6Nh",
        "colab_type": "text"
      },
      "source": [
        "### **Анализ всех дополнительных колонок тональности (как проявляется тот или иной тип токсичности, как в данных это представлено, какие есть пограничные случаи)**"
      ]
    },
    {
      "cell_type": "code",
      "metadata": {
        "id": "5pAWFlW2wR0J",
        "colab_type": "code",
        "colab": {
          "base_uri": "https://localhost:8080/",
          "height": 34
        },
        "outputId": "7a1979c8-ef08-4296-da30-715c40eb4faf"
      },
      "source": [
        "len(my_train.loc[my_train['toxic']==1])"
      ],
      "execution_count": 105,
      "outputs": [
        {
          "output_type": "execute_result",
          "data": {
            "text/plain": [
              "21384"
            ]
          },
          "metadata": {
            "tags": []
          },
          "execution_count": 105
        }
      ]
    },
    {
      "cell_type": "code",
      "metadata": {
        "id": "ZXeHxzTh8vS6",
        "colab_type": "code",
        "colab": {
          "base_uri": "https://localhost:8080/",
          "height": 119
        },
        "outputId": "364f4586-a628-400c-f3f5-c4231060833b"
      },
      "source": [
        "def max_tox_len(toxic_type):\n",
        "  toxic_type_df = my_train.loc[my_train[toxic_type] == 1]\n",
        "  len_list = [len(sent) for sent in toxic_type_df['comment_text']]\n",
        "  return max(len_list)\n",
        "\n",
        "\n",
        "print('toxic', max_tox_len('toxic'))\n",
        "print('severe_toxic', max_tox_len('severe_toxic'))\n",
        "print('obscene', max_tox_len('obscene'))\n",
        "print('threat', max_tox_len('threat'))\n",
        "print('insult', max_tox_len('insult'))\n",
        "print('identity_hate', max_tox_len('identity_hate'))\n"
      ],
      "execution_count": 106,
      "outputs": [
        {
          "output_type": "stream",
          "text": [
            "toxic 5000\n",
            "severe_toxic 5000\n",
            "obscene 5000\n",
            "threat 5000\n",
            "insult 5000\n",
            "identity_hate 5000\n"
          ],
          "name": "stdout"
        }
      ]
    },
    {
      "cell_type": "code",
      "metadata": {
        "id": "HicLvCes-oBO",
        "colab_type": "code",
        "colab": {
          "base_uri": "https://localhost:8080/",
          "height": 119
        },
        "outputId": "a6dda7f4-592e-47ac-abdf-05af18266ccf"
      },
      "source": [
        "def max_none_tox_len(none_toxic_type):\n",
        "  toxic_type_df = my_train.loc[my_train[none_toxic_type] == 0]\n",
        "  len_list = [len(sent) for sent in toxic_type_df['comment_text']]\n",
        "  return max(len_list)\n",
        "\n",
        "\n",
        "print('toxic', max_none_tox_len('toxic'))\n",
        "print('severe_toxic', max_none_tox_len('severe_toxic'))\n",
        "print('obscene', max_none_tox_len('obscene'))\n",
        "print('threat', max_none_tox_len('threat'))\n",
        "print('insult', max_none_tox_len('insult'))\n",
        "print('identity_hate', max_none_tox_len('identity_hate'))"
      ],
      "execution_count": 13,
      "outputs": [
        {
          "output_type": "stream",
          "text": [
            "toxic 5000\n",
            "severe_toxic 5000\n",
            "obscene 5000\n",
            "threat 5000\n",
            "insult 5000\n",
            "identity_hate 5000\n"
          ],
          "name": "stdout"
        }
      ]
    },
    {
      "cell_type": "code",
      "metadata": {
        "id": "T5sZjo68YfTJ",
        "colab_type": "code",
        "colab": {}
      },
      "source": [
        "#Получается совсем не информативно, попробую измерить среднее"
      ],
      "execution_count": 14,
      "outputs": []
    },
    {
      "cell_type": "code",
      "metadata": {
        "id": "izVxpJ3Xe0IC",
        "colab_type": "code",
        "colab": {
          "base_uri": "https://localhost:8080/",
          "height": 119
        },
        "outputId": "e67dbe22-2ddd-44e0-a820-a8467f24bd05"
      },
      "source": [
        "def mean_tox_len(toxic_type):\n",
        "  toxic_type_df = my_train.loc[my_train[toxic_type] == 1]\n",
        "  len_list = [len(sent) for sent in toxic_type_df['comment_text']]\n",
        "  return statistics.mean(len_list)\n",
        "\n",
        "\n",
        "print('toxic', mean_tox_len('toxic'))\n",
        "print('severe_toxic', mean_tox_len('severe_toxic'))\n",
        "print('obscene', mean_tox_len('obscene'))\n",
        "print('threat', mean_tox_len('threat'))\n",
        "print('insult', mean_tox_len('insult'))\n",
        "print('identity_hate', mean_tox_len('identity_hate'))"
      ],
      "execution_count": 15,
      "outputs": [
        {
          "output_type": "stream",
          "text": [
            "toxic 280.60409652076316\n",
            "severe_toxic 505.4566768603466\n",
            "obscene 280.9517298187809\n",
            "threat 316.9100145137881\n",
            "insult 272.2064755838641\n",
            "identity_hate 314.43882853094\n"
          ],
          "name": "stdout"
        }
      ]
    },
    {
      "cell_type": "code",
      "metadata": {
        "id": "9zSBef7Lgwso",
        "colab_type": "code",
        "colab": {}
      },
      "source": [
        "#тут немного более информативно, severe_toxic явно выделяется, например. Попробую взять не-токсичные:"
      ],
      "execution_count": null,
      "outputs": []
    },
    {
      "cell_type": "code",
      "metadata": {
        "id": "4Ra9G1EIf73p",
        "colab_type": "code",
        "colab": {
          "base_uri": "https://localhost:8080/",
          "height": 119
        },
        "outputId": "397ff51d-1fc0-4ca0-8182-06f635684ede"
      },
      "source": [
        "def mean_none_tox_len(none_toxic_type):\n",
        "  toxic_type_df = my_train.loc[my_train[none_toxic_type] == 0]\n",
        "  len_list = [len(sent) for sent in toxic_type_df['comment_text']]\n",
        "  return statistics.mean(len_list)\n",
        "\n",
        "\n",
        "print('toxic', mean_none_tox_len('toxic'))\n",
        "print('severe_toxic', mean_none_tox_len('severe_toxic'))\n",
        "print('obscene', mean_none_tox_len('obscene'))\n",
        "print('threat', mean_none_tox_len('threat'))\n",
        "print('insult', mean_none_tox_len('insult'))\n",
        "print('identity_hate', mean_none_tox_len('identity_hate'))"
      ],
      "execution_count": 16,
      "outputs": [
        {
          "output_type": "stream",
          "text": [
            "toxic 402.6911779981698\n",
            "severe_toxic 389.999386245583\n",
            "obscene 397.33287608379965\n",
            "threat 391.2418065153011\n",
            "insult 397.34023416334895\n",
            "identity_hate 391.7447929838506\n"
          ],
          "name": "stdout"
        }
      ]
    },
    {
      "cell_type": "code",
      "metadata": {
        "id": "07pp06YKgprO",
        "colab_type": "code",
        "colab": {}
      },
      "source": [
        "#Попробую выделить список слов, характерный для какого-то типа"
      ],
      "execution_count": 54,
      "outputs": []
    },
    {
      "cell_type": "code",
      "metadata": {
        "id": "FCMOhy-TwqM2",
        "colab_type": "code",
        "colab": {}
      },
      "source": [
        "def tokenize(sents):\n",
        "    words = []\n",
        "    for sent in sents:\n",
        "      for word in sent.split():\n",
        "        words.append(word.strip(string.punctuation))\n",
        "    words = [word for word in words if word]\n",
        "    \n",
        "    return words"
      ],
      "execution_count": 21,
      "outputs": []
    },
    {
      "cell_type": "code",
      "metadata": {
        "id": "flIuKI4t2uBc",
        "colab_type": "code",
        "colab": {}
      },
      "source": [
        "toxic_df = my_train.loc[my_train['toxic'] == 1]\n",
        "severe_toxic_df = my_train.loc[my_train['severe_toxic'] == 1]\n",
        "obscene_df =  my_train.loc[my_train['obscene'] == 1]\n",
        "threat_df = my_train.loc[my_train['threat'] == 1]\n",
        "insult_df = my_train.loc[my_train['insult'] == 1]\n",
        "identity_hate_df = my_train.loc[my_train['identity_hate'] == 1]"
      ],
      "execution_count": 18,
      "outputs": []
    },
    {
      "cell_type": "code",
      "metadata": {
        "id": "_nsmMW4uWTML",
        "colab_type": "code",
        "colab": {
          "base_uri": "https://localhost:8080/",
          "height": 34
        },
        "outputId": "7b75a7f1-0797-4c8c-c075-fea81d33d222"
      },
      "source": [
        "stoplist = stopwords.words('english')\n",
        "for w in ['would', 'page', 'wikipedia', 'want', 'think', 'time', 'u']:\n",
        "  stoplist.append(w)\n",
        "'would' in stoplist"
      ],
      "execution_count": 71,
      "outputs": [
        {
          "output_type": "execute_result",
          "data": {
            "text/plain": [
              "True"
            ]
          },
          "metadata": {
            "tags": []
          },
          "execution_count": 71
        }
      ]
    },
    {
      "cell_type": "code",
      "metadata": {
        "id": "9dQKD5Xkv_uZ",
        "colab_type": "code",
        "colab": {}
      },
      "source": [
        "def freq_words(toxic_type, n):\n",
        "  toxic_type_df = my_train.loc[my_train[toxic_type] == 1]\n",
        "  length = len(toxic_type_df)\n",
        "  counter = Counter(tokenize(toxic_type_df['comment_text']))\n",
        "  frequent_dict = {key:val for key, val in counter.items() if val > length*n and \\\n",
        "                   key.lower() not in stoplist}\n",
        "\n",
        "  return frequent_dict"
      ],
      "execution_count": 76,
      "outputs": []
    },
    {
      "cell_type": "code",
      "metadata": {
        "id": "7_xII2Ra1sOR",
        "colab_type": "code",
        "colab": {
          "base_uri": "https://localhost:8080/",
          "height": 204
        },
        "outputId": "46099bb6-e2e6-41e2-84c1-dd44924c490e"
      },
      "source": [
        "freq_words('toxic', 0.1)\n"
      ],
      "execution_count": 93,
      "outputs": [
        {
          "output_type": "execute_result",
          "data": {
            "text/plain": [
              "{'DIE': 2760,\n",
              " 'FUCK': 5952,\n",
              " 'NIGGER': 3397,\n",
              " 'SUCK': 2675,\n",
              " 'ass': 2240,\n",
              " 'fuck': 6151,\n",
              " 'fucking': 2766,\n",
              " 'gay': 2192,\n",
              " 'know': 2523,\n",
              " 'like': 4149,\n",
              " 'shit': 2971}"
            ]
          },
          "metadata": {
            "tags": []
          },
          "execution_count": 93
        }
      ]
    },
    {
      "cell_type": "code",
      "metadata": {
        "id": "h3cOSDDX18zt",
        "colab_type": "code",
        "colab": {
          "base_uri": "https://localhost:8080/",
          "height": 1000
        },
        "outputId": "dd449875-9888-4521-f9f8-25d112b2ff81"
      },
      "source": [
        "\n",
        "freq_words('severe_toxic', 0.1)"
      ],
      "execution_count": 95,
      "outputs": [
        {
          "output_type": "execute_result",
          "data": {
            "text/plain": [
              "{'ADMINS': 200,\n",
              " 'ANAL': 342,\n",
              " 'ASS': 762,\n",
              " 'Ass': 271,\n",
              " 'BASTARD': 205,\n",
              " 'BITCH': 644,\n",
              " 'BITCH!!FUCK': 310,\n",
              " 'BLOCK': 266,\n",
              " 'BOT': 217,\n",
              " 'Bitch': 293,\n",
              " 'BunkSteve': 278,\n",
              " 'COCK': 442,\n",
              " 'COCKSUCKER': 494,\n",
              " 'COCKSUCKING': 267,\n",
              " 'CUNT': 819,\n",
              " 'CUNTS': 241,\n",
              " 'Chester': 261,\n",
              " 'CriminalWar': 279,\n",
              " 'DAMN': 377,\n",
              " 'DICK': 331,\n",
              " 'DIE': 1565,\n",
              " 'DIE!FUK': 402,\n",
              " 'DOG': 363,\n",
              " 'EAT': 204,\n",
              " 'FACK': 232,\n",
              " 'FAGGOT': 605,\n",
              " 'FAGS': 207,\n",
              " 'FAT': 243,\n",
              " 'FUCK': 3088,\n",
              " 'FUCKER': 523,\n",
              " 'FUCKING': 1084,\n",
              " 'Fuck': 1051,\n",
              " 'Fucking': 212,\n",
              " 'GAY': 250,\n",
              " 'GO': 223,\n",
              " 'Go': 924,\n",
              " 'HOMELAND': 229,\n",
              " 'HUGE': 421,\n",
              " 'KILL': 630,\n",
              " 'MEXICANS': 358,\n",
              " 'MOTHERFUCKER': 253,\n",
              " 'MOTHERFUCKERDIE': 287,\n",
              " 'MOTHJER': 489,\n",
              " 'MUST': 562,\n",
              " 'MarcolFuck': 260,\n",
              " 'NIGGER': 808,\n",
              " 'NIGGERJEW': 424,\n",
              " 'NIGGERS': 393,\n",
              " 'Nigger': 367,\n",
              " 'Notrhbysouthbanof': 228,\n",
              " 'OFFFUCK': 360,\n",
              " \"Pro-Assad.Hanibal911You're\": 345,\n",
              " 'RAPE': 362,\n",
              " 'SECURITYFUCK': 227,\n",
              " 'SHIT': 1508,\n",
              " 'SHUT': 364,\n",
              " 'SUCK': 2253,\n",
              " 'TRAITOR': 405,\n",
              " 'USELESS': 224,\n",
              " 'VANDAL': 406,\n",
              " \"YOU!!'FUCK\": 312,\n",
              " 'ancestryFuck-off-Jewish': 207,\n",
              " 'ass': 1299,\n",
              " 'ass!Fuck': 277,\n",
              " 'asshole': 320,\n",
              " 'bastard': 407,\n",
              " 'bitch': 780,\n",
              " 'bitches.fuck': 333,\n",
              " 'cock': 366,\n",
              " 'cocks': 235,\n",
              " 'cunt': 321,\n",
              " 'dick': 290,\n",
              " 'dickhead': 330,\n",
              " 'faggot': 1237,\n",
              " 'fat': 296,\n",
              " 'fuck': 3279,\n",
              " 'fucked': 199,\n",
              " 'fucking': 750,\n",
              " 'fucksex': 624,\n",
              " 'gay': 484,\n",
              " 'get': 228,\n",
              " 'going': 344,\n",
              " 'hi': 201,\n",
              " 'know': 222,\n",
              " 'like': 501,\n",
              " 'little': 292,\n",
              " 'mother': 413,\n",
              " 'niggas': 340,\n",
              " 'nigger': 599,\n",
              " 'nigger!Dumbass': 215,\n",
              " 'penis/////Small': 249,\n",
              " 'piece': 363,\n",
              " 'pussy': 303,\n",
              " 'shit': 900,\n",
              " 'stupid': 374,\n",
              " 'suck': 521,\n",
              " 'sucks': 698,\n",
              " 'veggietales': 212,\n",
              " 'yourselfgo': 621}"
            ]
          },
          "metadata": {
            "tags": []
          },
          "execution_count": 95
        }
      ]
    },
    {
      "cell_type": "code",
      "metadata": {
        "id": "MP0s_SL4T0EJ",
        "colab_type": "code",
        "colab": {
          "base_uri": "https://localhost:8080/",
          "height": 340
        },
        "outputId": "242ecd29-5ffa-4f9b-b790-0c48efffb210"
      },
      "source": [
        "freq_words('obscene', 0.1)"
      ],
      "execution_count": 85,
      "outputs": [
        {
          "output_type": "execute_result",
          "data": {
            "text/plain": [
              "{'CUNT': 1440,\n",
              " 'DICKS': 1223,\n",
              " 'DIE': 1468,\n",
              " 'FUCK': 5940,\n",
              " 'FUCKING': 1592,\n",
              " 'Fuck': 1961,\n",
              " 'Go': 1240,\n",
              " 'NIGGER': 2990,\n",
              " 'SHIT': 1688,\n",
              " 'SUCK': 2535,\n",
              " 'ass': 2121,\n",
              " 'bitch': 1511,\n",
              " 'fuck': 6073,\n",
              " 'fucking': 2651,\n",
              " 'get': 1248,\n",
              " 'know': 1376,\n",
              " 'like': 2061,\n",
              " 'shit': 2623,\n",
              " 'stupid': 1264}"
            ]
          },
          "metadata": {
            "tags": []
          },
          "execution_count": 85
        }
      ]
    },
    {
      "cell_type": "code",
      "metadata": {
        "id": "-vg61H3MVd0q",
        "colab_type": "code",
        "colab": {
          "base_uri": "https://localhost:8080/",
          "height": 731
        },
        "outputId": "8e920763-904e-4277-ae7c-6ecb7e8efa4d"
      },
      "source": [
        "freq_words('threat', 0.1)"
      ],
      "execution_count": 86,
      "outputs": [
        {
          "output_type": "execute_result",
          "data": {
            "text/plain": [
              "{'BAN': 131,\n",
              " 'BLANK': 94,\n",
              " 'BLOCK': 150,\n",
              " 'DI': 90,\n",
              " 'DIE': 1055,\n",
              " 'DIE!FUK': 310,\n",
              " 'Die': 89,\n",
              " 'EDIE': 90,\n",
              " 'FUCKIN': 82,\n",
              " 'FUCKING': 74,\n",
              " 'FoReVeR': 76,\n",
              " 'FooL': 73,\n",
              " \"I'm\": 73,\n",
              " 'JIM': 157,\n",
              " 'KILL': 526,\n",
              " 'LiVe': 76,\n",
              " 'MUST': 478,\n",
              " 'NIGGGERS': 123,\n",
              " 'PaTHeTiC': 76,\n",
              " 'RVV': 96,\n",
              " 'ReSPeCT': 76,\n",
              " 'SuPeRTR0LL': 149,\n",
              " 'TALK': 101,\n",
              " 'TRAITOR': 313,\n",
              " 'VANDAL': 314,\n",
              " 'WALES': 156,\n",
              " 'ass': 753,\n",
              " 'balls': 92,\n",
              " 'bitch': 81,\n",
              " 'decapitate': 84,\n",
              " 'die': 120,\n",
              " 'fuck': 102,\n",
              " 'fucking': 176,\n",
              " 'get': 84,\n",
              " 'going': 383,\n",
              " 'kill': 275,\n",
              " 'like': 69,\n",
              " 'murder': 109,\n",
              " 'rip': 87,\n",
              " 'shit': 96,\n",
              " 'tiny': 83,\n",
              " 'you.I': 81}"
            ]
          },
          "metadata": {
            "tags": []
          },
          "execution_count": 86
        }
      ]
    },
    {
      "cell_type": "code",
      "metadata": {
        "id": "IIHKCzQpaM6K",
        "colab_type": "code",
        "colab": {
          "base_uri": "https://localhost:8080/",
          "height": 408
        },
        "outputId": "6af21a34-be7a-427c-8549-65f526d9c48c"
      },
      "source": [
        "freq_words('insult', 0.1)"
      ],
      "execution_count": 88,
      "outputs": [
        {
          "output_type": "execute_result",
          "data": {
            "text/plain": [
              "{'CUNT': 1134,\n",
              " 'DIE': 1465,\n",
              " 'FAT': 1565,\n",
              " 'FUCK': 4238,\n",
              " 'FUCKING': 1516,\n",
              " 'Fuck': 1179,\n",
              " 'Go': 1235,\n",
              " 'JEW': 1246,\n",
              " 'NIGGER': 3033,\n",
              " 'SUCK': 2380,\n",
              " 'ass': 1882,\n",
              " 'bitch': 1458,\n",
              " 'faggot': 1718,\n",
              " 'fuck': 4670,\n",
              " 'fucking': 2252,\n",
              " 'gay': 1154,\n",
              " 'hi': 1345,\n",
              " 'know': 1361,\n",
              " 'like': 2052,\n",
              " 'moron': 1474,\n",
              " 'nigger': 1593,\n",
              " 'shit': 2025,\n",
              " 'stupid': 1447}"
            ]
          },
          "metadata": {
            "tags": []
          },
          "execution_count": 88
        }
      ]
    },
    {
      "cell_type": "code",
      "metadata": {
        "id": "M9fnKqkka0Yb",
        "colab_type": "code",
        "colab": {
          "base_uri": "https://localhost:8080/",
          "height": 663
        },
        "outputId": "e08b1da2-1108-456d-c312-c2f0bc162bec"
      },
      "source": [
        "freq_words('identity_hate', 0.1)"
      ],
      "execution_count": 89,
      "outputs": [
        {
          "output_type": "execute_result",
          "data": {
            "text/plain": [
              "{'Ass': 271,\n",
              " 'Bitch': 286,\n",
              " 'BunkSteve': 278,\n",
              " 'CUNT': 595,\n",
              " 'DIE': 772,\n",
              " 'FAGGOT': 555,\n",
              " 'FAT': 1314,\n",
              " 'FRANCE': 217,\n",
              " 'FUCK': 696,\n",
              " 'FUCKING': 449,\n",
              " 'GAY': 681,\n",
              " 'HATE': 228,\n",
              " 'HUGE': 422,\n",
              " 'JEW': 1245,\n",
              " 'KILL': 313,\n",
              " 'MEXICANS': 358,\n",
              " 'NIGGER': 3098,\n",
              " 'NIGGERJEW': 424,\n",
              " 'NIGGERS': 1113,\n",
              " 'Nigger': 507,\n",
              " 'Please!Nigga': 383,\n",
              " 'SUCK': 551,\n",
              " 'TOMMY2010': 227,\n",
              " 'ass': 327,\n",
              " 'bitch': 324,\n",
              " 'fag': 246,\n",
              " 'faggot': 724,\n",
              " 'fuck': 751,\n",
              " 'fucking': 499,\n",
              " 'gay': 1334,\n",
              " 'like': 451,\n",
              " 'nigga': 227,\n",
              " 'niggas': 359,\n",
              " 'nigger': 1594,\n",
              " 'nigger!Dumbass': 215,\n",
              " 'shit': 358,\n",
              " 'stupid': 425,\n",
              " 'sucks!!!!!!!!!!!U.S.A': 223}"
            ]
          },
          "metadata": {
            "tags": []
          },
          "execution_count": 89
        }
      ]
    },
    {
      "cell_type": "code",
      "metadata": {
        "id": "hFrX4pbwbAdd",
        "colab_type": "code",
        "colab": {
          "base_uri": "https://localhost:8080/",
          "height": 119
        },
        "outputId": "03cbda48-fd24-441b-b190-308577ff6610"
      },
      "source": [
        "print('severe_toxic', len(freq_words('severe_toxic', 0.1)))\n",
        "print('toxic', len(freq_words('toxic', 0.1)))\n",
        "print('obscene', len(freq_words('obscene', 0.1)))\n",
        "print('threat', len(freq_words('threat', 0.1)))\n",
        "print('insult', len(freq_words('insult', 0.1)))\n",
        "print('identity_hate', len(freq_words('identity_hate', 0.1)))"
      ],
      "execution_count": 90,
      "outputs": [
        {
          "output_type": "stream",
          "text": [
            "severe_toxic 99\n",
            "toxic 11\n",
            "obscene 19\n",
            "threat 42\n",
            "insult 23\n",
            "identity_hate 38\n"
          ],
          "name": "stdout"
        }
      ]
    },
    {
      "cell_type": "code",
      "metadata": {
        "id": "RPeIIITfcdxS",
        "colab_type": "code",
        "colab": {}
      },
      "source": [
        "def punkt_len(toxic_type):\n",
        "  final_len = 0\n",
        "  all_text = \" \".join(my_train.loc[my_train[toxic_type] == 1]['comment_text'])\n",
        "  all_punkt = re.findall(r'[\\.,?!)\\\";}\\]\\*:@\\'\\({\\[]+', all_text)\n",
        "  for punkt_peace in all_punkt:\n",
        "    final_len += len(punkt_peace)\n",
        "  return final_len\n"
      ],
      "execution_count": 132,
      "outputs": []
    },
    {
      "cell_type": "code",
      "metadata": {
        "id": "-8xF8DgxR_by",
        "colab_type": "code",
        "colab": {}
      },
      "source": [
        "all_toxic = \" \".join(my_train.loc[my_train['toxic'] == 1]['comment_text'])\n",
        "all_severe_toxic = \" \".join(my_train.loc[my_train['severe_toxic'] == 1]['comment_text'])\n",
        "all_obscene = \" \".join(my_train.loc[my_train['obscene'] == 1]['comment_text'])\n",
        "all_threat = \" \".join(my_train.loc[my_train['threat'] == 1]['comment_text'])\n",
        "all_insult = \" \".join(my_train.loc[my_train['insult'] == 1]['comment_text'])\n",
        "all_identity_hate = \" \".join(my_train.loc[my_train['identity_hate'] == 1]['comment_text'])                                      "
      ],
      "execution_count": 137,
      "outputs": []
    },
    {
      "cell_type": "code",
      "metadata": {
        "id": "QRmR78XGeF10",
        "colab_type": "code",
        "colab": {
          "base_uri": "https://localhost:8080/",
          "height": 119
        },
        "outputId": "e1ede467-ea62-4ad9-9f7d-4c60f8ff2bd6"
      },
      "source": [
        "print('toxic', punkt_len('toxic')/len(all_toxic))\n",
        "print('severe_toxic', punkt_len('severe_toxic')/len(all_severe_toxic))\n",
        "print('obscene', punkt_len('obscene')/len(all_obscene))\n",
        "print('threat', punkt_len('threat')/len(all_threat))\n",
        "print('insult', punkt_len('insult')/len(all_insult))\n",
        "print('identity_hate', punkt_len('identity_hate')/len(all_identity_hate))"
      ],
      "execution_count": 139,
      "outputs": [
        {
          "output_type": "stream",
          "text": [
            "toxic 0.04467884382481645\n",
            "severe_toxic 0.051991260653720006\n",
            "obscene 0.0443186509189741\n",
            "threat 0.07552536306319879\n",
            "insult 0.0434387572551464\n",
            "identity_hate 0.03853796817229549\n"
          ],
          "name": "stdout"
        }
      ]
    },
    {
      "cell_type": "code",
      "metadata": {
        "id": "adPwloKv4rXg",
        "colab_type": "code",
        "colab": {}
      },
      "source": [
        "#еще потом придумаю, но минималка какая-то вроде есть.\n",
        "len_list = [len(sents) for sents in my_train['comment_text']]\n",
        "punkt_len_list = [len(re.findall(r'[\\.,?!)\\\";}\\]\\*:@\\'\\({\\[]+', sents)) for sents in my_train['comment_text']]\n",
        "upper_len_list = [len(re.findall(r'[A-Z]+', sents)) for sents in my_train['comment_text']]"
      ],
      "execution_count": 141,
      "outputs": []
    },
    {
      "cell_type": "code",
      "metadata": {
        "id": "4Dbw_FC5abNn",
        "colab_type": "code",
        "colab": {}
      },
      "source": [
        ""
      ],
      "execution_count": null,
      "outputs": []
    },
    {
      "cell_type": "markdown",
      "metadata": {
        "id": "DgB5D9f0bGVt",
        "colab_type": "text"
      },
      "source": [
        "## **Бейзлайн модель из sklearn (векторайзер + модель) с отбором признаков (через l1 регуляризацию, на глаз через анализ важных параметров или через permutation importance)**"
      ]
    },
    {
      "cell_type": "code",
      "metadata": {
        "id": "ybnTY8INbJwT",
        "colab_type": "code",
        "colab": {}
      },
      "source": [
        "#https://github.com/mannefedov/hse_ml_m1/blob/master/1_intro_regression/pandas_regression.ipynb - регуляризация\n",
        "# тут и статистики есть!!\n",
        "\n",
        "#https://github.com/mannefedov/hse_ml_m1/blob/master/3_overfitting_validation/overfitting_validation.ipynb - permutation importance\n",
        "\n",
        "\n",
        "#ансамбли - https://github.com/DmitryKutsev/ml_hw/blob/master/hw5.ipynb\n",
        "\n",
        "#ох.."
      ],
      "execution_count": 144,
      "outputs": []
    },
    {
      "cell_type": "code",
      "metadata": {
        "id": "ZLV9twVjhQkO",
        "colab_type": "code",
        "colab": {}
      },
      "source": [
        ""
      ],
      "execution_count": null,
      "outputs": []
    }
  ]
}