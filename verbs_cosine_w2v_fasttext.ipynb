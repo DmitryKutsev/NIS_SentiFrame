{
  "nbformat": 4,
  "nbformat_minor": 0,
  "metadata": {
    "colab": {
      "name": "Untitled24.ipynb",
      "provenance": [],
      "authorship_tag": "ABX9TyNEVMGO9MjnXMky73uZZZGJ",
      "include_colab_link": true
    },
    "kernelspec": {
      "name": "python3",
      "display_name": "Python 3"
    }
  },
  "cells": [
    {
      "cell_type": "markdown",
      "metadata": {
        "id": "view-in-github",
        "colab_type": "text"
      },
      "source": [
        "<a href=\"https://colab.research.google.com/github/DmitryKutsev/NIS_SentiFrame/blob/master/verbs_cosine_w2v_fasttext.ipynb\" target=\"_parent\"><img src=\"https://colab.research.google.com/assets/colab-badge.svg\" alt=\"Open In Colab\"/></a>"
      ]
    },
    {
      "cell_type": "code",
      "metadata": {
        "id": "ZnAbfQ2EytKo",
        "colab_type": "code",
        "outputId": "9fec586d-f96a-40fd-a952-4b4fb60a23f5",
        "colab": {
          "base_uri": "https://localhost:8080/",
          "height": 204
        }
      },
      "source": [
        "!wget rusvectores.org/static/models/rusvectores2/news_mystem_skipgram_1000_20_2015.bin.gz\n"
      ],
      "execution_count": 61,
      "outputs": [
        {
          "output_type": "stream",
          "text": [
            "--2020-03-07 10:07:20--  http://rusvectores.org/static/models/rusvectores2/news_mystem_skipgram_1000_20_2015.bin.gz\n",
            "Resolving rusvectores.org (rusvectores.org)... 116.203.104.23\n",
            "Connecting to rusvectores.org (rusvectores.org)|116.203.104.23|:80... connected.\n",
            "HTTP request sent, awaiting response... 200 OK\n",
            "Length: 549952184 (524M) [application/x-gzip]\n",
            "Saving to: ‘news_mystem_skipgram_1000_20_2015.bin.gz.1’\n",
            "\n",
            "news_mystem_skipgra 100%[===================>] 524.47M  27.7MB/s    in 21s     \n",
            "\n",
            "2020-03-07 10:07:42 (24.8 MB/s) - ‘news_mystem_skipgram_1000_20_2015.bin.gz.1’ saved [549952184/549952184]\n",
            "\n"
          ],
          "name": "stdout"
        }
      ]
    },
    {
      "cell_type": "code",
      "metadata": {
        "id": "GiEPhNdKxS4c",
        "colab_type": "code",
        "outputId": "02343621-9e10-40d1-9615-13cb17722681",
        "colab": {
          "base_uri": "https://localhost:8080/",
          "height": 122
        }
      },
      "source": [
        "!pip install pymorphy2[fast]"
      ],
      "execution_count": 62,
      "outputs": [
        {
          "output_type": "stream",
          "text": [
            "Requirement already satisfied: pymorphy2[fast] in /usr/local/lib/python3.6/dist-packages (0.8)\n",
            "Requirement already satisfied: docopt>=0.6 in /usr/local/lib/python3.6/dist-packages (from pymorphy2[fast]) (0.6.2)\n",
            "Requirement already satisfied: pymorphy2-dicts<3.0,>=2.4 in /usr/local/lib/python3.6/dist-packages (from pymorphy2[fast]) (2.4.393442.3710985)\n",
            "Requirement already satisfied: dawg-python>=0.7 in /usr/local/lib/python3.6/dist-packages (from pymorphy2[fast]) (0.7.2)\n",
            "Requirement already satisfied: DAWG>=0.7.3; extra == \"fast\" in /usr/local/lib/python3.6/dist-packages (from pymorphy2[fast]) (0.8.0)\n"
          ],
          "name": "stdout"
        }
      ]
    },
    {
      "cell_type": "code",
      "metadata": {
        "id": "4LCu8A0aAaMR",
        "colab_type": "code",
        "outputId": "b8f5897b-904e-429e-cd56-cbc950e1c30a",
        "colab": {
          "base_uri": "https://localhost:8080/",
          "height": 204
        }
      },
      "source": [
        "#!rm collection.json.1 collection.json\n",
        "!wget https://raw.githubusercontent.com/nicolay-r/RuSentiFrames/master/collection.json"
      ],
      "execution_count": 63,
      "outputs": [
        {
          "output_type": "stream",
          "text": [
            "--2020-03-07 10:07:46--  https://raw.githubusercontent.com/nicolay-r/RuSentiFrames/master/collection.json\n",
            "Resolving raw.githubusercontent.com (raw.githubusercontent.com)... 151.101.0.133, 151.101.64.133, 151.101.128.133, ...\n",
            "Connecting to raw.githubusercontent.com (raw.githubusercontent.com)|151.101.0.133|:443... connected.\n",
            "HTTP request sent, awaiting response... 200 OK\n",
            "Length: 606414 (592K) [text/plain]\n",
            "Saving to: ‘collection.json.1’\n",
            "\n",
            "\rcollection.json.1     0%[                    ]       0  --.-KB/s               \rcollection.json.1   100%[===================>] 592.20K  --.-KB/s    in 0.07s   \n",
            "\n",
            "2020-03-07 10:07:47 (8.12 MB/s) - ‘collection.json.1’ saved [606414/606414]\n",
            "\n"
          ],
          "name": "stdout"
        }
      ]
    },
    {
      "cell_type": "code",
      "metadata": {
        "id": "Q54jNAH9xiQ5",
        "colab_type": "code",
        "outputId": "b45ed433-e569-490b-87b5-ee0b225cacf6",
        "colab": {
          "base_uri": "https://localhost:8080/",
          "height": 204
        }
      },
      "source": [
        "!wget http://vectors.nlpl.eu/repository/20/187.zip"
      ],
      "execution_count": 64,
      "outputs": [
        {
          "output_type": "stream",
          "text": [
            "--2020-03-07 10:07:48--  http://vectors.nlpl.eu/repository/20/187.zip\n",
            "Resolving vectors.nlpl.eu (vectors.nlpl.eu)... 129.240.189.225\n",
            "Connecting to vectors.nlpl.eu (vectors.nlpl.eu)|129.240.189.225|:80... connected.\n",
            "HTTP request sent, awaiting response... 200 OK\n",
            "Length: 2692389554 (2.5G) [application/zip]\n",
            "Saving to: ‘187.zip.1’\n",
            "\n",
            "187.zip.1           100%[===================>]   2.51G  23.0MB/s    in 1m 57s  \n",
            "\n",
            "2020-03-07 10:09:46 (22.0 MB/s) - ‘187.zip.1’ saved [2692389554/2692389554]\n",
            "\n"
          ],
          "name": "stdout"
        }
      ]
    },
    {
      "cell_type": "code",
      "metadata": {
        "id": "4Opbjo29RbrG",
        "colab_type": "code",
        "outputId": "f3ddd368-faba-4d8d-bd69-89d98e3b7d20",
        "colab": {
          "base_uri": "https://localhost:8080/",
          "height": 136
        }
      },
      "source": [
        "!unzip 187.zip"
      ],
      "execution_count": 65,
      "outputs": [
        {
          "output_type": "stream",
          "text": [
            "Archive:  187.zip\n",
            "replace meta.json? [y]es, [n]o, [A]ll, [N]one, [r]ename: n\n",
            "replace model.model? [y]es, [n]o, [A]ll, [N]one, [r]ename: n\n",
            "replace model.model.vectors_ngrams.npy? [y]es, [n]o, [A]ll, [N]one, [r]ename: n\n",
            "replace model.model.vectors.npy? [y]es, [n]o, [A]ll, [N]one, [r]ename: n\n",
            "replace model.model.vectors_vocab.npy? [y]es, [n]o, [A]ll, [N]one, [r]ename: n\n",
            "replace README? [y]es, [n]o, [A]ll, [N]one, [r]ename: n\n"
          ],
          "name": "stdout"
        }
      ]
    },
    {
      "cell_type": "code",
      "metadata": {
        "id": "UAJGiE9aRgWm",
        "colab_type": "code",
        "outputId": "bb1dae17-65bc-4185-ed66-a8c9b3aea00b",
        "colab": {
          "base_uri": "https://localhost:8080/",
          "height": 136
        }
      },
      "source": [
        "!ls"
      ],
      "execution_count": 66,
      "outputs": [
        {
          "output_type": "stream",
          "text": [
            "187.zip\t\t\t\tmodel.model.vectors.npy\n",
            "187.zip.1\t\t\tmodel.model.vectors_vocab.npy\n",
            "collection.json\t\t\tnews_mystem_skipgram_1000_20_2015.bin.gz\n",
            "collection.json.1\t\tnews_mystem_skipgram_1000_20_2015.bin.gz.1\n",
            "meta.json\t\t\tREADME\n",
            "model.model\t\t\tsample_data\n",
            "model.model.vectors_ngrams.npy\n"
          ],
          "name": "stdout"
        }
      ]
    },
    {
      "cell_type": "code",
      "metadata": {
        "id": "XvF5IwNoO638",
        "colab_type": "code",
        "colab": {}
      },
      "source": [
        "import gensim\n",
        "from collections import Counter\n",
        "import json\n",
        "import pandas as pd\n",
        "import numpy as np\n",
        "from sklearn.metrics.pairwise import cosine_distances\n",
        "import pymorphy2\n",
        "morph = pymorphy2.MorphAnalyzer()"
      ],
      "execution_count": 0,
      "outputs": []
    },
    {
      "cell_type": "code",
      "metadata": {
        "id": "cnvQN_9NxxtC",
        "colab_type": "code",
        "colab": {}
      },
      "source": [
        ""
      ],
      "execution_count": 0,
      "outputs": []
    },
    {
      "cell_type": "code",
      "metadata": {
        "id": "VVqZukM10GFD",
        "colab_type": "code",
        "outputId": "fc1bc8ef-6237-483f-e9a5-ad1bb951cf12",
        "colab": {
          "base_uri": "https://localhost:8080/",
          "height": 71
        }
      },
      "source": [
        "skipgram_model = gensim.models.KeyedVectors.load_word2vec_format('news_mystem_skipgram_1000_20_2015.bin.gz', binary=True)"
      ],
      "execution_count": 68,
      "outputs": [
        {
          "output_type": "stream",
          "text": [
            "/usr/local/lib/python3.6/dist-packages/smart_open/smart_open_lib.py:402: UserWarning: This function is deprecated, use smart_open.open instead. See the migration notes for details: https://github.com/RaRe-Technologies/smart_open/blob/master/README.rst#migrating-to-the-new-open-function\n",
            "  'See the migration notes for details: %s' % _MIGRATION_NOTES_URL\n"
          ],
          "name": "stderr"
        }
      ]
    },
    {
      "cell_type": "code",
      "metadata": {
        "id": "n23yIcDQbmhO",
        "colab_type": "code",
        "outputId": "08490c7a-e5fa-47dd-c33f-d1e5b8283014",
        "colab": {
          "base_uri": "https://localhost:8080/",
          "height": 71
        }
      },
      "source": [
        "fasttext_model = gensim.models.KeyedVectors.load(\"model.model\")"
      ],
      "execution_count": 69,
      "outputs": [
        {
          "output_type": "stream",
          "text": [
            "/usr/local/lib/python3.6/dist-packages/smart_open/smart_open_lib.py:402: UserWarning: This function is deprecated, use smart_open.open instead. See the migration notes for details: https://github.com/RaRe-Technologies/smart_open/blob/master/README.rst#migrating-to-the-new-open-function\n",
            "  'See the migration notes for details: %s' % _MIGRATION_NOTES_URL\n"
          ],
          "name": "stderr"
        }
      ]
    },
    {
      "cell_type": "code",
      "metadata": {
        "id": "cJGCmbd6BZj1",
        "colab_type": "code",
        "colab": {}
      },
      "source": [
        "# rv_model.vocab\n",
        "# rv_model.get_vector('помочь_V')"
      ],
      "execution_count": 0,
      "outputs": []
    },
    {
      "cell_type": "code",
      "metadata": {
        "id": "qQUwjpBJjdZK",
        "colab_type": "code",
        "colab": {}
      },
      "source": [
        "# rv_model.vocab"
      ],
      "execution_count": 0,
      "outputs": []
    },
    {
      "cell_type": "code",
      "metadata": {
        "id": "H52b-hi-EFHc",
        "colab_type": "code",
        "colab": {}
      },
      "source": [
        "collection_handler = open(\"collection.json\", \"r\", encoding=\"utf-8\")\n",
        "collection = json.load(collection_handler, encoding=\"utf-8\")"
      ],
      "execution_count": 0,
      "outputs": []
    },
    {
      "cell_type": "code",
      "metadata": {
        "id": "8hCoLzvMJ_YZ",
        "colab_type": "code",
        "outputId": "959b8535-4ab1-41e1-f21b-4a68037be02d",
        "colab": {
          "base_uri": "https://localhost:8080/",
          "height": 204
        }
      },
      "source": [
        "\n",
        "def make_group(polarity_type_list):\n",
        "  \"\"\"\n",
        "  На вход подаются пары из разных типов отношений(p_type) в списках(как в переменных all_type_dict и pos_type_dict)\n",
        "  для каждой пары цикл ищет не более ста глаголов, у которых есть типы отношений, совпадающие с нашей парой, \n",
        "  которая подается на вход. \n",
        "  \"\"\"\n",
        "  group_dict = Counter()\n",
        "  for p_type in polarity_type_list:\n",
        "    print(p_type)\n",
        "    count = 0\n",
        "    for key in collection.keys():\n",
        "      if count < 100:\n",
        "        try:\n",
        "          #print(collection[key]['frames']['polarity'])\n",
        "          if p_type[0] in collection[key]['frames']['polarity'] and p_type[1] in collection[key]['frames']['polarity'] :\n",
        "          # эту строчку можно менять, если нам нужно искать отношения, где только ['a0', 'a1', 'pos', 1.0]:\n",
        "          # if p_type[0] in collection[key]['frames']['polarity'] and p_type[1] not in collection[key]['frames']['polarity'] : \n",
        "          # проблема! в лексиконе всего 20 отношений [['a0', 'a1', 'pos', 1.0], ['a1', 'a0', 'pos', 1.0]] c разными коэффициентами, и 51 таких, \n",
        "          # где ['a0', 'a1', 'pos', 1.0], а ['a1', 'a0', 'pos', 1.0] отсутствует\n",
        "            for ver in collection[key]['title']:\n",
        "              group_dict[ver] = p_type\n",
        "              count += 1\n",
        "            for var in collection[key]['variants']:\n",
        "              if len(var.split(' ')) > 1 and var[-2:] == 'ть':\n",
        "                group_dict[var] = p_type\n",
        "                count += 1\n",
        "\n",
        "              \n",
        "        except Exception as e:\n",
        "          pass\n",
        "  return group_dict\n",
        "\n",
        "all_type_dict = [[['a0', 'a1', 'pos', 1.0], ['a1', 'a0', 'pos', 1.0]], \\\n",
        "                 [['a0', 'a1', 'pos', 0.7], ['a1', 'a0', 'pos', 0.7]], \\\n",
        "                  [['a0', 'a1', 'neg', 0.7], ['a1', 'a0', 'neg', 0.7]], \\\n",
        "                  [['a0', 'a1', 'neg', 1.0], ['a1', 'a0', 'neg', 1.0]],\n",
        "                 ]\n",
        "pos_type_dict = [[['a0', 'a1', 'pos', 1.0], ['a1', 'a0', 'pos', 1.0]], \\\n",
        "                 [['a0', 'a1', 'pos', 0.7], ['a1', 'a0', 'pos', 0.7]], \\\n",
        "            \n",
        "                 ]\n",
        "neg_type_dict = [\n",
        "                  [['a0', 'a1', 'neg', 0.7], ['a1', 'a0', 'neg', 0.7]], \\\n",
        "                  [['a0', 'a1', 'neg', 1.0], ['a1', 'a0', 'neg', 1.0]],\n",
        "                 ]\n",
        "all_dict = make_group(all_type_dict)\n",
        "pos_dict = make_group(pos_type_dict)\n",
        "neg_dict = make_group(neg_type_dict)\n",
        "#len(groups_total_dict)\n",
        "print(len(all_dict))\n",
        "print(len(pos_dict))\n",
        "print(len(neg_dict))\n"
      ],
      "execution_count": 73,
      "outputs": [
        {
          "output_type": "stream",
          "text": [
            "[['a0', 'a1', 'pos', 1.0], ['a1', 'a0', 'pos', 1.0]]\n",
            "[['a0', 'a1', 'pos', 0.7], ['a1', 'a0', 'pos', 0.7]]\n",
            "[['a0', 'a1', 'neg', 0.7], ['a1', 'a0', 'neg', 0.7]]\n",
            "[['a0', 'a1', 'neg', 1.0], ['a1', 'a0', 'neg', 1.0]]\n",
            "[['a0', 'a1', 'pos', 1.0], ['a1', 'a0', 'pos', 1.0]]\n",
            "[['a0', 'a1', 'pos', 0.7], ['a1', 'a0', 'pos', 0.7]]\n",
            "[['a0', 'a1', 'neg', 0.7], ['a1', 'a0', 'neg', 0.7]]\n",
            "[['a0', 'a1', 'neg', 1.0], ['a1', 'a0', 'neg', 1.0]]\n",
            "169\n",
            "60\n",
            "109\n"
          ],
          "name": "stdout"
        }
      ]
    },
    {
      "cell_type": "code",
      "metadata": {
        "id": "IS0as8aSONAe",
        "colab_type": "code",
        "outputId": "21c69505-b5c6-46e0-b88d-425ed8a4e224",
        "colab": {
          "base_uri": "https://localhost:8080/",
          "height": 102
        }
      },
      "source": [
        "all_dict.most_common(5)"
      ],
      "execution_count": 74,
      "outputs": [
        {
          "output_type": "execute_result",
          "data": {
            "text/plain": [
              "[('помочь', [['a0', 'a1', 'pos', 1.0], ['a1', 'a0', 'pos', 1.0]]),\n",
              " ('поощрить', [['a0', 'a1', 'pos', 1.0], ['a1', 'a0', 'pos', 1.0]]),\n",
              " ('похвалить', [['a0', 'a1', 'pos', 1.0], ['a1', 'a0', 'pos', 1.0]]),\n",
              " ('приветствовать', [['a0', 'a1', 'pos', 1.0], ['a1', 'a0', 'pos', 1.0]]),\n",
              " ('радовать', [['a0', 'a1', 'pos', 1.0], ['a1', 'a0', 'pos', 1.0]])]"
            ]
          },
          "metadata": {
            "tags": []
          },
          "execution_count": 74
        }
      ]
    },
    {
      "cell_type": "code",
      "metadata": {
        "id": "6CWbCb7g2hew",
        "colab_type": "code",
        "outputId": "44658bdf-3708-4634-f292-35b7ccb01608",
        "colab": {
          "base_uri": "https://localhost:8080/",
          "height": 102
        }
      },
      "source": [
        "pos_dict.most_common(5)"
      ],
      "execution_count": 75,
      "outputs": [
        {
          "output_type": "execute_result",
          "data": {
            "text/plain": [
              "[('помочь', [['a0', 'a1', 'pos', 1.0], ['a1', 'a0', 'pos', 1.0]]),\n",
              " ('поощрить', [['a0', 'a1', 'pos', 1.0], ['a1', 'a0', 'pos', 1.0]]),\n",
              " ('похвалить', [['a0', 'a1', 'pos', 1.0], ['a1', 'a0', 'pos', 1.0]]),\n",
              " ('приветствовать', [['a0', 'a1', 'pos', 1.0], ['a1', 'a0', 'pos', 1.0]]),\n",
              " ('радовать', [['a0', 'a1', 'pos', 1.0], ['a1', 'a0', 'pos', 1.0]])]"
            ]
          },
          "metadata": {
            "tags": []
          },
          "execution_count": 75
        }
      ]
    },
    {
      "cell_type": "code",
      "metadata": {
        "id": "Wv7Uy-Ql2hcD",
        "colab_type": "code",
        "outputId": "7da1ea80-a225-4cd8-bd51-91caba7db7e7",
        "colab": {
          "base_uri": "https://localhost:8080/",
          "height": 119
        }
      },
      "source": [
        "neg_dict.most_common(5)"
      ],
      "execution_count": 76,
      "outputs": [
        {
          "output_type": "execute_result",
          "data": {
            "text/plain": [
              "[('отказать', [['a0', 'a1', 'neg', 1.0], ['a1', 'a0', 'neg', 1.0]]),\n",
              " ('ответить отрицательно',\n",
              "  [['a0', 'a1', 'neg', 1.0], ['a1', 'a0', 'neg', 1.0]]),\n",
              " ('грозить', [['a0', 'a1', 'neg', 1.0], ['a1', 'a0', 'neg', 1.0]]),\n",
              " ('нести угрозу', [['a0', 'a1', 'neg', 1.0], ['a1', 'a0', 'neg', 1.0]]),\n",
              " ('подозревать', [['a0', 'a1', 'neg', 1.0], ['a1', 'a0', 'neg', 1.0]])]"
            ]
          },
          "metadata": {
            "tags": []
          },
          "execution_count": 76
        }
      ]
    },
    {
      "cell_type": "markdown",
      "metadata": {
        "id": "62KJDC4nIdpL",
        "colab_type": "text"
      },
      "source": [
        "## **Для начала сформируем вектор сидового множества с позитивными глаголами.**"
      ]
    },
    {
      "cell_type": "code",
      "metadata": {
        "id": "6i7pSMpM2LOo",
        "colab_type": "code",
        "colab": {}
      },
      "source": [
        "seed_one_dict = ['одобрять', 'хвалить', 'поощрять']\n",
        "def make_seed_embedding(seed_dict, model):\n",
        "  '''\n",
        "  Принимает на вход список, на выходе дает средний вектор всех слов из этого списка\n",
        "  '''\n",
        "  summ = 0\n",
        "  if model == skipgram_model:\n",
        "    for verb in seed_dict:\n",
        "      summ = summ + model[verb + '_V']\n",
        "    vector = summ/len(seed_dict)\n",
        "  else:\n",
        "    for verb in seed_dict:\n",
        "      summ = summ + model.get_vector(verb)\n",
        "    vector = summ/len(seed_dict)\n",
        "\n",
        "  return vector\n",
        "seed_one_skipgram = make_seed_embedding(seed_one_dict, skipgram_model)\n",
        "seed_one_fasttext = make_seed_embedding(seed_one_dict, fasttext_model)"
      ],
      "execution_count": 0,
      "outputs": []
    },
    {
      "cell_type": "code",
      "metadata": {
        "id": "Y_Kx6wM-LTas",
        "colab_type": "code",
        "outputId": "a58211f6-29f6-4e24-961d-e9ecf429ec21",
        "colab": {
          "base_uri": "https://localhost:8080/",
          "height": 68
        }
      },
      "source": [
        "#polar_verbs = [verb for verb in groups_total_dict.keys()]\n",
        "all_relations_pol = [pol for pol in all_dict.keys()]\n",
        "pos_relations_pol = [pol for pol in pos_dict.keys()]\n",
        "neg_relations_pol = [pol for pol in neg_dict.keys()]\n",
        "print(len(all_relations_pol))\n",
        "print(len(pos_relations_pol))\n",
        "print(len(neg_relations_pol))"
      ],
      "execution_count": 78,
      "outputs": [
        {
          "output_type": "stream",
          "text": [
            "169\n",
            "60\n",
            "109\n"
          ],
          "name": "stdout"
        }
      ]
    },
    {
      "cell_type": "markdown",
      "metadata": {
        "id": "5DQJY_vBIonj",
        "colab_type": "text"
      },
      "source": [
        "## **В некоторых случаях попадаются не только глаголы, но и какие-то фразы, содержащие глагол. Далее оставим только глагол.**"
      ]
    },
    {
      "cell_type": "code",
      "metadata": {
        "id": "j6hlm-4sbY4g",
        "colab_type": "code",
        "outputId": "1f5f4a84-a341-4822-cd98-1640a10fc701",
        "colab": {
          "base_uri": "https://localhost:8080/",
          "height": 170
        }
      },
      "source": [
        "def sort_verbs(my_dict):\n",
        "  '''\n",
        "  Принимает на вход словарь слов и словосочетаний, если видит, что там словосочетание, \n",
        "  оставляет только глагол. Возвращает отфильтрованный список.\n",
        "  '''\n",
        "  polar_verbs_list = []\n",
        "  for phrase in my_dict.keys():\n",
        "    if len(phrase.split(' ')) > 1:\n",
        "      for verb in phrase.split(' '):\n",
        "        if 'VERB' in morph.parse(verb)[0].tag or 'INFN' in morph.parse(verb)[0].tag:\n",
        "          polar_verbs_list.append(verb)\n",
        "    else:\n",
        "      polar_verbs_list.append(phrase)\n",
        "  print(polar_verbs_list[:10])\n",
        "  return polar_verbs_list\n",
        "\n",
        "all_relations_list = sort_verbs(all_dict)\n",
        "pos_relations_list = sort_verbs(pos_dict)\n",
        "neg_relations_list = sort_verbs(neg_dict)\n",
        "\n",
        "print(len(all_dict))\n",
        "print(len(pos_dict))\n",
        "print(len(neg_dict))\n",
        "\n",
        "print(len(all_relations_list))\n",
        "print(len(pos_relations_list))\n",
        "print(len(neg_relations_list))\n"
      ],
      "execution_count": 79,
      "outputs": [
        {
          "output_type": "stream",
          "text": [
            "['помочь', 'поощрить', 'похвалить', 'приветствовать', 'радовать', 'дарить', 'доставить', 'доставлять', 'подарить', 'спасти']\n",
            "['помочь', 'поощрить', 'похвалить', 'приветствовать', 'радовать', 'дарить', 'доставить', 'доставлять', 'подарить', 'спасти']\n",
            "['повредить', 'испортить', 'обеспокоить', 'потрясти', 'доминировать', 'выследить', 'настичь', 'догнать', 'ворваться', 'ловить']\n",
            "169\n",
            "60\n",
            "109\n",
            "169\n",
            "60\n",
            "109\n"
          ],
          "name": "stdout"
        }
      ]
    },
    {
      "cell_type": "markdown",
      "metadata": {
        "id": "24qYydjCI4Ov",
        "colab_type": "text"
      },
      "source": [
        "## **Сделаем датафреймы для всех глаголов вообще, и отдельно для негативных и позитивных.**"
      ]
    },
    {
      "cell_type": "code",
      "metadata": {
        "id": "3q19xDa_LTdK",
        "colab_type": "code",
        "colab": {}
      },
      "source": [
        "df_all = pd.DataFrame({'verbs':all_relations_list, 'phrase':all_relations_pol})\n",
        "df_pos = pd.DataFrame({'verbs':pos_relations_list, 'phrase':pos_relations_pol})\n",
        "df_neg = pd.DataFrame({'verbs':neg_relations_list, 'phrase':neg_relations_pol})"
      ],
      "execution_count": 0,
      "outputs": []
    },
    {
      "cell_type": "markdown",
      "metadata": {
        "id": "FENKIuuDJCHS",
        "colab_type": "text"
      },
      "source": [
        "## **И положим туда значение косинусной дистанции между вектором сидового множества, и каждым из глаголов. Некоторых глаголов нет в моделях, это отобразится в таблице тоже.**"
      ]
    },
    {
      "cell_type": "code",
      "metadata": {
        "id": "EkdwG2nzOEjv",
        "colab_type": "code",
        "outputId": "6fbf5590-2a05-44d8-b487-defd3f36423e",
        "colab": {
          "base_uri": "https://localhost:8080/",
          "height": 221
        }
      },
      "source": [
        "def add_sim_list(model, my_verbs_list, seed_vector):\n",
        "  '''\n",
        "  Принимает на вход модель, как назвать результирующую колонку в датафрейме,\n",
        "  словарь из глаголов, и средний вектор сидового множества.\n",
        "  записывает колонку в датафрейм, возвращает словарь косинусных расстояний\n",
        "  '''\n",
        "  sim_list = []\n",
        "  if model == skipgram_model:  \n",
        "    for verb in my_verbs_list:\n",
        "        try:\n",
        "          similarity = cosine_distances(np.atleast_2d(model[verb + '_V']), np.atleast_2d(seed_vector))\n",
        "        except KeyError as e:\n",
        "          similarity = 'verb is not in model dict'\n",
        "        sim_list.append(similarity)\n",
        "  else:\n",
        "    for verb in my_verbs_list:\n",
        "      try:\n",
        "        similarity = cosine_distances(np.atleast_2d(model.get_vector(verb)), np.atleast_2d(seed_vector))\n",
        "      except (KeyError, AttributeError) as e:\n",
        "        similarity = 'verb is not in model dict'\n",
        "      sim_list.append(similarity)\n",
        "  print(len(sim_list))\n",
        "  print(len(my_verbs_list))\n",
        "\n",
        "  #dataframe[df_pos] = sim_list\n",
        "  return sim_list\n",
        "\n",
        "#add_sim_list(rv_model, verbs, opinion_embedding)\n",
        "df_all['w2v_model'] = add_sim_list(skipgram_model, all_relations_list, seed_one_skipgram)\n",
        "df_all['fasttext_model'] = add_sim_list(fasttext_model, all_relations_list, seed_one_fasttext)\n",
        "\n",
        "df_pos['w2v_model'] = add_sim_list(skipgram_model, pos_relations_list, seed_one_skipgram)\n",
        "df_pos['fasttext_model'] = add_sim_list(fasttext_model, pos_relations_list, seed_one_fasttext)\n",
        "\n",
        "df_neg['w2v_model'] = add_sim_list(skipgram_model, neg_relations_list, seed_one_skipgram)\n",
        "df_neg['fasttext_model'] = add_sim_list(fasttext_model, neg_relations_list, seed_one_fasttext)"
      ],
      "execution_count": 81,
      "outputs": [
        {
          "output_type": "stream",
          "text": [
            "169\n",
            "169\n",
            "169\n",
            "169\n",
            "60\n",
            "60\n",
            "60\n",
            "60\n",
            "109\n",
            "109\n",
            "109\n",
            "109\n"
          ],
          "name": "stdout"
        }
      ]
    },
    {
      "cell_type": "code",
      "metadata": {
        "id": "-QccA6swf1Pl",
        "colab_type": "code",
        "colab": {}
      },
      "source": [
        "def add_sim_list(model, my_verbs_list, seed_vector):\n",
        "  '''\n",
        "  Принимает на вход модель, как назвать результирующую колонку в датафрейме,\n",
        "  словарь из глаголов, и средний вектор сидового множества.\n",
        "  записывает колонку в датафрейм, возвращает словарь косинусных расстояний\n",
        "  '''\n",
        "  sim_list = []\n",
        "  if model == skipgram_model:  \n",
        "    for verb in my_verbs_list:\n",
        "        try:\n",
        "          similarity = cosine_distances(np.atleast_2d(model[verb + '_V']), np.atleast_2d(seed_vector))\n",
        "        except KeyError as e:\n",
        "          similarity = 'verb is not in model dict'\n",
        "        sim_list.append(similarity)\n",
        "  else:\n",
        "    for verb in my_verbs_list:\n",
        "      try:\n",
        "        similarity = cosine_distances(np.atleast_2d(model.get_vector(verb)), np.atleast_2d(seed_vector))\n",
        "      except (KeyError, AttributeError) as e:\n",
        "        similarity = 'verb is not in model dict'\n",
        "      sim_list.append(similarity)\n",
        "  print(len(sim_list))\n",
        "  print(len(my_verbs_list))\n",
        "\n",
        "  #dataframe[df_pos] = sim_list\n",
        "  return sim_list"
      ],
      "execution_count": 0,
      "outputs": []
    },
    {
      "cell_type": "code",
      "metadata": {
        "id": "N1619m4BgD0f",
        "colab_type": "code",
        "colab": {}
      },
      "source": [
        "def find_close_vector(model, pos_seed, neg_seed, verbs_list):\n",
        "\n",
        "  sim_list = []\n",
        "  if model == skipgram_model:  \n",
        "    for verb in my_verbs_list:\n",
        "        try:\n",
        "          pos_dist = cosine_distances(np.atleast_2d(model[verb + '_V']), np.atleast_2d(make_seed_embedding(pos_seed)))\n",
        "          neg_dist = cosine_distances(np.atleast_2d(model[verb + '_V']), np.atleast_2d(make_seed_embedding(neg_seed)))\n",
        "          if pos_dist < neg_dist:\n",
        "            similarity = 'positive'\n",
        "          else:\n",
        "            similarity = 'negative'\n",
        "        except KeyError as e:\n",
        "          similarity = 'verb is not in model dict'\n",
        "        sim_list.append([verb, similarity])\n",
        "  else:\n",
        "    for verb in my_verbs_list:\n",
        "      try:\n",
        "        pos_dist = cosine_distances(np.atleast_2d(model.get_vector(verb)), np.atleast_2d(make_seed_embedding(pos_seed)))\n",
        "        neg_dist = cosine_distances(np.atleast_2d(model.get_vector(verb)), np.atleast_2d(make_seed_embedding(neg_seed)))\n",
        "          if pos_dist < neg_dist:\n",
        "            similarity = 'positive'\n",
        "          else:\n",
        "            similarity = 'negative'        \n",
        "      except (KeyError, AttributeError) as e:\n",
        "        similarity = 'verb is not in model dict'\n",
        "      sim_list.append([verb, similarity])\n",
        "  print(len(sim_list))\n",
        "  print(len(my_verbs_list))\n",
        "\n",
        "  #dataframe[df_pos] = sim_list\n",
        "  return sim_list"
      ],
      "execution_count": 0,
      "outputs": []
    },
    {
      "cell_type": "code",
      "metadata": {
        "id": "KTBI0QJ7gD7_",
        "colab_type": "code",
        "colab": {}
      },
      "source": [
        ""
      ],
      "execution_count": 0,
      "outputs": []
    },
    {
      "cell_type": "code",
      "metadata": {
        "id": "cxhQ_QlYgEEY",
        "colab_type": "code",
        "colab": {}
      },
      "source": [
        ""
      ],
      "execution_count": 0,
      "outputs": []
    },
    {
      "cell_type": "code",
      "metadata": {
        "id": "AQ2h8KdxOEmO",
        "colab_type": "code",
        "outputId": "c9c4ee74-c542-4629-962a-24f1aa54ae49",
        "colab": {
          "base_uri": "https://localhost:8080/",
          "height": 80
        }
      },
      "source": [
        "df_all.head(1)"
      ],
      "execution_count": 82,
      "outputs": [
        {
          "output_type": "execute_result",
          "data": {
            "text/html": [
              "<div>\n",
              "<style scoped>\n",
              "    .dataframe tbody tr th:only-of-type {\n",
              "        vertical-align: middle;\n",
              "    }\n",
              "\n",
              "    .dataframe tbody tr th {\n",
              "        vertical-align: top;\n",
              "    }\n",
              "\n",
              "    .dataframe thead th {\n",
              "        text-align: right;\n",
              "    }\n",
              "</style>\n",
              "<table border=\"1\" class=\"dataframe\">\n",
              "  <thead>\n",
              "    <tr style=\"text-align: right;\">\n",
              "      <th></th>\n",
              "      <th>verbs</th>\n",
              "      <th>phrase</th>\n",
              "      <th>w2v_model</th>\n",
              "      <th>fasttext_model</th>\n",
              "    </tr>\n",
              "  </thead>\n",
              "  <tbody>\n",
              "    <tr>\n",
              "      <th>0</th>\n",
              "      <td>помочь</td>\n",
              "      <td>помочь</td>\n",
              "      <td>verb is not in model dict</td>\n",
              "      <td>[[0.91887474]]</td>\n",
              "    </tr>\n",
              "  </tbody>\n",
              "</table>\n",
              "</div>"
            ],
            "text/plain": [
              "    verbs  phrase                  w2v_model  fasttext_model\n",
              "0  помочь  помочь  verb is not in model dict  [[0.91887474]]"
            ]
          },
          "metadata": {
            "tags": []
          },
          "execution_count": 82
        }
      ]
    },
    {
      "cell_type": "code",
      "metadata": {
        "id": "ZUbl_ikQOEo5",
        "colab_type": "code",
        "outputId": "85a06e79-df33-4c20-a119-97cacbcfc558",
        "colab": {
          "base_uri": "https://localhost:8080/",
          "height": 204
        }
      },
      "source": [
        "df_pos.head(5)"
      ],
      "execution_count": 83,
      "outputs": [
        {
          "output_type": "execute_result",
          "data": {
            "text/html": [
              "<div>\n",
              "<style scoped>\n",
              "    .dataframe tbody tr th:only-of-type {\n",
              "        vertical-align: middle;\n",
              "    }\n",
              "\n",
              "    .dataframe tbody tr th {\n",
              "        vertical-align: top;\n",
              "    }\n",
              "\n",
              "    .dataframe thead th {\n",
              "        text-align: right;\n",
              "    }\n",
              "</style>\n",
              "<table border=\"1\" class=\"dataframe\">\n",
              "  <thead>\n",
              "    <tr style=\"text-align: right;\">\n",
              "      <th></th>\n",
              "      <th>verbs</th>\n",
              "      <th>phrase</th>\n",
              "      <th>w2v_model</th>\n",
              "      <th>fasttext_model</th>\n",
              "    </tr>\n",
              "  </thead>\n",
              "  <tbody>\n",
              "    <tr>\n",
              "      <th>0</th>\n",
              "      <td>помочь</td>\n",
              "      <td>помочь</td>\n",
              "      <td>verb is not in model dict</td>\n",
              "      <td>[[0.91887474]]</td>\n",
              "    </tr>\n",
              "    <tr>\n",
              "      <th>1</th>\n",
              "      <td>поощрить</td>\n",
              "      <td>поощрить</td>\n",
              "      <td>verb is not in model dict</td>\n",
              "      <td>[[0.17637241]]</td>\n",
              "    </tr>\n",
              "    <tr>\n",
              "      <th>2</th>\n",
              "      <td>похвалить</td>\n",
              "      <td>похвалить</td>\n",
              "      <td>[[0.48269153]]</td>\n",
              "      <td>[[0.20982283]]</td>\n",
              "    </tr>\n",
              "    <tr>\n",
              "      <th>3</th>\n",
              "      <td>приветствовать</td>\n",
              "      <td>приветствовать</td>\n",
              "      <td>[[0.5898497]]</td>\n",
              "      <td>[[0.36748838]]</td>\n",
              "    </tr>\n",
              "    <tr>\n",
              "      <th>4</th>\n",
              "      <td>радовать</td>\n",
              "      <td>радовать</td>\n",
              "      <td>[[0.72734857]]</td>\n",
              "      <td>[[0.38311976]]</td>\n",
              "    </tr>\n",
              "  </tbody>\n",
              "</table>\n",
              "</div>"
            ],
            "text/plain": [
              "            verbs          phrase                  w2v_model  fasttext_model\n",
              "0          помочь          помочь  verb is not in model dict  [[0.91887474]]\n",
              "1        поощрить        поощрить  verb is not in model dict  [[0.17637241]]\n",
              "2       похвалить       похвалить             [[0.48269153]]  [[0.20982283]]\n",
              "3  приветствовать  приветствовать              [[0.5898497]]  [[0.36748838]]\n",
              "4        радовать        радовать             [[0.72734857]]  [[0.38311976]]"
            ]
          },
          "metadata": {
            "tags": []
          },
          "execution_count": 83
        }
      ]
    },
    {
      "cell_type": "code",
      "metadata": {
        "id": "hyeZz7_3OEuX",
        "colab_type": "code",
        "outputId": "5c0070fb-2666-4e1f-bf19-ee1de31b1de8",
        "colab": {
          "base_uri": "https://localhost:8080/",
          "height": 204
        }
      },
      "source": [
        "df_neg.head(5)"
      ],
      "execution_count": 84,
      "outputs": [
        {
          "output_type": "execute_result",
          "data": {
            "text/html": [
              "<div>\n",
              "<style scoped>\n",
              "    .dataframe tbody tr th:only-of-type {\n",
              "        vertical-align: middle;\n",
              "    }\n",
              "\n",
              "    .dataframe tbody tr th {\n",
              "        vertical-align: top;\n",
              "    }\n",
              "\n",
              "    .dataframe thead th {\n",
              "        text-align: right;\n",
              "    }\n",
              "</style>\n",
              "<table border=\"1\" class=\"dataframe\">\n",
              "  <thead>\n",
              "    <tr style=\"text-align: right;\">\n",
              "      <th></th>\n",
              "      <th>verbs</th>\n",
              "      <th>phrase</th>\n",
              "      <th>w2v_model</th>\n",
              "      <th>fasttext_model</th>\n",
              "    </tr>\n",
              "  </thead>\n",
              "  <tbody>\n",
              "    <tr>\n",
              "      <th>0</th>\n",
              "      <td>повредить</td>\n",
              "      <td>повредить</td>\n",
              "      <td>verb is not in model dict</td>\n",
              "      <td>[[0.5450003]]</td>\n",
              "    </tr>\n",
              "    <tr>\n",
              "      <th>1</th>\n",
              "      <td>испортить</td>\n",
              "      <td>испортить</td>\n",
              "      <td>[[0.78414404]]</td>\n",
              "      <td>[[0.41191667]]</td>\n",
              "    </tr>\n",
              "    <tr>\n",
              "      <th>2</th>\n",
              "      <td>обеспокоить</td>\n",
              "      <td>обеспокоить</td>\n",
              "      <td>[[0.7456583]]</td>\n",
              "      <td>[[0.5044007]]</td>\n",
              "    </tr>\n",
              "    <tr>\n",
              "      <th>3</th>\n",
              "      <td>потрясти</td>\n",
              "      <td>потрясти до глубины души</td>\n",
              "      <td>verb is not in model dict</td>\n",
              "      <td>[[0.69239753]]</td>\n",
              "    </tr>\n",
              "    <tr>\n",
              "      <th>4</th>\n",
              "      <td>доминировать</td>\n",
              "      <td>доминировать</td>\n",
              "      <td>[[0.8056042]]</td>\n",
              "      <td>[[0.52223873]]</td>\n",
              "    </tr>\n",
              "  </tbody>\n",
              "</table>\n",
              "</div>"
            ],
            "text/plain": [
              "          verbs  ...  fasttext_model\n",
              "0     повредить  ...   [[0.5450003]]\n",
              "1     испортить  ...  [[0.41191667]]\n",
              "2   обеспокоить  ...   [[0.5044007]]\n",
              "3      потрясти  ...  [[0.69239753]]\n",
              "4  доминировать  ...  [[0.52223873]]\n",
              "\n",
              "[5 rows x 4 columns]"
            ]
          },
          "metadata": {
            "tags": []
          },
          "execution_count": 84
        }
      ]
    },
    {
      "cell_type": "markdown",
      "metadata": {
        "id": "Qj-cGwJ9EsW-",
        "colab_type": "text"
      },
      "source": [
        "## **Попробуем другие сидовые множества.**"
      ]
    },
    {
      "cell_type": "code",
      "metadata": {
        "id": "Ca_ZuNAXOExG",
        "colab_type": "code",
        "colab": {}
      },
      "source": [
        "seed_two_dict = ['осуждать', 'негодовать']"
      ],
      "execution_count": 0,
      "outputs": []
    },
    {
      "cell_type": "code",
      "metadata": {
        "id": "j5X8EAC-OEzW",
        "colab_type": "code",
        "colab": {}
      },
      "source": [
        "seed_two_skipgram = make_seed_embedding(seed_two_dict, skipgram_model)\n",
        "seed_two_fasttext = make_seed_embedding(seed_two_dict, fasttext_model)"
      ],
      "execution_count": 0,
      "outputs": []
    },
    {
      "cell_type": "code",
      "metadata": {
        "id": "i83_R8M6EqmY",
        "colab_type": "code",
        "colab": {}
      },
      "source": [
        "df_all2 = pd.DataFrame({'verbs':all_relations_list, 'phrase':all_relations_pol})\n",
        "df_pos2 = pd.DataFrame({'verbs':pos_relations_list, 'phrase':pos_relations_pol})\n",
        "df_neg2 = pd.DataFrame({'verbs':neg_relations_list, 'phrase':neg_relations_pol})"
      ],
      "execution_count": 0,
      "outputs": []
    },
    {
      "cell_type": "code",
      "metadata": {
        "id": "eX0m-8qcEqkj",
        "colab_type": "code",
        "outputId": "aca2b7c9-bcdb-4b20-e061-8c9996193e3f",
        "colab": {
          "base_uri": "https://localhost:8080/",
          "height": 221
        }
      },
      "source": [
        "df_all2['w2v_model'] = add_sim_list(skipgram_model, all_relations_list, seed_two_skipgram)\n",
        "df_all2['fasttext_model'] = add_sim_list(fasttext_model, all_relations_list, seed_two_fasttext)\n",
        "\n",
        "df_pos2['w2v_model'] = add_sim_list(skipgram_model, pos_relations_list, seed_two_skipgram)\n",
        "df_pos2['fasttext_model'] = add_sim_list(fasttext_model, pos_relations_list, seed_two_fasttext)\n",
        "\n",
        "df_neg2['w2v_model'] = add_sim_list(skipgram_model, neg_relations_list, seed_two_skipgram)\n",
        "df_neg2['fasttext_model'] = add_sim_list(fasttext_model, neg_relations_list, seed_two_fasttext)"
      ],
      "execution_count": 88,
      "outputs": [
        {
          "output_type": "stream",
          "text": [
            "169\n",
            "169\n",
            "169\n",
            "169\n",
            "60\n",
            "60\n",
            "60\n",
            "60\n",
            "109\n",
            "109\n",
            "109\n",
            "109\n"
          ],
          "name": "stdout"
        }
      ]
    },
    {
      "cell_type": "code",
      "metadata": {
        "id": "6KytnkL2Eqgp",
        "colab_type": "code",
        "outputId": "38114e60-6795-426e-dcbf-1d3c7877079b",
        "colab": {
          "base_uri": "https://localhost:8080/",
          "height": 80
        }
      },
      "source": [
        "df_all2.head(1)"
      ],
      "execution_count": 89,
      "outputs": [
        {
          "output_type": "execute_result",
          "data": {
            "text/html": [
              "<div>\n",
              "<style scoped>\n",
              "    .dataframe tbody tr th:only-of-type {\n",
              "        vertical-align: middle;\n",
              "    }\n",
              "\n",
              "    .dataframe tbody tr th {\n",
              "        vertical-align: top;\n",
              "    }\n",
              "\n",
              "    .dataframe thead th {\n",
              "        text-align: right;\n",
              "    }\n",
              "</style>\n",
              "<table border=\"1\" class=\"dataframe\">\n",
              "  <thead>\n",
              "    <tr style=\"text-align: right;\">\n",
              "      <th></th>\n",
              "      <th>verbs</th>\n",
              "      <th>phrase</th>\n",
              "      <th>w2v_model</th>\n",
              "      <th>fasttext_model</th>\n",
              "    </tr>\n",
              "  </thead>\n",
              "  <tbody>\n",
              "    <tr>\n",
              "      <th>0</th>\n",
              "      <td>помочь</td>\n",
              "      <td>помочь</td>\n",
              "      <td>verb is not in model dict</td>\n",
              "      <td>[[1.0172709]]</td>\n",
              "    </tr>\n",
              "  </tbody>\n",
              "</table>\n",
              "</div>"
            ],
            "text/plain": [
              "    verbs  phrase                  w2v_model fasttext_model\n",
              "0  помочь  помочь  verb is not in model dict  [[1.0172709]]"
            ]
          },
          "metadata": {
            "tags": []
          },
          "execution_count": 89
        }
      ]
    },
    {
      "cell_type": "code",
      "metadata": {
        "id": "TOu47tHiGFtO",
        "colab_type": "code",
        "outputId": "d82eaf29-e803-4568-83a9-e6838128ab3d",
        "colab": {
          "base_uri": "https://localhost:8080/",
          "height": 204
        }
      },
      "source": [
        "df_pos2.head(5)"
      ],
      "execution_count": 90,
      "outputs": [
        {
          "output_type": "execute_result",
          "data": {
            "text/html": [
              "<div>\n",
              "<style scoped>\n",
              "    .dataframe tbody tr th:only-of-type {\n",
              "        vertical-align: middle;\n",
              "    }\n",
              "\n",
              "    .dataframe tbody tr th {\n",
              "        vertical-align: top;\n",
              "    }\n",
              "\n",
              "    .dataframe thead th {\n",
              "        text-align: right;\n",
              "    }\n",
              "</style>\n",
              "<table border=\"1\" class=\"dataframe\">\n",
              "  <thead>\n",
              "    <tr style=\"text-align: right;\">\n",
              "      <th></th>\n",
              "      <th>verbs</th>\n",
              "      <th>phrase</th>\n",
              "      <th>w2v_model</th>\n",
              "      <th>fasttext_model</th>\n",
              "    </tr>\n",
              "  </thead>\n",
              "  <tbody>\n",
              "    <tr>\n",
              "      <th>0</th>\n",
              "      <td>помочь</td>\n",
              "      <td>помочь</td>\n",
              "      <td>verb is not in model dict</td>\n",
              "      <td>[[1.0172709]]</td>\n",
              "    </tr>\n",
              "    <tr>\n",
              "      <th>1</th>\n",
              "      <td>поощрить</td>\n",
              "      <td>поощрить</td>\n",
              "      <td>verb is not in model dict</td>\n",
              "      <td>[[0.4265676]]</td>\n",
              "    </tr>\n",
              "    <tr>\n",
              "      <th>2</th>\n",
              "      <td>похвалить</td>\n",
              "      <td>похвалить</td>\n",
              "      <td>[[0.7065598]]</td>\n",
              "      <td>[[0.50444555]]</td>\n",
              "    </tr>\n",
              "    <tr>\n",
              "      <th>3</th>\n",
              "      <td>приветствовать</td>\n",
              "      <td>приветствовать</td>\n",
              "      <td>[[0.74483865]]</td>\n",
              "      <td>[[0.43908948]]</td>\n",
              "    </tr>\n",
              "    <tr>\n",
              "      <th>4</th>\n",
              "      <td>радовать</td>\n",
              "      <td>радовать</td>\n",
              "      <td>[[0.8283391]]</td>\n",
              "      <td>[[0.50327724]]</td>\n",
              "    </tr>\n",
              "  </tbody>\n",
              "</table>\n",
              "</div>"
            ],
            "text/plain": [
              "            verbs          phrase                  w2v_model  fasttext_model\n",
              "0          помочь          помочь  verb is not in model dict   [[1.0172709]]\n",
              "1        поощрить        поощрить  verb is not in model dict   [[0.4265676]]\n",
              "2       похвалить       похвалить              [[0.7065598]]  [[0.50444555]]\n",
              "3  приветствовать  приветствовать             [[0.74483865]]  [[0.43908948]]\n",
              "4        радовать        радовать              [[0.8283391]]  [[0.50327724]]"
            ]
          },
          "metadata": {
            "tags": []
          },
          "execution_count": 90
        }
      ]
    },
    {
      "cell_type": "code",
      "metadata": {
        "id": "veA9Io3kGFzc",
        "colab_type": "code",
        "outputId": "d087fd02-0162-445b-f327-c0189b528ba6",
        "colab": {
          "base_uri": "https://localhost:8080/",
          "height": 204
        }
      },
      "source": [
        "df_neg2.head(5)"
      ],
      "execution_count": 91,
      "outputs": [
        {
          "output_type": "execute_result",
          "data": {
            "text/html": [
              "<div>\n",
              "<style scoped>\n",
              "    .dataframe tbody tr th:only-of-type {\n",
              "        vertical-align: middle;\n",
              "    }\n",
              "\n",
              "    .dataframe tbody tr th {\n",
              "        vertical-align: top;\n",
              "    }\n",
              "\n",
              "    .dataframe thead th {\n",
              "        text-align: right;\n",
              "    }\n",
              "</style>\n",
              "<table border=\"1\" class=\"dataframe\">\n",
              "  <thead>\n",
              "    <tr style=\"text-align: right;\">\n",
              "      <th></th>\n",
              "      <th>verbs</th>\n",
              "      <th>phrase</th>\n",
              "      <th>w2v_model</th>\n",
              "      <th>fasttext_model</th>\n",
              "    </tr>\n",
              "  </thead>\n",
              "  <tbody>\n",
              "    <tr>\n",
              "      <th>0</th>\n",
              "      <td>повредить</td>\n",
              "      <td>повредить</td>\n",
              "      <td>verb is not in model dict</td>\n",
              "      <td>[[0.53814566]]</td>\n",
              "    </tr>\n",
              "    <tr>\n",
              "      <th>1</th>\n",
              "      <td>испортить</td>\n",
              "      <td>испортить</td>\n",
              "      <td>[[0.77675235]]</td>\n",
              "      <td>[[0.43742788]]</td>\n",
              "    </tr>\n",
              "    <tr>\n",
              "      <th>2</th>\n",
              "      <td>обеспокоить</td>\n",
              "      <td>обеспокоить</td>\n",
              "      <td>[[0.643383]]</td>\n",
              "      <td>[[0.4523908]]</td>\n",
              "    </tr>\n",
              "    <tr>\n",
              "      <th>3</th>\n",
              "      <td>потрясти</td>\n",
              "      <td>потрясти до глубины души</td>\n",
              "      <td>verb is not in model dict</td>\n",
              "      <td>[[0.6660273]]</td>\n",
              "    </tr>\n",
              "    <tr>\n",
              "      <th>4</th>\n",
              "      <td>доминировать</td>\n",
              "      <td>доминировать</td>\n",
              "      <td>[[0.8884222]]</td>\n",
              "      <td>[[0.46882892]]</td>\n",
              "    </tr>\n",
              "  </tbody>\n",
              "</table>\n",
              "</div>"
            ],
            "text/plain": [
              "          verbs  ...  fasttext_model\n",
              "0     повредить  ...  [[0.53814566]]\n",
              "1     испортить  ...  [[0.43742788]]\n",
              "2   обеспокоить  ...   [[0.4523908]]\n",
              "3      потрясти  ...   [[0.6660273]]\n",
              "4  доминировать  ...  [[0.46882892]]\n",
              "\n",
              "[5 rows x 4 columns]"
            ]
          },
          "metadata": {
            "tags": []
          },
          "execution_count": 91
        }
      ]
    },
    {
      "cell_type": "code",
      "metadata": {
        "id": "gJblDnEDGFql",
        "colab_type": "code",
        "colab": {}
      },
      "source": [
        "seed_three_dict = ['обожать', 'восхищаться', 'восторгаться', 'нравиться', 'ценить', 'гордиться']"
      ],
      "execution_count": 0,
      "outputs": []
    },
    {
      "cell_type": "code",
      "metadata": {
        "id": "IJk4yNd1uFtO",
        "colab_type": "code",
        "colab": {}
      },
      "source": [
        "seed_three_skipgram = make_seed_embedding(seed_three_dict, skipgram_model)\n",
        "seed_three_fasttext = make_seed_embedding(seed_three_dict, fasttext_model)"
      ],
      "execution_count": 0,
      "outputs": []
    },
    {
      "cell_type": "code",
      "metadata": {
        "id": "BWs8gdWCuFq6",
        "colab_type": "code",
        "colab": {}
      },
      "source": [
        "df_all3 = pd.DataFrame({'verbs':all_relations_list, 'phrase':all_relations_pol})\n",
        "df_pos3 = pd.DataFrame({'verbs':pos_relations_list, 'phrase':pos_relations_pol})\n",
        "df_neg3 = pd.DataFrame({'verbs':neg_relations_list, 'phrase':neg_relations_pol})"
      ],
      "execution_count": 0,
      "outputs": []
    },
    {
      "cell_type": "code",
      "metadata": {
        "id": "oEFBaFr1uFm3",
        "colab_type": "code",
        "outputId": "4e5dc9bc-e29d-416d-c777-abfe410c52d5",
        "colab": {
          "base_uri": "https://localhost:8080/",
          "height": 221
        }
      },
      "source": [
        "df_all3['w2v_model'] = add_sim_list(skipgram_model, all_relations_list, seed_three_skipgram)\n",
        "df_all3['fasttext_model'] = add_sim_list(fasttext_model, all_relations_list, seed_three_fasttext)\n",
        "\n",
        "df_pos3['w2v_model'] = add_sim_list(skipgram_model, pos_relations_list, seed_three_skipgram)\n",
        "df_pos3['fasttext_model'] = add_sim_list(fasttext_model, pos_relations_list, seed_three_fasttext)\n",
        "\n",
        "df_neg3['w2v_model'] = add_sim_list(skipgram_model, neg_relations_list, seed_three_skipgram)\n",
        "df_neg3['fasttext_model'] = add_sim_list(fasttext_model, neg_relations_list, seed_three_fasttext)"
      ],
      "execution_count": 95,
      "outputs": [
        {
          "output_type": "stream",
          "text": [
            "169\n",
            "169\n",
            "169\n",
            "169\n",
            "60\n",
            "60\n",
            "60\n",
            "60\n",
            "109\n",
            "109\n",
            "109\n",
            "109\n"
          ],
          "name": "stdout"
        }
      ]
    },
    {
      "cell_type": "code",
      "metadata": {
        "id": "3blOp1bdu17U",
        "colab_type": "code",
        "outputId": "70ede408-269c-4258-e6bf-0ed035b9986e",
        "colab": {
          "base_uri": "https://localhost:8080/",
          "height": 80
        }
      },
      "source": [
        "df_all3.head(1)"
      ],
      "execution_count": 96,
      "outputs": [
        {
          "output_type": "execute_result",
          "data": {
            "text/html": [
              "<div>\n",
              "<style scoped>\n",
              "    .dataframe tbody tr th:only-of-type {\n",
              "        vertical-align: middle;\n",
              "    }\n",
              "\n",
              "    .dataframe tbody tr th {\n",
              "        vertical-align: top;\n",
              "    }\n",
              "\n",
              "    .dataframe thead th {\n",
              "        text-align: right;\n",
              "    }\n",
              "</style>\n",
              "<table border=\"1\" class=\"dataframe\">\n",
              "  <thead>\n",
              "    <tr style=\"text-align: right;\">\n",
              "      <th></th>\n",
              "      <th>verbs</th>\n",
              "      <th>phrase</th>\n",
              "      <th>w2v_model</th>\n",
              "      <th>fasttext_model</th>\n",
              "    </tr>\n",
              "  </thead>\n",
              "  <tbody>\n",
              "    <tr>\n",
              "      <th>0</th>\n",
              "      <td>помочь</td>\n",
              "      <td>помочь</td>\n",
              "      <td>verb is not in model dict</td>\n",
              "      <td>[[1.0869569]]</td>\n",
              "    </tr>\n",
              "  </tbody>\n",
              "</table>\n",
              "</div>"
            ],
            "text/plain": [
              "    verbs  phrase                  w2v_model fasttext_model\n",
              "0  помочь  помочь  verb is not in model dict  [[1.0869569]]"
            ]
          },
          "metadata": {
            "tags": []
          },
          "execution_count": 96
        }
      ]
    },
    {
      "cell_type": "code",
      "metadata": {
        "id": "5itZQ4NKu15N",
        "colab_type": "code",
        "outputId": "d4492e92-69a2-4304-cca1-84bd34c0bb9c",
        "colab": {
          "base_uri": "https://localhost:8080/",
          "height": 204
        }
      },
      "source": [
        "df_pos3.head(5)"
      ],
      "execution_count": 97,
      "outputs": [
        {
          "output_type": "execute_result",
          "data": {
            "text/html": [
              "<div>\n",
              "<style scoped>\n",
              "    .dataframe tbody tr th:only-of-type {\n",
              "        vertical-align: middle;\n",
              "    }\n",
              "\n",
              "    .dataframe tbody tr th {\n",
              "        vertical-align: top;\n",
              "    }\n",
              "\n",
              "    .dataframe thead th {\n",
              "        text-align: right;\n",
              "    }\n",
              "</style>\n",
              "<table border=\"1\" class=\"dataframe\">\n",
              "  <thead>\n",
              "    <tr style=\"text-align: right;\">\n",
              "      <th></th>\n",
              "      <th>verbs</th>\n",
              "      <th>phrase</th>\n",
              "      <th>w2v_model</th>\n",
              "      <th>fasttext_model</th>\n",
              "    </tr>\n",
              "  </thead>\n",
              "  <tbody>\n",
              "    <tr>\n",
              "      <th>0</th>\n",
              "      <td>помочь</td>\n",
              "      <td>помочь</td>\n",
              "      <td>verb is not in model dict</td>\n",
              "      <td>[[1.0869569]]</td>\n",
              "    </tr>\n",
              "    <tr>\n",
              "      <th>1</th>\n",
              "      <td>поощрить</td>\n",
              "      <td>поощрить</td>\n",
              "      <td>verb is not in model dict</td>\n",
              "      <td>[[0.42445105]]</td>\n",
              "    </tr>\n",
              "    <tr>\n",
              "      <th>2</th>\n",
              "      <td>похвалить</td>\n",
              "      <td>похвалить</td>\n",
              "      <td>[[0.5607922]]</td>\n",
              "      <td>[[0.34632283]]</td>\n",
              "    </tr>\n",
              "    <tr>\n",
              "      <th>3</th>\n",
              "      <td>приветствовать</td>\n",
              "      <td>приветствовать</td>\n",
              "      <td>[[0.6863141]]</td>\n",
              "      <td>[[0.41872245]]</td>\n",
              "    </tr>\n",
              "    <tr>\n",
              "      <th>4</th>\n",
              "      <td>радовать</td>\n",
              "      <td>радовать</td>\n",
              "      <td>[[0.5692914]]</td>\n",
              "      <td>[[0.267159]]</td>\n",
              "    </tr>\n",
              "  </tbody>\n",
              "</table>\n",
              "</div>"
            ],
            "text/plain": [
              "            verbs          phrase                  w2v_model  fasttext_model\n",
              "0          помочь          помочь  verb is not in model dict   [[1.0869569]]\n",
              "1        поощрить        поощрить  verb is not in model dict  [[0.42445105]]\n",
              "2       похвалить       похвалить              [[0.5607922]]  [[0.34632283]]\n",
              "3  приветствовать  приветствовать              [[0.6863141]]  [[0.41872245]]\n",
              "4        радовать        радовать              [[0.5692914]]    [[0.267159]]"
            ]
          },
          "metadata": {
            "tags": []
          },
          "execution_count": 97
        }
      ]
    },
    {
      "cell_type": "code",
      "metadata": {
        "id": "bCyWbjNGu12j",
        "colab_type": "code",
        "outputId": "a58bc215-b3de-459a-e84a-deca88bb0831",
        "colab": {
          "base_uri": "https://localhost:8080/",
          "height": 204
        }
      },
      "source": [
        "df_neg3.head(5)"
      ],
      "execution_count": 98,
      "outputs": [
        {
          "output_type": "execute_result",
          "data": {
            "text/html": [
              "<div>\n",
              "<style scoped>\n",
              "    .dataframe tbody tr th:only-of-type {\n",
              "        vertical-align: middle;\n",
              "    }\n",
              "\n",
              "    .dataframe tbody tr th {\n",
              "        vertical-align: top;\n",
              "    }\n",
              "\n",
              "    .dataframe thead th {\n",
              "        text-align: right;\n",
              "    }\n",
              "</style>\n",
              "<table border=\"1\" class=\"dataframe\">\n",
              "  <thead>\n",
              "    <tr style=\"text-align: right;\">\n",
              "      <th></th>\n",
              "      <th>verbs</th>\n",
              "      <th>phrase</th>\n",
              "      <th>w2v_model</th>\n",
              "      <th>fasttext_model</th>\n",
              "    </tr>\n",
              "  </thead>\n",
              "  <tbody>\n",
              "    <tr>\n",
              "      <th>0</th>\n",
              "      <td>повредить</td>\n",
              "      <td>повредить</td>\n",
              "      <td>verb is not in model dict</td>\n",
              "      <td>[[0.5909805]]</td>\n",
              "    </tr>\n",
              "    <tr>\n",
              "      <th>1</th>\n",
              "      <td>испортить</td>\n",
              "      <td>испортить</td>\n",
              "      <td>[[0.7522595]]</td>\n",
              "      <td>[[0.43052638]]</td>\n",
              "    </tr>\n",
              "    <tr>\n",
              "      <th>2</th>\n",
              "      <td>обеспокоить</td>\n",
              "      <td>обеспокоить</td>\n",
              "      <td>[[0.74948955]]</td>\n",
              "      <td>[[0.55537665]]</td>\n",
              "    </tr>\n",
              "    <tr>\n",
              "      <th>3</th>\n",
              "      <td>потрясти</td>\n",
              "      <td>потрясти до глубины души</td>\n",
              "      <td>verb is not in model dict</td>\n",
              "      <td>[[0.5817593]]</td>\n",
              "    </tr>\n",
              "    <tr>\n",
              "      <th>4</th>\n",
              "      <td>доминировать</td>\n",
              "      <td>доминировать</td>\n",
              "      <td>[[0.780125]]</td>\n",
              "      <td>[[0.49368525]]</td>\n",
              "    </tr>\n",
              "  </tbody>\n",
              "</table>\n",
              "</div>"
            ],
            "text/plain": [
              "          verbs  ...  fasttext_model\n",
              "0     повредить  ...   [[0.5909805]]\n",
              "1     испортить  ...  [[0.43052638]]\n",
              "2   обеспокоить  ...  [[0.55537665]]\n",
              "3      потрясти  ...   [[0.5817593]]\n",
              "4  доминировать  ...  [[0.49368525]]\n",
              "\n",
              "[5 rows x 4 columns]"
            ]
          },
          "metadata": {
            "tags": []
          },
          "execution_count": 98
        }
      ]
    },
    {
      "cell_type": "code",
      "metadata": {
        "id": "DgeVgSbSBzOR",
        "colab_type": "code",
        "colab": {}
      },
      "source": [
        "seed_four_dict = ['хвалить', 'нахваливать', 'превозносить']"
      ],
      "execution_count": 0,
      "outputs": []
    },
    {
      "cell_type": "code",
      "metadata": {
        "id": "yNCRFAXrBzL3",
        "colab_type": "code",
        "colab": {}
      },
      "source": [
        "seed_four_skipgram = make_seed_embedding(seed_four_dict, skipgram_model)\n",
        "seed_four_fasttext = make_seed_embedding(seed_four_dict, fasttext_model)"
      ],
      "execution_count": 0,
      "outputs": []
    },
    {
      "cell_type": "code",
      "metadata": {
        "id": "XaIcfyu7EoAP",
        "colab_type": "code",
        "colab": {}
      },
      "source": [
        "df_all4 = pd.DataFrame({'verbs':all_relations_list, 'phrase':all_relations_pol})\n",
        "df_pos4 = pd.DataFrame({'verbs':pos_relations_list, 'phrase':pos_relations_pol})\n",
        "df_neg4 = pd.DataFrame({'verbs':neg_relations_list, 'phrase':neg_relations_pol})"
      ],
      "execution_count": 0,
      "outputs": []
    },
    {
      "cell_type": "code",
      "metadata": {
        "id": "0MldZHdeEn9u",
        "colab_type": "code",
        "outputId": "ea30bbdb-7733-4a94-d596-dfbe3e862acb",
        "colab": {
          "base_uri": "https://localhost:8080/",
          "height": 221
        }
      },
      "source": [
        "df_all4['w2v_model'] = add_sim_list(skipgram_model, all_relations_list, seed_four_skipgram)\n",
        "df_all4['fasttext_model'] = add_sim_list(fasttext_model, all_relations_list, seed_four_fasttext)\n",
        "\n",
        "df_pos4['w2v_model'] = add_sim_list(skipgram_model, pos_relations_list, seed_four_skipgram)\n",
        "df_pos4['fasttext_model'] = add_sim_list(fasttext_model, pos_relations_list, seed_four_fasttext)\n",
        "\n",
        "df_neg4['w2v_model'] = add_sim_list(skipgram_model, neg_relations_list, seed_four_skipgram)\n",
        "df_neg4['fasttext_model'] = add_sim_list(fasttext_model, neg_relations_list, seed_four_fasttext)"
      ],
      "execution_count": 102,
      "outputs": [
        {
          "output_type": "stream",
          "text": [
            "169\n",
            "169\n",
            "169\n",
            "169\n",
            "60\n",
            "60\n",
            "60\n",
            "60\n",
            "109\n",
            "109\n",
            "109\n",
            "109\n"
          ],
          "name": "stdout"
        }
      ]
    },
    {
      "cell_type": "code",
      "metadata": {
        "id": "lWw-3leOEn6v",
        "colab_type": "code",
        "outputId": "99c04069-4ce7-4ac9-9004-6f63c6edd759",
        "colab": {
          "base_uri": "https://localhost:8080/",
          "height": 80
        }
      },
      "source": [
        "df_all4.head(1)"
      ],
      "execution_count": 103,
      "outputs": [
        {
          "output_type": "execute_result",
          "data": {
            "text/html": [
              "<div>\n",
              "<style scoped>\n",
              "    .dataframe tbody tr th:only-of-type {\n",
              "        vertical-align: middle;\n",
              "    }\n",
              "\n",
              "    .dataframe tbody tr th {\n",
              "        vertical-align: top;\n",
              "    }\n",
              "\n",
              "    .dataframe thead th {\n",
              "        text-align: right;\n",
              "    }\n",
              "</style>\n",
              "<table border=\"1\" class=\"dataframe\">\n",
              "  <thead>\n",
              "    <tr style=\"text-align: right;\">\n",
              "      <th></th>\n",
              "      <th>verbs</th>\n",
              "      <th>phrase</th>\n",
              "      <th>w2v_model</th>\n",
              "      <th>fasttext_model</th>\n",
              "    </tr>\n",
              "  </thead>\n",
              "  <tbody>\n",
              "    <tr>\n",
              "      <th>0</th>\n",
              "      <td>помочь</td>\n",
              "      <td>помочь</td>\n",
              "      <td>verb is not in model dict</td>\n",
              "      <td>[[1.0470661]]</td>\n",
              "    </tr>\n",
              "  </tbody>\n",
              "</table>\n",
              "</div>"
            ],
            "text/plain": [
              "    verbs  phrase                  w2v_model fasttext_model\n",
              "0  помочь  помочь  verb is not in model dict  [[1.0470661]]"
            ]
          },
          "metadata": {
            "tags": []
          },
          "execution_count": 103
        }
      ]
    },
    {
      "cell_type": "code",
      "metadata": {
        "id": "IPNnhaN3E_M-",
        "colab_type": "code",
        "outputId": "00e05547-28aa-451c-9718-1442deb9a7d8",
        "colab": {
          "base_uri": "https://localhost:8080/",
          "height": 204
        }
      },
      "source": [
        "df_pos4.head(5)"
      ],
      "execution_count": 104,
      "outputs": [
        {
          "output_type": "execute_result",
          "data": {
            "text/html": [
              "<div>\n",
              "<style scoped>\n",
              "    .dataframe tbody tr th:only-of-type {\n",
              "        vertical-align: middle;\n",
              "    }\n",
              "\n",
              "    .dataframe tbody tr th {\n",
              "        vertical-align: top;\n",
              "    }\n",
              "\n",
              "    .dataframe thead th {\n",
              "        text-align: right;\n",
              "    }\n",
              "</style>\n",
              "<table border=\"1\" class=\"dataframe\">\n",
              "  <thead>\n",
              "    <tr style=\"text-align: right;\">\n",
              "      <th></th>\n",
              "      <th>verbs</th>\n",
              "      <th>phrase</th>\n",
              "      <th>w2v_model</th>\n",
              "      <th>fasttext_model</th>\n",
              "    </tr>\n",
              "  </thead>\n",
              "  <tbody>\n",
              "    <tr>\n",
              "      <th>0</th>\n",
              "      <td>помочь</td>\n",
              "      <td>помочь</td>\n",
              "      <td>verb is not in model dict</td>\n",
              "      <td>[[1.0470661]]</td>\n",
              "    </tr>\n",
              "    <tr>\n",
              "      <th>1</th>\n",
              "      <td>поощрить</td>\n",
              "      <td>поощрить</td>\n",
              "      <td>verb is not in model dict</td>\n",
              "      <td>[[0.32173353]]</td>\n",
              "    </tr>\n",
              "    <tr>\n",
              "      <th>2</th>\n",
              "      <td>похвалить</td>\n",
              "      <td>похвалить</td>\n",
              "      <td>[[0.4625256]]</td>\n",
              "      <td>[[0.16315764]]</td>\n",
              "    </tr>\n",
              "    <tr>\n",
              "      <th>3</th>\n",
              "      <td>приветствовать</td>\n",
              "      <td>приветствовать</td>\n",
              "      <td>[[0.73000586]]</td>\n",
              "      <td>[[0.41382754]]</td>\n",
              "    </tr>\n",
              "    <tr>\n",
              "      <th>4</th>\n",
              "      <td>радовать</td>\n",
              "      <td>радовать</td>\n",
              "      <td>[[0.6887789]]</td>\n",
              "      <td>[[0.3956275]]</td>\n",
              "    </tr>\n",
              "  </tbody>\n",
              "</table>\n",
              "</div>"
            ],
            "text/plain": [
              "            verbs          phrase                  w2v_model  fasttext_model\n",
              "0          помочь          помочь  verb is not in model dict   [[1.0470661]]\n",
              "1        поощрить        поощрить  verb is not in model dict  [[0.32173353]]\n",
              "2       похвалить       похвалить              [[0.4625256]]  [[0.16315764]]\n",
              "3  приветствовать  приветствовать             [[0.73000586]]  [[0.41382754]]\n",
              "4        радовать        радовать              [[0.6887789]]   [[0.3956275]]"
            ]
          },
          "metadata": {
            "tags": []
          },
          "execution_count": 104
        }
      ]
    },
    {
      "cell_type": "code",
      "metadata": {
        "id": "MzzHBi5oE_ZD",
        "colab_type": "code",
        "outputId": "05382a98-495a-4a90-d946-f02ef540fac1",
        "colab": {
          "base_uri": "https://localhost:8080/",
          "height": 204
        }
      },
      "source": [
        "df_neg4.head(5)"
      ],
      "execution_count": 105,
      "outputs": [
        {
          "output_type": "execute_result",
          "data": {
            "text/html": [
              "<div>\n",
              "<style scoped>\n",
              "    .dataframe tbody tr th:only-of-type {\n",
              "        vertical-align: middle;\n",
              "    }\n",
              "\n",
              "    .dataframe tbody tr th {\n",
              "        vertical-align: top;\n",
              "    }\n",
              "\n",
              "    .dataframe thead th {\n",
              "        text-align: right;\n",
              "    }\n",
              "</style>\n",
              "<table border=\"1\" class=\"dataframe\">\n",
              "  <thead>\n",
              "    <tr style=\"text-align: right;\">\n",
              "      <th></th>\n",
              "      <th>verbs</th>\n",
              "      <th>phrase</th>\n",
              "      <th>w2v_model</th>\n",
              "      <th>fasttext_model</th>\n",
              "    </tr>\n",
              "  </thead>\n",
              "  <tbody>\n",
              "    <tr>\n",
              "      <th>0</th>\n",
              "      <td>повредить</td>\n",
              "      <td>повредить</td>\n",
              "      <td>verb is not in model dict</td>\n",
              "      <td>[[0.51155555]]</td>\n",
              "    </tr>\n",
              "    <tr>\n",
              "      <th>1</th>\n",
              "      <td>испортить</td>\n",
              "      <td>испортить</td>\n",
              "      <td>[[0.78878605]]</td>\n",
              "      <td>[[0.39415395]]</td>\n",
              "    </tr>\n",
              "    <tr>\n",
              "      <th>2</th>\n",
              "      <td>обеспокоить</td>\n",
              "      <td>обеспокоить</td>\n",
              "      <td>[[0.8354587]]</td>\n",
              "      <td>[[0.6093259]]</td>\n",
              "    </tr>\n",
              "    <tr>\n",
              "      <th>3</th>\n",
              "      <td>потрясти</td>\n",
              "      <td>потрясти до глубины души</td>\n",
              "      <td>verb is not in model dict</td>\n",
              "      <td>[[0.60367393]]</td>\n",
              "    </tr>\n",
              "    <tr>\n",
              "      <th>4</th>\n",
              "      <td>доминировать</td>\n",
              "      <td>доминировать</td>\n",
              "      <td>[[0.7563846]]</td>\n",
              "      <td>[[0.53989583]]</td>\n",
              "    </tr>\n",
              "  </tbody>\n",
              "</table>\n",
              "</div>"
            ],
            "text/plain": [
              "          verbs  ...  fasttext_model\n",
              "0     повредить  ...  [[0.51155555]]\n",
              "1     испортить  ...  [[0.39415395]]\n",
              "2   обеспокоить  ...   [[0.6093259]]\n",
              "3      потрясти  ...  [[0.60367393]]\n",
              "4  доминировать  ...  [[0.53989583]]\n",
              "\n",
              "[5 rows x 4 columns]"
            ]
          },
          "metadata": {
            "tags": []
          },
          "execution_count": 105
        }
      ]
    },
    {
      "cell_type": "code",
      "metadata": {
        "id": "yx6bZqLtBzIp",
        "colab_type": "code",
        "colab": {}
      },
      "source": [
        ""
      ],
      "execution_count": 0,
      "outputs": []
    },
    {
      "cell_type": "code",
      "metadata": {
        "id": "Pw43tsHw79Zv",
        "colab_type": "code",
        "colab": {}
      },
      "source": [
        "seed_five_dict = ['знать', 'понимать', 'думать']"
      ],
      "execution_count": 0,
      "outputs": []
    },
    {
      "cell_type": "code",
      "metadata": {
        "id": "3Wv3iA7V79cx",
        "colab_type": "code",
        "colab": {}
      },
      "source": [
        "seed_five_skipgram = make_seed_embedding(seed_five_dict, skipgram_model)\n",
        "seed_five_fasttext = make_seed_embedding(seed_five_dict, fasttext_model)"
      ],
      "execution_count": 0,
      "outputs": []
    },
    {
      "cell_type": "code",
      "metadata": {
        "id": "Jn3wr3AV79gY",
        "colab_type": "code",
        "colab": {}
      },
      "source": [
        "df_all5 = pd.DataFrame({'verbs':all_relations_list, 'phrase':all_relations_pol})\n",
        "df_pos5 = pd.DataFrame({'verbs':pos_relations_list, 'phrase':pos_relations_pol})\n",
        "df_neg5 = pd.DataFrame({'verbs':neg_relations_list, 'phrase':neg_relations_pol})"
      ],
      "execution_count": 0,
      "outputs": []
    },
    {
      "cell_type": "code",
      "metadata": {
        "id": "4tQ3m1CS79jJ",
        "colab_type": "code",
        "outputId": "d7b8bb5e-1ce5-456a-fa47-1a30361a6748",
        "colab": {
          "base_uri": "https://localhost:8080/",
          "height": 221
        }
      },
      "source": [
        "df_all5['w2v_model'] = add_sim_list(skipgram_model, all_relations_list, seed_five_skipgram)\n",
        "df_all5['fasttext_model'] = add_sim_list(fasttext_model, all_relations_list, seed_five_fasttext)\n",
        "\n",
        "df_pos5['w2v_model'] = add_sim_list(skipgram_model, pos_relations_list, seed_five_skipgram)\n",
        "df_pos5['fasttext_model'] = add_sim_list(fasttext_model, pos_relations_list, seed_five_fasttext)\n",
        "\n",
        "df_neg5['w2v_model'] = add_sim_list(skipgram_model, neg_relations_list, seed_five_skipgram)\n",
        "df_neg5['fasttext_model'] = add_sim_list(fasttext_model, neg_relations_list, seed_five_fasttext)"
      ],
      "execution_count": 109,
      "outputs": [
        {
          "output_type": "stream",
          "text": [
            "169\n",
            "169\n",
            "169\n",
            "169\n",
            "60\n",
            "60\n",
            "60\n",
            "60\n",
            "109\n",
            "109\n",
            "109\n",
            "109\n"
          ],
          "name": "stdout"
        }
      ]
    },
    {
      "cell_type": "code",
      "metadata": {
        "id": "z-It600P8TdX",
        "colab_type": "code",
        "outputId": "dcd8d8db-e782-4223-9b65-71bcf1753578",
        "colab": {
          "base_uri": "https://localhost:8080/",
          "height": 80
        }
      },
      "source": [
        "df_all5.head(1)"
      ],
      "execution_count": 110,
      "outputs": [
        {
          "output_type": "execute_result",
          "data": {
            "text/html": [
              "<div>\n",
              "<style scoped>\n",
              "    .dataframe tbody tr th:only-of-type {\n",
              "        vertical-align: middle;\n",
              "    }\n",
              "\n",
              "    .dataframe tbody tr th {\n",
              "        vertical-align: top;\n",
              "    }\n",
              "\n",
              "    .dataframe thead th {\n",
              "        text-align: right;\n",
              "    }\n",
              "</style>\n",
              "<table border=\"1\" class=\"dataframe\">\n",
              "  <thead>\n",
              "    <tr style=\"text-align: right;\">\n",
              "      <th></th>\n",
              "      <th>verbs</th>\n",
              "      <th>phrase</th>\n",
              "      <th>w2v_model</th>\n",
              "      <th>fasttext_model</th>\n",
              "    </tr>\n",
              "  </thead>\n",
              "  <tbody>\n",
              "    <tr>\n",
              "      <th>0</th>\n",
              "      <td>помочь</td>\n",
              "      <td>помочь</td>\n",
              "      <td>verb is not in model dict</td>\n",
              "      <td>[[0.77468705]]</td>\n",
              "    </tr>\n",
              "  </tbody>\n",
              "</table>\n",
              "</div>"
            ],
            "text/plain": [
              "    verbs  phrase                  w2v_model  fasttext_model\n",
              "0  помочь  помочь  verb is not in model dict  [[0.77468705]]"
            ]
          },
          "metadata": {
            "tags": []
          },
          "execution_count": 110
        }
      ]
    },
    {
      "cell_type": "code",
      "metadata": {
        "id": "cLYDieOG8TgU",
        "colab_type": "code",
        "outputId": "43e0d54f-d902-473e-a837-5bda05154637",
        "colab": {
          "base_uri": "https://localhost:8080/",
          "height": 204
        }
      },
      "source": [
        "df_pos5.head(5)"
      ],
      "execution_count": 111,
      "outputs": [
        {
          "output_type": "execute_result",
          "data": {
            "text/html": [
              "<div>\n",
              "<style scoped>\n",
              "    .dataframe tbody tr th:only-of-type {\n",
              "        vertical-align: middle;\n",
              "    }\n",
              "\n",
              "    .dataframe tbody tr th {\n",
              "        vertical-align: top;\n",
              "    }\n",
              "\n",
              "    .dataframe thead th {\n",
              "        text-align: right;\n",
              "    }\n",
              "</style>\n",
              "<table border=\"1\" class=\"dataframe\">\n",
              "  <thead>\n",
              "    <tr style=\"text-align: right;\">\n",
              "      <th></th>\n",
              "      <th>verbs</th>\n",
              "      <th>phrase</th>\n",
              "      <th>w2v_model</th>\n",
              "      <th>fasttext_model</th>\n",
              "    </tr>\n",
              "  </thead>\n",
              "  <tbody>\n",
              "    <tr>\n",
              "      <th>0</th>\n",
              "      <td>помочь</td>\n",
              "      <td>помочь</td>\n",
              "      <td>verb is not in model dict</td>\n",
              "      <td>[[0.77468705]]</td>\n",
              "    </tr>\n",
              "    <tr>\n",
              "      <th>1</th>\n",
              "      <td>поощрить</td>\n",
              "      <td>поощрить</td>\n",
              "      <td>verb is not in model dict</td>\n",
              "      <td>[[0.5927094]]</td>\n",
              "    </tr>\n",
              "    <tr>\n",
              "      <th>2</th>\n",
              "      <td>похвалить</td>\n",
              "      <td>похвалить</td>\n",
              "      <td>[[0.7282261]]</td>\n",
              "      <td>[[0.5880505]]</td>\n",
              "    </tr>\n",
              "    <tr>\n",
              "      <th>3</th>\n",
              "      <td>приветствовать</td>\n",
              "      <td>приветствовать</td>\n",
              "      <td>[[0.84770906]]</td>\n",
              "      <td>[[0.76272225]]</td>\n",
              "    </tr>\n",
              "    <tr>\n",
              "      <th>4</th>\n",
              "      <td>радовать</td>\n",
              "      <td>радовать</td>\n",
              "      <td>[[0.7502494]]</td>\n",
              "      <td>[[0.56329155]]</td>\n",
              "    </tr>\n",
              "  </tbody>\n",
              "</table>\n",
              "</div>"
            ],
            "text/plain": [
              "            verbs          phrase                  w2v_model  fasttext_model\n",
              "0          помочь          помочь  verb is not in model dict  [[0.77468705]]\n",
              "1        поощрить        поощрить  verb is not in model dict   [[0.5927094]]\n",
              "2       похвалить       похвалить              [[0.7282261]]   [[0.5880505]]\n",
              "3  приветствовать  приветствовать             [[0.84770906]]  [[0.76272225]]\n",
              "4        радовать        радовать              [[0.7502494]]  [[0.56329155]]"
            ]
          },
          "metadata": {
            "tags": []
          },
          "execution_count": 111
        }
      ]
    },
    {
      "cell_type": "code",
      "metadata": {
        "id": "Un_geXcL8Tit",
        "colab_type": "code",
        "outputId": "9750dc10-34c2-42f5-fcd4-d2504dbc3421",
        "colab": {
          "base_uri": "https://localhost:8080/",
          "height": 204
        }
      },
      "source": [
        "df_neg5.head(5)"
      ],
      "execution_count": 112,
      "outputs": [
        {
          "output_type": "execute_result",
          "data": {
            "text/html": [
              "<div>\n",
              "<style scoped>\n",
              "    .dataframe tbody tr th:only-of-type {\n",
              "        vertical-align: middle;\n",
              "    }\n",
              "\n",
              "    .dataframe tbody tr th {\n",
              "        vertical-align: top;\n",
              "    }\n",
              "\n",
              "    .dataframe thead th {\n",
              "        text-align: right;\n",
              "    }\n",
              "</style>\n",
              "<table border=\"1\" class=\"dataframe\">\n",
              "  <thead>\n",
              "    <tr style=\"text-align: right;\">\n",
              "      <th></th>\n",
              "      <th>verbs</th>\n",
              "      <th>phrase</th>\n",
              "      <th>w2v_model</th>\n",
              "      <th>fasttext_model</th>\n",
              "    </tr>\n",
              "  </thead>\n",
              "  <tbody>\n",
              "    <tr>\n",
              "      <th>0</th>\n",
              "      <td>повредить</td>\n",
              "      <td>повредить</td>\n",
              "      <td>verb is not in model dict</td>\n",
              "      <td>[[0.68238425]]</td>\n",
              "    </tr>\n",
              "    <tr>\n",
              "      <th>1</th>\n",
              "      <td>испортить</td>\n",
              "      <td>испортить</td>\n",
              "      <td>[[0.7806171]]</td>\n",
              "      <td>[[0.59634995]]</td>\n",
              "    </tr>\n",
              "    <tr>\n",
              "      <th>2</th>\n",
              "      <td>обеспокоить</td>\n",
              "      <td>обеспокоить</td>\n",
              "      <td>[[0.81098634]]</td>\n",
              "      <td>[[0.48944563]]</td>\n",
              "    </tr>\n",
              "    <tr>\n",
              "      <th>3</th>\n",
              "      <td>потрясти</td>\n",
              "      <td>потрясти до глубины души</td>\n",
              "      <td>verb is not in model dict</td>\n",
              "      <td>[[0.7270875]]</td>\n",
              "    </tr>\n",
              "    <tr>\n",
              "      <th>4</th>\n",
              "      <td>доминировать</td>\n",
              "      <td>доминировать</td>\n",
              "      <td>[[0.7912472]]</td>\n",
              "      <td>[[0.7196263]]</td>\n",
              "    </tr>\n",
              "  </tbody>\n",
              "</table>\n",
              "</div>"
            ],
            "text/plain": [
              "          verbs  ...  fasttext_model\n",
              "0     повредить  ...  [[0.68238425]]\n",
              "1     испортить  ...  [[0.59634995]]\n",
              "2   обеспокоить  ...  [[0.48944563]]\n",
              "3      потрясти  ...   [[0.7270875]]\n",
              "4  доминировать  ...   [[0.7196263]]\n",
              "\n",
              "[5 rows x 4 columns]"
            ]
          },
          "metadata": {
            "tags": []
          },
          "execution_count": 112
        }
      ]
    },
    {
      "cell_type": "code",
      "metadata": {
        "id": "Pwm7Rjix8TlQ",
        "colab_type": "code",
        "colab": {}
      },
      "source": [
        "seed_six_dict = ['ненавидеть', 'убивать', 'разрушать']"
      ],
      "execution_count": 0,
      "outputs": []
    },
    {
      "cell_type": "code",
      "metadata": {
        "id": "_XLh17i9_HZZ",
        "colab_type": "code",
        "outputId": "3d32a40d-34b0-4ecd-aed4-01f978aa2541",
        "colab": {
          "base_uri": "https://localhost:8080/",
          "height": 221
        }
      },
      "source": [
        "seed_six_skipgram = make_seed_embedding(seed_six_dict, skipgram_model)\n",
        "seed_six_fasttext = make_seed_embedding(seed_six_dict, fasttext_model)\n",
        "\n",
        "df_all6 = pd.DataFrame({'verbs':all_relations_list, 'phrase':all_relations_pol})\n",
        "df_pos6 = pd.DataFrame({'verbs':pos_relations_list, 'phrase':pos_relations_pol})\n",
        "df_neg6 = pd.DataFrame({'verbs':neg_relations_list, 'phrase':neg_relations_pol})\n",
        "\n",
        "df_all6['w2v_model'] = add_sim_list(skipgram_model, all_relations_list, seed_six_skipgram)\n",
        "df_all6['fasttext_model'] = add_sim_list(fasttext_model, all_relations_list, seed_six_fasttext)\n",
        "\n",
        "df_pos6['w2v_model'] = add_sim_list(skipgram_model, pos_relations_list, seed_six_skipgram)\n",
        "df_pos6['fasttext_model'] = add_sim_list(fasttext_model, pos_relations_list, seed_six_fasttext)\n",
        "\n",
        "df_neg6['w2v_model'] = add_sim_list(skipgram_model, neg_relations_list, seed_six_skipgram)\n",
        "df_neg6['fasttext_model'] = add_sim_list(fasttext_model, neg_relations_list, seed_six_fasttext)"
      ],
      "execution_count": 114,
      "outputs": [
        {
          "output_type": "stream",
          "text": [
            "169\n",
            "169\n",
            "169\n",
            "169\n",
            "60\n",
            "60\n",
            "60\n",
            "60\n",
            "109\n",
            "109\n",
            "109\n",
            "109\n"
          ],
          "name": "stdout"
        }
      ]
    },
    {
      "cell_type": "code",
      "metadata": {
        "id": "1o4e76UG_HcQ",
        "colab_type": "code",
        "outputId": "8b399d80-b710-4a39-83a6-d296c8346bd2",
        "colab": {
          "base_uri": "https://localhost:8080/",
          "height": 80
        }
      },
      "source": [
        "df_all6.head(1)"
      ],
      "execution_count": 115,
      "outputs": [
        {
          "output_type": "execute_result",
          "data": {
            "text/html": [
              "<div>\n",
              "<style scoped>\n",
              "    .dataframe tbody tr th:only-of-type {\n",
              "        vertical-align: middle;\n",
              "    }\n",
              "\n",
              "    .dataframe tbody tr th {\n",
              "        vertical-align: top;\n",
              "    }\n",
              "\n",
              "    .dataframe thead th {\n",
              "        text-align: right;\n",
              "    }\n",
              "</style>\n",
              "<table border=\"1\" class=\"dataframe\">\n",
              "  <thead>\n",
              "    <tr style=\"text-align: right;\">\n",
              "      <th></th>\n",
              "      <th>verbs</th>\n",
              "      <th>phrase</th>\n",
              "      <th>w2v_model</th>\n",
              "      <th>fasttext_model</th>\n",
              "    </tr>\n",
              "  </thead>\n",
              "  <tbody>\n",
              "    <tr>\n",
              "      <th>0</th>\n",
              "      <td>помочь</td>\n",
              "      <td>помочь</td>\n",
              "      <td>verb is not in model dict</td>\n",
              "      <td>[[0.9855407]]</td>\n",
              "    </tr>\n",
              "  </tbody>\n",
              "</table>\n",
              "</div>"
            ],
            "text/plain": [
              "    verbs  phrase                  w2v_model fasttext_model\n",
              "0  помочь  помочь  verb is not in model dict  [[0.9855407]]"
            ]
          },
          "metadata": {
            "tags": []
          },
          "execution_count": 115
        }
      ]
    },
    {
      "cell_type": "code",
      "metadata": {
        "id": "R8BcnfML_He2",
        "colab_type": "code",
        "outputId": "d6ec58fa-49e4-40a3-f64c-0e1276153b1f",
        "colab": {
          "base_uri": "https://localhost:8080/",
          "height": 514
        }
      },
      "source": [
        "df_pos6.head(15)"
      ],
      "execution_count": 0,
      "outputs": [
        {
          "output_type": "execute_result",
          "data": {
            "text/html": [
              "<div>\n",
              "<style scoped>\n",
              "    .dataframe tbody tr th:only-of-type {\n",
              "        vertical-align: middle;\n",
              "    }\n",
              "\n",
              "    .dataframe tbody tr th {\n",
              "        vertical-align: top;\n",
              "    }\n",
              "\n",
              "    .dataframe thead th {\n",
              "        text-align: right;\n",
              "    }\n",
              "</style>\n",
              "<table border=\"1\" class=\"dataframe\">\n",
              "  <thead>\n",
              "    <tr style=\"text-align: right;\">\n",
              "      <th></th>\n",
              "      <th>verbs</th>\n",
              "      <th>phrase</th>\n",
              "      <th>w2v_model</th>\n",
              "      <th>fasttext_model</th>\n",
              "    </tr>\n",
              "  </thead>\n",
              "  <tbody>\n",
              "    <tr>\n",
              "      <th>0</th>\n",
              "      <td>помочь</td>\n",
              "      <td>помочь</td>\n",
              "      <td>verb is not in model dict</td>\n",
              "      <td>[[0.9855407]]</td>\n",
              "    </tr>\n",
              "    <tr>\n",
              "      <th>1</th>\n",
              "      <td>поощрить</td>\n",
              "      <td>поощрить</td>\n",
              "      <td>verb is not in model dict</td>\n",
              "      <td>[[0.6224462]]</td>\n",
              "    </tr>\n",
              "    <tr>\n",
              "      <th>2</th>\n",
              "      <td>похвалить</td>\n",
              "      <td>похвалить</td>\n",
              "      <td>[[0.79922384]]</td>\n",
              "      <td>[[0.6563399]]</td>\n",
              "    </tr>\n",
              "    <tr>\n",
              "      <th>3</th>\n",
              "      <td>приветствовать</td>\n",
              "      <td>приветствовать</td>\n",
              "      <td>[[0.83606696]]</td>\n",
              "      <td>[[0.63133097]]</td>\n",
              "    </tr>\n",
              "    <tr>\n",
              "      <th>4</th>\n",
              "      <td>радовать</td>\n",
              "      <td>радовать</td>\n",
              "      <td>[[0.8187976]]</td>\n",
              "      <td>[[0.54629445]]</td>\n",
              "    </tr>\n",
              "    <tr>\n",
              "      <th>5</th>\n",
              "      <td>дарить</td>\n",
              "      <td>дарить радость</td>\n",
              "      <td>[[0.79610926]]</td>\n",
              "      <td>[[0.58356583]]</td>\n",
              "    </tr>\n",
              "    <tr>\n",
              "      <th>6</th>\n",
              "      <td>доставить</td>\n",
              "      <td>доставить радость</td>\n",
              "      <td>verb is not in model dict</td>\n",
              "      <td>[[0.6272489]]</td>\n",
              "    </tr>\n",
              "    <tr>\n",
              "      <th>7</th>\n",
              "      <td>доставлять</td>\n",
              "      <td>доставлять радость</td>\n",
              "      <td>[[0.8130793]]</td>\n",
              "      <td>[[0.56060106]]</td>\n",
              "    </tr>\n",
              "    <tr>\n",
              "      <th>8</th>\n",
              "      <td>подарить</td>\n",
              "      <td>подарить радость</td>\n",
              "      <td>[[0.791978]]</td>\n",
              "      <td>[[0.6191983]]</td>\n",
              "    </tr>\n",
              "    <tr>\n",
              "      <th>9</th>\n",
              "      <td>спасти</td>\n",
              "      <td>спасти</td>\n",
              "      <td>verb is not in model dict</td>\n",
              "      <td>[[0.5313225]]</td>\n",
              "    </tr>\n",
              "    <tr>\n",
              "      <th>10</th>\n",
              "      <td>защитить</td>\n",
              "      <td>защитить</td>\n",
              "      <td>verb is not in model dict</td>\n",
              "      <td>[[0.34863466]]</td>\n",
              "    </tr>\n",
              "    <tr>\n",
              "      <th>11</th>\n",
              "      <td>обеспечивать</td>\n",
              "      <td>обеспечивать безопасность</td>\n",
              "      <td>[[0.8750614]]</td>\n",
              "      <td>[[0.58274174]]</td>\n",
              "    </tr>\n",
              "    <tr>\n",
              "      <th>12</th>\n",
              "      <td>обеспечить</td>\n",
              "      <td>обеспечить безопасность</td>\n",
              "      <td>verb is not in model dict</td>\n",
              "      <td>[[0.6104522]]</td>\n",
              "    </tr>\n",
              "    <tr>\n",
              "      <th>13</th>\n",
              "      <td>популяризовать</td>\n",
              "      <td>популяризовать</td>\n",
              "      <td>[[0.8452445]]</td>\n",
              "      <td>verb is not in model dict</td>\n",
              "    </tr>\n",
              "    <tr>\n",
              "      <th>14</th>\n",
              "      <td>придавать</td>\n",
              "      <td>придавать известность</td>\n",
              "      <td>[[0.87883574]]</td>\n",
              "      <td>[[0.5362078]]</td>\n",
              "    </tr>\n",
              "  </tbody>\n",
              "</table>\n",
              "</div>"
            ],
            "text/plain": [
              "             verbs  ...             fasttext_model\n",
              "0           помочь  ...              [[0.9855407]]\n",
              "1         поощрить  ...              [[0.6224462]]\n",
              "2        похвалить  ...              [[0.6563399]]\n",
              "3   приветствовать  ...             [[0.63133097]]\n",
              "4         радовать  ...             [[0.54629445]]\n",
              "5           дарить  ...             [[0.58356583]]\n",
              "6        доставить  ...              [[0.6272489]]\n",
              "7       доставлять  ...             [[0.56060106]]\n",
              "8         подарить  ...              [[0.6191983]]\n",
              "9           спасти  ...              [[0.5313225]]\n",
              "10        защитить  ...             [[0.34863466]]\n",
              "11    обеспечивать  ...             [[0.58274174]]\n",
              "12      обеспечить  ...              [[0.6104522]]\n",
              "13  популяризовать  ...  verb is not in model dict\n",
              "14       придавать  ...              [[0.5362078]]\n",
              "\n",
              "[15 rows x 4 columns]"
            ]
          },
          "metadata": {
            "tags": []
          },
          "execution_count": 56
        }
      ]
    },
    {
      "cell_type": "code",
      "metadata": {
        "id": "hE1VynsT_Hhd",
        "colab_type": "code",
        "outputId": "033a8532-a86a-4ceb-b813-cbc2da136d46",
        "colab": {
          "base_uri": "https://localhost:8080/",
          "height": 514
        }
      },
      "source": [
        "df_neg6.head(15)"
      ],
      "execution_count": 0,
      "outputs": [
        {
          "output_type": "execute_result",
          "data": {
            "text/html": [
              "<div>\n",
              "<style scoped>\n",
              "    .dataframe tbody tr th:only-of-type {\n",
              "        vertical-align: middle;\n",
              "    }\n",
              "\n",
              "    .dataframe tbody tr th {\n",
              "        vertical-align: top;\n",
              "    }\n",
              "\n",
              "    .dataframe thead th {\n",
              "        text-align: right;\n",
              "    }\n",
              "</style>\n",
              "<table border=\"1\" class=\"dataframe\">\n",
              "  <thead>\n",
              "    <tr style=\"text-align: right;\">\n",
              "      <th></th>\n",
              "      <th>verbs</th>\n",
              "      <th>phrase</th>\n",
              "      <th>w2v_model</th>\n",
              "      <th>fasttext_model</th>\n",
              "    </tr>\n",
              "  </thead>\n",
              "  <tbody>\n",
              "    <tr>\n",
              "      <th>0</th>\n",
              "      <td>повредить</td>\n",
              "      <td>повредить</td>\n",
              "      <td>verb is not in model dict</td>\n",
              "      <td>[[0.40942997]]</td>\n",
              "    </tr>\n",
              "    <tr>\n",
              "      <th>1</th>\n",
              "      <td>испортить</td>\n",
              "      <td>испортить</td>\n",
              "      <td>[[0.7091942]]</td>\n",
              "      <td>[[0.4116363]]</td>\n",
              "    </tr>\n",
              "    <tr>\n",
              "      <th>2</th>\n",
              "      <td>обеспокоить</td>\n",
              "      <td>обеспокоить</td>\n",
              "      <td>[[0.77401936]]</td>\n",
              "      <td>[[0.55382454]]</td>\n",
              "    </tr>\n",
              "    <tr>\n",
              "      <th>3</th>\n",
              "      <td>потрясти</td>\n",
              "      <td>потрясти до глубины души</td>\n",
              "      <td>verb is not in model dict</td>\n",
              "      <td>[[0.6350711]]</td>\n",
              "    </tr>\n",
              "    <tr>\n",
              "      <th>4</th>\n",
              "      <td>доминировать</td>\n",
              "      <td>доминировать</td>\n",
              "      <td>[[0.7753353]]</td>\n",
              "      <td>[[0.49986708]]</td>\n",
              "    </tr>\n",
              "    <tr>\n",
              "      <th>5</th>\n",
              "      <td>выследить</td>\n",
              "      <td>выследить</td>\n",
              "      <td>verb is not in model dict</td>\n",
              "      <td>[[0.44224018]]</td>\n",
              "    </tr>\n",
              "    <tr>\n",
              "      <th>6</th>\n",
              "      <td>настичь</td>\n",
              "      <td>настичь</td>\n",
              "      <td>verb is not in model dict</td>\n",
              "      <td>[[0.7359427]]</td>\n",
              "    </tr>\n",
              "    <tr>\n",
              "      <th>7</th>\n",
              "      <td>догнать</td>\n",
              "      <td>догнать</td>\n",
              "      <td>[[0.8355467]]</td>\n",
              "      <td>[[0.48873234]]</td>\n",
              "    </tr>\n",
              "    <tr>\n",
              "      <th>8</th>\n",
              "      <td>ворваться</td>\n",
              "      <td>ворваться</td>\n",
              "      <td>[[0.7514924]]</td>\n",
              "      <td>[[0.40770555]]</td>\n",
              "    </tr>\n",
              "    <tr>\n",
              "      <th>9</th>\n",
              "      <td>ловить</td>\n",
              "      <td>ловить</td>\n",
              "      <td>[[0.7426952]]</td>\n",
              "      <td>[[0.51288897]]</td>\n",
              "    </tr>\n",
              "    <tr>\n",
              "      <th>10</th>\n",
              "      <td>поймать</td>\n",
              "      <td>поймать</td>\n",
              "      <td>[[0.7560072]]</td>\n",
              "      <td>[[0.51380855]]</td>\n",
              "    </tr>\n",
              "    <tr>\n",
              "      <th>11</th>\n",
              "      <td>хапать</td>\n",
              "      <td>хапать</td>\n",
              "      <td>[[0.7347207]]</td>\n",
              "      <td>[[0.40299433]]</td>\n",
              "    </tr>\n",
              "    <tr>\n",
              "      <th>12</th>\n",
              "      <td>отказать</td>\n",
              "      <td>отказать</td>\n",
              "      <td>verb is not in model dict</td>\n",
              "      <td>[[0.55970323]]</td>\n",
              "    </tr>\n",
              "    <tr>\n",
              "      <th>13</th>\n",
              "      <td>ответить</td>\n",
              "      <td>ответить отрицательно</td>\n",
              "      <td>verb is not in model dict</td>\n",
              "      <td>[[0.5097171]]</td>\n",
              "    </tr>\n",
              "    <tr>\n",
              "      <th>14</th>\n",
              "      <td>грозить</td>\n",
              "      <td>грозить</td>\n",
              "      <td>[[0.8296542]]</td>\n",
              "      <td>[[0.51150084]]</td>\n",
              "    </tr>\n",
              "  </tbody>\n",
              "</table>\n",
              "</div>"
            ],
            "text/plain": [
              "           verbs  ...  fasttext_model\n",
              "0      повредить  ...  [[0.40942997]]\n",
              "1      испортить  ...   [[0.4116363]]\n",
              "2    обеспокоить  ...  [[0.55382454]]\n",
              "3       потрясти  ...   [[0.6350711]]\n",
              "4   доминировать  ...  [[0.49986708]]\n",
              "5      выследить  ...  [[0.44224018]]\n",
              "6        настичь  ...   [[0.7359427]]\n",
              "7        догнать  ...  [[0.48873234]]\n",
              "8      ворваться  ...  [[0.40770555]]\n",
              "9         ловить  ...  [[0.51288897]]\n",
              "10       поймать  ...  [[0.51380855]]\n",
              "11        хапать  ...  [[0.40299433]]\n",
              "12      отказать  ...  [[0.55970323]]\n",
              "13      ответить  ...   [[0.5097171]]\n",
              "14       грозить  ...  [[0.51150084]]\n",
              "\n",
              "[15 rows x 4 columns]"
            ]
          },
          "metadata": {
            "tags": []
          },
          "execution_count": 57
        }
      ]
    },
    {
      "cell_type": "code",
      "metadata": {
        "id": "KvsIoL6a_Hj-",
        "colab_type": "code",
        "colab": {}
      },
      "source": [
        "seed_three_skipgram = make_seed_embedding(seed_three_dict, skipgram_model)\n",
        "seed_three_fasttext = make_seed_embedding(seed_three_dict, fasttext_model)"
      ],
      "execution_count": 0,
      "outputs": []
    },
    {
      "cell_type": "code",
      "metadata": {
        "id": "GvDF8YZ9_Hmn",
        "colab_type": "code",
        "colab": {}
      },
      "source": [
        "seed_fasttext_dict = [seed_one_fasttext, seed_two_fasttext, seed_three_fasttext,\\\n",
        "                      seed_four_fasttext, seed_five_fasttext,seed_six_fasttext]"
      ],
      "execution_count": 0,
      "outputs": []
    },
    {
      "cell_type": "code",
      "metadata": {
        "id": "cktBIkbPet8B",
        "colab_type": "code",
        "colab": {}
      },
      "source": [
        "for i in seed_fasttext_dict:\n",
        "  for j in seed_fasttext_dict[]:\n"
      ],
      "execution_count": 0,
      "outputs": []
    },
    {
      "cell_type": "markdown",
      "metadata": {
        "id": "ooqBL993cd_W",
        "colab_type": "text"
      },
      "source": [
        "### **Сравнение векторов сидовых множетсв**"
      ]
    },
    {
      "cell_type": "code",
      "metadata": {
        "id": "ffZ9ZWzV_HpQ",
        "colab_type": "code",
        "outputId": "75cc00f1-850b-44b4-e611-b4d100875e42",
        "colab": {
          "base_uri": "https://localhost:8080/",
          "height": 34
        }
      },
      "source": [
        "cosine_distances(np.atleast_2d(seed_two_skipgram), np.atleast_2d(seed_three_skipgram))"
      ],
      "execution_count": 0,
      "outputs": [
        {
          "output_type": "execute_result",
          "data": {
            "text/plain": [
              "array([[0.61117554]], dtype=float32)"
            ]
          },
          "metadata": {
            "tags": []
          },
          "execution_count": 59
        }
      ]
    },
    {
      "cell_type": "code",
      "metadata": {
        "id": "I4IFzvqw_Hri",
        "colab_type": "code",
        "outputId": "51aa553d-d600-42bc-8add-d7b5effb74cc",
        "colab": {
          "base_uri": "https://localhost:8080/",
          "height": 34
        }
      },
      "source": [
        "cosine_distances(np.atleast_2d(seed_one_skipgram), np.atleast_2d(seed_three_skipgram))"
      ],
      "execution_count": 0,
      "outputs": [
        {
          "output_type": "execute_result",
          "data": {
            "text/plain": [
              "array([[0.49508154]], dtype=float32)"
            ]
          },
          "metadata": {
            "tags": []
          },
          "execution_count": 60
        }
      ]
    },
    {
      "cell_type": "code",
      "metadata": {
        "id": "6WgLVh4zOErl",
        "colab_type": "code",
        "colab": {}
      },
      "source": [
        "# vect1 = np.atleast_2d([1, 2, 4])\n",
        "# vect2 = np.atleast_2d([1, 4, 4])\n",
        "# print(cosine_distances(vect1, vect2))\n",
        "# vect1"
      ],
      "execution_count": 0,
      "outputs": []
    },
    {
      "cell_type": "code",
      "metadata": {
        "id": "BqNL85nDJcBx",
        "colab_type": "code",
        "colab": {}
      },
      "source": [
        "# def get_embedding(verbs_list, model, dim=50):\n",
        "    \n",
        "#     # чтобы не доставать одно слово несколько раз\n",
        "#     # сделаем счетчик, а потом векторы домножим на частоту\n",
        "#     words = Counter(verbs_list)\n",
        "#     total = len(verbs_list)\n",
        "#     vectors = np.zeros((len(words), dim))\n",
        "    \n",
        "#     for i,word in enumerate(words):\n",
        "#         try:\n",
        "#             v = model[word]\n",
        "#             vectors[i] = v*(words[word]/total) # просто умножаем вектор на частоту\n",
        "#             print(vectors)\n",
        "#         except (KeyError, ValueError):\n",
        "#             continue\n",
        "    \n",
        "#     if vectors.any():\n",
        "#         vector = np.average(vectors, axis=0)\n",
        "#     else:\n",
        "#         vector = np.zeros((dim))\n",
        "#     return vector\n",
        "\n",
        "# opinion_embedding = get_embedding(opinion_dict, rv_model)\n",
        "# opinion_embedding"
      ],
      "execution_count": 0,
      "outputs": []
    },
    {
      "cell_type": "code",
      "metadata": {
        "id": "jmVKfa8wKBKS",
        "colab_type": "code",
        "colab": {}
      },
      "source": [
        "# opinion_dict = ['одобрять_V', 'хвалить_V', 'поощрять_V']\n",
        "# def make_sid_embedding(seed_dict, model):\n",
        "#   summ = 0\n",
        "#   try:\n",
        "#     for verb in seed_dict:\n",
        "#       #print(model[verb])\n",
        "#       summ = summ + get_embedding(verb, model)\n",
        "#       print(summ)\n",
        "#   except KeyError:\n",
        "#     pass\n",
        "#   vector = summ/len(seed_dict)\n",
        "#   return vector\n",
        "# opinion_embedding = make_sid_embedding(opinion_dict, rv_model)"
      ],
      "execution_count": 0,
      "outputs": []
    },
    {
      "cell_type": "code",
      "metadata": {
        "id": "3Oa2r04QbrBB",
        "colab_type": "code",
        "colab": {}
      },
      "source": [
        "# opinion_embedding"
      ],
      "execution_count": 0,
      "outputs": []
    },
    {
      "cell_type": "code",
      "metadata": {
        "id": "y2m9fHP5CnTu",
        "colab_type": "code",
        "colab": {}
      },
      "source": [
        ""
      ],
      "execution_count": 0,
      "outputs": []
    },
    {
      "cell_type": "code",
      "metadata": {
        "id": "rawHX0VSHtAA",
        "colab_type": "code",
        "outputId": "254ab315-7211-4fb3-bcd5-917bd568460e",
        "colab": {
          "base_uri": "https://localhost:8080/",
          "height": 34
        }
      },
      "source": [
        "def make_similarity_df(base_vect, verbs_for_check_dict, model):\n",
        "  '''\n",
        "  Считает косинусное расстояние с каким-либо подающимся на вход сидовым глаголом глаголов из словаря, полученного с помощью \n",
        "  функции make_group. Возвращает словарь с ключами 'groups', 'base_verb', 'verb' и 'verbs_similarity', \n",
        "  которые потом будут колонками таблицы - датафрейма.\n",
        "  '''\n",
        "\n",
        "  df_dict = Counter()\n",
        "  df_dict['groups'] = []\n",
        "  df_dict['base_verb'] = []\n",
        "  df_dict['verb'] = []\n",
        "  df_dict['verbs_similarity'] = []\n",
        "\n",
        "  #my_base_verb = base_verb + '_V'\n",
        "  for verb in verbs_for_check_dict.keys():\n",
        "    verb_for_check = verb + '_V'\n",
        "    try:\n",
        "      verbs_similarity = model.similarity(base_vect, verb_for_check)\n",
        "      df_dict['groups'].append(str(verbs_for_check_dict[verb]))\n",
        "      df_dict['base_verb'].append(base_verb)\n",
        "      df_dict['verb'].append(verb)\n",
        "      df_dict['verbs_similarity'].append(verbs_similarity)\n",
        "    except KeyError as e:\n",
        "      pass\n",
        "      #print(e)\n",
        "  return df_dict\n",
        "\n",
        "verbs_for_df = make_similarity_df(opinion_embedding, groups_total_dict, rv_model)\n",
        "print('done')"
      ],
      "execution_count": 0,
      "outputs": [
        {
          "output_type": "stream",
          "text": [
            "done\n"
          ],
          "name": "stdout"
        }
      ]
    },
    {
      "cell_type": "code",
      "metadata": {
        "id": "JBEDU194HtCu",
        "colab_type": "code",
        "colab": {}
      },
      "source": [
        "\n",
        "frames_df = pd.DataFrame(verbs_for_df, columns = verbs_for_df.keys()) # тут делается датафрейм"
      ],
      "execution_count": 0,
      "outputs": []
    },
    {
      "cell_type": "code",
      "metadata": {
        "id": "wCwwlsdGHtFG",
        "colab_type": "code",
        "outputId": "0e0392f5-1302-4368-e570-535a55b06b36",
        "colab": {
          "base_uri": "https://localhost:8080/",
          "height": 49
        }
      },
      "source": [
        "frames_df"
      ],
      "execution_count": 0,
      "outputs": [
        {
          "output_type": "execute_result",
          "data": {
            "text/html": [
              "<div>\n",
              "<style scoped>\n",
              "    .dataframe tbody tr th:only-of-type {\n",
              "        vertical-align: middle;\n",
              "    }\n",
              "\n",
              "    .dataframe tbody tr th {\n",
              "        vertical-align: top;\n",
              "    }\n",
              "\n",
              "    .dataframe thead th {\n",
              "        text-align: right;\n",
              "    }\n",
              "</style>\n",
              "<table border=\"1\" class=\"dataframe\">\n",
              "  <thead>\n",
              "    <tr style=\"text-align: right;\">\n",
              "      <th></th>\n",
              "      <th>groups</th>\n",
              "      <th>base_verb</th>\n",
              "      <th>verb</th>\n",
              "      <th>verbs_similarity</th>\n",
              "    </tr>\n",
              "  </thead>\n",
              "  <tbody>\n",
              "  </tbody>\n",
              "</table>\n",
              "</div>"
            ],
            "text/plain": [
              "Empty DataFrame\n",
              "Columns: [groups, base_verb, verb, verbs_similarity]\n",
              "Index: []"
            ]
          },
          "metadata": {
            "tags": []
          },
          "execution_count": 44
        }
      ]
    },
    {
      "cell_type": "code",
      "metadata": {
        "id": "RaD60ME3BB6D",
        "colab_type": "code",
        "colab": {}
      },
      "source": [
        "\n",
        "# verbs_for_check_dict = {'снимать': [['a0', 'a1', 'neg', 1.0]]}\n",
        "\n",
        "# def just_words_similarity(base_verb, verbs_for_check_dict):\n",
        "#   \"\"\"\n",
        "#   Функция тестовая, проверяет, как работает косинусная близость.\n",
        "#   \"\"\"\n",
        "#   group_dict = Counter()\n",
        "#   my_base_verb = base_verb + '_V'\n",
        "#   for verb in verbs_for_check_dict.keys():\n",
        "#     verb_for_check = verb + '_V'\n",
        "#     similarity = mystem_skipgram_model.similarity(my_base_verb, verb_for_check)\n",
        "#     group_dict[str(verbs_for_check_dict[verb])] = [base_verb, verb, similarity]\n",
        "#   return group_dict\n",
        "\n",
        "# just_words_similarity('радоваться', verbs_for_check_dict)\n",
        "\n",
        "\n"
      ],
      "execution_count": 0,
      "outputs": []
    },
    {
      "cell_type": "code",
      "metadata": {
        "id": "5XdwIenPHtHu",
        "colab_type": "code",
        "colab": {}
      },
      "source": [
        ""
      ],
      "execution_count": 0,
      "outputs": []
    },
    {
      "cell_type": "code",
      "metadata": {
        "id": "GVcLWwG9BB3T",
        "colab_type": "code",
        "colab": {}
      },
      "source": [
        ""
      ],
      "execution_count": 0,
      "outputs": []
    }
  ]
}