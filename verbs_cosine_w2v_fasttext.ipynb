{
  "nbformat": 4,
  "nbformat_minor": 0,
  "metadata": {
    "colab": {
      "name": "Untitled24.ipynb",
      "provenance": [],
      "authorship_tag": "ABX9TyPaiCR8QoJkH9daV6PvlFAi",
      "include_colab_link": true
    },
    "kernelspec": {
      "name": "python3",
      "display_name": "Python 3"
    }
  },
  "cells": [
    {
      "cell_type": "markdown",
      "metadata": {
        "id": "view-in-github",
        "colab_type": "text"
      },
      "source": [
        "<a href=\"https://colab.research.google.com/github/DmitryKutsev/NIS_SentiFrame/blob/master/verbs_cosine_w2v_fasttext.ipynb\" target=\"_parent\"><img src=\"https://colab.research.google.com/assets/colab-badge.svg\" alt=\"Open In Colab\"/></a>"
      ]
    },
    {
      "cell_type": "code",
      "metadata": {
        "id": "ZnAbfQ2EytKo",
        "colab_type": "code",
        "outputId": "f6bd0c9c-1d33-498f-aea0-a26748154188",
        "colab": {
          "base_uri": "https://localhost:8080/",
          "height": 204
        }
      },
      "source": [
        "!wget rusvectores.org/static/models/rusvectores2/news_mystem_skipgram_1000_20_2015.bin.gz\n"
      ],
      "execution_count": 2,
      "outputs": [
        {
          "output_type": "stream",
          "text": [
            "--2020-02-25 06:02:01--  http://rusvectores.org/static/models/rusvectores2/news_mystem_skipgram_1000_20_2015.bin.gz\n",
            "Resolving rusvectores.org (rusvectores.org)... 116.203.104.23\n",
            "Connecting to rusvectores.org (rusvectores.org)|116.203.104.23|:80... connected.\n",
            "HTTP request sent, awaiting response... 200 OK\n",
            "Length: 549952184 (524M) [application/x-gzip]\n",
            "Saving to: ‘news_mystem_skipgram_1000_20_2015.bin.gz’\n",
            "\n",
            "news_mystem_skipgra 100%[===================>] 524.47M  28.5MB/s    in 19s     \n",
            "\n",
            "2020-02-25 06:02:20 (27.4 MB/s) - ‘news_mystem_skipgram_1000_20_2015.bin.gz’ saved [549952184/549952184]\n",
            "\n"
          ],
          "name": "stdout"
        }
      ]
    },
    {
      "cell_type": "code",
      "metadata": {
        "id": "GiEPhNdKxS4c",
        "colab_type": "code",
        "outputId": "c5351c0e-350a-45c8-c17b-2845a82f9dc5",
        "colab": {
          "base_uri": "https://localhost:8080/",
          "height": 340
        }
      },
      "source": [
        "!pip install pymorphy2[fast]"
      ],
      "execution_count": 1,
      "outputs": [
        {
          "output_type": "stream",
          "text": [
            "Collecting pymorphy2[fast]\n",
            "\u001b[?25l  Downloading https://files.pythonhosted.org/packages/a3/33/fff9675c68b5f6c63ec8c6e6ff57827dda28a1fa5b2c2d727dffff92dd47/pymorphy2-0.8-py2.py3-none-any.whl (46kB)\n",
            "\u001b[K     |████████████████████████████████| 51kB 1.8MB/s \n",
            "\u001b[?25hRequirement already satisfied: docopt>=0.6 in /usr/local/lib/python3.6/dist-packages (from pymorphy2[fast]) (0.6.2)\n",
            "Collecting pymorphy2-dicts<3.0,>=2.4\n",
            "\u001b[?25l  Downloading https://files.pythonhosted.org/packages/02/51/2465fd4f72328ab50877b54777764d928da8cb15b74e2680fc1bd8cb3173/pymorphy2_dicts-2.4.393442.3710985-py2.py3-none-any.whl (7.1MB)\n",
            "\u001b[K     |████████████████████████████████| 7.1MB 7.3MB/s \n",
            "\u001b[?25hCollecting dawg-python>=0.7\n",
            "  Downloading https://files.pythonhosted.org/packages/6a/84/ff1ce2071d4c650ec85745766c0047ccc3b5036f1d03559fd46bb38b5eeb/DAWG_Python-0.7.2-py2.py3-none-any.whl\n",
            "Collecting DAWG>=0.7.3; extra == \"fast\"\n",
            "\u001b[?25l  Downloading https://files.pythonhosted.org/packages/b8/ef/91b619a399685f7a0a95a03628006ba814d96293bbbbed234ee66fbdefd9/DAWG-0.8.0.tar.gz (371kB)\n",
            "\u001b[K     |████████████████████████████████| 378kB 46.5MB/s \n",
            "\u001b[?25hBuilding wheels for collected packages: DAWG\n",
            "  Building wheel for DAWG (setup.py) ... \u001b[?25l\u001b[?25hdone\n",
            "  Created wheel for DAWG: filename=DAWG-0.8.0-cp36-cp36m-linux_x86_64.whl size=851656 sha256=9fdc7c01e815c9b2d004d1e5e85d135461e661faf4979148189b0ee81876c44b\n",
            "  Stored in directory: /root/.cache/pip/wheels/3d/1f/f0/a5b1f9d02e193c997d252c33d215f24dfd7a448bc0166b2a12\n",
            "Successfully built DAWG\n",
            "Installing collected packages: pymorphy2-dicts, dawg-python, DAWG, pymorphy2\n",
            "Successfully installed DAWG-0.8.0 dawg-python-0.7.2 pymorphy2-0.8 pymorphy2-dicts-2.4.393442.3710985\n"
          ],
          "name": "stdout"
        }
      ]
    },
    {
      "cell_type": "code",
      "metadata": {
        "id": "4LCu8A0aAaMR",
        "colab_type": "code",
        "outputId": "801bafaf-f128-4df8-f4dc-193025934cb6",
        "colab": {
          "base_uri": "https://localhost:8080/",
          "height": 204
        }
      },
      "source": [
        "#!rm collection.json.1 collection.json\n",
        "!wget https://raw.githubusercontent.com/nicolay-r/RuSentiFrames/master/collection.json"
      ],
      "execution_count": 3,
      "outputs": [
        {
          "output_type": "stream",
          "text": [
            "--2020-02-25 06:02:21--  https://raw.githubusercontent.com/nicolay-r/RuSentiFrames/master/collection.json\n",
            "Resolving raw.githubusercontent.com (raw.githubusercontent.com)... 151.101.0.133, 151.101.64.133, 151.101.128.133, ...\n",
            "Connecting to raw.githubusercontent.com (raw.githubusercontent.com)|151.101.0.133|:443... connected.\n",
            "HTTP request sent, awaiting response... 200 OK\n",
            "Length: 606414 (592K) [text/plain]\n",
            "Saving to: ‘collection.json’\n",
            "\n",
            "\rcollection.json       0%[                    ]       0  --.-KB/s               \rcollection.json     100%[===================>] 592.20K  --.-KB/s    in 0.06s   \n",
            "\n",
            "2020-02-25 06:02:21 (9.88 MB/s) - ‘collection.json’ saved [606414/606414]\n",
            "\n"
          ],
          "name": "stdout"
        }
      ]
    },
    {
      "cell_type": "code",
      "metadata": {
        "id": "Q54jNAH9xiQ5",
        "colab_type": "code",
        "outputId": "07200635-7a5e-4e8d-f396-786da75a7a4e",
        "colab": {
          "base_uri": "https://localhost:8080/",
          "height": 204
        }
      },
      "source": [
        "!wget http://vectors.nlpl.eu/repository/20/187.zip"
      ],
      "execution_count": 4,
      "outputs": [
        {
          "output_type": "stream",
          "text": [
            "--2020-02-25 06:02:23--  http://vectors.nlpl.eu/repository/20/187.zip\n",
            "Resolving vectors.nlpl.eu (vectors.nlpl.eu)... 129.240.189.225\n",
            "Connecting to vectors.nlpl.eu (vectors.nlpl.eu)|129.240.189.225|:80... connected.\n",
            "HTTP request sent, awaiting response... 200 OK\n",
            "Length: 2692389554 (2.5G) [application/zip]\n",
            "Saving to: ‘187.zip’\n",
            "\n",
            "187.zip             100%[===================>]   2.51G  22.8MB/s    in 1m 57s  \n",
            "\n",
            "2020-02-25 06:04:20 (21.9 MB/s) - ‘187.zip’ saved [2692389554/2692389554]\n",
            "\n"
          ],
          "name": "stdout"
        }
      ]
    },
    {
      "cell_type": "code",
      "metadata": {
        "id": "4Opbjo29RbrG",
        "colab_type": "code",
        "outputId": "30d8f36f-2253-4b06-b9a4-585bcffb49da",
        "colab": {
          "base_uri": "https://localhost:8080/",
          "height": 136
        }
      },
      "source": [
        "!unzip 187.zip"
      ],
      "execution_count": 5,
      "outputs": [
        {
          "output_type": "stream",
          "text": [
            "Archive:  187.zip\n",
            "  inflating: meta.json               \n",
            "  inflating: model.model             \n",
            "  inflating: model.model.vectors_ngrams.npy  \n",
            "  inflating: model.model.vectors.npy  \n",
            "  inflating: model.model.vectors_vocab.npy  \n",
            "  inflating: README                  \n"
          ],
          "name": "stdout"
        }
      ]
    },
    {
      "cell_type": "code",
      "metadata": {
        "id": "UAJGiE9aRgWm",
        "colab_type": "code",
        "outputId": "dcf99b69-a698-4e4f-a8b7-36d805a18554",
        "colab": {
          "base_uri": "https://localhost:8080/",
          "height": 85
        }
      },
      "source": [
        "!ls"
      ],
      "execution_count": 6,
      "outputs": [
        {
          "output_type": "stream",
          "text": [
            "187.zip\t\t model.model.vectors_ngrams.npy\t\t   README\n",
            "collection.json  model.model.vectors.npy\t\t   sample_data\n",
            "meta.json\t model.model.vectors_vocab.npy\n",
            "model.model\t news_mystem_skipgram_1000_20_2015.bin.gz\n"
          ],
          "name": "stdout"
        }
      ]
    },
    {
      "cell_type": "code",
      "metadata": {
        "id": "XvF5IwNoO638",
        "colab_type": "code",
        "colab": {}
      },
      "source": [
        "import gensim\n",
        "from collections import Counter\n",
        "import json\n",
        "import pandas as pd\n",
        "import numpy as np\n",
        "from sklearn.metrics.pairwise import cosine_distances\n",
        "import pymorphy2\n",
        "morph = pymorphy2.MorphAnalyzer()"
      ],
      "execution_count": 0,
      "outputs": []
    },
    {
      "cell_type": "code",
      "metadata": {
        "id": "cnvQN_9NxxtC",
        "colab_type": "code",
        "colab": {}
      },
      "source": [
        ""
      ],
      "execution_count": 0,
      "outputs": []
    },
    {
      "cell_type": "code",
      "metadata": {
        "id": "VVqZukM10GFD",
        "colab_type": "code",
        "outputId": "a6d74889-4ab1-4b51-d5ef-af4647f04cd8",
        "colab": {
          "base_uri": "https://localhost:8080/",
          "height": 71
        }
      },
      "source": [
        "skipgram_model = gensim.models.KeyedVectors.load_word2vec_format('news_mystem_skipgram_1000_20_2015.bin.gz', binary=True)"
      ],
      "execution_count": 8,
      "outputs": [
        {
          "output_type": "stream",
          "text": [
            "/usr/local/lib/python3.6/dist-packages/smart_open/smart_open_lib.py:402: UserWarning: This function is deprecated, use smart_open.open instead. See the migration notes for details: https://github.com/RaRe-Technologies/smart_open/blob/master/README.rst#migrating-to-the-new-open-function\n",
            "  'See the migration notes for details: %s' % _MIGRATION_NOTES_URL\n"
          ],
          "name": "stderr"
        }
      ]
    },
    {
      "cell_type": "code",
      "metadata": {
        "id": "n23yIcDQbmhO",
        "colab_type": "code",
        "outputId": "c355050c-ddf5-4e42-c989-364f5fcbdcde",
        "colab": {
          "base_uri": "https://localhost:8080/",
          "height": 71
        }
      },
      "source": [
        "fasttext_model = gensim.models.KeyedVectors.load(\"model.model\")"
      ],
      "execution_count": 9,
      "outputs": [
        {
          "output_type": "stream",
          "text": [
            "/usr/local/lib/python3.6/dist-packages/smart_open/smart_open_lib.py:402: UserWarning: This function is deprecated, use smart_open.open instead. See the migration notes for details: https://github.com/RaRe-Technologies/smart_open/blob/master/README.rst#migrating-to-the-new-open-function\n",
            "  'See the migration notes for details: %s' % _MIGRATION_NOTES_URL\n"
          ],
          "name": "stderr"
        }
      ]
    },
    {
      "cell_type": "code",
      "metadata": {
        "id": "cJGCmbd6BZj1",
        "colab_type": "code",
        "colab": {}
      },
      "source": [
        "# rv_model.vocab\n",
        "# rv_model.get_vector('помочь_V')"
      ],
      "execution_count": 0,
      "outputs": []
    },
    {
      "cell_type": "code",
      "metadata": {
        "id": "qQUwjpBJjdZK",
        "colab_type": "code",
        "colab": {}
      },
      "source": [
        "# rv_model.vocab"
      ],
      "execution_count": 0,
      "outputs": []
    },
    {
      "cell_type": "code",
      "metadata": {
        "id": "H52b-hi-EFHc",
        "colab_type": "code",
        "colab": {}
      },
      "source": [
        "collection_handler = open(\"collection.json\", \"r\", encoding=\"utf-8\")\n",
        "collection = json.load(collection_handler, encoding=\"utf-8\")"
      ],
      "execution_count": 0,
      "outputs": []
    },
    {
      "cell_type": "code",
      "metadata": {
        "id": "8hCoLzvMJ_YZ",
        "colab_type": "code",
        "outputId": "156b2918-35be-416a-a5e6-a9b660ff4543",
        "colab": {
          "base_uri": "https://localhost:8080/",
          "height": 204
        }
      },
      "source": [
        "\n",
        "def make_group(polarity_type_list):\n",
        "  \"\"\"\n",
        "  На вход подаются пары из разных типов отношений(p_type) в списках(как в переменных all_type_dict и pos_type_dict)\n",
        "  для каждой пары цикл ищет не более ста глаголов, у которых есть типы отношений, совпадающие с нашей парой, \n",
        "  которая подается на вход. \n",
        "  \"\"\"\n",
        "  group_dict = Counter()\n",
        "  for p_type in polarity_type_list:\n",
        "    print(p_type)\n",
        "    count = 0\n",
        "    for key in collection.keys():\n",
        "      if count < 100:\n",
        "        try:\n",
        "          #print(collection[key]['frames']['polarity'])\n",
        "          if p_type[0] in collection[key]['frames']['polarity'] and p_type[1] in collection[key]['frames']['polarity'] :\n",
        "          # эту строчку можно менять, если нам нужно искать отношения, где только ['a0', 'a1', 'pos', 1.0]:\n",
        "          # if p_type[0] in collection[key]['frames']['polarity'] and p_type[1] not in collection[key]['frames']['polarity'] : \n",
        "          # проблема! в лексиконе всего 20 отношений [['a0', 'a1', 'pos', 1.0], ['a1', 'a0', 'pos', 1.0]] c разными коэффициентами, и 51 таких, \n",
        "          # где ['a0', 'a1', 'pos', 1.0], а ['a1', 'a0', 'pos', 1.0] отсутствует\n",
        "            for ver in collection[key]['title']:\n",
        "              group_dict[ver] = p_type\n",
        "              count += 1\n",
        "            for var in collection[key]['variants']:\n",
        "              if len(var.split(' ')) > 1 and var[-2:] == 'ть':\n",
        "                group_dict[var] = p_type\n",
        "                count += 1\n",
        "\n",
        "              \n",
        "        except Exception as e:\n",
        "          pass\n",
        "  return group_dict\n",
        "\n",
        "all_type_dict = [[['a0', 'a1', 'pos', 1.0], ['a1', 'a0', 'pos', 1.0]], \\\n",
        "                 [['a0', 'a1', 'pos', 0.7], ['a1', 'a0', 'pos', 0.7]], \\\n",
        "                  [['a0', 'a1', 'neg', 0.7], ['a1', 'a0', 'neg', 0.7]], \\\n",
        "                  [['a0', 'a1', 'neg', 1.0], ['a1', 'a0', 'neg', 1.0]],\n",
        "                 ]\n",
        "pos_type_dict = [[['a0', 'a1', 'pos', 1.0], ['a1', 'a0', 'pos', 1.0]], \\\n",
        "                 [['a0', 'a1', 'pos', 0.7], ['a1', 'a0', 'pos', 0.7]], \\\n",
        "            \n",
        "                 ]\n",
        "neg_type_dict = [\n",
        "                  [['a0', 'a1', 'neg', 0.7], ['a1', 'a0', 'neg', 0.7]], \\\n",
        "                  [['a0', 'a1', 'neg', 1.0], ['a1', 'a0', 'neg', 1.0]],\n",
        "                 ]\n",
        "all_dict = make_group(all_type_dict)\n",
        "pos_dict = make_group(pos_type_dict)\n",
        "neg_dict = make_group(neg_type_dict)\n",
        "#len(groups_total_dict)\n",
        "print(len(all_dict))\n",
        "print(len(pos_dict))\n",
        "print(len(neg_dict))\n"
      ],
      "execution_count": 13,
      "outputs": [
        {
          "output_type": "stream",
          "text": [
            "[['a0', 'a1', 'pos', 1.0], ['a1', 'a0', 'pos', 1.0]]\n",
            "[['a0', 'a1', 'pos', 0.7], ['a1', 'a0', 'pos', 0.7]]\n",
            "[['a0', 'a1', 'neg', 0.7], ['a1', 'a0', 'neg', 0.7]]\n",
            "[['a0', 'a1', 'neg', 1.0], ['a1', 'a0', 'neg', 1.0]]\n",
            "[['a0', 'a1', 'pos', 1.0], ['a1', 'a0', 'pos', 1.0]]\n",
            "[['a0', 'a1', 'pos', 0.7], ['a1', 'a0', 'pos', 0.7]]\n",
            "[['a0', 'a1', 'neg', 0.7], ['a1', 'a0', 'neg', 0.7]]\n",
            "[['a0', 'a1', 'neg', 1.0], ['a1', 'a0', 'neg', 1.0]]\n",
            "169\n",
            "60\n",
            "109\n"
          ],
          "name": "stdout"
        }
      ]
    },
    {
      "cell_type": "code",
      "metadata": {
        "id": "IS0as8aSONAe",
        "colab_type": "code",
        "outputId": "a690bcbc-3b78-4c19-a199-0f90438ed68f",
        "colab": {
          "base_uri": "https://localhost:8080/",
          "height": 102
        }
      },
      "source": [
        "all_dict.most_common(5)"
      ],
      "execution_count": 14,
      "outputs": [
        {
          "output_type": "execute_result",
          "data": {
            "text/plain": [
              "[('помочь', [['a0', 'a1', 'pos', 1.0], ['a1', 'a0', 'pos', 1.0]]),\n",
              " ('поощрить', [['a0', 'a1', 'pos', 1.0], ['a1', 'a0', 'pos', 1.0]]),\n",
              " ('похвалить', [['a0', 'a1', 'pos', 1.0], ['a1', 'a0', 'pos', 1.0]]),\n",
              " ('приветствовать', [['a0', 'a1', 'pos', 1.0], ['a1', 'a0', 'pos', 1.0]]),\n",
              " ('радовать', [['a0', 'a1', 'pos', 1.0], ['a1', 'a0', 'pos', 1.0]])]"
            ]
          },
          "metadata": {
            "tags": []
          },
          "execution_count": 14
        }
      ]
    },
    {
      "cell_type": "code",
      "metadata": {
        "id": "6CWbCb7g2hew",
        "colab_type": "code",
        "outputId": "27a0d8bb-9fd5-4143-cfec-6a275a0d6189",
        "colab": {
          "base_uri": "https://localhost:8080/",
          "height": 102
        }
      },
      "source": [
        "pos_dict.most_common(5)"
      ],
      "execution_count": 15,
      "outputs": [
        {
          "output_type": "execute_result",
          "data": {
            "text/plain": [
              "[('помочь', [['a0', 'a1', 'pos', 1.0], ['a1', 'a0', 'pos', 1.0]]),\n",
              " ('поощрить', [['a0', 'a1', 'pos', 1.0], ['a1', 'a0', 'pos', 1.0]]),\n",
              " ('похвалить', [['a0', 'a1', 'pos', 1.0], ['a1', 'a0', 'pos', 1.0]]),\n",
              " ('приветствовать', [['a0', 'a1', 'pos', 1.0], ['a1', 'a0', 'pos', 1.0]]),\n",
              " ('радовать', [['a0', 'a1', 'pos', 1.0], ['a1', 'a0', 'pos', 1.0]])]"
            ]
          },
          "metadata": {
            "tags": []
          },
          "execution_count": 15
        }
      ]
    },
    {
      "cell_type": "code",
      "metadata": {
        "id": "Wv7Uy-Ql2hcD",
        "colab_type": "code",
        "outputId": "ecd6cb88-d4d1-48f9-f92c-ff5c25b760f3",
        "colab": {
          "base_uri": "https://localhost:8080/",
          "height": 119
        }
      },
      "source": [
        "neg_dict.most_common(5)"
      ],
      "execution_count": 16,
      "outputs": [
        {
          "output_type": "execute_result",
          "data": {
            "text/plain": [
              "[('отказать', [['a0', 'a1', 'neg', 1.0], ['a1', 'a0', 'neg', 1.0]]),\n",
              " ('ответить отрицательно',\n",
              "  [['a0', 'a1', 'neg', 1.0], ['a1', 'a0', 'neg', 1.0]]),\n",
              " ('грозить', [['a0', 'a1', 'neg', 1.0], ['a1', 'a0', 'neg', 1.0]]),\n",
              " ('нести угрозу', [['a0', 'a1', 'neg', 1.0], ['a1', 'a0', 'neg', 1.0]]),\n",
              " ('подозревать', [['a0', 'a1', 'neg', 1.0], ['a1', 'a0', 'neg', 1.0]])]"
            ]
          },
          "metadata": {
            "tags": []
          },
          "execution_count": 16
        }
      ]
    },
    {
      "cell_type": "markdown",
      "metadata": {
        "id": "62KJDC4nIdpL",
        "colab_type": "text"
      },
      "source": [
        "## **Для начала сформируем вектор сидового множества с позитивными глаголами.**"
      ]
    },
    {
      "cell_type": "code",
      "metadata": {
        "id": "6i7pSMpM2LOo",
        "colab_type": "code",
        "colab": {}
      },
      "source": [
        "seed_one_dict = ['одобрять', 'хвалить', 'поощрять']\n",
        "def make_seed_embedding(seed_dict, model):\n",
        "  '''\n",
        "  Принимает на вход список, на выходе дает средний вектор всех слов из этого списка\n",
        "  '''\n",
        "  summ = 0\n",
        "  if model == skipgram_model:\n",
        "    for verb in seed_dict:\n",
        "      summ = summ + model[verb + '_V']\n",
        "    vector = summ/len(seed_dict)\n",
        "  else:\n",
        "    for verb in seed_dict:\n",
        "      summ = summ + model.get_vector(verb)\n",
        "    vector = summ/len(seed_dict)\n",
        "\n",
        "  return vector\n",
        "seed_one_skipgram = make_seed_embedding(seed_one_dict, skipgram_model)\n",
        "seed_one_fasttext = make_seed_embedding(seed_one_dict, fasttext_model)"
      ],
      "execution_count": 0,
      "outputs": []
    },
    {
      "cell_type": "code",
      "metadata": {
        "id": "Y_Kx6wM-LTas",
        "colab_type": "code",
        "outputId": "c160371f-c561-4007-b54f-3b8a2c9c8530",
        "colab": {
          "base_uri": "https://localhost:8080/",
          "height": 68
        }
      },
      "source": [
        "#polar_verbs = [verb for verb in groups_total_dict.keys()]\n",
        "all_relations_pol = [pol for pol in all_dict.keys()]\n",
        "pos_relations_pol = [pol for pol in pos_dict.keys()]\n",
        "neg_relations_pol = [pol for pol in neg_dict.keys()]\n",
        "print(len(all_relations_pol))\n",
        "print(len(pos_relations_pol))\n",
        "print(len(neg_relations_pol))"
      ],
      "execution_count": 22,
      "outputs": [
        {
          "output_type": "stream",
          "text": [
            "169\n",
            "60\n",
            "109\n"
          ],
          "name": "stdout"
        }
      ]
    },
    {
      "cell_type": "markdown",
      "metadata": {
        "id": "5DQJY_vBIonj",
        "colab_type": "text"
      },
      "source": [
        "## **В некоторых случаях попадаются не только глаголы, но и какие-то фразы, содержащие глагол. Далее оставим только глагол.**"
      ]
    },
    {
      "cell_type": "code",
      "metadata": {
        "id": "j6hlm-4sbY4g",
        "colab_type": "code",
        "outputId": "6dd48e1c-9c5b-4ada-928a-3dfc92eec4c8",
        "colab": {
          "base_uri": "https://localhost:8080/",
          "height": 170
        }
      },
      "source": [
        "def sort_verbs(my_dict):\n",
        "  '''\n",
        "  Принимает на вход словарь слов и словосочетаний, если видит, что там словосочетание, \n",
        "  оставляет только глагол. Возвращает отфильтрованный список.\n",
        "  '''\n",
        "  polar_verbs_list = []\n",
        "  for phrase in my_dict.keys():\n",
        "    if len(phrase.split(' ')) > 1:\n",
        "      for verb in phrase.split(' '):\n",
        "        if 'VERB' in morph.parse(verb)[0].tag or 'INFN' in morph.parse(verb)[0].tag:\n",
        "          polar_verbs_list.append(verb)\n",
        "    else:\n",
        "      polar_verbs_list.append(phrase)\n",
        "  print(polar_verbs_list[:10])\n",
        "  return polar_verbs_list\n",
        "\n",
        "all_relations_list = sort_verbs(all_dict)\n",
        "pos_relations_list = sort_verbs(pos_dict)\n",
        "neg_relations_list = sort_verbs(neg_dict)\n",
        "\n",
        "print(len(all_dict))\n",
        "print(len(pos_dict))\n",
        "print(len(neg_dict))\n",
        "\n",
        "print(len(all_relations_list))\n",
        "print(len(pos_relations_list))\n",
        "print(len(neg_relations_list))\n"
      ],
      "execution_count": 23,
      "outputs": [
        {
          "output_type": "stream",
          "text": [
            "['помочь', 'поощрить', 'похвалить', 'приветствовать', 'радовать', 'дарить', 'доставить', 'доставлять', 'подарить', 'спасти']\n",
            "['помочь', 'поощрить', 'похвалить', 'приветствовать', 'радовать', 'дарить', 'доставить', 'доставлять', 'подарить', 'спасти']\n",
            "['повредить', 'испортить', 'обеспокоить', 'потрясти', 'доминировать', 'выследить', 'настичь', 'догнать', 'ворваться', 'ловить']\n",
            "169\n",
            "60\n",
            "109\n",
            "169\n",
            "60\n",
            "109\n"
          ],
          "name": "stdout"
        }
      ]
    },
    {
      "cell_type": "markdown",
      "metadata": {
        "id": "24qYydjCI4Ov",
        "colab_type": "text"
      },
      "source": [
        "## **Сделаем датафреймы для всех глаголов вообще, и отдельно для негативных и позитивных.**"
      ]
    },
    {
      "cell_type": "code",
      "metadata": {
        "id": "3q19xDa_LTdK",
        "colab_type": "code",
        "colab": {}
      },
      "source": [
        "df_all = pd.DataFrame({'verbs':all_relations_list, 'phrase':all_relations_pol})\n",
        "df_pos = pd.DataFrame({'verbs':pos_relations_list, 'phrase':pos_relations_pol})\n",
        "df_neg = pd.DataFrame({'verbs':neg_relations_list, 'phrase':neg_relations_pol})"
      ],
      "execution_count": 0,
      "outputs": []
    },
    {
      "cell_type": "markdown",
      "metadata": {
        "id": "FENKIuuDJCHS",
        "colab_type": "text"
      },
      "source": [
        "## **И положим туда значение косинусной дистанции между вектором сидового множества, и каждым из глаголов. Некоторых глаголов нет в моделях, это отобразится в таблице тоже.**"
      ]
    },
    {
      "cell_type": "code",
      "metadata": {
        "id": "EkdwG2nzOEjv",
        "colab_type": "code",
        "outputId": "bdbaae57-c1c9-448d-9c5f-cf3507160671",
        "colab": {
          "base_uri": "https://localhost:8080/",
          "height": 221
        }
      },
      "source": [
        "def add_sim_list(model, my_verbs_list, seed_vector):\n",
        "  '''\n",
        "  Принимает на вход модель, как назвать результирующую колонку в датафрейме,\n",
        "  словарь из глаголов, и средний вектор сидового множества.\n",
        "  записывает колонку в датафрейм, возвращает словарь косинусных расстояний\n",
        "  '''\n",
        "  sim_list = []\n",
        "  if model == skipgram_model:  \n",
        "    for verb in my_verbs_list:\n",
        "        try:\n",
        "          similarity = cosine_distances(np.atleast_2d(model[verb + '_V']), np.atleast_2d(seed_vector))\n",
        "        except KeyError as e:\n",
        "          similarity = 'verb is not in model dict'\n",
        "        sim_list.append(similarity)\n",
        "  else:\n",
        "    for verb in my_verbs_list:\n",
        "      try:\n",
        "        similarity = cosine_distances(np.atleast_2d(model.get_vector(verb)), np.atleast_2d(seed_vector))\n",
        "      except (KeyError, AttributeError) as e:\n",
        "        similarity = 'verb is not in model dict'\n",
        "      sim_list.append(similarity)\n",
        "  print(len(sim_list))\n",
        "  print(len(my_verbs_list))\n",
        "\n",
        "  #dataframe[df_pos] = sim_list\n",
        "  return sim_list\n",
        "\n",
        "#add_sim_list(rv_model, verbs, opinion_embedding)\n",
        "df_all['w2v_model'] = add_sim_list(skipgram_model, all_relations_list, seed_one_skipgram)\n",
        "df_all['fasttext_model'] = add_sim_list(fasttext_model, all_relations_list, seed_one_fasttext)\n",
        "\n",
        "df_pos['w2v_model'] = add_sim_list(skipgram_model, pos_relations_list, seed_one_skipgram)\n",
        "df_pos['fasttext_model'] = add_sim_list(fasttext_model, pos_relations_list, seed_one_fasttext)\n",
        "\n",
        "df_neg['w2v_model'] = add_sim_list(skipgram_model, neg_relations_list, seed_one_skipgram)\n",
        "df_neg['fasttext_model'] = add_sim_list(fasttext_model, neg_relations_list, seed_one_fasttext)"
      ],
      "execution_count": 62,
      "outputs": [
        {
          "output_type": "stream",
          "text": [
            "169\n",
            "169\n",
            "169\n",
            "169\n",
            "60\n",
            "60\n",
            "60\n",
            "60\n",
            "109\n",
            "109\n",
            "109\n",
            "109\n"
          ],
          "name": "stdout"
        }
      ]
    },
    {
      "cell_type": "code",
      "metadata": {
        "id": "AQ2h8KdxOEmO",
        "colab_type": "code",
        "outputId": "d89597ae-c7f5-4ba4-da31-9b2ba6078a7f",
        "colab": {
          "base_uri": "https://localhost:8080/",
          "height": 80
        }
      },
      "source": [
        "df_all.head(1)"
      ],
      "execution_count": 63,
      "outputs": [
        {
          "output_type": "execute_result",
          "data": {
            "text/html": [
              "<div>\n",
              "<style scoped>\n",
              "    .dataframe tbody tr th:only-of-type {\n",
              "        vertical-align: middle;\n",
              "    }\n",
              "\n",
              "    .dataframe tbody tr th {\n",
              "        vertical-align: top;\n",
              "    }\n",
              "\n",
              "    .dataframe thead th {\n",
              "        text-align: right;\n",
              "    }\n",
              "</style>\n",
              "<table border=\"1\" class=\"dataframe\">\n",
              "  <thead>\n",
              "    <tr style=\"text-align: right;\">\n",
              "      <th></th>\n",
              "      <th>verbs</th>\n",
              "      <th>phrase</th>\n",
              "      <th>w2v_model</th>\n",
              "      <th>fasttext_model</th>\n",
              "    </tr>\n",
              "  </thead>\n",
              "  <tbody>\n",
              "    <tr>\n",
              "      <th>0</th>\n",
              "      <td>помочь</td>\n",
              "      <td>помочь</td>\n",
              "      <td>verb is not in model dict</td>\n",
              "      <td>[[0.91887474]]</td>\n",
              "    </tr>\n",
              "  </tbody>\n",
              "</table>\n",
              "</div>"
            ],
            "text/plain": [
              "    verbs  phrase                  w2v_model  fasttext_model\n",
              "0  помочь  помочь  verb is not in model dict  [[0.91887474]]"
            ]
          },
          "metadata": {
            "tags": []
          },
          "execution_count": 63
        }
      ]
    },
    {
      "cell_type": "code",
      "metadata": {
        "id": "ZUbl_ikQOEo5",
        "colab_type": "code",
        "outputId": "2b28c3d4-5aa8-4e5b-90ee-5e205f9bedf4",
        "colab": {
          "base_uri": "https://localhost:8080/",
          "height": 979
        }
      },
      "source": [
        "df_pos.head(30)"
      ],
      "execution_count": 64,
      "outputs": [
        {
          "output_type": "execute_result",
          "data": {
            "text/html": [
              "<div>\n",
              "<style scoped>\n",
              "    .dataframe tbody tr th:only-of-type {\n",
              "        vertical-align: middle;\n",
              "    }\n",
              "\n",
              "    .dataframe tbody tr th {\n",
              "        vertical-align: top;\n",
              "    }\n",
              "\n",
              "    .dataframe thead th {\n",
              "        text-align: right;\n",
              "    }\n",
              "</style>\n",
              "<table border=\"1\" class=\"dataframe\">\n",
              "  <thead>\n",
              "    <tr style=\"text-align: right;\">\n",
              "      <th></th>\n",
              "      <th>verbs</th>\n",
              "      <th>phrase</th>\n",
              "      <th>w2v_model</th>\n",
              "      <th>fasttext_model</th>\n",
              "    </tr>\n",
              "  </thead>\n",
              "  <tbody>\n",
              "    <tr>\n",
              "      <th>0</th>\n",
              "      <td>помочь</td>\n",
              "      <td>помочь</td>\n",
              "      <td>verb is not in model dict</td>\n",
              "      <td>[[0.91887474]]</td>\n",
              "    </tr>\n",
              "    <tr>\n",
              "      <th>1</th>\n",
              "      <td>поощрить</td>\n",
              "      <td>поощрить</td>\n",
              "      <td>verb is not in model dict</td>\n",
              "      <td>[[0.17637241]]</td>\n",
              "    </tr>\n",
              "    <tr>\n",
              "      <th>2</th>\n",
              "      <td>похвалить</td>\n",
              "      <td>похвалить</td>\n",
              "      <td>[[0.48269153]]</td>\n",
              "      <td>[[0.20982283]]</td>\n",
              "    </tr>\n",
              "    <tr>\n",
              "      <th>3</th>\n",
              "      <td>приветствовать</td>\n",
              "      <td>приветствовать</td>\n",
              "      <td>[[0.5898497]]</td>\n",
              "      <td>[[0.36748838]]</td>\n",
              "    </tr>\n",
              "    <tr>\n",
              "      <th>4</th>\n",
              "      <td>радовать</td>\n",
              "      <td>радовать</td>\n",
              "      <td>[[0.72734857]]</td>\n",
              "      <td>[[0.38311976]]</td>\n",
              "    </tr>\n",
              "    <tr>\n",
              "      <th>5</th>\n",
              "      <td>дарить</td>\n",
              "      <td>дарить радость</td>\n",
              "      <td>[[0.752011]]</td>\n",
              "      <td>[[0.48386037]]</td>\n",
              "    </tr>\n",
              "    <tr>\n",
              "      <th>6</th>\n",
              "      <td>доставить</td>\n",
              "      <td>доставить радость</td>\n",
              "      <td>verb is not in model dict</td>\n",
              "      <td>[[0.50851893]]</td>\n",
              "    </tr>\n",
              "    <tr>\n",
              "      <th>7</th>\n",
              "      <td>доставлять</td>\n",
              "      <td>доставлять радость</td>\n",
              "      <td>[[0.9204415]]</td>\n",
              "      <td>[[0.530205]]</td>\n",
              "    </tr>\n",
              "    <tr>\n",
              "      <th>8</th>\n",
              "      <td>подарить</td>\n",
              "      <td>подарить радость</td>\n",
              "      <td>[[0.78662884]]</td>\n",
              "      <td>[[0.44142973]]</td>\n",
              "    </tr>\n",
              "    <tr>\n",
              "      <th>9</th>\n",
              "      <td>спасти</td>\n",
              "      <td>спасти</td>\n",
              "      <td>verb is not in model dict</td>\n",
              "      <td>[[0.6940966]]</td>\n",
              "    </tr>\n",
              "    <tr>\n",
              "      <th>10</th>\n",
              "      <td>защитить</td>\n",
              "      <td>защитить</td>\n",
              "      <td>verb is not in model dict</td>\n",
              "      <td>[[0.44456375]]</td>\n",
              "    </tr>\n",
              "    <tr>\n",
              "      <th>11</th>\n",
              "      <td>обеспечивать</td>\n",
              "      <td>обеспечивать безопасность</td>\n",
              "      <td>[[0.79350126]]</td>\n",
              "      <td>[[0.48235142]]</td>\n",
              "    </tr>\n",
              "    <tr>\n",
              "      <th>12</th>\n",
              "      <td>обеспечить</td>\n",
              "      <td>обеспечить безопасность</td>\n",
              "      <td>verb is not in model dict</td>\n",
              "      <td>[[0.46517622]]</td>\n",
              "    </tr>\n",
              "    <tr>\n",
              "      <th>13</th>\n",
              "      <td>популяризовать</td>\n",
              "      <td>популяризовать</td>\n",
              "      <td>[[0.74562895]]</td>\n",
              "      <td>verb is not in model dict</td>\n",
              "    </tr>\n",
              "    <tr>\n",
              "      <th>14</th>\n",
              "      <td>придавать</td>\n",
              "      <td>придавать известность</td>\n",
              "      <td>[[0.7793457]]</td>\n",
              "      <td>[[0.42259485]]</td>\n",
              "    </tr>\n",
              "    <tr>\n",
              "      <th>15</th>\n",
              "      <td>придать</td>\n",
              "      <td>придать известность</td>\n",
              "      <td>verb is not in model dict</td>\n",
              "      <td>[[0.41585326]]</td>\n",
              "    </tr>\n",
              "    <tr>\n",
              "      <th>16</th>\n",
              "      <td>оправдать</td>\n",
              "      <td>оправдать</td>\n",
              "      <td>verb is not in model dict</td>\n",
              "      <td>[[0.39671594]]</td>\n",
              "    </tr>\n",
              "    <tr>\n",
              "      <th>17</th>\n",
              "      <td>найти</td>\n",
              "      <td>найти оправдание</td>\n",
              "      <td>verb is not in model dict</td>\n",
              "      <td>[[0.6938143]]</td>\n",
              "    </tr>\n",
              "    <tr>\n",
              "      <th>18</th>\n",
              "      <td>обелить</td>\n",
              "      <td>обелить</td>\n",
              "      <td>verb is not in model dict</td>\n",
              "      <td>[[0.4901539]]</td>\n",
              "    </tr>\n",
              "    <tr>\n",
              "      <th>19</th>\n",
              "      <td>испытывать</td>\n",
              "      <td>испытывать энтузиазм</td>\n",
              "      <td>[[0.8390035]]</td>\n",
              "      <td>[[0.52643347]]</td>\n",
              "    </tr>\n",
              "    <tr>\n",
              "      <th>20</th>\n",
              "      <td>дарить</td>\n",
              "      <td>дарить</td>\n",
              "      <td>[[0.752011]]</td>\n",
              "      <td>[[0.48386037]]</td>\n",
              "    </tr>\n",
              "    <tr>\n",
              "      <th>21</th>\n",
              "      <td>вручать</td>\n",
              "      <td>торжественно вручать</td>\n",
              "      <td>[[0.7324604]]</td>\n",
              "      <td>[[0.47754645]]</td>\n",
              "    </tr>\n",
              "    <tr>\n",
              "      <th>22</th>\n",
              "      <td>вручить</td>\n",
              "      <td>торжественно вручить</td>\n",
              "      <td>verb is not in model dict</td>\n",
              "      <td>[[0.54100215]]</td>\n",
              "    </tr>\n",
              "    <tr>\n",
              "      <th>23</th>\n",
              "      <td>поздравить</td>\n",
              "      <td>поздравить</td>\n",
              "      <td>verb is not in model dict</td>\n",
              "      <td>[[0.55263364]]</td>\n",
              "    </tr>\n",
              "    <tr>\n",
              "      <th>24</th>\n",
              "      <td>перехвалить</td>\n",
              "      <td>перехвалить</td>\n",
              "      <td>verb is not in model dict</td>\n",
              "      <td>[[0.3506868]]</td>\n",
              "    </tr>\n",
              "    <tr>\n",
              "      <th>25</th>\n",
              "      <td>ладить</td>\n",
              "      <td>ладить</td>\n",
              "      <td>[[0.68118834]]</td>\n",
              "      <td>[[0.38914347]]</td>\n",
              "    </tr>\n",
              "    <tr>\n",
              "      <th>26</th>\n",
              "      <td>выгородить</td>\n",
              "      <td>выгородить</td>\n",
              "      <td>verb is not in model dict</td>\n",
              "      <td>[[0.56322753]]</td>\n",
              "    </tr>\n",
              "    <tr>\n",
              "      <th>27</th>\n",
              "      <td>укрыть</td>\n",
              "      <td>укрыть</td>\n",
              "      <td>verb is not in model dict</td>\n",
              "      <td>[[0.74731386]]</td>\n",
              "    </tr>\n",
              "    <tr>\n",
              "      <th>28</th>\n",
              "      <td>утаить</td>\n",
              "      <td>утаить</td>\n",
              "      <td>verb is not in model dict</td>\n",
              "      <td>[[0.5114364]]</td>\n",
              "    </tr>\n",
              "    <tr>\n",
              "      <th>29</th>\n",
              "      <td>спонсировать</td>\n",
              "      <td>спонсировать</td>\n",
              "      <td>[[0.70913476]]</td>\n",
              "      <td>[[0.4002542]]</td>\n",
              "    </tr>\n",
              "  </tbody>\n",
              "</table>\n",
              "</div>"
            ],
            "text/plain": [
              "             verbs  ...             fasttext_model\n",
              "0           помочь  ...             [[0.91887474]]\n",
              "1         поощрить  ...             [[0.17637241]]\n",
              "2        похвалить  ...             [[0.20982283]]\n",
              "3   приветствовать  ...             [[0.36748838]]\n",
              "4         радовать  ...             [[0.38311976]]\n",
              "5           дарить  ...             [[0.48386037]]\n",
              "6        доставить  ...             [[0.50851893]]\n",
              "7       доставлять  ...               [[0.530205]]\n",
              "8         подарить  ...             [[0.44142973]]\n",
              "9           спасти  ...              [[0.6940966]]\n",
              "10        защитить  ...             [[0.44456375]]\n",
              "11    обеспечивать  ...             [[0.48235142]]\n",
              "12      обеспечить  ...             [[0.46517622]]\n",
              "13  популяризовать  ...  verb is not in model dict\n",
              "14       придавать  ...             [[0.42259485]]\n",
              "15         придать  ...             [[0.41585326]]\n",
              "16       оправдать  ...             [[0.39671594]]\n",
              "17           найти  ...              [[0.6938143]]\n",
              "18         обелить  ...              [[0.4901539]]\n",
              "19      испытывать  ...             [[0.52643347]]\n",
              "20          дарить  ...             [[0.48386037]]\n",
              "21         вручать  ...             [[0.47754645]]\n",
              "22         вручить  ...             [[0.54100215]]\n",
              "23      поздравить  ...             [[0.55263364]]\n",
              "24     перехвалить  ...              [[0.3506868]]\n",
              "25          ладить  ...             [[0.38914347]]\n",
              "26      выгородить  ...             [[0.56322753]]\n",
              "27          укрыть  ...             [[0.74731386]]\n",
              "28          утаить  ...              [[0.5114364]]\n",
              "29    спонсировать  ...              [[0.4002542]]\n",
              "\n",
              "[30 rows x 4 columns]"
            ]
          },
          "metadata": {
            "tags": []
          },
          "execution_count": 64
        }
      ]
    },
    {
      "cell_type": "code",
      "metadata": {
        "id": "hyeZz7_3OEuX",
        "colab_type": "code",
        "outputId": "e85e2690-12c7-47fd-a3ed-cb35aa143f93",
        "colab": {
          "base_uri": "https://localhost:8080/",
          "height": 979
        }
      },
      "source": [
        "df_neg.head(30)"
      ],
      "execution_count": 65,
      "outputs": [
        {
          "output_type": "execute_result",
          "data": {
            "text/html": [
              "<div>\n",
              "<style scoped>\n",
              "    .dataframe tbody tr th:only-of-type {\n",
              "        vertical-align: middle;\n",
              "    }\n",
              "\n",
              "    .dataframe tbody tr th {\n",
              "        vertical-align: top;\n",
              "    }\n",
              "\n",
              "    .dataframe thead th {\n",
              "        text-align: right;\n",
              "    }\n",
              "</style>\n",
              "<table border=\"1\" class=\"dataframe\">\n",
              "  <thead>\n",
              "    <tr style=\"text-align: right;\">\n",
              "      <th></th>\n",
              "      <th>verbs</th>\n",
              "      <th>phrase</th>\n",
              "      <th>w2v_model</th>\n",
              "      <th>fasttext_model</th>\n",
              "    </tr>\n",
              "  </thead>\n",
              "  <tbody>\n",
              "    <tr>\n",
              "      <th>0</th>\n",
              "      <td>повредить</td>\n",
              "      <td>повредить</td>\n",
              "      <td>verb is not in model dict</td>\n",
              "      <td>[[0.5450003]]</td>\n",
              "    </tr>\n",
              "    <tr>\n",
              "      <th>1</th>\n",
              "      <td>испортить</td>\n",
              "      <td>испортить</td>\n",
              "      <td>[[0.78414404]]</td>\n",
              "      <td>[[0.41191667]]</td>\n",
              "    </tr>\n",
              "    <tr>\n",
              "      <th>2</th>\n",
              "      <td>обеспокоить</td>\n",
              "      <td>обеспокоить</td>\n",
              "      <td>[[0.7456583]]</td>\n",
              "      <td>[[0.5044007]]</td>\n",
              "    </tr>\n",
              "    <tr>\n",
              "      <th>3</th>\n",
              "      <td>потрясти</td>\n",
              "      <td>потрясти до глубины души</td>\n",
              "      <td>verb is not in model dict</td>\n",
              "      <td>[[0.69239753]]</td>\n",
              "    </tr>\n",
              "    <tr>\n",
              "      <th>4</th>\n",
              "      <td>доминировать</td>\n",
              "      <td>доминировать</td>\n",
              "      <td>[[0.8056042]]</td>\n",
              "      <td>[[0.52223873]]</td>\n",
              "    </tr>\n",
              "    <tr>\n",
              "      <th>5</th>\n",
              "      <td>выследить</td>\n",
              "      <td>выследить</td>\n",
              "      <td>verb is not in model dict</td>\n",
              "      <td>[[0.52639043]]</td>\n",
              "    </tr>\n",
              "    <tr>\n",
              "      <th>6</th>\n",
              "      <td>настичь</td>\n",
              "      <td>настичь</td>\n",
              "      <td>verb is not in model dict</td>\n",
              "      <td>[[0.9443023]]</td>\n",
              "    </tr>\n",
              "    <tr>\n",
              "      <th>7</th>\n",
              "      <td>догнать</td>\n",
              "      <td>догнать</td>\n",
              "      <td>[[0.87338156]]</td>\n",
              "      <td>[[0.5594841]]</td>\n",
              "    </tr>\n",
              "    <tr>\n",
              "      <th>8</th>\n",
              "      <td>ворваться</td>\n",
              "      <td>ворваться</td>\n",
              "      <td>[[0.9255186]]</td>\n",
              "      <td>[[0.7055975]]</td>\n",
              "    </tr>\n",
              "    <tr>\n",
              "      <th>9</th>\n",
              "      <td>ловить</td>\n",
              "      <td>ловить</td>\n",
              "      <td>[[0.79371715]]</td>\n",
              "      <td>[[0.50638425]]</td>\n",
              "    </tr>\n",
              "    <tr>\n",
              "      <th>10</th>\n",
              "      <td>поймать</td>\n",
              "      <td>поймать</td>\n",
              "      <td>[[0.8210927]]</td>\n",
              "      <td>[[0.5714307]]</td>\n",
              "    </tr>\n",
              "    <tr>\n",
              "      <th>11</th>\n",
              "      <td>хапать</td>\n",
              "      <td>хапать</td>\n",
              "      <td>[[0.85194755]]</td>\n",
              "      <td>[[0.45391452]]</td>\n",
              "    </tr>\n",
              "    <tr>\n",
              "      <th>12</th>\n",
              "      <td>отказать</td>\n",
              "      <td>отказать</td>\n",
              "      <td>verb is not in model dict</td>\n",
              "      <td>[[0.4491955]]</td>\n",
              "    </tr>\n",
              "    <tr>\n",
              "      <th>13</th>\n",
              "      <td>ответить</td>\n",
              "      <td>ответить отрицательно</td>\n",
              "      <td>verb is not in model dict</td>\n",
              "      <td>[[0.4575534]]</td>\n",
              "    </tr>\n",
              "    <tr>\n",
              "      <th>14</th>\n",
              "      <td>грозить</td>\n",
              "      <td>грозить</td>\n",
              "      <td>[[0.8440592]]</td>\n",
              "      <td>[[0.6490394]]</td>\n",
              "    </tr>\n",
              "    <tr>\n",
              "      <th>15</th>\n",
              "      <td>нести</td>\n",
              "      <td>нести угрозу</td>\n",
              "      <td>[[0.8508465]]</td>\n",
              "      <td>[[0.58552516]]</td>\n",
              "    </tr>\n",
              "    <tr>\n",
              "      <th>16</th>\n",
              "      <td>подозревать</td>\n",
              "      <td>подозревать</td>\n",
              "      <td>[[0.8594307]]</td>\n",
              "      <td>[[0.48679084]]</td>\n",
              "    </tr>\n",
              "    <tr>\n",
              "      <th>17</th>\n",
              "      <td>глядеть</td>\n",
              "      <td>косо глядеть</td>\n",
              "      <td>[[0.7164106]]</td>\n",
              "      <td>[[0.76618373]]</td>\n",
              "    </tr>\n",
              "    <tr>\n",
              "      <th>18</th>\n",
              "      <td>смотреть</td>\n",
              "      <td>косо смотреть</td>\n",
              "      <td>[[0.8164156]]</td>\n",
              "      <td>[[0.70559055]]</td>\n",
              "    </tr>\n",
              "    <tr>\n",
              "      <th>19</th>\n",
              "      <td>убить</td>\n",
              "      <td>убить</td>\n",
              "      <td>verb is not in model dict</td>\n",
              "      <td>[[0.60424435]]</td>\n",
              "    </tr>\n",
              "    <tr>\n",
              "      <th>20</th>\n",
              "      <td>забивать</td>\n",
              "      <td>забивать насмерть</td>\n",
              "      <td>[[0.8355135]]</td>\n",
              "      <td>[[0.5114877]]</td>\n",
              "    </tr>\n",
              "    <tr>\n",
              "      <th>21</th>\n",
              "      <td>забить</td>\n",
              "      <td>забить насмерть</td>\n",
              "      <td>verb is not in model dict</td>\n",
              "      <td>[[0.61272573]]</td>\n",
              "    </tr>\n",
              "    <tr>\n",
              "      <th>22</th>\n",
              "      <td>загрызть</td>\n",
              "      <td>загрызть насмерть</td>\n",
              "      <td>verb is not in model dict</td>\n",
              "      <td>[[0.6816953]]</td>\n",
              "    </tr>\n",
              "    <tr>\n",
              "      <th>23</th>\n",
              "      <td>задавить</td>\n",
              "      <td>задавить насмерть</td>\n",
              "      <td>verb is not in model dict</td>\n",
              "      <td>[[0.53683317]]</td>\n",
              "    </tr>\n",
              "    <tr>\n",
              "      <th>24</th>\n",
              "      <td>пришить</td>\n",
              "      <td>пришить</td>\n",
              "      <td>verb is not in model dict</td>\n",
              "      <td>[[0.48427522]]</td>\n",
              "    </tr>\n",
              "    <tr>\n",
              "      <th>25</th>\n",
              "      <td>укокошить</td>\n",
              "      <td>укокошить</td>\n",
              "      <td>verb is not in model dict</td>\n",
              "      <td>[[0.52480125]]</td>\n",
              "    </tr>\n",
              "    <tr>\n",
              "      <th>26</th>\n",
              "      <td>мешать</td>\n",
              "      <td>мешать</td>\n",
              "      <td>[[0.7172146]]</td>\n",
              "      <td>[[0.44374168]]</td>\n",
              "    </tr>\n",
              "    <tr>\n",
              "      <th>27</th>\n",
              "      <td>создавать</td>\n",
              "      <td>создавать препятствия</td>\n",
              "      <td>[[0.8059919]]</td>\n",
              "      <td>[[0.5341896]]</td>\n",
              "    </tr>\n",
              "    <tr>\n",
              "      <th>28</th>\n",
              "      <td>тормозить</td>\n",
              "      <td>тормозить деятельность</td>\n",
              "      <td>[[0.7333392]]</td>\n",
              "      <td>[[0.5784888]]</td>\n",
              "    </tr>\n",
              "    <tr>\n",
              "      <th>29</th>\n",
              "      <td>роптать</td>\n",
              "      <td>роптать</td>\n",
              "      <td>[[0.75463647]]</td>\n",
              "      <td>[[0.44212633]]</td>\n",
              "    </tr>\n",
              "  </tbody>\n",
              "</table>\n",
              "</div>"
            ],
            "text/plain": [
              "           verbs  ...  fasttext_model\n",
              "0      повредить  ...   [[0.5450003]]\n",
              "1      испортить  ...  [[0.41191667]]\n",
              "2    обеспокоить  ...   [[0.5044007]]\n",
              "3       потрясти  ...  [[0.69239753]]\n",
              "4   доминировать  ...  [[0.52223873]]\n",
              "5      выследить  ...  [[0.52639043]]\n",
              "6        настичь  ...   [[0.9443023]]\n",
              "7        догнать  ...   [[0.5594841]]\n",
              "8      ворваться  ...   [[0.7055975]]\n",
              "9         ловить  ...  [[0.50638425]]\n",
              "10       поймать  ...   [[0.5714307]]\n",
              "11        хапать  ...  [[0.45391452]]\n",
              "12      отказать  ...   [[0.4491955]]\n",
              "13      ответить  ...   [[0.4575534]]\n",
              "14       грозить  ...   [[0.6490394]]\n",
              "15         нести  ...  [[0.58552516]]\n",
              "16   подозревать  ...  [[0.48679084]]\n",
              "17       глядеть  ...  [[0.76618373]]\n",
              "18      смотреть  ...  [[0.70559055]]\n",
              "19         убить  ...  [[0.60424435]]\n",
              "20      забивать  ...   [[0.5114877]]\n",
              "21        забить  ...  [[0.61272573]]\n",
              "22      загрызть  ...   [[0.6816953]]\n",
              "23      задавить  ...  [[0.53683317]]\n",
              "24       пришить  ...  [[0.48427522]]\n",
              "25     укокошить  ...  [[0.52480125]]\n",
              "26        мешать  ...  [[0.44374168]]\n",
              "27     создавать  ...   [[0.5341896]]\n",
              "28     тормозить  ...   [[0.5784888]]\n",
              "29       роптать  ...  [[0.44212633]]\n",
              "\n",
              "[30 rows x 4 columns]"
            ]
          },
          "metadata": {
            "tags": []
          },
          "execution_count": 65
        }
      ]
    },
    {
      "cell_type": "markdown",
      "metadata": {
        "id": "Qj-cGwJ9EsW-",
        "colab_type": "text"
      },
      "source": [
        "## **Попробуем другие сидовые множества.**"
      ]
    },
    {
      "cell_type": "code",
      "metadata": {
        "id": "Ca_ZuNAXOExG",
        "colab_type": "code",
        "colab": {}
      },
      "source": [
        "seed_two_dict = ['осуждать', 'негодовать']"
      ],
      "execution_count": 0,
      "outputs": []
    },
    {
      "cell_type": "code",
      "metadata": {
        "id": "j5X8EAC-OEzW",
        "colab_type": "code",
        "colab": {}
      },
      "source": [
        "seed_two_skipgram = make_seed_embedding(seed_two_dict, skipgram_model)\n",
        "seed_two_fasttext = make_seed_embedding(seed_two_dict, fasttext_model)"
      ],
      "execution_count": 0,
      "outputs": []
    },
    {
      "cell_type": "code",
      "metadata": {
        "id": "i83_R8M6EqmY",
        "colab_type": "code",
        "colab": {}
      },
      "source": [
        "df_all2 = pd.DataFrame({'verbs':all_relations_list, 'phrase':all_relations_pol})\n",
        "df_pos2 = pd.DataFrame({'verbs':pos_relations_list, 'phrase':pos_relations_pol})\n",
        "df_neg2 = pd.DataFrame({'verbs':neg_relations_list, 'phrase':neg_relations_pol})"
      ],
      "execution_count": 0,
      "outputs": []
    },
    {
      "cell_type": "code",
      "metadata": {
        "id": "eX0m-8qcEqkj",
        "colab_type": "code",
        "outputId": "684ab888-cd62-47f9-f160-44603ad318a5",
        "colab": {
          "base_uri": "https://localhost:8080/",
          "height": 221
        }
      },
      "source": [
        "df_all2['w2v_model'] = add_sim_list(skipgram_model, all_relations_list, seed_two_skipgram)\n",
        "df_all2['fasttext_model'] = add_sim_list(fasttext_model, all_relations_list, seed_two_fasttext)\n",
        "\n",
        "df_pos2['w2v_model'] = add_sim_list(skipgram_model, pos_relations_list, seed_two_skipgram)\n",
        "df_pos2['fasttext_model'] = add_sim_list(fasttext_model, pos_relations_list, seed_two_fasttext)\n",
        "\n",
        "df_neg2['w2v_model'] = add_sim_list(skipgram_model, neg_relations_list, seed_two_skipgram)\n",
        "df_neg2['fasttext_model'] = add_sim_list(fasttext_model, neg_relations_list, seed_two_fasttext)"
      ],
      "execution_count": 69,
      "outputs": [
        {
          "output_type": "stream",
          "text": [
            "169\n",
            "169\n",
            "169\n",
            "169\n",
            "60\n",
            "60\n",
            "60\n",
            "60\n",
            "109\n",
            "109\n",
            "109\n",
            "109\n"
          ],
          "name": "stdout"
        }
      ]
    },
    {
      "cell_type": "code",
      "metadata": {
        "id": "6KytnkL2Eqgp",
        "colab_type": "code",
        "outputId": "17d87647-5820-4ab7-8d73-56b09a0fea7d",
        "colab": {
          "base_uri": "https://localhost:8080/",
          "height": 80
        }
      },
      "source": [
        "df_all2.head(1)"
      ],
      "execution_count": 70,
      "outputs": [
        {
          "output_type": "execute_result",
          "data": {
            "text/html": [
              "<div>\n",
              "<style scoped>\n",
              "    .dataframe tbody tr th:only-of-type {\n",
              "        vertical-align: middle;\n",
              "    }\n",
              "\n",
              "    .dataframe tbody tr th {\n",
              "        vertical-align: top;\n",
              "    }\n",
              "\n",
              "    .dataframe thead th {\n",
              "        text-align: right;\n",
              "    }\n",
              "</style>\n",
              "<table border=\"1\" class=\"dataframe\">\n",
              "  <thead>\n",
              "    <tr style=\"text-align: right;\">\n",
              "      <th></th>\n",
              "      <th>verbs</th>\n",
              "      <th>phrase</th>\n",
              "      <th>w2v_model</th>\n",
              "      <th>fasttext_model</th>\n",
              "    </tr>\n",
              "  </thead>\n",
              "  <tbody>\n",
              "    <tr>\n",
              "      <th>0</th>\n",
              "      <td>помочь</td>\n",
              "      <td>помочь</td>\n",
              "      <td>verb is not in model dict</td>\n",
              "      <td>[[1.0172709]]</td>\n",
              "    </tr>\n",
              "  </tbody>\n",
              "</table>\n",
              "</div>"
            ],
            "text/plain": [
              "    verbs  phrase                  w2v_model fasttext_model\n",
              "0  помочь  помочь  verb is not in model dict  [[1.0172709]]"
            ]
          },
          "metadata": {
            "tags": []
          },
          "execution_count": 70
        }
      ]
    },
    {
      "cell_type": "code",
      "metadata": {
        "id": "TOu47tHiGFtO",
        "colab_type": "code",
        "outputId": "d2e884a1-9b13-4917-9996-6a81d37cdfd8",
        "colab": {
          "base_uri": "https://localhost:8080/",
          "height": 359
        }
      },
      "source": [
        "df_pos2.head(10)"
      ],
      "execution_count": 71,
      "outputs": [
        {
          "output_type": "execute_result",
          "data": {
            "text/html": [
              "<div>\n",
              "<style scoped>\n",
              "    .dataframe tbody tr th:only-of-type {\n",
              "        vertical-align: middle;\n",
              "    }\n",
              "\n",
              "    .dataframe tbody tr th {\n",
              "        vertical-align: top;\n",
              "    }\n",
              "\n",
              "    .dataframe thead th {\n",
              "        text-align: right;\n",
              "    }\n",
              "</style>\n",
              "<table border=\"1\" class=\"dataframe\">\n",
              "  <thead>\n",
              "    <tr style=\"text-align: right;\">\n",
              "      <th></th>\n",
              "      <th>verbs</th>\n",
              "      <th>phrase</th>\n",
              "      <th>w2v_model</th>\n",
              "      <th>fasttext_model</th>\n",
              "    </tr>\n",
              "  </thead>\n",
              "  <tbody>\n",
              "    <tr>\n",
              "      <th>0</th>\n",
              "      <td>помочь</td>\n",
              "      <td>помочь</td>\n",
              "      <td>verb is not in model dict</td>\n",
              "      <td>[[1.0172709]]</td>\n",
              "    </tr>\n",
              "    <tr>\n",
              "      <th>1</th>\n",
              "      <td>поощрить</td>\n",
              "      <td>поощрить</td>\n",
              "      <td>verb is not in model dict</td>\n",
              "      <td>[[0.4265676]]</td>\n",
              "    </tr>\n",
              "    <tr>\n",
              "      <th>2</th>\n",
              "      <td>похвалить</td>\n",
              "      <td>похвалить</td>\n",
              "      <td>[[0.7065598]]</td>\n",
              "      <td>[[0.50444555]]</td>\n",
              "    </tr>\n",
              "    <tr>\n",
              "      <th>3</th>\n",
              "      <td>приветствовать</td>\n",
              "      <td>приветствовать</td>\n",
              "      <td>[[0.74483865]]</td>\n",
              "      <td>[[0.43908948]]</td>\n",
              "    </tr>\n",
              "    <tr>\n",
              "      <th>4</th>\n",
              "      <td>радовать</td>\n",
              "      <td>радовать</td>\n",
              "      <td>[[0.8283391]]</td>\n",
              "      <td>[[0.50327724]]</td>\n",
              "    </tr>\n",
              "    <tr>\n",
              "      <th>5</th>\n",
              "      <td>дарить</td>\n",
              "      <td>дарить радость</td>\n",
              "      <td>[[0.85249525]]</td>\n",
              "      <td>[[0.64122814]]</td>\n",
              "    </tr>\n",
              "    <tr>\n",
              "      <th>6</th>\n",
              "      <td>доставить</td>\n",
              "      <td>доставить радость</td>\n",
              "      <td>verb is not in model dict</td>\n",
              "      <td>[[0.5756773]]</td>\n",
              "    </tr>\n",
              "    <tr>\n",
              "      <th>7</th>\n",
              "      <td>доставлять</td>\n",
              "      <td>доставлять радость</td>\n",
              "      <td>[[0.91314846]]</td>\n",
              "      <td>[[0.53472865]]</td>\n",
              "    </tr>\n",
              "    <tr>\n",
              "      <th>8</th>\n",
              "      <td>подарить</td>\n",
              "      <td>подарить радость</td>\n",
              "      <td>[[0.80887055]]</td>\n",
              "      <td>[[0.599512]]</td>\n",
              "    </tr>\n",
              "    <tr>\n",
              "      <th>9</th>\n",
              "      <td>спасти</td>\n",
              "      <td>спасти</td>\n",
              "      <td>verb is not in model dict</td>\n",
              "      <td>[[0.70674324]]</td>\n",
              "    </tr>\n",
              "  </tbody>\n",
              "</table>\n",
              "</div>"
            ],
            "text/plain": [
              "            verbs  ...  fasttext_model\n",
              "0          помочь  ...   [[1.0172709]]\n",
              "1        поощрить  ...   [[0.4265676]]\n",
              "2       похвалить  ...  [[0.50444555]]\n",
              "3  приветствовать  ...  [[0.43908948]]\n",
              "4        радовать  ...  [[0.50327724]]\n",
              "5          дарить  ...  [[0.64122814]]\n",
              "6       доставить  ...   [[0.5756773]]\n",
              "7      доставлять  ...  [[0.53472865]]\n",
              "8        подарить  ...    [[0.599512]]\n",
              "9          спасти  ...  [[0.70674324]]\n",
              "\n",
              "[10 rows x 4 columns]"
            ]
          },
          "metadata": {
            "tags": []
          },
          "execution_count": 71
        }
      ]
    },
    {
      "cell_type": "code",
      "metadata": {
        "id": "veA9Io3kGFzc",
        "colab_type": "code",
        "outputId": "90142520-6756-4aa5-a1df-12d6e8210d7f",
        "colab": {
          "base_uri": "https://localhost:8080/",
          "height": 359
        }
      },
      "source": [
        "df_neg2.head(10)"
      ],
      "execution_count": 72,
      "outputs": [
        {
          "output_type": "execute_result",
          "data": {
            "text/html": [
              "<div>\n",
              "<style scoped>\n",
              "    .dataframe tbody tr th:only-of-type {\n",
              "        vertical-align: middle;\n",
              "    }\n",
              "\n",
              "    .dataframe tbody tr th {\n",
              "        vertical-align: top;\n",
              "    }\n",
              "\n",
              "    .dataframe thead th {\n",
              "        text-align: right;\n",
              "    }\n",
              "</style>\n",
              "<table border=\"1\" class=\"dataframe\">\n",
              "  <thead>\n",
              "    <tr style=\"text-align: right;\">\n",
              "      <th></th>\n",
              "      <th>verbs</th>\n",
              "      <th>phrase</th>\n",
              "      <th>w2v_model</th>\n",
              "      <th>fasttext_model</th>\n",
              "    </tr>\n",
              "  </thead>\n",
              "  <tbody>\n",
              "    <tr>\n",
              "      <th>0</th>\n",
              "      <td>повредить</td>\n",
              "      <td>повредить</td>\n",
              "      <td>verb is not in model dict</td>\n",
              "      <td>[[0.53814566]]</td>\n",
              "    </tr>\n",
              "    <tr>\n",
              "      <th>1</th>\n",
              "      <td>испортить</td>\n",
              "      <td>испортить</td>\n",
              "      <td>[[0.77675235]]</td>\n",
              "      <td>[[0.43742788]]</td>\n",
              "    </tr>\n",
              "    <tr>\n",
              "      <th>2</th>\n",
              "      <td>обеспокоить</td>\n",
              "      <td>обеспокоить</td>\n",
              "      <td>[[0.643383]]</td>\n",
              "      <td>[[0.4523908]]</td>\n",
              "    </tr>\n",
              "    <tr>\n",
              "      <th>3</th>\n",
              "      <td>потрясти</td>\n",
              "      <td>потрясти до глубины души</td>\n",
              "      <td>verb is not in model dict</td>\n",
              "      <td>[[0.6660273]]</td>\n",
              "    </tr>\n",
              "    <tr>\n",
              "      <th>4</th>\n",
              "      <td>доминировать</td>\n",
              "      <td>доминировать</td>\n",
              "      <td>[[0.8884222]]</td>\n",
              "      <td>[[0.46882892]]</td>\n",
              "    </tr>\n",
              "    <tr>\n",
              "      <th>5</th>\n",
              "      <td>выследить</td>\n",
              "      <td>выследить</td>\n",
              "      <td>verb is not in model dict</td>\n",
              "      <td>[[0.48472315]]</td>\n",
              "    </tr>\n",
              "    <tr>\n",
              "      <th>6</th>\n",
              "      <td>настичь</td>\n",
              "      <td>настичь</td>\n",
              "      <td>verb is not in model dict</td>\n",
              "      <td>[[0.97252905]]</td>\n",
              "    </tr>\n",
              "    <tr>\n",
              "      <th>7</th>\n",
              "      <td>догнать</td>\n",
              "      <td>догнать</td>\n",
              "      <td>[[0.8723642]]</td>\n",
              "      <td>[[0.5780843]]</td>\n",
              "    </tr>\n",
              "    <tr>\n",
              "      <th>8</th>\n",
              "      <td>ворваться</td>\n",
              "      <td>ворваться</td>\n",
              "      <td>[[0.7986826]]</td>\n",
              "      <td>[[0.63658583]]</td>\n",
              "    </tr>\n",
              "    <tr>\n",
              "      <th>9</th>\n",
              "      <td>ловить</td>\n",
              "      <td>ловить</td>\n",
              "      <td>[[0.78541136]]</td>\n",
              "      <td>[[0.55598485]]</td>\n",
              "    </tr>\n",
              "  </tbody>\n",
              "</table>\n",
              "</div>"
            ],
            "text/plain": [
              "          verbs  ...  fasttext_model\n",
              "0     повредить  ...  [[0.53814566]]\n",
              "1     испортить  ...  [[0.43742788]]\n",
              "2   обеспокоить  ...   [[0.4523908]]\n",
              "3      потрясти  ...   [[0.6660273]]\n",
              "4  доминировать  ...  [[0.46882892]]\n",
              "5     выследить  ...  [[0.48472315]]\n",
              "6       настичь  ...  [[0.97252905]]\n",
              "7       догнать  ...   [[0.5780843]]\n",
              "8     ворваться  ...  [[0.63658583]]\n",
              "9        ловить  ...  [[0.55598485]]\n",
              "\n",
              "[10 rows x 4 columns]"
            ]
          },
          "metadata": {
            "tags": []
          },
          "execution_count": 72
        }
      ]
    },
    {
      "cell_type": "code",
      "metadata": {
        "id": "gJblDnEDGFql",
        "colab_type": "code",
        "colab": {}
      },
      "source": [
        "seed_three_dict = ['обожать', 'восхищаться', 'восторгаться', 'нравиться', 'ценить', 'гордиться']"
      ],
      "execution_count": 0,
      "outputs": []
    },
    {
      "cell_type": "code",
      "metadata": {
        "id": "IJk4yNd1uFtO",
        "colab_type": "code",
        "colab": {}
      },
      "source": [
        "seed_three_skipgram = make_seed_embedding(seed_three_dict, skipgram_model)\n",
        "seed_three_fasttext = make_seed_embedding(seed_three_dict, fasttext_model)"
      ],
      "execution_count": 0,
      "outputs": []
    },
    {
      "cell_type": "code",
      "metadata": {
        "id": "BWs8gdWCuFq6",
        "colab_type": "code",
        "colab": {}
      },
      "source": [
        "df_all3 = pd.DataFrame({'verbs':all_relations_list, 'phrase':all_relations_pol})\n",
        "df_pos3 = pd.DataFrame({'verbs':pos_relations_list, 'phrase':pos_relations_pol})\n",
        "df_neg3 = pd.DataFrame({'verbs':neg_relations_list, 'phrase':neg_relations_pol})"
      ],
      "execution_count": 0,
      "outputs": []
    },
    {
      "cell_type": "code",
      "metadata": {
        "id": "oEFBaFr1uFm3",
        "colab_type": "code",
        "outputId": "cf749df9-a0ae-4152-abc2-337bef59dcde",
        "colab": {
          "base_uri": "https://localhost:8080/",
          "height": 221
        }
      },
      "source": [
        "df_all3['w2v_model'] = add_sim_list(skipgram_model, all_relations_list, seed_three_skipgram)\n",
        "df_all3['fasttext_model'] = add_sim_list(fasttext_model, all_relations_list, seed_three_fasttext)\n",
        "\n",
        "df_pos3['w2v_model'] = add_sim_list(skipgram_model, pos_relations_list, seed_three_skipgram)\n",
        "df_pos3['fasttext_model'] = add_sim_list(fasttext_model, pos_relations_list, seed_three_fasttext)\n",
        "\n",
        "df_neg3['w2v_model'] = add_sim_list(skipgram_model, neg_relations_list, seed_three_skipgram)\n",
        "df_neg3['fasttext_model'] = add_sim_list(fasttext_model, neg_relations_list, seed_three_fasttext)"
      ],
      "execution_count": 76,
      "outputs": [
        {
          "output_type": "stream",
          "text": [
            "169\n",
            "169\n",
            "169\n",
            "169\n",
            "60\n",
            "60\n",
            "60\n",
            "60\n",
            "109\n",
            "109\n",
            "109\n",
            "109\n"
          ],
          "name": "stdout"
        }
      ]
    },
    {
      "cell_type": "code",
      "metadata": {
        "id": "3blOp1bdu17U",
        "colab_type": "code",
        "outputId": "1df0950b-6897-4103-af35-968dff0ad285",
        "colab": {
          "base_uri": "https://localhost:8080/",
          "height": 204
        }
      },
      "source": [
        "df_all3.head(5)"
      ],
      "execution_count": 77,
      "outputs": [
        {
          "output_type": "execute_result",
          "data": {
            "text/html": [
              "<div>\n",
              "<style scoped>\n",
              "    .dataframe tbody tr th:only-of-type {\n",
              "        vertical-align: middle;\n",
              "    }\n",
              "\n",
              "    .dataframe tbody tr th {\n",
              "        vertical-align: top;\n",
              "    }\n",
              "\n",
              "    .dataframe thead th {\n",
              "        text-align: right;\n",
              "    }\n",
              "</style>\n",
              "<table border=\"1\" class=\"dataframe\">\n",
              "  <thead>\n",
              "    <tr style=\"text-align: right;\">\n",
              "      <th></th>\n",
              "      <th>verbs</th>\n",
              "      <th>phrase</th>\n",
              "      <th>w2v_model</th>\n",
              "      <th>fasttext_model</th>\n",
              "    </tr>\n",
              "  </thead>\n",
              "  <tbody>\n",
              "    <tr>\n",
              "      <th>0</th>\n",
              "      <td>помочь</td>\n",
              "      <td>помочь</td>\n",
              "      <td>verb is not in model dict</td>\n",
              "      <td>[[1.0869569]]</td>\n",
              "    </tr>\n",
              "    <tr>\n",
              "      <th>1</th>\n",
              "      <td>поощрить</td>\n",
              "      <td>поощрить</td>\n",
              "      <td>verb is not in model dict</td>\n",
              "      <td>[[0.42445105]]</td>\n",
              "    </tr>\n",
              "    <tr>\n",
              "      <th>2</th>\n",
              "      <td>похвалить</td>\n",
              "      <td>похвалить</td>\n",
              "      <td>[[0.5607922]]</td>\n",
              "      <td>[[0.34632283]]</td>\n",
              "    </tr>\n",
              "    <tr>\n",
              "      <th>3</th>\n",
              "      <td>приветствовать</td>\n",
              "      <td>приветствовать</td>\n",
              "      <td>[[0.6863141]]</td>\n",
              "      <td>[[0.41872245]]</td>\n",
              "    </tr>\n",
              "    <tr>\n",
              "      <th>4</th>\n",
              "      <td>радовать</td>\n",
              "      <td>радовать</td>\n",
              "      <td>[[0.5692914]]</td>\n",
              "      <td>[[0.267159]]</td>\n",
              "    </tr>\n",
              "  </tbody>\n",
              "</table>\n",
              "</div>"
            ],
            "text/plain": [
              "            verbs          phrase                  w2v_model  fasttext_model\n",
              "0          помочь          помочь  verb is not in model dict   [[1.0869569]]\n",
              "1        поощрить        поощрить  verb is not in model dict  [[0.42445105]]\n",
              "2       похвалить       похвалить              [[0.5607922]]  [[0.34632283]]\n",
              "3  приветствовать  приветствовать              [[0.6863141]]  [[0.41872245]]\n",
              "4        радовать        радовать              [[0.5692914]]    [[0.267159]]"
            ]
          },
          "metadata": {
            "tags": []
          },
          "execution_count": 77
        }
      ]
    },
    {
      "cell_type": "code",
      "metadata": {
        "id": "5itZQ4NKu15N",
        "colab_type": "code",
        "outputId": "8954f65f-0704-4b52-e0ad-269bce9a5bcb",
        "colab": {
          "base_uri": "https://localhost:8080/",
          "height": 204
        }
      },
      "source": [
        "df_pos3.head(5)"
      ],
      "execution_count": 78,
      "outputs": [
        {
          "output_type": "execute_result",
          "data": {
            "text/html": [
              "<div>\n",
              "<style scoped>\n",
              "    .dataframe tbody tr th:only-of-type {\n",
              "        vertical-align: middle;\n",
              "    }\n",
              "\n",
              "    .dataframe tbody tr th {\n",
              "        vertical-align: top;\n",
              "    }\n",
              "\n",
              "    .dataframe thead th {\n",
              "        text-align: right;\n",
              "    }\n",
              "</style>\n",
              "<table border=\"1\" class=\"dataframe\">\n",
              "  <thead>\n",
              "    <tr style=\"text-align: right;\">\n",
              "      <th></th>\n",
              "      <th>verbs</th>\n",
              "      <th>phrase</th>\n",
              "      <th>w2v_model</th>\n",
              "      <th>fasttext_model</th>\n",
              "    </tr>\n",
              "  </thead>\n",
              "  <tbody>\n",
              "    <tr>\n",
              "      <th>0</th>\n",
              "      <td>помочь</td>\n",
              "      <td>помочь</td>\n",
              "      <td>verb is not in model dict</td>\n",
              "      <td>[[1.0869569]]</td>\n",
              "    </tr>\n",
              "    <tr>\n",
              "      <th>1</th>\n",
              "      <td>поощрить</td>\n",
              "      <td>поощрить</td>\n",
              "      <td>verb is not in model dict</td>\n",
              "      <td>[[0.42445105]]</td>\n",
              "    </tr>\n",
              "    <tr>\n",
              "      <th>2</th>\n",
              "      <td>похвалить</td>\n",
              "      <td>похвалить</td>\n",
              "      <td>[[0.5607922]]</td>\n",
              "      <td>[[0.34632283]]</td>\n",
              "    </tr>\n",
              "    <tr>\n",
              "      <th>3</th>\n",
              "      <td>приветствовать</td>\n",
              "      <td>приветствовать</td>\n",
              "      <td>[[0.6863141]]</td>\n",
              "      <td>[[0.41872245]]</td>\n",
              "    </tr>\n",
              "    <tr>\n",
              "      <th>4</th>\n",
              "      <td>радовать</td>\n",
              "      <td>радовать</td>\n",
              "      <td>[[0.5692914]]</td>\n",
              "      <td>[[0.267159]]</td>\n",
              "    </tr>\n",
              "  </tbody>\n",
              "</table>\n",
              "</div>"
            ],
            "text/plain": [
              "            verbs          phrase                  w2v_model  fasttext_model\n",
              "0          помочь          помочь  verb is not in model dict   [[1.0869569]]\n",
              "1        поощрить        поощрить  verb is not in model dict  [[0.42445105]]\n",
              "2       похвалить       похвалить              [[0.5607922]]  [[0.34632283]]\n",
              "3  приветствовать  приветствовать              [[0.6863141]]  [[0.41872245]]\n",
              "4        радовать        радовать              [[0.5692914]]    [[0.267159]]"
            ]
          },
          "metadata": {
            "tags": []
          },
          "execution_count": 78
        }
      ]
    },
    {
      "cell_type": "code",
      "metadata": {
        "id": "bCyWbjNGu12j",
        "colab_type": "code",
        "outputId": "2d34f4e4-9b3b-4798-8ccd-9b1fe9805571",
        "colab": {
          "base_uri": "https://localhost:8080/",
          "height": 204
        }
      },
      "source": [
        "df_neg3.head(5)"
      ],
      "execution_count": 79,
      "outputs": [
        {
          "output_type": "execute_result",
          "data": {
            "text/html": [
              "<div>\n",
              "<style scoped>\n",
              "    .dataframe tbody tr th:only-of-type {\n",
              "        vertical-align: middle;\n",
              "    }\n",
              "\n",
              "    .dataframe tbody tr th {\n",
              "        vertical-align: top;\n",
              "    }\n",
              "\n",
              "    .dataframe thead th {\n",
              "        text-align: right;\n",
              "    }\n",
              "</style>\n",
              "<table border=\"1\" class=\"dataframe\">\n",
              "  <thead>\n",
              "    <tr style=\"text-align: right;\">\n",
              "      <th></th>\n",
              "      <th>verbs</th>\n",
              "      <th>phrase</th>\n",
              "      <th>w2v_model</th>\n",
              "      <th>fasttext_model</th>\n",
              "    </tr>\n",
              "  </thead>\n",
              "  <tbody>\n",
              "    <tr>\n",
              "      <th>0</th>\n",
              "      <td>повредить</td>\n",
              "      <td>повредить</td>\n",
              "      <td>verb is not in model dict</td>\n",
              "      <td>[[0.5909805]]</td>\n",
              "    </tr>\n",
              "    <tr>\n",
              "      <th>1</th>\n",
              "      <td>испортить</td>\n",
              "      <td>испортить</td>\n",
              "      <td>[[0.7522595]]</td>\n",
              "      <td>[[0.43052638]]</td>\n",
              "    </tr>\n",
              "    <tr>\n",
              "      <th>2</th>\n",
              "      <td>обеспокоить</td>\n",
              "      <td>обеспокоить</td>\n",
              "      <td>[[0.74948955]]</td>\n",
              "      <td>[[0.55537665]]</td>\n",
              "    </tr>\n",
              "    <tr>\n",
              "      <th>3</th>\n",
              "      <td>потрясти</td>\n",
              "      <td>потрясти до глубины души</td>\n",
              "      <td>verb is not in model dict</td>\n",
              "      <td>[[0.5817593]]</td>\n",
              "    </tr>\n",
              "    <tr>\n",
              "      <th>4</th>\n",
              "      <td>доминировать</td>\n",
              "      <td>доминировать</td>\n",
              "      <td>[[0.780125]]</td>\n",
              "      <td>[[0.49368525]]</td>\n",
              "    </tr>\n",
              "  </tbody>\n",
              "</table>\n",
              "</div>"
            ],
            "text/plain": [
              "          verbs  ...  fasttext_model\n",
              "0     повредить  ...   [[0.5909805]]\n",
              "1     испортить  ...  [[0.43052638]]\n",
              "2   обеспокоить  ...  [[0.55537665]]\n",
              "3      потрясти  ...   [[0.5817593]]\n",
              "4  доминировать  ...  [[0.49368525]]\n",
              "\n",
              "[5 rows x 4 columns]"
            ]
          },
          "metadata": {
            "tags": []
          },
          "execution_count": 79
        }
      ]
    },
    {
      "cell_type": "code",
      "metadata": {
        "id": "DgeVgSbSBzOR",
        "colab_type": "code",
        "colab": {}
      },
      "source": [
        "seed_four_dict = ['хвалить', 'нахваливать', 'превозносить']"
      ],
      "execution_count": 0,
      "outputs": []
    },
    {
      "cell_type": "code",
      "metadata": {
        "id": "yNCRFAXrBzL3",
        "colab_type": "code",
        "colab": {}
      },
      "source": [
        "seed_four_skipgram = make_seed_embedding(seed_four_dict, skipgram_model)\n",
        "seed_four_fasttext = make_seed_embedding(seed_four_dict, fasttext_model)"
      ],
      "execution_count": 0,
      "outputs": []
    },
    {
      "cell_type": "code",
      "metadata": {
        "id": "XaIcfyu7EoAP",
        "colab_type": "code",
        "colab": {}
      },
      "source": [
        "df_all4 = pd.DataFrame({'verbs':all_relations_list, 'phrase':all_relations_pol})\n",
        "df_pos4 = pd.DataFrame({'verbs':pos_relations_list, 'phrase':pos_relations_pol})\n",
        "df_neg4 = pd.DataFrame({'verbs':neg_relations_list, 'phrase':neg_relations_pol})"
      ],
      "execution_count": 0,
      "outputs": []
    },
    {
      "cell_type": "code",
      "metadata": {
        "id": "0MldZHdeEn9u",
        "colab_type": "code",
        "outputId": "759f3ce6-ac48-4a1e-e58e-5f38ae4d7067",
        "colab": {
          "base_uri": "https://localhost:8080/",
          "height": 221
        }
      },
      "source": [
        "df_all4['w2v_model'] = add_sim_list(skipgram_model, all_relations_list, seed_four_skipgram)\n",
        "df_all4['fasttext_model'] = add_sim_list(fasttext_model, all_relations_list, seed_four_fasttext)\n",
        "\n",
        "df_pos4['w2v_model'] = add_sim_list(skipgram_model, pos_relations_list, seed_four_skipgram)\n",
        "df_pos4['fasttext_model'] = add_sim_list(fasttext_model, pos_relations_list, seed_four_fasttext)\n",
        "\n",
        "df_neg4['w2v_model'] = add_sim_list(skipgram_model, neg_relations_list, seed_four_skipgram)\n",
        "df_neg4['fasttext_model'] = add_sim_list(fasttext_model, neg_relations_list, seed_four_fasttext)"
      ],
      "execution_count": 83,
      "outputs": [
        {
          "output_type": "stream",
          "text": [
            "169\n",
            "169\n",
            "169\n",
            "169\n",
            "60\n",
            "60\n",
            "60\n",
            "60\n",
            "109\n",
            "109\n",
            "109\n",
            "109\n"
          ],
          "name": "stdout"
        }
      ]
    },
    {
      "cell_type": "code",
      "metadata": {
        "id": "lWw-3leOEn6v",
        "colab_type": "code",
        "outputId": "2bdd6b38-d3dd-4493-faa9-9d37d8a58353",
        "colab": {
          "base_uri": "https://localhost:8080/",
          "height": 204
        }
      },
      "source": [
        "df_all4.head(5)"
      ],
      "execution_count": 84,
      "outputs": [
        {
          "output_type": "execute_result",
          "data": {
            "text/html": [
              "<div>\n",
              "<style scoped>\n",
              "    .dataframe tbody tr th:only-of-type {\n",
              "        vertical-align: middle;\n",
              "    }\n",
              "\n",
              "    .dataframe tbody tr th {\n",
              "        vertical-align: top;\n",
              "    }\n",
              "\n",
              "    .dataframe thead th {\n",
              "        text-align: right;\n",
              "    }\n",
              "</style>\n",
              "<table border=\"1\" class=\"dataframe\">\n",
              "  <thead>\n",
              "    <tr style=\"text-align: right;\">\n",
              "      <th></th>\n",
              "      <th>verbs</th>\n",
              "      <th>phrase</th>\n",
              "      <th>w2v_model</th>\n",
              "      <th>fasttext_model</th>\n",
              "    </tr>\n",
              "  </thead>\n",
              "  <tbody>\n",
              "    <tr>\n",
              "      <th>0</th>\n",
              "      <td>помочь</td>\n",
              "      <td>помочь</td>\n",
              "      <td>verb is not in model dict</td>\n",
              "      <td>[[1.0470661]]</td>\n",
              "    </tr>\n",
              "    <tr>\n",
              "      <th>1</th>\n",
              "      <td>поощрить</td>\n",
              "      <td>поощрить</td>\n",
              "      <td>verb is not in model dict</td>\n",
              "      <td>[[0.32173353]]</td>\n",
              "    </tr>\n",
              "    <tr>\n",
              "      <th>2</th>\n",
              "      <td>похвалить</td>\n",
              "      <td>похвалить</td>\n",
              "      <td>[[0.4625256]]</td>\n",
              "      <td>[[0.16315764]]</td>\n",
              "    </tr>\n",
              "    <tr>\n",
              "      <th>3</th>\n",
              "      <td>приветствовать</td>\n",
              "      <td>приветствовать</td>\n",
              "      <td>[[0.73000586]]</td>\n",
              "      <td>[[0.41382754]]</td>\n",
              "    </tr>\n",
              "    <tr>\n",
              "      <th>4</th>\n",
              "      <td>радовать</td>\n",
              "      <td>радовать</td>\n",
              "      <td>[[0.6887789]]</td>\n",
              "      <td>[[0.3956275]]</td>\n",
              "    </tr>\n",
              "  </tbody>\n",
              "</table>\n",
              "</div>"
            ],
            "text/plain": [
              "            verbs          phrase                  w2v_model  fasttext_model\n",
              "0          помочь          помочь  verb is not in model dict   [[1.0470661]]\n",
              "1        поощрить        поощрить  verb is not in model dict  [[0.32173353]]\n",
              "2       похвалить       похвалить              [[0.4625256]]  [[0.16315764]]\n",
              "3  приветствовать  приветствовать             [[0.73000586]]  [[0.41382754]]\n",
              "4        радовать        радовать              [[0.6887789]]   [[0.3956275]]"
            ]
          },
          "metadata": {
            "tags": []
          },
          "execution_count": 84
        }
      ]
    },
    {
      "cell_type": "code",
      "metadata": {
        "id": "IPNnhaN3E_M-",
        "colab_type": "code",
        "outputId": "315b979a-3134-4e06-bab0-547e4a06fbe6",
        "colab": {
          "base_uri": "https://localhost:8080/",
          "height": 204
        }
      },
      "source": [
        "df_pos4.head(5)"
      ],
      "execution_count": 85,
      "outputs": [
        {
          "output_type": "execute_result",
          "data": {
            "text/html": [
              "<div>\n",
              "<style scoped>\n",
              "    .dataframe tbody tr th:only-of-type {\n",
              "        vertical-align: middle;\n",
              "    }\n",
              "\n",
              "    .dataframe tbody tr th {\n",
              "        vertical-align: top;\n",
              "    }\n",
              "\n",
              "    .dataframe thead th {\n",
              "        text-align: right;\n",
              "    }\n",
              "</style>\n",
              "<table border=\"1\" class=\"dataframe\">\n",
              "  <thead>\n",
              "    <tr style=\"text-align: right;\">\n",
              "      <th></th>\n",
              "      <th>verbs</th>\n",
              "      <th>phrase</th>\n",
              "      <th>w2v_model</th>\n",
              "      <th>fasttext_model</th>\n",
              "    </tr>\n",
              "  </thead>\n",
              "  <tbody>\n",
              "    <tr>\n",
              "      <th>0</th>\n",
              "      <td>помочь</td>\n",
              "      <td>помочь</td>\n",
              "      <td>verb is not in model dict</td>\n",
              "      <td>[[1.0470661]]</td>\n",
              "    </tr>\n",
              "    <tr>\n",
              "      <th>1</th>\n",
              "      <td>поощрить</td>\n",
              "      <td>поощрить</td>\n",
              "      <td>verb is not in model dict</td>\n",
              "      <td>[[0.32173353]]</td>\n",
              "    </tr>\n",
              "    <tr>\n",
              "      <th>2</th>\n",
              "      <td>похвалить</td>\n",
              "      <td>похвалить</td>\n",
              "      <td>[[0.4625256]]</td>\n",
              "      <td>[[0.16315764]]</td>\n",
              "    </tr>\n",
              "    <tr>\n",
              "      <th>3</th>\n",
              "      <td>приветствовать</td>\n",
              "      <td>приветствовать</td>\n",
              "      <td>[[0.73000586]]</td>\n",
              "      <td>[[0.41382754]]</td>\n",
              "    </tr>\n",
              "    <tr>\n",
              "      <th>4</th>\n",
              "      <td>радовать</td>\n",
              "      <td>радовать</td>\n",
              "      <td>[[0.6887789]]</td>\n",
              "      <td>[[0.3956275]]</td>\n",
              "    </tr>\n",
              "  </tbody>\n",
              "</table>\n",
              "</div>"
            ],
            "text/plain": [
              "            verbs          phrase                  w2v_model  fasttext_model\n",
              "0          помочь          помочь  verb is not in model dict   [[1.0470661]]\n",
              "1        поощрить        поощрить  verb is not in model dict  [[0.32173353]]\n",
              "2       похвалить       похвалить              [[0.4625256]]  [[0.16315764]]\n",
              "3  приветствовать  приветствовать             [[0.73000586]]  [[0.41382754]]\n",
              "4        радовать        радовать              [[0.6887789]]   [[0.3956275]]"
            ]
          },
          "metadata": {
            "tags": []
          },
          "execution_count": 85
        }
      ]
    },
    {
      "cell_type": "code",
      "metadata": {
        "id": "MzzHBi5oE_ZD",
        "colab_type": "code",
        "outputId": "d85a3944-31b3-4968-c42f-71e11ab2e5b9",
        "colab": {
          "base_uri": "https://localhost:8080/",
          "height": 204
        }
      },
      "source": [
        "df_neg4.head(5)"
      ],
      "execution_count": 86,
      "outputs": [
        {
          "output_type": "execute_result",
          "data": {
            "text/html": [
              "<div>\n",
              "<style scoped>\n",
              "    .dataframe tbody tr th:only-of-type {\n",
              "        vertical-align: middle;\n",
              "    }\n",
              "\n",
              "    .dataframe tbody tr th {\n",
              "        vertical-align: top;\n",
              "    }\n",
              "\n",
              "    .dataframe thead th {\n",
              "        text-align: right;\n",
              "    }\n",
              "</style>\n",
              "<table border=\"1\" class=\"dataframe\">\n",
              "  <thead>\n",
              "    <tr style=\"text-align: right;\">\n",
              "      <th></th>\n",
              "      <th>verbs</th>\n",
              "      <th>phrase</th>\n",
              "      <th>w2v_model</th>\n",
              "      <th>fasttext_model</th>\n",
              "    </tr>\n",
              "  </thead>\n",
              "  <tbody>\n",
              "    <tr>\n",
              "      <th>0</th>\n",
              "      <td>повредить</td>\n",
              "      <td>повредить</td>\n",
              "      <td>verb is not in model dict</td>\n",
              "      <td>[[0.51155555]]</td>\n",
              "    </tr>\n",
              "    <tr>\n",
              "      <th>1</th>\n",
              "      <td>испортить</td>\n",
              "      <td>испортить</td>\n",
              "      <td>[[0.78878605]]</td>\n",
              "      <td>[[0.39415395]]</td>\n",
              "    </tr>\n",
              "    <tr>\n",
              "      <th>2</th>\n",
              "      <td>обеспокоить</td>\n",
              "      <td>обеспокоить</td>\n",
              "      <td>[[0.8354587]]</td>\n",
              "      <td>[[0.6093259]]</td>\n",
              "    </tr>\n",
              "    <tr>\n",
              "      <th>3</th>\n",
              "      <td>потрясти</td>\n",
              "      <td>потрясти до глубины души</td>\n",
              "      <td>verb is not in model dict</td>\n",
              "      <td>[[0.60367393]]</td>\n",
              "    </tr>\n",
              "    <tr>\n",
              "      <th>4</th>\n",
              "      <td>доминировать</td>\n",
              "      <td>доминировать</td>\n",
              "      <td>[[0.7563846]]</td>\n",
              "      <td>[[0.53989583]]</td>\n",
              "    </tr>\n",
              "  </tbody>\n",
              "</table>\n",
              "</div>"
            ],
            "text/plain": [
              "          verbs  ...  fasttext_model\n",
              "0     повредить  ...  [[0.51155555]]\n",
              "1     испортить  ...  [[0.39415395]]\n",
              "2   обеспокоить  ...   [[0.6093259]]\n",
              "3      потрясти  ...  [[0.60367393]]\n",
              "4  доминировать  ...  [[0.53989583]]\n",
              "\n",
              "[5 rows x 4 columns]"
            ]
          },
          "metadata": {
            "tags": []
          },
          "execution_count": 86
        }
      ]
    },
    {
      "cell_type": "code",
      "metadata": {
        "id": "yx6bZqLtBzIp",
        "colab_type": "code",
        "colab": {}
      },
      "source": [
        ""
      ],
      "execution_count": 0,
      "outputs": []
    },
    {
      "cell_type": "code",
      "metadata": {
        "id": "Pw43tsHw79Zv",
        "colab_type": "code",
        "colab": {}
      },
      "source": [
        "seed_five_dict = ['знать', 'понимать', 'думать']"
      ],
      "execution_count": 0,
      "outputs": []
    },
    {
      "cell_type": "code",
      "metadata": {
        "id": "3Wv3iA7V79cx",
        "colab_type": "code",
        "colab": {}
      },
      "source": [
        "seed_five_skipgram = make_seed_embedding(seed_five_dict, skipgram_model)\n",
        "seed_five_fasttext = make_seed_embedding(seed_five_dict, fasttext_model)"
      ],
      "execution_count": 0,
      "outputs": []
    },
    {
      "cell_type": "code",
      "metadata": {
        "id": "Jn3wr3AV79gY",
        "colab_type": "code",
        "colab": {}
      },
      "source": [
        "df_all5 = pd.DataFrame({'verbs':all_relations_list, 'phrase':all_relations_pol})\n",
        "df_pos5 = pd.DataFrame({'verbs':pos_relations_list, 'phrase':pos_relations_pol})\n",
        "df_neg5 = pd.DataFrame({'verbs':neg_relations_list, 'phrase':neg_relations_pol})"
      ],
      "execution_count": 0,
      "outputs": []
    },
    {
      "cell_type": "code",
      "metadata": {
        "id": "4tQ3m1CS79jJ",
        "colab_type": "code",
        "colab": {
          "base_uri": "https://localhost:8080/",
          "height": 221
        },
        "outputId": "2d55a9ce-f97c-45a0-de14-ed65ac858cc3"
      },
      "source": [
        "df_all5['w2v_model'] = add_sim_list(skipgram_model, all_relations_list, seed_five_skipgram)\n",
        "df_all5['fasttext_model'] = add_sim_list(fasttext_model, all_relations_list, seed_five_fasttext)\n",
        "\n",
        "df_pos5['w2v_model'] = add_sim_list(skipgram_model, pos_relations_list, seed_five_skipgram)\n",
        "df_pos5['fasttext_model'] = add_sim_list(fasttext_model, pos_relations_list, seed_five_fasttext)\n",
        "\n",
        "df_neg5['w2v_model'] = add_sim_list(skipgram_model, neg_relations_list, seed_five_skipgram)\n",
        "df_neg5['fasttext_model'] = add_sim_list(fasttext_model, neg_relations_list, seed_five_fasttext)"
      ],
      "execution_count": 90,
      "outputs": [
        {
          "output_type": "stream",
          "text": [
            "169\n",
            "169\n",
            "169\n",
            "169\n",
            "60\n",
            "60\n",
            "60\n",
            "60\n",
            "109\n",
            "109\n",
            "109\n",
            "109\n"
          ],
          "name": "stdout"
        }
      ]
    },
    {
      "cell_type": "code",
      "metadata": {
        "id": "z-It600P8TdX",
        "colab_type": "code",
        "colab": {
          "base_uri": "https://localhost:8080/",
          "height": 80
        },
        "outputId": "e5a09beb-27e1-4621-80f6-a3752cc93170"
      },
      "source": [
        "df_all5.head(1)"
      ],
      "execution_count": 91,
      "outputs": [
        {
          "output_type": "execute_result",
          "data": {
            "text/html": [
              "<div>\n",
              "<style scoped>\n",
              "    .dataframe tbody tr th:only-of-type {\n",
              "        vertical-align: middle;\n",
              "    }\n",
              "\n",
              "    .dataframe tbody tr th {\n",
              "        vertical-align: top;\n",
              "    }\n",
              "\n",
              "    .dataframe thead th {\n",
              "        text-align: right;\n",
              "    }\n",
              "</style>\n",
              "<table border=\"1\" class=\"dataframe\">\n",
              "  <thead>\n",
              "    <tr style=\"text-align: right;\">\n",
              "      <th></th>\n",
              "      <th>verbs</th>\n",
              "      <th>phrase</th>\n",
              "      <th>w2v_model</th>\n",
              "      <th>fasttext_model</th>\n",
              "    </tr>\n",
              "  </thead>\n",
              "  <tbody>\n",
              "    <tr>\n",
              "      <th>0</th>\n",
              "      <td>помочь</td>\n",
              "      <td>помочь</td>\n",
              "      <td>verb is not in model dict</td>\n",
              "      <td>[[0.77468705]]</td>\n",
              "    </tr>\n",
              "  </tbody>\n",
              "</table>\n",
              "</div>"
            ],
            "text/plain": [
              "    verbs  phrase                  w2v_model  fasttext_model\n",
              "0  помочь  помочь  verb is not in model dict  [[0.77468705]]"
            ]
          },
          "metadata": {
            "tags": []
          },
          "execution_count": 91
        }
      ]
    },
    {
      "cell_type": "code",
      "metadata": {
        "id": "cLYDieOG8TgU",
        "colab_type": "code",
        "colab": {
          "base_uri": "https://localhost:8080/",
          "height": 204
        },
        "outputId": "250413f8-149b-473b-a2d5-0fc6c6d0b494"
      },
      "source": [
        "df_pos5.head(5)"
      ],
      "execution_count": 92,
      "outputs": [
        {
          "output_type": "execute_result",
          "data": {
            "text/html": [
              "<div>\n",
              "<style scoped>\n",
              "    .dataframe tbody tr th:only-of-type {\n",
              "        vertical-align: middle;\n",
              "    }\n",
              "\n",
              "    .dataframe tbody tr th {\n",
              "        vertical-align: top;\n",
              "    }\n",
              "\n",
              "    .dataframe thead th {\n",
              "        text-align: right;\n",
              "    }\n",
              "</style>\n",
              "<table border=\"1\" class=\"dataframe\">\n",
              "  <thead>\n",
              "    <tr style=\"text-align: right;\">\n",
              "      <th></th>\n",
              "      <th>verbs</th>\n",
              "      <th>phrase</th>\n",
              "      <th>w2v_model</th>\n",
              "      <th>fasttext_model</th>\n",
              "    </tr>\n",
              "  </thead>\n",
              "  <tbody>\n",
              "    <tr>\n",
              "      <th>0</th>\n",
              "      <td>помочь</td>\n",
              "      <td>помочь</td>\n",
              "      <td>verb is not in model dict</td>\n",
              "      <td>[[0.77468705]]</td>\n",
              "    </tr>\n",
              "    <tr>\n",
              "      <th>1</th>\n",
              "      <td>поощрить</td>\n",
              "      <td>поощрить</td>\n",
              "      <td>verb is not in model dict</td>\n",
              "      <td>[[0.5927094]]</td>\n",
              "    </tr>\n",
              "    <tr>\n",
              "      <th>2</th>\n",
              "      <td>похвалить</td>\n",
              "      <td>похвалить</td>\n",
              "      <td>[[0.7282261]]</td>\n",
              "      <td>[[0.5880505]]</td>\n",
              "    </tr>\n",
              "    <tr>\n",
              "      <th>3</th>\n",
              "      <td>приветствовать</td>\n",
              "      <td>приветствовать</td>\n",
              "      <td>[[0.84770906]]</td>\n",
              "      <td>[[0.76272225]]</td>\n",
              "    </tr>\n",
              "    <tr>\n",
              "      <th>4</th>\n",
              "      <td>радовать</td>\n",
              "      <td>радовать</td>\n",
              "      <td>[[0.7502494]]</td>\n",
              "      <td>[[0.56329155]]</td>\n",
              "    </tr>\n",
              "  </tbody>\n",
              "</table>\n",
              "</div>"
            ],
            "text/plain": [
              "            verbs          phrase                  w2v_model  fasttext_model\n",
              "0          помочь          помочь  verb is not in model dict  [[0.77468705]]\n",
              "1        поощрить        поощрить  verb is not in model dict   [[0.5927094]]\n",
              "2       похвалить       похвалить              [[0.7282261]]   [[0.5880505]]\n",
              "3  приветствовать  приветствовать             [[0.84770906]]  [[0.76272225]]\n",
              "4        радовать        радовать              [[0.7502494]]  [[0.56329155]]"
            ]
          },
          "metadata": {
            "tags": []
          },
          "execution_count": 92
        }
      ]
    },
    {
      "cell_type": "code",
      "metadata": {
        "id": "Un_geXcL8Tit",
        "colab_type": "code",
        "colab": {
          "base_uri": "https://localhost:8080/",
          "height": 204
        },
        "outputId": "635e02d3-3e00-4b08-9f50-80b282f2474a"
      },
      "source": [
        "df_neg5.head(5)"
      ],
      "execution_count": 93,
      "outputs": [
        {
          "output_type": "execute_result",
          "data": {
            "text/html": [
              "<div>\n",
              "<style scoped>\n",
              "    .dataframe tbody tr th:only-of-type {\n",
              "        vertical-align: middle;\n",
              "    }\n",
              "\n",
              "    .dataframe tbody tr th {\n",
              "        vertical-align: top;\n",
              "    }\n",
              "\n",
              "    .dataframe thead th {\n",
              "        text-align: right;\n",
              "    }\n",
              "</style>\n",
              "<table border=\"1\" class=\"dataframe\">\n",
              "  <thead>\n",
              "    <tr style=\"text-align: right;\">\n",
              "      <th></th>\n",
              "      <th>verbs</th>\n",
              "      <th>phrase</th>\n",
              "      <th>w2v_model</th>\n",
              "      <th>fasttext_model</th>\n",
              "    </tr>\n",
              "  </thead>\n",
              "  <tbody>\n",
              "    <tr>\n",
              "      <th>0</th>\n",
              "      <td>повредить</td>\n",
              "      <td>повредить</td>\n",
              "      <td>verb is not in model dict</td>\n",
              "      <td>[[0.68238425]]</td>\n",
              "    </tr>\n",
              "    <tr>\n",
              "      <th>1</th>\n",
              "      <td>испортить</td>\n",
              "      <td>испортить</td>\n",
              "      <td>[[0.7806171]]</td>\n",
              "      <td>[[0.59634995]]</td>\n",
              "    </tr>\n",
              "    <tr>\n",
              "      <th>2</th>\n",
              "      <td>обеспокоить</td>\n",
              "      <td>обеспокоить</td>\n",
              "      <td>[[0.81098634]]</td>\n",
              "      <td>[[0.48944563]]</td>\n",
              "    </tr>\n",
              "    <tr>\n",
              "      <th>3</th>\n",
              "      <td>потрясти</td>\n",
              "      <td>потрясти до глубины души</td>\n",
              "      <td>verb is not in model dict</td>\n",
              "      <td>[[0.7270875]]</td>\n",
              "    </tr>\n",
              "    <tr>\n",
              "      <th>4</th>\n",
              "      <td>доминировать</td>\n",
              "      <td>доминировать</td>\n",
              "      <td>[[0.7912472]]</td>\n",
              "      <td>[[0.7196263]]</td>\n",
              "    </tr>\n",
              "  </tbody>\n",
              "</table>\n",
              "</div>"
            ],
            "text/plain": [
              "          verbs  ...  fasttext_model\n",
              "0     повредить  ...  [[0.68238425]]\n",
              "1     испортить  ...  [[0.59634995]]\n",
              "2   обеспокоить  ...  [[0.48944563]]\n",
              "3      потрясти  ...   [[0.7270875]]\n",
              "4  доминировать  ...   [[0.7196263]]\n",
              "\n",
              "[5 rows x 4 columns]"
            ]
          },
          "metadata": {
            "tags": []
          },
          "execution_count": 93
        }
      ]
    },
    {
      "cell_type": "code",
      "metadata": {
        "id": "Pwm7Rjix8TlQ",
        "colab_type": "code",
        "colab": {}
      },
      "source": [
        ""
      ],
      "execution_count": 0,
      "outputs": []
    },
    {
      "cell_type": "code",
      "metadata": {
        "id": "6WgLVh4zOErl",
        "colab_type": "code",
        "colab": {}
      },
      "source": [
        "# vect1 = np.atleast_2d([1, 2, 4])\n",
        "# vect2 = np.atleast_2d([1, 4, 4])\n",
        "# print(cosine_distances(vect1, vect2))\n",
        "# vect1"
      ],
      "execution_count": 0,
      "outputs": []
    },
    {
      "cell_type": "code",
      "metadata": {
        "id": "BqNL85nDJcBx",
        "colab_type": "code",
        "colab": {}
      },
      "source": [
        "# def get_embedding(verbs_list, model, dim=50):\n",
        "    \n",
        "#     # чтобы не доставать одно слово несколько раз\n",
        "#     # сделаем счетчик, а потом векторы домножим на частоту\n",
        "#     words = Counter(verbs_list)\n",
        "#     total = len(verbs_list)\n",
        "#     vectors = np.zeros((len(words), dim))\n",
        "    \n",
        "#     for i,word in enumerate(words):\n",
        "#         try:\n",
        "#             v = model[word]\n",
        "#             vectors[i] = v*(words[word]/total) # просто умножаем вектор на частоту\n",
        "#             print(vectors)\n",
        "#         except (KeyError, ValueError):\n",
        "#             continue\n",
        "    \n",
        "#     if vectors.any():\n",
        "#         vector = np.average(vectors, axis=0)\n",
        "#     else:\n",
        "#         vector = np.zeros((dim))\n",
        "#     return vector\n",
        "\n",
        "# opinion_embedding = get_embedding(opinion_dict, rv_model)\n",
        "# opinion_embedding"
      ],
      "execution_count": 0,
      "outputs": []
    },
    {
      "cell_type": "code",
      "metadata": {
        "id": "jmVKfa8wKBKS",
        "colab_type": "code",
        "colab": {}
      },
      "source": [
        "# opinion_dict = ['одобрять_V', 'хвалить_V', 'поощрять_V']\n",
        "# def make_sid_embedding(seed_dict, model):\n",
        "#   summ = 0\n",
        "#   try:\n",
        "#     for verb in seed_dict:\n",
        "#       #print(model[verb])\n",
        "#       summ = summ + get_embedding(verb, model)\n",
        "#       print(summ)\n",
        "#   except KeyError:\n",
        "#     pass\n",
        "#   vector = summ/len(seed_dict)\n",
        "#   return vector\n",
        "# opinion_embedding = make_sid_embedding(opinion_dict, rv_model)"
      ],
      "execution_count": 0,
      "outputs": []
    },
    {
      "cell_type": "code",
      "metadata": {
        "id": "3Oa2r04QbrBB",
        "colab_type": "code",
        "colab": {}
      },
      "source": [
        "# opinion_embedding"
      ],
      "execution_count": 0,
      "outputs": []
    },
    {
      "cell_type": "code",
      "metadata": {
        "id": "y2m9fHP5CnTu",
        "colab_type": "code",
        "colab": {}
      },
      "source": [
        ""
      ],
      "execution_count": 0,
      "outputs": []
    },
    {
      "cell_type": "code",
      "metadata": {
        "id": "rawHX0VSHtAA",
        "colab_type": "code",
        "outputId": "254ab315-7211-4fb3-bcd5-917bd568460e",
        "colab": {
          "base_uri": "https://localhost:8080/",
          "height": 34
        }
      },
      "source": [
        "def make_similarity_df(base_vect, verbs_for_check_dict, model):\n",
        "  '''\n",
        "  Считает косинусное расстояние с каким-либо подающимся на вход сидовым глаголом глаголов из словаря, полученного с помощью \n",
        "  функции make_group. Возвращает словарь с ключами 'groups', 'base_verb', 'verb' и 'verbs_similarity', \n",
        "  которые потом будут колонками таблицы - датафрейма.\n",
        "  '''\n",
        "\n",
        "  df_dict = Counter()\n",
        "  df_dict['groups'] = []\n",
        "  df_dict['base_verb'] = []\n",
        "  df_dict['verb'] = []\n",
        "  df_dict['verbs_similarity'] = []\n",
        "\n",
        "  #my_base_verb = base_verb + '_V'\n",
        "  for verb in verbs_for_check_dict.keys():\n",
        "    verb_for_check = verb + '_V'\n",
        "    try:\n",
        "      verbs_similarity = model.similarity(base_vect, verb_for_check)\n",
        "      df_dict['groups'].append(str(verbs_for_check_dict[verb]))\n",
        "      df_dict['base_verb'].append(base_verb)\n",
        "      df_dict['verb'].append(verb)\n",
        "      df_dict['verbs_similarity'].append(verbs_similarity)\n",
        "    except KeyError as e:\n",
        "      pass\n",
        "      #print(e)\n",
        "  return df_dict\n",
        "\n",
        "verbs_for_df = make_similarity_df(opinion_embedding, groups_total_dict, rv_model)\n",
        "print('done')"
      ],
      "execution_count": 0,
      "outputs": [
        {
          "output_type": "stream",
          "text": [
            "done\n"
          ],
          "name": "stdout"
        }
      ]
    },
    {
      "cell_type": "code",
      "metadata": {
        "id": "JBEDU194HtCu",
        "colab_type": "code",
        "colab": {}
      },
      "source": [
        "\n",
        "frames_df = pd.DataFrame(verbs_for_df, columns = verbs_for_df.keys()) # тут делается датафрейм"
      ],
      "execution_count": 0,
      "outputs": []
    },
    {
      "cell_type": "code",
      "metadata": {
        "id": "wCwwlsdGHtFG",
        "colab_type": "code",
        "outputId": "0e0392f5-1302-4368-e570-535a55b06b36",
        "colab": {
          "base_uri": "https://localhost:8080/",
          "height": 49
        }
      },
      "source": [
        "frames_df"
      ],
      "execution_count": 0,
      "outputs": [
        {
          "output_type": "execute_result",
          "data": {
            "text/html": [
              "<div>\n",
              "<style scoped>\n",
              "    .dataframe tbody tr th:only-of-type {\n",
              "        vertical-align: middle;\n",
              "    }\n",
              "\n",
              "    .dataframe tbody tr th {\n",
              "        vertical-align: top;\n",
              "    }\n",
              "\n",
              "    .dataframe thead th {\n",
              "        text-align: right;\n",
              "    }\n",
              "</style>\n",
              "<table border=\"1\" class=\"dataframe\">\n",
              "  <thead>\n",
              "    <tr style=\"text-align: right;\">\n",
              "      <th></th>\n",
              "      <th>groups</th>\n",
              "      <th>base_verb</th>\n",
              "      <th>verb</th>\n",
              "      <th>verbs_similarity</th>\n",
              "    </tr>\n",
              "  </thead>\n",
              "  <tbody>\n",
              "  </tbody>\n",
              "</table>\n",
              "</div>"
            ],
            "text/plain": [
              "Empty DataFrame\n",
              "Columns: [groups, base_verb, verb, verbs_similarity]\n",
              "Index: []"
            ]
          },
          "metadata": {
            "tags": []
          },
          "execution_count": 44
        }
      ]
    },
    {
      "cell_type": "code",
      "metadata": {
        "id": "RaD60ME3BB6D",
        "colab_type": "code",
        "colab": {}
      },
      "source": [
        "\n",
        "# verbs_for_check_dict = {'снимать': [['a0', 'a1', 'neg', 1.0]]}\n",
        "\n",
        "# def just_words_similarity(base_verb, verbs_for_check_dict):\n",
        "#   \"\"\"\n",
        "#   Функция тестовая, проверяет, как работает косинусная близость.\n",
        "#   \"\"\"\n",
        "#   group_dict = Counter()\n",
        "#   my_base_verb = base_verb + '_V'\n",
        "#   for verb in verbs_for_check_dict.keys():\n",
        "#     verb_for_check = verb + '_V'\n",
        "#     similarity = mystem_skipgram_model.similarity(my_base_verb, verb_for_check)\n",
        "#     group_dict[str(verbs_for_check_dict[verb])] = [base_verb, verb, similarity]\n",
        "#   return group_dict\n",
        "\n",
        "# just_words_similarity('радоваться', verbs_for_check_dict)\n",
        "\n",
        "\n"
      ],
      "execution_count": 0,
      "outputs": []
    },
    {
      "cell_type": "code",
      "metadata": {
        "id": "5XdwIenPHtHu",
        "colab_type": "code",
        "colab": {}
      },
      "source": [
        ""
      ],
      "execution_count": 0,
      "outputs": []
    },
    {
      "cell_type": "code",
      "metadata": {
        "id": "GVcLWwG9BB3T",
        "colab_type": "code",
        "colab": {}
      },
      "source": [
        ""
      ],
      "execution_count": 0,
      "outputs": []
    }
  ]
}