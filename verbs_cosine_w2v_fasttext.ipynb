{
  "nbformat": 4,
  "nbformat_minor": 0,
  "metadata": {
    "colab": {
      "name": "Untitled24.ipynb",
      "provenance": [],
      "authorship_tag": "ABX9TyPtOqM7neGswc6pEhhbOmeC",
      "include_colab_link": true
    },
    "kernelspec": {
      "name": "python3",
      "display_name": "Python 3"
    }
  },
  "cells": [
    {
      "cell_type": "markdown",
      "metadata": {
        "id": "view-in-github",
        "colab_type": "text"
      },
      "source": [
        "<a href=\"https://colab.research.google.com/github/DmitryKutsev/NIS_SentiFrame/blob/master/verbs_cosine_w2v_fasttext.ipynb\" target=\"_parent\"><img src=\"https://colab.research.google.com/assets/colab-badge.svg\" alt=\"Open In Colab\"/></a>"
      ]
    },
    {
      "cell_type": "code",
      "metadata": {
        "id": "ZnAbfQ2EytKo",
        "colab_type": "code",
        "outputId": "beae7fc5-51e8-472a-b171-240a20b99957",
        "colab": {
          "base_uri": "https://localhost:8080/",
          "height": 204
        }
      },
      "source": [
        "!wget rusvectores.org/static/models/rusvectores2/news_mystem_skipgram_1000_20_2015.bin.gz\n"
      ],
      "execution_count": 2,
      "outputs": [
        {
          "output_type": "stream",
          "text": [
            "--2020-02-24 19:46:16--  http://rusvectores.org/static/models/rusvectores2/news_mystem_skipgram_1000_20_2015.bin.gz\n",
            "Resolving rusvectores.org (rusvectores.org)... 116.203.104.23\n",
            "Connecting to rusvectores.org (rusvectores.org)|116.203.104.23|:80... connected.\n",
            "HTTP request sent, awaiting response... 200 OK\n",
            "Length: 549952184 (524M) [application/x-gzip]\n",
            "Saving to: ‘news_mystem_skipgram_1000_20_2015.bin.gz’\n",
            "\n",
            "news_mystem_skipgra 100%[===================>] 524.47M  11.0MB/s    in 52s     \n",
            "\n",
            "2020-02-24 19:47:09 (10.1 MB/s) - ‘news_mystem_skipgram_1000_20_2015.bin.gz’ saved [549952184/549952184]\n",
            "\n"
          ],
          "name": "stdout"
        }
      ]
    },
    {
      "cell_type": "code",
      "metadata": {
        "id": "GiEPhNdKxS4c",
        "colab_type": "code",
        "colab": {
          "base_uri": "https://localhost:8080/",
          "height": 360
        },
        "outputId": "d99371c7-e2af-47fb-a900-2d9a5151617d"
      },
      "source": [
        "!pip install pymorphy2[fast]"
      ],
      "execution_count": 3,
      "outputs": [
        {
          "output_type": "stream",
          "text": [
            "Collecting pymorphy2[fast]\n",
            "\u001b[?25l  Downloading https://files.pythonhosted.org/packages/a3/33/fff9675c68b5f6c63ec8c6e6ff57827dda28a1fa5b2c2d727dffff92dd47/pymorphy2-0.8-py2.py3-none-any.whl (46kB)\n",
            "\r\u001b[K     |███████                         | 10kB 22.0MB/s eta 0:00:01\r\u001b[K     |██████████████▏                 | 20kB 1.8MB/s eta 0:00:01\r\u001b[K     |█████████████████████▎          | 30kB 2.3MB/s eta 0:00:01\r\u001b[K     |████████████████████████████▍   | 40kB 1.7MB/s eta 0:00:01\r\u001b[K     |████████████████████████████████| 51kB 1.7MB/s \n",
            "\u001b[?25hCollecting dawg-python>=0.7\n",
            "  Downloading https://files.pythonhosted.org/packages/6a/84/ff1ce2071d4c650ec85745766c0047ccc3b5036f1d03559fd46bb38b5eeb/DAWG_Python-0.7.2-py2.py3-none-any.whl\n",
            "Collecting pymorphy2-dicts<3.0,>=2.4\n",
            "\u001b[?25l  Downloading https://files.pythonhosted.org/packages/02/51/2465fd4f72328ab50877b54777764d928da8cb15b74e2680fc1bd8cb3173/pymorphy2_dicts-2.4.393442.3710985-py2.py3-none-any.whl (7.1MB)\n",
            "\u001b[K     |████████████████████████████████| 7.1MB 5.5MB/s \n",
            "\u001b[?25hRequirement already satisfied: docopt>=0.6 in /usr/local/lib/python3.6/dist-packages (from pymorphy2[fast]) (0.6.2)\n",
            "Collecting DAWG>=0.7.3; extra == \"fast\"\n",
            "\u001b[?25l  Downloading https://files.pythonhosted.org/packages/b8/ef/91b619a399685f7a0a95a03628006ba814d96293bbbbed234ee66fbdefd9/DAWG-0.8.0.tar.gz (371kB)\n",
            "\u001b[K     |████████████████████████████████| 378kB 52.4MB/s \n",
            "\u001b[?25hBuilding wheels for collected packages: DAWG\n",
            "  Building wheel for DAWG (setup.py) ... \u001b[?25l\u001b[?25hdone\n",
            "  Created wheel for DAWG: filename=DAWG-0.8.0-cp36-cp36m-linux_x86_64.whl size=851700 sha256=470c1e010645a3d2e22f29bf8b4e0d13901a4437c6b0e0d84f56ec2b8bfbaadc\n",
            "  Stored in directory: /root/.cache/pip/wheels/3d/1f/f0/a5b1f9d02e193c997d252c33d215f24dfd7a448bc0166b2a12\n",
            "Successfully built DAWG\n",
            "Installing collected packages: dawg-python, pymorphy2-dicts, DAWG, pymorphy2\n",
            "Successfully installed DAWG-0.8.0 dawg-python-0.7.2 pymorphy2-0.8 pymorphy2-dicts-2.4.393442.3710985\n"
          ],
          "name": "stdout"
        }
      ]
    },
    {
      "cell_type": "code",
      "metadata": {
        "id": "4LCu8A0aAaMR",
        "colab_type": "code",
        "outputId": "bda222ee-1dd3-401f-9942-8b3c8dd061e3",
        "colab": {
          "base_uri": "https://localhost:8080/",
          "height": 204
        }
      },
      "source": [
        "#!rm collection.json.1 collection.json\n",
        "!wget https://raw.githubusercontent.com/nicolay-r/RuSentiFrames/master/collection.json"
      ],
      "execution_count": 4,
      "outputs": [
        {
          "output_type": "stream",
          "text": [
            "--2020-02-24 19:47:37--  https://raw.githubusercontent.com/nicolay-r/RuSentiFrames/master/collection.json\n",
            "Resolving raw.githubusercontent.com (raw.githubusercontent.com)... 151.101.0.133, 151.101.64.133, 151.101.128.133, ...\n",
            "Connecting to raw.githubusercontent.com (raw.githubusercontent.com)|151.101.0.133|:443... connected.\n",
            "HTTP request sent, awaiting response... 200 OK\n",
            "Length: 606414 (592K) [text/plain]\n",
            "Saving to: ‘collection.json’\n",
            "\n",
            "collection.json     100%[===================>] 592.20K  --.-KB/s    in 0.06s   \n",
            "\n",
            "2020-02-24 19:47:38 (9.37 MB/s) - ‘collection.json’ saved [606414/606414]\n",
            "\n"
          ],
          "name": "stdout"
        }
      ]
    },
    {
      "cell_type": "code",
      "metadata": {
        "id": "Q54jNAH9xiQ5",
        "colab_type": "code",
        "colab": {
          "base_uri": "https://localhost:8080/",
          "height": 204
        },
        "outputId": "65847d03-f7a5-4b24-cf59-0a15758af5a1"
      },
      "source": [
        "!wget http://vectors.nlpl.eu/repository/20/187.zip"
      ],
      "execution_count": 5,
      "outputs": [
        {
          "output_type": "stream",
          "text": [
            "--2020-02-24 19:47:40--  http://vectors.nlpl.eu/repository/20/187.zip\n",
            "Resolving vectors.nlpl.eu (vectors.nlpl.eu)... 129.240.189.225\n",
            "Connecting to vectors.nlpl.eu (vectors.nlpl.eu)|129.240.189.225|:80... connected.\n",
            "HTTP request sent, awaiting response... 200 OK\n",
            "Length: 2692389554 (2.5G) [application/zip]\n",
            "Saving to: ‘187.zip’\n",
            "\n",
            "187.zip             100%[===================>]   2.51G  9.76MB/s    in 5m 37s  \n",
            "\n",
            "2020-02-24 19:53:19 (7.61 MB/s) - ‘187.zip’ saved [2692389554/2692389554]\n",
            "\n"
          ],
          "name": "stdout"
        }
      ]
    },
    {
      "cell_type": "code",
      "metadata": {
        "id": "4Opbjo29RbrG",
        "colab_type": "code",
        "colab": {
          "base_uri": "https://localhost:8080/",
          "height": 136
        },
        "outputId": "7b8fa71c-ddac-406f-966b-993ba9fb6ccb"
      },
      "source": [
        "!unzip 187.zip"
      ],
      "execution_count": 6,
      "outputs": [
        {
          "output_type": "stream",
          "text": [
            "Archive:  187.zip\n",
            "  inflating: meta.json               \n",
            "  inflating: model.model             \n",
            "  inflating: model.model.vectors_ngrams.npy  \n",
            "  inflating: model.model.vectors.npy  \n",
            "  inflating: model.model.vectors_vocab.npy  \n",
            "  inflating: README                  \n"
          ],
          "name": "stdout"
        }
      ]
    },
    {
      "cell_type": "code",
      "metadata": {
        "id": "UAJGiE9aRgWm",
        "colab_type": "code",
        "colab": {
          "base_uri": "https://localhost:8080/",
          "height": 85
        },
        "outputId": "5f9a3b7e-34aa-4a43-a5b3-a84dc20712cd"
      },
      "source": [
        "!ls"
      ],
      "execution_count": 7,
      "outputs": [
        {
          "output_type": "stream",
          "text": [
            "187.zip\t\t model.model.vectors_ngrams.npy\t\t   README\n",
            "collection.json  model.model.vectors.npy\t\t   sample_data\n",
            "meta.json\t model.model.vectors_vocab.npy\n",
            "model.model\t news_mystem_skipgram_1000_20_2015.bin.gz\n"
          ],
          "name": "stdout"
        }
      ]
    },
    {
      "cell_type": "code",
      "metadata": {
        "id": "XvF5IwNoO638",
        "colab_type": "code",
        "colab": {}
      },
      "source": [
        "import gensim\n",
        "from collections import Counter\n",
        "import json\n",
        "import pandas as pd\n",
        "import numpy as np\n",
        "from sklearn.metrics.pairwise import cosine_distances\n",
        "import pymorphy2\n",
        "morph = pymorphy2.MorphAnalyzer()"
      ],
      "execution_count": 0,
      "outputs": []
    },
    {
      "cell_type": "code",
      "metadata": {
        "id": "cnvQN_9NxxtC",
        "colab_type": "code",
        "colab": {}
      },
      "source": [
        ""
      ],
      "execution_count": 0,
      "outputs": []
    },
    {
      "cell_type": "code",
      "metadata": {
        "id": "VVqZukM10GFD",
        "colab_type": "code",
        "outputId": "8a9d6aa4-6d79-4c55-91c6-88d576854e1c",
        "colab": {
          "base_uri": "https://localhost:8080/",
          "height": 71
        }
      },
      "source": [
        "skipgram_model = gensim.models.KeyedVectors.load_word2vec_format('news_mystem_skipgram_1000_20_2015.bin.gz', binary=True)"
      ],
      "execution_count": 9,
      "outputs": [
        {
          "output_type": "stream",
          "text": [
            "/usr/local/lib/python3.6/dist-packages/smart_open/smart_open_lib.py:402: UserWarning: This function is deprecated, use smart_open.open instead. See the migration notes for details: https://github.com/RaRe-Technologies/smart_open/blob/master/README.rst#migrating-to-the-new-open-function\n",
            "  'See the migration notes for details: %s' % _MIGRATION_NOTES_URL\n"
          ],
          "name": "stderr"
        }
      ]
    },
    {
      "cell_type": "code",
      "metadata": {
        "id": "n23yIcDQbmhO",
        "colab_type": "code",
        "colab": {
          "base_uri": "https://localhost:8080/",
          "height": 71
        },
        "outputId": "6bd6ab66-bd96-4c19-fbc3-767e75655a94"
      },
      "source": [
        "fasttext_model = gensim.models.KeyedVectors.load(\"model.model\")"
      ],
      "execution_count": 10,
      "outputs": [
        {
          "output_type": "stream",
          "text": [
            "/usr/local/lib/python3.6/dist-packages/smart_open/smart_open_lib.py:402: UserWarning: This function is deprecated, use smart_open.open instead. See the migration notes for details: https://github.com/RaRe-Technologies/smart_open/blob/master/README.rst#migrating-to-the-new-open-function\n",
            "  'See the migration notes for details: %s' % _MIGRATION_NOTES_URL\n"
          ],
          "name": "stderr"
        }
      ]
    },
    {
      "cell_type": "code",
      "metadata": {
        "id": "cJGCmbd6BZj1",
        "colab_type": "code",
        "colab": {}
      },
      "source": [
        "# rv_model.vocab\n",
        "# rv_model.get_vector('помочь_V')"
      ],
      "execution_count": 0,
      "outputs": []
    },
    {
      "cell_type": "code",
      "metadata": {
        "id": "qQUwjpBJjdZK",
        "colab_type": "code",
        "colab": {}
      },
      "source": [
        "# rv_model.vocab"
      ],
      "execution_count": 0,
      "outputs": []
    },
    {
      "cell_type": "code",
      "metadata": {
        "id": "H52b-hi-EFHc",
        "colab_type": "code",
        "colab": {}
      },
      "source": [
        "collection_handler = open(\"collection.json\", \"r\", encoding=\"utf-8\")\n",
        "collection = json.load(collection_handler, encoding=\"utf-8\")"
      ],
      "execution_count": 0,
      "outputs": []
    },
    {
      "cell_type": "code",
      "metadata": {
        "id": "8hCoLzvMJ_YZ",
        "colab_type": "code",
        "outputId": "fbac838d-4dd1-4c54-9422-052f780cb0af",
        "colab": {
          "base_uri": "https://localhost:8080/",
          "height": 204
        }
      },
      "source": [
        "\n",
        "def make_group(polarity_type_list):\n",
        "  \"\"\"\n",
        "  На вход подаются пары из разных типов отношений(p_type) в списках(как в переменных all_type_dict и pos_type_dict)\n",
        "  для каждой пары цикл ищет не более ста глаголов, у которых есть типы отношений, совпадающие с нашей парой, \n",
        "  которая подается на вход. \n",
        "  \"\"\"\n",
        "  group_dict = Counter()\n",
        "  for p_type in polarity_type_list:\n",
        "    print(p_type)\n",
        "    count = 0\n",
        "    for key in collection.keys():\n",
        "      if count < 100:\n",
        "        try:\n",
        "          #print(collection[key]['frames']['polarity'])\n",
        "          if p_type[0] in collection[key]['frames']['polarity'] and p_type[1] in collection[key]['frames']['polarity'] :\n",
        "          # эту строчку можно менять, если нам нужно искать отношения, где только ['a0', 'a1', 'pos', 1.0]:\n",
        "          # if p_type[0] in collection[key]['frames']['polarity'] and p_type[1] not in collection[key]['frames']['polarity'] : \n",
        "          # проблема! в лексиконе всего 20 отношений [['a0', 'a1', 'pos', 1.0], ['a1', 'a0', 'pos', 1.0]] c разными коэффициентами, и 51 таких, \n",
        "          # где ['a0', 'a1', 'pos', 1.0], а ['a1', 'a0', 'pos', 1.0] отсутствует\n",
        "            for ver in collection[key]['title']:\n",
        "              group_dict[ver] = p_type\n",
        "              count += 1\n",
        "            for var in collection[key]['variants']:\n",
        "              if len(var.split(' ')) > 1 and var[-2:] == 'ть':\n",
        "                group_dict[var] = p_type\n",
        "                count += 1\n",
        "\n",
        "              \n",
        "        except Exception as e:\n",
        "          pass\n",
        "  return group_dict\n",
        "\n",
        "all_type_dict = [[['a0', 'a1', 'pos', 1.0], ['a1', 'a0', 'pos', 1.0]], \\\n",
        "                 [['a0', 'a1', 'pos', 0.7], ['a1', 'a0', 'pos', 0.7]], \\\n",
        "                  [['a0', 'a1', 'neg', 0.7], ['a1', 'a0', 'neg', 0.7]], \\\n",
        "                  [['a0', 'a1', 'neg', 1.0], ['a1', 'a0', 'neg', 1.0]],\n",
        "                 ]\n",
        "pos_type_dict = [[['a0', 'a1', 'pos', 1.0], ['a1', 'a0', 'pos', 1.0]], \\\n",
        "                 [['a0', 'a1', 'pos', 0.7], ['a1', 'a0', 'pos', 0.7]], \\\n",
        "            \n",
        "                 ]\n",
        "neg_type_dict = [\n",
        "                  [['a0', 'a1', 'neg', 0.7], ['a1', 'a0', 'neg', 0.7]], \\\n",
        "                  [['a0', 'a1', 'neg', 1.0], ['a1', 'a0', 'neg', 1.0]],\n",
        "                 ]\n",
        "all_dict = make_group(all_type_dict)\n",
        "pos_dict = make_group(pos_type_dict)\n",
        "neg_dict = make_group(neg_type_dict)\n",
        "#len(groups_total_dict)\n",
        "print(len(all_dict))\n",
        "print(len(pos_dict))\n",
        "print(len(neg_dict))\n"
      ],
      "execution_count": 14,
      "outputs": [
        {
          "output_type": "stream",
          "text": [
            "[['a0', 'a1', 'pos', 1.0], ['a1', 'a0', 'pos', 1.0]]\n",
            "[['a0', 'a1', 'pos', 0.7], ['a1', 'a0', 'pos', 0.7]]\n",
            "[['a0', 'a1', 'neg', 0.7], ['a1', 'a0', 'neg', 0.7]]\n",
            "[['a0', 'a1', 'neg', 1.0], ['a1', 'a0', 'neg', 1.0]]\n",
            "[['a0', 'a1', 'pos', 1.0], ['a1', 'a0', 'pos', 1.0]]\n",
            "[['a0', 'a1', 'pos', 0.7], ['a1', 'a0', 'pos', 0.7]]\n",
            "[['a0', 'a1', 'neg', 0.7], ['a1', 'a0', 'neg', 0.7]]\n",
            "[['a0', 'a1', 'neg', 1.0], ['a1', 'a0', 'neg', 1.0]]\n",
            "169\n",
            "60\n",
            "109\n"
          ],
          "name": "stdout"
        }
      ]
    },
    {
      "cell_type": "code",
      "metadata": {
        "id": "IS0as8aSONAe",
        "colab_type": "code",
        "outputId": "f829c2e5-6084-4d07-e32c-6a98683700fb",
        "colab": {
          "base_uri": "https://localhost:8080/",
          "height": 102
        }
      },
      "source": [
        "all_dict.most_common(5)"
      ],
      "execution_count": 15,
      "outputs": [
        {
          "output_type": "execute_result",
          "data": {
            "text/plain": [
              "[('помочь', [['a0', 'a1', 'pos', 1.0], ['a1', 'a0', 'pos', 1.0]]),\n",
              " ('поощрить', [['a0', 'a1', 'pos', 1.0], ['a1', 'a0', 'pos', 1.0]]),\n",
              " ('похвалить', [['a0', 'a1', 'pos', 1.0], ['a1', 'a0', 'pos', 1.0]]),\n",
              " ('приветствовать', [['a0', 'a1', 'pos', 1.0], ['a1', 'a0', 'pos', 1.0]]),\n",
              " ('радовать', [['a0', 'a1', 'pos', 1.0], ['a1', 'a0', 'pos', 1.0]])]"
            ]
          },
          "metadata": {
            "tags": []
          },
          "execution_count": 15
        }
      ]
    },
    {
      "cell_type": "code",
      "metadata": {
        "id": "6CWbCb7g2hew",
        "colab_type": "code",
        "colab": {
          "base_uri": "https://localhost:8080/",
          "height": 102
        },
        "outputId": "3258b45a-be65-440c-a080-253582e00776"
      },
      "source": [
        "pos_dict.most_common(5)"
      ],
      "execution_count": 16,
      "outputs": [
        {
          "output_type": "execute_result",
          "data": {
            "text/plain": [
              "[('помочь', [['a0', 'a1', 'pos', 1.0], ['a1', 'a0', 'pos', 1.0]]),\n",
              " ('поощрить', [['a0', 'a1', 'pos', 1.0], ['a1', 'a0', 'pos', 1.0]]),\n",
              " ('похвалить', [['a0', 'a1', 'pos', 1.0], ['a1', 'a0', 'pos', 1.0]]),\n",
              " ('приветствовать', [['a0', 'a1', 'pos', 1.0], ['a1', 'a0', 'pos', 1.0]]),\n",
              " ('радовать', [['a0', 'a1', 'pos', 1.0], ['a1', 'a0', 'pos', 1.0]])]"
            ]
          },
          "metadata": {
            "tags": []
          },
          "execution_count": 16
        }
      ]
    },
    {
      "cell_type": "code",
      "metadata": {
        "id": "Wv7Uy-Ql2hcD",
        "colab_type": "code",
        "colab": {
          "base_uri": "https://localhost:8080/",
          "height": 119
        },
        "outputId": "477a75c2-81f8-440e-8e71-1fd35b9f5ae1"
      },
      "source": [
        "neg_dict.most_common(5)"
      ],
      "execution_count": 17,
      "outputs": [
        {
          "output_type": "execute_result",
          "data": {
            "text/plain": [
              "[('отказать', [['a0', 'a1', 'neg', 1.0], ['a1', 'a0', 'neg', 1.0]]),\n",
              " ('ответить отрицательно',\n",
              "  [['a0', 'a1', 'neg', 1.0], ['a1', 'a0', 'neg', 1.0]]),\n",
              " ('грозить', [['a0', 'a1', 'neg', 1.0], ['a1', 'a0', 'neg', 1.0]]),\n",
              " ('нести угрозу', [['a0', 'a1', 'neg', 1.0], ['a1', 'a0', 'neg', 1.0]]),\n",
              " ('подозревать', [['a0', 'a1', 'neg', 1.0], ['a1', 'a0', 'neg', 1.0]])]"
            ]
          },
          "metadata": {
            "tags": []
          },
          "execution_count": 17
        }
      ]
    },
    {
      "cell_type": "markdown",
      "metadata": {
        "id": "62KJDC4nIdpL",
        "colab_type": "text"
      },
      "source": [
        "## **Для начала сформируем вектор сидового множества с позитивными глаголами.**"
      ]
    },
    {
      "cell_type": "code",
      "metadata": {
        "id": "6i7pSMpM2LOo",
        "colab_type": "code",
        "colab": {}
      },
      "source": [
        "seed_one_dict = ['одобрять', 'хвалить', 'поощрять']\n",
        "def make_sid_embedding(seed_dict, model):\n",
        "  '''\n",
        "  Принимает на вход список, на выходе дает средний вектор всех слов из этого списка\n",
        "  '''\n",
        "  summ = 0\n",
        "  if model == skipgram_model:\n",
        "    for verb in seed_dict:\n",
        "      summ = summ + model[verb + '_V']\n",
        "    vector = summ/len(seed_dict)\n",
        "  else:\n",
        "    for verb in seed_dict:\n",
        "      summ = summ + model.get_vector(verb)\n",
        "    vector = summ/len(seed_dict)\n",
        "\n",
        "  return vector\n",
        "seed_one_skipgram = make_sid_embedding(seed_one_dict, skipgram_model)\n",
        "seed_one_fasttext = make_sid_embedding(seed_one_dict, fasttext_model)"
      ],
      "execution_count": 0,
      "outputs": []
    },
    {
      "cell_type": "code",
      "metadata": {
        "id": "Y_Kx6wM-LTas",
        "colab_type": "code",
        "colab": {
          "base_uri": "https://localhost:8080/",
          "height": 231
        },
        "outputId": "9719212f-1aee-4e5a-e9d8-fec45559be04"
      },
      "source": [
        "#polar_verbs = [verb for verb in groups_total_dict.keys()]\n",
        "all_relations_pol = [pol for pol in all_dict.keys()]\n",
        "pos_relations_pol = [pol for pol in pos_dict.keys()]\n",
        "neg_relations_pol = [pol for pol in neg_dict.keys()]\n",
        "print(len(all_relations_dict))\n",
        "print(len(pos_relations_dict))\n",
        "print(len(neg_relations_dict))"
      ],
      "execution_count": 19,
      "outputs": [
        {
          "output_type": "error",
          "ename": "NameError",
          "evalue": "ignored",
          "traceback": [
            "\u001b[0;31m---------------------------------------------------------------------------\u001b[0m",
            "\u001b[0;31mNameError\u001b[0m                                 Traceback (most recent call last)",
            "\u001b[0;32m<ipython-input-19-343f5ef7bfff>\u001b[0m in \u001b[0;36m<module>\u001b[0;34m()\u001b[0m\n\u001b[1;32m      2\u001b[0m \u001b[0mpos_relations_pol\u001b[0m \u001b[0;34m=\u001b[0m \u001b[0;34m[\u001b[0m\u001b[0mpol\u001b[0m \u001b[0;32mfor\u001b[0m \u001b[0mpol\u001b[0m \u001b[0;32min\u001b[0m \u001b[0mpos_dict\u001b[0m\u001b[0;34m.\u001b[0m\u001b[0mkeys\u001b[0m\u001b[0;34m(\u001b[0m\u001b[0;34m)\u001b[0m\u001b[0;34m]\u001b[0m\u001b[0;34m\u001b[0m\u001b[0;34m\u001b[0m\u001b[0m\n\u001b[1;32m      3\u001b[0m \u001b[0mneg_relations_pol\u001b[0m \u001b[0;34m=\u001b[0m \u001b[0;34m[\u001b[0m\u001b[0mpol\u001b[0m \u001b[0;32mfor\u001b[0m \u001b[0mpol\u001b[0m \u001b[0;32min\u001b[0m \u001b[0mneg_dict\u001b[0m\u001b[0;34m.\u001b[0m\u001b[0mkeys\u001b[0m\u001b[0;34m(\u001b[0m\u001b[0;34m)\u001b[0m\u001b[0;34m]\u001b[0m\u001b[0;34m\u001b[0m\u001b[0;34m\u001b[0m\u001b[0m\n\u001b[0;32m----> 4\u001b[0;31m \u001b[0mprint\u001b[0m\u001b[0;34m(\u001b[0m\u001b[0mlen\u001b[0m\u001b[0;34m(\u001b[0m\u001b[0mall_relations_dict\u001b[0m\u001b[0;34m)\u001b[0m\u001b[0;34m)\u001b[0m\u001b[0;34m\u001b[0m\u001b[0;34m\u001b[0m\u001b[0m\n\u001b[0m\u001b[1;32m      5\u001b[0m \u001b[0mprint\u001b[0m\u001b[0;34m(\u001b[0m\u001b[0mlen\u001b[0m\u001b[0;34m(\u001b[0m\u001b[0mpos_relations_dict\u001b[0m\u001b[0;34m)\u001b[0m\u001b[0;34m)\u001b[0m\u001b[0;34m\u001b[0m\u001b[0;34m\u001b[0m\u001b[0m\n\u001b[1;32m      6\u001b[0m \u001b[0mprint\u001b[0m\u001b[0;34m(\u001b[0m\u001b[0mlen\u001b[0m\u001b[0;34m(\u001b[0m\u001b[0mneg_relations_dict\u001b[0m\u001b[0;34m)\u001b[0m\u001b[0;34m)\u001b[0m\u001b[0;34m\u001b[0m\u001b[0;34m\u001b[0m\u001b[0m\n",
            "\u001b[0;31mNameError\u001b[0m: name 'all_relations_dict' is not defined"
          ]
        }
      ]
    },
    {
      "cell_type": "markdown",
      "metadata": {
        "id": "5DQJY_vBIonj",
        "colab_type": "text"
      },
      "source": [
        "## **В некоторых случаях попадаются не только глаголы, но и какие-то фразы, содержащие глагол. Далее оставим только глагол.**"
      ]
    },
    {
      "cell_type": "code",
      "metadata": {
        "id": "j6hlm-4sbY4g",
        "colab_type": "code",
        "colab": {}
      },
      "source": [
        "def sort_verbs(my_dict):\n",
        "  '''\n",
        "  Принимает на вход словарь слов и словосочетаний, если видит, что там словосочетание, \n",
        "  оставляет только глагол. Возвращает отфильтрованный список.\n",
        "  '''\n",
        "  polar_verbs_list = []\n",
        "  for phrase in my_dict.keys():\n",
        "    if len(phrase.split(' ')) > 1:\n",
        "      for verb in phrase.split(' '):\n",
        "        if 'VERB' in morph.parse(verb)[0].tag or 'INFN' in morph.parse(verb)[0].tag:\n",
        "          polar_verbs_list.append(verb)\n",
        "    else:\n",
        "      polar_verbs_list.append(phrase)\n",
        "  print(polar_verbs_list[:10])\n",
        "  return polar_verbs_list\n",
        "\n",
        "all_relations_list = sort_verbs(all_dict)\n",
        "pos_relations_list = sort_verbs(pos_dict)\n",
        "neg_relations_list = sort_verbs(neg_dict)\n",
        "\n",
        "print(len(all_relations_dict))\n",
        "print(len(pos_relations_dict))\n",
        "print(len(neg_relations_dict))\n",
        "\n",
        "print(len(all_relations_list))\n",
        "print(len(pos_relations_list))\n",
        "print(len(neg_relations_list))\n"
      ],
      "execution_count": 0,
      "outputs": []
    },
    {
      "cell_type": "markdown",
      "metadata": {
        "id": "24qYydjCI4Ov",
        "colab_type": "text"
      },
      "source": [
        "## **Сделаем датафреймы для всех глаголов вообще, и отдельно для негативных и позитивных.**"
      ]
    },
    {
      "cell_type": "code",
      "metadata": {
        "id": "3q19xDa_LTdK",
        "colab_type": "code",
        "colab": {}
      },
      "source": [
        "df_all = pd.DataFrame({'verbs':all_relations_list, 'phrase':all_relations_pol})\n",
        "df_pos = pd.DataFrame({'verbs':pos_relations_list, 'phrase':pos_relations_pol})\n",
        "df_neg = pd.DataFrame({'verbs':neg_relations_list, 'phrase':neg_relations_pol})"
      ],
      "execution_count": 0,
      "outputs": []
    },
    {
      "cell_type": "markdown",
      "metadata": {
        "id": "FENKIuuDJCHS",
        "colab_type": "text"
      },
      "source": [
        "## **И положим туда значение косинусной дистанции между вектором сидового множества, и каждым из глаголов. Некоторых глаголов нет в моделях, это отобразится в таблице тоже.**"
      ]
    },
    {
      "cell_type": "code",
      "metadata": {
        "id": "EkdwG2nzOEjv",
        "colab_type": "code",
        "colab": {}
      },
      "source": [
        "def add_sim_list(model, my_verbs_list, seed_vector):\n",
        "  '''\n",
        "  Принимает на вход модель, как назвать результирующую колонку в датафрейме,\n",
        "  словарь из глаголов, и средний вектор сидового множества.\n",
        "  записывает колонку в датафрейм, возвращает словарь косинусных расстояний\n",
        "  '''\n",
        "  sim_list = []\n",
        "  if model == skipgram_model:  \n",
        "    for verb in my_verbs_list:\n",
        "        try:\n",
        "          similarity = cosine_distances(np.atleast_2d(model[verb + '_V']), np.atleast_2d(seed_one_skipgram))\n",
        "        except KeyError as e:\n",
        "          similarity = 'verb is not in model dict'\n",
        "        sim_list.append(similarity)\n",
        "  else:\n",
        "    for verb in my_verbs_list:\n",
        "      try:\n",
        "        similarity = cosine_distances(np.atleast_2d(model.get_vector(verb)), np.atleast_2d(seed_one_fasttext))\n",
        "      except (KeyError, AttributeError) as e:\n",
        "        similarity = 'verb is not in model dict'\n",
        "      sim_list.append(similarity)\n",
        "  print(len(sim_list))\n",
        "  print(len(my_verbs_list))\n",
        "\n",
        "  #dataframe[df_pos] = sim_list\n",
        "  return sim_list\n",
        "\n",
        "#add_sim_list(rv_model, verbs, opinion_embedding)\n",
        "df_all['w2v_model'] = add_sim_list(skipgram_model, all_relations_list, seed_one_skipgram)\n",
        "df_all['fasttext_model'] = add_sim_list(fasttext_model, all_relations_list, seed_one_fasttext)\n",
        "\n",
        "df_pos['w2v_model'] = add_sim_list(skipgram_model, pos_relations_list, seed_one_skipgram)\n",
        "df_pos['fasttext_model'] = add_sim_list(fasttext_model, pos_relations_list, seed_one_fasttext)\n",
        "\n",
        "df_neg['w2v_model'] = add_sim_list(skipgram_model, neg_relations_list, seed_one_skipgram)\n",
        "df_neg['fasttext_model'] = add_sim_list(fasttext_model, neg_relations_list, seed_one_fasttext)"
      ],
      "execution_count": 0,
      "outputs": []
    },
    {
      "cell_type": "code",
      "metadata": {
        "id": "AQ2h8KdxOEmO",
        "colab_type": "code",
        "colab": {}
      },
      "source": [
        "df_all.head(5)"
      ],
      "execution_count": 0,
      "outputs": []
    },
    {
      "cell_type": "code",
      "metadata": {
        "id": "ZUbl_ikQOEo5",
        "colab_type": "code",
        "colab": {}
      },
      "source": [
        "df_pos.head(30)"
      ],
      "execution_count": 0,
      "outputs": []
    },
    {
      "cell_type": "code",
      "metadata": {
        "id": "hyeZz7_3OEuX",
        "colab_type": "code",
        "colab": {}
      },
      "source": [
        "df_neg.head(30)"
      ],
      "execution_count": 0,
      "outputs": []
    },
    {
      "cell_type": "markdown",
      "metadata": {
        "id": "Qj-cGwJ9EsW-",
        "colab_type": "text"
      },
      "source": [
        "## **Попробуем другие сидовые множества.**"
      ]
    },
    {
      "cell_type": "code",
      "metadata": {
        "id": "Ca_ZuNAXOExG",
        "colab_type": "code",
        "colab": {}
      },
      "source": [
        "seed_two_dict = ['осуждать', 'негодовать']"
      ],
      "execution_count": 0,
      "outputs": []
    },
    {
      "cell_type": "code",
      "metadata": {
        "id": "j5X8EAC-OEzW",
        "colab_type": "code",
        "colab": {}
      },
      "source": [
        "seed_two_skipgram = make_sid_embedding(seed_two_dict, skipgram_model)\n",
        "seed_two_fasttext = make_sid_embedding(seed_two_dict, fasttext_model)"
      ],
      "execution_count": 0,
      "outputs": []
    },
    {
      "cell_type": "code",
      "metadata": {
        "id": "i83_R8M6EqmY",
        "colab_type": "code",
        "colab": {}
      },
      "source": [
        "df_all2 = pd.DataFrame({'verbs':all_relations_list, 'phrase':all_relations_pol})\n",
        "df_pos2 = pd.DataFrame({'verbs':pos_relations_list, 'phrase':pos_relations_pol})\n",
        "df_neg2 = pd.DataFrame({'verbs':neg_relations_list, 'phrase':neg_relations_pol})"
      ],
      "execution_count": 0,
      "outputs": []
    },
    {
      "cell_type": "code",
      "metadata": {
        "id": "eX0m-8qcEqkj",
        "colab_type": "code",
        "colab": {}
      },
      "source": [
        "df_all2['w2v_model'] = add_sim_list(skipgram_model, all_relations_list, seed_two_skipgram)\n",
        "df_all2['fasttext_model'] = add_sim_list(fasttext_model, all_relations_list, seed_two_fasttext)\n",
        "\n",
        "df_pos2['w2v_model'] = add_sim_list(skipgram_model, pos_relations_list, seed_two_skipgram)\n",
        "df_pos2['fasttext_model'] = add_sim_list(fasttext_model, pos_relations_list, seed_two_fasttext)\n",
        "\n",
        "df_neg2['w2v_model'] = add_sim_list(skipgram_model, neg_relations_list, seed_two_skipgram)\n",
        "df_neg2['fasttext_model'] = add_sim_list(fasttext_model, neg_relations_list, seed_two_fasttext)"
      ],
      "execution_count": 0,
      "outputs": []
    },
    {
      "cell_type": "code",
      "metadata": {
        "id": "6KytnkL2Eqgp",
        "colab_type": "code",
        "colab": {}
      },
      "source": [
        "df_all2.head(5)"
      ],
      "execution_count": 0,
      "outputs": []
    },
    {
      "cell_type": "code",
      "metadata": {
        "id": "TOu47tHiGFtO",
        "colab_type": "code",
        "colab": {}
      },
      "source": [
        "df_pos2.head(5)"
      ],
      "execution_count": 0,
      "outputs": []
    },
    {
      "cell_type": "code",
      "metadata": {
        "id": "veA9Io3kGFzc",
        "colab_type": "code",
        "colab": {}
      },
      "source": [
        "df_neg2.head(5)"
      ],
      "execution_count": 0,
      "outputs": []
    },
    {
      "cell_type": "code",
      "metadata": {
        "id": "_eoy9oRoGFwk",
        "colab_type": "code",
        "colab": {}
      },
      "source": [
        ""
      ],
      "execution_count": 0,
      "outputs": []
    },
    {
      "cell_type": "code",
      "metadata": {
        "id": "gJblDnEDGFql",
        "colab_type": "code",
        "colab": {}
      },
      "source": [
        "seed_three_dict = ['обожать', 'восхищаться', 'восторгаться', 'нравиться', 'ценить', 'гордиться']"
      ],
      "execution_count": 0,
      "outputs": []
    },
    {
      "cell_type": "code",
      "metadata": {
        "id": "IJk4yNd1uFtO",
        "colab_type": "code",
        "colab": {}
      },
      "source": [
        "seed_three_skipgram = make_sid_embedding(seed_two_dict, skipgram_model)\n",
        "seed_three_fasttext = make_sid_embedding(seed_two_dict, fasttext_model)"
      ],
      "execution_count": 0,
      "outputs": []
    },
    {
      "cell_type": "code",
      "metadata": {
        "id": "BWs8gdWCuFq6",
        "colab_type": "code",
        "colab": {}
      },
      "source": [
        "df_all3 = pd.DataFrame({'verbs':all_relations_list, 'phrase':all_relations_pol})\n",
        "df_pos3 = pd.DataFrame({'verbs':pos_relations_list, 'phrase':pos_relations_pol})\n",
        "df_neg3 = pd.DataFrame({'verbs':neg_relations_list, 'phrase':neg_relations_pol})"
      ],
      "execution_count": 0,
      "outputs": []
    },
    {
      "cell_type": "code",
      "metadata": {
        "id": "oEFBaFr1uFm3",
        "colab_type": "code",
        "colab": {}
      },
      "source": [
        "df_all3['w2v_model'] = add_sim_list(skipgram_model, all_relations_list, seed_two_skipgram)\n",
        "df_all3['fasttext_model'] = add_sim_list(fasttext_model, all_relations_list, seed_two_fasttext)\n",
        "\n",
        "df_pos3['w2v_model'] = add_sim_list(skipgram_model, pos_relations_list, seed_two_skipgram)\n",
        "df_pos3['fasttext_model'] = add_sim_list(fasttext_model, pos_relations_list, seed_two_fasttext)\n",
        "\n",
        "df_neg3['w2v_model'] = add_sim_list(skipgram_model, neg_relations_list, seed_two_skipgram)\n",
        "df_neg3['fasttext_model'] = add_sim_list(fasttext_model, neg_relations_list, seed_two_fasttext)"
      ],
      "execution_count": 0,
      "outputs": []
    },
    {
      "cell_type": "code",
      "metadata": {
        "id": "3blOp1bdu17U",
        "colab_type": "code",
        "colab": {}
      },
      "source": [
        "df_all3.head(5)"
      ],
      "execution_count": 0,
      "outputs": []
    },
    {
      "cell_type": "code",
      "metadata": {
        "id": "5itZQ4NKu15N",
        "colab_type": "code",
        "colab": {}
      },
      "source": [
        "df_pos3.head(5)"
      ],
      "execution_count": 0,
      "outputs": []
    },
    {
      "cell_type": "code",
      "metadata": {
        "id": "bCyWbjNGu12j",
        "colab_type": "code",
        "colab": {}
      },
      "source": [
        "df_neg3.head(5)"
      ],
      "execution_count": 0,
      "outputs": []
    },
    {
      "cell_type": "code",
      "metadata": {
        "id": "6WgLVh4zOErl",
        "colab_type": "code",
        "colab": {}
      },
      "source": [
        "# vect1 = np.atleast_2d([1, 2, 4])\n",
        "# vect2 = np.atleast_2d([1, 4, 4])\n",
        "# print(cosine_distances(vect1, vect2))\n",
        "# vect1"
      ],
      "execution_count": 0,
      "outputs": []
    },
    {
      "cell_type": "code",
      "metadata": {
        "id": "BqNL85nDJcBx",
        "colab_type": "code",
        "colab": {}
      },
      "source": [
        "# def get_embedding(verbs_list, model, dim=50):\n",
        "    \n",
        "#     # чтобы не доставать одно слово несколько раз\n",
        "#     # сделаем счетчик, а потом векторы домножим на частоту\n",
        "#     words = Counter(verbs_list)\n",
        "#     total = len(verbs_list)\n",
        "#     vectors = np.zeros((len(words), dim))\n",
        "    \n",
        "#     for i,word in enumerate(words):\n",
        "#         try:\n",
        "#             v = model[word]\n",
        "#             vectors[i] = v*(words[word]/total) # просто умножаем вектор на частоту\n",
        "#             print(vectors)\n",
        "#         except (KeyError, ValueError):\n",
        "#             continue\n",
        "    \n",
        "#     if vectors.any():\n",
        "#         vector = np.average(vectors, axis=0)\n",
        "#     else:\n",
        "#         vector = np.zeros((dim))\n",
        "#     return vector\n",
        "\n",
        "# opinion_embedding = get_embedding(opinion_dict, rv_model)\n",
        "# opinion_embedding"
      ],
      "execution_count": 0,
      "outputs": []
    },
    {
      "cell_type": "code",
      "metadata": {
        "id": "jmVKfa8wKBKS",
        "colab_type": "code",
        "colab": {}
      },
      "source": [
        "# opinion_dict = ['одобрять_V', 'хвалить_V', 'поощрять_V']\n",
        "# def make_sid_embedding(seed_dict, model):\n",
        "#   summ = 0\n",
        "#   try:\n",
        "#     for verb in seed_dict:\n",
        "#       #print(model[verb])\n",
        "#       summ = summ + get_embedding(verb, model)\n",
        "#       print(summ)\n",
        "#   except KeyError:\n",
        "#     pass\n",
        "#   vector = summ/len(seed_dict)\n",
        "#   return vector\n",
        "# opinion_embedding = make_sid_embedding(opinion_dict, rv_model)"
      ],
      "execution_count": 0,
      "outputs": []
    },
    {
      "cell_type": "code",
      "metadata": {
        "id": "3Oa2r04QbrBB",
        "colab_type": "code",
        "colab": {}
      },
      "source": [
        "# opinion_embedding"
      ],
      "execution_count": 0,
      "outputs": []
    },
    {
      "cell_type": "code",
      "metadata": {
        "id": "y2m9fHP5CnTu",
        "colab_type": "code",
        "colab": {}
      },
      "source": [
        ""
      ],
      "execution_count": 0,
      "outputs": []
    },
    {
      "cell_type": "code",
      "metadata": {
        "id": "rawHX0VSHtAA",
        "colab_type": "code",
        "outputId": "254ab315-7211-4fb3-bcd5-917bd568460e",
        "colab": {
          "base_uri": "https://localhost:8080/",
          "height": 34
        }
      },
      "source": [
        "def make_similarity_df(base_vect, verbs_for_check_dict, model):\n",
        "  '''\n",
        "  Считает косинусное расстояние с каким-либо подающимся на вход сидовым глаголом глаголов из словаря, полученного с помощью \n",
        "  функции make_group. Возвращает словарь с ключами 'groups', 'base_verb', 'verb' и 'verbs_similarity', \n",
        "  которые потом будут колонками таблицы - датафрейма.\n",
        "  '''\n",
        "\n",
        "  df_dict = Counter()\n",
        "  df_dict['groups'] = []\n",
        "  df_dict['base_verb'] = []\n",
        "  df_dict['verb'] = []\n",
        "  df_dict['verbs_similarity'] = []\n",
        "\n",
        "  #my_base_verb = base_verb + '_V'\n",
        "  for verb in verbs_for_check_dict.keys():\n",
        "    verb_for_check = verb + '_V'\n",
        "    try:\n",
        "      verbs_similarity = model.similarity(base_vect, verb_for_check)\n",
        "      df_dict['groups'].append(str(verbs_for_check_dict[verb]))\n",
        "      df_dict['base_verb'].append(base_verb)\n",
        "      df_dict['verb'].append(verb)\n",
        "      df_dict['verbs_similarity'].append(verbs_similarity)\n",
        "    except KeyError as e:\n",
        "      pass\n",
        "      #print(e)\n",
        "  return df_dict\n",
        "\n",
        "verbs_for_df = make_similarity_df(opinion_embedding, groups_total_dict, rv_model)\n",
        "print('done')"
      ],
      "execution_count": 0,
      "outputs": [
        {
          "output_type": "stream",
          "text": [
            "done\n"
          ],
          "name": "stdout"
        }
      ]
    },
    {
      "cell_type": "code",
      "metadata": {
        "id": "JBEDU194HtCu",
        "colab_type": "code",
        "colab": {}
      },
      "source": [
        "\n",
        "frames_df = pd.DataFrame(verbs_for_df, columns = verbs_for_df.keys()) # тут делается датафрейм"
      ],
      "execution_count": 0,
      "outputs": []
    },
    {
      "cell_type": "code",
      "metadata": {
        "id": "wCwwlsdGHtFG",
        "colab_type": "code",
        "outputId": "0e0392f5-1302-4368-e570-535a55b06b36",
        "colab": {
          "base_uri": "https://localhost:8080/",
          "height": 49
        }
      },
      "source": [
        "frames_df"
      ],
      "execution_count": 0,
      "outputs": [
        {
          "output_type": "execute_result",
          "data": {
            "text/html": [
              "<div>\n",
              "<style scoped>\n",
              "    .dataframe tbody tr th:only-of-type {\n",
              "        vertical-align: middle;\n",
              "    }\n",
              "\n",
              "    .dataframe tbody tr th {\n",
              "        vertical-align: top;\n",
              "    }\n",
              "\n",
              "    .dataframe thead th {\n",
              "        text-align: right;\n",
              "    }\n",
              "</style>\n",
              "<table border=\"1\" class=\"dataframe\">\n",
              "  <thead>\n",
              "    <tr style=\"text-align: right;\">\n",
              "      <th></th>\n",
              "      <th>groups</th>\n",
              "      <th>base_verb</th>\n",
              "      <th>verb</th>\n",
              "      <th>verbs_similarity</th>\n",
              "    </tr>\n",
              "  </thead>\n",
              "  <tbody>\n",
              "  </tbody>\n",
              "</table>\n",
              "</div>"
            ],
            "text/plain": [
              "Empty DataFrame\n",
              "Columns: [groups, base_verb, verb, verbs_similarity]\n",
              "Index: []"
            ]
          },
          "metadata": {
            "tags": []
          },
          "execution_count": 44
        }
      ]
    },
    {
      "cell_type": "code",
      "metadata": {
        "id": "RaD60ME3BB6D",
        "colab_type": "code",
        "colab": {}
      },
      "source": [
        "\n",
        "# verbs_for_check_dict = {'снимать': [['a0', 'a1', 'neg', 1.0]]}\n",
        "\n",
        "# def just_words_similarity(base_verb, verbs_for_check_dict):\n",
        "#   \"\"\"\n",
        "#   Функция тестовая, проверяет, как работает косинусная близость.\n",
        "#   \"\"\"\n",
        "#   group_dict = Counter()\n",
        "#   my_base_verb = base_verb + '_V'\n",
        "#   for verb in verbs_for_check_dict.keys():\n",
        "#     verb_for_check = verb + '_V'\n",
        "#     similarity = mystem_skipgram_model.similarity(my_base_verb, verb_for_check)\n",
        "#     group_dict[str(verbs_for_check_dict[verb])] = [base_verb, verb, similarity]\n",
        "#   return group_dict\n",
        "\n",
        "# just_words_similarity('радоваться', verbs_for_check_dict)\n",
        "\n",
        "\n"
      ],
      "execution_count": 0,
      "outputs": []
    },
    {
      "cell_type": "code",
      "metadata": {
        "id": "5XdwIenPHtHu",
        "colab_type": "code",
        "colab": {}
      },
      "source": [
        ""
      ],
      "execution_count": 0,
      "outputs": []
    },
    {
      "cell_type": "code",
      "metadata": {
        "id": "GVcLWwG9BB3T",
        "colab_type": "code",
        "colab": {}
      },
      "source": [
        ""
      ],
      "execution_count": 0,
      "outputs": []
    }
  ]
}