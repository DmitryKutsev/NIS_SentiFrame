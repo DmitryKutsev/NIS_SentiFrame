{
  "nbformat": 4,
  "nbformat_minor": 0,
  "metadata": {
    "colab": {
      "name": "Untitled24.ipynb",
      "provenance": [],
      "authorship_tag": "ABX9TyMF/4JppmO2rWth0pWdZNRt",
      "include_colab_link": true
    },
    "kernelspec": {
      "name": "python3",
      "display_name": "Python 3"
    }
  },
  "cells": [
    {
      "cell_type": "markdown",
      "metadata": {
        "id": "view-in-github",
        "colab_type": "text"
      },
      "source": [
        "<a href=\"https://colab.research.google.com/github/DmitryKutsev/NIS_SentiFrame/blob/master/verbs_cosine_w2v_fasttext.ipynb\" target=\"_parent\"><img src=\"https://colab.research.google.com/assets/colab-badge.svg\" alt=\"Open In Colab\"/></a>"
      ]
    },
    {
      "cell_type": "code",
      "metadata": {
        "id": "ZnAbfQ2EytKo",
        "colab_type": "code",
        "outputId": "9097b18b-aa6f-4eb9-9073-fe0918f5324f",
        "colab": {
          "base_uri": "https://localhost:8080/",
          "height": 204
        }
      },
      "source": [
        "!wget rusvectores.org/static/models/rusvectores2/news_mystem_skipgram_1000_20_2015.bin.gz\n"
      ],
      "execution_count": 14,
      "outputs": [
        {
          "output_type": "stream",
          "text": [
            "--2020-02-24 12:54:59--  http://rusvectores.org/static/models/rusvectores2/news_mystem_skipgram_1000_20_2015.bin.gz\n",
            "Resolving rusvectores.org (rusvectores.org)... 116.203.104.23\n",
            "Connecting to rusvectores.org (rusvectores.org)|116.203.104.23|:80... connected.\n",
            "HTTP request sent, awaiting response... 200 OK\n",
            "Length: 549952184 (524M) [application/x-gzip]\n",
            "Saving to: ‘news_mystem_skipgram_1000_20_2015.bin.gz.1’\n",
            "\n",
            "news_mystem_skipgra 100%[===================>] 524.47M  28.2MB/s    in 20s     \n",
            "\n",
            "2020-02-24 12:55:20 (25.6 MB/s) - ‘news_mystem_skipgram_1000_20_2015.bin.gz.1’ saved [549952184/549952184]\n",
            "\n"
          ],
          "name": "stdout"
        }
      ]
    },
    {
      "cell_type": "code",
      "metadata": {
        "id": "GiEPhNdKxS4c",
        "colab_type": "code",
        "colab": {
          "base_uri": "https://localhost:8080/",
          "height": 122
        },
        "outputId": "f102bc52-1c63-4d8b-8f47-6246e0940394"
      },
      "source": [
        "!pip install pymorphy2[fast]"
      ],
      "execution_count": 15,
      "outputs": [
        {
          "output_type": "stream",
          "text": [
            "Requirement already satisfied: pymorphy2[fast] in /usr/local/lib/python3.6/dist-packages (0.8)\n",
            "Requirement already satisfied: pymorphy2-dicts<3.0,>=2.4 in /usr/local/lib/python3.6/dist-packages (from pymorphy2[fast]) (2.4.393442.3710985)\n",
            "Requirement already satisfied: docopt>=0.6 in /usr/local/lib/python3.6/dist-packages (from pymorphy2[fast]) (0.6.2)\n",
            "Requirement already satisfied: dawg-python>=0.7 in /usr/local/lib/python3.6/dist-packages (from pymorphy2[fast]) (0.7.2)\n",
            "Requirement already satisfied: DAWG>=0.7.3; extra == \"fast\" in /usr/local/lib/python3.6/dist-packages (from pymorphy2[fast]) (0.8.0)\n"
          ],
          "name": "stdout"
        }
      ]
    },
    {
      "cell_type": "code",
      "metadata": {
        "id": "4LCu8A0aAaMR",
        "colab_type": "code",
        "outputId": "a735f1c5-2c5d-4912-bacf-17ad192801f1",
        "colab": {
          "base_uri": "https://localhost:8080/",
          "height": 204
        }
      },
      "source": [
        "#!rm collection.json.1 collection.json\n",
        "!wget https://raw.githubusercontent.com/nicolay-r/RuSentiFrames/master/collection.json"
      ],
      "execution_count": 16,
      "outputs": [
        {
          "output_type": "stream",
          "text": [
            "--2020-02-24 12:55:24--  https://raw.githubusercontent.com/nicolay-r/RuSentiFrames/master/collection.json\n",
            "Resolving raw.githubusercontent.com (raw.githubusercontent.com)... 151.101.0.133, 151.101.64.133, 151.101.128.133, ...\n",
            "Connecting to raw.githubusercontent.com (raw.githubusercontent.com)|151.101.0.133|:443... connected.\n",
            "HTTP request sent, awaiting response... 200 OK\n",
            "Length: 606414 (592K) [text/plain]\n",
            "Saving to: ‘collection.json.1’\n",
            "\n",
            "\rcollection.json.1     0%[                    ]       0  --.-KB/s               \rcollection.json.1   100%[===================>] 592.20K  --.-KB/s    in 0.06s   \n",
            "\n",
            "2020-02-24 12:55:25 (9.18 MB/s) - ‘collection.json.1’ saved [606414/606414]\n",
            "\n"
          ],
          "name": "stdout"
        }
      ]
    },
    {
      "cell_type": "code",
      "metadata": {
        "id": "Q54jNAH9xiQ5",
        "colab_type": "code",
        "colab": {
          "base_uri": "https://localhost:8080/",
          "height": 204
        },
        "outputId": "b4050fd4-8548-43ec-c4ed-f6668e8fe64a"
      },
      "source": [
        "!wget http://vectors.nlpl.eu/repository/20/187.zip"
      ],
      "execution_count": 17,
      "outputs": [
        {
          "output_type": "stream",
          "text": [
            "--2020-02-24 12:56:14--  http://vectors.nlpl.eu/repository/20/187.zip\n",
            "Resolving vectors.nlpl.eu (vectors.nlpl.eu)... 129.240.189.225\n",
            "Connecting to vectors.nlpl.eu (vectors.nlpl.eu)|129.240.189.225|:80... connected.\n",
            "HTTP request sent, awaiting response... 200 OK\n",
            "Length: 2692389554 (2.5G) [application/zip]\n",
            "Saving to: ‘187.zip’\n",
            "\n",
            "187.zip             100%[===================>]   2.51G  23.1MB/s    in 2m 3s   \n",
            "\n",
            "2020-02-24 12:58:18 (20.8 MB/s) - ‘187.zip’ saved [2692389554/2692389554]\n",
            "\n"
          ],
          "name": "stdout"
        }
      ]
    },
    {
      "cell_type": "code",
      "metadata": {
        "id": "4Opbjo29RbrG",
        "colab_type": "code",
        "colab": {
          "base_uri": "https://localhost:8080/",
          "height": 136
        },
        "outputId": "239021c4-c0db-42f7-9aca-f9b9e9cb383c"
      },
      "source": [
        "!unzip 187.zip"
      ],
      "execution_count": 19,
      "outputs": [
        {
          "output_type": "stream",
          "text": [
            "Archive:  187.zip\n",
            "  inflating: meta.json               \n",
            "  inflating: model.model             \n",
            "  inflating: model.model.vectors_ngrams.npy  \n",
            "  inflating: model.model.vectors.npy  \n",
            "  inflating: model.model.vectors_vocab.npy  \n",
            "  inflating: README                  \n"
          ],
          "name": "stdout"
        }
      ]
    },
    {
      "cell_type": "code",
      "metadata": {
        "id": "UAJGiE9aRgWm",
        "colab_type": "code",
        "colab": {
          "base_uri": "https://localhost:8080/",
          "height": 119
        },
        "outputId": "3e8b9db9-251d-4201-9ca5-0e82b3b7d668"
      },
      "source": [
        "!ls"
      ],
      "execution_count": 20,
      "outputs": [
        {
          "output_type": "stream",
          "text": [
            "187.zip\t\t\t\tmodel.model.vectors.npy\n",
            "collection.json\t\t\tmodel.model.vectors_vocab.npy\n",
            "collection.json.1\t\tnews_mystem_skipgram_1000_20_2015.bin.gz\n",
            "meta.json\t\t\tnews_mystem_skipgram_1000_20_2015.bin.gz.1\n",
            "model.model\t\t\tREADME\n",
            "model.model.vectors_ngrams.npy\tsample_data\n"
          ],
          "name": "stdout"
        }
      ]
    },
    {
      "cell_type": "code",
      "metadata": {
        "id": "XvF5IwNoO638",
        "colab_type": "code",
        "colab": {}
      },
      "source": [
        "import gensim\n",
        "from collections import Counter\n",
        "import json\n",
        "import pandas as pd\n",
        "import numpy as np\n",
        "from sklearn.metrics.pairwise import cosine_distances\n",
        "import pymorphy2\n",
        "morph = pymorphy2.MorphAnalyzer()"
      ],
      "execution_count": 0,
      "outputs": []
    },
    {
      "cell_type": "code",
      "metadata": {
        "id": "cnvQN_9NxxtC",
        "colab_type": "code",
        "colab": {}
      },
      "source": [
        ""
      ],
      "execution_count": 0,
      "outputs": []
    },
    {
      "cell_type": "code",
      "metadata": {
        "id": "VVqZukM10GFD",
        "colab_type": "code",
        "outputId": "07cfad01-0433-434d-88e2-298b8a1b5cb1",
        "colab": {
          "base_uri": "https://localhost:8080/",
          "height": 71
        }
      },
      "source": [
        "skipgram_model = gensim.models.KeyedVectors.load_word2vec_format('news_mystem_skipgram_1000_20_2015.bin.gz', binary=True)"
      ],
      "execution_count": 22,
      "outputs": [
        {
          "output_type": "stream",
          "text": [
            "/usr/local/lib/python3.6/dist-packages/smart_open/smart_open_lib.py:402: UserWarning: This function is deprecated, use smart_open.open instead. See the migration notes for details: https://github.com/RaRe-Technologies/smart_open/blob/master/README.rst#migrating-to-the-new-open-function\n",
            "  'See the migration notes for details: %s' % _MIGRATION_NOTES_URL\n"
          ],
          "name": "stderr"
        }
      ]
    },
    {
      "cell_type": "code",
      "metadata": {
        "id": "n23yIcDQbmhO",
        "colab_type": "code",
        "colab": {
          "base_uri": "https://localhost:8080/",
          "height": 71
        },
        "outputId": "e0dcacc2-f346-4084-d1e2-d782e624baf1"
      },
      "source": [
        "fasttext_model = gensim.models.KeyedVectors.load(\"model.model\")"
      ],
      "execution_count": 64,
      "outputs": [
        {
          "output_type": "stream",
          "text": [
            "/usr/local/lib/python3.6/dist-packages/smart_open/smart_open_lib.py:402: UserWarning: This function is deprecated, use smart_open.open instead. See the migration notes for details: https://github.com/RaRe-Technologies/smart_open/blob/master/README.rst#migrating-to-the-new-open-function\n",
            "  'See the migration notes for details: %s' % _MIGRATION_NOTES_URL\n"
          ],
          "name": "stderr"
        }
      ]
    },
    {
      "cell_type": "code",
      "metadata": {
        "id": "cJGCmbd6BZj1",
        "colab_type": "code",
        "colab": {}
      },
      "source": [
        "# rv_model.vocab\n",
        "# rv_model.get_vector('помочь_V')"
      ],
      "execution_count": 0,
      "outputs": []
    },
    {
      "cell_type": "code",
      "metadata": {
        "id": "qQUwjpBJjdZK",
        "colab_type": "code",
        "colab": {}
      },
      "source": [
        "# rv_model.vocab"
      ],
      "execution_count": 0,
      "outputs": []
    },
    {
      "cell_type": "code",
      "metadata": {
        "id": "H52b-hi-EFHc",
        "colab_type": "code",
        "colab": {}
      },
      "source": [
        "collection_handler = open(\"collection.json\", \"r\", encoding=\"utf-8\")\n",
        "collection = json.load(collection_handler, encoding=\"utf-8\")"
      ],
      "execution_count": 0,
      "outputs": []
    },
    {
      "cell_type": "code",
      "metadata": {
        "id": "8hCoLzvMJ_YZ",
        "colab_type": "code",
        "outputId": "4c7e4c8b-38d3-492e-bf16-235751d4b8d8",
        "colab": {
          "base_uri": "https://localhost:8080/",
          "height": 204
        }
      },
      "source": [
        "\n",
        "def make_group(polarity_type_list):\n",
        "  \"\"\"\n",
        "  На вход подаются пары из разных типов отношений(p_type) в списках(как в переменной pol_type_dict)\n",
        "  для каждой пары цикл ищет не более ста глаголов, у которых есть типы отношений, совпадающие с нашей парой, \n",
        "  которая подается на вход. \n",
        "  \"\"\"\n",
        "  group_dict = Counter()\n",
        "  for p_type in polarity_type_list:\n",
        "    print(p_type)\n",
        "    count = 0\n",
        "    for key in collection.keys():\n",
        "      if count < 100:\n",
        "        try:\n",
        "          #print(collection[key]['frames']['polarity'])\n",
        "          if p_type[0] in collection[key]['frames']['polarity'] and p_type[1] in collection[key]['frames']['polarity'] :\n",
        "          # эту строчку можно менять, если нам нужно искать отношения, где только ['a0', 'a1', 'pos', 1.0]:\n",
        "          # if p_type[0] in collection[key]['frames']['polarity'] and p_type[1] not in collection[key]['frames']['polarity'] : \n",
        "          # проблема! в лексиконе всего 20 отношений [['a0', 'a1', 'pos', 1.0], ['a1', 'a0', 'pos', 1.0]] c разными коэффициентами, и 51 таких, \n",
        "          # где ['a0', 'a1', 'pos', 1.0], а ['a1', 'a0', 'pos', 1.0] отсутствует\n",
        "            for ver in collection[key]['title']:\n",
        "              group_dict[ver] = p_type\n",
        "              count += 1\n",
        "            for var in collection[key]['variants']:\n",
        "              if len(var.split(' ')) > 1 and var[-2:] == 'ть':\n",
        "                group_dict[var] = p_type\n",
        "                count += 1\n",
        "\n",
        "              \n",
        "        except Exception as e:\n",
        "          pass\n",
        "  return group_dict\n",
        "\n",
        "all_type_dict = [[['a0', 'a1', 'pos', 1.0], ['a1', 'a0', 'pos', 1.0]], \\\n",
        "                 [['a0', 'a1', 'pos', 0.7], ['a1', 'a0', 'pos', 0.7]], \\\n",
        "                  [['a0', 'a1', 'neg', 0.7], ['a1', 'a0', 'neg', 0.7]], \\\n",
        "                  [['a0', 'a1', 'neg', 1.0], ['a1', 'a0', 'neg', 1.0]],\n",
        "                 ]\n",
        "pos_type_dict = [[['a0', 'a1', 'pos', 1.0], ['a1', 'a0', 'pos', 1.0]], \\\n",
        "                 [['a0', 'a1', 'pos', 0.7], ['a1', 'a0', 'pos', 0.7]], \\\n",
        "            \n",
        "                 ]\n",
        "neg_type_dict = [\n",
        "                  [['a0', 'a1', 'neg', 0.7], ['a1', 'a0', 'neg', 0.7]], \\\n",
        "                  [['a0', 'a1', 'neg', 1.0], ['a1', 'a0', 'neg', 1.0]],\n",
        "                 ]\n",
        "all_dict = make_group(all_type_dict)\n",
        "pos_dict = make_group(pos_type_dict)\n",
        "neg_dict = make_group(neg_type_dict)\n",
        "#len(groups_total_dict)\n",
        "print(len(all_dict))\n",
        "print(len(pos_dict))\n",
        "print(len(neg_dict))\n"
      ],
      "execution_count": 127,
      "outputs": [
        {
          "output_type": "stream",
          "text": [
            "[['a0', 'a1', 'pos', 1.0], ['a1', 'a0', 'pos', 1.0]]\n",
            "[['a0', 'a1', 'pos', 0.7], ['a1', 'a0', 'pos', 0.7]]\n",
            "[['a0', 'a1', 'neg', 0.7], ['a1', 'a0', 'neg', 0.7]]\n",
            "[['a0', 'a1', 'neg', 1.0], ['a1', 'a0', 'neg', 1.0]]\n",
            "[['a0', 'a1', 'pos', 1.0], ['a1', 'a0', 'pos', 1.0]]\n",
            "[['a0', 'a1', 'pos', 0.7], ['a1', 'a0', 'pos', 0.7]]\n",
            "[['a0', 'a1', 'neg', 0.7], ['a1', 'a0', 'neg', 0.7]]\n",
            "[['a0', 'a1', 'neg', 1.0], ['a1', 'a0', 'neg', 1.0]]\n",
            "169\n",
            "60\n",
            "109\n"
          ],
          "name": "stdout"
        }
      ]
    },
    {
      "cell_type": "code",
      "metadata": {
        "id": "IS0as8aSONAe",
        "colab_type": "code",
        "outputId": "615a983a-6f68-47f7-b3dd-271c7f31c932",
        "colab": {
          "base_uri": "https://localhost:8080/",
          "height": 102
        }
      },
      "source": [
        "all_dict.most_common(5)"
      ],
      "execution_count": 67,
      "outputs": [
        {
          "output_type": "execute_result",
          "data": {
            "text/plain": [
              "[('помочь', [['a0', 'a1', 'pos', 1.0], ['a1', 'a0', 'pos', 1.0]]),\n",
              " ('поощрить', [['a0', 'a1', 'pos', 1.0], ['a1', 'a0', 'pos', 1.0]]),\n",
              " ('похвалить', [['a0', 'a1', 'pos', 1.0], ['a1', 'a0', 'pos', 1.0]]),\n",
              " ('приветствовать', [['a0', 'a1', 'pos', 1.0], ['a1', 'a0', 'pos', 1.0]]),\n",
              " ('радовать', [['a0', 'a1', 'pos', 1.0], ['a1', 'a0', 'pos', 1.0]])]"
            ]
          },
          "metadata": {
            "tags": []
          },
          "execution_count": 67
        }
      ]
    },
    {
      "cell_type": "code",
      "metadata": {
        "id": "6CWbCb7g2hew",
        "colab_type": "code",
        "colab": {
          "base_uri": "https://localhost:8080/",
          "height": 102
        },
        "outputId": "d680b726-15a6-426d-ee90-17ab3d7d2e90"
      },
      "source": [
        "pos_dict.most_common(5)"
      ],
      "execution_count": 129,
      "outputs": [
        {
          "output_type": "execute_result",
          "data": {
            "text/plain": [
              "[('помочь', [['a0', 'a1', 'pos', 1.0], ['a1', 'a0', 'pos', 1.0]]),\n",
              " ('поощрить', [['a0', 'a1', 'pos', 1.0], ['a1', 'a0', 'pos', 1.0]]),\n",
              " ('похвалить', [['a0', 'a1', 'pos', 1.0], ['a1', 'a0', 'pos', 1.0]]),\n",
              " ('приветствовать', [['a0', 'a1', 'pos', 1.0], ['a1', 'a0', 'pos', 1.0]]),\n",
              " ('радовать', [['a0', 'a1', 'pos', 1.0], ['a1', 'a0', 'pos', 1.0]])]"
            ]
          },
          "metadata": {
            "tags": []
          },
          "execution_count": 129
        }
      ]
    },
    {
      "cell_type": "code",
      "metadata": {
        "id": "Wv7Uy-Ql2hcD",
        "colab_type": "code",
        "colab": {
          "base_uri": "https://localhost:8080/",
          "height": 119
        },
        "outputId": "5ff5db6c-6a57-4a93-9ba2-12cd160fcaf3"
      },
      "source": [
        "neg_dict.most_common(5)"
      ],
      "execution_count": 130,
      "outputs": [
        {
          "output_type": "execute_result",
          "data": {
            "text/plain": [
              "[('отказать', [['a0', 'a1', 'neg', 1.0], ['a1', 'a0', 'neg', 1.0]]),\n",
              " ('ответить отрицательно',\n",
              "  [['a0', 'a1', 'neg', 1.0], ['a1', 'a0', 'neg', 1.0]]),\n",
              " ('грозить', [['a0', 'a1', 'neg', 1.0], ['a1', 'a0', 'neg', 1.0]]),\n",
              " ('нести угрозу', [['a0', 'a1', 'neg', 1.0], ['a1', 'a0', 'neg', 1.0]]),\n",
              " ('подозревать', [['a0', 'a1', 'neg', 1.0], ['a1', 'a0', 'neg', 1.0]])]"
            ]
          },
          "metadata": {
            "tags": []
          },
          "execution_count": 130
        }
      ]
    },
    {
      "cell_type": "markdown",
      "metadata": {
        "id": "62KJDC4nIdpL",
        "colab_type": "text"
      },
      "source": [
        "## **Для начала сформируем вектор сидового множества с позитивными глаголами.**"
      ]
    },
    {
      "cell_type": "code",
      "metadata": {
        "id": "6i7pSMpM2LOo",
        "colab_type": "code",
        "colab": {}
      },
      "source": [
        "seed_one_dict = ['одобрять', 'хвалить', 'поощрять']\n",
        "def make_sid_embedding(seed_dict, model):\n",
        "  '''\n",
        "  Принимает на вход список, на выходе дает средний вектор всех слов из этого списка\n",
        "  '''\n",
        "  summ = 0\n",
        "  if model == skipgram_model:\n",
        "    for verb in seed_dict:\n",
        "      summ = summ + model[verb + '_V']\n",
        "    vector = summ/len(seed_dict)\n",
        "  else:\n",
        "    for verb in seed_dict:\n",
        "      summ = summ + model.get_vector(verb)\n",
        "    vector = summ/len(seed_dict)\n",
        "\n",
        "  return vector\n",
        "seed_one_skipgram = make_sid_embedding(seed_one_dict, skipgram_model)\n",
        "seed_one_fasttext = make_sid_embedding(seed_one_dict, fasttext_model)"
      ],
      "execution_count": 0,
      "outputs": []
    },
    {
      "cell_type": "code",
      "metadata": {
        "id": "Y_Kx6wM-LTas",
        "colab_type": "code",
        "colab": {
          "base_uri": "https://localhost:8080/",
          "height": 68
        },
        "outputId": "0a79d90a-ebe7-4cbc-8faa-c796cc264b01"
      },
      "source": [
        "#polar_verbs = [verb for verb in groups_total_dict.keys()]\n",
        "all_relations_pol = [pol for pol in all_dict.keys()]\n",
        "pos_relations_pol = [pol for pol in pos_dict.keys()]\n",
        "neg_relations_pol = [pol for pol in neg_dict.keys()]\n",
        "print(len(all_relations_dict))\n",
        "print(len(pos_relations_dict))\n",
        "print(len(neg_relations_dict))"
      ],
      "execution_count": 139,
      "outputs": [
        {
          "output_type": "stream",
          "text": [
            "169\n",
            "60\n",
            "109\n"
          ],
          "name": "stdout"
        }
      ]
    },
    {
      "cell_type": "markdown",
      "metadata": {
        "id": "5DQJY_vBIonj",
        "colab_type": "text"
      },
      "source": [
        "## **В некоторых случаях попадаются не только глаголы, но и какие-то фразы, содержащие глагол. Далее оставим только глагол.**"
      ]
    },
    {
      "cell_type": "code",
      "metadata": {
        "id": "j6hlm-4sbY4g",
        "colab_type": "code",
        "colab": {
          "base_uri": "https://localhost:8080/",
          "height": 170
        },
        "outputId": "b949f300-5c88-46ee-f154-059ccb47392c"
      },
      "source": [
        "def sort_verbs(my_dict):\n",
        "  '''\n",
        "  Принимает на вход словарь слов и словосочетаний, если видит, что там словосочетание, \n",
        "  оставляет только глагол. Возвращает отфильтрованный список.\n",
        "  '''\n",
        "  polar_verbs_list = []\n",
        "  for phrase in my_dict.keys():\n",
        "    if len(phrase.split(' ')) > 1:\n",
        "      for verb in phrase.split(' '):\n",
        "        if 'VERB' in morph.parse(verb)[0].tag or 'INFN' in morph.parse(verb)[0].tag:\n",
        "          polar_verbs_list.append(verb)\n",
        "    else:\n",
        "      polar_verbs_list.append(phrase)\n",
        "  print(polar_verbs_list[:10])\n",
        "  return polar_verbs_list\n",
        "\n",
        "all_relations_list = sort_verbs(all_dict)\n",
        "pos_relations_list = sort_verbs(pos_dict)\n",
        "neg_relations_list = sort_verbs(neg_dict)\n",
        "\n",
        "print(len(all_relations_dict))\n",
        "print(len(pos_relations_dict))\n",
        "print(len(neg_relations_dict))\n",
        "\n",
        "print(len(all_relations_list))\n",
        "print(len(pos_relations_list))\n",
        "print(len(neg_relations_list))\n"
      ],
      "execution_count": 182,
      "outputs": [
        {
          "output_type": "stream",
          "text": [
            "['помочь', 'поощрить', 'похвалить', 'приветствовать', 'радовать', 'дарить', 'доставить', 'доставлять', 'подарить', 'спасти']\n",
            "['помочь', 'поощрить', 'похвалить', 'приветствовать', 'радовать', 'дарить', 'доставить', 'доставлять', 'подарить', 'спасти']\n",
            "['повредить', 'испортить', 'обеспокоить', 'потрясти', 'доминировать', 'выследить', 'настичь', 'догнать', 'ворваться', 'ловить']\n",
            "169\n",
            "60\n",
            "109\n",
            "169\n",
            "60\n",
            "109\n"
          ],
          "name": "stdout"
        }
      ]
    },
    {
      "cell_type": "markdown",
      "metadata": {
        "id": "24qYydjCI4Ov",
        "colab_type": "text"
      },
      "source": [
        "## **Сделаем датафреймы для всех глаголов вообще, и отдельно для негативных и позитивных.**"
      ]
    },
    {
      "cell_type": "code",
      "metadata": {
        "id": "3q19xDa_LTdK",
        "colab_type": "code",
        "colab": {}
      },
      "source": [
        "df_all = pd.DataFrame({'verbs':all_relations_list, 'phrase':all_relations_pol})\n",
        "df_pos = pd.DataFrame({'verbs':pos_relations_list, 'phrase':pos_relations_pol})\n",
        "df_neg = pd.DataFrame({'verbs':neg_relations_list, 'phrase':neg_relations_pol})"
      ],
      "execution_count": 0,
      "outputs": []
    },
    {
      "cell_type": "markdown",
      "metadata": {
        "id": "FENKIuuDJCHS",
        "colab_type": "text"
      },
      "source": [
        "## **И положим туда значение косинусной дистанции между вектором сидового множества, и каждым из глаголов. Некоторых глаголов нет в моделях, это отобразится в таблице тоже.**"
      ]
    },
    {
      "cell_type": "code",
      "metadata": {
        "id": "EkdwG2nzOEjv",
        "colab_type": "code",
        "colab": {}
      },
      "source": [
        "def add_sim_list(model, my_verbs_list, seed_vector):\n",
        "  '''\n",
        "  Принимает на вход модель, как назвать результирующую колонку в датафрейме,\n",
        "  словарь из глаголов, и средний вектор сидового множества.\n",
        "  записывает колонку в датафрейм, возвращает словарь косинусных расстояний\n",
        "  '''\n",
        "  sim_list = []\n",
        "  if model == skipgram_model:  \n",
        "    for verb in my_verbs_list:\n",
        "        try:\n",
        "          similarity = cosine_distances(np.atleast_2d(model[verb + '_V']), np.atleast_2d(seed_one_skipgram))\n",
        "        except KeyError as e:\n",
        "          similarity = 'verb is not in model dict'\n",
        "        sim_list.append(similarity)\n",
        "  else:\n",
        "    for verb in my_verbs_list:\n",
        "      try:\n",
        "        similarity = cosine_distances(np.atleast_2d(model.get_vector(verb)), np.atleast_2d(seed_one_fasttext))\n",
        "      except (KeyError, AttributeError) as e:\n",
        "        similarity = 'verb is not in model dict'\n",
        "      sim_list.append(similarity)\n",
        "  print(len(sim_list))\n",
        "  print(len(my_verbs_list))\n",
        "\n",
        "  #dataframe[df_pos] = sim_list\n",
        "  return sim_list\n",
        "\n",
        "#add_sim_list(rv_model, verbs, opinion_embedding)\n",
        "df_all['w2v_model'] = add_sim_list(skipgram_model, all_relations_list, seed_one_skipgram)\n",
        "df_all['fasttext_model'] = add_sim_list(fasttext_model, all_relations_list, seed_one_fasttext)\n",
        "\n",
        "df_pos['w2v_model'] = add_sim_list(skipgram_model, pos_relations_list, seed_one_skipgram)\n",
        "df_pos['fasttext_model'] = add_sim_list(fasttext_model, pos_relations_list, seed_one_fasttext)\n",
        "\n",
        "df_neg['w2v_model'] = add_sim_list(skipgram_model, neg_relations_list, seed_one_skipgram)\n",
        "df_neg['fasttext_model'] = add_sim_list(fasttext_model, neg_relations_list, seed_one_fasttext)"
      ],
      "execution_count": 0,
      "outputs": []
    },
    {
      "cell_type": "code",
      "metadata": {
        "id": "AQ2h8KdxOEmO",
        "colab_type": "code",
        "outputId": "93f40c19-0242-4ab0-cee3-dde508ee9fd3",
        "colab": {
          "base_uri": "https://localhost:8080/",
          "height": 204
        }
      },
      "source": [
        "df_all.head(5)"
      ],
      "execution_count": 151,
      "outputs": [
        {
          "output_type": "execute_result",
          "data": {
            "text/html": [
              "<div>\n",
              "<style scoped>\n",
              "    .dataframe tbody tr th:only-of-type {\n",
              "        vertical-align: middle;\n",
              "    }\n",
              "\n",
              "    .dataframe tbody tr th {\n",
              "        vertical-align: top;\n",
              "    }\n",
              "\n",
              "    .dataframe thead th {\n",
              "        text-align: right;\n",
              "    }\n",
              "</style>\n",
              "<table border=\"1\" class=\"dataframe\">\n",
              "  <thead>\n",
              "    <tr style=\"text-align: right;\">\n",
              "      <th></th>\n",
              "      <th>verbs</th>\n",
              "      <th>polarity</th>\n",
              "      <th>w2v_model</th>\n",
              "      <th>fasttext_model</th>\n",
              "    </tr>\n",
              "  </thead>\n",
              "  <tbody>\n",
              "    <tr>\n",
              "      <th>0</th>\n",
              "      <td>помочь</td>\n",
              "      <td>помочь</td>\n",
              "      <td>verb is not in model dict</td>\n",
              "      <td>[[0.91887474]]</td>\n",
              "    </tr>\n",
              "    <tr>\n",
              "      <th>1</th>\n",
              "      <td>поощрить</td>\n",
              "      <td>поощрить</td>\n",
              "      <td>verb is not in model dict</td>\n",
              "      <td>[[0.17637241]]</td>\n",
              "    </tr>\n",
              "    <tr>\n",
              "      <th>2</th>\n",
              "      <td>похвалить</td>\n",
              "      <td>похвалить</td>\n",
              "      <td>[[0.48269153]]</td>\n",
              "      <td>[[0.20982283]]</td>\n",
              "    </tr>\n",
              "    <tr>\n",
              "      <th>3</th>\n",
              "      <td>приветствовать</td>\n",
              "      <td>приветствовать</td>\n",
              "      <td>[[0.5898497]]</td>\n",
              "      <td>[[0.36748838]]</td>\n",
              "    </tr>\n",
              "    <tr>\n",
              "      <th>4</th>\n",
              "      <td>радовать</td>\n",
              "      <td>радовать</td>\n",
              "      <td>[[0.72734857]]</td>\n",
              "      <td>[[0.38311976]]</td>\n",
              "    </tr>\n",
              "  </tbody>\n",
              "</table>\n",
              "</div>"
            ],
            "text/plain": [
              "            verbs        polarity                  w2v_model  fasttext_model\n",
              "0          помочь          помочь  verb is not in model dict  [[0.91887474]]\n",
              "1        поощрить        поощрить  verb is not in model dict  [[0.17637241]]\n",
              "2       похвалить       похвалить             [[0.48269153]]  [[0.20982283]]\n",
              "3  приветствовать  приветствовать              [[0.5898497]]  [[0.36748838]]\n",
              "4        радовать        радовать             [[0.72734857]]  [[0.38311976]]"
            ]
          },
          "metadata": {
            "tags": []
          },
          "execution_count": 151
        }
      ]
    },
    {
      "cell_type": "code",
      "metadata": {
        "id": "ZUbl_ikQOEo5",
        "colab_type": "code",
        "colab": {
          "base_uri": "https://localhost:8080/",
          "height": 979
        },
        "outputId": "3ee32fb7-5e5a-431b-ab93-e2d31e2c63cc"
      },
      "source": [
        "df_pos.head(30)"
      ],
      "execution_count": 156,
      "outputs": [
        {
          "output_type": "execute_result",
          "data": {
            "text/html": [
              "<div>\n",
              "<style scoped>\n",
              "    .dataframe tbody tr th:only-of-type {\n",
              "        vertical-align: middle;\n",
              "    }\n",
              "\n",
              "    .dataframe tbody tr th {\n",
              "        vertical-align: top;\n",
              "    }\n",
              "\n",
              "    .dataframe thead th {\n",
              "        text-align: right;\n",
              "    }\n",
              "</style>\n",
              "<table border=\"1\" class=\"dataframe\">\n",
              "  <thead>\n",
              "    <tr style=\"text-align: right;\">\n",
              "      <th></th>\n",
              "      <th>verbs</th>\n",
              "      <th>polarity</th>\n",
              "      <th>w2v_model</th>\n",
              "      <th>fasttext_model</th>\n",
              "    </tr>\n",
              "  </thead>\n",
              "  <tbody>\n",
              "    <tr>\n",
              "      <th>0</th>\n",
              "      <td>помочь</td>\n",
              "      <td>помочь</td>\n",
              "      <td>verb is not in model dict</td>\n",
              "      <td>[[0.91887474]]</td>\n",
              "    </tr>\n",
              "    <tr>\n",
              "      <th>1</th>\n",
              "      <td>поощрить</td>\n",
              "      <td>поощрить</td>\n",
              "      <td>verb is not in model dict</td>\n",
              "      <td>[[0.17637241]]</td>\n",
              "    </tr>\n",
              "    <tr>\n",
              "      <th>2</th>\n",
              "      <td>похвалить</td>\n",
              "      <td>похвалить</td>\n",
              "      <td>[[0.48269153]]</td>\n",
              "      <td>[[0.20982283]]</td>\n",
              "    </tr>\n",
              "    <tr>\n",
              "      <th>3</th>\n",
              "      <td>приветствовать</td>\n",
              "      <td>приветствовать</td>\n",
              "      <td>[[0.5898497]]</td>\n",
              "      <td>[[0.36748838]]</td>\n",
              "    </tr>\n",
              "    <tr>\n",
              "      <th>4</th>\n",
              "      <td>радовать</td>\n",
              "      <td>радовать</td>\n",
              "      <td>[[0.72734857]]</td>\n",
              "      <td>[[0.38311976]]</td>\n",
              "    </tr>\n",
              "    <tr>\n",
              "      <th>5</th>\n",
              "      <td>дарить</td>\n",
              "      <td>дарить радость</td>\n",
              "      <td>[[0.752011]]</td>\n",
              "      <td>[[0.48386037]]</td>\n",
              "    </tr>\n",
              "    <tr>\n",
              "      <th>6</th>\n",
              "      <td>доставить</td>\n",
              "      <td>доставить радость</td>\n",
              "      <td>verb is not in model dict</td>\n",
              "      <td>[[0.50851893]]</td>\n",
              "    </tr>\n",
              "    <tr>\n",
              "      <th>7</th>\n",
              "      <td>доставлять</td>\n",
              "      <td>доставлять радость</td>\n",
              "      <td>[[0.9204415]]</td>\n",
              "      <td>[[0.530205]]</td>\n",
              "    </tr>\n",
              "    <tr>\n",
              "      <th>8</th>\n",
              "      <td>подарить</td>\n",
              "      <td>подарить радость</td>\n",
              "      <td>[[0.78662884]]</td>\n",
              "      <td>[[0.44142973]]</td>\n",
              "    </tr>\n",
              "    <tr>\n",
              "      <th>9</th>\n",
              "      <td>спасти</td>\n",
              "      <td>спасти</td>\n",
              "      <td>verb is not in model dict</td>\n",
              "      <td>[[0.6940966]]</td>\n",
              "    </tr>\n",
              "    <tr>\n",
              "      <th>10</th>\n",
              "      <td>защитить</td>\n",
              "      <td>защитить</td>\n",
              "      <td>verb is not in model dict</td>\n",
              "      <td>[[0.44456375]]</td>\n",
              "    </tr>\n",
              "    <tr>\n",
              "      <th>11</th>\n",
              "      <td>обеспечивать</td>\n",
              "      <td>обеспечивать безопасность</td>\n",
              "      <td>[[0.79350126]]</td>\n",
              "      <td>[[0.48235142]]</td>\n",
              "    </tr>\n",
              "    <tr>\n",
              "      <th>12</th>\n",
              "      <td>обеспечить</td>\n",
              "      <td>обеспечить безопасность</td>\n",
              "      <td>verb is not in model dict</td>\n",
              "      <td>[[0.46517622]]</td>\n",
              "    </tr>\n",
              "    <tr>\n",
              "      <th>13</th>\n",
              "      <td>популяризовать</td>\n",
              "      <td>популяризовать</td>\n",
              "      <td>[[0.74562895]]</td>\n",
              "      <td>verb is not in model dict</td>\n",
              "    </tr>\n",
              "    <tr>\n",
              "      <th>14</th>\n",
              "      <td>придавать</td>\n",
              "      <td>придавать известность</td>\n",
              "      <td>[[0.7793457]]</td>\n",
              "      <td>[[0.42259485]]</td>\n",
              "    </tr>\n",
              "    <tr>\n",
              "      <th>15</th>\n",
              "      <td>придать</td>\n",
              "      <td>придать известность</td>\n",
              "      <td>verb is not in model dict</td>\n",
              "      <td>[[0.41585326]]</td>\n",
              "    </tr>\n",
              "    <tr>\n",
              "      <th>16</th>\n",
              "      <td>оправдать</td>\n",
              "      <td>оправдать</td>\n",
              "      <td>verb is not in model dict</td>\n",
              "      <td>[[0.39671594]]</td>\n",
              "    </tr>\n",
              "    <tr>\n",
              "      <th>17</th>\n",
              "      <td>найти</td>\n",
              "      <td>найти оправдание</td>\n",
              "      <td>verb is not in model dict</td>\n",
              "      <td>[[0.6938143]]</td>\n",
              "    </tr>\n",
              "    <tr>\n",
              "      <th>18</th>\n",
              "      <td>обелить</td>\n",
              "      <td>обелить</td>\n",
              "      <td>verb is not in model dict</td>\n",
              "      <td>[[0.4901539]]</td>\n",
              "    </tr>\n",
              "    <tr>\n",
              "      <th>19</th>\n",
              "      <td>испытывать</td>\n",
              "      <td>испытывать энтузиазм</td>\n",
              "      <td>[[0.8390035]]</td>\n",
              "      <td>[[0.52643347]]</td>\n",
              "    </tr>\n",
              "    <tr>\n",
              "      <th>20</th>\n",
              "      <td>дарить</td>\n",
              "      <td>дарить</td>\n",
              "      <td>[[0.752011]]</td>\n",
              "      <td>[[0.48386037]]</td>\n",
              "    </tr>\n",
              "    <tr>\n",
              "      <th>21</th>\n",
              "      <td>вручать</td>\n",
              "      <td>торжественно вручать</td>\n",
              "      <td>[[0.7324604]]</td>\n",
              "      <td>[[0.47754645]]</td>\n",
              "    </tr>\n",
              "    <tr>\n",
              "      <th>22</th>\n",
              "      <td>вручить</td>\n",
              "      <td>торжественно вручить</td>\n",
              "      <td>verb is not in model dict</td>\n",
              "      <td>[[0.54100215]]</td>\n",
              "    </tr>\n",
              "    <tr>\n",
              "      <th>23</th>\n",
              "      <td>поздравить</td>\n",
              "      <td>поздравить</td>\n",
              "      <td>verb is not in model dict</td>\n",
              "      <td>[[0.55263364]]</td>\n",
              "    </tr>\n",
              "    <tr>\n",
              "      <th>24</th>\n",
              "      <td>перехвалить</td>\n",
              "      <td>перехвалить</td>\n",
              "      <td>verb is not in model dict</td>\n",
              "      <td>[[0.3506868]]</td>\n",
              "    </tr>\n",
              "    <tr>\n",
              "      <th>25</th>\n",
              "      <td>ладить</td>\n",
              "      <td>ладить</td>\n",
              "      <td>[[0.68118834]]</td>\n",
              "      <td>[[0.38914347]]</td>\n",
              "    </tr>\n",
              "    <tr>\n",
              "      <th>26</th>\n",
              "      <td>выгородить</td>\n",
              "      <td>выгородить</td>\n",
              "      <td>verb is not in model dict</td>\n",
              "      <td>[[0.56322753]]</td>\n",
              "    </tr>\n",
              "    <tr>\n",
              "      <th>27</th>\n",
              "      <td>укрыть</td>\n",
              "      <td>укрыть</td>\n",
              "      <td>verb is not in model dict</td>\n",
              "      <td>[[0.74731386]]</td>\n",
              "    </tr>\n",
              "    <tr>\n",
              "      <th>28</th>\n",
              "      <td>утаить</td>\n",
              "      <td>утаить</td>\n",
              "      <td>verb is not in model dict</td>\n",
              "      <td>[[0.5114364]]</td>\n",
              "    </tr>\n",
              "    <tr>\n",
              "      <th>29</th>\n",
              "      <td>спонсировать</td>\n",
              "      <td>спонсировать</td>\n",
              "      <td>[[0.70913476]]</td>\n",
              "      <td>[[0.4002542]]</td>\n",
              "    </tr>\n",
              "  </tbody>\n",
              "</table>\n",
              "</div>"
            ],
            "text/plain": [
              "             verbs  ...             fasttext_model\n",
              "0           помочь  ...             [[0.91887474]]\n",
              "1         поощрить  ...             [[0.17637241]]\n",
              "2        похвалить  ...             [[0.20982283]]\n",
              "3   приветствовать  ...             [[0.36748838]]\n",
              "4         радовать  ...             [[0.38311976]]\n",
              "5           дарить  ...             [[0.48386037]]\n",
              "6        доставить  ...             [[0.50851893]]\n",
              "7       доставлять  ...               [[0.530205]]\n",
              "8         подарить  ...             [[0.44142973]]\n",
              "9           спасти  ...              [[0.6940966]]\n",
              "10        защитить  ...             [[0.44456375]]\n",
              "11    обеспечивать  ...             [[0.48235142]]\n",
              "12      обеспечить  ...             [[0.46517622]]\n",
              "13  популяризовать  ...  verb is not in model dict\n",
              "14       придавать  ...             [[0.42259485]]\n",
              "15         придать  ...             [[0.41585326]]\n",
              "16       оправдать  ...             [[0.39671594]]\n",
              "17           найти  ...              [[0.6938143]]\n",
              "18         обелить  ...              [[0.4901539]]\n",
              "19      испытывать  ...             [[0.52643347]]\n",
              "20          дарить  ...             [[0.48386037]]\n",
              "21         вручать  ...             [[0.47754645]]\n",
              "22         вручить  ...             [[0.54100215]]\n",
              "23      поздравить  ...             [[0.55263364]]\n",
              "24     перехвалить  ...              [[0.3506868]]\n",
              "25          ладить  ...             [[0.38914347]]\n",
              "26      выгородить  ...             [[0.56322753]]\n",
              "27          укрыть  ...             [[0.74731386]]\n",
              "28          утаить  ...              [[0.5114364]]\n",
              "29    спонсировать  ...              [[0.4002542]]\n",
              "\n",
              "[30 rows x 4 columns]"
            ]
          },
          "metadata": {
            "tags": []
          },
          "execution_count": 156
        }
      ]
    },
    {
      "cell_type": "code",
      "metadata": {
        "id": "hyeZz7_3OEuX",
        "colab_type": "code",
        "colab": {
          "base_uri": "https://localhost:8080/",
          "height": 979
        },
        "outputId": "d17d1302-31ab-446b-b498-492ecee1f005"
      },
      "source": [
        "df_neg.head(30)"
      ],
      "execution_count": 157,
      "outputs": [
        {
          "output_type": "execute_result",
          "data": {
            "text/html": [
              "<div>\n",
              "<style scoped>\n",
              "    .dataframe tbody tr th:only-of-type {\n",
              "        vertical-align: middle;\n",
              "    }\n",
              "\n",
              "    .dataframe tbody tr th {\n",
              "        vertical-align: top;\n",
              "    }\n",
              "\n",
              "    .dataframe thead th {\n",
              "        text-align: right;\n",
              "    }\n",
              "</style>\n",
              "<table border=\"1\" class=\"dataframe\">\n",
              "  <thead>\n",
              "    <tr style=\"text-align: right;\">\n",
              "      <th></th>\n",
              "      <th>verbs</th>\n",
              "      <th>polarity</th>\n",
              "      <th>w2v_model</th>\n",
              "      <th>fasttext_model</th>\n",
              "    </tr>\n",
              "  </thead>\n",
              "  <tbody>\n",
              "    <tr>\n",
              "      <th>0</th>\n",
              "      <td>повредить</td>\n",
              "      <td>повредить</td>\n",
              "      <td>verb is not in model dict</td>\n",
              "      <td>[[0.5450003]]</td>\n",
              "    </tr>\n",
              "    <tr>\n",
              "      <th>1</th>\n",
              "      <td>испортить</td>\n",
              "      <td>испортить</td>\n",
              "      <td>[[0.78414404]]</td>\n",
              "      <td>[[0.41191667]]</td>\n",
              "    </tr>\n",
              "    <tr>\n",
              "      <th>2</th>\n",
              "      <td>обеспокоить</td>\n",
              "      <td>обеспокоить</td>\n",
              "      <td>[[0.7456583]]</td>\n",
              "      <td>[[0.5044007]]</td>\n",
              "    </tr>\n",
              "    <tr>\n",
              "      <th>3</th>\n",
              "      <td>потрясти</td>\n",
              "      <td>потрясти до глубины души</td>\n",
              "      <td>verb is not in model dict</td>\n",
              "      <td>[[0.69239753]]</td>\n",
              "    </tr>\n",
              "    <tr>\n",
              "      <th>4</th>\n",
              "      <td>доминировать</td>\n",
              "      <td>доминировать</td>\n",
              "      <td>[[0.8056042]]</td>\n",
              "      <td>[[0.52223873]]</td>\n",
              "    </tr>\n",
              "    <tr>\n",
              "      <th>5</th>\n",
              "      <td>выследить</td>\n",
              "      <td>выследить</td>\n",
              "      <td>verb is not in model dict</td>\n",
              "      <td>[[0.52639043]]</td>\n",
              "    </tr>\n",
              "    <tr>\n",
              "      <th>6</th>\n",
              "      <td>настичь</td>\n",
              "      <td>настичь</td>\n",
              "      <td>verb is not in model dict</td>\n",
              "      <td>[[0.9443023]]</td>\n",
              "    </tr>\n",
              "    <tr>\n",
              "      <th>7</th>\n",
              "      <td>догнать</td>\n",
              "      <td>догнать</td>\n",
              "      <td>[[0.87338156]]</td>\n",
              "      <td>[[0.5594841]]</td>\n",
              "    </tr>\n",
              "    <tr>\n",
              "      <th>8</th>\n",
              "      <td>ворваться</td>\n",
              "      <td>ворваться</td>\n",
              "      <td>[[0.9255186]]</td>\n",
              "      <td>[[0.7055975]]</td>\n",
              "    </tr>\n",
              "    <tr>\n",
              "      <th>9</th>\n",
              "      <td>ловить</td>\n",
              "      <td>ловить</td>\n",
              "      <td>[[0.79371715]]</td>\n",
              "      <td>[[0.50638425]]</td>\n",
              "    </tr>\n",
              "    <tr>\n",
              "      <th>10</th>\n",
              "      <td>поймать</td>\n",
              "      <td>поймать</td>\n",
              "      <td>[[0.8210927]]</td>\n",
              "      <td>[[0.5714307]]</td>\n",
              "    </tr>\n",
              "    <tr>\n",
              "      <th>11</th>\n",
              "      <td>хапать</td>\n",
              "      <td>хапать</td>\n",
              "      <td>[[0.85194755]]</td>\n",
              "      <td>[[0.45391452]]</td>\n",
              "    </tr>\n",
              "    <tr>\n",
              "      <th>12</th>\n",
              "      <td>отказать</td>\n",
              "      <td>отказать</td>\n",
              "      <td>verb is not in model dict</td>\n",
              "      <td>[[0.4491955]]</td>\n",
              "    </tr>\n",
              "    <tr>\n",
              "      <th>13</th>\n",
              "      <td>ответить</td>\n",
              "      <td>ответить отрицательно</td>\n",
              "      <td>verb is not in model dict</td>\n",
              "      <td>[[0.4575534]]</td>\n",
              "    </tr>\n",
              "    <tr>\n",
              "      <th>14</th>\n",
              "      <td>грозить</td>\n",
              "      <td>грозить</td>\n",
              "      <td>[[0.8440592]]</td>\n",
              "      <td>[[0.6490394]]</td>\n",
              "    </tr>\n",
              "    <tr>\n",
              "      <th>15</th>\n",
              "      <td>нести</td>\n",
              "      <td>нести угрозу</td>\n",
              "      <td>[[0.8508465]]</td>\n",
              "      <td>[[0.58552516]]</td>\n",
              "    </tr>\n",
              "    <tr>\n",
              "      <th>16</th>\n",
              "      <td>подозревать</td>\n",
              "      <td>подозревать</td>\n",
              "      <td>[[0.8594307]]</td>\n",
              "      <td>[[0.48679084]]</td>\n",
              "    </tr>\n",
              "    <tr>\n",
              "      <th>17</th>\n",
              "      <td>глядеть</td>\n",
              "      <td>косо глядеть</td>\n",
              "      <td>[[0.7164106]]</td>\n",
              "      <td>[[0.76618373]]</td>\n",
              "    </tr>\n",
              "    <tr>\n",
              "      <th>18</th>\n",
              "      <td>смотреть</td>\n",
              "      <td>косо смотреть</td>\n",
              "      <td>[[0.8164156]]</td>\n",
              "      <td>[[0.70559055]]</td>\n",
              "    </tr>\n",
              "    <tr>\n",
              "      <th>19</th>\n",
              "      <td>убить</td>\n",
              "      <td>убить</td>\n",
              "      <td>verb is not in model dict</td>\n",
              "      <td>[[0.60424435]]</td>\n",
              "    </tr>\n",
              "    <tr>\n",
              "      <th>20</th>\n",
              "      <td>забивать</td>\n",
              "      <td>забивать насмерть</td>\n",
              "      <td>[[0.8355135]]</td>\n",
              "      <td>[[0.5114877]]</td>\n",
              "    </tr>\n",
              "    <tr>\n",
              "      <th>21</th>\n",
              "      <td>забить</td>\n",
              "      <td>забить насмерть</td>\n",
              "      <td>verb is not in model dict</td>\n",
              "      <td>[[0.61272573]]</td>\n",
              "    </tr>\n",
              "    <tr>\n",
              "      <th>22</th>\n",
              "      <td>загрызть</td>\n",
              "      <td>загрызть насмерть</td>\n",
              "      <td>verb is not in model dict</td>\n",
              "      <td>[[0.6816953]]</td>\n",
              "    </tr>\n",
              "    <tr>\n",
              "      <th>23</th>\n",
              "      <td>задавить</td>\n",
              "      <td>задавить насмерть</td>\n",
              "      <td>verb is not in model dict</td>\n",
              "      <td>[[0.53683317]]</td>\n",
              "    </tr>\n",
              "    <tr>\n",
              "      <th>24</th>\n",
              "      <td>пришить</td>\n",
              "      <td>пришить</td>\n",
              "      <td>verb is not in model dict</td>\n",
              "      <td>[[0.48427522]]</td>\n",
              "    </tr>\n",
              "    <tr>\n",
              "      <th>25</th>\n",
              "      <td>укокошить</td>\n",
              "      <td>укокошить</td>\n",
              "      <td>verb is not in model dict</td>\n",
              "      <td>[[0.52480125]]</td>\n",
              "    </tr>\n",
              "    <tr>\n",
              "      <th>26</th>\n",
              "      <td>мешать</td>\n",
              "      <td>мешать</td>\n",
              "      <td>[[0.7172146]]</td>\n",
              "      <td>[[0.44374168]]</td>\n",
              "    </tr>\n",
              "    <tr>\n",
              "      <th>27</th>\n",
              "      <td>создавать</td>\n",
              "      <td>создавать препятствия</td>\n",
              "      <td>[[0.8059919]]</td>\n",
              "      <td>[[0.5341896]]</td>\n",
              "    </tr>\n",
              "    <tr>\n",
              "      <th>28</th>\n",
              "      <td>тормозить</td>\n",
              "      <td>тормозить деятельность</td>\n",
              "      <td>[[0.7333392]]</td>\n",
              "      <td>[[0.5784888]]</td>\n",
              "    </tr>\n",
              "    <tr>\n",
              "      <th>29</th>\n",
              "      <td>роптать</td>\n",
              "      <td>роптать</td>\n",
              "      <td>[[0.75463647]]</td>\n",
              "      <td>[[0.44212633]]</td>\n",
              "    </tr>\n",
              "  </tbody>\n",
              "</table>\n",
              "</div>"
            ],
            "text/plain": [
              "           verbs  ...  fasttext_model\n",
              "0      повредить  ...   [[0.5450003]]\n",
              "1      испортить  ...  [[0.41191667]]\n",
              "2    обеспокоить  ...   [[0.5044007]]\n",
              "3       потрясти  ...  [[0.69239753]]\n",
              "4   доминировать  ...  [[0.52223873]]\n",
              "5      выследить  ...  [[0.52639043]]\n",
              "6        настичь  ...   [[0.9443023]]\n",
              "7        догнать  ...   [[0.5594841]]\n",
              "8      ворваться  ...   [[0.7055975]]\n",
              "9         ловить  ...  [[0.50638425]]\n",
              "10       поймать  ...   [[0.5714307]]\n",
              "11        хапать  ...  [[0.45391452]]\n",
              "12      отказать  ...   [[0.4491955]]\n",
              "13      ответить  ...   [[0.4575534]]\n",
              "14       грозить  ...   [[0.6490394]]\n",
              "15         нести  ...  [[0.58552516]]\n",
              "16   подозревать  ...  [[0.48679084]]\n",
              "17       глядеть  ...  [[0.76618373]]\n",
              "18      смотреть  ...  [[0.70559055]]\n",
              "19         убить  ...  [[0.60424435]]\n",
              "20      забивать  ...   [[0.5114877]]\n",
              "21        забить  ...  [[0.61272573]]\n",
              "22      загрызть  ...   [[0.6816953]]\n",
              "23      задавить  ...  [[0.53683317]]\n",
              "24       пришить  ...  [[0.48427522]]\n",
              "25     укокошить  ...  [[0.52480125]]\n",
              "26        мешать  ...  [[0.44374168]]\n",
              "27     создавать  ...   [[0.5341896]]\n",
              "28     тормозить  ...   [[0.5784888]]\n",
              "29       роптать  ...  [[0.44212633]]\n",
              "\n",
              "[30 rows x 4 columns]"
            ]
          },
          "metadata": {
            "tags": []
          },
          "execution_count": 157
        }
      ]
    },
    {
      "cell_type": "markdown",
      "metadata": {
        "id": "Qj-cGwJ9EsW-",
        "colab_type": "text"
      },
      "source": [
        "## **Попробуем другие сидовые множества.**"
      ]
    },
    {
      "cell_type": "code",
      "metadata": {
        "id": "Ca_ZuNAXOExG",
        "colab_type": "code",
        "colab": {}
      },
      "source": [
        "seed_two_dict = ['осуждать', 'негодовать']"
      ],
      "execution_count": 0,
      "outputs": []
    },
    {
      "cell_type": "code",
      "metadata": {
        "id": "j5X8EAC-OEzW",
        "colab_type": "code",
        "colab": {}
      },
      "source": [
        "seed_two_skipgram = make_sid_embedding(seed_two_dict, skipgram_model)\n",
        "seed_two_fasttext = make_sid_embedding(seed_two_dict, fasttext_model)"
      ],
      "execution_count": 0,
      "outputs": []
    },
    {
      "cell_type": "code",
      "metadata": {
        "id": "i83_R8M6EqmY",
        "colab_type": "code",
        "colab": {}
      },
      "source": [
        "df_all2 = pd.DataFrame({'verbs':all_relations_list, 'phrase':all_relations_pol})\n",
        "df_pos2 = pd.DataFrame({'verbs':pos_relations_list, 'phrase':pos_relations_pol})\n",
        "df_neg2 = pd.DataFrame({'verbs':neg_relations_list, 'phrase':neg_relations_pol})"
      ],
      "execution_count": 0,
      "outputs": []
    },
    {
      "cell_type": "code",
      "metadata": {
        "id": "eX0m-8qcEqkj",
        "colab_type": "code",
        "colab": {
          "base_uri": "https://localhost:8080/",
          "height": 221
        },
        "outputId": "80eb90dd-ee9b-4376-c6a2-994a05f181ea"
      },
      "source": [
        "df_all2['w2v_model'] = add_sim_list(skipgram_model, all_relations_list, seed_two_skipgram)\n",
        "df_all2['fasttext_model'] = add_sim_list(fasttext_model, all_relations_list, seed_two_fasttext)\n",
        "\n",
        "df_pos2['w2v_model'] = add_sim_list(skipgram_model, pos_relations_list, seed_two_skipgram)\n",
        "df_pos2['fasttext_model'] = add_sim_list(fasttext_model, pos_relations_list, seed_two_fasttext)\n",
        "\n",
        "df_neg2['w2v_model'] = add_sim_list(skipgram_model, neg_relations_list, seed_two_skipgram)\n",
        "df_neg2['fasttext_model'] = add_sim_list(fasttext_model, neg_relations_list, seed_two_fasttext)"
      ],
      "execution_count": 178,
      "outputs": [
        {
          "output_type": "stream",
          "text": [
            "169\n",
            "169\n",
            "169\n",
            "169\n",
            "60\n",
            "60\n",
            "60\n",
            "60\n",
            "109\n",
            "109\n",
            "109\n",
            "109\n"
          ],
          "name": "stdout"
        }
      ]
    },
    {
      "cell_type": "code",
      "metadata": {
        "id": "6KytnkL2Eqgp",
        "colab_type": "code",
        "colab": {
          "base_uri": "https://localhost:8080/",
          "height": 204
        },
        "outputId": "c962cfe3-8986-48b4-d962-d8f4300a2374"
      },
      "source": [
        "df_all2.head(5)"
      ],
      "execution_count": 179,
      "outputs": [
        {
          "output_type": "execute_result",
          "data": {
            "text/html": [
              "<div>\n",
              "<style scoped>\n",
              "    .dataframe tbody tr th:only-of-type {\n",
              "        vertical-align: middle;\n",
              "    }\n",
              "\n",
              "    .dataframe tbody tr th {\n",
              "        vertical-align: top;\n",
              "    }\n",
              "\n",
              "    .dataframe thead th {\n",
              "        text-align: right;\n",
              "    }\n",
              "</style>\n",
              "<table border=\"1\" class=\"dataframe\">\n",
              "  <thead>\n",
              "    <tr style=\"text-align: right;\">\n",
              "      <th></th>\n",
              "      <th>verbs</th>\n",
              "      <th>phrase</th>\n",
              "      <th>w2v_model</th>\n",
              "      <th>fasttext_model</th>\n",
              "    </tr>\n",
              "  </thead>\n",
              "  <tbody>\n",
              "    <tr>\n",
              "      <th>0</th>\n",
              "      <td>помочь</td>\n",
              "      <td>помочь</td>\n",
              "      <td>verb is not in model dict</td>\n",
              "      <td>[[1.0172709]]</td>\n",
              "    </tr>\n",
              "    <tr>\n",
              "      <th>1</th>\n",
              "      <td>поощрить</td>\n",
              "      <td>поощрить</td>\n",
              "      <td>verb is not in model dict</td>\n",
              "      <td>[[0.4265676]]</td>\n",
              "    </tr>\n",
              "    <tr>\n",
              "      <th>2</th>\n",
              "      <td>похвалить</td>\n",
              "      <td>похвалить</td>\n",
              "      <td>[[0.7065598]]</td>\n",
              "      <td>[[0.50444555]]</td>\n",
              "    </tr>\n",
              "    <tr>\n",
              "      <th>3</th>\n",
              "      <td>приветствовать</td>\n",
              "      <td>приветствовать</td>\n",
              "      <td>[[0.74483865]]</td>\n",
              "      <td>[[0.43908948]]</td>\n",
              "    </tr>\n",
              "    <tr>\n",
              "      <th>4</th>\n",
              "      <td>радовать</td>\n",
              "      <td>радовать</td>\n",
              "      <td>[[0.8283391]]</td>\n",
              "      <td>[[0.50327724]]</td>\n",
              "    </tr>\n",
              "  </tbody>\n",
              "</table>\n",
              "</div>"
            ],
            "text/plain": [
              "            verbs          phrase                  w2v_model  fasttext_model\n",
              "0          помочь          помочь  verb is not in model dict   [[1.0172709]]\n",
              "1        поощрить        поощрить  verb is not in model dict   [[0.4265676]]\n",
              "2       похвалить       похвалить              [[0.7065598]]  [[0.50444555]]\n",
              "3  приветствовать  приветствовать             [[0.74483865]]  [[0.43908948]]\n",
              "4        радовать        радовать              [[0.8283391]]  [[0.50327724]]"
            ]
          },
          "metadata": {
            "tags": []
          },
          "execution_count": 179
        }
      ]
    },
    {
      "cell_type": "code",
      "metadata": {
        "id": "TOu47tHiGFtO",
        "colab_type": "code",
        "colab": {
          "base_uri": "https://localhost:8080/",
          "height": 204
        },
        "outputId": "ee2f4ed7-ce00-4211-f7d0-00af390c1232"
      },
      "source": [
        "df_pos2.head(5)"
      ],
      "execution_count": 180,
      "outputs": [
        {
          "output_type": "execute_result",
          "data": {
            "text/html": [
              "<div>\n",
              "<style scoped>\n",
              "    .dataframe tbody tr th:only-of-type {\n",
              "        vertical-align: middle;\n",
              "    }\n",
              "\n",
              "    .dataframe tbody tr th {\n",
              "        vertical-align: top;\n",
              "    }\n",
              "\n",
              "    .dataframe thead th {\n",
              "        text-align: right;\n",
              "    }\n",
              "</style>\n",
              "<table border=\"1\" class=\"dataframe\">\n",
              "  <thead>\n",
              "    <tr style=\"text-align: right;\">\n",
              "      <th></th>\n",
              "      <th>verbs</th>\n",
              "      <th>phrase</th>\n",
              "      <th>w2v_model</th>\n",
              "      <th>fasttext_model</th>\n",
              "    </tr>\n",
              "  </thead>\n",
              "  <tbody>\n",
              "    <tr>\n",
              "      <th>0</th>\n",
              "      <td>помочь</td>\n",
              "      <td>помочь</td>\n",
              "      <td>verb is not in model dict</td>\n",
              "      <td>[[1.0172709]]</td>\n",
              "    </tr>\n",
              "    <tr>\n",
              "      <th>1</th>\n",
              "      <td>поощрить</td>\n",
              "      <td>поощрить</td>\n",
              "      <td>verb is not in model dict</td>\n",
              "      <td>[[0.4265676]]</td>\n",
              "    </tr>\n",
              "    <tr>\n",
              "      <th>2</th>\n",
              "      <td>похвалить</td>\n",
              "      <td>похвалить</td>\n",
              "      <td>[[0.7065598]]</td>\n",
              "      <td>[[0.50444555]]</td>\n",
              "    </tr>\n",
              "    <tr>\n",
              "      <th>3</th>\n",
              "      <td>приветствовать</td>\n",
              "      <td>приветствовать</td>\n",
              "      <td>[[0.74483865]]</td>\n",
              "      <td>[[0.43908948]]</td>\n",
              "    </tr>\n",
              "    <tr>\n",
              "      <th>4</th>\n",
              "      <td>радовать</td>\n",
              "      <td>радовать</td>\n",
              "      <td>[[0.8283391]]</td>\n",
              "      <td>[[0.50327724]]</td>\n",
              "    </tr>\n",
              "  </tbody>\n",
              "</table>\n",
              "</div>"
            ],
            "text/plain": [
              "            verbs          phrase                  w2v_model  fasttext_model\n",
              "0          помочь          помочь  verb is not in model dict   [[1.0172709]]\n",
              "1        поощрить        поощрить  verb is not in model dict   [[0.4265676]]\n",
              "2       похвалить       похвалить              [[0.7065598]]  [[0.50444555]]\n",
              "3  приветствовать  приветствовать             [[0.74483865]]  [[0.43908948]]\n",
              "4        радовать        радовать              [[0.8283391]]  [[0.50327724]]"
            ]
          },
          "metadata": {
            "tags": []
          },
          "execution_count": 180
        }
      ]
    },
    {
      "cell_type": "code",
      "metadata": {
        "id": "veA9Io3kGFzc",
        "colab_type": "code",
        "colab": {
          "base_uri": "https://localhost:8080/",
          "height": 204
        },
        "outputId": "9ffc88e4-0952-44ca-91ab-bce07feff224"
      },
      "source": [
        "df_neg2.head(5)"
      ],
      "execution_count": 181,
      "outputs": [
        {
          "output_type": "execute_result",
          "data": {
            "text/html": [
              "<div>\n",
              "<style scoped>\n",
              "    .dataframe tbody tr th:only-of-type {\n",
              "        vertical-align: middle;\n",
              "    }\n",
              "\n",
              "    .dataframe tbody tr th {\n",
              "        vertical-align: top;\n",
              "    }\n",
              "\n",
              "    .dataframe thead th {\n",
              "        text-align: right;\n",
              "    }\n",
              "</style>\n",
              "<table border=\"1\" class=\"dataframe\">\n",
              "  <thead>\n",
              "    <tr style=\"text-align: right;\">\n",
              "      <th></th>\n",
              "      <th>verbs</th>\n",
              "      <th>phrase</th>\n",
              "      <th>w2v_model</th>\n",
              "      <th>fasttext_model</th>\n",
              "    </tr>\n",
              "  </thead>\n",
              "  <tbody>\n",
              "    <tr>\n",
              "      <th>0</th>\n",
              "      <td>повредить</td>\n",
              "      <td>повредить</td>\n",
              "      <td>verb is not in model dict</td>\n",
              "      <td>[[0.53814566]]</td>\n",
              "    </tr>\n",
              "    <tr>\n",
              "      <th>1</th>\n",
              "      <td>испортить</td>\n",
              "      <td>испортить</td>\n",
              "      <td>[[0.77675235]]</td>\n",
              "      <td>[[0.43742788]]</td>\n",
              "    </tr>\n",
              "    <tr>\n",
              "      <th>2</th>\n",
              "      <td>обеспокоить</td>\n",
              "      <td>обеспокоить</td>\n",
              "      <td>[[0.643383]]</td>\n",
              "      <td>[[0.4523908]]</td>\n",
              "    </tr>\n",
              "    <tr>\n",
              "      <th>3</th>\n",
              "      <td>потрясти</td>\n",
              "      <td>потрясти до глубины души</td>\n",
              "      <td>verb is not in model dict</td>\n",
              "      <td>[[0.6660273]]</td>\n",
              "    </tr>\n",
              "    <tr>\n",
              "      <th>4</th>\n",
              "      <td>доминировать</td>\n",
              "      <td>доминировать</td>\n",
              "      <td>[[0.8884222]]</td>\n",
              "      <td>[[0.46882892]]</td>\n",
              "    </tr>\n",
              "  </tbody>\n",
              "</table>\n",
              "</div>"
            ],
            "text/plain": [
              "          verbs  ...  fasttext_model\n",
              "0     повредить  ...  [[0.53814566]]\n",
              "1     испортить  ...  [[0.43742788]]\n",
              "2   обеспокоить  ...   [[0.4523908]]\n",
              "3      потрясти  ...   [[0.6660273]]\n",
              "4  доминировать  ...  [[0.46882892]]\n",
              "\n",
              "[5 rows x 4 columns]"
            ]
          },
          "metadata": {
            "tags": []
          },
          "execution_count": 181
        }
      ]
    },
    {
      "cell_type": "code",
      "metadata": {
        "id": "_eoy9oRoGFwk",
        "colab_type": "code",
        "colab": {}
      },
      "source": [
        ""
      ],
      "execution_count": 0,
      "outputs": []
    },
    {
      "cell_type": "code",
      "metadata": {
        "id": "gJblDnEDGFql",
        "colab_type": "code",
        "colab": {}
      },
      "source": [
        ""
      ],
      "execution_count": 0,
      "outputs": []
    },
    {
      "cell_type": "code",
      "metadata": {
        "id": "6WgLVh4zOErl",
        "colab_type": "code",
        "colab": {}
      },
      "source": [
        "# vect1 = np.atleast_2d([1, 2, 4])\n",
        "# vect2 = np.atleast_2d([1, 4, 4])\n",
        "# print(cosine_distances(vect1, vect2))\n",
        "# vect1"
      ],
      "execution_count": 0,
      "outputs": []
    },
    {
      "cell_type": "code",
      "metadata": {
        "id": "BqNL85nDJcBx",
        "colab_type": "code",
        "colab": {}
      },
      "source": [
        "# def get_embedding(verbs_list, model, dim=50):\n",
        "    \n",
        "#     # чтобы не доставать одно слово несколько раз\n",
        "#     # сделаем счетчик, а потом векторы домножим на частоту\n",
        "#     words = Counter(verbs_list)\n",
        "#     total = len(verbs_list)\n",
        "#     vectors = np.zeros((len(words), dim))\n",
        "    \n",
        "#     for i,word in enumerate(words):\n",
        "#         try:\n",
        "#             v = model[word]\n",
        "#             vectors[i] = v*(words[word]/total) # просто умножаем вектор на частоту\n",
        "#             print(vectors)\n",
        "#         except (KeyError, ValueError):\n",
        "#             continue\n",
        "    \n",
        "#     if vectors.any():\n",
        "#         vector = np.average(vectors, axis=0)\n",
        "#     else:\n",
        "#         vector = np.zeros((dim))\n",
        "#     return vector\n",
        "\n",
        "# opinion_embedding = get_embedding(opinion_dict, rv_model)\n",
        "# opinion_embedding"
      ],
      "execution_count": 0,
      "outputs": []
    },
    {
      "cell_type": "code",
      "metadata": {
        "id": "jmVKfa8wKBKS",
        "colab_type": "code",
        "colab": {}
      },
      "source": [
        "# opinion_dict = ['одобрять_V', 'хвалить_V', 'поощрять_V']\n",
        "# def make_sid_embedding(seed_dict, model):\n",
        "#   summ = 0\n",
        "#   try:\n",
        "#     for verb in seed_dict:\n",
        "#       #print(model[verb])\n",
        "#       summ = summ + get_embedding(verb, model)\n",
        "#       print(summ)\n",
        "#   except KeyError:\n",
        "#     pass\n",
        "#   vector = summ/len(seed_dict)\n",
        "#   return vector\n",
        "# opinion_embedding = make_sid_embedding(opinion_dict, rv_model)"
      ],
      "execution_count": 0,
      "outputs": []
    },
    {
      "cell_type": "code",
      "metadata": {
        "id": "3Oa2r04QbrBB",
        "colab_type": "code",
        "colab": {}
      },
      "source": [
        "# opinion_embedding"
      ],
      "execution_count": 0,
      "outputs": []
    },
    {
      "cell_type": "code",
      "metadata": {
        "id": "y2m9fHP5CnTu",
        "colab_type": "code",
        "colab": {}
      },
      "source": [
        ""
      ],
      "execution_count": 0,
      "outputs": []
    },
    {
      "cell_type": "code",
      "metadata": {
        "id": "rawHX0VSHtAA",
        "colab_type": "code",
        "outputId": "254ab315-7211-4fb3-bcd5-917bd568460e",
        "colab": {
          "base_uri": "https://localhost:8080/",
          "height": 34
        }
      },
      "source": [
        "def make_similarity_df(base_vect, verbs_for_check_dict, model):\n",
        "  '''\n",
        "  Считает косинусное расстояние с каким-либо подающимся на вход сидовым глаголом глаголов из словаря, полученного с помощью \n",
        "  функции make_group. Возвращает словарь с ключами 'groups', 'base_verb', 'verb' и 'verbs_similarity', \n",
        "  которые потом будут колонками таблицы - датафрейма.\n",
        "  '''\n",
        "\n",
        "  df_dict = Counter()\n",
        "  df_dict['groups'] = []\n",
        "  df_dict['base_verb'] = []\n",
        "  df_dict['verb'] = []\n",
        "  df_dict['verbs_similarity'] = []\n",
        "\n",
        "  #my_base_verb = base_verb + '_V'\n",
        "  for verb in verbs_for_check_dict.keys():\n",
        "    verb_for_check = verb + '_V'\n",
        "    try:\n",
        "      verbs_similarity = model.similarity(base_vect, verb_for_check)\n",
        "      df_dict['groups'].append(str(verbs_for_check_dict[verb]))\n",
        "      df_dict['base_verb'].append(base_verb)\n",
        "      df_dict['verb'].append(verb)\n",
        "      df_dict['verbs_similarity'].append(verbs_similarity)\n",
        "    except KeyError as e:\n",
        "      pass\n",
        "      #print(e)\n",
        "  return df_dict\n",
        "\n",
        "verbs_for_df = make_similarity_df(opinion_embedding, groups_total_dict, rv_model)\n",
        "print('done')"
      ],
      "execution_count": 0,
      "outputs": [
        {
          "output_type": "stream",
          "text": [
            "done\n"
          ],
          "name": "stdout"
        }
      ]
    },
    {
      "cell_type": "code",
      "metadata": {
        "id": "JBEDU194HtCu",
        "colab_type": "code",
        "colab": {}
      },
      "source": [
        "\n",
        "frames_df = pd.DataFrame(verbs_for_df, columns = verbs_for_df.keys()) # тут делается датафрейм"
      ],
      "execution_count": 0,
      "outputs": []
    },
    {
      "cell_type": "code",
      "metadata": {
        "id": "wCwwlsdGHtFG",
        "colab_type": "code",
        "outputId": "0e0392f5-1302-4368-e570-535a55b06b36",
        "colab": {
          "base_uri": "https://localhost:8080/",
          "height": 49
        }
      },
      "source": [
        "frames_df"
      ],
      "execution_count": 0,
      "outputs": [
        {
          "output_type": "execute_result",
          "data": {
            "text/html": [
              "<div>\n",
              "<style scoped>\n",
              "    .dataframe tbody tr th:only-of-type {\n",
              "        vertical-align: middle;\n",
              "    }\n",
              "\n",
              "    .dataframe tbody tr th {\n",
              "        vertical-align: top;\n",
              "    }\n",
              "\n",
              "    .dataframe thead th {\n",
              "        text-align: right;\n",
              "    }\n",
              "</style>\n",
              "<table border=\"1\" class=\"dataframe\">\n",
              "  <thead>\n",
              "    <tr style=\"text-align: right;\">\n",
              "      <th></th>\n",
              "      <th>groups</th>\n",
              "      <th>base_verb</th>\n",
              "      <th>verb</th>\n",
              "      <th>verbs_similarity</th>\n",
              "    </tr>\n",
              "  </thead>\n",
              "  <tbody>\n",
              "  </tbody>\n",
              "</table>\n",
              "</div>"
            ],
            "text/plain": [
              "Empty DataFrame\n",
              "Columns: [groups, base_verb, verb, verbs_similarity]\n",
              "Index: []"
            ]
          },
          "metadata": {
            "tags": []
          },
          "execution_count": 44
        }
      ]
    },
    {
      "cell_type": "code",
      "metadata": {
        "id": "RaD60ME3BB6D",
        "colab_type": "code",
        "colab": {}
      },
      "source": [
        "\n",
        "# verbs_for_check_dict = {'снимать': [['a0', 'a1', 'neg', 1.0]]}\n",
        "\n",
        "# def just_words_similarity(base_verb, verbs_for_check_dict):\n",
        "#   \"\"\"\n",
        "#   Функция тестовая, проверяет, как работает косинусная близость.\n",
        "#   \"\"\"\n",
        "#   group_dict = Counter()\n",
        "#   my_base_verb = base_verb + '_V'\n",
        "#   for verb in verbs_for_check_dict.keys():\n",
        "#     verb_for_check = verb + '_V'\n",
        "#     similarity = mystem_skipgram_model.similarity(my_base_verb, verb_for_check)\n",
        "#     group_dict[str(verbs_for_check_dict[verb])] = [base_verb, verb, similarity]\n",
        "#   return group_dict\n",
        "\n",
        "# just_words_similarity('радоваться', verbs_for_check_dict)\n",
        "\n",
        "\n"
      ],
      "execution_count": 0,
      "outputs": []
    },
    {
      "cell_type": "code",
      "metadata": {
        "id": "5XdwIenPHtHu",
        "colab_type": "code",
        "colab": {}
      },
      "source": [
        ""
      ],
      "execution_count": 0,
      "outputs": []
    },
    {
      "cell_type": "code",
      "metadata": {
        "id": "GVcLWwG9BB3T",
        "colab_type": "code",
        "colab": {}
      },
      "source": [
        ""
      ],
      "execution_count": 0,
      "outputs": []
    }
  ]
}