{
  "nbformat": 4,
  "nbformat_minor": 0,
  "metadata": {
    "colab": {
      "name": "Untitled36.ipynb",
      "provenance": [],
      "authorship_tag": "ABX9TyOb2rHzUIapZFLKMKpdfV/9",
      "include_colab_link": true
    },
    "kernelspec": {
      "name": "python3",
      "display_name": "Python 3"
    }
  },
  "cells": [
    {
      "cell_type": "markdown",
      "metadata": {
        "id": "view-in-github",
        "colab_type": "text"
      },
      "source": [
        "<a href=\"https://colab.research.google.com/github/DmitryKutsev/NIS_SentiFrame/blob/master/fasttext_research.ipynb\" target=\"_parent\"><img src=\"https://colab.research.google.com/assets/colab-badge.svg\" alt=\"Open In Colab\"/></a>"
      ]
    },
    {
      "cell_type": "code",
      "metadata": {
        "id": "EBSzP7KNeaBN",
        "colab_type": "code",
        "colab": {}
      },
      "source": [
        "import pandas as pd"
      ],
      "execution_count": 0,
      "outputs": []
    },
    {
      "cell_type": "code",
      "metadata": {
        "id": "DZC3WFhNuWTL",
        "colab_type": "code",
        "colab": {}
      },
      "source": [
        "senti_df = pd.read_csv(\\\n",
        "    'https://raw.githubusercontent.com/DmitryKutsev/NIS_SentiFrame/master/annotations/SENTIFRAME%20-%20case_annotation.csv')"
      ],
      "execution_count": 0,
      "outputs": []
    },
    {
      "cell_type": "code",
      "metadata": {
        "id": "5ti2B-IPunTx",
        "colab_type": "code",
        "outputId": "f953872c-9230-4cc7-8628-c08de0bad3e4",
        "colab": {
          "base_uri": "https://localhost:8080/",
          "height": 539
        }
      },
      "source": [
        "senti_df"
      ],
      "execution_count": 53,
      "outputs": [
        {
          "output_type": "execute_result",
          "data": {
            "text/html": [
              "<div>\n",
              "<style scoped>\n",
              "    .dataframe tbody tr th:only-of-type {\n",
              "        vertical-align: middle;\n",
              "    }\n",
              "\n",
              "    .dataframe tbody tr th {\n",
              "        vertical-align: top;\n",
              "    }\n",
              "\n",
              "    .dataframe thead th {\n",
              "        text-align: right;\n",
              "    }\n",
              "</style>\n",
              "<table border=\"1\" class=\"dataframe\">\n",
              "  <thead>\n",
              "    <tr style=\"text-align: right;\">\n",
              "      <th></th>\n",
              "      <th>verb</th>\n",
              "      <th>polar_or_not</th>\n",
              "      <th>polarity_dima</th>\n",
              "      <th>polarity_ira</th>\n",
              "      <th>polarity_masha</th>\n",
              "      <th>падеж первого аргумента, по умолчанию nomn</th>\n",
              "      <th>падеж второго аргумента в нотации pymorphy2, по умолчанию accs</th>\n",
              "      <th>Комментарий</th>\n",
              "      <th>\"Класс\"</th>\n",
              "      <th>rel(А0,A1)</th>\n",
              "      <th>rel(А1,A0)</th>\n",
              "    </tr>\n",
              "  </thead>\n",
              "  <tbody>\n",
              "    <tr>\n",
              "      <th>0</th>\n",
              "      <td>арестовать</td>\n",
              "      <td>6</td>\n",
              "      <td>0</td>\n",
              "      <td>0</td>\n",
              "      <td>0</td>\n",
              "      <td>NaN</td>\n",
              "      <td>accs</td>\n",
              "      <td>NaN</td>\n",
              "      <td>NaN</td>\n",
              "      <td>NaN</td>\n",
              "      <td>NaN</td>\n",
              "    </tr>\n",
              "    <tr>\n",
              "      <th>1</th>\n",
              "      <td>арестовывать</td>\n",
              "      <td>6</td>\n",
              "      <td>0</td>\n",
              "      <td>0</td>\n",
              "      <td>0</td>\n",
              "      <td>NaN</td>\n",
              "      <td>accs</td>\n",
              "      <td>NaN</td>\n",
              "      <td>NaN</td>\n",
              "      <td>NaN</td>\n",
              "      <td>NaN</td>\n",
              "    </tr>\n",
              "    <tr>\n",
              "      <th>2</th>\n",
              "      <td>атаковать</td>\n",
              "      <td>6</td>\n",
              "      <td>0</td>\n",
              "      <td>0</td>\n",
              "      <td>0</td>\n",
              "      <td>NaN</td>\n",
              "      <td>accs</td>\n",
              "      <td>NaN</td>\n",
              "      <td>NaN</td>\n",
              "      <td>NaN</td>\n",
              "      <td>NaN</td>\n",
              "    </tr>\n",
              "    <tr>\n",
              "      <th>3</th>\n",
              "      <td>беречь</td>\n",
              "      <td>3</td>\n",
              "      <td>1</td>\n",
              "      <td>1</td>\n",
              "      <td>1</td>\n",
              "      <td>NaN</td>\n",
              "      <td>accs</td>\n",
              "      <td>NaN</td>\n",
              "      <td>NaN</td>\n",
              "      <td>NaN</td>\n",
              "      <td>NaN</td>\n",
              "    </tr>\n",
              "    <tr>\n",
              "      <th>4</th>\n",
              "      <td>беспокоить</td>\n",
              "      <td>6</td>\n",
              "      <td>0</td>\n",
              "      <td>0</td>\n",
              "      <td>0</td>\n",
              "      <td>NaN</td>\n",
              "      <td>accs</td>\n",
              "      <td>NaN</td>\n",
              "      <td>NaN</td>\n",
              "      <td>NaN</td>\n",
              "      <td>NaN</td>\n",
              "    </tr>\n",
              "    <tr>\n",
              "      <th>...</th>\n",
              "      <td>...</td>\n",
              "      <td>...</td>\n",
              "      <td>...</td>\n",
              "      <td>...</td>\n",
              "      <td>...</td>\n",
              "      <td>...</td>\n",
              "      <td>...</td>\n",
              "      <td>...</td>\n",
              "      <td>...</td>\n",
              "      <td>...</td>\n",
              "      <td>...</td>\n",
              "    </tr>\n",
              "    <tr>\n",
              "      <th>440</th>\n",
              "      <td>шантажировать</td>\n",
              "      <td>6</td>\n",
              "      <td>0</td>\n",
              "      <td>0</td>\n",
              "      <td>0</td>\n",
              "      <td>NaN</td>\n",
              "      <td>accs</td>\n",
              "      <td>NaN</td>\n",
              "      <td>NaN</td>\n",
              "      <td>NaN</td>\n",
              "      <td>NaN</td>\n",
              "    </tr>\n",
              "    <tr>\n",
              "      <th>441</th>\n",
              "      <td>шокировать</td>\n",
              "      <td>3</td>\n",
              "      <td>0</td>\n",
              "      <td>0</td>\n",
              "      <td>0</td>\n",
              "      <td>NaN</td>\n",
              "      <td>accs</td>\n",
              "      <td>NaN</td>\n",
              "      <td>NaN</td>\n",
              "      <td>NaN</td>\n",
              "      <td>NaN</td>\n",
              "    </tr>\n",
              "    <tr>\n",
              "      <th>442</th>\n",
              "      <td>штурмовать</td>\n",
              "      <td>6</td>\n",
              "      <td>0</td>\n",
              "      <td>0</td>\n",
              "      <td>0</td>\n",
              "      <td>NaN</td>\n",
              "      <td>accs</td>\n",
              "      <td>NaN</td>\n",
              "      <td>NaN</td>\n",
              "      <td>NaN</td>\n",
              "      <td>NaN</td>\n",
              "    </tr>\n",
              "    <tr>\n",
              "      <th>443</th>\n",
              "      <td>эксплуатировать</td>\n",
              "      <td>3</td>\n",
              "      <td>0</td>\n",
              "      <td>0</td>\n",
              "      <td>0</td>\n",
              "      <td>NaN</td>\n",
              "      <td>accs</td>\n",
              "      <td>NaN</td>\n",
              "      <td>NaN</td>\n",
              "      <td>NaN</td>\n",
              "      <td>NaN</td>\n",
              "    </tr>\n",
              "    <tr>\n",
              "      <th>444</th>\n",
              "      <td>экстрадировать</td>\n",
              "      <td>3</td>\n",
              "      <td>0</td>\n",
              "      <td>0</td>\n",
              "      <td>0</td>\n",
              "      <td>NaN</td>\n",
              "      <td>accs</td>\n",
              "      <td>NaN</td>\n",
              "      <td>NaN</td>\n",
              "      <td>NaN</td>\n",
              "      <td>NaN</td>\n",
              "    </tr>\n",
              "  </tbody>\n",
              "</table>\n",
              "<p>445 rows × 11 columns</p>\n",
              "</div>"
            ],
            "text/plain": [
              "                verb  polar_or_not  ...  rel(А0,A1)  rel(А1,A0)\n",
              "0         арестовать             6  ...         NaN         NaN\n",
              "1       арестовывать             6  ...         NaN         NaN\n",
              "2          атаковать             6  ...         NaN         NaN\n",
              "3             беречь             3  ...         NaN         NaN\n",
              "4         беспокоить             6  ...         NaN         NaN\n",
              "..               ...           ...  ...         ...         ...\n",
              "440    шантажировать             6  ...         NaN         NaN\n",
              "441       шокировать             3  ...         NaN         NaN\n",
              "442       штурмовать             6  ...         NaN         NaN\n",
              "443  эксплуатировать             3  ...         NaN         NaN\n",
              "444   экстрадировать             3  ...         NaN         NaN\n",
              "\n",
              "[445 rows x 11 columns]"
            ]
          },
          "metadata": {
            "tags": []
          },
          "execution_count": 53
        }
      ]
    },
    {
      "cell_type": "code",
      "metadata": {
        "id": "usQaJstbvg4D",
        "colab_type": "code",
        "colab": {}
      },
      "source": [
        "senti_df['polarity_summ'] = senti_df['polarity_masha'] + senti_df['polarity_dima'] + senti_df['polarity_ira']"
      ],
      "execution_count": 0,
      "outputs": []
    },
    {
      "cell_type": "code",
      "metadata": {
        "id": "XX5urUFRv15E",
        "colab_type": "code",
        "colab": {}
      },
      "source": [
        "my_senti_df = senti_df.drop(['polarity_dima', 'polarity_masha', 'polarity_ira', 'падеж первого аргумента, по умолчанию nomn', '\"Класс\"','rel(А0,A1)','rel(А1,A0)'], axis=1)"
      ],
      "execution_count": 0,
      "outputs": []
    },
    {
      "cell_type": "code",
      "metadata": {
        "id": "YgSzmygTw88a",
        "colab_type": "code",
        "colab": {}
      },
      "source": [
        "my_senti_df['падеж второго аргумента в нотации pymorphy2'] = my_senti_df['падеж второго аргумента в нотации pymorphy2, по умолчанию accs']"
      ],
      "execution_count": 0,
      "outputs": []
    },
    {
      "cell_type": "code",
      "metadata": {
        "id": "sWmbkK_Vz1HC",
        "colab_type": "code",
        "outputId": "0df04973-65aa-431a-ddf7-41747efb0b17",
        "colab": {
          "base_uri": "https://localhost:8080/",
          "height": 402
        }
      },
      "source": [
        "my_senti_df = my_senti_df.drop(['падеж второго аргумента в нотации pymorphy2, по умолчанию accs'], axis=1)\n",
        "my_senti_df = my_senti_df.drop(['Комментарий'], axis=1)\n",
        "my_senti_df"
      ],
      "execution_count": 78,
      "outputs": [
        {
          "output_type": "execute_result",
          "data": {
            "text/html": [
              "<div>\n",
              "<style scoped>\n",
              "    .dataframe tbody tr th:only-of-type {\n",
              "        vertical-align: middle;\n",
              "    }\n",
              "\n",
              "    .dataframe tbody tr th {\n",
              "        vertical-align: top;\n",
              "    }\n",
              "\n",
              "    .dataframe thead th {\n",
              "        text-align: right;\n",
              "    }\n",
              "</style>\n",
              "<table border=\"1\" class=\"dataframe\">\n",
              "  <thead>\n",
              "    <tr style=\"text-align: right;\">\n",
              "      <th></th>\n",
              "      <th>verb</th>\n",
              "      <th>polar_or_not</th>\n",
              "      <th>polarity_summ</th>\n",
              "      <th>падеж второго аргумента в нотации pymorphy2</th>\n",
              "    </tr>\n",
              "  </thead>\n",
              "  <tbody>\n",
              "    <tr>\n",
              "      <th>0</th>\n",
              "      <td>арестовать</td>\n",
              "      <td>6</td>\n",
              "      <td>0</td>\n",
              "      <td>accs</td>\n",
              "    </tr>\n",
              "    <tr>\n",
              "      <th>1</th>\n",
              "      <td>арестовывать</td>\n",
              "      <td>6</td>\n",
              "      <td>0</td>\n",
              "      <td>accs</td>\n",
              "    </tr>\n",
              "    <tr>\n",
              "      <th>2</th>\n",
              "      <td>атаковать</td>\n",
              "      <td>6</td>\n",
              "      <td>0</td>\n",
              "      <td>accs</td>\n",
              "    </tr>\n",
              "    <tr>\n",
              "      <th>3</th>\n",
              "      <td>беречь</td>\n",
              "      <td>3</td>\n",
              "      <td>3</td>\n",
              "      <td>accs</td>\n",
              "    </tr>\n",
              "    <tr>\n",
              "      <th>4</th>\n",
              "      <td>беспокоить</td>\n",
              "      <td>6</td>\n",
              "      <td>0</td>\n",
              "      <td>accs</td>\n",
              "    </tr>\n",
              "    <tr>\n",
              "      <th>...</th>\n",
              "      <td>...</td>\n",
              "      <td>...</td>\n",
              "      <td>...</td>\n",
              "      <td>...</td>\n",
              "    </tr>\n",
              "    <tr>\n",
              "      <th>440</th>\n",
              "      <td>шантажировать</td>\n",
              "      <td>6</td>\n",
              "      <td>0</td>\n",
              "      <td>accs</td>\n",
              "    </tr>\n",
              "    <tr>\n",
              "      <th>441</th>\n",
              "      <td>шокировать</td>\n",
              "      <td>3</td>\n",
              "      <td>0</td>\n",
              "      <td>accs</td>\n",
              "    </tr>\n",
              "    <tr>\n",
              "      <th>442</th>\n",
              "      <td>штурмовать</td>\n",
              "      <td>6</td>\n",
              "      <td>0</td>\n",
              "      <td>accs</td>\n",
              "    </tr>\n",
              "    <tr>\n",
              "      <th>443</th>\n",
              "      <td>эксплуатировать</td>\n",
              "      <td>3</td>\n",
              "      <td>0</td>\n",
              "      <td>accs</td>\n",
              "    </tr>\n",
              "    <tr>\n",
              "      <th>444</th>\n",
              "      <td>экстрадировать</td>\n",
              "      <td>3</td>\n",
              "      <td>0</td>\n",
              "      <td>accs</td>\n",
              "    </tr>\n",
              "  </tbody>\n",
              "</table>\n",
              "<p>445 rows × 4 columns</p>\n",
              "</div>"
            ],
            "text/plain": [
              "                verb  ...  падеж второго аргумента в нотации pymorphy2\n",
              "0         арестовать  ...                                         accs\n",
              "1       арестовывать  ...                                         accs\n",
              "2          атаковать  ...                                         accs\n",
              "3             беречь  ...                                         accs\n",
              "4         беспокоить  ...                                         accs\n",
              "..               ...  ...                                          ...\n",
              "440    шантажировать  ...                                         accs\n",
              "441       шокировать  ...                                         accs\n",
              "442       штурмовать  ...                                         accs\n",
              "443  эксплуатировать  ...                                         accs\n",
              "444   экстрадировать  ...                                         accs\n",
              "\n",
              "[445 rows x 4 columns]"
            ]
          },
          "metadata": {
            "tags": []
          },
          "execution_count": 78
        }
      ]
    },
    {
      "cell_type": "code",
      "metadata": {
        "id": "YiE8Ze35z7Gx",
        "colab_type": "code",
        "outputId": "3da1e41c-2325-46b6-ff8d-557c9f7faa64",
        "colab": {
          "base_uri": "https://localhost:8080/",
          "height": 151
        }
      },
      "source": [
        "#tayga_none_fasttextcbow_300_10_2019\n",
        "\n",
        "!wget http://vectors.nlpl.eu/repository/20/187.zip"
      ],
      "execution_count": 58,
      "outputs": [
        {
          "output_type": "stream",
          "text": [
            "--2020-05-15 19:30:38--  http://vectors.nlpl.eu/repository/20/187.zip\n",
            "Resolving vectors.nlpl.eu (vectors.nlpl.eu)... 129.240.189.225\n",
            "Connecting to vectors.nlpl.eu (vectors.nlpl.eu)|129.240.189.225|:80... connected.\n",
            "HTTP request sent, awaiting response... 200 OK\n",
            "Length: 2692389554 (2.5G) [application/zip]\n",
            "Saving to: ‘187.zip.1’\n",
            "\n",
            "187.zip.1             0%[                    ]   1.63M   958KB/s               ^C\n"
          ],
          "name": "stdout"
        }
      ]
    },
    {
      "cell_type": "code",
      "metadata": {
        "id": "WGQ5uasVBK4k",
        "colab_type": "code",
        "outputId": "144c7753-840e-45df-9cd3-e7d569d715fd",
        "colab": {
          "base_uri": "https://localhost:8080/",
          "height": 50
        }
      },
      "source": [
        "!unzip 187.zip"
      ],
      "execution_count": 59,
      "outputs": [
        {
          "output_type": "stream",
          "text": [
            "Archive:  187.zip\n",
            "replace meta.json? [y]es, [n]o, [A]ll, [N]one, [r]ename: N\n"
          ],
          "name": "stdout"
        }
      ]
    },
    {
      "cell_type": "code",
      "metadata": {
        "id": "0T9iYmakhFpI",
        "colab_type": "code",
        "colab": {
          "base_uri": "https://localhost:8080/",
          "height": 202
        },
        "outputId": "d0ea5c80-f1e2-46f3-b699-c8d9adcf2eef"
      },
      "source": [
        "!wget http://vectors.nlpl.eu/repository/20/181.zip"
      ],
      "execution_count": 10,
      "outputs": [
        {
          "output_type": "stream",
          "text": [
            "--2020-05-15 18:08:46--  http://vectors.nlpl.eu/repository/20/181.zip\n",
            "Resolving vectors.nlpl.eu (vectors.nlpl.eu)... 129.240.189.225\n",
            "Connecting to vectors.nlpl.eu (vectors.nlpl.eu)|129.240.189.225|:80... connected.\n",
            "HTTP request sent, awaiting response... 200 OK\n",
            "Length: 2622716250 (2.4G) [application/zip]\n",
            "Saving to: ‘181.zip’\n",
            "\n",
            "181.zip             100%[===================>]   2.44G  21.7MB/s    in 2m 2s   \n",
            "\n",
            "2020-05-15 18:10:49 (20.5 MB/s) - ‘181.zip’ saved [2622716250/2622716250]\n",
            "\n"
          ],
          "name": "stdout"
        }
      ]
    },
    {
      "cell_type": "code",
      "metadata": {
        "id": "rnpDWrHlCf3d",
        "colab_type": "code",
        "outputId": "93d4e732-18b6-42a0-def5-74ff6567816e",
        "colab": {
          "base_uri": "https://localhost:8080/",
          "height": 70
        }
      },
      "source": [
        "fasttext_model = gensim.models.KeyedVectors.load(\"model.model\")"
      ],
      "execution_count": 16,
      "outputs": [
        {
          "output_type": "stream",
          "text": [
            "/usr/local/lib/python3.6/dist-packages/smart_open/smart_open_lib.py:253: UserWarning: This function is deprecated, use smart_open.open instead. See the migration notes for details: https://github.com/RaRe-Technologies/smart_open/blob/master/README.rst#migrating-to-the-new-open-function\n",
            "  'See the migration notes for details: %s' % _MIGRATION_NOTES_URL\n"
          ],
          "name": "stderr"
        }
      ]
    },
    {
      "cell_type": "code",
      "metadata": {
        "id": "otHnzy2ohIQA",
        "colab_type": "code",
        "colab": {
          "base_uri": "https://localhost:8080/",
          "height": 168
        },
        "outputId": "0808eb8d-3110-4aab-a07d-b2ac9dcad6d1"
      },
      "source": [
        "!unzip 181.zip"
      ],
      "execution_count": 19,
      "outputs": [
        {
          "output_type": "stream",
          "text": [
            "Archive:  181.zip\n",
            "replace meta.json? [y]es, [n]o, [A]ll, [N]one, [r]ename: A\n",
            "  inflating: meta.json               \n",
            "  inflating: model.model             \n",
            "  inflating: model.model.vectors_ngrams.npy  y\n",
            "\n",
            "  inflating: model.model.vectors.npy  \n",
            "  inflating: model.model.vectors_vocab.npy  \n",
            "  inflating: README                  \n"
          ],
          "name": "stdout"
        }
      ]
    },
    {
      "cell_type": "code",
      "metadata": {
        "id": "rb2WWaeAhPDN",
        "colab_type": "code",
        "colab": {
          "base_uri": "https://localhost:8080/",
          "height": 70
        },
        "outputId": "cf7dcf40-0f26-481d-9e27-4728664ead24"
      },
      "source": [
        "fasttext_model2 = gensim.models.KeyedVectors.load(\"model.model\")\n"
      ],
      "execution_count": 20,
      "outputs": [
        {
          "output_type": "stream",
          "text": [
            "/usr/local/lib/python3.6/dist-packages/smart_open/smart_open_lib.py:253: UserWarning: This function is deprecated, use smart_open.open instead. See the migration notes for details: https://github.com/RaRe-Technologies/smart_open/blob/master/README.rst#migrating-to-the-new-open-function\n",
            "  'See the migration notes for details: %s' % _MIGRATION_NOTES_URL\n"
          ],
          "name": "stderr"
        }
      ]
    },
    {
      "cell_type": "code",
      "metadata": {
        "id": "RDQshC88BCct",
        "colab_type": "code",
        "outputId": "d6e6842f-e79f-441a-8ce6-6572dcde0158",
        "colab": {
          "base_uri": "https://localhost:8080/",
          "height": 222
        }
      },
      "source": [
        "!wget https://raw.githubusercontent.com/nicolay-r/RuSentiFrames/master/collection.json"
      ],
      "execution_count": 12,
      "outputs": [
        {
          "output_type": "stream",
          "text": [
            "--2020-05-15 18:10:54--  https://raw.githubusercontent.com/nicolay-r/RuSentiFrames/master/collection.json\n",
            "Resolving raw.githubusercontent.com (raw.githubusercontent.com)... 151.101.0.133, 151.101.64.133, 151.101.128.133, ...\n",
            "Connecting to raw.githubusercontent.com (raw.githubusercontent.com)|151.101.0.133|:443... connected.\n",
            "HTTP request sent, awaiting response... 200 OK\n",
            "Length: 674938 (659K) [text/plain]\n",
            "Saving to: ‘collection.json’\n",
            "\n",
            "\rcollection.json       0%[                    ]       0  --.-KB/s               \rcollection.json     100%[===================>] 659.12K  --.-KB/s    in 0.09s   \n",
            "\n",
            "2020-05-15 18:10:54 (7.03 MB/s) - ‘collection.json’ saved [674938/674938]\n",
            "\n"
          ],
          "name": "stdout"
        }
      ]
    },
    {
      "cell_type": "code",
      "metadata": {
        "id": "DjBKP6yZBG6N",
        "colab_type": "code",
        "outputId": "1b1216a0-662e-4094-b59d-7c9195a50c69",
        "colab": {
          "base_uri": "https://localhost:8080/",
          "height": 356
        }
      },
      "source": [
        "!pip install pymorphy2[fast]"
      ],
      "execution_count": 13,
      "outputs": [
        {
          "output_type": "stream",
          "text": [
            "Collecting pymorphy2[fast]\n",
            "\u001b[?25l  Downloading https://files.pythonhosted.org/packages/a3/33/fff9675c68b5f6c63ec8c6e6ff57827dda28a1fa5b2c2d727dffff92dd47/pymorphy2-0.8-py2.py3-none-any.whl (46kB)\n",
            "\r\u001b[K     |███████                         | 10kB 16.9MB/s eta 0:00:01\r\u001b[K     |██████████████▏                 | 20kB 2.2MB/s eta 0:00:01\r\u001b[K     |█████████████████████▎          | 30kB 2.8MB/s eta 0:00:01\r\u001b[K     |████████████████████████████▍   | 40kB 3.1MB/s eta 0:00:01\r\u001b[K     |████████████████████████████████| 51kB 1.9MB/s \n",
            "\u001b[?25hRequirement already satisfied: docopt>=0.6 in /usr/local/lib/python3.6/dist-packages (from pymorphy2[fast]) (0.6.2)\n",
            "Collecting pymorphy2-dicts<3.0,>=2.4\n",
            "\u001b[?25l  Downloading https://files.pythonhosted.org/packages/02/51/2465fd4f72328ab50877b54777764d928da8cb15b74e2680fc1bd8cb3173/pymorphy2_dicts-2.4.393442.3710985-py2.py3-none-any.whl (7.1MB)\n",
            "\u001b[K     |████████████████████████████████| 7.1MB 7.8MB/s \n",
            "\u001b[?25hCollecting dawg-python>=0.7\n",
            "  Downloading https://files.pythonhosted.org/packages/6a/84/ff1ce2071d4c650ec85745766c0047ccc3b5036f1d03559fd46bb38b5eeb/DAWG_Python-0.7.2-py2.py3-none-any.whl\n",
            "Collecting DAWG>=0.7.3; extra == \"fast\"\n",
            "\u001b[?25l  Downloading https://files.pythonhosted.org/packages/b8/ef/91b619a399685f7a0a95a03628006ba814d96293bbbbed234ee66fbdefd9/DAWG-0.8.0.tar.gz (371kB)\n",
            "\u001b[K     |████████████████████████████████| 378kB 44.4MB/s \n",
            "\u001b[?25hBuilding wheels for collected packages: DAWG\n",
            "  Building wheel for DAWG (setup.py) ... \u001b[?25l\u001b[?25hdone\n",
            "  Created wheel for DAWG: filename=DAWG-0.8.0-cp36-cp36m-linux_x86_64.whl size=860902 sha256=b8c1c679bfeaafe41903db68cb68d9772434fa6fa1461f5cba376584085ba3b2\n",
            "  Stored in directory: /root/.cache/pip/wheels/3d/1f/f0/a5b1f9d02e193c997d252c33d215f24dfd7a448bc0166b2a12\n",
            "Successfully built DAWG\n",
            "Installing collected packages: pymorphy2-dicts, dawg-python, DAWG, pymorphy2\n",
            "Successfully installed DAWG-0.8.0 dawg-python-0.7.2 pymorphy2-0.8 pymorphy2-dicts-2.4.393442.3710985\n"
          ],
          "name": "stdout"
        }
      ]
    },
    {
      "cell_type": "code",
      "metadata": {
        "id": "RfE__yUHBPII",
        "colab_type": "code",
        "colab": {}
      },
      "source": [
        "from collections import Counter\n",
        "import json\n",
        "import numpy as np\n",
        "from sklearn.metrics.pairwise import cosine_distances, cosine_similarity\n",
        "import pymorphy2\n",
        "import gensim\n",
        "morph = pymorphy2.MorphAnalyzer()"
      ],
      "execution_count": 0,
      "outputs": []
    },
    {
      "cell_type": "code",
      "metadata": {
        "id": "X_6HEMAABVgW",
        "colab_type": "code",
        "colab": {}
      },
      "source": [
        "positive_multi_seed = ['одобрять', 'хвалить', 'поощрять', 'любить']\n",
        "negative_multi_seed = ['ненавидеть', 'убить', 'ругать', 'злиться']\n",
        "positive_single_seed = ['ценить']\n",
        "negative_single_seed = ['ненавидеть']"
      ],
      "execution_count": 0,
      "outputs": []
    },
    {
      "cell_type": "code",
      "metadata": {
        "id": "sbU9sK06BqSY",
        "colab_type": "code",
        "colab": {}
      },
      "source": [
        "def make_seed_embedding(seed_dict, model):\n",
        "  '''\n",
        "  Принимает на вход список, на выходе дает средний вектор всех слов из этого списка\n",
        "  '''\n",
        "  summ = 0\n",
        "  for verb in seed_dict:\n",
        "    summ = summ + model.get_vector(verb)\n",
        "  vector = summ/len(seed_dict)\n",
        "\n",
        "  return vector\n",
        "\n",
        "positive_multi_embedding = make_seed_embedding(positive_multi_seed, fasttext_model)\n",
        "negative_multi_embedding = make_seed_embedding(negative_multi_seed, fasttext_model)\n",
        "\n",
        "positive_multi_embedding2 = make_seed_embedding(positive_multi_seed, fasttext_model2)\n",
        "negative_multi_embedding2 = make_seed_embedding(negative_multi_seed, fasttext_model2)"
      ],
      "execution_count": 0,
      "outputs": []
    },
    {
      "cell_type": "code",
      "metadata": {
        "id": "DPxb_drMB0mU",
        "colab_type": "code",
        "colab": {}
      },
      "source": [
        "axis = positive_multi_embedding  - negative_multi_embedding\n",
        "axis2 = positive_multi_embedding2  - negative_multi_embedding2"
      ],
      "execution_count": 0,
      "outputs": []
    },
    {
      "cell_type": "code",
      "metadata": {
        "id": "MSAQvU6hCNT2",
        "colab_type": "code",
        "outputId": "61a6c2c1-9698-46dd-9b0d-5fa2dfa7b154",
        "colab": {
          "base_uri": "https://localhost:8080/",
          "height": 34
        }
      },
      "source": [
        "cosine_similarity(np.atleast_2d(fasttext_model.get_vector('беречь')), np.atleast_2d(axis))[0][0]"
      ],
      "execution_count": 140,
      "outputs": [
        {
          "output_type": "execute_result",
          "data": {
            "text/plain": [
              "0.055182472"
            ]
          },
          "metadata": {
            "tags": []
          },
          "execution_count": 140
        }
      ]
    },
    {
      "cell_type": "code",
      "metadata": {
        "id": "ubevKISpj52b",
        "colab_type": "code",
        "colab": {
          "base_uri": "https://localhost:8080/",
          "height": 34
        },
        "outputId": "88c6661b-4004-47a4-e3e1-53adee70675b"
      },
      "source": [
        "cosine_similarity(np.atleast_2d(fasttext_model2.get_vector('беречь')), np.atleast_2d(axis2))[0][0]"
      ],
      "execution_count": 94,
      "outputs": [
        {
          "output_type": "execute_result",
          "data": {
            "text/plain": [
              "-0.022619711"
            ]
          },
          "metadata": {
            "tags": []
          },
          "execution_count": 94
        }
      ]
    },
    {
      "cell_type": "code",
      "metadata": {
        "id": "C8QC5_T5DRwk",
        "colab_type": "code",
        "outputId": "a6d26e82-ecad-433b-cd52-9627b346f866",
        "colab": {
          "base_uri": "https://localhost:8080/",
          "height": 34
        }
      },
      "source": [
        "cosine_similarity(np.atleast_2d(fasttext_model.get_vector('арестовывать')), np.atleast_2d(axis))[0][0]"
      ],
      "execution_count": 95,
      "outputs": [
        {
          "output_type": "execute_result",
          "data": {
            "text/plain": [
              "-0.047116164"
            ]
          },
          "metadata": {
            "tags": []
          },
          "execution_count": 95
        }
      ]
    },
    {
      "cell_type": "code",
      "metadata": {
        "id": "jXV_pnqYkEsB",
        "colab_type": "code",
        "colab": {
          "base_uri": "https://localhost:8080/",
          "height": 34
        },
        "outputId": "1d865ade-b648-4560-fe13-1a4e97ce9c04"
      },
      "source": [
        "cosine_similarity(np.atleast_2d(fasttext_model2.get_vector('арестовывать')), np.atleast_2d(axis2))[0][0]"
      ],
      "execution_count": 96,
      "outputs": [
        {
          "output_type": "execute_result",
          "data": {
            "text/plain": [
              "-0.16251335"
            ]
          },
          "metadata": {
            "tags": []
          },
          "execution_count": 96
        }
      ]
    },
    {
      "cell_type": "code",
      "metadata": {
        "id": "bJaBbkMMDmMx",
        "colab_type": "code",
        "colab": {}
      },
      "source": [
        "fasttext_pol = []\n",
        "cosine_lst = []\n",
        "manual_pol = []\n",
        "treshold = 0.03\n",
        "for i in range(len(my_senti_df['verb'])):\n",
        "  cosine = cosine_similarity(np.atleast_2d(fasttext_model.get_vector(my_senti_df['verb'][i])), \\\n",
        "                             np.atleast_2d(axis))\n",
        "  if cosine >= treshold:\n",
        "    fasttext_pol.append(1)\n",
        "  else:\n",
        "    fasttext_pol.append(0)\n",
        "  cosine_lst.append(cosine[0][0])\n",
        "  if my_senti_df['polarity_summ'][i] > 1:\n",
        "    manual_pol.append(1)\n",
        "  else:\n",
        "    manual_pol.append(0)\n",
        "my_senti_df['fasttext_polarity'] = fasttext_pol\n",
        "my_senti_df['manual_polarity'] = manual_pol\n",
        "my_senti_df['cosine_distance'] = cosine_lst\n",
        "\n",
        "  "
      ],
      "execution_count": 0,
      "outputs": []
    },
    {
      "cell_type": "code",
      "metadata": {
        "id": "SKlMGMuNkMz_",
        "colab_type": "code",
        "colab": {
          "base_uri": "https://localhost:8080/",
          "height": 34
        },
        "outputId": "fcf1e86e-e3e1-4974-a1f2-b001b8ee62e3"
      },
      "source": [
        "fasttext_pol2 = []\n",
        "cosine_lst2 = []\n",
        "not_in_model2 = []\n",
        "treshold = 0.03\n",
        "for i in range(len(my_senti_df['verb'])):\n",
        "  try:\n",
        "    cosine = cosine_similarity(np.atleast_2d(fasttext_model2.get_vector(my_senti_df['verb'][i])),\\\n",
        "                              np.atleast_2d(axis2))\n",
        "    if cosine >= treshold:\n",
        "      fasttext_pol2.append(1)\n",
        "    else:\n",
        "      fasttext_pol2.append(0)\n",
        "    cosine_lst2.append(cosine[0][0])\n",
        "  except AttributeError as e:\n",
        "    not_in_model2.append([i])\n",
        "\n",
        "\n",
        "my_senti_df['cosine_distance2'] = cosine_lst2\n",
        "my_senti_df['fasttext_polarity2'] = fasttext_pol2\n",
        "print(len(not_in_model2))\n",
        "for i in not_in_model2:\n",
        "  print(i)\n",
        "  my_senti_df = my_senti_df.drop(i)\n",
        "\n"
      ],
      "execution_count": 106,
      "outputs": [
        {
          "output_type": "stream",
          "text": [
            "0\n"
          ],
          "name": "stdout"
        }
      ]
    },
    {
      "cell_type": "code",
      "metadata": {
        "id": "Xneb0X8g12EQ",
        "colab_type": "code",
        "colab": {
          "base_uri": "https://localhost:8080/",
          "height": 50
        },
        "outputId": "20518e50-cd78-4575-d322-9e188c869ec2"
      },
      "source": [
        "print(len(fasttext_model2.vocab))\n",
        "len(fasttext_model.vocab)"
      ],
      "execution_count": 107,
      "outputs": [
        {
          "output_type": "stream",
          "text": [
            "164996\n"
          ],
          "name": "stdout"
        },
        {
          "output_type": "execute_result",
          "data": {
            "text/plain": [
              "192415"
            ]
          },
          "metadata": {
            "tags": []
          },
          "execution_count": 107
        }
      ]
    },
    {
      "cell_type": "code",
      "metadata": {
        "id": "_LVUiU6fHD13",
        "colab_type": "code",
        "outputId": "c5e281d9-3840-429b-d4ef-a4b40af76481",
        "colab": {
          "base_uri": "https://localhost:8080/",
          "height": 489
        }
      },
      "source": [
        "#my_senti_df = my_senti_df.drop([444])\n",
        "my_senti_df"
      ],
      "execution_count": 108,
      "outputs": [
        {
          "output_type": "execute_result",
          "data": {
            "text/html": [
              "<div>\n",
              "<style scoped>\n",
              "    .dataframe tbody tr th:only-of-type {\n",
              "        vertical-align: middle;\n",
              "    }\n",
              "\n",
              "    .dataframe tbody tr th {\n",
              "        vertical-align: top;\n",
              "    }\n",
              "\n",
              "    .dataframe thead th {\n",
              "        text-align: right;\n",
              "    }\n",
              "</style>\n",
              "<table border=\"1\" class=\"dataframe\">\n",
              "  <thead>\n",
              "    <tr style=\"text-align: right;\">\n",
              "      <th></th>\n",
              "      <th>verb</th>\n",
              "      <th>polar_or_not</th>\n",
              "      <th>polarity_summ</th>\n",
              "      <th>падеж второго аргумента в нотации pymorphy2</th>\n",
              "      <th>fasttext_polarity</th>\n",
              "      <th>manual_polarity</th>\n",
              "      <th>cosine_distance</th>\n",
              "      <th>cosine_distance2</th>\n",
              "      <th>fasttext_polarity2</th>\n",
              "    </tr>\n",
              "  </thead>\n",
              "  <tbody>\n",
              "    <tr>\n",
              "      <th>0</th>\n",
              "      <td>арестовать</td>\n",
              "      <td>6</td>\n",
              "      <td>0</td>\n",
              "      <td>accs</td>\n",
              "      <td>0</td>\n",
              "      <td>0</td>\n",
              "      <td>-0.045196</td>\n",
              "      <td>-0.159426</td>\n",
              "      <td>0</td>\n",
              "    </tr>\n",
              "    <tr>\n",
              "      <th>1</th>\n",
              "      <td>арестовывать</td>\n",
              "      <td>6</td>\n",
              "      <td>0</td>\n",
              "      <td>accs</td>\n",
              "      <td>0</td>\n",
              "      <td>0</td>\n",
              "      <td>-0.047116</td>\n",
              "      <td>-0.162513</td>\n",
              "      <td>0</td>\n",
              "    </tr>\n",
              "    <tr>\n",
              "      <th>2</th>\n",
              "      <td>атаковать</td>\n",
              "      <td>6</td>\n",
              "      <td>0</td>\n",
              "      <td>accs</td>\n",
              "      <td>0</td>\n",
              "      <td>0</td>\n",
              "      <td>-0.170026</td>\n",
              "      <td>-0.109497</td>\n",
              "      <td>0</td>\n",
              "    </tr>\n",
              "    <tr>\n",
              "      <th>3</th>\n",
              "      <td>беречь</td>\n",
              "      <td>3</td>\n",
              "      <td>3</td>\n",
              "      <td>accs</td>\n",
              "      <td>1</td>\n",
              "      <td>1</td>\n",
              "      <td>0.055182</td>\n",
              "      <td>-0.022620</td>\n",
              "      <td>0</td>\n",
              "    </tr>\n",
              "    <tr>\n",
              "      <th>4</th>\n",
              "      <td>беспокоить</td>\n",
              "      <td>6</td>\n",
              "      <td>0</td>\n",
              "      <td>accs</td>\n",
              "      <td>0</td>\n",
              "      <td>0</td>\n",
              "      <td>-0.252901</td>\n",
              "      <td>-0.122636</td>\n",
              "      <td>0</td>\n",
              "    </tr>\n",
              "    <tr>\n",
              "      <th>...</th>\n",
              "      <td>...</td>\n",
              "      <td>...</td>\n",
              "      <td>...</td>\n",
              "      <td>...</td>\n",
              "      <td>...</td>\n",
              "      <td>...</td>\n",
              "      <td>...</td>\n",
              "      <td>...</td>\n",
              "      <td>...</td>\n",
              "    </tr>\n",
              "    <tr>\n",
              "      <th>439</th>\n",
              "      <td>чаять</td>\n",
              "      <td>1</td>\n",
              "      <td>3</td>\n",
              "      <td>datv</td>\n",
              "      <td>0</td>\n",
              "      <td>1</td>\n",
              "      <td>-0.019511</td>\n",
              "      <td>0.038460</td>\n",
              "      <td>1</td>\n",
              "    </tr>\n",
              "    <tr>\n",
              "      <th>440</th>\n",
              "      <td>шантажировать</td>\n",
              "      <td>6</td>\n",
              "      <td>0</td>\n",
              "      <td>accs</td>\n",
              "      <td>0</td>\n",
              "      <td>0</td>\n",
              "      <td>-0.049897</td>\n",
              "      <td>-0.068322</td>\n",
              "      <td>0</td>\n",
              "    </tr>\n",
              "    <tr>\n",
              "      <th>441</th>\n",
              "      <td>шокировать</td>\n",
              "      <td>3</td>\n",
              "      <td>0</td>\n",
              "      <td>accs</td>\n",
              "      <td>0</td>\n",
              "      <td>0</td>\n",
              "      <td>-0.043513</td>\n",
              "      <td>0.026868</td>\n",
              "      <td>0</td>\n",
              "    </tr>\n",
              "    <tr>\n",
              "      <th>442</th>\n",
              "      <td>штурмовать</td>\n",
              "      <td>6</td>\n",
              "      <td>0</td>\n",
              "      <td>accs</td>\n",
              "      <td>0</td>\n",
              "      <td>0</td>\n",
              "      <td>-0.095362</td>\n",
              "      <td>-0.086980</td>\n",
              "      <td>0</td>\n",
              "    </tr>\n",
              "    <tr>\n",
              "      <th>443</th>\n",
              "      <td>эксплуатировать</td>\n",
              "      <td>3</td>\n",
              "      <td>0</td>\n",
              "      <td>accs</td>\n",
              "      <td>1</td>\n",
              "      <td>0</td>\n",
              "      <td>0.134053</td>\n",
              "      <td>-0.068911</td>\n",
              "      <td>0</td>\n",
              "    </tr>\n",
              "  </tbody>\n",
              "</table>\n",
              "<p>444 rows × 9 columns</p>\n",
              "</div>"
            ],
            "text/plain": [
              "                verb  polar_or_not  ...  cosine_distance2 fasttext_polarity2\n",
              "0         арестовать             6  ...         -0.159426                  0\n",
              "1       арестовывать             6  ...         -0.162513                  0\n",
              "2          атаковать             6  ...         -0.109497                  0\n",
              "3             беречь             3  ...         -0.022620                  0\n",
              "4         беспокоить             6  ...         -0.122636                  0\n",
              "..               ...           ...  ...               ...                ...\n",
              "439            чаять             1  ...          0.038460                  1\n",
              "440    шантажировать             6  ...         -0.068322                  0\n",
              "441       шокировать             3  ...          0.026868                  0\n",
              "442       штурмовать             6  ...         -0.086980                  0\n",
              "443  эксплуатировать             3  ...         -0.068911                  0\n",
              "\n",
              "[444 rows x 9 columns]"
            ]
          },
          "metadata": {
            "tags": []
          },
          "execution_count": 108
        }
      ]
    },
    {
      "cell_type": "code",
      "metadata": {
        "id": "WS0QYse_HmRP",
        "colab_type": "code",
        "colab": {}
      },
      "source": [
        "import matplotlib.pyplot as plt\n",
        "from sklearn.metrics import roc_auc_score, roc_curve, accuracy_score, f1_score, precision_score, recall_score\n",
        "from matplotlib import pyplot"
      ],
      "execution_count": 0,
      "outputs": []
    },
    {
      "cell_type": "code",
      "metadata": {
        "id": "Gax9s0jZILvl",
        "colab_type": "code",
        "outputId": "ae2e543d-1afb-4021-92f0-f885e3868998",
        "colab": {
          "base_uri": "https://localhost:8080/",
          "height": 67
        }
      },
      "source": [
        "my_senti_df['fasttext_polarity'].value_counts()"
      ],
      "execution_count": 110,
      "outputs": [
        {
          "output_type": "execute_result",
          "data": {
            "text/plain": [
              "0    333\n",
              "1    111\n",
              "Name: fasttext_polarity, dtype: int64"
            ]
          },
          "metadata": {
            "tags": []
          },
          "execution_count": 110
        }
      ]
    },
    {
      "cell_type": "code",
      "metadata": {
        "id": "F8nYARPBJApw",
        "colab_type": "code",
        "outputId": "c1bd7ee9-b3cd-4e85-958f-bce501301f35",
        "colab": {
          "base_uri": "https://localhost:8080/",
          "height": 67
        }
      },
      "source": [
        "my_senti_df['manual_polarity'].value_counts()"
      ],
      "execution_count": 111,
      "outputs": [
        {
          "output_type": "execute_result",
          "data": {
            "text/plain": [
              "0    321\n",
              "1    123\n",
              "Name: manual_polarity, dtype: int64"
            ]
          },
          "metadata": {
            "tags": []
          },
          "execution_count": 111
        }
      ]
    },
    {
      "cell_type": "code",
      "metadata": {
        "id": "1kFY7fuCJKgm",
        "colab_type": "code",
        "outputId": "0717ec12-0146-4209-a860-96240eb582b8",
        "colab": {
          "base_uri": "https://localhost:8080/",
          "height": 50
        }
      },
      "source": [
        "acc = accuracy_score(my_senti_df['manual_polarity'], my_senti_df['fasttext_polarity'])\n",
        "micro_f1 = f1_score(my_senti_df['manual_polarity'], my_senti_df['fasttext_polarity'], average = None)\n",
        "micro_p = precision_score(my_senti_df['manual_polarity'], my_senti_df['fasttext_polarity'], average = None)\n",
        "micro_r = recall_score(my_senti_df['manual_polarity'], my_senti_df['fasttext_polarity'], average = None)\n",
        "print('acc={0:1.4f}'.format(acc))\n",
        "print('F1={0:1.4f}, precision={1:1.4f}, recall={2:1.4f}'.format(micro_f1[-1], micro_p[-1], micro_r[-1]))"
      ],
      "execution_count": 112,
      "outputs": [
        {
          "output_type": "stream",
          "text": [
            "acc=0.8063\n",
            "F1=0.6325, precision=0.6667, recall=0.6016\n"
          ],
          "name": "stdout"
        }
      ]
    },
    {
      "cell_type": "code",
      "metadata": {
        "id": "oO-9cLP3KiHQ",
        "colab_type": "code",
        "colab": {
          "base_uri": "https://localhost:8080/",
          "height": 50
        },
        "outputId": "c536f106-4c9d-4098-835e-1d107fde374c"
      },
      "source": [
        "acc = accuracy_score(my_senti_df['manual_polarity'], my_senti_df['fasttext_polarity2'])\n",
        "micro_f1 = f1_score(my_senti_df['manual_polarity'], my_senti_df['fasttext_polarity2'], average = None)\n",
        "micro_p = precision_score(my_senti_df['manual_polarity'], my_senti_df['fasttext_polarity2'], average = None)\n",
        "micro_r = recall_score(my_senti_df['manual_polarity'], my_senti_df['fasttext_polarity2'], average = None)\n",
        "print('acc={0:1.4f}'.format(acc))\n",
        "print('F1={0:1.4f}, precision={1:1.4f}, recall={2:1.4f}'.format(micro_f1[-1], micro_p[-1], micro_r[-1]))"
      ],
      "execution_count": 113,
      "outputs": [
        {
          "output_type": "stream",
          "text": [
            "acc=0.7950\n",
            "F1=0.6286, precision=0.6311, recall=0.6260\n"
          ],
          "name": "stdout"
        }
      ]
    },
    {
      "cell_type": "code",
      "metadata": {
        "id": "PhKRMTtF2rs2",
        "colab_type": "code",
        "colab": {
          "base_uri": "https://localhost:8080/",
          "height": 282
        },
        "outputId": "b393fa54-02e7-4998-f694-a8ac6b000e3e"
      },
      "source": [
        "plt.stackplot(my_senti_df['cosine_distance'], my_senti_df['cosine_distance2'])"
      ],
      "execution_count": 116,
      "outputs": [
        {
          "output_type": "execute_result",
          "data": {
            "text/plain": [
              "[<matplotlib.collections.PolyCollection at 0x7fa72d3ec898>]"
            ]
          },
          "metadata": {
            "tags": []
          },
          "execution_count": 116
        },
        {
          "output_type": "display_data",
          "data": {
            "image/png": "[encoded data removed]",
            "text/plain": [
              "<Figure size 432x288 with 1 Axes>"
            ]
          },
          "metadata": {
            "tags": [],
            "needs_background": "light"
          }
        }
      ]
    },
    {
      "cell_type": "code",
      "metadata": {
        "id": "Vv8RztSE5sO6",
        "colab_type": "code",
        "colab": {
          "base_uri": "https://localhost:8080/",
          "height": 265
        },
        "outputId": "214c393e-2c1e-44f3-9677-b8a557fcdd41"
      },
      "source": [
        "x = my_senti_df['cosine_distance']\n",
        "y = my_senti_df['cosine_distance2']\n",
        "plt.scatter(my_senti_df['cosine_distance'], my_senti_df['cosine_distance2'])\n",
        "plt.plot(np.unique(x), np.poly1d(np.polyfit(x, y, 1))(np.unique(x)), color='red')\n",
        "plt.show()"
      ],
      "execution_count": 121,
      "outputs": [
        {
          "output_type": "display_data",
          "data": {
            "image/png": "[encoded data removed]",
            "text/plain": [
              "<Figure size 432x288 with 1 Axes>"
            ]
          },
          "metadata": {
            "tags": [],
            "needs_background": "light"
          }
        }
      ]
    },
    {
      "cell_type": "code",
      "metadata": {
        "id": "JXVDdid2Bcwu",
        "colab_type": "code",
        "colab": {}
      },
      "source": [
        "from scipy.stats.stats import pearsonr"
      ],
      "execution_count": 0,
      "outputs": []
    },
    {
      "cell_type": "code",
      "metadata": {
        "id": "7CrMBb7VBd1Q",
        "colab_type": "code",
        "colab": {
          "base_uri": "https://localhost:8080/",
          "height": 34
        },
        "outputId": "119e3eef-b584-47a9-fc1c-a9aa191431a2"
      },
      "source": [
        "pearsonr(x,y)"
      ],
      "execution_count": 126,
      "outputs": [
        {
          "output_type": "execute_result",
          "data": {
            "text/plain": [
              "(0.876644294617535, 1.5829666998843536e-142)"
            ]
          },
          "metadata": {
            "tags": []
          },
          "execution_count": 126
        }
      ]
    },
    {
      "cell_type": "code",
      "metadata": {
        "id": "CU3l1W3n7L2D",
        "colab_type": "code",
        "colab": {}
      },
      "source": [
        "from scipy.stats import spearmanr\n",
        "#https://www.machinelearningmastery.ru/how-to-calculate-nonparametric-rank-correlation-in-python/"
      ],
      "execution_count": 0,
      "outputs": []
    },
    {
      "cell_type": "code",
      "metadata": {
        "id": "Kcq4GkEG-XSm",
        "colab_type": "code",
        "colab": {
          "base_uri": "https://localhost:8080/",
          "height": 34
        },
        "outputId": "228ddc21-649d-48b1-af30-32023ce91023"
      },
      "source": [
        "spearmanr(x, y)"
      ],
      "execution_count": 124,
      "outputs": [
        {
          "output_type": "execute_result",
          "data": {
            "text/plain": [
              "SpearmanrResult(correlation=0.8806826711562044, pvalue=1.618416436974419e-145)"
            ]
          },
          "metadata": {
            "tags": []
          },
          "execution_count": 124
        }
      ]
    },
    {
      "cell_type": "code",
      "metadata": {
        "id": "9O6xhcUE-lSa",
        "colab_type": "code",
        "colab": {}
      },
      "source": [
        "#больше моделей богу моделей"
      ],
      "execution_count": 0,
      "outputs": []
    },
    {
      "cell_type": "code",
      "metadata": {
        "id": "H_pBWE8NC4y9",
        "colab_type": "code",
        "colab": {
          "base_uri": "https://localhost:8080/",
          "height": 222
        },
        "outputId": "987556c7-60dd-448a-ce22-cd6e847dc05b"
      },
      "source": [
        "!wget https://rusvectores.org/static/models/rusvectores4/fasttext/araneum_none_fasttextcbow_300_5_2018.tgz"
      ],
      "execution_count": 131,
      "outputs": [
        {
          "output_type": "stream",
          "text": [
            "--2020-05-15 20:46:57--  https://rusvectores.org/static/models/rusvectores4/fasttext/araneum_none_fasttextcbow_300_5_2018.tgz\n",
            "Resolving rusvectores.org (rusvectores.org)... 116.203.104.23\n",
            "Connecting to rusvectores.org (rusvectores.org)|116.203.104.23|:443... connected.\n",
            "HTTP request sent, awaiting response... 200 OK\n",
            "Length: 2691248108 (2.5G) [application/x-gzip]\n",
            "Saving to: ‘araneum_none_fasttextcbow_300_5_2018.tgz’\n",
            "\n",
            "araneum_none_fastte 100%[===================>]   2.51G  26.7MB/s    in 99s     \n",
            "\n",
            "2020-05-15 20:48:37 (26.0 MB/s) - ‘araneum_none_fasttextcbow_300_5_2018.tgz’ saved [2691248108/2691248108]\n",
            "\n"
          ],
          "name": "stdout"
        }
      ]
    },
    {
      "cell_type": "code",
      "metadata": {
        "id": "fbgmoJxBFURK",
        "colab_type": "code",
        "colab": {}
      },
      "source": [
        "!tar -xzf araneum_none_fasttextcbow_300_5_2018.tgz"
      ],
      "execution_count": 0,
      "outputs": []
    },
    {
      "cell_type": "code",
      "metadata": {
        "id": "SIWCHjEuFoT1",
        "colab_type": "code",
        "colab": {
          "base_uri": "https://localhost:8080/",
          "height": 70
        },
        "outputId": "bc19788f-ad06-404d-c351-cb75270bf17a"
      },
      "source": [
        "fasttext_model3 = gensim.models.KeyedVectors.load(\"araneum_none_fasttextcbow_300_5_2018.model\")\n"
      ],
      "execution_count": 135,
      "outputs": [
        {
          "output_type": "stream",
          "text": [
            "/usr/local/lib/python3.6/dist-packages/smart_open/smart_open_lib.py:253: UserWarning: This function is deprecated, use smart_open.open instead. See the migration notes for details: https://github.com/RaRe-Technologies/smart_open/blob/master/README.rst#migrating-to-the-new-open-function\n",
            "  'See the migration notes for details: %s' % _MIGRATION_NOTES_URL\n"
          ],
          "name": "stderr"
        }
      ]
    },
    {
      "cell_type": "code",
      "metadata": {
        "id": "mt7NjTJGI9be",
        "colab_type": "code",
        "colab": {}
      },
      "source": [
        "positive_multi_embedding3 = make_seed_embedding(positive_multi_seed, fasttext_model3)\n",
        "negative_multi_embedding3 = make_seed_embedding(negative_multi_seed, fasttext_model3)\n",
        "\n",
        "axis3 = positive_multi_embedding3  - negative_multi_embedding3"
      ],
      "execution_count": 0,
      "outputs": []
    },
    {
      "cell_type": "code",
      "metadata": {
        "id": "z_XxT5gtJUtz",
        "colab_type": "code",
        "colab": {
          "base_uri": "https://localhost:8080/",
          "height": 34
        },
        "outputId": "3a08b382-5ec5-4b76-ebee-5a7a3efde224"
      },
      "source": [
        "fasttext_pol3 = []\n",
        "cosine_lst3 = []\n",
        "not_in_model3 = []\n",
        "treshold = 0.03\n",
        "for i in range(len(my_senti_df['verb'])):\n",
        "  try:\n",
        "    cosine = cosine_similarity(np.atleast_2d(fasttext_model3.get_vector(my_senti_df['verb'][i])),\\\n",
        "                              np.atleast_2d(axis3))\n",
        "    if cosine >= treshold:\n",
        "      fasttext_pol3.append(1)\n",
        "    else:\n",
        "      fasttext_pol3.append(0)\n",
        "    cosine_lst3.append(cosine[0][0])\n",
        "  except AttributeError as e:\n",
        "    not_in_model3.append([i])\n",
        "\n",
        "\n",
        "\n",
        "print(len(not_in_model3))\n",
        "# в этой модели не находит аж 146 глаголов!\n",
        "for i in not_in_model3:\n",
        "  my_senti_df = my_senti_df.drop(i)\n",
        "my_senti_df['cosine_distance3'] = cosine_lst3\n",
        "my_senti_df['fasttext_polarity3'] = fasttext_pol3"
      ],
      "execution_count": 146,
      "outputs": [
        {
          "output_type": "stream",
          "text": [
            "0\n"
          ],
          "name": "stdout"
        }
      ]
    },
    {
      "cell_type": "code",
      "metadata": {
        "id": "M2mFajxKJw_3",
        "colab_type": "code",
        "colab": {
          "base_uri": "https://localhost:8080/",
          "height": 489
        },
        "outputId": "a4bcfa01-ac7b-4512-9525-c0818cc62da4"
      },
      "source": [
        "my_senti_df"
      ],
      "execution_count": 147,
      "outputs": [
        {
          "output_type": "execute_result",
          "data": {
            "text/html": [
              "<div>\n",
              "<style scoped>\n",
              "    .dataframe tbody tr th:only-of-type {\n",
              "        vertical-align: middle;\n",
              "    }\n",
              "\n",
              "    .dataframe tbody tr th {\n",
              "        vertical-align: top;\n",
              "    }\n",
              "\n",
              "    .dataframe thead th {\n",
              "        text-align: right;\n",
              "    }\n",
              "</style>\n",
              "<table border=\"1\" class=\"dataframe\">\n",
              "  <thead>\n",
              "    <tr style=\"text-align: right;\">\n",
              "      <th></th>\n",
              "      <th>verb</th>\n",
              "      <th>polar_or_not</th>\n",
              "      <th>polarity_summ</th>\n",
              "      <th>падеж второго аргумента в нотации pymorphy2</th>\n",
              "      <th>fasttext_polarity</th>\n",
              "      <th>manual_polarity</th>\n",
              "      <th>cosine_distance</th>\n",
              "      <th>cosine_distance2</th>\n",
              "      <th>fasttext_polarity2</th>\n",
              "      <th>cosine_distance3</th>\n",
              "      <th>fasttext_polarity3</th>\n",
              "    </tr>\n",
              "  </thead>\n",
              "  <tbody>\n",
              "    <tr>\n",
              "      <th>1</th>\n",
              "      <td>арестовывать</td>\n",
              "      <td>6</td>\n",
              "      <td>0</td>\n",
              "      <td>accs</td>\n",
              "      <td>0</td>\n",
              "      <td>0</td>\n",
              "      <td>-0.047116</td>\n",
              "      <td>-0.162513</td>\n",
              "      <td>0</td>\n",
              "      <td>-0.156715</td>\n",
              "      <td>0</td>\n",
              "    </tr>\n",
              "    <tr>\n",
              "      <th>2</th>\n",
              "      <td>атаковать</td>\n",
              "      <td>6</td>\n",
              "      <td>0</td>\n",
              "      <td>accs</td>\n",
              "      <td>0</td>\n",
              "      <td>0</td>\n",
              "      <td>-0.170026</td>\n",
              "      <td>-0.109497</td>\n",
              "      <td>0</td>\n",
              "      <td>-0.305128</td>\n",
              "      <td>0</td>\n",
              "    </tr>\n",
              "    <tr>\n",
              "      <th>3</th>\n",
              "      <td>беречь</td>\n",
              "      <td>3</td>\n",
              "      <td>3</td>\n",
              "      <td>accs</td>\n",
              "      <td>1</td>\n",
              "      <td>1</td>\n",
              "      <td>0.055182</td>\n",
              "      <td>-0.022620</td>\n",
              "      <td>0</td>\n",
              "      <td>-0.137536</td>\n",
              "      <td>0</td>\n",
              "    </tr>\n",
              "    <tr>\n",
              "      <th>4</th>\n",
              "      <td>беспокоить</td>\n",
              "      <td>6</td>\n",
              "      <td>0</td>\n",
              "      <td>accs</td>\n",
              "      <td>0</td>\n",
              "      <td>0</td>\n",
              "      <td>-0.252901</td>\n",
              "      <td>-0.122636</td>\n",
              "      <td>0</td>\n",
              "      <td>-0.336846</td>\n",
              "      <td>0</td>\n",
              "    </tr>\n",
              "    <tr>\n",
              "      <th>5</th>\n",
              "      <td>бить</td>\n",
              "      <td>6</td>\n",
              "      <td>0</td>\n",
              "      <td>accs</td>\n",
              "      <td>0</td>\n",
              "      <td>0</td>\n",
              "      <td>-0.356272</td>\n",
              "      <td>-0.270132</td>\n",
              "      <td>0</td>\n",
              "      <td>-0.474794</td>\n",
              "      <td>0</td>\n",
              "    </tr>\n",
              "    <tr>\n",
              "      <th>...</th>\n",
              "      <td>...</td>\n",
              "      <td>...</td>\n",
              "      <td>...</td>\n",
              "      <td>...</td>\n",
              "      <td>...</td>\n",
              "      <td>...</td>\n",
              "      <td>...</td>\n",
              "      <td>...</td>\n",
              "      <td>...</td>\n",
              "      <td>...</td>\n",
              "      <td>...</td>\n",
              "    </tr>\n",
              "    <tr>\n",
              "      <th>439</th>\n",
              "      <td>чаять</td>\n",
              "      <td>1</td>\n",
              "      <td>3</td>\n",
              "      <td>datv</td>\n",
              "      <td>0</td>\n",
              "      <td>1</td>\n",
              "      <td>-0.019511</td>\n",
              "      <td>0.038460</td>\n",
              "      <td>1</td>\n",
              "      <td>-0.264535</td>\n",
              "      <td>0</td>\n",
              "    </tr>\n",
              "    <tr>\n",
              "      <th>440</th>\n",
              "      <td>шантажировать</td>\n",
              "      <td>6</td>\n",
              "      <td>0</td>\n",
              "      <td>accs</td>\n",
              "      <td>0</td>\n",
              "      <td>0</td>\n",
              "      <td>-0.049897</td>\n",
              "      <td>-0.068322</td>\n",
              "      <td>0</td>\n",
              "      <td>-0.108525</td>\n",
              "      <td>0</td>\n",
              "    </tr>\n",
              "    <tr>\n",
              "      <th>441</th>\n",
              "      <td>шокировать</td>\n",
              "      <td>3</td>\n",
              "      <td>0</td>\n",
              "      <td>accs</td>\n",
              "      <td>0</td>\n",
              "      <td>0</td>\n",
              "      <td>-0.043513</td>\n",
              "      <td>0.026868</td>\n",
              "      <td>0</td>\n",
              "      <td>-0.152533</td>\n",
              "      <td>0</td>\n",
              "    </tr>\n",
              "    <tr>\n",
              "      <th>442</th>\n",
              "      <td>штурмовать</td>\n",
              "      <td>6</td>\n",
              "      <td>0</td>\n",
              "      <td>accs</td>\n",
              "      <td>0</td>\n",
              "      <td>0</td>\n",
              "      <td>-0.095362</td>\n",
              "      <td>-0.086980</td>\n",
              "      <td>0</td>\n",
              "      <td>-0.225143</td>\n",
              "      <td>0</td>\n",
              "    </tr>\n",
              "    <tr>\n",
              "      <th>443</th>\n",
              "      <td>эксплуатировать</td>\n",
              "      <td>3</td>\n",
              "      <td>0</td>\n",
              "      <td>accs</td>\n",
              "      <td>1</td>\n",
              "      <td>0</td>\n",
              "      <td>0.134053</td>\n",
              "      <td>-0.068911</td>\n",
              "      <td>0</td>\n",
              "      <td>0.018697</td>\n",
              "      <td>0</td>\n",
              "    </tr>\n",
              "  </tbody>\n",
              "</table>\n",
              "<p>298 rows × 11 columns</p>\n",
              "</div>"
            ],
            "text/plain": [
              "                verb  polar_or_not  ...  cosine_distance3 fasttext_polarity3\n",
              "1       арестовывать             6  ...         -0.156715                  0\n",
              "2          атаковать             6  ...         -0.305128                  0\n",
              "3             беречь             3  ...         -0.137536                  0\n",
              "4         беспокоить             6  ...         -0.336846                  0\n",
              "5               бить             6  ...         -0.474794                  0\n",
              "..               ...           ...  ...               ...                ...\n",
              "439            чаять             1  ...         -0.264535                  0\n",
              "440    шантажировать             6  ...         -0.108525                  0\n",
              "441       шокировать             3  ...         -0.152533                  0\n",
              "442       штурмовать             6  ...         -0.225143                  0\n",
              "443  эксплуатировать             3  ...          0.018697                  0\n",
              "\n",
              "[298 rows x 11 columns]"
            ]
          },
          "metadata": {
            "tags": []
          },
          "execution_count": 147
        }
      ]
    },
    {
      "cell_type": "code",
      "metadata": {
        "id": "pOyDyGyWKe03",
        "colab_type": "code",
        "colab": {
          "base_uri": "https://localhost:8080/",
          "height": 50
        },
        "outputId": "aa4e797e-6004-415b-b1ad-d1c241334e93"
      },
      "source": [
        "acc = accuracy_score(my_senti_df['manual_polarity'], my_senti_df['fasttext_polarity3'])\n",
        "micro_f1 = f1_score(my_senti_df['manual_polarity'], my_senti_df['fasttext_polarity3'], average = None)\n",
        "micro_p = precision_score(my_senti_df['manual_polarity'], my_senti_df['fasttext_polarity3'], average = None)\n",
        "micro_r = recall_score(my_senti_df['manual_polarity'], my_senti_df['fasttext_polarity3'], average = None)\n",
        "print('acc={0:1.4f}'.format(acc))\n",
        "print('F1={0:1.4f}, precision={1:1.4f}, recall={2:1.4f}'.format(micro_f1[-1], micro_p[-1], micro_r[-1]))"
      ],
      "execution_count": 148,
      "outputs": [
        {
          "output_type": "stream",
          "text": [
            "acc=0.7987\n",
            "F1=0.5522, precision=0.8043, recall=0.4205\n"
          ],
          "name": "stdout"
        }
      ]
    },
    {
      "cell_type": "code",
      "metadata": {
        "id": "Ga3Y-dMOKoxB",
        "colab_type": "code",
        "colab": {
          "base_uri": "https://localhost:8080/",
          "height": 265
        },
        "outputId": "5b1acdb4-4d3a-4da7-dca6-94db7d03495b"
      },
      "source": [
        "x = my_senti_df['cosine_distance']\n",
        "y = my_senti_df['cosine_distance3']\n",
        "plt.scatter(my_senti_df['cosine_distance'], my_senti_df['cosine_distance3'])\n",
        "plt.plot(np.unique(x), np.poly1d(np.polyfit(x, y, 1))(np.unique(x)), color='red')\n",
        "plt.show()"
      ],
      "execution_count": 149,
      "outputs": [
        {
          "output_type": "display_data",
          "data": {
            "image/png": "[encoded data removed]",
            "text/plain": [
              "<Figure size 432x288 with 1 Axes>"
            ]
          },
          "metadata": {
            "tags": [],
            "needs_background": "light"
          }
        }
      ]
    },
    {
      "cell_type": "code",
      "metadata": {
        "id": "birA1F0QKxtO",
        "colab_type": "code",
        "colab": {
          "base_uri": "https://localhost:8080/",
          "height": 34
        },
        "outputId": "a5f4d4e0-16df-496b-c304-359d0ab35ea0"
      },
      "source": [
        "pearsonr(x,y)\n",
        "# 3я модель и хуже отработала, и глаголов ужасно много порезала, но с 1й\n",
        "# кореллирует лучше, потому что методы одинаковые, а разные только корпусы"
      ],
      "execution_count": 150,
      "outputs": [
        {
          "output_type": "execute_result",
          "data": {
            "text/plain": [
              "(0.9579081098221475, 1.7827948656592518e-162)"
            ]
          },
          "metadata": {
            "tags": []
          },
          "execution_count": 150
        }
      ]
    },
    {
      "cell_type": "code",
      "metadata": {
        "id": "Xlfraj5YK4i9",
        "colab_type": "code",
        "colab": {
          "base_uri": "https://localhost:8080/",
          "height": 265
        },
        "outputId": "73a9f72a-e25b-4c41-ecc3-70382103d003"
      },
      "source": [
        "x = my_senti_df['cosine_distance2']\n",
        "y = my_senti_df['cosine_distance3']\n",
        "plt.scatter(my_senti_df['cosine_distance2'], my_senti_df['cosine_distance3'])\n",
        "plt.plot(np.unique(x), np.poly1d(np.polyfit(x, y, 1))(np.unique(x)), color='red')\n",
        "plt.show()"
      ],
      "execution_count": 151,
      "outputs": [
        {
          "output_type": "display_data",
          "data": {
            "image/png": "[encoded data removed]",
            "text/plain": [
              "<Figure size 432x288 with 1 Axes>"
            ]
          },
          "metadata": {
            "tags": [],
            "needs_background": "light"
          }
        }
      ]
    },
    {
      "cell_type": "code",
      "metadata": {
        "id": "s8v-otI5K9bW",
        "colab_type": "code",
        "colab": {
          "base_uri": "https://localhost:8080/",
          "height": 34
        },
        "outputId": "aab27898-aade-47f4-ee0a-8983833249a3"
      },
      "source": [
        "pearsonr(x,y)"
      ],
      "execution_count": 152,
      "outputs": [
        {
          "output_type": "execute_result",
          "data": {
            "text/plain": [
              "(0.8867726476479408, 3.2286190510991494e-101)"
            ]
          },
          "metadata": {
            "tags": []
          },
          "execution_count": 152
        }
      ]
    },
    {
      "cell_type": "code",
      "metadata": {
        "id": "FP5JLd-ZK_TS",
        "colab_type": "code",
        "colab": {}
      },
      "source": [
        ""
      ],
      "execution_count": 0,
      "outputs": []
    }
  ]
}