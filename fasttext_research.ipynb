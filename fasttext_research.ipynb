{
  "nbformat": 4,
  "nbformat_minor": 0,
  "metadata": {
    "colab": {
      "name": "Untitled36.ipynb",
      "provenance": [],
      "authorship_tag": "ABX9TyMrFEEte2jYRWfVyOUx0Hjg",
      "include_colab_link": true
    },
    "kernelspec": {
      "name": "python3",
      "display_name": "Python 3"
    }
  },
  "cells": [
    {
      "cell_type": "markdown",
      "metadata": {
        "id": "view-in-github",
        "colab_type": "text"
      },
      "source": [
        "<a href=\"https://colab.research.google.com/github/DmitryKutsev/NIS_SentiFrame/blob/master/fasttext_research.ipynb\" target=\"_parent\"><img src=\"https://colab.research.google.com/assets/colab-badge.svg\" alt=\"Open In Colab\"/></a>"
      ]
    },
    {
      "cell_type": "code",
      "metadata": {
        "id": "EBSzP7KNeaBN",
        "colab_type": "code",
        "colab": {}
      },
      "source": [
        "import pandas as pd"
      ],
      "execution_count": 0,
      "outputs": []
    },
    {
      "cell_type": "code",
      "metadata": {
        "id": "_FDwgQvlZCUU",
        "colab_type": "code",
        "colab": {}
      },
      "source": [
        "grisha = pd.read_csv(\\\n",
        "    'https://raw.githubusercontent.com/DmitryKutsev/NIS_SentiFrame/master/annotations/annotation_arshinov.csv', delimiter=';')\n",
        "ira = pd.read_csv(\\\n",
        "    'https://raw.githubusercontent.com/DmitryKutsev/NIS_SentiFrame/master/annotations/annotation_ira.csv')\n",
        "lesha = pd.read_csv(\\\n",
        "    'https://raw.githubusercontent.com/DmitryKutsev/NIS_SentiFrame/master/annotations/annotation_lesha.csv')\n",
        "masha = pd.read_csv(\\\n",
        "    'https://raw.githubusercontent.com/DmitryKutsev/NIS_SentiFrame/master/annotations/annotation_masha.csv')\n",
        "olya = pd.read_csv(\\\n",
        "    'https://raw.githubusercontent.com/DmitryKutsev/NIS_SentiFrame/master/annotations/annotation_olya.csv')"
      ],
      "execution_count": 0,
      "outputs": []
    },
    {
      "cell_type": "code",
      "metadata": {
        "id": "p7t_z3h_Zd8h",
        "colab_type": "code",
        "colab": {}
      },
      "source": [
        "ton_df = pd.DataFrame({'verb': ira['verb'], 'count': grisha['Unnamed: 1'] + \\\n",
        "                       ira['0/1'] + lesha['0/1'] + masha['0 или 1'] + olya['0/1']})"
      ],
      "execution_count": 0,
      "outputs": []
    },
    {
      "cell_type": "code",
      "metadata": {
        "id": "APDrY9GgZeDW",
        "colab_type": "code",
        "outputId": "ff11a6ef-a048-47a4-ef25-adffaff3ee76",
        "colab": {
          "base_uri": "https://localhost:8080/",
          "height": 419
        }
      },
      "source": [
        "ton_df"
      ],
      "execution_count": 4,
      "outputs": [
        {
          "output_type": "execute_result",
          "data": {
            "text/html": [
              "<div>\n",
              "<style scoped>\n",
              "    .dataframe tbody tr th:only-of-type {\n",
              "        vertical-align: middle;\n",
              "    }\n",
              "\n",
              "    .dataframe tbody tr th {\n",
              "        vertical-align: top;\n",
              "    }\n",
              "\n",
              "    .dataframe thead th {\n",
              "        text-align: right;\n",
              "    }\n",
              "</style>\n",
              "<table border=\"1\" class=\"dataframe\">\n",
              "  <thead>\n",
              "    <tr style=\"text-align: right;\">\n",
              "      <th></th>\n",
              "      <th>verb</th>\n",
              "      <th>count</th>\n",
              "    </tr>\n",
              "  </thead>\n",
              "  <tbody>\n",
              "    <tr>\n",
              "      <th>0</th>\n",
              "      <td>сообщать</td>\n",
              "      <td>0</td>\n",
              "    </tr>\n",
              "    <tr>\n",
              "      <th>1</th>\n",
              "      <td>сообщить</td>\n",
              "      <td>0</td>\n",
              "    </tr>\n",
              "    <tr>\n",
              "      <th>2</th>\n",
              "      <td>принять</td>\n",
              "      <td>2</td>\n",
              "    </tr>\n",
              "    <tr>\n",
              "      <th>3</th>\n",
              "      <td>задержать</td>\n",
              "      <td>4</td>\n",
              "    </tr>\n",
              "    <tr>\n",
              "      <th>4</th>\n",
              "      <td>провести</td>\n",
              "      <td>0</td>\n",
              "    </tr>\n",
              "    <tr>\n",
              "      <th>...</th>\n",
              "      <td>...</td>\n",
              "      <td>...</td>\n",
              "    </tr>\n",
              "    <tr>\n",
              "      <th>995</th>\n",
              "      <td>влюбляться</td>\n",
              "      <td>5</td>\n",
              "    </tr>\n",
              "    <tr>\n",
              "      <th>996</th>\n",
              "      <td>разнести</td>\n",
              "      <td>3</td>\n",
              "    </tr>\n",
              "    <tr>\n",
              "      <th>997</th>\n",
              "      <td>воздвигнуть</td>\n",
              "      <td>3</td>\n",
              "    </tr>\n",
              "    <tr>\n",
              "      <th>998</th>\n",
              "      <td>понаблюдать</td>\n",
              "      <td>0</td>\n",
              "    </tr>\n",
              "    <tr>\n",
              "      <th>999</th>\n",
              "      <td>разорить</td>\n",
              "      <td>5</td>\n",
              "    </tr>\n",
              "  </tbody>\n",
              "</table>\n",
              "<p>1000 rows × 2 columns</p>\n",
              "</div>"
            ],
            "text/plain": [
              "            verb  count\n",
              "0       сообщать      0\n",
              "1       сообщить      0\n",
              "2        принять      2\n",
              "3      задержать      4\n",
              "4       провести      0\n",
              "..           ...    ...\n",
              "995   влюбляться      5\n",
              "996     разнести      3\n",
              "997  воздвигнуть      3\n",
              "998  понаблюдать      0\n",
              "999     разорить      5\n",
              "\n",
              "[1000 rows x 2 columns]"
            ]
          },
          "metadata": {
            "tags": []
          },
          "execution_count": 4
        }
      ]
    },
    {
      "cell_type": "code",
      "metadata": {
        "id": "nkfICKunndZj",
        "colab_type": "code",
        "colab": {
          "base_uri": "https://localhost:8080/",
          "height": 231
        },
        "outputId": "b2dc2b48-06fe-4c60-8308-f3339efa87dd"
      },
      "source": [
        "for num, verb in enumerate(ton_df['verb']):\n",
        " if verb not in list(senti_df['verb']):\n",
        "   #print(verb, num)\n",
        "   try:\n",
        "    ton_df= ton_df.drop(num)\n",
        "   except:\n",
        "     pass\n"
      ],
      "execution_count": 5,
      "outputs": [
        {
          "output_type": "error",
          "ename": "NameError",
          "evalue": "ignored",
          "traceback": [
            "\u001b[0;31m---------------------------------------------------------------------------\u001b[0m",
            "\u001b[0;31mNameError\u001b[0m                                 Traceback (most recent call last)",
            "\u001b[0;32m<ipython-input-5-4dd85a5e5749>\u001b[0m in \u001b[0;36m<module>\u001b[0;34m()\u001b[0m\n\u001b[1;32m      1\u001b[0m \u001b[0;32mfor\u001b[0m \u001b[0mnum\u001b[0m\u001b[0;34m,\u001b[0m \u001b[0mverb\u001b[0m \u001b[0;32min\u001b[0m \u001b[0menumerate\u001b[0m\u001b[0;34m(\u001b[0m\u001b[0mton_df\u001b[0m\u001b[0;34m[\u001b[0m\u001b[0;34m'verb'\u001b[0m\u001b[0;34m]\u001b[0m\u001b[0;34m)\u001b[0m\u001b[0;34m:\u001b[0m\u001b[0;34m\u001b[0m\u001b[0;34m\u001b[0m\u001b[0m\n\u001b[0;32m----> 2\u001b[0;31m  \u001b[0;32mif\u001b[0m \u001b[0mverb\u001b[0m \u001b[0;32mnot\u001b[0m \u001b[0;32min\u001b[0m \u001b[0mlist\u001b[0m\u001b[0;34m(\u001b[0m\u001b[0msenti_df\u001b[0m\u001b[0;34m[\u001b[0m\u001b[0;34m'verb'\u001b[0m\u001b[0;34m]\u001b[0m\u001b[0;34m)\u001b[0m\u001b[0;34m:\u001b[0m\u001b[0;34m\u001b[0m\u001b[0;34m\u001b[0m\u001b[0m\n\u001b[0m\u001b[1;32m      3\u001b[0m    \u001b[0;31m#print(verb, num)\u001b[0m\u001b[0;34m\u001b[0m\u001b[0;34m\u001b[0m\u001b[0;34m\u001b[0m\u001b[0m\n\u001b[1;32m      4\u001b[0m    \u001b[0;32mtry\u001b[0m\u001b[0;34m:\u001b[0m\u001b[0;34m\u001b[0m\u001b[0;34m\u001b[0m\u001b[0m\n\u001b[1;32m      5\u001b[0m     \u001b[0mton_df\u001b[0m\u001b[0;34m=\u001b[0m \u001b[0mton_df\u001b[0m\u001b[0;34m.\u001b[0m\u001b[0mdrop\u001b[0m\u001b[0;34m(\u001b[0m\u001b[0mnum\u001b[0m\u001b[0;34m)\u001b[0m\u001b[0;34m\u001b[0m\u001b[0;34m\u001b[0m\u001b[0m\n",
            "\u001b[0;31mNameError\u001b[0m: name 'senti_df' is not defined"
          ]
        }
      ]
    },
    {
      "cell_type": "code",
      "metadata": {
        "id": "OfvjpeuCrLEw",
        "colab_type": "code",
        "colab": {}
      },
      "source": [
        "ton_df"
      ],
      "execution_count": 0,
      "outputs": []
    },
    {
      "cell_type": "code",
      "metadata": {
        "id": "_scEfcKyndXG",
        "colab_type": "code",
        "colab": {
          "base_uri": "https://localhost:8080/",
          "height": 1000
        },
        "outputId": "f1ba09f8-223d-4402-b69c-0720b7752710"
      },
      "source": [
        "for num, count in enumerate(ton_df['count']):\n",
        "  if count==0:\n",
        "    try:\n",
        "     print(ton_df['verb'][num])\n",
        "    except:\n",
        "     pass\n"
      ],
      "execution_count": 6,
      "outputs": [
        {
          "output_type": "stream",
          "text": [
            "сообщать\n",
            "сообщить\n",
            "провести\n",
            "пройти\n",
            "писать\n",
            "начать\n",
            "считать\n",
            "сделать\n",
            "найти\n",
            "появиться\n",
            "решить\n",
            "предложить\n",
            "начаться\n",
            "добавить\n",
            "использовать\n",
            "проходить\n",
            "подписать\n",
            "пытаться\n",
            "написать\n",
            "вести\n",
            "проводить\n",
            "принимать\n",
            "пояснить\n",
            "стоить\n",
            "прийтись\n",
            "представлять\n",
            "призвать\n",
            "построить\n",
            "объяснить\n",
            "следовать\n",
            "предлагать\n",
            "делать\n",
            "продолжаться\n",
            "продолжать\n",
            "завершиться\n",
            "увеличить\n",
            "запустить\n",
            "видеть\n",
            "увеличиться\n",
            "оценить\n",
            "возникнуть\n",
            "прийти\n",
            "прокомментировать\n",
            "увидеть\n",
            "комментировать\n",
            "снизиться\n",
            "объединить\n",
            "превысить\n",
            "утвердить\n",
            "пользоваться\n",
            "снизить\n",
            "обещать\n",
            "вывести\n",
            "потратить\n",
            "приостановить\n",
            "рассчитывать\n",
            "начинать\n",
            "ждать\n",
            "закрыть\n",
            "искать\n",
            "приходиться\n",
            "произвести\n",
            "создавать\n",
            "сократиться\n",
            "родиться\n",
            "приступить\n",
            "повысить\n",
            "закончиться\n",
            "появляться\n",
            "возобновить\n",
            "выпускать\n",
            "сформировать\n",
            "понимать\n",
            "оценивать\n",
            "воспользоваться\n",
            "производить\n",
            "применить\n",
            "объяснять\n",
            "строить\n",
            "последовать\n",
            "перестать\n",
            "предпринять\n",
            "закончить\n",
            "перекрыть\n",
            "опуститься\n",
            "посчитать\n",
            "обновить\n",
            "образоваться\n",
            "изучить\n",
            "решать\n",
            "добавлять\n",
            "усилить\n",
            "остановиться\n",
            "чувствовать\n",
            "применять\n",
            "изучать\n",
            "заказать\n",
            "возникать\n",
            "приходить\n",
            "посоветовать\n",
            "инициировать\n",
            "решаться\n",
            "изготовить\n",
            "начинаться\n",
            "приниматься\n",
            "придерживаться\n",
            "объединять\n",
            "уменьшиться\n",
            "образовать\n",
            "продолжиться\n",
            "проанализировать\n",
            "снижаться\n",
            "учредить\n",
            "тратить\n",
            "уменьшить\n",
            "распорядиться\n",
            "пояснять\n",
            "исследовать\n",
            "курировать\n",
            "обойти\n",
            "наступить\n",
            "отражать\n",
            "находить\n",
            "увеличиваться\n",
            "употреблять\n",
            "предпринимать\n",
            "отвести\n",
            "почувствовать\n",
            "подключить\n",
            "увеличивать\n",
            "закрывать\n",
            "проинформировать\n",
            "вспомнить\n",
            "разворачиваться\n",
            "снижать\n",
            "достать\n",
            "изложить\n",
            "понизить\n",
            "отслеживать\n",
            "держаться\n",
            "повыситься\n",
            "формировать\n",
            "информировать\n",
            "подписывать\n",
            "запускать\n",
            "везти\n",
            "выработать\n",
            "взяться\n",
            "прекращать\n",
            "анализировать\n",
            "сокращать\n",
            "доложить\n",
            "научить\n",
            "воспринимать\n",
            "развернуться\n",
            "прибавить\n",
            "подъехать\n",
            "освещать\n",
            "завязаться\n",
            "останавливаться\n",
            "разъяснить\n",
            "приняться\n",
            "нарастить\n",
            "вспоминать\n",
            "повышаться\n",
            "прекращаться\n",
            "преподавать\n",
            "забывать\n",
            "возрастать\n",
            "завершаться\n",
            "воссоздать\n",
            "поведать\n",
            "просмотреть\n",
            "освоить\n",
            "опускаться\n",
            "понизиться\n",
            "генерировать\n",
            "распоряжаться\n",
            "выращивать\n",
            "разглядеть\n",
            "уменьшаться\n",
            "разыскать\n",
            "вырабатывать\n",
            "приостанавливать\n",
            "затормозить\n",
            "преобладать\n",
            "браться\n",
            "осознавать\n",
            "соорудить\n",
            "отследить\n",
            "воспроизводить\n",
            "присуждать\n",
            "осваивать\n",
            "уменьшать\n",
            "переставать\n",
            "подбросить\n",
            "затратить\n",
            "сбрасывать\n",
            "обновлять\n",
            "укоротить\n",
            "приступать\n",
            "консультировать\n",
            "заехать\n",
            "консолидировать\n",
            "перекрывать\n",
            "окончиться\n",
            "употребить\n",
            "уведомлять\n",
            "воспроизвести\n",
            "тормозить\n",
            "сконструировать\n",
            "обосноваться\n",
            "расходовать\n",
            "осветить\n",
            "развиться\n",
            "удвоиться\n",
            "придумывать\n",
            "тянуть\n",
            "доставать\n",
            "расшириться\n",
            "иллюстрировать\n",
            "угадать\n",
            "кончиться\n",
            "подключать\n",
            "приостанавливаться\n",
            "трактовать\n",
            "докладывать\n",
            "прихватить\n",
            "подыскать\n",
            "истолковать\n",
            "сочинить\n",
            "разъяснять\n",
            "отодвинуть\n",
            "рожать\n",
            "обгонять\n",
            "порождать\n",
            "подыскивать\n",
            "образовываться\n",
            "сторожить\n",
            "проиллюстрировать\n",
            "присматривать\n",
            "вытаскивать\n",
            "проконсультироваться\n",
            "заливать\n",
            "консультироваться\n",
            "излагать\n",
            "потянуть\n",
            "выкопать\n",
            "прибавиться\n",
            "раскопать\n",
            "подсказать\n",
            "нормализовать\n",
            "отделать\n",
            "вешать\n",
            "разложить\n",
            "тащить\n",
            "подъезжать\n",
            "апеллировать\n",
            "оповещать\n",
            "красить\n",
            "возобновляться\n",
            "поискать\n",
            "изыскать\n",
            "надлежать\n",
            "развозить\n",
            "понаблюдать\n"
          ],
          "name": "stdout"
        }
      ]
    },
    {
      "cell_type": "code",
      "metadata": {
        "id": "DZC3WFhNuWTL",
        "colab_type": "code",
        "colab": {}
      },
      "source": [
        "senti_df = pd.read_csv(\\\n",
        "    'https://raw.githubusercontent.com/DmitryKutsev/NIS_SentiFrame/master/annotations/SENTIFRAME%20-%20case_annotation.csv')"
      ],
      "execution_count": 0,
      "outputs": []
    },
    {
      "cell_type": "code",
      "metadata": {
        "id": "5ti2B-IPunTx",
        "colab_type": "code",
        "outputId": "2a946d7d-8b32-4773-a1a2-26c0307c6de5",
        "colab": {
          "base_uri": "https://localhost:8080/",
          "height": 34
        }
      },
      "source": [
        "'арестовать' in list(senti_df['verb'])"
      ],
      "execution_count": 8,
      "outputs": [
        {
          "output_type": "execute_result",
          "data": {
            "text/plain": [
              "True"
            ]
          },
          "metadata": {
            "tags": []
          },
          "execution_count": 8
        }
      ]
    },
    {
      "cell_type": "code",
      "metadata": {
        "id": "usQaJstbvg4D",
        "colab_type": "code",
        "colab": {}
      },
      "source": [
        "senti_df['polarity_summ'] = senti_df['polarity_masha'] + senti_df['polarity_dima'] + senti_df['polarity_ira']"
      ],
      "execution_count": 0,
      "outputs": []
    },
    {
      "cell_type": "code",
      "metadata": {
        "id": "XX5urUFRv15E",
        "colab_type": "code",
        "colab": {}
      },
      "source": [
        "my_senti_df = senti_df.drop(['polarity_dima', 'polarity_masha', 'polarity_ira', 'падеж первого аргумента, по умолчанию nomn', '\"Класс\"','rel(А0,A1)','rel(А1,A0)'], axis=1)"
      ],
      "execution_count": 0,
      "outputs": []
    },
    {
      "cell_type": "code",
      "metadata": {
        "id": "YgSzmygTw88a",
        "colab_type": "code",
        "colab": {}
      },
      "source": [
        "my_senti_df['падеж второго аргумента в нотации pymorphy2'] = my_senti_df['падеж второго аргумента в нотации pymorphy2, по умолчанию accs']"
      ],
      "execution_count": 0,
      "outputs": []
    },
    {
      "cell_type": "code",
      "metadata": {
        "id": "sWmbkK_Vz1HC",
        "colab_type": "code",
        "outputId": "d44e4d7f-40ae-460e-8480-cb534daa2ce9",
        "colab": {
          "base_uri": "https://localhost:8080/",
          "height": 357
        }
      },
      "source": [
        "my_senti_df = my_senti_df.drop(['падеж второго аргумента в нотации pymorphy2, по умолчанию accs'], axis=1)\n",
        "my_senti_df = my_senti_df.drop(['Комментарий'], axis=1)\n",
        "my_senti_df['polar_or_not'] = list(ton_df['count'])\n",
        "my_senti_df"
      ],
      "execution_count": 14,
      "outputs": [
        {
          "output_type": "error",
          "ename": "KeyError",
          "evalue": "ignored",
          "traceback": [
            "\u001b[0;31m---------------------------------------------------------------------------\u001b[0m",
            "\u001b[0;31mKeyError\u001b[0m                                  Traceback (most recent call last)",
            "\u001b[0;32m<ipython-input-14-0cfbed0ec752>\u001b[0m in \u001b[0;36m<module>\u001b[0;34m()\u001b[0m\n\u001b[0;32m----> 1\u001b[0;31m \u001b[0mmy_senti_df\u001b[0m \u001b[0;34m=\u001b[0m \u001b[0mmy_senti_df\u001b[0m\u001b[0;34m.\u001b[0m\u001b[0mdrop\u001b[0m\u001b[0;34m(\u001b[0m\u001b[0;34m[\u001b[0m\u001b[0;34m'падеж второго аргумента в нотации pymorphy2, по умолчанию accs'\u001b[0m\u001b[0;34m]\u001b[0m\u001b[0;34m,\u001b[0m \u001b[0maxis\u001b[0m\u001b[0;34m=\u001b[0m\u001b[0;36m1\u001b[0m\u001b[0;34m)\u001b[0m\u001b[0;34m\u001b[0m\u001b[0;34m\u001b[0m\u001b[0m\n\u001b[0m\u001b[1;32m      2\u001b[0m \u001b[0mmy_senti_df\u001b[0m \u001b[0;34m=\u001b[0m \u001b[0mmy_senti_df\u001b[0m\u001b[0;34m.\u001b[0m\u001b[0mdrop\u001b[0m\u001b[0;34m(\u001b[0m\u001b[0;34m[\u001b[0m\u001b[0;34m'Комментарий'\u001b[0m\u001b[0;34m]\u001b[0m\u001b[0;34m,\u001b[0m \u001b[0maxis\u001b[0m\u001b[0;34m=\u001b[0m\u001b[0;36m1\u001b[0m\u001b[0;34m)\u001b[0m\u001b[0;34m\u001b[0m\u001b[0;34m\u001b[0m\u001b[0m\n\u001b[1;32m      3\u001b[0m \u001b[0mmy_senti_df\u001b[0m\u001b[0;34m[\u001b[0m\u001b[0;34m'polar_or_not'\u001b[0m\u001b[0;34m]\u001b[0m \u001b[0;34m=\u001b[0m \u001b[0mlist\u001b[0m\u001b[0;34m(\u001b[0m\u001b[0mton_df\u001b[0m\u001b[0;34m[\u001b[0m\u001b[0;34m'count'\u001b[0m\u001b[0;34m]\u001b[0m\u001b[0;34m)\u001b[0m\u001b[0;34m\u001b[0m\u001b[0;34m\u001b[0m\u001b[0m\n\u001b[1;32m      4\u001b[0m \u001b[0mmy_senti_df\u001b[0m\u001b[0;34m\u001b[0m\u001b[0;34m\u001b[0m\u001b[0m\n",
            "\u001b[0;32m/usr/local/lib/python3.6/dist-packages/pandas/core/frame.py\u001b[0m in \u001b[0;36mdrop\u001b[0;34m(self, labels, axis, index, columns, level, inplace, errors)\u001b[0m\n\u001b[1;32m   3995\u001b[0m             \u001b[0mlevel\u001b[0m\u001b[0;34m=\u001b[0m\u001b[0mlevel\u001b[0m\u001b[0;34m,\u001b[0m\u001b[0;34m\u001b[0m\u001b[0;34m\u001b[0m\u001b[0m\n\u001b[1;32m   3996\u001b[0m             \u001b[0minplace\u001b[0m\u001b[0;34m=\u001b[0m\u001b[0minplace\u001b[0m\u001b[0;34m,\u001b[0m\u001b[0;34m\u001b[0m\u001b[0;34m\u001b[0m\u001b[0m\n\u001b[0;32m-> 3997\u001b[0;31m             \u001b[0merrors\u001b[0m\u001b[0;34m=\u001b[0m\u001b[0merrors\u001b[0m\u001b[0;34m,\u001b[0m\u001b[0;34m\u001b[0m\u001b[0;34m\u001b[0m\u001b[0m\n\u001b[0m\u001b[1;32m   3998\u001b[0m         )\n\u001b[1;32m   3999\u001b[0m \u001b[0;34m\u001b[0m\u001b[0m\n",
            "\u001b[0;32m/usr/local/lib/python3.6/dist-packages/pandas/core/generic.py\u001b[0m in \u001b[0;36mdrop\u001b[0;34m(self, labels, axis, index, columns, level, inplace, errors)\u001b[0m\n\u001b[1;32m   3934\u001b[0m         \u001b[0;32mfor\u001b[0m \u001b[0maxis\u001b[0m\u001b[0;34m,\u001b[0m \u001b[0mlabels\u001b[0m \u001b[0;32min\u001b[0m \u001b[0maxes\u001b[0m\u001b[0;34m.\u001b[0m\u001b[0mitems\u001b[0m\u001b[0;34m(\u001b[0m\u001b[0;34m)\u001b[0m\u001b[0;34m:\u001b[0m\u001b[0;34m\u001b[0m\u001b[0;34m\u001b[0m\u001b[0m\n\u001b[1;32m   3935\u001b[0m             \u001b[0;32mif\u001b[0m \u001b[0mlabels\u001b[0m \u001b[0;32mis\u001b[0m \u001b[0;32mnot\u001b[0m \u001b[0;32mNone\u001b[0m\u001b[0;34m:\u001b[0m\u001b[0;34m\u001b[0m\u001b[0;34m\u001b[0m\u001b[0m\n\u001b[0;32m-> 3936\u001b[0;31m                 \u001b[0mobj\u001b[0m \u001b[0;34m=\u001b[0m \u001b[0mobj\u001b[0m\u001b[0;34m.\u001b[0m\u001b[0m_drop_axis\u001b[0m\u001b[0;34m(\u001b[0m\u001b[0mlabels\u001b[0m\u001b[0;34m,\u001b[0m \u001b[0maxis\u001b[0m\u001b[0;34m,\u001b[0m \u001b[0mlevel\u001b[0m\u001b[0;34m=\u001b[0m\u001b[0mlevel\u001b[0m\u001b[0;34m,\u001b[0m \u001b[0merrors\u001b[0m\u001b[0;34m=\u001b[0m\u001b[0merrors\u001b[0m\u001b[0;34m)\u001b[0m\u001b[0;34m\u001b[0m\u001b[0;34m\u001b[0m\u001b[0m\n\u001b[0m\u001b[1;32m   3937\u001b[0m \u001b[0;34m\u001b[0m\u001b[0m\n\u001b[1;32m   3938\u001b[0m         \u001b[0;32mif\u001b[0m \u001b[0minplace\u001b[0m\u001b[0;34m:\u001b[0m\u001b[0;34m\u001b[0m\u001b[0;34m\u001b[0m\u001b[0m\n",
            "\u001b[0;32m/usr/local/lib/python3.6/dist-packages/pandas/core/generic.py\u001b[0m in \u001b[0;36m_drop_axis\u001b[0;34m(self, labels, axis, level, errors)\u001b[0m\n\u001b[1;32m   3968\u001b[0m                 \u001b[0mnew_axis\u001b[0m \u001b[0;34m=\u001b[0m \u001b[0maxis\u001b[0m\u001b[0;34m.\u001b[0m\u001b[0mdrop\u001b[0m\u001b[0;34m(\u001b[0m\u001b[0mlabels\u001b[0m\u001b[0;34m,\u001b[0m \u001b[0mlevel\u001b[0m\u001b[0;34m=\u001b[0m\u001b[0mlevel\u001b[0m\u001b[0;34m,\u001b[0m \u001b[0merrors\u001b[0m\u001b[0;34m=\u001b[0m\u001b[0merrors\u001b[0m\u001b[0;34m)\u001b[0m\u001b[0;34m\u001b[0m\u001b[0;34m\u001b[0m\u001b[0m\n\u001b[1;32m   3969\u001b[0m             \u001b[0;32melse\u001b[0m\u001b[0;34m:\u001b[0m\u001b[0;34m\u001b[0m\u001b[0;34m\u001b[0m\u001b[0m\n\u001b[0;32m-> 3970\u001b[0;31m                 \u001b[0mnew_axis\u001b[0m \u001b[0;34m=\u001b[0m \u001b[0maxis\u001b[0m\u001b[0;34m.\u001b[0m\u001b[0mdrop\u001b[0m\u001b[0;34m(\u001b[0m\u001b[0mlabels\u001b[0m\u001b[0;34m,\u001b[0m \u001b[0merrors\u001b[0m\u001b[0;34m=\u001b[0m\u001b[0merrors\u001b[0m\u001b[0;34m)\u001b[0m\u001b[0;34m\u001b[0m\u001b[0;34m\u001b[0m\u001b[0m\n\u001b[0m\u001b[1;32m   3971\u001b[0m             \u001b[0mresult\u001b[0m \u001b[0;34m=\u001b[0m \u001b[0mself\u001b[0m\u001b[0;34m.\u001b[0m\u001b[0mreindex\u001b[0m\u001b[0;34m(\u001b[0m\u001b[0;34m**\u001b[0m\u001b[0;34m{\u001b[0m\u001b[0maxis_name\u001b[0m\u001b[0;34m:\u001b[0m \u001b[0mnew_axis\u001b[0m\u001b[0;34m}\u001b[0m\u001b[0;34m)\u001b[0m\u001b[0;34m\u001b[0m\u001b[0;34m\u001b[0m\u001b[0m\n\u001b[1;32m   3972\u001b[0m \u001b[0;34m\u001b[0m\u001b[0m\n",
            "\u001b[0;32m/usr/local/lib/python3.6/dist-packages/pandas/core/indexes/base.py\u001b[0m in \u001b[0;36mdrop\u001b[0;34m(self, labels, errors)\u001b[0m\n\u001b[1;32m   5016\u001b[0m         \u001b[0;32mif\u001b[0m \u001b[0mmask\u001b[0m\u001b[0;34m.\u001b[0m\u001b[0many\u001b[0m\u001b[0;34m(\u001b[0m\u001b[0;34m)\u001b[0m\u001b[0;34m:\u001b[0m\u001b[0;34m\u001b[0m\u001b[0;34m\u001b[0m\u001b[0m\n\u001b[1;32m   5017\u001b[0m             \u001b[0;32mif\u001b[0m \u001b[0merrors\u001b[0m \u001b[0;34m!=\u001b[0m \u001b[0;34m\"ignore\"\u001b[0m\u001b[0;34m:\u001b[0m\u001b[0;34m\u001b[0m\u001b[0;34m\u001b[0m\u001b[0m\n\u001b[0;32m-> 5018\u001b[0;31m                 \u001b[0;32mraise\u001b[0m \u001b[0mKeyError\u001b[0m\u001b[0;34m(\u001b[0m\u001b[0;34mf\"{labels[mask]} not found in axis\"\u001b[0m\u001b[0;34m)\u001b[0m\u001b[0;34m\u001b[0m\u001b[0;34m\u001b[0m\u001b[0m\n\u001b[0m\u001b[1;32m   5019\u001b[0m             \u001b[0mindexer\u001b[0m \u001b[0;34m=\u001b[0m \u001b[0mindexer\u001b[0m\u001b[0;34m[\u001b[0m\u001b[0;34m~\u001b[0m\u001b[0mmask\u001b[0m\u001b[0;34m]\u001b[0m\u001b[0;34m\u001b[0m\u001b[0;34m\u001b[0m\u001b[0m\n\u001b[1;32m   5020\u001b[0m         \u001b[0;32mreturn\u001b[0m \u001b[0mself\u001b[0m\u001b[0;34m.\u001b[0m\u001b[0mdelete\u001b[0m\u001b[0;34m(\u001b[0m\u001b[0mindexer\u001b[0m\u001b[0;34m)\u001b[0m\u001b[0;34m\u001b[0m\u001b[0;34m\u001b[0m\u001b[0m\n",
            "\u001b[0;31mKeyError\u001b[0m: \"['падеж второго аргумента в нотации pymorphy2, по умолчанию accs'] not found in axis\""
          ]
        }
      ]
    },
    {
      "cell_type": "code",
      "metadata": {
        "id": "YiE8Ze35z7Gx",
        "colab_type": "code",
        "outputId": "b266e11c-1792-4924-e7ae-8f620ecce4e4",
        "colab": {
          "base_uri": "https://localhost:8080/",
          "height": 204
        }
      },
      "source": [
        "#tayga_none_fasttextcbow_300_10_2019\n",
        "\n",
        "!wget http://vectors.nlpl.eu/repository/20/187.zip"
      ],
      "execution_count": 15,
      "outputs": [
        {
          "output_type": "stream",
          "text": [
            "--2020-06-05 13:18:43--  http://vectors.nlpl.eu/repository/20/187.zip\n",
            "Resolving vectors.nlpl.eu (vectors.nlpl.eu)... 129.240.189.225\n",
            "Connecting to vectors.nlpl.eu (vectors.nlpl.eu)|129.240.189.225|:80... connected.\n",
            "HTTP request sent, awaiting response... 200 OK\n",
            "Length: 2692389554 (2.5G) [application/zip]\n",
            "Saving to: ‘187.zip’\n",
            "\n",
            "187.zip             100%[===================>]   2.51G  23.2MB/s    in 1m 57s  \n",
            "\n",
            "2020-06-05 13:20:41 (21.9 MB/s) - ‘187.zip’ saved [2692389554/2692389554]\n",
            "\n"
          ],
          "name": "stdout"
        }
      ]
    },
    {
      "cell_type": "code",
      "metadata": {
        "id": "WGQ5uasVBK4k",
        "colab_type": "code",
        "colab": {
          "base_uri": "https://localhost:8080/",
          "height": 136
        },
        "outputId": "3d013748-743b-4c27-cde4-bdd8f7b500a6"
      },
      "source": [
        "!unzip 187.zip"
      ],
      "execution_count": 16,
      "outputs": [
        {
          "output_type": "stream",
          "text": [
            "Archive:  187.zip\n",
            "  inflating: meta.json               \n",
            "  inflating: model.model             \n",
            "  inflating: model.model.vectors_ngrams.npy  \n",
            "  inflating: model.model.vectors.npy  \n",
            "  inflating: model.model.vectors_vocab.npy  \n",
            "  inflating: README                  \n"
          ],
          "name": "stdout"
        }
      ]
    },
    {
      "cell_type": "code",
      "metadata": {
        "id": "RfE__yUHBPII",
        "colab_type": "code",
        "colab": {
          "base_uri": "https://localhost:8080/",
          "height": 360
        },
        "outputId": "89def064-9307-4f8c-e6a6-629a8163771c"
      },
      "source": [
        "!pip install pymorphy2['fast']\n",
        "from collections import Counter\n",
        "import json\n",
        "import numpy as np\n",
        "from sklearn.metrics.pairwise import cosine_distances, cosine_similarity\n",
        "import pymorphy2\n",
        "import gensim\n",
        "morph = pymorphy2.MorphAnalyzer()"
      ],
      "execution_count": 38,
      "outputs": [
        {
          "output_type": "stream",
          "text": [
            "Collecting pymorphy2[fast]\n",
            "\u001b[?25l  Downloading https://files.pythonhosted.org/packages/a3/33/fff9675c68b5f6c63ec8c6e6ff57827dda28a1fa5b2c2d727dffff92dd47/pymorphy2-0.8-py2.py3-none-any.whl (46kB)\n",
            "\u001b[K     |████████████████████████████████| 51kB 1.6MB/s \n",
            "\u001b[?25hCollecting pymorphy2-dicts<3.0,>=2.4\n",
            "\u001b[?25l  Downloading https://files.pythonhosted.org/packages/02/51/2465fd4f72328ab50877b54777764d928da8cb15b74e2680fc1bd8cb3173/pymorphy2_dicts-2.4.393442.3710985-py2.py3-none-any.whl (7.1MB)\n",
            "\u001b[K     |████████████████████████████████| 7.1MB 6.4MB/s \n",
            "\u001b[?25hCollecting dawg-python>=0.7\n",
            "  Downloading https://files.pythonhosted.org/packages/6a/84/ff1ce2071d4c650ec85745766c0047ccc3b5036f1d03559fd46bb38b5eeb/DAWG_Python-0.7.2-py2.py3-none-any.whl\n",
            "Requirement already satisfied: docopt>=0.6 in /usr/local/lib/python3.6/dist-packages (from pymorphy2[fast]) (0.6.2)\n",
            "Collecting DAWG>=0.7.3; extra == \"fast\"\n",
            "\u001b[?25l  Downloading https://files.pythonhosted.org/packages/b8/ef/91b619a399685f7a0a95a03628006ba814d96293bbbbed234ee66fbdefd9/DAWG-0.8.0.tar.gz (371kB)\n",
            "\u001b[K     |████████████████████████████████| 378kB 43.1MB/s \n",
            "\u001b[?25hBuilding wheels for collected packages: DAWG\n",
            "  Building wheel for DAWG (setup.py) ... \u001b[?25l\u001b[?25hdone\n",
            "  Created wheel for DAWG: filename=DAWG-0.8.0-cp36-cp36m-linux_x86_64.whl size=861441 sha256=b8147b53ac4276708a5cc567bed8f3d2de90359fccfe665cf2fa6091f3806ea4\n",
            "  Stored in directory: /root/.cache/pip/wheels/3d/1f/f0/a5b1f9d02e193c997d252c33d215f24dfd7a448bc0166b2a12\n",
            "Successfully built DAWG\n",
            "Installing collected packages: pymorphy2-dicts, dawg-python, DAWG, pymorphy2\n",
            "Successfully installed DAWG-0.8.0 dawg-python-0.7.2 pymorphy2-0.8 pymorphy2-dicts-2.4.393442.3710985\n"
          ],
          "name": "stdout"
        }
      ]
    },
    {
      "cell_type": "code",
      "metadata": {
        "id": "0T9iYmakhFpI",
        "colab_type": "code",
        "colab": {
          "base_uri": "https://localhost:8080/",
          "height": 204
        },
        "outputId": "be9790f8-d344-4e22-e6fe-398553497258"
      },
      "source": [
        "!wget http://vectors.nlpl.eu/repository/20/181.zip"
      ],
      "execution_count": 35,
      "outputs": [
        {
          "output_type": "stream",
          "text": [
            "--2020-06-04 16:32:45--  http://vectors.nlpl.eu/repository/20/181.zip\n",
            "Resolving vectors.nlpl.eu (vectors.nlpl.eu)... 129.240.189.225\n",
            "Connecting to vectors.nlpl.eu (vectors.nlpl.eu)|129.240.189.225|:80... connected.\n",
            "HTTP request sent, awaiting response... 200 OK\n",
            "Length: 2622716250 (2.4G) [application/zip]\n",
            "Saving to: ‘181.zip’\n",
            "\n",
            "181.zip             100%[===================>]   2.44G  23.5MB/s    in 1m 55s  \n",
            "\n",
            "2020-06-04 16:34:41 (21.8 MB/s) - ‘181.zip’ saved [2622716250/2622716250]\n",
            "\n"
          ],
          "name": "stdout"
        }
      ]
    },
    {
      "cell_type": "code",
      "metadata": {
        "id": "rnpDWrHlCf3d",
        "colab_type": "code",
        "colab": {
          "base_uri": "https://localhost:8080/",
          "height": 71
        },
        "outputId": "0889d040-b3d6-4607-c1a3-15b353aee3dd"
      },
      "source": [
        "fasttext_model = gensim.models.KeyedVectors.load(\"model.model\")"
      ],
      "execution_count": 39,
      "outputs": [
        {
          "output_type": "stream",
          "text": [
            "/usr/local/lib/python3.6/dist-packages/smart_open/smart_open_lib.py:253: UserWarning: This function is deprecated, use smart_open.open instead. See the migration notes for details: https://github.com/RaRe-Technologies/smart_open/blob/master/README.rst#migrating-to-the-new-open-function\n",
            "  'See the migration notes for details: %s' % _MIGRATION_NOTES_URL\n"
          ],
          "name": "stderr"
        }
      ]
    },
    {
      "cell_type": "code",
      "metadata": {
        "id": "otHnzy2ohIQA",
        "colab_type": "code",
        "outputId": "82644c3d-081a-42e9-be25-ee3df481533b",
        "colab": {
          "base_uri": "https://localhost:8080/",
          "height": 153
        }
      },
      "source": [
        "!unzip 181.zip"
      ],
      "execution_count": 40,
      "outputs": [
        {
          "output_type": "stream",
          "text": [
            "Archive:  181.zip\n",
            "replace meta.json? [y]es, [n]o, [A]ll, [N]one, [r]ename: A\n",
            "  inflating: meta.json               \n",
            "  inflating: model.model             \n",
            "  inflating: model.model.vectors_ngrams.npy  \n",
            "  inflating: model.model.vectors.npy  \n",
            "  inflating: model.model.vectors_vocab.npy  \n",
            "  inflating: README                  \n"
          ],
          "name": "stdout"
        }
      ]
    },
    {
      "cell_type": "code",
      "metadata": {
        "id": "rb2WWaeAhPDN",
        "colab_type": "code",
        "outputId": "12340366-1f5b-42ab-b09a-b7341aa570be",
        "colab": {
          "base_uri": "https://localhost:8080/",
          "height": 71
        }
      },
      "source": [
        "fasttext_model2 = gensim.models.KeyedVectors.load(\"model.model\")\n"
      ],
      "execution_count": 41,
      "outputs": [
        {
          "output_type": "stream",
          "text": [
            "/usr/local/lib/python3.6/dist-packages/smart_open/smart_open_lib.py:253: UserWarning: This function is deprecated, use smart_open.open instead. See the migration notes for details: https://github.com/RaRe-Technologies/smart_open/blob/master/README.rst#migrating-to-the-new-open-function\n",
            "  'See the migration notes for details: %s' % _MIGRATION_NOTES_URL\n"
          ],
          "name": "stderr"
        }
      ]
    },
    {
      "cell_type": "code",
      "metadata": {
        "id": "RDQshC88BCct",
        "colab_type": "code",
        "outputId": "0cc77c6d-8779-42e8-e4cb-4a79b37cf134",
        "colab": {
          "base_uri": "https://localhost:8080/",
          "height": 204
        }
      },
      "source": [
        "!wget https://raw.githubusercontent.com/nicolay-r/RuSentiFrames/master/collection.json"
      ],
      "execution_count": 42,
      "outputs": [
        {
          "output_type": "stream",
          "text": [
            "--2020-06-04 16:38:07--  https://raw.githubusercontent.com/nicolay-r/RuSentiFrames/master/collection.json\n",
            "Resolving raw.githubusercontent.com (raw.githubusercontent.com)... 151.101.0.133, 151.101.64.133, 151.101.128.133, ...\n",
            "Connecting to raw.githubusercontent.com (raw.githubusercontent.com)|151.101.0.133|:443... connected.\n",
            "HTTP request sent, awaiting response... 200 OK\n",
            "Length: 674938 (659K) [text/plain]\n",
            "Saving to: ‘collection.json’\n",
            "\n",
            "\rcollection.json       0%[                    ]       0  --.-KB/s               \rcollection.json     100%[===================>] 659.12K  --.-KB/s    in 0.08s   \n",
            "\n",
            "2020-06-04 16:38:07 (8.18 MB/s) - ‘collection.json’ saved [674938/674938]\n",
            "\n"
          ],
          "name": "stdout"
        }
      ]
    },
    {
      "cell_type": "code",
      "metadata": {
        "id": "X_6HEMAABVgW",
        "colab_type": "code",
        "colab": {}
      },
      "source": [
        "# positive_multi_seed = ['одобрять', 'хвалить', 'поощрять', 'любить']\n",
        "# negative_multi_seed = ['ненавидеть', 'убить', 'ругать', 'злиться']\n",
        "\n",
        "positive_multi_seed = ['одобрять', 'хвалить', 'поощрять', 'любить', \\\n",
        "                       'обожать', 'восхищаться', 'восторгаться', 'гордиться',\\\n",
        "                        'ценить','превозносить']\n",
        "negative_multi_seed = ['ненавидеть', 'ругать', 'злиться', 'порицать', \n",
        "                        'осуждать', 'негодовать', 'обвинять', 'наказывать', \n",
        "                        'убивать', 'разрушать',]\n",
        "\n",
        "positive_single_seed = ['ценить']\n",
        "negative_single_seed = ['ненавидеть']"
      ],
      "execution_count": 0,
      "outputs": []
    },
    {
      "cell_type": "code",
      "metadata": {
        "id": "sbU9sK06BqSY",
        "colab_type": "code",
        "colab": {}
      },
      "source": [
        "def make_seed_embedding(seed_dict, model):\n",
        "  '''\n",
        "  Принимает на вход список, на выходе дает средний вектор всех слов из этого списка\n",
        "  '''\n",
        "  summ = 0\n",
        "  for verb in seed_dict:\n",
        "    summ = summ + model.get_vector(verb)\n",
        "  vector = summ/len(seed_dict)\n",
        "\n",
        "  return vector\n",
        "\n",
        "positive_multi_embedding = make_seed_embedding(positive_multi_seed, fasttext_model)\n",
        "negative_multi_embedding = make_seed_embedding(negative_multi_seed, fasttext_model)\n",
        "\n",
        "positive_multi_embedding2 = make_seed_embedding(positive_multi_seed, fasttext_model2)\n",
        "negative_multi_embedding2 = make_seed_embedding(negative_multi_seed, fasttext_model2)"
      ],
      "execution_count": 0,
      "outputs": []
    },
    {
      "cell_type": "code",
      "metadata": {
        "id": "DPxb_drMB0mU",
        "colab_type": "code",
        "colab": {}
      },
      "source": [
        "axis = positive_multi_embedding  - negative_multi_embedding\n",
        "axis2 = positive_multi_embedding2  - negative_multi_embedding2"
      ],
      "execution_count": 0,
      "outputs": []
    },
    {
      "cell_type": "code",
      "metadata": {
        "id": "MSAQvU6hCNT2",
        "colab_type": "code",
        "outputId": "03a5aac6-a0de-408e-e5fc-0491a414f1e1",
        "colab": {
          "base_uri": "https://localhost:8080/",
          "height": 34
        }
      },
      "source": [
        "cosine_similarity(np.atleast_2d(fasttext_model.get_vector('беречь')), np.atleast_2d(axis))[0][0]"
      ],
      "execution_count": 50,
      "outputs": [
        {
          "output_type": "execute_result",
          "data": {
            "text/plain": [
              "0.176308"
            ]
          },
          "metadata": {
            "tags": []
          },
          "execution_count": 50
        }
      ]
    },
    {
      "cell_type": "code",
      "metadata": {
        "id": "ubevKISpj52b",
        "colab_type": "code",
        "outputId": "1465ea62-8566-46ee-9c03-8c676ad77fc7",
        "colab": {
          "base_uri": "https://localhost:8080/",
          "height": 34
        }
      },
      "source": [
        "cosine_similarity(np.atleast_2d(fasttext_model2.get_vector('беречь')), np.atleast_2d(axis2))[0][0]"
      ],
      "execution_count": 51,
      "outputs": [
        {
          "output_type": "execute_result",
          "data": {
            "text/plain": [
              "0.05544188"
            ]
          },
          "metadata": {
            "tags": []
          },
          "execution_count": 51
        }
      ]
    },
    {
      "cell_type": "code",
      "metadata": {
        "id": "C8QC5_T5DRwk",
        "colab_type": "code",
        "outputId": "8c8dfe88-58d6-4c70-b97d-4489ab554bb1",
        "colab": {
          "base_uri": "https://localhost:8080/",
          "height": 34
        }
      },
      "source": [
        "cosine_similarity(np.atleast_2d(fasttext_model.get_vector('арестовывать')), np.atleast_2d(axis))[0][0]"
      ],
      "execution_count": 52,
      "outputs": [
        {
          "output_type": "execute_result",
          "data": {
            "text/plain": [
              "-0.33598447"
            ]
          },
          "metadata": {
            "tags": []
          },
          "execution_count": 52
        }
      ]
    },
    {
      "cell_type": "code",
      "metadata": {
        "id": "jXV_pnqYkEsB",
        "colab_type": "code",
        "outputId": "9a5767de-c3e0-4d45-fd32-6c756bf1bed6",
        "colab": {
          "base_uri": "https://localhost:8080/",
          "height": 34
        }
      },
      "source": [
        "cosine_similarity(np.atleast_2d(fasttext_model2.get_vector('арестовывать')), np.atleast_2d(axis2))[0][0]"
      ],
      "execution_count": 53,
      "outputs": [
        {
          "output_type": "execute_result",
          "data": {
            "text/plain": [
              "-0.31813756"
            ]
          },
          "metadata": {
            "tags": []
          },
          "execution_count": 53
        }
      ]
    },
    {
      "cell_type": "code",
      "metadata": {
        "id": "bJaBbkMMDmMx",
        "colab_type": "code",
        "colab": {}
      },
      "source": [
        "fasttext_pol = []\n",
        "cosine_lst = []\n",
        "manual_pol = []\n",
        "treshold = 0.03\n",
        "for i in range(len(my_senti_df['verb'])):\n",
        "  cosine = cosine_similarity(np.atleast_2d(fasttext_model.get_vector(my_senti_df['verb'][i])), \\\n",
        "                             np.atleast_2d(axis))\n",
        "  if cosine >= treshold:\n",
        "    fasttext_pol.append(1)\n",
        "  else:\n",
        "    fasttext_pol.append(0)\n",
        "  cosine_lst.append(cosine[0][0])\n",
        "  if my_senti_df['polarity_summ'][i] > 1:\n",
        "    manual_pol.append(1)\n",
        "  else:\n",
        "    manual_pol.append(0)\n",
        "my_senti_df['fasttext_polarity'] = fasttext_pol\n",
        "my_senti_df['manual_polarity'] = manual_pol\n",
        "my_senti_df['cosine_distance'] = cosine_lst\n",
        "\n",
        "  "
      ],
      "execution_count": 0,
      "outputs": []
    },
    {
      "cell_type": "code",
      "metadata": {
        "id": "SKlMGMuNkMz_",
        "colab_type": "code",
        "outputId": "a8b94f24-0bef-4de2-d273-56b9a1d95efb",
        "colab": {
          "base_uri": "https://localhost:8080/",
          "height": 51
        }
      },
      "source": [
        "fasttext_pol2 = []\n",
        "cosine_lst2 = []\n",
        "not_in_model2 = []\n",
        "treshold = 0.03\n",
        "for i in range(len(my_senti_df['verb'])):\n",
        "  try:\n",
        "    cosine = cosine_similarity(np.atleast_2d(fasttext_model2.get_vector(my_senti_df['verb'][i])),\\\n",
        "                              np.atleast_2d(axis2))\n",
        "    if cosine >= treshold:\n",
        "      fasttext_pol2.append(1)\n",
        "    else:\n",
        "      fasttext_pol2.append(0)\n",
        "    cosine_lst2.append(cosine[0][0])\n",
        "  except AttributeError as e:\n",
        "    not_in_model2.append([i])\n",
        "\n",
        "\n",
        "print(len(not_in_model2))\n",
        "for i in not_in_model2:\n",
        "  print(i)\n",
        "  my_senti_df = my_senti_df.drop(i)\n",
        "\n",
        "\n",
        "my_senti_df['cosine_distance2'] = cosine_lst2\n",
        "my_senti_df['fasttext_polarity2'] = fasttext_pol2"
      ],
      "execution_count": 56,
      "outputs": [
        {
          "output_type": "stream",
          "text": [
            "1\n",
            "[444]\n"
          ],
          "name": "stdout"
        }
      ]
    },
    {
      "cell_type": "code",
      "metadata": {
        "id": "Xneb0X8g12EQ",
        "colab_type": "code",
        "outputId": "12436a9f-0065-46ec-944c-ccfd571001b9",
        "colab": {
          "base_uri": "https://localhost:8080/",
          "height": 51
        }
      },
      "source": [
        "print(len(fasttext_model2.vocab))\n",
        "len(fasttext_model.vocab)"
      ],
      "execution_count": 57,
      "outputs": [
        {
          "output_type": "stream",
          "text": [
            "164996\n"
          ],
          "name": "stdout"
        },
        {
          "output_type": "execute_result",
          "data": {
            "text/plain": [
              "192415"
            ]
          },
          "metadata": {
            "tags": []
          },
          "execution_count": 57
        }
      ]
    },
    {
      "cell_type": "code",
      "metadata": {
        "id": "_LVUiU6fHD13",
        "colab_type": "code",
        "outputId": "384435b8-fb60-4d18-ccfd-1c4b4750e8d6",
        "colab": {
          "base_uri": "https://localhost:8080/",
          "height": 507
        }
      },
      "source": [
        "#my_senti_df = my_senti_df.drop([444])\n",
        "my_senti_df"
      ],
      "execution_count": 58,
      "outputs": [
        {
          "output_type": "execute_result",
          "data": {
            "text/html": [
              "<div>\n",
              "<style scoped>\n",
              "    .dataframe tbody tr th:only-of-type {\n",
              "        vertical-align: middle;\n",
              "    }\n",
              "\n",
              "    .dataframe tbody tr th {\n",
              "        vertical-align: top;\n",
              "    }\n",
              "\n",
              "    .dataframe thead th {\n",
              "        text-align: right;\n",
              "    }\n",
              "</style>\n",
              "<table border=\"1\" class=\"dataframe\">\n",
              "  <thead>\n",
              "    <tr style=\"text-align: right;\">\n",
              "      <th></th>\n",
              "      <th>verb</th>\n",
              "      <th>polar_or_not</th>\n",
              "      <th>polarity_summ</th>\n",
              "      <th>падеж второго аргумента в нотации pymorphy2</th>\n",
              "      <th>fasttext_polarity</th>\n",
              "      <th>manual_polarity</th>\n",
              "      <th>cosine_distance</th>\n",
              "      <th>cosine_distance2</th>\n",
              "      <th>fasttext_polarity2</th>\n",
              "    </tr>\n",
              "  </thead>\n",
              "  <tbody>\n",
              "    <tr>\n",
              "      <th>0</th>\n",
              "      <td>арестовать</td>\n",
              "      <td>2</td>\n",
              "      <td>0</td>\n",
              "      <td>accs</td>\n",
              "      <td>0</td>\n",
              "      <td>0</td>\n",
              "      <td>-0.321665</td>\n",
              "      <td>-0.323252</td>\n",
              "      <td>0</td>\n",
              "    </tr>\n",
              "    <tr>\n",
              "      <th>1</th>\n",
              "      <td>арестовывать</td>\n",
              "      <td>4</td>\n",
              "      <td>0</td>\n",
              "      <td>accs</td>\n",
              "      <td>0</td>\n",
              "      <td>0</td>\n",
              "      <td>-0.335984</td>\n",
              "      <td>-0.318138</td>\n",
              "      <td>0</td>\n",
              "    </tr>\n",
              "    <tr>\n",
              "      <th>2</th>\n",
              "      <td>атаковать</td>\n",
              "      <td>4</td>\n",
              "      <td>0</td>\n",
              "      <td>accs</td>\n",
              "      <td>0</td>\n",
              "      <td>0</td>\n",
              "      <td>-0.201194</td>\n",
              "      <td>-0.164883</td>\n",
              "      <td>0</td>\n",
              "    </tr>\n",
              "    <tr>\n",
              "      <th>3</th>\n",
              "      <td>беречь</td>\n",
              "      <td>3</td>\n",
              "      <td>3</td>\n",
              "      <td>accs</td>\n",
              "      <td>1</td>\n",
              "      <td>1</td>\n",
              "      <td>0.176308</td>\n",
              "      <td>0.055442</td>\n",
              "      <td>1</td>\n",
              "    </tr>\n",
              "    <tr>\n",
              "      <th>4</th>\n",
              "      <td>беспокоить</td>\n",
              "      <td>2</td>\n",
              "      <td>0</td>\n",
              "      <td>accs</td>\n",
              "      <td>0</td>\n",
              "      <td>0</td>\n",
              "      <td>-0.194101</td>\n",
              "      <td>-0.105247</td>\n",
              "      <td>0</td>\n",
              "    </tr>\n",
              "    <tr>\n",
              "      <th>...</th>\n",
              "      <td>...</td>\n",
              "      <td>...</td>\n",
              "      <td>...</td>\n",
              "      <td>...</td>\n",
              "      <td>...</td>\n",
              "      <td>...</td>\n",
              "      <td>...</td>\n",
              "      <td>...</td>\n",
              "      <td>...</td>\n",
              "    </tr>\n",
              "    <tr>\n",
              "      <th>439</th>\n",
              "      <td>чаять</td>\n",
              "      <td>4</td>\n",
              "      <td>3</td>\n",
              "      <td>datv</td>\n",
              "      <td>1</td>\n",
              "      <td>1</td>\n",
              "      <td>0.066333</td>\n",
              "      <td>0.002245</td>\n",
              "      <td>0</td>\n",
              "    </tr>\n",
              "    <tr>\n",
              "      <th>440</th>\n",
              "      <td>шантажировать</td>\n",
              "      <td>3</td>\n",
              "      <td>0</td>\n",
              "      <td>accs</td>\n",
              "      <td>0</td>\n",
              "      <td>0</td>\n",
              "      <td>-0.230805</td>\n",
              "      <td>-0.142621</td>\n",
              "      <td>0</td>\n",
              "    </tr>\n",
              "    <tr>\n",
              "      <th>441</th>\n",
              "      <td>шокировать</td>\n",
              "      <td>4</td>\n",
              "      <td>0</td>\n",
              "      <td>accs</td>\n",
              "      <td>0</td>\n",
              "      <td>0</td>\n",
              "      <td>-0.084724</td>\n",
              "      <td>0.015387</td>\n",
              "      <td>0</td>\n",
              "    </tr>\n",
              "    <tr>\n",
              "      <th>442</th>\n",
              "      <td>штурмовать</td>\n",
              "      <td>5</td>\n",
              "      <td>0</td>\n",
              "      <td>accs</td>\n",
              "      <td>0</td>\n",
              "      <td>0</td>\n",
              "      <td>-0.107651</td>\n",
              "      <td>-0.091709</td>\n",
              "      <td>0</td>\n",
              "    </tr>\n",
              "    <tr>\n",
              "      <th>443</th>\n",
              "      <td>эксплуатировать</td>\n",
              "      <td>3</td>\n",
              "      <td>0</td>\n",
              "      <td>accs</td>\n",
              "      <td>0</td>\n",
              "      <td>0</td>\n",
              "      <td>-0.065114</td>\n",
              "      <td>-0.106965</td>\n",
              "      <td>0</td>\n",
              "    </tr>\n",
              "  </tbody>\n",
              "</table>\n",
              "<p>444 rows × 9 columns</p>\n",
              "</div>"
            ],
            "text/plain": [
              "                verb  polar_or_not  ...  cosine_distance2 fasttext_polarity2\n",
              "0         арестовать             2  ...         -0.323252                  0\n",
              "1       арестовывать             4  ...         -0.318138                  0\n",
              "2          атаковать             4  ...         -0.164883                  0\n",
              "3             беречь             3  ...          0.055442                  1\n",
              "4         беспокоить             2  ...         -0.105247                  0\n",
              "..               ...           ...  ...               ...                ...\n",
              "439            чаять             4  ...          0.002245                  0\n",
              "440    шантажировать             3  ...         -0.142621                  0\n",
              "441       шокировать             4  ...          0.015387                  0\n",
              "442       штурмовать             5  ...         -0.091709                  0\n",
              "443  эксплуатировать             3  ...         -0.106965                  0\n",
              "\n",
              "[444 rows x 9 columns]"
            ]
          },
          "metadata": {
            "tags": []
          },
          "execution_count": 58
        }
      ]
    },
    {
      "cell_type": "code",
      "metadata": {
        "id": "WS0QYse_HmRP",
        "colab_type": "code",
        "colab": {}
      },
      "source": [
        "import matplotlib.pyplot as plt\n",
        "from sklearn.metrics import roc_auc_score, roc_curve, accuracy_score, f1_score, precision_score, recall_score\n",
        "from matplotlib import pyplot"
      ],
      "execution_count": 0,
      "outputs": []
    },
    {
      "cell_type": "code",
      "metadata": {
        "id": "Gax9s0jZILvl",
        "colab_type": "code",
        "outputId": "93e93601-2c3e-4c71-edb5-1a20bd98590c",
        "colab": {
          "base_uri": "https://localhost:8080/",
          "height": 68
        }
      },
      "source": [
        "my_senti_df['fasttext_polarity'].value_counts()"
      ],
      "execution_count": 60,
      "outputs": [
        {
          "output_type": "execute_result",
          "data": {
            "text/plain": [
              "0    386\n",
              "1     58\n",
              "Name: fasttext_polarity, dtype: int64"
            ]
          },
          "metadata": {
            "tags": []
          },
          "execution_count": 60
        }
      ]
    },
    {
      "cell_type": "code",
      "metadata": {
        "id": "F8nYARPBJApw",
        "colab_type": "code",
        "outputId": "d945e54a-57db-4686-9f2c-5147f8425e20",
        "colab": {
          "base_uri": "https://localhost:8080/",
          "height": 68
        }
      },
      "source": [
        "my_senti_df['manual_polarity'].value_counts()"
      ],
      "execution_count": 61,
      "outputs": [
        {
          "output_type": "execute_result",
          "data": {
            "text/plain": [
              "0    321\n",
              "1    123\n",
              "Name: manual_polarity, dtype: int64"
            ]
          },
          "metadata": {
            "tags": []
          },
          "execution_count": 61
        }
      ]
    },
    {
      "cell_type": "code",
      "metadata": {
        "id": "1kFY7fuCJKgm",
        "colab_type": "code",
        "outputId": "39532968-20bc-4bf2-afc1-6803bab51c78",
        "colab": {
          "base_uri": "https://localhost:8080/",
          "height": 51
        }
      },
      "source": [
        "acc = accuracy_score(my_senti_df['manual_polarity'], my_senti_df['fasttext_polarity'])\n",
        "micro_f1 = f1_score(my_senti_df['manual_polarity'], my_senti_df['fasttext_polarity'], average = None)\n",
        "micro_p = precision_score(my_senti_df['manual_polarity'], my_senti_df['fasttext_polarity'], average = None)\n",
        "micro_r = recall_score(my_senti_df['manual_polarity'], my_senti_df['fasttext_polarity'], average = None)\n",
        "print('acc={0:1.4f}'.format(acc))\n",
        "print('F1={0:1.4f}, precision={1:1.4f}, recall={2:1.4f}'.format(micro_f1[-1], micro_p[-1], micro_r[-1]))"
      ],
      "execution_count": 62,
      "outputs": [
        {
          "output_type": "stream",
          "text": [
            "acc=0.8491\n",
            "F1=0.6298, precision=0.9828, recall=0.4634\n"
          ],
          "name": "stdout"
        }
      ]
    },
    {
      "cell_type": "code",
      "metadata": {
        "id": "oO-9cLP3KiHQ",
        "colab_type": "code",
        "outputId": "5d89d6d2-b543-48ec-f005-287a428c5b18",
        "colab": {
          "base_uri": "https://localhost:8080/",
          "height": 51
        }
      },
      "source": [
        "acc = accuracy_score(my_senti_df['manual_polarity'], my_senti_df['fasttext_polarity2'])\n",
        "micro_f1 = f1_score(my_senti_df['manual_polarity'], my_senti_df['fasttext_polarity2'], average = None)\n",
        "micro_p = precision_score(my_senti_df['manual_polarity'], my_senti_df['fasttext_polarity2'], average = None)\n",
        "micro_r = recall_score(my_senti_df['manual_polarity'], my_senti_df['fasttext_polarity2'], average = None)\n",
        "print('acc={0:1.4f}'.format(acc))\n",
        "print('F1={0:1.4f}, precision={1:1.4f}, recall={2:1.4f}'.format(micro_f1[-1], micro_p[-1], micro_r[-1]))"
      ],
      "execution_count": 63,
      "outputs": [
        {
          "output_type": "stream",
          "text": [
            "acc=0.8491\n",
            "F1=0.6528, precision=0.9000, recall=0.5122\n"
          ],
          "name": "stdout"
        }
      ]
    },
    {
      "cell_type": "code",
      "metadata": {
        "id": "PhKRMTtF2rs2",
        "colab_type": "code",
        "outputId": "c23d8664-a727-4cd6-bc24-c46ef5e6fadb",
        "colab": {
          "base_uri": "https://localhost:8080/",
          "height": 282
        }
      },
      "source": [
        "plt.stackplot(my_senti_df['cosine_distance'], my_senti_df['cosine_distance2'])"
      ],
      "execution_count": 64,
      "outputs": [
        {
          "output_type": "execute_result",
          "data": {
            "text/plain": [
              "[<matplotlib.collections.PolyCollection at 0x7f2916b13710>]"
            ]
          },
          "metadata": {
            "tags": []
          },
          "execution_count": 64
        },
        {
          "output_type": "display_data",
          "data": {
            "image/png": "[encoded data removed]",
            "text/plain": [
              "<Figure size 432x288 with 1 Axes>"
            ]
          },
          "metadata": {
            "tags": [],
            "needs_background": "light"
          }
        }
      ]
    },
    {
      "cell_type": "code",
      "metadata": {
        "id": "Vv8RztSE5sO6",
        "colab_type": "code",
        "outputId": "219c4622-5490-488a-9fb6-0ba90684d552",
        "colab": {
          "base_uri": "https://localhost:8080/",
          "height": 265
        }
      },
      "source": [
        "x = my_senti_df['cosine_distance']\n",
        "y = my_senti_df['cosine_distance2']\n",
        "plt.scatter(my_senti_df['cosine_distance'], my_senti_df['cosine_distance2'])\n",
        "plt.plot(np.unique(x), np.poly1d(np.polyfit(x, y, 1))(np.unique(x)), color='red')\n",
        "plt.show()"
      ],
      "execution_count": 65,
      "outputs": [
        {
          "output_type": "display_data",
          "data": {
            "image/png": "[encoded data removed]",
            "text/plain": [
              "<Figure size 432x288 with 1 Axes>"
            ]
          },
          "metadata": {
            "tags": [],
            "needs_background": "light"
          }
        }
      ]
    },
    {
      "cell_type": "code",
      "metadata": {
        "id": "JXVDdid2Bcwu",
        "colab_type": "code",
        "colab": {}
      },
      "source": [
        "from scipy.stats.stats import pearsonr"
      ],
      "execution_count": 0,
      "outputs": []
    },
    {
      "cell_type": "code",
      "metadata": {
        "id": "7CrMBb7VBd1Q",
        "colab_type": "code",
        "outputId": "bce7da0d-5db4-4c29-b86d-71c52658f401",
        "colab": {
          "base_uri": "https://localhost:8080/",
          "height": 34
        }
      },
      "source": [
        "pearsonr(x,y)"
      ],
      "execution_count": 67,
      "outputs": [
        {
          "output_type": "execute_result",
          "data": {
            "text/plain": [
              "(0.9262886789085895, 1.822030104478651e-189)"
            ]
          },
          "metadata": {
            "tags": []
          },
          "execution_count": 67
        }
      ]
    },
    {
      "cell_type": "code",
      "metadata": {
        "id": "CU3l1W3n7L2D",
        "colab_type": "code",
        "colab": {}
      },
      "source": [
        "from scipy.stats import spearmanr\n",
        "#https://www.machinelearningmastery.ru/how-to-calculate-nonparametric-rank-correlation-in-python/"
      ],
      "execution_count": 0,
      "outputs": []
    },
    {
      "cell_type": "code",
      "metadata": {
        "id": "Kcq4GkEG-XSm",
        "colab_type": "code",
        "outputId": "2d650202-e622-4137-a52d-f8b4a21b37c1",
        "colab": {
          "base_uri": "https://localhost:8080/",
          "height": 34
        }
      },
      "source": [
        "spearmanr(x, y)"
      ],
      "execution_count": 69,
      "outputs": [
        {
          "output_type": "execute_result",
          "data": {
            "text/plain": [
              "SpearmanrResult(correlation=0.8874382282960159, pvalue=9.033418685759714e-151)"
            ]
          },
          "metadata": {
            "tags": []
          },
          "execution_count": 69
        }
      ]
    },
    {
      "cell_type": "code",
      "metadata": {
        "id": "9O6xhcUE-lSa",
        "colab_type": "code",
        "colab": {}
      },
      "source": [
        "#больше моделей богу моделей"
      ],
      "execution_count": 0,
      "outputs": []
    },
    {
      "cell_type": "code",
      "metadata": {
        "id": "H_pBWE8NC4y9",
        "colab_type": "code",
        "outputId": "6084922f-550c-4248-f200-8f27646cc39c",
        "colab": {
          "base_uri": "https://localhost:8080/",
          "height": 204
        }
      },
      "source": [
        "!wget https://rusvectores.org/static/models/rusvectores4/fasttext/araneum_none_fasttextcbow_300_5_2018.tgz"
      ],
      "execution_count": 71,
      "outputs": [
        {
          "output_type": "stream",
          "text": [
            "--2020-06-04 17:01:43--  https://rusvectores.org/static/models/rusvectores4/fasttext/araneum_none_fasttextcbow_300_5_2018.tgz\n",
            "Resolving rusvectores.org (rusvectores.org)... 116.203.104.23\n",
            "Connecting to rusvectores.org (rusvectores.org)|116.203.104.23|:443... connected.\n",
            "HTTP request sent, awaiting response... 200 OK\n",
            "Length: 2691248108 (2.5G) [application/x-gzip]\n",
            "Saving to: ‘araneum_none_fasttextcbow_300_5_2018.tgz’\n",
            "\n",
            "araneum_none_fastte 100%[===================>]   2.51G  28.0MB/s    in 94s     \n",
            "\n",
            "2020-06-04 17:03:18 (27.3 MB/s) - ‘araneum_none_fasttextcbow_300_5_2018.tgz’ saved [2691248108/2691248108]\n",
            "\n"
          ],
          "name": "stdout"
        }
      ]
    },
    {
      "cell_type": "code",
      "metadata": {
        "id": "fbgmoJxBFURK",
        "colab_type": "code",
        "colab": {}
      },
      "source": [
        "!tar -xzf araneum_none_fasttextcbow_300_5_2018.tgz"
      ],
      "execution_count": 0,
      "outputs": []
    },
    {
      "cell_type": "code",
      "metadata": {
        "id": "SIWCHjEuFoT1",
        "colab_type": "code",
        "outputId": "0dfdd496-2195-4c88-aba0-0fd7c77754d3",
        "colab": {
          "base_uri": "https://localhost:8080/",
          "height": 71
        }
      },
      "source": [
        "fasttext_model3 = gensim.models.KeyedVectors.load(\"araneum_none_fasttextcbow_300_5_2018.model\")\n"
      ],
      "execution_count": 73,
      "outputs": [
        {
          "output_type": "stream",
          "text": [
            "/usr/local/lib/python3.6/dist-packages/smart_open/smart_open_lib.py:253: UserWarning: This function is deprecated, use smart_open.open instead. See the migration notes for details: https://github.com/RaRe-Technologies/smart_open/blob/master/README.rst#migrating-to-the-new-open-function\n",
            "  'See the migration notes for details: %s' % _MIGRATION_NOTES_URL\n"
          ],
          "name": "stderr"
        }
      ]
    },
    {
      "cell_type": "code",
      "metadata": {
        "id": "mt7NjTJGI9be",
        "colab_type": "code",
        "colab": {}
      },
      "source": [
        "positive_multi_embedding3 = make_seed_embedding(positive_multi_seed, fasttext_model3)\n",
        "negative_multi_embedding3 = make_seed_embedding(negative_multi_seed, fasttext_model3)\n",
        "\n",
        "axis3 = positive_multi_embedding3  - negative_multi_embedding3"
      ],
      "execution_count": 0,
      "outputs": []
    },
    {
      "cell_type": "code",
      "metadata": {
        "id": "z_XxT5gtJUtz",
        "colab_type": "code",
        "outputId": "47b477eb-134a-4f1c-9a78-3e37ad97778a",
        "colab": {
          "base_uri": "https://localhost:8080/",
          "height": 34
        }
      },
      "source": [
        "fasttext_pol3 = []\n",
        "cosine_lst3 = []\n",
        "not_in_model3 = []\n",
        "treshold = 0.03\n",
        "for i in range(len(my_senti_df['verb'])):\n",
        "  try:\n",
        "    cosine = cosine_similarity(np.atleast_2d(fasttext_model3.get_vector(my_senti_df['verb'][i])),\\\n",
        "                              np.atleast_2d(axis3))\n",
        "    if cosine >= treshold:\n",
        "      fasttext_pol3.append(1)\n",
        "    else:\n",
        "      fasttext_pol3.append(0)\n",
        "    cosine_lst3.append(cosine[0][0])\n",
        "  except AttributeError as e:\n",
        "    not_in_model3.append([i])\n",
        "\n",
        "\n",
        "\n",
        "print(len(not_in_model3))\n",
        "# в этой модели не находит аж 146 глаголов!\n",
        "for i in not_in_model3:\n",
        "  my_senti_df = my_senti_df.drop(i)\n",
        "my_senti_df['cosine_distance3'] = cosine_lst3\n",
        "my_senti_df['fasttext_polarity3'] = fasttext_pol3"
      ],
      "execution_count": 75,
      "outputs": [
        {
          "output_type": "stream",
          "text": [
            "146\n"
          ],
          "name": "stdout"
        }
      ]
    },
    {
      "cell_type": "code",
      "metadata": {
        "id": "M2mFajxKJw_3",
        "colab_type": "code",
        "outputId": "06f9e4ec-da1e-4f42-e2c9-66eacd6b260b",
        "colab": {
          "base_uri": "https://localhost:8080/",
          "height": 507
        }
      },
      "source": [
        "my_senti_df"
      ],
      "execution_count": 76,
      "outputs": [
        {
          "output_type": "execute_result",
          "data": {
            "text/html": [
              "<div>\n",
              "<style scoped>\n",
              "    .dataframe tbody tr th:only-of-type {\n",
              "        vertical-align: middle;\n",
              "    }\n",
              "\n",
              "    .dataframe tbody tr th {\n",
              "        vertical-align: top;\n",
              "    }\n",
              "\n",
              "    .dataframe thead th {\n",
              "        text-align: right;\n",
              "    }\n",
              "</style>\n",
              "<table border=\"1\" class=\"dataframe\">\n",
              "  <thead>\n",
              "    <tr style=\"text-align: right;\">\n",
              "      <th></th>\n",
              "      <th>verb</th>\n",
              "      <th>polar_or_not</th>\n",
              "      <th>polarity_summ</th>\n",
              "      <th>падеж второго аргумента в нотации pymorphy2</th>\n",
              "      <th>fasttext_polarity</th>\n",
              "      <th>manual_polarity</th>\n",
              "      <th>cosine_distance</th>\n",
              "      <th>cosine_distance2</th>\n",
              "      <th>fasttext_polarity2</th>\n",
              "      <th>cosine_distance3</th>\n",
              "      <th>fasttext_polarity3</th>\n",
              "    </tr>\n",
              "  </thead>\n",
              "  <tbody>\n",
              "    <tr>\n",
              "      <th>1</th>\n",
              "      <td>арестовывать</td>\n",
              "      <td>4</td>\n",
              "      <td>0</td>\n",
              "      <td>accs</td>\n",
              "      <td>0</td>\n",
              "      <td>0</td>\n",
              "      <td>-0.335984</td>\n",
              "      <td>-0.318138</td>\n",
              "      <td>0</td>\n",
              "      <td>-0.359293</td>\n",
              "      <td>0</td>\n",
              "    </tr>\n",
              "    <tr>\n",
              "      <th>2</th>\n",
              "      <td>атаковать</td>\n",
              "      <td>4</td>\n",
              "      <td>0</td>\n",
              "      <td>accs</td>\n",
              "      <td>0</td>\n",
              "      <td>0</td>\n",
              "      <td>-0.201194</td>\n",
              "      <td>-0.164883</td>\n",
              "      <td>0</td>\n",
              "      <td>-0.232847</td>\n",
              "      <td>0</td>\n",
              "    </tr>\n",
              "    <tr>\n",
              "      <th>3</th>\n",
              "      <td>беречь</td>\n",
              "      <td>3</td>\n",
              "      <td>3</td>\n",
              "      <td>accs</td>\n",
              "      <td>1</td>\n",
              "      <td>1</td>\n",
              "      <td>0.176308</td>\n",
              "      <td>0.055442</td>\n",
              "      <td>1</td>\n",
              "      <td>0.074086</td>\n",
              "      <td>1</td>\n",
              "    </tr>\n",
              "    <tr>\n",
              "      <th>4</th>\n",
              "      <td>беспокоить</td>\n",
              "      <td>2</td>\n",
              "      <td>0</td>\n",
              "      <td>accs</td>\n",
              "      <td>0</td>\n",
              "      <td>0</td>\n",
              "      <td>-0.194101</td>\n",
              "      <td>-0.105247</td>\n",
              "      <td>0</td>\n",
              "      <td>-0.189934</td>\n",
              "      <td>0</td>\n",
              "    </tr>\n",
              "    <tr>\n",
              "      <th>5</th>\n",
              "      <td>бить</td>\n",
              "      <td>3</td>\n",
              "      <td>0</td>\n",
              "      <td>accs</td>\n",
              "      <td>0</td>\n",
              "      <td>0</td>\n",
              "      <td>-0.184389</td>\n",
              "      <td>-0.204936</td>\n",
              "      <td>0</td>\n",
              "      <td>-0.206896</td>\n",
              "      <td>0</td>\n",
              "    </tr>\n",
              "    <tr>\n",
              "      <th>...</th>\n",
              "      <td>...</td>\n",
              "      <td>...</td>\n",
              "      <td>...</td>\n",
              "      <td>...</td>\n",
              "      <td>...</td>\n",
              "      <td>...</td>\n",
              "      <td>...</td>\n",
              "      <td>...</td>\n",
              "      <td>...</td>\n",
              "      <td>...</td>\n",
              "      <td>...</td>\n",
              "    </tr>\n",
              "    <tr>\n",
              "      <th>439</th>\n",
              "      <td>чаять</td>\n",
              "      <td>4</td>\n",
              "      <td>3</td>\n",
              "      <td>datv</td>\n",
              "      <td>1</td>\n",
              "      <td>1</td>\n",
              "      <td>0.066333</td>\n",
              "      <td>0.002245</td>\n",
              "      <td>0</td>\n",
              "      <td>-0.040236</td>\n",
              "      <td>0</td>\n",
              "    </tr>\n",
              "    <tr>\n",
              "      <th>440</th>\n",
              "      <td>шантажировать</td>\n",
              "      <td>3</td>\n",
              "      <td>0</td>\n",
              "      <td>accs</td>\n",
              "      <td>0</td>\n",
              "      <td>0</td>\n",
              "      <td>-0.230805</td>\n",
              "      <td>-0.142621</td>\n",
              "      <td>0</td>\n",
              "      <td>-0.246298</td>\n",
              "      <td>0</td>\n",
              "    </tr>\n",
              "    <tr>\n",
              "      <th>441</th>\n",
              "      <td>шокировать</td>\n",
              "      <td>4</td>\n",
              "      <td>0</td>\n",
              "      <td>accs</td>\n",
              "      <td>0</td>\n",
              "      <td>0</td>\n",
              "      <td>-0.084724</td>\n",
              "      <td>0.015387</td>\n",
              "      <td>0</td>\n",
              "      <td>-0.126806</td>\n",
              "      <td>0</td>\n",
              "    </tr>\n",
              "    <tr>\n",
              "      <th>442</th>\n",
              "      <td>штурмовать</td>\n",
              "      <td>5</td>\n",
              "      <td>0</td>\n",
              "      <td>accs</td>\n",
              "      <td>0</td>\n",
              "      <td>0</td>\n",
              "      <td>-0.107651</td>\n",
              "      <td>-0.091709</td>\n",
              "      <td>0</td>\n",
              "      <td>-0.081259</td>\n",
              "      <td>0</td>\n",
              "    </tr>\n",
              "    <tr>\n",
              "      <th>443</th>\n",
              "      <td>эксплуатировать</td>\n",
              "      <td>3</td>\n",
              "      <td>0</td>\n",
              "      <td>accs</td>\n",
              "      <td>0</td>\n",
              "      <td>0</td>\n",
              "      <td>-0.065114</td>\n",
              "      <td>-0.106965</td>\n",
              "      <td>0</td>\n",
              "      <td>-0.061823</td>\n",
              "      <td>0</td>\n",
              "    </tr>\n",
              "  </tbody>\n",
              "</table>\n",
              "<p>298 rows × 11 columns</p>\n",
              "</div>"
            ],
            "text/plain": [
              "                verb  polar_or_not  ...  cosine_distance3 fasttext_polarity3\n",
              "1       арестовывать             4  ...         -0.359293                  0\n",
              "2          атаковать             4  ...         -0.232847                  0\n",
              "3             беречь             3  ...          0.074086                  1\n",
              "4         беспокоить             2  ...         -0.189934                  0\n",
              "5               бить             3  ...         -0.206896                  0\n",
              "..               ...           ...  ...               ...                ...\n",
              "439            чаять             4  ...         -0.040236                  0\n",
              "440    шантажировать             3  ...         -0.246298                  0\n",
              "441       шокировать             4  ...         -0.126806                  0\n",
              "442       штурмовать             5  ...         -0.081259                  0\n",
              "443  эксплуатировать             3  ...         -0.061823                  0\n",
              "\n",
              "[298 rows x 11 columns]"
            ]
          },
          "metadata": {
            "tags": []
          },
          "execution_count": 76
        }
      ]
    },
    {
      "cell_type": "code",
      "metadata": {
        "id": "pOyDyGyWKe03",
        "colab_type": "code",
        "outputId": "bd1476bc-cc92-4eec-8eb1-4dfbd1dcd75e",
        "colab": {
          "base_uri": "https://localhost:8080/",
          "height": 51
        }
      },
      "source": [
        "acc = accuracy_score(my_senti_df['manual_polarity'], my_senti_df['fasttext_polarity3'])\n",
        "micro_f1 = f1_score(my_senti_df['manual_polarity'], my_senti_df['fasttext_polarity3'], average = None)\n",
        "micro_p = precision_score(my_senti_df['manual_polarity'], my_senti_df['fasttext_polarity3'], average = None)\n",
        "micro_r = recall_score(my_senti_df['manual_polarity'], my_senti_df['fasttext_polarity3'], average = None)\n",
        "print('acc={0:1.4f}'.format(acc))\n",
        "print('F1={0:1.4f}, precision={1:1.4f}, recall={2:1.4f}'.format(micro_f1[-1], micro_p[-1], micro_r[-1]))"
      ],
      "execution_count": 77,
      "outputs": [
        {
          "output_type": "stream",
          "text": [
            "acc=0.8725\n",
            "F1=0.7246, precision=1.0000, recall=0.5682\n"
          ],
          "name": "stdout"
        }
      ]
    },
    {
      "cell_type": "code",
      "metadata": {
        "id": "Ga3Y-dMOKoxB",
        "colab_type": "code",
        "outputId": "c9272741-4fb9-4ff0-aa65-b6ab879448e7",
        "colab": {
          "base_uri": "https://localhost:8080/",
          "height": 265
        }
      },
      "source": [
        "x = my_senti_df['cosine_distance']\n",
        "y = my_senti_df['cosine_distance3']\n",
        "plt.scatter(my_senti_df['cosine_distance'], my_senti_df['cosine_distance3'])\n",
        "plt.plot(np.unique(x), np.poly1d(np.polyfit(x, y, 1))(np.unique(x)), color='red')\n",
        "plt.show()"
      ],
      "execution_count": 78,
      "outputs": [
        {
          "output_type": "display_data",
          "data": {
            "image/png": "[encoded data removed]",
            "text/plain": [
              "<Figure size 432x288 with 1 Axes>"
            ]
          },
          "metadata": {
            "tags": [],
            "needs_background": "light"
          }
        }
      ]
    },
    {
      "cell_type": "code",
      "metadata": {
        "id": "birA1F0QKxtO",
        "colab_type": "code",
        "outputId": "52feb248-cf42-4fd2-f601-35a5970982c3",
        "colab": {
          "base_uri": "https://localhost:8080/",
          "height": 34
        }
      },
      "source": [
        "pearsonr(x,y)\n",
        "# 3я модель и хуже отработала, и глаголов ужасно много порезала, но с 1й\n",
        "# кореллирует лучше, потому что методы одинаковые, а разные только корпусы"
      ],
      "execution_count": 79,
      "outputs": [
        {
          "output_type": "execute_result",
          "data": {
            "text/plain": [
              "(0.950892459909892, 8.552738874576151e-153)"
            ]
          },
          "metadata": {
            "tags": []
          },
          "execution_count": 79
        }
      ]
    },
    {
      "cell_type": "code",
      "metadata": {
        "id": "Xlfraj5YK4i9",
        "colab_type": "code",
        "outputId": "f1889aab-d2a5-4a38-80fe-83e87c83b588",
        "colab": {
          "base_uri": "https://localhost:8080/",
          "height": 265
        }
      },
      "source": [
        "x = my_senti_df['cosine_distance2']\n",
        "y = my_senti_df['cosine_distance3']\n",
        "plt.scatter(my_senti_df['cosine_distance2'], my_senti_df['cosine_distance3'])\n",
        "plt.plot(np.unique(x), np.poly1d(np.polyfit(x, y, 1))(np.unique(x)), color='red')\n",
        "plt.show()"
      ],
      "execution_count": 82,
      "outputs": [
        {
          "output_type": "display_data",
          "data": {
            "image/png": "[encoded data removed]",
            "text/plain": [
              "<Figure size 432x288 with 1 Axes>"
            ]
          },
          "metadata": {
            "tags": [],
            "needs_background": "light"
          }
        }
      ]
    },
    {
      "cell_type": "code",
      "metadata": {
        "id": "s8v-otI5K9bW",
        "colab_type": "code",
        "outputId": "8fe04be0-caf3-4276-f344-91298328dfa8",
        "colab": {
          "base_uri": "https://localhost:8080/",
          "height": 34
        }
      },
      "source": [
        "pearsonr(x,y)"
      ],
      "execution_count": 81,
      "outputs": [
        {
          "output_type": "execute_result",
          "data": {
            "text/plain": [
              "(0.915074932190191, 9.225626528438359e-119)"
            ]
          },
          "metadata": {
            "tags": []
          },
          "execution_count": 81
        }
      ]
    },
    {
      "cell_type": "code",
      "metadata": {
        "id": "FP5JLd-ZK_TS",
        "colab_type": "code",
        "colab": {}
      },
      "source": [
        ""
      ],
      "execution_count": 0,
      "outputs": []
    }
  ]
}