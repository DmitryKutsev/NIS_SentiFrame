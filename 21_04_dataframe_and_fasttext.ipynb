{
  "nbformat": 4,
  "nbformat_minor": 0,
  "metadata": {
    "colab": {
      "name": "Untitled34.ipynb",
      "provenance": [],
      "authorship_tag": "ABX9TyNQIxH9oB7+3IqcVi5vsgeT",
      "include_colab_link": true
    },
    "kernelspec": {
      "name": "python3",
      "display_name": "Python 3"
    }
  },
  "cells": [
    {
      "cell_type": "markdown",
      "metadata": {
        "id": "view-in-github",
        "colab_type": "text"
      },
      "source": [
        "<a href=\"https://colab.research.google.com/github/DmitryKutsev/NIS_SentiFrame/blob/master/21_04_dataframe_and_fasttext.ipynb\" target=\"_parent\"><img src=\"https://colab.research.google.com/assets/colab-badge.svg\" alt=\"Open In Colab\"/></a>"
      ]
    },
    {
      "cell_type": "code",
      "metadata": {
        "id": "GvuEcdMRYfcX",
        "colab_type": "code",
        "outputId": "00386194-fb8e-47ba-f029-211c0b70c6a2",
        "colab": {
          "base_uri": "https://localhost:8080/",
          "height": 204
        }
      },
      "source": [
        "#!wget https://rusvectores.org/static/models/rusvectores4/fasttext/araneum_none_fasttextcbow_300_5_2018.tgz\n",
        "\n",
        "!wget http://vectors.nlpl.eu/repository/20/187.zip"
      ],
      "execution_count": 1,
      "outputs": [
        {
          "output_type": "stream",
          "text": [
            "--2020-04-21 12:37:30--  http://vectors.nlpl.eu/repository/20/187.zip\n",
            "Resolving vectors.nlpl.eu (vectors.nlpl.eu)... 129.240.189.225\n",
            "Connecting to vectors.nlpl.eu (vectors.nlpl.eu)|129.240.189.225|:80... connected.\n",
            "HTTP request sent, awaiting response... 200 OK\n",
            "Length: 2692389554 (2.5G) [application/zip]\n",
            "Saving to: ‘187.zip’\n",
            "\n",
            "187.zip             100%[===================>]   2.51G  17.2MB/s    in 2m 36s  \n",
            "\n",
            "2020-04-21 12:40:07 (16.4 MB/s) - ‘187.zip’ saved [2692389554/2692389554]\n",
            "\n"
          ],
          "name": "stdout"
        }
      ]
    },
    {
      "cell_type": "code",
      "metadata": {
        "id": "PoRd9aktxrDb",
        "colab_type": "code",
        "colab": {
          "base_uri": "https://localhost:8080/",
          "height": 34
        },
        "outputId": "11485a94-9033-40f4-91e7-d5db449f5542"
      },
      "source": [
        "!ls"
      ],
      "execution_count": 2,
      "outputs": [
        {
          "output_type": "stream",
          "text": [
            "187.zip  sample_data\n"
          ],
          "name": "stdout"
        }
      ]
    },
    {
      "cell_type": "code",
      "metadata": {
        "id": "DfjryH38Yha8",
        "colab_type": "code",
        "outputId": "4185d4ce-968f-42b6-94e4-4b995baf96c2",
        "colab": {
          "base_uri": "https://localhost:8080/",
          "height": 204
        }
      },
      "source": [
        "!wget https://raw.githubusercontent.com/nicolay-r/RuSentiFrames/master/collection.json"
      ],
      "execution_count": 0,
      "outputs": [
        {
          "output_type": "stream",
          "text": [
            "--2020-04-21 06:18:56--  https://raw.githubusercontent.com/nicolay-r/RuSentiFrames/master/collection.json\n",
            "Resolving raw.githubusercontent.com (raw.githubusercontent.com)... 151.101.0.133, 151.101.64.133, 151.101.128.133, ...\n",
            "Connecting to raw.githubusercontent.com (raw.githubusercontent.com)|151.101.0.133|:443... connected.\n",
            "HTTP request sent, awaiting response... 200 OK\n",
            "Length: 606414 (592K) [text/plain]\n",
            "Saving to: ‘collection.json’\n",
            "\n",
            "\rcollection.json       0%[                    ]       0  --.-KB/s               \rcollection.json     100%[===================>] 592.20K  --.-KB/s    in 0.09s   \n",
            "\n",
            "2020-04-21 06:18:56 (6.28 MB/s) - ‘collection.json’ saved [606414/606414]\n",
            "\n"
          ],
          "name": "stdout"
        }
      ]
    },
    {
      "cell_type": "code",
      "metadata": {
        "id": "40XSrpHcYnVJ",
        "colab_type": "code",
        "outputId": "c8962b6e-f6fc-4372-f68d-7a3bc1082b7c",
        "colab": {
          "base_uri": "https://localhost:8080/",
          "height": 360
        }
      },
      "source": [
        "!pip install pymorphy2[fast]"
      ],
      "execution_count": 7,
      "outputs": [
        {
          "output_type": "stream",
          "text": [
            "Collecting pymorphy2[fast]\n",
            "\u001b[?25l  Downloading https://files.pythonhosted.org/packages/a3/33/fff9675c68b5f6c63ec8c6e6ff57827dda28a1fa5b2c2d727dffff92dd47/pymorphy2-0.8-py2.py3-none-any.whl (46kB)\n",
            "\u001b[K     |████████████████████████████████| 51kB 2.6MB/s \n",
            "\u001b[?25hCollecting pymorphy2-dicts<3.0,>=2.4\n",
            "\u001b[?25l  Downloading https://files.pythonhosted.org/packages/02/51/2465fd4f72328ab50877b54777764d928da8cb15b74e2680fc1bd8cb3173/pymorphy2_dicts-2.4.393442.3710985-py2.py3-none-any.whl (7.1MB)\n",
            "\u001b[K     |████████████████████████████████| 7.1MB 13.3MB/s \n",
            "\u001b[?25hCollecting dawg-python>=0.7\n",
            "  Downloading https://files.pythonhosted.org/packages/6a/84/ff1ce2071d4c650ec85745766c0047ccc3b5036f1d03559fd46bb38b5eeb/DAWG_Python-0.7.2-py2.py3-none-any.whl\n",
            "Requirement already satisfied: docopt>=0.6 in /usr/local/lib/python3.6/dist-packages (from pymorphy2[fast]) (0.6.2)\n",
            "Collecting DAWG>=0.7.3; extra == \"fast\"\n",
            "\u001b[?25l  Downloading https://files.pythonhosted.org/packages/b8/ef/91b619a399685f7a0a95a03628006ba814d96293bbbbed234ee66fbdefd9/DAWG-0.8.0.tar.gz (371kB)\n",
            "\u001b[K     |████████████████████████████████| 378kB 50.3MB/s \n",
            "\u001b[?25hBuilding wheels for collected packages: DAWG\n",
            "  Building wheel for DAWG (setup.py) ... \u001b[?25l\u001b[?25hdone\n",
            "  Created wheel for DAWG: filename=DAWG-0.8.0-cp36-cp36m-linux_x86_64.whl size=859387 sha256=cda6d7e046bb0001359cad8aed836b44dff693b638185571e4a000be8904347c\n",
            "  Stored in directory: /root/.cache/pip/wheels/3d/1f/f0/a5b1f9d02e193c997d252c33d215f24dfd7a448bc0166b2a12\n",
            "Successfully built DAWG\n",
            "Installing collected packages: pymorphy2-dicts, dawg-python, DAWG, pymorphy2\n",
            "Successfully installed DAWG-0.8.0 dawg-python-0.7.2 pymorphy2-0.8 pymorphy2-dicts-2.4.393442.3710985\n"
          ],
          "name": "stdout"
        }
      ]
    },
    {
      "cell_type": "code",
      "metadata": {
        "id": "hVNT8UGSc1iC",
        "colab_type": "code",
        "outputId": "910debd2-125d-48d5-963e-97ae50389dc6",
        "colab": {
          "base_uri": "https://localhost:8080/",
          "height": 102
        }
      },
      "source": [
        "# !gunzip araneum_none_fasttextcbow_300_5_2018.tgz\n",
        "# !tar -xvf araneum_none_fasttextcbow_300_5_2018.tar"
      ],
      "execution_count": 0,
      "outputs": [
        {
          "output_type": "stream",
          "text": [
            "gzip: araneum_none_fasttextcbow_300_5_2018.tgz: No such file or directory\n",
            "araneum_none_fasttextcbow_300_5_2018.model\n",
            "araneum_none_fasttextcbow_300_5_2018.model.vectors_ngrams.npy\n",
            "araneum_none_fasttextcbow_300_5_2018.model.vectors.npy\n",
            "araneum_none_fasttextcbow_300_5_2018.model.vectors_vocab.npy\n"
          ],
          "name": "stdout"
        }
      ]
    },
    {
      "cell_type": "code",
      "metadata": {
        "id": "0FzeD17TyOuO",
        "colab_type": "code",
        "colab": {
          "base_uri": "https://localhost:8080/",
          "height": 136
        },
        "outputId": "b7776e48-bb59-4ec8-f4e2-908395f4f70e"
      },
      "source": [
        "!unzip 187.zip"
      ],
      "execution_count": 11,
      "outputs": [
        {
          "output_type": "stream",
          "text": [
            "Archive:  187.zip\n",
            "  inflating: meta.json               \n",
            "  inflating: model.model             \n",
            "  inflating: model.model.vectors_ngrams.npy  \n",
            "  inflating: model.model.vectors.npy  \n",
            "  inflating: model.model.vectors_vocab.npy  \n",
            "  inflating: README                  \n"
          ],
          "name": "stdout"
        }
      ]
    },
    {
      "cell_type": "code",
      "metadata": {
        "id": "k593CLmIc3gI",
        "colab_type": "code",
        "outputId": "6c6222b6-0c61-4c41-8fee-62751e5dfde3",
        "colab": {
          "base_uri": "https://localhost:8080/",
          "height": 68
        }
      },
      "source": [
        "!ls"
      ],
      "execution_count": 12,
      "outputs": [
        {
          "output_type": "stream",
          "text": [
            "187.zip      model.model.vectors_ngrams.npy  README\n",
            "meta.json    model.model.vectors.npy\t     sample_data\n",
            "model.model  model.model.vectors_vocab.npy\n"
          ],
          "name": "stdout"
        }
      ]
    },
    {
      "cell_type": "code",
      "metadata": {
        "id": "NO2_urTOYnvP",
        "colab_type": "code",
        "colab": {}
      },
      "source": [
        "from collections import Counter\n",
        "import json\n",
        "import pandas as pd\n",
        "import numpy as np\n",
        "from sklearn.metrics.pairwise import cosine_distances\n",
        "import pymorphy2\n",
        "import gensim\n",
        "morph = pymorphy2.MorphAnalyzer()"
      ],
      "execution_count": 0,
      "outputs": []
    },
    {
      "cell_type": "code",
      "metadata": {
        "id": "H_n6ksW3cl_h",
        "colab_type": "code",
        "outputId": "d7c705c7-af3c-46ff-ac17-691a9c1d5757",
        "colab": {
          "base_uri": "https://localhost:8080/",
          "height": 71
        }
      },
      "source": [
        "#fasttext_model = gensim.models.KeyedVectors.load(\"araneum_none_fasttextcbow_300_5_2018.model\", mmap='r')\n",
        "fasttext_model = gensim.models.KeyedVectors.load(\"model.model\")"
      ],
      "execution_count": 13,
      "outputs": [
        {
          "output_type": "stream",
          "text": [
            "/usr/local/lib/python3.6/dist-packages/smart_open/smart_open_lib.py:253: UserWarning: This function is deprecated, use smart_open.open instead. See the migration notes for details: https://github.com/RaRe-Technologies/smart_open/blob/master/README.rst#migrating-to-the-new-open-function\n",
            "  'See the migration notes for details: %s' % _MIGRATION_NOTES_URL\n"
          ],
          "name": "stderr"
        }
      ]
    },
    {
      "cell_type": "code",
      "metadata": {
        "id": "1NxFFNJTb8mL",
        "colab_type": "code",
        "colab": {}
      },
      "source": [
        "positive_multi_seed = ['одобрять', 'хвалить', 'поощрять', 'любить']\n",
        "negative_multi_seed = ['ненавидеть', 'убить', 'ругать', 'злиться']\n",
        "positive_single_seed = ['ценить']\n",
        "negative_single_seed = ['убивать']\n",
        "def make_seed_embedding(seed_dict, model):\n",
        "  '''\n",
        "  Принимает на вход список, на выходе дает средний вектор всех слов из этого списка\n",
        "  '''\n",
        "  summ = 0\n",
        "  # if model == skipgram_model:\n",
        "  #   for verb in seed_dict:\n",
        "  #     summ = summ + model[verb + '_V']\n",
        "  #   vector = summ/len(seed_dict)\n",
        "  # else:\n",
        "  for verb in seed_dict:\n",
        "    summ = summ + model.get_vector(verb)\n",
        "  vector = summ/len(seed_dict)\n",
        "\n",
        "  return vector\n",
        "\n",
        "positive_multi_embedding = make_seed_embedding(positive_multi_seed, fasttext_model)\n",
        "negative_multi_embedding = make_seed_embedding(negative_multi_seed, fasttext_model)\n",
        "positive_single_embedding = make_seed_embedding(positive_single_seed, fasttext_model)\n",
        "negative_single_embedding = make_seed_embedding(negative_single_seed, fasttext_model)"
      ],
      "execution_count": 0,
      "outputs": []
    },
    {
      "cell_type": "code",
      "metadata": {
        "id": "0ZW710Wzb-Wo",
        "colab_type": "code",
        "colab": {}
      },
      "source": [
        "dima = pd.read_csv('https://raw.githubusercontent.com\\\n",
        "/DmitryKutsev/NIS_SentiFrame/master/annotations/polarity_annotation/polar_annotation_dima.csv')\n",
        "\n",
        "ira = pd.read_csv('https://raw.githubusercontent.com/DmitryKutsev/NIS_SentiFrame/master/\\\n",
        "annotations/polarity_annotation/polar_annotation_ira.csv')\n",
        "\n",
        "\n",
        "masha = pd.read_csv('https://raw.githubusercontent.com/DmitryKutsev/NIS_SentiFrame/master/annotations/\\\n",
        "polarity_annotation/polar_annotation_masha.csv')"
      ],
      "execution_count": 0,
      "outputs": []
    },
    {
      "cell_type": "code",
      "metadata": {
        "id": "SQnaJDyd1tuX",
        "colab_type": "code",
        "outputId": "3c217579-e3ba-4c16-c3b5-11431bb409f5",
        "colab": {
          "base_uri": "https://localhost:8080/",
          "height": 221
        }
      },
      "source": [
        "masha['1.1']"
      ],
      "execution_count": 16,
      "outputs": [
        {
          "output_type": "execute_result",
          "data": {
            "text/plain": [
              "0      1.0\n",
              "1      0.0\n",
              "2      0.0\n",
              "3      0.0\n",
              "4      0.0\n",
              "      ... \n",
              "565    0.0\n",
              "566    0.0\n",
              "567    0.0\n",
              "568    0.0\n",
              "569    0.0\n",
              "Name: 1.1, Length: 570, dtype: float64"
            ]
          },
          "metadata": {
            "tags": []
          },
          "execution_count": 16
        }
      ]
    },
    {
      "cell_type": "code",
      "metadata": {
        "id": "qKquD8WY7tcP",
        "colab_type": "code",
        "outputId": "60e9738f-409c-4650-d9f1-f6df370f9858",
        "colab": {
          "base_uri": "https://localhost:8080/",
          "height": 204
        }
      },
      "source": [
        "dima.head()"
      ],
      "execution_count": 17,
      "outputs": [
        {
          "output_type": "execute_result",
          "data": {
            "text/html": [
              "<div>\n",
              "<style scoped>\n",
              "    .dataframe tbody tr th:only-of-type {\n",
              "        vertical-align: middle;\n",
              "    }\n",
              "\n",
              "    .dataframe tbody tr th {\n",
              "        vertical-align: top;\n",
              "    }\n",
              "\n",
              "    .dataframe thead th {\n",
              "        text-align: right;\n",
              "    }\n",
              "</style>\n",
              "<table border=\"1\" class=\"dataframe\">\n",
              "  <thead>\n",
              "    <tr style=\"text-align: right;\">\n",
              "      <th></th>\n",
              "      <th>агитировать</th>\n",
              "      <th>1</th>\n",
              "      <th>1.1</th>\n",
              "    </tr>\n",
              "  </thead>\n",
              "  <tbody>\n",
              "    <tr>\n",
              "      <th>0</th>\n",
              "      <td>адаптироваться</td>\n",
              "      <td>1</td>\n",
              "      <td>0</td>\n",
              "    </tr>\n",
              "    <tr>\n",
              "      <th>1</th>\n",
              "      <td>арестовать</td>\n",
              "      <td>6</td>\n",
              "      <td>0</td>\n",
              "    </tr>\n",
              "    <tr>\n",
              "      <th>2</th>\n",
              "      <td>арестовывать</td>\n",
              "      <td>6</td>\n",
              "      <td>0</td>\n",
              "    </tr>\n",
              "    <tr>\n",
              "      <th>3</th>\n",
              "      <td>атаковать</td>\n",
              "      <td>6</td>\n",
              "      <td>0</td>\n",
              "    </tr>\n",
              "    <tr>\n",
              "      <th>4</th>\n",
              "      <td>бастовать</td>\n",
              "      <td>6</td>\n",
              "      <td>0</td>\n",
              "    </tr>\n",
              "  </tbody>\n",
              "</table>\n",
              "</div>"
            ],
            "text/plain": [
              "      агитировать  1  1.1\n",
              "0  адаптироваться  1    0\n",
              "1      арестовать  6    0\n",
              "2    арестовывать  6    0\n",
              "3       атаковать  6    0\n",
              "4       бастовать  6    0"
            ]
          },
          "metadata": {
            "tags": []
          },
          "execution_count": 17
        }
      ]
    },
    {
      "cell_type": "code",
      "metadata": {
        "id": "tkNZIZVmGtQy",
        "colab_type": "code",
        "outputId": "5426a9fc-7486-452c-b075-202d5933b32e",
        "colab": {
          "base_uri": "https://localhost:8080/",
          "height": 204
        }
      },
      "source": [
        "ira.head()"
      ],
      "execution_count": 18,
      "outputs": [
        {
          "output_type": "execute_result",
          "data": {
            "text/html": [
              "<div>\n",
              "<style scoped>\n",
              "    .dataframe tbody tr th:only-of-type {\n",
              "        vertical-align: middle;\n",
              "    }\n",
              "\n",
              "    .dataframe tbody tr th {\n",
              "        vertical-align: top;\n",
              "    }\n",
              "\n",
              "    .dataframe thead th {\n",
              "        text-align: right;\n",
              "    }\n",
              "</style>\n",
              "<table border=\"1\" class=\"dataframe\">\n",
              "  <thead>\n",
              "    <tr style=\"text-align: right;\">\n",
              "      <th></th>\n",
              "      <th>агитировать</th>\n",
              "      <th>1</th>\n",
              "      <th>0</th>\n",
              "    </tr>\n",
              "  </thead>\n",
              "  <tbody>\n",
              "    <tr>\n",
              "      <th>0</th>\n",
              "      <td>адаптироваться</td>\n",
              "      <td>1</td>\n",
              "      <td>1</td>\n",
              "    </tr>\n",
              "    <tr>\n",
              "      <th>1</th>\n",
              "      <td>арестовать</td>\n",
              "      <td>6</td>\n",
              "      <td>0</td>\n",
              "    </tr>\n",
              "    <tr>\n",
              "      <th>2</th>\n",
              "      <td>арестовывать</td>\n",
              "      <td>6</td>\n",
              "      <td>0</td>\n",
              "    </tr>\n",
              "    <tr>\n",
              "      <th>3</th>\n",
              "      <td>атаковать</td>\n",
              "      <td>6</td>\n",
              "      <td>0</td>\n",
              "    </tr>\n",
              "    <tr>\n",
              "      <th>4</th>\n",
              "      <td>бастовать</td>\n",
              "      <td>6</td>\n",
              "      <td>1</td>\n",
              "    </tr>\n",
              "  </tbody>\n",
              "</table>\n",
              "</div>"
            ],
            "text/plain": [
              "      агитировать  1  0\n",
              "0  адаптироваться  1  1\n",
              "1      арестовать  6  0\n",
              "2    арестовывать  6  0\n",
              "3       атаковать  6  0\n",
              "4       бастовать  6  1"
            ]
          },
          "metadata": {
            "tags": []
          },
          "execution_count": 18
        }
      ]
    },
    {
      "cell_type": "code",
      "metadata": {
        "id": "vR16Dj-R7xOY",
        "colab_type": "code",
        "outputId": "ae61c395-f554-4752-c1b1-ed493f8da0ef",
        "colab": {
          "base_uri": "https://localhost:8080/",
          "height": 221
        }
      },
      "source": [
        "dima['агитировать']"
      ],
      "execution_count": 19,
      "outputs": [
        {
          "output_type": "execute_result",
          "data": {
            "text/plain": [
              "0       адаптироваться\n",
              "1           арестовать\n",
              "2         арестовывать\n",
              "3            атаковать\n",
              "4            бастовать\n",
              "            ...       \n",
              "565      шантажировать\n",
              "566         шокировать\n",
              "567         штурмовать\n",
              "568    эксплуатировать\n",
              "569     экстрадировать\n",
              "Name: агитировать, Length: 570, dtype: object"
            ]
          },
          "metadata": {
            "tags": []
          },
          "execution_count": 19
        }
      ]
    },
    {
      "cell_type": "code",
      "metadata": {
        "id": "RLp_-GQrHBi4",
        "colab_type": "code",
        "outputId": "b6295243-8212-4d7b-e8a2-dd965bc5b5bc",
        "colab": {
          "base_uri": "https://localhost:8080/",
          "height": 34
        }
      },
      "source": [
        "int(str(masha['1.1'][1])[0])"
      ],
      "execution_count": 20,
      "outputs": [
        {
          "output_type": "execute_result",
          "data": {
            "text/plain": [
              "0"
            ]
          },
          "metadata": {
            "tags": []
          },
          "execution_count": 20
        }
      ]
    },
    {
      "cell_type": "code",
      "metadata": {
        "id": "XLdCCRyu9oTT",
        "colab_type": "code",
        "colab": {}
      },
      "source": [
        "all_dict = Counter()\n",
        "for i in range(len(dima['1.1'])):\n",
        "  if int(dima['1.1'][i]) > 0:\n",
        "    all_dict[dima['агитировать'][i]] = [1,]\n",
        "\n",
        "for i in range(len(masha['1.1'])):\n",
        "  try:\n",
        "    if int(str(masha['1.1'][i])[0]) > 0:\n",
        "      if all_dict[masha['агитировать'][i]]:\n",
        "        all_dict[masha['агитировать'][i]][0] += 1\n",
        "      else:\n",
        "        all_dict[masha['агитировать'][i]] = [1,]\n",
        "  except Exception as e:\n",
        "    pass\n",
        "    # print(e)\n",
        "\n",
        "for i in range(len(ira['1'])):\n",
        "  if int(ira['1'][i]) > 0:\n",
        "    if all_dict[ira['агитировать'][i]]:\n",
        "      all_dict[ira['агитировать'][i]][0] += 1\n",
        "    else:\n",
        "      all_dict[ira['агитировать'][i]] = [1,]\n",
        "#all_dict"
      ],
      "execution_count": 0,
      "outputs": []
    },
    {
      "cell_type": "code",
      "metadata": {
        "id": "9m4RPJq6Wneq",
        "colab_type": "code",
        "colab": {}
      },
      "source": [
        "#fasttext_model.get_vector('выслать')"
      ],
      "execution_count": 0,
      "outputs": []
    },
    {
      "cell_type": "code",
      "metadata": {
        "id": "t03K6w_dQqqx",
        "colab_type": "code",
        "colab": {}
      },
      "source": [
        "for verb in all_dict.keys():\n",
        "  #print(verb)\n",
        "  try:\n",
        "    pos_multi_distnce = cosine_distances(np.atleast_2d(fasttext_model.get_vector(verb)), np.atleast_2d(positive_multi_embedding))\n",
        "    neg_multi_distnce = cosine_distances(np.atleast_2d(fasttext_model.get_vector(verb)), np.atleast_2d(negative_multi_embedding))\n",
        "    if 1 - pos_multi_distnce > 1 - neg_multi_distnce:\n",
        "      all_dict[verb].append(1)\n",
        "    else:\n",
        "      all_dict[verb].append(0)\n",
        "\n",
        "  except (KeyError, AttributeError) as e:\n",
        "    all_dict[verb].append(3)\n",
        "  "
      ],
      "execution_count": 0,
      "outputs": []
    },
    {
      "cell_type": "code",
      "metadata": {
        "id": "7oY8pK1WCc95",
        "colab_type": "code",
        "colab": {
          "base_uri": "https://localhost:8080/",
          "height": 34
        },
        "outputId": "c11698ab-7e61-40b9-fde7-92fdd0efd12d"
      },
      "source": [
        "full_df = pd.DataFrame(columns=('verb', 'manual_pos/neg', 'fasttext_pos/neg'))\n",
        "#pos - 1, neg - 0, 3 - not in model\n",
        "hit_dict = Counter(['pos_hit', 'neg_hit', 'pos_diff', 'neg_diff'])\n",
        "none_hit_dict = Counter()\n",
        "for i in all_dict.keys():\n",
        "  if all_dict[i][0] >= 2:\n",
        "    if  all_dict[i][1] == 1:\n",
        "      hit_dict['pos_hit'] += 1\n",
        "    else:\n",
        "      hit_dict['pos_diff'] += 1\n",
        "    full_df = full_df.append({'verb': i, 'manual_pos/neg': 1, 'fasttext_pos/neg': all_dict[i][1]}, ignore_index=True)\n",
        "\n",
        "  else:\n",
        "    full_df = full_df.append({'verb': i, 'manual_pos/neg': 0, 'fasttext_pos/neg': all_dict[i][1]}, ignore_index=True)\n",
        "    if  all_dict[i][1] == 1:\n",
        "      hit_dict['neg_hit'] += 1\n",
        "    else:\n",
        "      hit_dict['neg_diff'] += 1\n",
        "\n",
        "hit_dict\n"
      ],
      "execution_count": 44,
      "outputs": [
        {
          "output_type": "execute_result",
          "data": {
            "text/plain": [
              "Counter({'neg_diff': 268, 'neg_hit': 91, 'pos_diff': 64, 'pos_hit': 150})"
            ]
          },
          "metadata": {
            "tags": []
          },
          "execution_count": 44
        }
      ]
    },
    {
      "cell_type": "code",
      "metadata": {
        "id": "m3rStvCyIqL1",
        "colab_type": "code",
        "outputId": "ee484753-a17c-4541-8077-dda5d77fde65",
        "colab": {
          "base_uri": "https://localhost:8080/",
          "height": 419
        }
      },
      "source": [
        "full_df.head(200)"
      ],
      "execution_count": 45,
      "outputs": [
        {
          "output_type": "execute_result",
          "data": {
            "text/html": [
              "<div>\n",
              "<style scoped>\n",
              "    .dataframe tbody tr th:only-of-type {\n",
              "        vertical-align: middle;\n",
              "    }\n",
              "\n",
              "    .dataframe tbody tr th {\n",
              "        vertical-align: top;\n",
              "    }\n",
              "\n",
              "    .dataframe thead th {\n",
              "        text-align: right;\n",
              "    }\n",
              "</style>\n",
              "<table border=\"1\" class=\"dataframe\">\n",
              "  <thead>\n",
              "    <tr style=\"text-align: right;\">\n",
              "      <th></th>\n",
              "      <th>verb</th>\n",
              "      <th>manual_pos/neg</th>\n",
              "      <th>fasttext_pos/neg</th>\n",
              "    </tr>\n",
              "  </thead>\n",
              "  <tbody>\n",
              "    <tr>\n",
              "      <th>0</th>\n",
              "      <td>беречь</td>\n",
              "      <td>1</td>\n",
              "      <td>1</td>\n",
              "    </tr>\n",
              "    <tr>\n",
              "      <th>1</th>\n",
              "      <td>беспокоиться</td>\n",
              "      <td>1</td>\n",
              "      <td>0</td>\n",
              "    </tr>\n",
              "    <tr>\n",
              "      <th>2</th>\n",
              "      <td>благодарить</td>\n",
              "      <td>1</td>\n",
              "      <td>1</td>\n",
              "    </tr>\n",
              "    <tr>\n",
              "      <th>3</th>\n",
              "      <td>благословить</td>\n",
              "      <td>1</td>\n",
              "      <td>1</td>\n",
              "    </tr>\n",
              "    <tr>\n",
              "      <th>4</th>\n",
              "      <td>вдохновить</td>\n",
              "      <td>1</td>\n",
              "      <td>1</td>\n",
              "    </tr>\n",
              "    <tr>\n",
              "      <th>...</th>\n",
              "      <td>...</td>\n",
              "      <td>...</td>\n",
              "      <td>...</td>\n",
              "    </tr>\n",
              "    <tr>\n",
              "      <th>195</th>\n",
              "      <td>предотвратить</td>\n",
              "      <td>1</td>\n",
              "      <td>1</td>\n",
              "    </tr>\n",
              "    <tr>\n",
              "      <th>196</th>\n",
              "      <td>предотвращать</td>\n",
              "      <td>1</td>\n",
              "      <td>1</td>\n",
              "    </tr>\n",
              "    <tr>\n",
              "      <th>197</th>\n",
              "      <td>предпочесть</td>\n",
              "      <td>1</td>\n",
              "      <td>1</td>\n",
              "    </tr>\n",
              "    <tr>\n",
              "      <th>198</th>\n",
              "      <td>предпочитать</td>\n",
              "      <td>1</td>\n",
              "      <td>1</td>\n",
              "    </tr>\n",
              "    <tr>\n",
              "      <th>199</th>\n",
              "      <td>противодействовать</td>\n",
              "      <td>1</td>\n",
              "      <td>1</td>\n",
              "    </tr>\n",
              "  </tbody>\n",
              "</table>\n",
              "<p>200 rows × 3 columns</p>\n",
              "</div>"
            ],
            "text/plain": [
              "                   verb manual_pos/neg fasttext_pos/neg\n",
              "0                беречь              1                1\n",
              "1          беспокоиться              1                0\n",
              "2           благодарить              1                1\n",
              "3          благословить              1                1\n",
              "4            вдохновить              1                1\n",
              "..                  ...            ...              ...\n",
              "195       предотвратить              1                1\n",
              "196       предотвращать              1                1\n",
              "197         предпочесть              1                1\n",
              "198        предпочитать              1                1\n",
              "199  противодействовать              1                1\n",
              "\n",
              "[200 rows x 3 columns]"
            ]
          },
          "metadata": {
            "tags": []
          },
          "execution_count": 45
        }
      ]
    },
    {
      "cell_type": "code",
      "metadata": {
        "id": "Vk0K4zRqa7bt",
        "colab_type": "code",
        "colab": {}
      },
      "source": [
        "import matplotlib.pyplot as plt"
      ],
      "execution_count": 0,
      "outputs": []
    },
    {
      "cell_type": "code",
      "metadata": {
        "id": "F2u9Of6PKVvO",
        "colab_type": "code",
        "outputId": "46bae655-2651-48c0-b8d0-ecc610a47033",
        "colab": {
          "base_uri": "https://localhost:8080/",
          "height": 266
        }
      },
      "source": [
        "plt.bar(*zip(*hit_dict.items()))\n",
        "plt.show()"
      ],
      "execution_count": 47,
      "outputs": [
        {
          "output_type": "display_data",
          "data": {
            "image/png": "[encoded data removed]",
            "text/plain": [
              "<Figure size 432x288 with 1 Axes>"
            ]
          },
          "metadata": {
            "tags": [],
            "needs_background": "light"
          }
        }
      ]
    },
    {
      "cell_type": "code",
      "metadata": {
        "id": "9EncxG3eah6q",
        "colab_type": "code",
        "colab": {}
      },
      "source": [
        ""
      ],
      "execution_count": 0,
      "outputs": []
    }
  ]
}