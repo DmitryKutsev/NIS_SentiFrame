{
  "nbformat": 4,
  "nbformat_minor": 0,
  "metadata": {
    "colab": {
      "name": "Untitled34.ipynb",
      "provenance": [],
      "authorship_tag": "ABX9TyMtJ85yc/pVpDkd+99cmGQf",
      "include_colab_link": true
    },
    "kernelspec": {
      "name": "python3",
      "display_name": "Python 3"
    }
  },
  "cells": [
    {
      "cell_type": "markdown",
      "metadata": {
        "id": "view-in-github",
        "colab_type": "text"
      },
      "source": [
        "<a href=\"https://colab.research.google.com/github/DmitryKutsev/NIS_SentiFrame/blob/master/21_04_dataframe_and_fasttext.ipynb\" target=\"_parent\"><img src=\"https://colab.research.google.com/assets/colab-badge.svg\" alt=\"Open In Colab\"/></a>"
      ]
    },
    {
      "cell_type": "code",
      "metadata": {
        "id": "GvuEcdMRYfcX",
        "colab_type": "code",
        "colab": {
          "base_uri": "https://localhost:8080/",
          "height": 204
        },
        "outputId": "e4111ec4-4a8c-49c5-9047-371143064f91"
      },
      "source": [
        "!wget https://rusvectores.org/static/models/rusvectores4/fasttext/araneum_none_fasttextcbow_300_5_2018.tgz"
      ],
      "execution_count": 1,
      "outputs": [
        {
          "output_type": "stream",
          "text": [
            "--2020-04-21 06:17:20--  https://rusvectores.org/static/models/rusvectores4/fasttext/araneum_none_fasttextcbow_300_5_2018.tgz\n",
            "Resolving rusvectores.org (rusvectores.org)... 116.203.104.23\n",
            "Connecting to rusvectores.org (rusvectores.org)|116.203.104.23|:443... connected.\n",
            "HTTP request sent, awaiting response... 200 OK\n",
            "Length: 2691248108 (2.5G) [application/x-gzip]\n",
            "Saving to: ‘araneum_none_fasttextcbow_300_5_2018.tgz’\n",
            "\n",
            "araneum_none_fastte 100%[===================>]   2.51G  28.2MB/s    in 93s     \n",
            "\n",
            "2020-04-21 06:18:54 (27.5 MB/s) - ‘araneum_none_fasttextcbow_300_5_2018.tgz’ saved [2691248108/2691248108]\n",
            "\n"
          ],
          "name": "stdout"
        }
      ]
    },
    {
      "cell_type": "code",
      "metadata": {
        "id": "DfjryH38Yha8",
        "colab_type": "code",
        "colab": {
          "base_uri": "https://localhost:8080/",
          "height": 204
        },
        "outputId": "4185d4ce-968f-42b6-94e4-4b995baf96c2"
      },
      "source": [
        "!wget https://raw.githubusercontent.com/nicolay-r/RuSentiFrames/master/collection.json"
      ],
      "execution_count": 2,
      "outputs": [
        {
          "output_type": "stream",
          "text": [
            "--2020-04-21 06:18:56--  https://raw.githubusercontent.com/nicolay-r/RuSentiFrames/master/collection.json\n",
            "Resolving raw.githubusercontent.com (raw.githubusercontent.com)... 151.101.0.133, 151.101.64.133, 151.101.128.133, ...\n",
            "Connecting to raw.githubusercontent.com (raw.githubusercontent.com)|151.101.0.133|:443... connected.\n",
            "HTTP request sent, awaiting response... 200 OK\n",
            "Length: 606414 (592K) [text/plain]\n",
            "Saving to: ‘collection.json’\n",
            "\n",
            "\rcollection.json       0%[                    ]       0  --.-KB/s               \rcollection.json     100%[===================>] 592.20K  --.-KB/s    in 0.09s   \n",
            "\n",
            "2020-04-21 06:18:56 (6.28 MB/s) - ‘collection.json’ saved [606414/606414]\n",
            "\n"
          ],
          "name": "stdout"
        }
      ]
    },
    {
      "cell_type": "code",
      "metadata": {
        "id": "40XSrpHcYnVJ",
        "colab_type": "code",
        "colab": {
          "base_uri": "https://localhost:8080/",
          "height": 360
        },
        "outputId": "207462c4-a53f-415d-f558-d3aaa8331843"
      },
      "source": [
        "!pip install pymorphy2[fast]"
      ],
      "execution_count": 3,
      "outputs": [
        {
          "output_type": "stream",
          "text": [
            "Collecting pymorphy2[fast]\n",
            "\u001b[?25l  Downloading https://files.pythonhosted.org/packages/a3/33/fff9675c68b5f6c63ec8c6e6ff57827dda28a1fa5b2c2d727dffff92dd47/pymorphy2-0.8-py2.py3-none-any.whl (46kB)\n",
            "\r\u001b[K     |███████                         | 10kB 17.7MB/s eta 0:00:01\r\u001b[K     |██████████████▏                 | 20kB 1.7MB/s eta 0:00:01\r\u001b[K     |█████████████████████▎          | 30kB 2.5MB/s eta 0:00:01\r\u001b[K     |████████████████████████████▍   | 40kB 1.7MB/s eta 0:00:01\r\u001b[K     |████████████████████████████████| 51kB 1.6MB/s \n",
            "\u001b[?25hCollecting dawg-python>=0.7\n",
            "  Downloading https://files.pythonhosted.org/packages/6a/84/ff1ce2071d4c650ec85745766c0047ccc3b5036f1d03559fd46bb38b5eeb/DAWG_Python-0.7.2-py2.py3-none-any.whl\n",
            "Requirement already satisfied: docopt>=0.6 in /usr/local/lib/python3.6/dist-packages (from pymorphy2[fast]) (0.6.2)\n",
            "Collecting pymorphy2-dicts<3.0,>=2.4\n",
            "\u001b[?25l  Downloading https://files.pythonhosted.org/packages/02/51/2465fd4f72328ab50877b54777764d928da8cb15b74e2680fc1bd8cb3173/pymorphy2_dicts-2.4.393442.3710985-py2.py3-none-any.whl (7.1MB)\n",
            "\u001b[K     |████████████████████████████████| 7.1MB 6.3MB/s \n",
            "\u001b[?25hCollecting DAWG>=0.7.3; extra == \"fast\"\n",
            "\u001b[?25l  Downloading https://files.pythonhosted.org/packages/b8/ef/91b619a399685f7a0a95a03628006ba814d96293bbbbed234ee66fbdefd9/DAWG-0.8.0.tar.gz (371kB)\n",
            "\u001b[K     |████████████████████████████████| 378kB 42.6MB/s \n",
            "\u001b[?25hBuilding wheels for collected packages: DAWG\n",
            "  Building wheel for DAWG (setup.py) ... \u001b[?25l\u001b[?25hdone\n",
            "  Created wheel for DAWG: filename=DAWG-0.8.0-cp36-cp36m-linux_x86_64.whl size=859393 sha256=ea6721889a18a927123d2aa3bc8a9b1e4ad4391d4892ad35c8e4a51b53183714\n",
            "  Stored in directory: /root/.cache/pip/wheels/3d/1f/f0/a5b1f9d02e193c997d252c33d215f24dfd7a448bc0166b2a12\n",
            "Successfully built DAWG\n",
            "Installing collected packages: dawg-python, pymorphy2-dicts, DAWG, pymorphy2\n",
            "Successfully installed DAWG-0.8.0 dawg-python-0.7.2 pymorphy2-0.8 pymorphy2-dicts-2.4.393442.3710985\n"
          ],
          "name": "stdout"
        }
      ]
    },
    {
      "cell_type": "code",
      "metadata": {
        "id": "hVNT8UGSc1iC",
        "colab_type": "code",
        "colab": {
          "base_uri": "https://localhost:8080/",
          "height": 102
        },
        "outputId": "910debd2-125d-48d5-963e-97ae50389dc6"
      },
      "source": [
        "!gunzip araneum_none_fasttextcbow_300_5_2018.tgz\n",
        "!tar -xvf araneum_none_fasttextcbow_300_5_2018.tar"
      ],
      "execution_count": 16,
      "outputs": [
        {
          "output_type": "stream",
          "text": [
            "gzip: araneum_none_fasttextcbow_300_5_2018.tgz: No such file or directory\n",
            "araneum_none_fasttextcbow_300_5_2018.model\n",
            "araneum_none_fasttextcbow_300_5_2018.model.vectors_ngrams.npy\n",
            "araneum_none_fasttextcbow_300_5_2018.model.vectors.npy\n",
            "araneum_none_fasttextcbow_300_5_2018.model.vectors_vocab.npy\n"
          ],
          "name": "stdout"
        }
      ]
    },
    {
      "cell_type": "code",
      "metadata": {
        "id": "k593CLmIc3gI",
        "colab_type": "code",
        "colab": {
          "base_uri": "https://localhost:8080/",
          "height": 136
        },
        "outputId": "f21be240-0dc1-49c0-933c-2fe775700071"
      },
      "source": [
        "!ls"
      ],
      "execution_count": 17,
      "outputs": [
        {
          "output_type": "stream",
          "text": [
            "araneum_none_fasttextcbow_300_5_2018.model\n",
            "araneum_none_fasttextcbow_300_5_2018.model.vectors_ngrams.npy\n",
            "araneum_none_fasttextcbow_300_5_2018.model.vectors.npy\n",
            "araneum_none_fasttextcbow_300_5_2018.model.vectors_vocab.npy\n",
            "araneum_none_fasttextcbow_300_5_2018.tar\n",
            "collection.json\n",
            "sample_data\n"
          ],
          "name": "stdout"
        }
      ]
    },
    {
      "cell_type": "code",
      "metadata": {
        "id": "NO2_urTOYnvP",
        "colab_type": "code",
        "colab": {}
      },
      "source": [
        "from collections import Counter\n",
        "import json\n",
        "import pandas as pd\n",
        "import numpy as np\n",
        "from sklearn.metrics.pairwise import cosine_distances\n",
        "import pymorphy2\n",
        "import gensim\n",
        "morph = pymorphy2.MorphAnalyzer()"
      ],
      "execution_count": 0,
      "outputs": []
    },
    {
      "cell_type": "code",
      "metadata": {
        "id": "H_n6ksW3cl_h",
        "colab_type": "code",
        "colab": {
          "base_uri": "https://localhost:8080/",
          "height": 71
        },
        "outputId": "5f1446b3-2bc1-4b17-ca7e-be5bcb839483"
      },
      "source": [
        "fasttext_model = gensim.models.KeyedVectors.load(\"araneum_none_fasttextcbow_300_5_2018.model\")"
      ],
      "execution_count": 18,
      "outputs": [
        {
          "output_type": "stream",
          "text": [
            "/usr/local/lib/python3.6/dist-packages/smart_open/smart_open_lib.py:253: UserWarning: This function is deprecated, use smart_open.open instead. See the migration notes for details: https://github.com/RaRe-Technologies/smart_open/blob/master/README.rst#migrating-to-the-new-open-function\n",
            "  'See the migration notes for details: %s' % _MIGRATION_NOTES_URL\n"
          ],
          "name": "stderr"
        }
      ]
    },
    {
      "cell_type": "code",
      "metadata": {
        "id": "1NxFFNJTb8mL",
        "colab_type": "code",
        "colab": {}
      },
      "source": [
        "positive_multi_seed = ['одобрять', 'хвалить', 'поощрять', 'любить']\n",
        "negative_multi_seed = ['ненавидеть', 'убить', 'ругать', 'злиться']\n",
        "positive_single_seed = ['ценить']\n",
        "negative_single_seed = ['убивать']\n",
        "def make_seed_embedding(seed_dict, model):\n",
        "  '''\n",
        "  Принимает на вход список, на выходе дает средний вектор всех слов из этого списка\n",
        "  '''\n",
        "  summ = 0\n",
        "  # if model == skipgram_model:\n",
        "  #   for verb in seed_dict:\n",
        "  #     summ = summ + model[verb + '_V']\n",
        "  #   vector = summ/len(seed_dict)\n",
        "  # else:\n",
        "  for verb in seed_dict:\n",
        "    summ = summ + model.get_vector(verb)\n",
        "  vector = summ/len(seed_dict)\n",
        "\n",
        "  return vector\n",
        "\n",
        "positive_multi_embedding = make_seed_embedding(positive_multi_seed, fasttext_model)\n",
        "negative_multi_embedding = make_seed_embedding(negative_multi_seed, fasttext_model)\n",
        "positive_single_embedding = make_seed_embedding(positive_single_seed, fasttext_model)\n",
        "negative_single_embedding = make_seed_embedding(negative_single_seed, fasttext_model)"
      ],
      "execution_count": 0,
      "outputs": []
    },
    {
      "cell_type": "code",
      "metadata": {
        "id": "0ZW710Wzb-Wo",
        "colab_type": "code",
        "colab": {}
      },
      "source": [
        "dima = pd.read_csv('https://raw.githubusercontent.com\\\n",
        "/DmitryKutsev/NIS_SentiFrame/master/annotations/polarity_annotation/polar_annotation_dima.csv')\n",
        "\n",
        "ira = pd.read_csv('https://raw.githubusercontent.com/DmitryKutsev/NIS_SentiFrame/master/\\\n",
        "annotations/polarity_annotation/polar_annotation_ira.csv')\n",
        "\n",
        "\n",
        "masha = pd.read_csv('https://raw.githubusercontent.com/DmitryKutsev/NIS_SentiFrame/master/annotations/\\\n",
        "polarity_annotation/polar_annotation_masha.csv')"
      ],
      "execution_count": 0,
      "outputs": []
    },
    {
      "cell_type": "code",
      "metadata": {
        "id": "SQnaJDyd1tuX",
        "colab_type": "code",
        "colab": {
          "base_uri": "https://localhost:8080/",
          "height": 221
        },
        "outputId": "b68b579a-896b-4440-b989-af156e7bef98"
      },
      "source": [
        "masha['1.1']"
      ],
      "execution_count": 72,
      "outputs": [
        {
          "output_type": "execute_result",
          "data": {
            "text/plain": [
              "0      1.0\n",
              "1      0.0\n",
              "2      0.0\n",
              "3      0.0\n",
              "4      0.0\n",
              "      ... \n",
              "565    0.0\n",
              "566    0.0\n",
              "567    0.0\n",
              "568    0.0\n",
              "569    0.0\n",
              "Name: 1.1, Length: 570, dtype: float64"
            ]
          },
          "metadata": {
            "tags": []
          },
          "execution_count": 72
        }
      ]
    },
    {
      "cell_type": "code",
      "metadata": {
        "id": "qKquD8WY7tcP",
        "colab_type": "code",
        "colab": {
          "base_uri": "https://localhost:8080/",
          "height": 204
        },
        "outputId": "9a285e3f-2df1-4663-fe93-06e11ba2bdc1"
      },
      "source": [
        "dima.head()"
      ],
      "execution_count": 27,
      "outputs": [
        {
          "output_type": "execute_result",
          "data": {
            "text/html": [
              "<div>\n",
              "<style scoped>\n",
              "    .dataframe tbody tr th:only-of-type {\n",
              "        vertical-align: middle;\n",
              "    }\n",
              "\n",
              "    .dataframe tbody tr th {\n",
              "        vertical-align: top;\n",
              "    }\n",
              "\n",
              "    .dataframe thead th {\n",
              "        text-align: right;\n",
              "    }\n",
              "</style>\n",
              "<table border=\"1\" class=\"dataframe\">\n",
              "  <thead>\n",
              "    <tr style=\"text-align: right;\">\n",
              "      <th></th>\n",
              "      <th>агитировать</th>\n",
              "      <th>1</th>\n",
              "      <th>1.1</th>\n",
              "    </tr>\n",
              "  </thead>\n",
              "  <tbody>\n",
              "    <tr>\n",
              "      <th>0</th>\n",
              "      <td>адаптироваться</td>\n",
              "      <td>1</td>\n",
              "      <td>0</td>\n",
              "    </tr>\n",
              "    <tr>\n",
              "      <th>1</th>\n",
              "      <td>арестовать</td>\n",
              "      <td>6</td>\n",
              "      <td>0</td>\n",
              "    </tr>\n",
              "    <tr>\n",
              "      <th>2</th>\n",
              "      <td>арестовывать</td>\n",
              "      <td>6</td>\n",
              "      <td>0</td>\n",
              "    </tr>\n",
              "    <tr>\n",
              "      <th>3</th>\n",
              "      <td>атаковать</td>\n",
              "      <td>6</td>\n",
              "      <td>0</td>\n",
              "    </tr>\n",
              "    <tr>\n",
              "      <th>4</th>\n",
              "      <td>бастовать</td>\n",
              "      <td>6</td>\n",
              "      <td>0</td>\n",
              "    </tr>\n",
              "  </tbody>\n",
              "</table>\n",
              "</div>"
            ],
            "text/plain": [
              "      агитировать  1  1.1\n",
              "0  адаптироваться  1    0\n",
              "1      арестовать  6    0\n",
              "2    арестовывать  6    0\n",
              "3       атаковать  6    0\n",
              "4       бастовать  6    0"
            ]
          },
          "metadata": {
            "tags": []
          },
          "execution_count": 27
        }
      ]
    },
    {
      "cell_type": "code",
      "metadata": {
        "id": "tkNZIZVmGtQy",
        "colab_type": "code",
        "colab": {
          "base_uri": "https://localhost:8080/",
          "height": 204
        },
        "outputId": "93ce0403-e426-4568-e26d-e127467fc96a"
      },
      "source": [
        "ira.head()"
      ],
      "execution_count": 60,
      "outputs": [
        {
          "output_type": "execute_result",
          "data": {
            "text/html": [
              "<div>\n",
              "<style scoped>\n",
              "    .dataframe tbody tr th:only-of-type {\n",
              "        vertical-align: middle;\n",
              "    }\n",
              "\n",
              "    .dataframe tbody tr th {\n",
              "        vertical-align: top;\n",
              "    }\n",
              "\n",
              "    .dataframe thead th {\n",
              "        text-align: right;\n",
              "    }\n",
              "</style>\n",
              "<table border=\"1\" class=\"dataframe\">\n",
              "  <thead>\n",
              "    <tr style=\"text-align: right;\">\n",
              "      <th></th>\n",
              "      <th>агитировать</th>\n",
              "      <th>1</th>\n",
              "      <th>0</th>\n",
              "    </tr>\n",
              "  </thead>\n",
              "  <tbody>\n",
              "    <tr>\n",
              "      <th>0</th>\n",
              "      <td>адаптироваться</td>\n",
              "      <td>1</td>\n",
              "      <td>1</td>\n",
              "    </tr>\n",
              "    <tr>\n",
              "      <th>1</th>\n",
              "      <td>арестовать</td>\n",
              "      <td>6</td>\n",
              "      <td>0</td>\n",
              "    </tr>\n",
              "    <tr>\n",
              "      <th>2</th>\n",
              "      <td>арестовывать</td>\n",
              "      <td>6</td>\n",
              "      <td>0</td>\n",
              "    </tr>\n",
              "    <tr>\n",
              "      <th>3</th>\n",
              "      <td>атаковать</td>\n",
              "      <td>6</td>\n",
              "      <td>0</td>\n",
              "    </tr>\n",
              "    <tr>\n",
              "      <th>4</th>\n",
              "      <td>бастовать</td>\n",
              "      <td>6</td>\n",
              "      <td>1</td>\n",
              "    </tr>\n",
              "  </tbody>\n",
              "</table>\n",
              "</div>"
            ],
            "text/plain": [
              "      агитировать  1  0\n",
              "0  адаптироваться  1  1\n",
              "1      арестовать  6  0\n",
              "2    арестовывать  6  0\n",
              "3       атаковать  6  0\n",
              "4       бастовать  6  1"
            ]
          },
          "metadata": {
            "tags": []
          },
          "execution_count": 60
        }
      ]
    },
    {
      "cell_type": "code",
      "metadata": {
        "id": "vR16Dj-R7xOY",
        "colab_type": "code",
        "colab": {
          "base_uri": "https://localhost:8080/",
          "height": 221
        },
        "outputId": "44cf50bc-951e-40a4-9d36-35815ef6c2e5"
      },
      "source": [
        "dima['агитировать']"
      ],
      "execution_count": 41,
      "outputs": [
        {
          "output_type": "execute_result",
          "data": {
            "text/plain": [
              "0       адаптироваться\n",
              "1           арестовать\n",
              "2         арестовывать\n",
              "3            атаковать\n",
              "4            бастовать\n",
              "            ...       \n",
              "565      шантажировать\n",
              "566         шокировать\n",
              "567         штурмовать\n",
              "568    эксплуатировать\n",
              "569     экстрадировать\n",
              "Name: агитировать, Length: 570, dtype: object"
            ]
          },
          "metadata": {
            "tags": []
          },
          "execution_count": 41
        }
      ]
    },
    {
      "cell_type": "code",
      "metadata": {
        "id": "RLp_-GQrHBi4",
        "colab_type": "code",
        "colab": {
          "base_uri": "https://localhost:8080/",
          "height": 34
        },
        "outputId": "348dffa7-5ebd-452f-cabb-c40668f71a25"
      },
      "source": [
        "int(str(masha['1.1'][1])[0])"
      ],
      "execution_count": 70,
      "outputs": [
        {
          "output_type": "execute_result",
          "data": {
            "text/plain": [
              "0"
            ]
          },
          "metadata": {
            "tags": []
          },
          "execution_count": 70
        }
      ]
    },
    {
      "cell_type": "code",
      "metadata": {
        "id": "XLdCCRyu9oTT",
        "colab_type": "code",
        "colab": {}
      },
      "source": [
        "all_dict = Counter()\n",
        "for i in range(len(dima['1.1'])):\n",
        "  if int(dima['1.1'][i]) > 0:\n",
        "    all_dict[dima['агитировать'][i]] = 1\n",
        "\n",
        "for i in range(len(masha['1.1'])):\n",
        "  try:\n",
        "    if int(str(masha['1.1'][i])[0]) > 0:\n",
        "      if all_dict[masha['агитировать'][i]]:\n",
        "        all_dict[masha['агитировать'][i]] += 1\n",
        "      else:\n",
        "        all_dict[masha['агитировать'][i]] = 1\n",
        "  except Exception as e:\n",
        "    pass\n",
        "    # print(e)\n",
        "\n",
        "for i in range(len(ira['1'])):\n",
        "  if int(ira['1'][i]) > 0:\n",
        "    if all_dict[ira['агитировать'][i]]:\n",
        "      all_dict[ira['агитировать'][i]] += 1\n",
        "    else:\n",
        "      all_dict[ira['агитировать'][i]] = 1\n",
        "#all_dict"
      ],
      "execution_count": 0,
      "outputs": []
    },
    {
      "cell_type": "code",
      "metadata": {
        "id": "7oY8pK1WCc95",
        "colab_type": "code",
        "colab": {}
      },
      "source": [
        "full_df = pd.DataFrame(columns=('verb', 'stupid huumans pos/neg'))\n",
        "#pos - 1, neg - 0\n",
        "for i in all_dict.keys():\n",
        "  if all_dict[i] >= 2:\n",
        "    full_df = full_df.append({'verb': i, 'stupid huumans pos/neg': 1}, ignore_index=True)\n",
        "  else:\n",
        "    full_df = full_df.append({'verb': i, 'stupid huumans pos/neg': 0}, ignore_index=True)"
      ],
      "execution_count": 0,
      "outputs": []
    },
    {
      "cell_type": "code",
      "metadata": {
        "id": "m3rStvCyIqL1",
        "colab_type": "code",
        "colab": {
          "base_uri": "https://localhost:8080/",
          "height": 419
        },
        "outputId": "01063681-e142-49c1-ecca-094f3625e31d"
      },
      "source": [
        "full_df"
      ],
      "execution_count": 94,
      "outputs": [
        {
          "output_type": "execute_result",
          "data": {
            "text/html": [
              "<div>\n",
              "<style scoped>\n",
              "    .dataframe tbody tr th:only-of-type {\n",
              "        vertical-align: middle;\n",
              "    }\n",
              "\n",
              "    .dataframe tbody tr th {\n",
              "        vertical-align: top;\n",
              "    }\n",
              "\n",
              "    .dataframe thead th {\n",
              "        text-align: right;\n",
              "    }\n",
              "</style>\n",
              "<table border=\"1\" class=\"dataframe\">\n",
              "  <thead>\n",
              "    <tr style=\"text-align: right;\">\n",
              "      <th></th>\n",
              "      <th>verb</th>\n",
              "      <th>stupid huumans pos/neg</th>\n",
              "    </tr>\n",
              "  </thead>\n",
              "  <tbody>\n",
              "    <tr>\n",
              "      <th>0</th>\n",
              "      <td>беречь</td>\n",
              "      <td>1</td>\n",
              "    </tr>\n",
              "    <tr>\n",
              "      <th>1</th>\n",
              "      <td>беспокоиться</td>\n",
              "      <td>1</td>\n",
              "    </tr>\n",
              "    <tr>\n",
              "      <th>2</th>\n",
              "      <td>благодарить</td>\n",
              "      <td>1</td>\n",
              "    </tr>\n",
              "    <tr>\n",
              "      <th>3</th>\n",
              "      <td>благословить</td>\n",
              "      <td>1</td>\n",
              "    </tr>\n",
              "    <tr>\n",
              "      <th>4</th>\n",
              "      <td>вдохновить</td>\n",
              "      <td>1</td>\n",
              "    </tr>\n",
              "    <tr>\n",
              "      <th>...</th>\n",
              "      <td>...</td>\n",
              "      <td>...</td>\n",
              "    </tr>\n",
              "    <tr>\n",
              "      <th>564</th>\n",
              "      <td>шантажировать</td>\n",
              "      <td>0</td>\n",
              "    </tr>\n",
              "    <tr>\n",
              "      <th>565</th>\n",
              "      <td>шокировать</td>\n",
              "      <td>0</td>\n",
              "    </tr>\n",
              "    <tr>\n",
              "      <th>566</th>\n",
              "      <td>штурмовать</td>\n",
              "      <td>0</td>\n",
              "    </tr>\n",
              "    <tr>\n",
              "      <th>567</th>\n",
              "      <td>эксплуатировать</td>\n",
              "      <td>0</td>\n",
              "    </tr>\n",
              "    <tr>\n",
              "      <th>568</th>\n",
              "      <td>экстрадировать</td>\n",
              "      <td>0</td>\n",
              "    </tr>\n",
              "  </tbody>\n",
              "</table>\n",
              "<p>569 rows × 2 columns</p>\n",
              "</div>"
            ],
            "text/plain": [
              "                verb stupid huumans pos/neg\n",
              "0             беречь                      1\n",
              "1       беспокоиться                      1\n",
              "2        благодарить                      1\n",
              "3       благословить                      1\n",
              "4         вдохновить                      1\n",
              "..               ...                    ...\n",
              "564    шантажировать                      0\n",
              "565       шокировать                      0\n",
              "566       штурмовать                      0\n",
              "567  эксплуатировать                      0\n",
              "568   экстрадировать                      0\n",
              "\n",
              "[569 rows x 2 columns]"
            ]
          },
          "metadata": {
            "tags": []
          },
          "execution_count": 94
        }
      ]
    },
    {
      "cell_type": "code",
      "metadata": {
        "id": "F2u9Of6PKVvO",
        "colab_type": "code",
        "colab": {}
      },
      "source": [
        ""
      ],
      "execution_count": 0,
      "outputs": []
    }
  ]
}