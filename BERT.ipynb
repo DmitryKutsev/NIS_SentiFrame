{
  "nbformat": 4,
  "nbformat_minor": 0,
  "metadata": {
    "colab": {
      "name": "BERT.ipynb",
      "provenance": [],
      "include_colab_link": true
    },
    "kernelspec": {
      "name": "python3",
      "display_name": "Python 3"
    },
    "accelerator": "GPU"
  },
  "cells": [
    {
      "cell_type": "markdown",
      "metadata": {
        "id": "view-in-github",
        "colab_type": "text"
      },
      "source": [
        "<a href=\"https://colab.research.google.com/github/DmitryKutsev/NIS_SentiFrame/blob/master/BERT.ipynb\" target=\"_parent\"><img src=\"https://colab.research.google.com/assets/colab-badge.svg\" alt=\"Open In Colab\"/></a>"
      ]
    },
    {
      "cell_type": "code",
      "metadata": {
        "id": "2BMxgA0IcPEL",
        "colab_type": "code",
        "colab": {}
      },
      "source": [
        "%%capture\n",
        "!pip install pymorphy2[fast]\n",
        "from pymorphy2 import MorphAnalyzer\n",
        "morph = MorphAnalyzer()"
      ],
      "execution_count": 0,
      "outputs": []
    },
    {
      "cell_type": "code",
      "metadata": {
        "id": "OMp-hnltlscZ",
        "colab_type": "code",
        "colab": {}
      },
      "source": [
        "import pandas as pd\n",
        "import numpy as np\n",
        "import json\n",
        "from sklearn.metrics.pairwise import cosine_distances"
      ],
      "execution_count": 0,
      "outputs": []
    },
    {
      "cell_type": "markdown",
      "metadata": {
        "id": "YG_gtye9xkfW",
        "colab_type": "text"
      },
      "source": [
        "Check out [this issue](https://github.com/hanxiao/bert-as-service/issues/380) and \"make sure Colab is using Tensorflow 1.x, because bert-serving-start doesn't currently work with TF 2.1 and nohup hides the output of the command failing\""
      ]
    },
    {
      "cell_type": "code",
      "metadata": {
        "id": "acWmlZeroAC3",
        "colab_type": "code",
        "colab": {}
      },
      "source": [
        "# import tensorflow as tf\n",
        "# print (tf.__version__)"
      ],
      "execution_count": 0,
      "outputs": []
    },
    {
      "cell_type": "code",
      "metadata": {
        "id": "Z5eP2_kNhvFf",
        "colab_type": "code",
        "colab": {}
      },
      "source": [
        "%%capture\n",
        "!pip install -U bert-serving-server[http]\n",
        "!pip install bert-serving-client  # client, independent of `bert-serving-server`"
      ],
      "execution_count": 0,
      "outputs": []
    },
    {
      "cell_type": "code",
      "metadata": {
        "id": "gePhcxaviZj7",
        "colab_type": "code",
        "colab": {}
      },
      "source": [
        "%%capture\n",
        "!wget https://storage.googleapis.com/bert_models/2018_11_23/multi_cased_L-12_H-768_A-12.zip\n",
        "!unzip /content/multi_cased_L-12_H-768_A-12.zip"
      ],
      "execution_count": 0,
      "outputs": []
    },
    {
      "cell_type": "code",
      "metadata": {
        "id": "-pKKkhNVjhXH",
        "colab_type": "code",
        "colab": {}
      },
      "source": [
        "!nohup bert-serving-start -model_dir=./multi_cased_L-12_H-768_A-12 > out.file 2>&1 &"
      ],
      "execution_count": 0,
      "outputs": []
    },
    {
      "cell_type": "code",
      "metadata": {
        "id": "oW2AyjWJkZNz",
        "colab_type": "code",
        "outputId": "22a1d8cb-22b5-40e1-9a78-e333744b921c",
        "colab": {
          "base_uri": "https://localhost:8080/",
          "height": 123
        }
      },
      "source": [
        "from bert_serving.client import BertClient\n",
        "bc = BertClient()\n",
        "encoded_test = bc.encode(['First do it', 'then do it right', 'then do it better'])\n",
        "encoded_test"
      ],
      "execution_count": 11,
      "outputs": [
        {
          "output_type": "execute_result",
          "data": {
            "text/plain": [
              "array([[ 0.49155593,  0.08795979,  0.08263359, ...,  1.0980439 ,\n",
              "         0.41126642, -0.25396958],\n",
              "       [-0.07413451, -0.2278353 , -0.08978202, ...,  1.5093102 ,\n",
              "         1.3512001 , -0.03158369],\n",
              "       [-0.2657526 ,  0.1913553 , -0.3561356 , ...,  1.3962169 ,\n",
              "         1.4187483 ,  0.12651931]], dtype=float32)"
            ]
          },
          "metadata": {
            "tags": []
          },
          "execution_count": 11
        }
      ]
    },
    {
      "cell_type": "code",
      "metadata": {
        "id": "jUV4LKYuQRMD",
        "colab_type": "code",
        "outputId": "ecf45870-08cc-4355-a4d2-169e38007f12",
        "colab": {
          "base_uri": "https://localhost:8080/",
          "height": 34
        }
      },
      "source": [
        "def a0_a1_clause_maker(verb, arg0, arg1, arg0_case='nomn', arg1_case='accs', cap=True):\n",
        "\n",
        "  '''Генерирует простые предложения вида 'arg0 любит arg1'.\n",
        "  Параметры:\n",
        "  verb              глагол в любой форме;\n",
        "  arg0_case='nomn'  тег падежа подлежащего;\n",
        "  arg1_case='accs'  тег падежа дополнения;\n",
        "  arg0='Маша'       подлежащее;\n",
        "  arg1='Петя'       дополнение\n",
        "  cap=True        капитализация аргументов-имен собственных.\n",
        "  Допустимые теги падежей лежат тут: http://opencorpora.org/dict.php?act=gram.'''\n",
        "\n",
        "  inflected_arg0 = morph.parse(arg0)[0].inflect({'sing', 'nomn'}).word\n",
        "  inflected_verb = morph.parse(verb)[0].inflect({'sing', '3per', 'pres', 'indc'}).word\n",
        "  inflected_arg1 = morph.parse(arg1)[0].inflect({'sing', 'accs'}).word\n",
        "\n",
        "  if (cap == True) and ('Name' in morph.parse(arg1)[0].tag):\n",
        "    inflected_arg1 = inflected_arg1.capitalize()\n",
        "  if (cap == True) and ('Name' in morph.parse(arg0)[0].tag):\n",
        "    inflected_arg0 = inflected_arg0.capitalize()\n",
        "\n",
        "  sentence = '{} {} {}'.format(inflected_arg0, inflected_verb, inflected_arg1)\n",
        "  return sentence\n",
        "\n",
        "# a0_a1_clause_maker('любить', 'Маша', 'Петя')\n",
        "a0_a1_clause_maker('любить', 'Петя', 'Маша')"
      ],
      "execution_count": 15,
      "outputs": [
        {
          "output_type": "execute_result",
          "data": {
            "text/plain": [
              "'Петя любит Машу'"
            ]
          },
          "metadata": {
            "tags": []
          },
          "execution_count": 15
        }
      ]
    },
    {
      "cell_type": "code",
      "metadata": {
        "id": "1d4qE2MlmIuM",
        "colab_type": "code",
        "outputId": "35c4dc93-d037-4525-8355-128b449fb616",
        "colab": {
          "base_uri": "https://localhost:8080/",
          "height": 34
        }
      },
      "source": [
        "# Пете нравится, что\n",
        "def clause_wrapper(verb, arg0, arg1, \n",
        "                   main_subject=1, main_verb='нравиться',\n",
        "                   arg0_case='nomn', arg1_case='accs', \n",
        "                   cap=True, ):\n",
        "\n",
        "  '''Генерирует сложноподчинённые предложения вида 'arg нравится, что arg0 любит arg1'.\n",
        "  Параметры:\n",
        "  verb                    глагол-предикат подчинённой клаузы;\n",
        "  arg0_case='nomn'        тег падежа подлежащего подчинённой клаузы;\n",
        "  arg1_case='accs'        тег падежа дополнения подчинённой клаузы;\n",
        "  main_subject            int, номер аргумента-подлежащего главной клаузы (по умолчанию дополнение подчинённой клаузы); \n",
        "  main_verb='нравиться',  глагол-предикат главной клаузы;\n",
        "  arg0='Маша'             подлежащее подчинённой клаузы;\n",
        "  arg1='Петя'             дополнение подчинённой клаузы;\n",
        "  cap=True                капитализация аргументов-имен собственных.\n",
        "  Допустимые теги падежей лежат тут: http://opencorpora.org/dict.php?act=gram.'''\n",
        "\n",
        "  if main_subject:\n",
        "    inflected_main_subject = morph.parse(arg1)[0].inflect({'sing', 'datv'}).word.capitalize()\n",
        "  else:\n",
        "    inflected_main_subject = morph.parse(arg0)[0].inflect({'sing', 'datv'}).word\n",
        "  \n",
        "  if (cap == True) and ('Name' in morph.parse(inflected_main_subject)[0].tag):\n",
        "    inflected_main_subject = inflected_main_subject.capitalize()\n",
        "\n",
        "\n",
        "  inflected_main_verb = morph.parse(main_verb)[0].inflect({'sing', '3per', 'pres', 'indc'}).word\n",
        "  subordinate_clause = a0_a1_clause_maker(verb, arg0, arg1, arg0_case, arg1_case, cap)\n",
        "  main_clause = '{} {}'.format (inflected_main_subject, inflected_main_verb)\n",
        "  sentence = '{}, что {}'.format(main_clause, subordinate_clause)\n",
        "\n",
        "  return sentence\n",
        "\n",
        "clause_wrapper('любить', 'Петя', 'Маша', 0)\n"
      ],
      "execution_count": 17,
      "outputs": [
        {
          "output_type": "execute_result",
          "data": {
            "text/plain": [
              "'Пете нравится, что Петя любит Машу'"
            ]
          },
          "metadata": {
            "tags": []
          },
          "execution_count": 17
        }
      ]
    },
    {
      "cell_type": "code",
      "metadata": {
        "id": "PyhO3vSB21-N",
        "colab_type": "code",
        "colab": {}
      },
      "source": [
        "# bc.server_status"
      ],
      "execution_count": 0,
      "outputs": []
    },
    {
      "cell_type": "markdown",
      "metadata": {
        "id": "4h1I4_Ikjyph",
        "colab_type": "text"
      },
      "source": [
        "# Определение удалённых сидов"
      ]
    },
    {
      "cell_type": "code",
      "metadata": {
        "id": "6i7pSMpM2LOo",
        "colab_type": "code",
        "colab": {}
      },
      "source": [
        "def make_seed_embedding(seed_dict, model):\n",
        "  '''\n",
        "  Принимает на вход список, на выходе дает средний вектор всех слов из этого списка\n",
        "  '''\n",
        "  summ = 0\n",
        "  if model == bc:\n",
        "    for verb in seed_dict:\n",
        "      summ = summ + bc.encode([verb])\n",
        "    vector = summ/len(seed_dict)\n",
        "  return vector\n",
        "\n",
        "# seed_one_skipgram = make_seed_embedding(seed_one_dict, skipgram_model)\n",
        "# seed_one_fasttext = make_seed_embedding(seed_one_dict, fasttext_model)"
      ],
      "execution_count": 0,
      "outputs": []
    },
    {
      "cell_type": "code",
      "metadata": {
        "id": "5gHB3UX0pvGV",
        "colab_type": "code",
        "colab": {}
      },
      "source": [
        "seed1pos = ['одобрять', 'хвалить', 'поощрять', \n",
        "            'обожать', 'восхищаться', 'восторгаться', \n",
        "            'нравиться', 'ценить', 'гордиться',\n",
        "            'хвалить', 'нахваливать', 'превозносить']\n",
        "seed1neg = ['порицать', 'осуждать', 'негодовать',\n",
        "            'обвинять', 'наказывать', \n",
        "            'ненавидеть', 'убивать', 'разрушать']\n",
        "\n",
        "avg1pos = make_seed_embedding(seed1pos, bc)\n",
        "avg1neg = make_seed_embedding(seed1neg, bc)"
      ],
      "execution_count": 0,
      "outputs": []
    },
    {
      "cell_type": "code",
      "metadata": {
        "id": "Y-fGL75Mv4J1",
        "colab_type": "code",
        "colab": {}
      },
      "source": [
        "from itertools import chain\n",
        "from itertools import combinations\n",
        "\n",
        "def powerset(iterable):\n",
        "    \"powerset([1,2,3]) --> () (1,) (2,) (3,) (1,2) (1,3) (2,3) (1,2,3)\"\n",
        "    s = list(iterable)\n",
        "    return chain.from_iterable(combinations(s, r) for r in range(len(s)+1))"
      ],
      "execution_count": 0,
      "outputs": []
    },
    {
      "cell_type": "code",
      "metadata": {
        "id": "MyL4z10Yvp2O",
        "colab_type": "code",
        "colab": {}
      },
      "source": [
        "neg_seeds_list = []\n",
        "for i in powerset(seed1neg):\n",
        "  if i:\n",
        "    neg_seeds_list.append(list(i))\n",
        "# neg_seeds_list\n",
        "\n",
        "pos_seeds_list = []\n",
        "for i in powerset(seed1pos):\n",
        "  if i:\n",
        "    pos_seeds_list.append(list(i))\n",
        "# pos_seeds_list"
      ],
      "execution_count": 0,
      "outputs": []
    },
    {
      "cell_type": "code",
      "metadata": {
        "id": "1nAinX_U2N85",
        "colab_type": "code",
        "colab": {}
      },
      "source": [
        "pseeds_nseeds = np.zeros(shape=(len(pos_seeds_list),len(neg_seeds_list)))"
      ],
      "execution_count": 0,
      "outputs": []
    },
    {
      "cell_type": "code",
      "metadata": {
        "id": "F8JX_vz4UuhR",
        "colab_type": "code",
        "colab": {}
      },
      "source": [
        "pseeds_nseeds = np.load('pseeds_nseeds_matrix.npy')"
      ],
      "execution_count": 0,
      "outputs": []
    },
    {
      "cell_type": "code",
      "metadata": {
        "id": "bWaA58cU59Mt",
        "colab_type": "code",
        "outputId": "24a969dd-1c4e-4c4e-c2fd-4697f38d705a",
        "colab": {
          "base_uri": "https://localhost:8080/",
          "height": 34
        }
      },
      "source": [
        "pseeds_nseeds.shape"
      ],
      "execution_count": 0,
      "outputs": [
        {
          "output_type": "execute_result",
          "data": {
            "text/plain": [
              "(4095, 255)"
            ]
          },
          "metadata": {
            "tags": []
          },
          "execution_count": 42
        }
      ]
    },
    {
      "cell_type": "code",
      "metadata": {
        "id": "59ZSrGMa72KY",
        "colab_type": "code",
        "colab": {}
      },
      "source": [
        "for i, ps in enumerate (pos_seeds_list):\n",
        "  # print (i, ps)\n",
        "  for j, ns in enumerate (neg_seeds_list):\n",
        "    if pseeds_nseeds[i, j] == 0:\n",
        "      seed1pos = pos_seeds_list[i]\n",
        "      seed1neg = neg_seeds_list[j]\n",
        "      avg1pos = make_seed_embedding(seed1pos, bc)\n",
        "      avg1neg = make_seed_embedding(seed1neg, bc)\n",
        "      distance = cosine_distances(np.atleast_2d(avg1pos), np.atleast_2d(avg1neg))\n",
        "      pseeds_nseeds[i, j] = distance\n",
        "      if (i%100 == 0) and (j==1):\n",
        "        print(i)\n",
        "%time\n",
        "# np.unravel_index(np.argmin(pseeds_nseeds, axis=None), pseeds_nseeds.shape)"
      ],
      "execution_count": 0,
      "outputs": []
    },
    {
      "cell_type": "code",
      "metadata": {
        "id": "guXVGbD1Wu3A",
        "colab_type": "code",
        "outputId": "1cbbc1df-cbc0-491c-f28c-211fdc6b470d",
        "colab": {
          "base_uri": "https://localhost:8080/",
          "height": 34
        }
      },
      "source": [
        "np.unravel_index(np.argmin(pseeds_nseeds, axis=None), pseeds_nseeds.shape)\n"
      ],
      "execution_count": 11,
      "outputs": [
        {
          "output_type": "execute_result",
          "data": {
            "text/plain": [
              "(1209, 182)"
            ]
          },
          "metadata": {
            "tags": []
          },
          "execution_count": 11
        }
      ]
    },
    {
      "cell_type": "code",
      "metadata": {
        "id": "EhGCT3iRW6PR",
        "colab_type": "code",
        "outputId": "e702baf9-e8f6-49b7-cd6c-a2fb3ac06905",
        "colab": {
          "base_uri": "https://localhost:8080/",
          "height": 34
        }
      },
      "source": [
        "np.unravel_index(np.argmax(pseeds_nseeds, axis=None), pseeds_nseeds.shape)"
      ],
      "execution_count": 12,
      "outputs": [
        {
          "output_type": "execute_result",
          "data": {
            "text/plain": [
              "(10, 1)"
            ]
          },
          "metadata": {
            "tags": []
          },
          "execution_count": 12
        }
      ]
    },
    {
      "cell_type": "code",
      "metadata": {
        "id": "hiEMLx4l6q_d",
        "colab_type": "code",
        "colab": {}
      },
      "source": [
        "np.save('pseeds_nseeds_matrix', pseeds_nseeds)"
      ],
      "execution_count": 0,
      "outputs": []
    },
    {
      "cell_type": "markdown",
      "metadata": {
        "id": "e_DUeskNOxdF",
        "colab_type": "text"
      },
      "source": [
        "# Проверка расстояния до сидов"
      ]
    },
    {
      "cell_type": "code",
      "metadata": {
        "id": "Ou8kqXReel1C",
        "colab_type": "code",
        "colab": {}
      },
      "source": [
        "%%capture\n",
        "# at least two mutual negative attitudes\n",
        "!wget https://raw.githubusercontent.com/DmitryKutsev/NIS_SentiFrame/master/grouped_verb_lists/neg_a0_a1_mutual.json\n",
        "!wget https://raw.githubusercontent.com/DmitryKutsev/NIS_SentiFrame/master/grouped_verb_lists/neg_a0_a2_mutual.json\n",
        "!wget https://raw.githubusercontent.com/DmitryKutsev/NIS_SentiFrame/master/grouped_verb_lists/neg_a1_a2_mutual.json\n",
        "\n",
        "# at least two mutual positive attitudes\n",
        "!wget https://raw.githubusercontent.com/DmitryKutsev/NIS_SentiFrame/master/grouped_verb_lists/pos_a0_a1_mutual.json\n",
        "!wget https://raw.githubusercontent.com/DmitryKutsev/NIS_SentiFrame/master/grouped_verb_lists/pos_a0_a2_mutual.json\n",
        "!wget https://raw.githubusercontent.com/DmitryKutsev/NIS_SentiFrame/master/grouped_verb_lists/pos_a1_a2_mutual.json\n",
        "\n",
        "# at least two opposite attitudes (only a0/a1 show opposite attitudes toward each other)\n",
        "!wget https://raw.githubusercontent.com/DmitryKutsev/NIS_SentiFrame/master/grouped_verb_lists/opp_a0_a1_candidates_l.json"
      ],
      "execution_count": 0,
      "outputs": []
    },
    {
      "cell_type": "code",
      "metadata": {
        "id": "uSLs7j2hQN2h",
        "colab_type": "code",
        "colab": {}
      },
      "source": [
        "def verb_distance_df_bert(verb_list, model,\n",
        "                  seed1=['ценить'],\n",
        "                  seed2=['убивать']):\n",
        "# делаем датафрейм из одной колонки с теми глаголами, которые хотим проверить\n",
        "  df = pd.DataFrame({'variant':verb_list})\n",
        "\n",
        "  if model == bc:\n",
        "    # ищем дистанцию до первого сида\n",
        "    distance_to_seed1 = df['variant'].apply(\n",
        "        lambda x: cosine_distances(\n",
        "            # для этого векторизуем сам глагол \n",
        "            np.atleast_2d(bc.encode([x])), \n",
        "            # и сид\n",
        "            np.atleast_2d(make_seed_embedding(seed1, bc))).item())\n",
        "    # то же самое для дистанции до второго сида\n",
        "    distance_to_seed2 = df['variant'].apply(\n",
        "        lambda x: cosine_distances(\n",
        "            np.atleast_2d(bc.encode([x])), \n",
        "            np.atleast_2d(make_seed_embedding(seed2, bc))).item())\n",
        "\n",
        "  # эти дистанции кладем в соответсвующие колонки\n",
        "  df['distance_to_seed1_bert'] = distance_to_seed1\n",
        "  df['distance_to_seed2_bert'] = distance_to_seed2\n",
        "\n",
        "  # сиды тоже кладем в колонки, чтоб про них не забывать\n",
        "  df['seed1'] = ''.join(seed1)\n",
        "  df['seed2'] = ''.join(seed2)\n",
        "\n",
        "  df['attributed_polarity'] = np.where(\n",
        "      # если дистанция до первого сида меньше\n",
        "      df['distance_to_seed1_bert'] <= df['distance_to_seed2_bert'], \n",
        "      # то в результирующую колонку кладём тру (иначе - фолс)\n",
        "      True, False)\n",
        "  \n",
        "  return df"
      ],
      "execution_count": 0,
      "outputs": []
    },
    {
      "cell_type": "code",
      "metadata": {
        "id": "LxwQkYYW5NTv",
        "colab_type": "code",
        "colab": {
          "base_uri": "https://localhost:8080/",
          "height": 52
        },
        "outputId": "5d2d4377-599c-4515-8c19-e7c39f343617"
      },
      "source": [
        "# проверим те глаголы, пациенс и агенс которых относятся друг к другу негативно по мнению экспертов \n",
        "with open(\"neg_a0_a1_mutual.json\", \"r\", encoding=\"utf-8\") as f:\n",
        "  list2check = json.load(f, encoding=\"utf-8\")\n",
        "df = verb_distance_df_bert(list2check, bc, seed1=['поощрять'], seed2=['наказывать'])\n",
        "\n",
        "print ('Ближе к первому сиду:', len(df[df['attributed_polarity']==True]))\n",
        "print('Ближе ко второму сиду:', len(df[df['attributed_polarity']==False]))"
      ],
      "execution_count": 46,
      "outputs": [
        {
          "output_type": "stream",
          "text": [
            "Ближе к первому сиду: 219\n",
            "Ближе ко второму сиду: 803\n"
          ],
          "name": "stdout"
        }
      ]
    },
    {
      "cell_type": "code",
      "metadata": {
        "id": "TSDEXy6KmfiP",
        "colab_type": "code",
        "colab": {
          "base_uri": "https://localhost:8080/",
          "height": 52
        },
        "outputId": "99fe3c15-c51d-4843-fc49-518067cfdc88"
      },
      "source": [
        "with open(\"pos_a0_a1_mutual.json\", \"r\", encoding=\"utf-8\") as f:\n",
        "  list2check = json.load(f, encoding=\"utf-8\")\n",
        "with open(\"pos_a0_a2_mutual.json\", \"r\", encoding=\"utf-8\") as f:\n",
        "  list2check = list2check + json.load(f, encoding=\"utf-8\")\n",
        "with open(\"pos_a1_a2_mutual.json\", \"r\", encoding=\"utf-8\") as f:\n",
        "  list2check = list2check + json.load(f, encoding=\"utf-8\")\n",
        "\n",
        "df = verb_distance_df_bert(list2check, bc, seed1=['поощрять'], seed2=['наказывать'])\n",
        "print (len(df[df['attributed_polarity']==True]))\n",
        "print(len(df[df['attributed_polarity']==False]))"
      ],
      "execution_count": 40,
      "outputs": [
        {
          "output_type": "stream",
          "text": [
            "171\n",
            "300\n"
          ],
          "name": "stdout"
        }
      ]
    },
    {
      "cell_type": "code",
      "metadata": {
        "id": "1aTMhsc-39zb",
        "colab_type": "code",
        "colab": {
          "base_uri": "https://localhost:8080/",
          "height": 647
        },
        "outputId": "1f756f2e-a50b-42de-9bee-ce15c467b2f8"
      },
      "source": [
        "list2check = ['порицать', 'осуждать', 'негодовать',\n",
        "          'обвинять', 'наказывать', \n",
        "          'ненавидеть', 'убивать', 'разрушать', 'одобрять', 'хвалить', 'поощрять', \n",
        "          'обожать', 'восхищаться', 'восторгаться', \n",
        "          'нравиться', 'ценить', 'гордиться',\n",
        "          'хвалить', 'нахваливать', 'превозносить']\n",
        "\n",
        "pos_seed = ['ценить']\n",
        "neg_seed = ['разрушать']\n",
        "df = verb_distance_df_bert(list2check, bc, seed1=pos_seed, seed2=neg_seed)\n",
        "df"
      ],
      "execution_count": 45,
      "outputs": [
        {
          "output_type": "execute_result",
          "data": {
            "text/html": [
              "<div>\n",
              "<style scoped>\n",
              "    .dataframe tbody tr th:only-of-type {\n",
              "        vertical-align: middle;\n",
              "    }\n",
              "\n",
              "    .dataframe tbody tr th {\n",
              "        vertical-align: top;\n",
              "    }\n",
              "\n",
              "    .dataframe thead th {\n",
              "        text-align: right;\n",
              "    }\n",
              "</style>\n",
              "<table border=\"1\" class=\"dataframe\">\n",
              "  <thead>\n",
              "    <tr style=\"text-align: right;\">\n",
              "      <th></th>\n",
              "      <th>variant</th>\n",
              "      <th>distance_to_seed1_bert</th>\n",
              "      <th>distance_to_seed2_bert</th>\n",
              "      <th>seed1</th>\n",
              "      <th>seed2</th>\n",
              "      <th>attributed_polarity</th>\n",
              "    </tr>\n",
              "  </thead>\n",
              "  <tbody>\n",
              "    <tr>\n",
              "      <th>0</th>\n",
              "      <td>порицать</td>\n",
              "      <td>6.452054e-02</td>\n",
              "      <td>0.059139</td>\n",
              "      <td>ценить</td>\n",
              "      <td>разрушать</td>\n",
              "      <td>False</td>\n",
              "    </tr>\n",
              "    <tr>\n",
              "      <th>1</th>\n",
              "      <td>осуждать</td>\n",
              "      <td>6.085461e-02</td>\n",
              "      <td>0.061510</td>\n",
              "      <td>ценить</td>\n",
              "      <td>разрушать</td>\n",
              "      <td>True</td>\n",
              "    </tr>\n",
              "    <tr>\n",
              "      <th>2</th>\n",
              "      <td>негодовать</td>\n",
              "      <td>4.819161e-02</td>\n",
              "      <td>0.058032</td>\n",
              "      <td>ценить</td>\n",
              "      <td>разрушать</td>\n",
              "      <td>True</td>\n",
              "    </tr>\n",
              "    <tr>\n",
              "      <th>3</th>\n",
              "      <td>обвинять</td>\n",
              "      <td>7.825303e-02</td>\n",
              "      <td>0.070806</td>\n",
              "      <td>ценить</td>\n",
              "      <td>разрушать</td>\n",
              "      <td>False</td>\n",
              "    </tr>\n",
              "    <tr>\n",
              "      <th>4</th>\n",
              "      <td>наказывать</td>\n",
              "      <td>7.089406e-02</td>\n",
              "      <td>0.071881</td>\n",
              "      <td>ценить</td>\n",
              "      <td>разрушать</td>\n",
              "      <td>True</td>\n",
              "    </tr>\n",
              "    <tr>\n",
              "      <th>5</th>\n",
              "      <td>ненавидеть</td>\n",
              "      <td>8.329457e-02</td>\n",
              "      <td>0.068126</td>\n",
              "      <td>ценить</td>\n",
              "      <td>разрушать</td>\n",
              "      <td>False</td>\n",
              "    </tr>\n",
              "    <tr>\n",
              "      <th>6</th>\n",
              "      <td>убивать</td>\n",
              "      <td>6.635624e-02</td>\n",
              "      <td>0.061607</td>\n",
              "      <td>ценить</td>\n",
              "      <td>разрушать</td>\n",
              "      <td>False</td>\n",
              "    </tr>\n",
              "    <tr>\n",
              "      <th>7</th>\n",
              "      <td>разрушать</td>\n",
              "      <td>8.166498e-02</td>\n",
              "      <td>0.000000</td>\n",
              "      <td>ценить</td>\n",
              "      <td>разрушать</td>\n",
              "      <td>False</td>\n",
              "    </tr>\n",
              "    <tr>\n",
              "      <th>8</th>\n",
              "      <td>одобрять</td>\n",
              "      <td>6.701910e-02</td>\n",
              "      <td>0.056251</td>\n",
              "      <td>ценить</td>\n",
              "      <td>разрушать</td>\n",
              "      <td>False</td>\n",
              "    </tr>\n",
              "    <tr>\n",
              "      <th>9</th>\n",
              "      <td>хвалить</td>\n",
              "      <td>5.579108e-02</td>\n",
              "      <td>0.060944</td>\n",
              "      <td>ценить</td>\n",
              "      <td>разрушать</td>\n",
              "      <td>True</td>\n",
              "    </tr>\n",
              "    <tr>\n",
              "      <th>10</th>\n",
              "      <td>поощрять</td>\n",
              "      <td>6.049228e-02</td>\n",
              "      <td>0.056486</td>\n",
              "      <td>ценить</td>\n",
              "      <td>разрушать</td>\n",
              "      <td>False</td>\n",
              "    </tr>\n",
              "    <tr>\n",
              "      <th>11</th>\n",
              "      <td>обожать</td>\n",
              "      <td>7.517707e-02</td>\n",
              "      <td>0.078782</td>\n",
              "      <td>ценить</td>\n",
              "      <td>разрушать</td>\n",
              "      <td>True</td>\n",
              "    </tr>\n",
              "    <tr>\n",
              "      <th>12</th>\n",
              "      <td>восхищаться</td>\n",
              "      <td>6.838691e-02</td>\n",
              "      <td>0.087116</td>\n",
              "      <td>ценить</td>\n",
              "      <td>разрушать</td>\n",
              "      <td>True</td>\n",
              "    </tr>\n",
              "    <tr>\n",
              "      <th>13</th>\n",
              "      <td>восторгаться</td>\n",
              "      <td>8.068073e-02</td>\n",
              "      <td>0.069321</td>\n",
              "      <td>ценить</td>\n",
              "      <td>разрушать</td>\n",
              "      <td>False</td>\n",
              "    </tr>\n",
              "    <tr>\n",
              "      <th>14</th>\n",
              "      <td>нравиться</td>\n",
              "      <td>6.398726e-02</td>\n",
              "      <td>0.079254</td>\n",
              "      <td>ценить</td>\n",
              "      <td>разрушать</td>\n",
              "      <td>True</td>\n",
              "    </tr>\n",
              "    <tr>\n",
              "      <th>15</th>\n",
              "      <td>ценить</td>\n",
              "      <td>5.364418e-07</td>\n",
              "      <td>0.081665</td>\n",
              "      <td>ценить</td>\n",
              "      <td>разрушать</td>\n",
              "      <td>True</td>\n",
              "    </tr>\n",
              "    <tr>\n",
              "      <th>16</th>\n",
              "      <td>гордиться</td>\n",
              "      <td>6.099629e-02</td>\n",
              "      <td>0.082610</td>\n",
              "      <td>ценить</td>\n",
              "      <td>разрушать</td>\n",
              "      <td>True</td>\n",
              "    </tr>\n",
              "    <tr>\n",
              "      <th>17</th>\n",
              "      <td>хвалить</td>\n",
              "      <td>5.579108e-02</td>\n",
              "      <td>0.060944</td>\n",
              "      <td>ценить</td>\n",
              "      <td>разрушать</td>\n",
              "      <td>True</td>\n",
              "    </tr>\n",
              "    <tr>\n",
              "      <th>18</th>\n",
              "      <td>нахваливать</td>\n",
              "      <td>7.996768e-02</td>\n",
              "      <td>0.075165</td>\n",
              "      <td>ценить</td>\n",
              "      <td>разрушать</td>\n",
              "      <td>False</td>\n",
              "    </tr>\n",
              "    <tr>\n",
              "      <th>19</th>\n",
              "      <td>превозносить</td>\n",
              "      <td>7.173800e-02</td>\n",
              "      <td>0.069096</td>\n",
              "      <td>ценить</td>\n",
              "      <td>разрушать</td>\n",
              "      <td>False</td>\n",
              "    </tr>\n",
              "  </tbody>\n",
              "</table>\n",
              "</div>"
            ],
            "text/plain": [
              "         variant  distance_to_seed1_bert  ...      seed2 attributed_polarity\n",
              "0       порицать            6.452054e-02  ...  разрушать               False\n",
              "1       осуждать            6.085461e-02  ...  разрушать                True\n",
              "2     негодовать            4.819161e-02  ...  разрушать                True\n",
              "3       обвинять            7.825303e-02  ...  разрушать               False\n",
              "4     наказывать            7.089406e-02  ...  разрушать                True\n",
              "5     ненавидеть            8.329457e-02  ...  разрушать               False\n",
              "6        убивать            6.635624e-02  ...  разрушать               False\n",
              "7      разрушать            8.166498e-02  ...  разрушать               False\n",
              "8       одобрять            6.701910e-02  ...  разрушать               False\n",
              "9        хвалить            5.579108e-02  ...  разрушать                True\n",
              "10      поощрять            6.049228e-02  ...  разрушать               False\n",
              "11       обожать            7.517707e-02  ...  разрушать                True\n",
              "12   восхищаться            6.838691e-02  ...  разрушать                True\n",
              "13  восторгаться            8.068073e-02  ...  разрушать               False\n",
              "14     нравиться            6.398726e-02  ...  разрушать                True\n",
              "15        ценить            5.364418e-07  ...  разрушать                True\n",
              "16     гордиться            6.099629e-02  ...  разрушать                True\n",
              "17       хвалить            5.579108e-02  ...  разрушать                True\n",
              "18   нахваливать            7.996768e-02  ...  разрушать               False\n",
              "19  превозносить            7.173800e-02  ...  разрушать               False\n",
              "\n",
              "[20 rows x 6 columns]"
            ]
          },
          "metadata": {
            "tags": []
          },
          "execution_count": 45
        }
      ]
    }
  ]
}