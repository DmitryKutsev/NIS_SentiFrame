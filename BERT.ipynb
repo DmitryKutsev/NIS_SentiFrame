{
  "nbformat": 4,
  "nbformat_minor": 0,
  "metadata": {
    "colab": {
      "name": "BERT.ipynb",
      "provenance": [],
      "include_colab_link": true
    },
    "kernelspec": {
      "name": "python3",
      "display_name": "Python 3"
    },
    "accelerator": "GPU"
  },
  "cells": [
    {
      "cell_type": "markdown",
      "metadata": {
        "id": "view-in-github",
        "colab_type": "text"
      },
      "source": [
        "<a href=\"https://colab.research.google.com/github/DmitryKutsev/NIS_SentiFrame/blob/master/BERT.ipynb\" target=\"_parent\"><img src=\"https://colab.research.google.com/assets/colab-badge.svg\" alt=\"Open In Colab\"/></a>"
      ]
    },
    {
      "cell_type": "code",
      "metadata": {
        "id": "2BMxgA0IcPEL",
        "colab_type": "code",
        "colab": {}
      },
      "source": [
        "%%capture\n",
        "!pip install pymorphy2[fast]\n",
        "from pymorphy2 import MorphAnalyzer\n",
        "morph = MorphAnalyzer()"
      ],
      "execution_count": 0,
      "outputs": []
    },
    {
      "cell_type": "code",
      "metadata": {
        "id": "OMp-hnltlscZ",
        "colab_type": "code",
        "colab": {}
      },
      "source": [
        "import pandas as pd\n",
        "import numpy as np\n",
        "import json\n",
        "from sklearn.metrics.pairwise import cosine_distances"
      ],
      "execution_count": 0,
      "outputs": []
    },
    {
      "cell_type": "markdown",
      "metadata": {
        "id": "YG_gtye9xkfW",
        "colab_type": "text"
      },
      "source": [
        "Check out [this issue](https://github.com/hanxiao/bert-as-service/issues/380) and \"make sure Colab is using Tensorflow 1.x, because bert-serving-start doesn't currently work with TF 2.1 and nohup hides the output of the command failing\""
      ]
    },
    {
      "cell_type": "code",
      "metadata": {
        "id": "acWmlZeroAC3",
        "colab_type": "code",
        "colab": {}
      },
      "source": [
        "# import tensorflow as tf\n",
        "# print (tf.__version__)"
      ],
      "execution_count": 0,
      "outputs": []
    },
    {
      "cell_type": "code",
      "metadata": {
        "id": "Z5eP2_kNhvFf",
        "colab_type": "code",
        "colab": {}
      },
      "source": [
        "%%capture\n",
        "!pip install -U bert-serving-server[http]\n",
        "!pip install bert-serving-client  # client, independent of `bert-serving-server`"
      ],
      "execution_count": 0,
      "outputs": []
    },
    {
      "cell_type": "code",
      "metadata": {
        "id": "gePhcxaviZj7",
        "colab_type": "code",
        "colab": {}
      },
      "source": [
        "%%capture\n",
        "!wget https://storage.googleapis.com/bert_models/2018_11_23/multi_cased_L-12_H-768_A-12.zip\n",
        "!unzip /content/multi_cased_L-12_H-768_A-12.zip"
      ],
      "execution_count": 0,
      "outputs": []
    },
    {
      "cell_type": "code",
      "metadata": {
        "id": "-pKKkhNVjhXH",
        "colab_type": "code",
        "colab": {}
      },
      "source": [
        "!nohup bert-serving-start -model_dir=./multi_cased_L-12_H-768_A-12 > out.file 2>&1 &"
      ],
      "execution_count": 0,
      "outputs": []
    },
    {
      "cell_type": "code",
      "metadata": {
        "id": "oW2AyjWJkZNz",
        "colab_type": "code",
        "outputId": "69b6d82a-bc68-4b4a-e87a-f3e8f5b6bd91",
        "colab": {
          "base_uri": "https://localhost:8080/",
          "height": 123
        }
      },
      "source": [
        "from bert_serving.client import BertClient\n",
        "bc = BertClient()\n",
        "encoded_test = bc.encode(['First do it', 'then do it right', 'then do it better'])\n",
        "encoded_test"
      ],
      "execution_count": 6,
      "outputs": [
        {
          "output_type": "execute_result",
          "data": {
            "text/plain": [
              "array([[ 0.49155593,  0.08795979,  0.08263359, ...,  1.0980439 ,\n",
              "         0.41126642, -0.25396958],\n",
              "       [-0.07413451, -0.2278353 , -0.08978202, ...,  1.5093102 ,\n",
              "         1.3512001 , -0.03158369],\n",
              "       [-0.2657526 ,  0.1913553 , -0.3561356 , ...,  1.3962169 ,\n",
              "         1.4187483 ,  0.12651931]], dtype=float32)"
            ]
          },
          "metadata": {
            "tags": []
          },
          "execution_count": 6
        }
      ]
    },
    {
      "cell_type": "code",
      "metadata": {
        "id": "VEl66wvNF5DW",
        "colab_type": "code",
        "colab": {}
      },
      "source": [
        "encoded_test = bc.encode(['Вася любит Машу'])\n",
        "encoded_test"
      ],
      "execution_count": 0,
      "outputs": []
    },
    {
      "cell_type": "code",
      "metadata": {
        "id": "jUV4LKYuQRMD",
        "colab_type": "code",
        "outputId": "77372aa9-f132-4568-f9ce-c17dd63b7723",
        "colab": {
          "base_uri": "https://localhost:8080/",
          "height": 34
        }
      },
      "source": [
        "# arg0, arg1, verb = 'маша петя любить'.split\n",
        "def a0_a1_clause_maker(verb, arg0, arg1, arg0_case='nomn', arg1_case='accs', cap=True):\n",
        "\n",
        "  '''Генерирует простые предложения вида 'arg0 любит arg1'.\n",
        "  Параметры:\n",
        "  verb              глагол в любой форме;\n",
        "  arg0_case='nomn'  тег падежа подлежащего;\n",
        "  arg1_case='accs'  тег падежа дополнения;\n",
        "  arg0='Маша'       подлежащее;\n",
        "  arg1='Петя'       дополнение\n",
        "  cap=True        капитализация аргументов-имен собственных.\n",
        "  Допустимые теги падежей лежат тут: http://opencorpora.org/dict.php?act=gram.'''\n",
        "\n",
        "  inflected_arg0 = morph.parse(arg0)[0].inflect({'sing', 'nomn'}).word\n",
        "  inflected_verb = morph.parse(verb)[0].inflect({'sing', '3per', 'pres', 'indc'}).word\n",
        "  inflected_arg1 = morph.parse(arg1)[0].inflect({'sing', 'accs'}).word\n",
        "\n",
        "  if (cap == True) and ('Name' in morph.parse(arg1)[0].tag):\n",
        "    inflected_arg1 = inflected_arg1.capitalize()\n",
        "  if (cap == True) and ('Name' in morph.parse(arg0)[0].tag):\n",
        "    inflected_arg0 = inflected_arg0.capitalize()\n",
        "\n",
        "  sentence = '{} {} {}'.format(inflected_arg0, inflected_verb, inflected_arg1)\n",
        "  return sentence\n",
        "\n",
        "# a0_a1_clause_maker('любить', 'Маша', 'Петя')\n",
        "a0_a1_clause_maker('любить', 'Петя', 'Маша')\n",
        "\n",
        "\n",
        "  "
      ],
      "execution_count": 0,
      "outputs": [
        {
          "output_type": "execute_result",
          "data": {
            "text/plain": [
              "'Петя любит Машу'"
            ]
          },
          "metadata": {
            "tags": []
          },
          "execution_count": 3
        }
      ]
    },
    {
      "cell_type": "code",
      "metadata": {
        "id": "1d4qE2MlmIuM",
        "colab_type": "code",
        "outputId": "4e30432f-961e-4639-b420-fc2a018fc859",
        "colab": {
          "base_uri": "https://localhost:8080/",
          "height": 34
        }
      },
      "source": [
        "# Пете нравится, что\n",
        "def clause_wrapper(verb, arg0, arg1, \n",
        "                   main_subject=1, main_verb='нравиться',\n",
        "                   arg0_case='nomn', arg1_case='accs', \n",
        "                   cap=True):\n",
        "\n",
        "  '''Генерирует сложноподчинённые предложения вида 'arg нравится, что arg0 любит arg1'.\n",
        "  Параметры:\n",
        "  verb                    глагол-предикат подчинённой клаузы;\n",
        "  arg0_case='nomn'        тег падежа подлежащего подчинённой клаузы;\n",
        "  arg1_case='accs'        тег падежа дополнения подчинённой клаузы;\n",
        "  main_subject            int, номер аргумента-подлежащего главной клаузы (по умолчанию дополнение подчинённой клаузы); \n",
        "  main_verb='нравиться',  глагол-предикат главной клаузы;\n",
        "  arg0='Маша'             подлежащее подчинённой клаузы;\n",
        "  arg1='Петя'             дополнение подчинённой клаузы;\n",
        "  cap=True                капитализация аргументов-имен собственных.\n",
        "  Допустимые теги падежей лежат тут: http://opencorpora.org/dict.php?act=gram.'''\n",
        "\n",
        "  if main_subject:\n",
        "    inflected_main_subject = morph.parse(arg1)[0].inflect({'sing', 'datv'}).word.capitalize()\n",
        "  else:\n",
        "    inflected_main_subject = morph.parse(arg0)[0].inflect({'sing', 'datv'}).word\n",
        "  \n",
        "  if (cap == True) and ('Name' in morph.parse(inflected_main_subject.)[0].tag):\n",
        "    inflected_main_subject = inflected_main_subject.capitalize()\n",
        "\n",
        "\n",
        "  inflected_main_verb = morph.parse(main_verb)[0].inflect({'sing', '3per', 'pres', 'indc'}).word\n",
        "  subordinate_clause = a0_a1_clause_maker(verb, arg0, arg1, arg0_case, arg1_case, cap)\n",
        "  main_clause = '{} {}'.format (inflected_main_subject, inflected_main_verb)\n",
        "  sentence = '{}, что {}'.format(main_clause, subordinate_clause)\n",
        "\n",
        "  return sentence\n",
        "\n",
        "clause_wrapper('любить', 'Валя', 'Маша', 0)\n"
      ],
      "execution_count": 0,
      "outputs": [
        {
          "output_type": "execute_result",
          "data": {
            "text/plain": [
              "'вале нравится, что Валя любит Машу'"
            ]
          },
          "metadata": {
            "tags": []
          },
          "execution_count": 17
        }
      ]
    },
    {
      "cell_type": "code",
      "metadata": {
        "id": "mD4iIJspqD-0",
        "colab_type": "code",
        "outputId": "96718196-6760-4d10-9702-5f4f5f6469f8",
        "colab": {
          "base_uri": "https://localhost:8080/",
          "height": 34
        }
      },
      "source": [
        "# morph.parse('Пете')[0]\n",
        "'Name' in morph.parse('Вале')[0].tag"
      ],
      "execution_count": 0,
      "outputs": [
        {
          "output_type": "execute_result",
          "data": {
            "text/plain": [
              "False"
            ]
          },
          "metadata": {
            "tags": []
          },
          "execution_count": 18
        }
      ]
    },
    {
      "cell_type": "code",
      "metadata": {
        "id": "PyhO3vSB21-N",
        "colab_type": "code",
        "colab": {}
      },
      "source": [
        "bc.server_status"
      ],
      "execution_count": 0,
      "outputs": []
    },
    {
      "cell_type": "markdown",
      "metadata": {
        "id": "4h1I4_Ikjyph",
        "colab_type": "text"
      },
      "source": [
        "# Определение удалённых сидов"
      ]
    },
    {
      "cell_type": "code",
      "metadata": {
        "id": "6i7pSMpM2LOo",
        "colab_type": "code",
        "colab": {}
      },
      "source": [
        "def make_seed_embedding(seed_dict, model):\n",
        "  '''\n",
        "  Принимает на вход список, на выходе дает средний вектор всех слов из этого списка\n",
        "  '''\n",
        "  summ = 0\n",
        "  if model == skipgram_model:\n",
        "    for verb in seed_dict:\n",
        "      summ = summ + model[verb + '_V']\n",
        "    vector = summ/len(seed_dict)\n",
        "  elif model == bc:\n",
        "    for verb in seed_dict:\n",
        "      summ = summ + bc.encode([verb])\n",
        "    vector = summ/len(seed_dict)\n",
        "  else:\n",
        "    for verb in seed_dict:\n",
        "      summ = summ + model.get_vector(verb)\n",
        "    vector = summ/len(seed_dict)\n",
        "  return vector\n",
        "\n",
        "# seed_one_skipgram = make_seed_embedding(seed_one_dict, skipgram_model)\n",
        "# seed_one_fasttext = make_seed_embedding(seed_one_dict, fasttext_model)"
      ],
      "execution_count": 0,
      "outputs": []
    },
    {
      "cell_type": "code",
      "metadata": {
        "id": "5gHB3UX0pvGV",
        "colab_type": "code",
        "outputId": "4642029f-b9e1-4ee6-9d0f-3d2caf860f22",
        "colab": {
          "base_uri": "https://localhost:8080/",
          "height": 34
        }
      },
      "source": [
        "seed1pos = ['одобрять', 'хвалить', 'поощрять', \n",
        "            'обожать', 'восхищаться', 'восторгаться', \n",
        "            'нравиться', 'ценить', 'гордиться',\n",
        "            'хвалить', 'нахваливать', 'превозносить']\n",
        "seed1neg = ['порицать', 'осуждать', 'негодовать',\n",
        "            'обвинять', 'наказывать', \n",
        "            'ненавидеть', 'убивать', 'разрушать']\n",
        "\n",
        "avg1pos = make_seed_embedding(seed1pos, bc)\n",
        "avg1neg = make_seed_embedding(seed1neg, bc)\n",
        "\n",
        "cosine_distances(np.atleast_2d(avg1pos), np.atleast_2d(avg1pos))\n",
        "# array([[0.49508154]], dtype=float32)\n",
        "# cosine_distances(np.atleast_2d(avg2pos), np.atleast_2d(avg1neg))\n",
        "\n",
        "\n"
      ],
      "execution_count": 17,
      "outputs": [
        {
          "output_type": "execute_result",
          "data": {
            "text/plain": [
              "array([[0.]], dtype=float32)"
            ]
          },
          "metadata": {
            "tags": []
          },
          "execution_count": 17
        }
      ]
    },
    {
      "cell_type": "code",
      "metadata": {
        "id": "Y-fGL75Mv4J1",
        "colab_type": "code",
        "colab": {}
      },
      "source": [
        "from itertools import chain\n",
        "from itertools import combinations\n",
        "\n",
        "def powerset(iterable):\n",
        "    \"powerset([1,2,3]) --> () (1,) (2,) (3,) (1,2) (1,3) (2,3) (1,2,3)\"\n",
        "    s = list(iterable)\n",
        "    return chain.from_iterable(combinations(s, r) for r in range(len(s)+1))"
      ],
      "execution_count": 0,
      "outputs": []
    },
    {
      "cell_type": "code",
      "metadata": {
        "id": "MyL4z10Yvp2O",
        "colab_type": "code",
        "colab": {}
      },
      "source": [
        "neg_seeds_list = []\n",
        "for i in powerset(seed1neg):\n",
        "  if i:\n",
        "    neg_seeds_list.append(list(i))\n",
        "# neg_seeds_list\n",
        "\n",
        "pos_seeds_list = []\n",
        "for i in powerset(seed1pos):\n",
        "  if i:\n",
        "    pos_seeds_list.append(list(i))\n",
        "# pos_seeds_list"
      ],
      "execution_count": 0,
      "outputs": []
    },
    {
      "cell_type": "code",
      "metadata": {
        "id": "1nAinX_U2N85",
        "colab_type": "code",
        "colab": {}
      },
      "source": [
        "# pseeds_nseeds = np.zeros(shape=(len(pos_seeds_list),len(neg_seeds_list)))"
      ],
      "execution_count": 0,
      "outputs": []
    },
    {
      "cell_type": "code",
      "metadata": {
        "id": "bWaA58cU59Mt",
        "colab_type": "code",
        "outputId": "24a969dd-1c4e-4c4e-c2fd-4697f38d705a",
        "colab": {
          "base_uri": "https://localhost:8080/",
          "height": 34
        }
      },
      "source": [
        "pseeds_nseeds.shape"
      ],
      "execution_count": 0,
      "outputs": [
        {
          "output_type": "execute_result",
          "data": {
            "text/plain": [
              "(4095, 255)"
            ]
          },
          "metadata": {
            "tags": []
          },
          "execution_count": 42
        }
      ]
    },
    {
      "cell_type": "code",
      "metadata": {
        "id": "59ZSrGMa72KY",
        "colab_type": "code",
        "colab": {}
      },
      "source": [
        "for i, ps in enumerate (pos_seeds_list):\n",
        "  # print (i, ps)\n",
        "  for j, ns in enumerate (neg_seeds_list):\n",
        "    if pseeds_nseeds[i, j] == 0:\n",
        "      seed1pos = pos_seeds_list[i]\n",
        "      seed1neg = neg_seeds_list[j]\n",
        "      avg1pos = make_seed_embedding(seed1pos, bc)\n",
        "      avg1neg = make_seed_embedding(seed1neg, bc)\n",
        "      distance = cosine_distances(np.atleast_2d(avg1pos), np.atleast_2d(avg1neg))\n",
        "      pseeds_nseeds[i, j] = distance\n",
        "      if (i%100 == 0) and (j==1):\n",
        "        print(i)\n",
        "%time\n",
        "# np.unravel_index(np.argmin(pseeds_nseeds, axis=None), pseeds_nseeds.shape)"
      ],
      "execution_count": 0,
      "outputs": []
    },
    {
      "cell_type": "code",
      "metadata": {
        "id": "F8JX_vz4UuhR",
        "colab_type": "code",
        "colab": {}
      },
      "source": [
        "# np.save('pseeds_nseeds_matrix', pseeds_nseeds)\n",
        "pseeds_nseeds = np.load('pseeds_nseeds_matrix.npy')"
      ],
      "execution_count": 0,
      "outputs": []
    },
    {
      "cell_type": "code",
      "metadata": {
        "id": "guXVGbD1Wu3A",
        "colab_type": "code",
        "outputId": "1cbbc1df-cbc0-491c-f28c-211fdc6b470d",
        "colab": {
          "base_uri": "https://localhost:8080/",
          "height": 34
        }
      },
      "source": [
        "np.unravel_index(np.argmin(pseeds_nseeds, axis=None), pseeds_nseeds.shape)\n"
      ],
      "execution_count": 11,
      "outputs": [
        {
          "output_type": "execute_result",
          "data": {
            "text/plain": [
              "(1209, 182)"
            ]
          },
          "metadata": {
            "tags": []
          },
          "execution_count": 11
        }
      ]
    },
    {
      "cell_type": "code",
      "metadata": {
        "id": "EhGCT3iRW6PR",
        "colab_type": "code",
        "outputId": "e702baf9-e8f6-49b7-cd6c-a2fb3ac06905",
        "colab": {
          "base_uri": "https://localhost:8080/",
          "height": 34
        }
      },
      "source": [
        "np.unravel_index(np.argmax(pseeds_nseeds, axis=None), pseeds_nseeds.shape)"
      ],
      "execution_count": 12,
      "outputs": [
        {
          "output_type": "execute_result",
          "data": {
            "text/plain": [
              "(10, 1)"
            ]
          },
          "metadata": {
            "tags": []
          },
          "execution_count": 12
        }
      ]
    },
    {
      "cell_type": "markdown",
      "metadata": {
        "id": "e_DUeskNOxdF",
        "colab_type": "text"
      },
      "source": [
        "## Проверка расстояния до сидов"
      ]
    },
    {
      "cell_type": "code",
      "metadata": {
        "id": "Ou8kqXReel1C",
        "colab_type": "code",
        "colab": {}
      },
      "source": [
        "%%capture\n",
        "# at least two mutual negative attitudes\n",
        "!wget https://raw.githubusercontent.com/DmitryKutsev/NIS_SentiFrame/master/grouped_verb_lists/neg_a0_a1_mutual.json\n",
        "!wget https://raw.githubusercontent.com/DmitryKutsev/NIS_SentiFrame/master/grouped_verb_lists/neg_a0_a2_mutual.json\n",
        "!wget https://raw.githubusercontent.com/DmitryKutsev/NIS_SentiFrame/master/grouped_verb_lists/neg_a1_a2_mutual.json\n",
        "\n",
        "# at least two mutual positive attitudes\n",
        "!wget https://raw.githubusercontent.com/DmitryKutsev/NIS_SentiFrame/master/grouped_verb_lists/pos_a0_a1_mutual.json\n",
        "!wget https://raw.githubusercontent.com/DmitryKutsev/NIS_SentiFrame/master/grouped_verb_lists/pos_a0_a2_mutual.json\n",
        "!wget https://raw.githubusercontent.com/DmitryKutsev/NIS_SentiFrame/master/grouped_verb_lists/pos_a1_a2_mutual.json\n",
        "\n",
        "# at least two opposite attitudes (only a0/a1 show opposite attitudes toward each other)\n",
        "!wget https://raw.githubusercontent.com/DmitryKutsev/NIS_SentiFrame/master/grouped_verb_lists/opp_a0_a1_candidates_l.json"
      ],
      "execution_count": 0,
      "outputs": []
    },
    {
      "cell_type": "code",
      "metadata": {
        "id": "uSLs7j2hQN2h",
        "colab_type": "code",
        "colab": {}
      },
      "source": [
        "def verb_distance_df_bert(verb_list, model,\n",
        "                  seed1=['ценить'],\n",
        "                  seed2=['убивать']):\n",
        "  df = pd.DataFrame({'variant':verb_list})\n",
        "  \n",
        "  distance_to_seed1 = df['variant'].apply(\n",
        "      lambda x: cosine_distances(\n",
        "          np.atleast_2d(bc.encode([x])), \n",
        "          np.atleast_2d(make_seed_embedding(seed1, bc))).item())\n",
        "  distance_to_seed2 = df['variant'].apply(\n",
        "      lambda x: cosine_distances(\n",
        "          np.atleast_2d(bc.encode([x])), \n",
        "          np.atleast_2d(make_seed_embedding(seed2, bc))).item())\n",
        "\n",
        "  df['distance_to_seed1_bert'] = distance_to_seed1\n",
        "  df['distance_to_seed2_bert'] = distance_to_seed2\n",
        "\n",
        "  df['seed1'] = ''.join(seed1)\n",
        "  df['seed2'] = ''.join(seed2)\n",
        "\n",
        "  df['attributed_polarity'] = np.where(\n",
        "      df['distance_to_seed1_bert'] <= df['distance_to_seed2_bert'], \n",
        "      df['seed1'], df['seed2'])\n",
        "  \n",
        "  return df\n"
      ],
      "execution_count": 0,
      "outputs": []
    },
    {
      "cell_type": "code",
      "metadata": {
        "id": "mDE4iWvjsFo3",
        "colab_type": "code",
        "colab": {}
      },
      "source": [
        "with open(\"neg_a0_a1_mutual.json\", \"r\", encoding=\"utf-8\") as f:\n",
        "  list2check = json.load(f, encoding=\"utf-8\")\n",
        "\n",
        "  # list2check = ['порицать', 'осуждать', 'негодовать',\n",
        "  #           'обвинять', 'наказывать', \n",
        "  #           'ненавидеть', 'убивать', 'разрушать', 'одобрять', 'хвалить', 'поощрять', \n",
        "  #           'обожать', 'восхищаться', 'восторгаться', \n",
        "  #           'нравиться', 'ценить', 'гордиться',\n",
        "  #           'хвалить', 'нахваливать', 'превозносить']\n",
        "\n",
        "df = verb_distance_df_bert(list2check, bc, seed1=['поощрять'], seed2=['наказывать'])\n",
        "\n"
      ],
      "execution_count": 0,
      "outputs": []
    },
    {
      "cell_type": "code",
      "metadata": {
        "id": "iuSd6wsamIoj",
        "colab_type": "code",
        "colab": {
          "base_uri": "https://localhost:8080/",
          "height": 34
        },
        "outputId": "f5d96357-0340-46ef-dc01-1bee95361097"
      },
      "source": [
        "len(df[df['attributed_polarity']=='наказывать'])"
      ],
      "execution_count": 89,
      "outputs": [
        {
          "output_type": "execute_result",
          "data": {
            "text/plain": [
              "803"
            ]
          },
          "metadata": {
            "tags": []
          },
          "execution_count": 89
        }
      ]
    },
    {
      "cell_type": "code",
      "metadata": {
        "id": "M0-HEdX2mPNw",
        "colab_type": "code",
        "colab": {
          "base_uri": "https://localhost:8080/",
          "height": 34
        },
        "outputId": "f794bc6a-c405-4cee-efa7-891d1bf41b1a"
      },
      "source": [
        "len(df[df['attributed_polarity']=='поощрять'])"
      ],
      "execution_count": 91,
      "outputs": [
        {
          "output_type": "execute_result",
          "data": {
            "text/plain": [
              "219"
            ]
          },
          "metadata": {
            "tags": []
          },
          "execution_count": 91
        }
      ]
    },
    {
      "cell_type": "code",
      "metadata": {
        "id": "TSDEXy6KmfiP",
        "colab_type": "code",
        "colab": {
          "base_uri": "https://localhost:8080/",
          "height": 52
        },
        "outputId": "1dc3c411-48cf-4211-9413-60e907d08190"
      },
      "source": [
        "with open(\"pos_a0_a1_mutual.json\", \"r\", encoding=\"utf-8\") as f:\n",
        "  list2check = json.load(f, encoding=\"utf-8\")\n",
        "\n",
        "with open(\"pos_a0_a2_mutual.json\", \"r\", encoding=\"utf-8\") as f:\n",
        "  list2check = list2check + json.load(f, encoding=\"utf-8\")\n",
        "\n",
        "with open(\"pos_a1_a2_mutual.json\", \"r\", encoding=\"utf-8\") as f:\n",
        "  list2check = list2check + json.load(f, encoding=\"utf-8\")\n",
        "\n",
        "df = verb_distance_df_bert(list2check, bc, seed1=['поощрять'], seed2=['наказывать'])\n",
        "print (len(df[df['attributed_polarity']=='наказывать']))\n",
        "print(len(df[df['attributed_polarity']=='поощрять']))"
      ],
      "execution_count": 93,
      "outputs": [
        {
          "output_type": "stream",
          "text": [
            "300\n",
            "171\n"
          ],
          "name": "stdout"
        }
      ]
    }
  ]
}