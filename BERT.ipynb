{
  "nbformat": 4,
  "nbformat_minor": 0,
  "metadata": {
    "colab": {
      "name": "BERT.ipynb",
      "provenance": [],
      "include_colab_link": true
    },
    "kernelspec": {
      "name": "python3",
      "display_name": "Python 3"
    },
    "accelerator": "GPU"
  },
  "cells": [
    {
      "cell_type": "markdown",
      "metadata": {
        "id": "view-in-github",
        "colab_type": "text"
      },
      "source": [
        "<a href=\"https://colab.research.google.com/github/DmitryKutsev/NIS_SentiFrame/blob/master/BERT.ipynb\" target=\"_parent\"><img src=\"https://colab.research.google.com/assets/colab-badge.svg\" alt=\"Open In Colab\"/></a>"
      ]
    },
    {
      "cell_type": "code",
      "metadata": {
        "id": "2BMxgA0IcPEL",
        "colab_type": "code",
        "colab": {}
      },
      "source": [
        "!pip install pymorphy2[fast]"
      ],
      "execution_count": 0,
      "outputs": []
    },
    {
      "cell_type": "code",
      "metadata": {
        "id": "daOtHkFvcV7-",
        "colab_type": "code",
        "colab": {}
      },
      "source": [
        "from pymorphy2 import MorphAnalyzer\n",
        "morph = MorphAnalyzer()"
      ],
      "execution_count": 0,
      "outputs": []
    },
    {
      "cell_type": "markdown",
      "metadata": {
        "id": "YG_gtye9xkfW",
        "colab_type": "text"
      },
      "source": [
        "Check out [this issue](https://github.com/hanxiao/bert-as-service/issues/380) and \"make sure Colab is using Tensorflow 1.x, because bert-serving-start doesn't currently work with TF 2.1 and nohup hides the output of the command failing\""
      ]
    },
    {
      "cell_type": "code",
      "metadata": {
        "id": "acWmlZeroAC3",
        "colab_type": "code",
        "outputId": "11c4bf18-3e47-4bfe-cf4f-362711bb6a53",
        "colab": {
          "base_uri": "https://localhost:8080/",
          "height": 81
        }
      },
      "source": [
        "import tensorflow as tf\n",
        "print (tf.__version__)"
      ],
      "execution_count": 0,
      "outputs": [
        {
          "output_type": "display_data",
          "data": {
            "text/html": [
              "<p style=\"color: red;\">\n",
              "The default version of TensorFlow in Colab will soon switch to TensorFlow 2.x.<br>\n",
              "We recommend you <a href=\"https://www.tensorflow.org/guide/migrate\" target=\"_blank\">upgrade</a> now \n",
              "or ensure your notebook will continue to use TensorFlow 1.x via the <code>%tensorflow_version 1.x</code> magic:\n",
              "<a href=\"https://colab.research.google.com/notebooks/tensorflow_version.ipynb\" target=\"_blank\">more info</a>.</p>\n"
            ],
            "text/plain": [
              "<IPython.core.display.HTML object>"
            ]
          },
          "metadata": {
            "tags": []
          }
        },
        {
          "output_type": "stream",
          "text": [
            "1.15.0\n"
          ],
          "name": "stdout"
        }
      ]
    },
    {
      "cell_type": "code",
      "metadata": {
        "id": "Z5eP2_kNhvFf",
        "colab_type": "code",
        "outputId": "894b8c48-e4e3-4fba-acd4-3002779742e2",
        "colab": {
          "base_uri": "https://localhost:8080/",
          "height": 924
        }
      },
      "source": [
        "!pip install -U bert-serving-server[http]\n",
        "!pip install bert-serving-client  # client, independent of `bert-serving-server`"
      ],
      "execution_count": 0,
      "outputs": [
        {
          "output_type": "stream",
          "text": [
            "Collecting bert-serving-server[http]\n",
            "\u001b[?25l  Downloading https://files.pythonhosted.org/packages/b0/bd/cab677bbd0c5fb08b72e468371d2bca6ed9507785739b4656b0b5470d90b/bert_serving_server-1.10.0-py3-none-any.whl (61kB)\n",
            "\u001b[K     |████████████████████████████████| 71kB 4.4MB/s \n",
            "\u001b[?25hCollecting pyzmq>=17.1.0\n",
            "\u001b[?25l  Downloading https://files.pythonhosted.org/packages/94/07/cee3d328a2e13f9de1c2b62cced7a389b61ac81424f2e377f3dc9d668282/pyzmq-18.1.1-cp36-cp36m-manylinux1_x86_64.whl (1.1MB)\n",
            "\u001b[K     |████████████████████████████████| 1.1MB 19.9MB/s \n",
            "\u001b[?25hRequirement already satisfied, skipping upgrade: six in /usr/local/lib/python3.6/dist-packages (from bert-serving-server[http]) (1.12.0)\n",
            "Collecting GPUtil>=1.3.0\n",
            "  Downloading https://files.pythonhosted.org/packages/ed/0e/5c61eedde9f6c87713e89d794f01e378cfd9565847d4576fa627d758c554/GPUtil-1.4.0.tar.gz\n",
            "Requirement already satisfied, skipping upgrade: numpy in /usr/local/lib/python3.6/dist-packages (from bert-serving-server[http]) (1.17.5)\n",
            "Requirement already satisfied, skipping upgrade: termcolor>=1.1 in /usr/local/lib/python3.6/dist-packages (from bert-serving-server[http]) (1.1.0)\n",
            "Collecting bert-serving-client; extra == \"http\"\n",
            "  Downloading https://files.pythonhosted.org/packages/1f/09/aae1405378a848b2e87769ad89a43d6d71978c4e15534ca48e82e723a72f/bert_serving_client-1.10.0-py2.py3-none-any.whl\n",
            "Collecting flask-json; extra == \"http\"\n",
            "  Downloading https://files.pythonhosted.org/packages/6f/2d/4c21d98b11f3a206fabbdd965b53a2ca3ee9fab7646c93cf36c060e8f1a4/Flask_JSON-0.3.4-py3-none-any.whl\n",
            "Collecting flask-compress; extra == \"http\"\n",
            "  Downloading https://files.pythonhosted.org/packages/0e/2a/378bd072928f6d92fd8c417d66b00c757dc361c0405a46a0134de6fd323d/Flask-Compress-1.4.0.tar.gz\n",
            "Collecting flask-cors; extra == \"http\"\n",
            "  Downloading https://files.pythonhosted.org/packages/78/38/e68b11daa5d613e3a91e4bf3da76c94ac9ee0d9cd515af9c1ab80d36f709/Flask_Cors-3.0.8-py2.py3-none-any.whl\n",
            "Requirement already satisfied, skipping upgrade: flask; extra == \"http\" in /usr/local/lib/python3.6/dist-packages (from bert-serving-server[http]) (1.1.1)\n",
            "Requirement already satisfied, skipping upgrade: click>=5.1 in /usr/local/lib/python3.6/dist-packages (from flask; extra == \"http\"->bert-serving-server[http]) (7.0)\n",
            "Requirement already satisfied, skipping upgrade: itsdangerous>=0.24 in /usr/local/lib/python3.6/dist-packages (from flask; extra == \"http\"->bert-serving-server[http]) (1.1.0)\n",
            "Requirement already satisfied, skipping upgrade: Jinja2>=2.10.1 in /usr/local/lib/python3.6/dist-packages (from flask; extra == \"http\"->bert-serving-server[http]) (2.11.1)\n",
            "Requirement already satisfied, skipping upgrade: Werkzeug>=0.15 in /usr/local/lib/python3.6/dist-packages (from flask; extra == \"http\"->bert-serving-server[http]) (1.0.0)\n",
            "Requirement already satisfied, skipping upgrade: MarkupSafe>=0.23 in /usr/local/lib/python3.6/dist-packages (from Jinja2>=2.10.1->flask; extra == \"http\"->bert-serving-server[http]) (1.1.1)\n",
            "Building wheels for collected packages: GPUtil, flask-compress\n",
            "  Building wheel for GPUtil (setup.py) ... \u001b[?25l\u001b[?25hdone\n",
            "  Created wheel for GPUtil: filename=GPUtil-1.4.0-cp36-none-any.whl size=7413 sha256=04504f7de505382fbe26311b73c34e620decce0a0be76b01de41eed36a1adbf3\n",
            "  Stored in directory: /root/.cache/pip/wheels/3d/77/07/80562de4bb0786e5ea186911a2c831fdd0018bda69beab71fd\n",
            "  Building wheel for flask-compress (setup.py) ... \u001b[?25l\u001b[?25hdone\n",
            "  Created wheel for flask-compress: filename=Flask_Compress-1.4.0-cp36-none-any.whl size=3712 sha256=fc00a9bd98b65e2f638d66a67b891b2946d76caff7a3aaeefdfd6b2110e5db3e\n",
            "  Stored in directory: /root/.cache/pip/wheels/96/32/88/a1f6d9dd3c29570ab3a8acc0d556b3b20abcf3c623c868ce0a\n",
            "Successfully built GPUtil flask-compress\n",
            "Installing collected packages: pyzmq, GPUtil, bert-serving-client, flask-json, flask-compress, flask-cors, bert-serving-server\n",
            "  Found existing installation: pyzmq 17.0.0\n",
            "    Uninstalling pyzmq-17.0.0:\n",
            "      Successfully uninstalled pyzmq-17.0.0\n",
            "Successfully installed GPUtil-1.4.0 bert-serving-client-1.10.0 bert-serving-server-1.10.0 flask-compress-1.4.0 flask-cors-3.0.8 flask-json-0.3.4 pyzmq-18.1.1\n"
          ],
          "name": "stdout"
        },
        {
          "output_type": "display_data",
          "data": {
            "application/vnd.colab-display-data+json": {
              "pip_warning": {
                "packages": [
                  "zmq"
                ]
              }
            }
          },
          "metadata": {
            "tags": []
          }
        },
        {
          "output_type": "stream",
          "text": [
            "Requirement already satisfied: bert-serving-client in /usr/local/lib/python3.6/dist-packages (1.10.0)\n",
            "Requirement already satisfied: pyzmq>=17.1.0 in /usr/local/lib/python3.6/dist-packages (from bert-serving-client) (18.1.1)\n",
            "Requirement already satisfied: numpy in /usr/local/lib/python3.6/dist-packages (from bert-serving-client) (1.17.5)\n"
          ],
          "name": "stdout"
        }
      ]
    },
    {
      "cell_type": "code",
      "metadata": {
        "id": "gePhcxaviZj7",
        "colab_type": "code",
        "outputId": "7ac1e40f-bced-4605-d36a-978607b2735b",
        "colab": {
          "base_uri": "https://localhost:8080/",
          "height": 336
        }
      },
      "source": [
        "!wget https://storage.googleapis.com/bert_models/2018_11_23/multi_cased_L-12_H-768_A-12.zip\n",
        "!unzip /content/multi_cased_L-12_H-768_A-12.zip"
      ],
      "execution_count": 0,
      "outputs": [
        {
          "output_type": "stream",
          "text": [
            "--2020-02-21 09:32:02--  https://storage.googleapis.com/bert_models/2018_11_23/multi_cased_L-12_H-768_A-12.zip\n",
            "Resolving storage.googleapis.com (storage.googleapis.com)... 173.194.76.128, 2a00:1450:400c:c07::80\n",
            "Connecting to storage.googleapis.com (storage.googleapis.com)|173.194.76.128|:443... connected.\n",
            "HTTP request sent, awaiting response... 200 OK\n",
            "Length: 662903077 (632M) [application/zip]\n",
            "Saving to: ‘multi_cased_L-12_H-768_A-12.zip’\n",
            "\n",
            "multi_cased_L-12_H- 100%[===================>] 632.19M  68.2MB/s    in 9.4s    \n",
            "\n",
            "2020-02-21 09:32:12 (67.2 MB/s) - ‘multi_cased_L-12_H-768_A-12.zip’ saved [662903077/662903077]\n",
            "\n",
            "Archive:  /content/multi_cased_L-12_H-768_A-12.zip\n",
            "   creating: multi_cased_L-12_H-768_A-12/\n",
            "  inflating: multi_cased_L-12_H-768_A-12/bert_model.ckpt.meta  \n",
            "  inflating: multi_cased_L-12_H-768_A-12/bert_model.ckpt.data-00000-of-00001  \n",
            "  inflating: multi_cased_L-12_H-768_A-12/vocab.txt  \n",
            "  inflating: multi_cased_L-12_H-768_A-12/bert_model.ckpt.index  \n",
            "  inflating: multi_cased_L-12_H-768_A-12/bert_config.json  \n"
          ],
          "name": "stdout"
        }
      ]
    },
    {
      "cell_type": "code",
      "metadata": {
        "id": "-pKKkhNVjhXH",
        "colab_type": "code",
        "colab": {}
      },
      "source": [
        "!nohup bert-serving-start -model_dir=./multi_cased_L-12_H-768_A-12 > out.file 2>&1 &"
      ],
      "execution_count": 0,
      "outputs": []
    },
    {
      "cell_type": "code",
      "metadata": {
        "id": "oW2AyjWJkZNz",
        "colab_type": "code",
        "outputId": "f3523368-cbf7-4fc1-dfcb-e4463fbc76c3",
        "colab": {
          "base_uri": "https://localhost:8080/",
          "height": 123
        }
      },
      "source": [
        "from bert_serving.client import BertClient\n",
        "bc = BertClient()\n",
        "encoded_test = bc.encode(['First do it', 'then do it right', 'then do it better'])\n",
        "encoded_test"
      ],
      "execution_count": 0,
      "outputs": [
        {
          "output_type": "execute_result",
          "data": {
            "text/plain": [
              "array([[ 0.49155793,  0.08796163,  0.08263294, ...,  1.0980438 ,\n",
              "         0.411266  , -0.2539694 ],\n",
              "       [-0.07413446, -0.22783582, -0.08978209, ...,  1.5093104 ,\n",
              "         1.3512006 , -0.03158369],\n",
              "       [-0.2657499 ,  0.1913579 , -0.35613576, ...,  1.3962182 ,\n",
              "         1.4187475 ,  0.12651818]], dtype=float32)"
            ]
          },
          "metadata": {
            "tags": []
          },
          "execution_count": 5
        }
      ]
    },
    {
      "cell_type": "code",
      "metadata": {
        "id": "VEl66wvNF5DW",
        "colab_type": "code",
        "outputId": "927f1528-f6e9-4e26-c277-a69a6aa335dc",
        "colab": {
          "base_uri": "https://localhost:8080/",
          "height": 1000
        }
      },
      "source": [
        "encoded_test = bc.encode(['Вася любит Машу'])\n",
        "encoded_test"
      ],
      "execution_count": 0,
      "outputs": [
        {
          "output_type": "execute_result",
          "data": {
            "text/plain": [
              "array([[-1.23986453e-01, -8.49756449e-02,  5.41371465e-01,\n",
              "         6.32736683e-01, -3.28210145e-01, -1.50357351e-01,\n",
              "        -1.03384745e+00,  5.56825213e-02,  5.22987098e-02,\n",
              "         8.24393988e-01,  6.84741437e-01, -8.14457476e-01,\n",
              "        -2.43044689e-01, -4.22898903e-02, -1.46446094e-01,\n",
              "        -6.54376805e-01, -1.40329540e-01,  2.79075503e-01,\n",
              "        -4.67326900e-04, -2.01118737e-01,  1.08960402e+00,\n",
              "         3.28487396e-01, -9.49426234e-01, -1.79649368e-01,\n",
              "        -2.15582401e-01, -2.89596677e-01,  8.33332539e-02,\n",
              "        -5.88268280e-01,  4.92330015e-01,  8.24053884e-01,\n",
              "         4.18344617e-01,  2.52877995e-02,  1.22798598e+00,\n",
              "        -2.62517303e-01, -2.16584533e-01,  8.61240923e-01,\n",
              "        -3.81806254e-01, -1.61617100e-01, -7.70443439e-01,\n",
              "         5.74837863e-01, -6.20551109e-01,  7.99862981e-01,\n",
              "         6.99325502e-02,  1.63031995e-01,  7.39420801e-02,\n",
              "        -8.39173079e-01,  2.09508777e-01,  5.40831923e-01,\n",
              "        -1.01098204e+00, -1.07717299e+00,  5.71467102e-01,\n",
              "         4.14536476e-01, -1.02737874e-01, -6.82888806e-01,\n",
              "        -1.15481429e-01, -5.44736207e-01, -1.81784570e-01,\n",
              "        -4.16788787e-01,  6.35602832e-01, -1.89156141e-02,\n",
              "        -1.42707422e-01,  3.73522699e-01, -3.97770554e-01,\n",
              "        -1.12219520e-01, -3.43242317e-01, -2.33503416e-01,\n",
              "         1.46226004e-01, -3.66121978e-01, -9.34705436e-02,\n",
              "        -4.09684479e-01, -1.24357438e+00,  1.16849609e-01,\n",
              "        -4.08250451e-01, -1.73743293e-02, -4.10491884e-01,\n",
              "         6.70911133e-01,  1.36592045e-01,  5.55195361e-02,\n",
              "         6.10163212e-01, -9.95206758e-02,  1.67712895e-03,\n",
              "         9.85943079e-01, -7.73643017e-01, -3.69363725e-01,\n",
              "        -4.39110816e-01, -3.71468097e-01, -2.53215790e-01,\n",
              "        -4.57942903e-01,  3.84899408e-01, -8.26278865e-01,\n",
              "         2.43642300e-01,  9.43489075e-01,  3.87160599e-01,\n",
              "         2.51968116e-01, -2.12658092e-01,  3.77790809e-01,\n",
              "        -1.90353498e-01,  8.75306308e-01,  2.14456394e-02,\n",
              "        -1.15605369e-01,  2.18536526e-01, -1.91136047e-01,\n",
              "         6.11144006e-01, -6.92810237e-01, -4.84678745e-01,\n",
              "         3.64816725e-01,  3.35311800e-01, -2.32206851e-01,\n",
              "         5.51971018e-01, -9.98945609e-02,  9.71890032e-01,\n",
              "         1.20435849e-01, -1.07794397e-01, -1.75375417e-01,\n",
              "        -7.70747423e-01, -3.48649293e-01,  5.40681109e-02,\n",
              "        -9.76398468e-01, -1.41955167e-01, -7.54220963e-01,\n",
              "        -9.60297734e-02, -2.50630856e-01,  5.23498505e-02,\n",
              "        -8.39155093e-02, -8.05284023e-01,  5.22953689e-01,\n",
              "         3.25889915e-01, -2.82844633e-01, -6.06803656e-01,\n",
              "         5.76598883e-01,  4.19222504e-01,  1.34968817e-01,\n",
              "         5.15509248e-01, -5.39405346e-01,  2.62454003e-01,\n",
              "         3.66734087e-01,  3.59618664e-01,  1.01767488e-01,\n",
              "        -2.15980351e-01,  2.00311512e-01,  2.08354980e-01,\n",
              "        -1.24400103e+00, -2.04275236e-01, -1.78622603e+00,\n",
              "         3.36188734e-01, -4.32392597e-01, -1.62261844e-01,\n",
              "         2.09657535e-01, -1.76996255e+00, -8.68379891e-01,\n",
              "        -4.54883903e-01, -8.48084211e-01, -9.13007081e-01,\n",
              "         2.07944214e-01,  3.55116963e-01, -1.23570904e-01,\n",
              "         6.31365001e-01, -8.00841212e-01, -8.65828097e-01,\n",
              "        -1.22095361e-01,  8.62404168e-01,  4.35591727e-01,\n",
              "         1.48090041e+00,  5.55350006e-01,  7.84881175e-01,\n",
              "         3.17676991e-01, -1.09199099e-01, -2.45584920e-02,\n",
              "        -3.55570912e-01,  6.55572057e-01, -2.39847556e-01,\n",
              "         1.17886387e-01, -2.38311797e-01, -5.20951688e-01,\n",
              "         7.06872463e-01,  3.91493946e-01,  6.98543668e-01,\n",
              "        -2.78620034e-01, -6.86194956e-01, -3.12121093e-01,\n",
              "        -4.87729490e-01,  9.96480286e-02, -5.41386068e-01,\n",
              "        -1.25579584e+00, -1.30547404e-01,  1.95571315e-02,\n",
              "         4.77333397e-01, -4.64337677e-01, -2.31320918e-01,\n",
              "         1.13880134e+00,  2.77783006e-01,  1.46300793e+00,\n",
              "        -1.43011302e-01,  2.42139131e-01, -4.54873621e-01,\n",
              "         7.38329470e-01, -2.90571719e-01, -3.67118329e-01,\n",
              "         8.13568234e-02, -5.14855146e-01, -7.54984975e-01,\n",
              "         1.09117664e-01, -7.21177399e-01, -5.25846481e-01,\n",
              "         3.21229547e-01,  1.13550234e+00, -1.54761504e-02,\n",
              "        -3.38906258e-01,  1.13467979e+00, -3.40958759e-02,\n",
              "         4.55999374e-01,  2.68042177e-01,  4.04616475e-01,\n",
              "        -1.35642424e-01, -8.97323862e-02,  8.91730309e-01,\n",
              "        -5.11018395e-01, -1.10238299e-01, -4.26125862e-02,\n",
              "        -1.25811088e+00, -5.85064173e-01,  5.24808586e-01,\n",
              "        -7.21545935e-01,  3.11517358e-01, -6.44007146e-01,\n",
              "        -8.79167140e-01,  7.88630724e-01, -2.75467358e+01,\n",
              "         1.38850415e+00,  9.51810032e-02,  5.35965919e-01,\n",
              "         2.00338647e-01, -1.04140610e-01,  7.86324143e-01,\n",
              "        -6.49407148e-01, -7.54994810e-01,  6.79981768e-01,\n",
              "        -8.36589336e-01, -6.76978648e-01,  1.12777388e+00,\n",
              "         5.15165567e-01, -7.51084313e-02, -2.11610496e-02,\n",
              "        -6.46317959e-01, -1.60960674e-01, -7.08168566e-01,\n",
              "        -1.03568006e+00,  8.75743926e-02,  1.82919666e-01,\n",
              "        -8.01806211e-01,  6.00203335e-01,  7.96380758e-01,\n",
              "        -3.28530669e-01, -4.77956563e-01,  2.14175880e-01,\n",
              "        -1.96848094e-01,  1.68568268e-01, -1.26816869e-01,\n",
              "         1.72534481e-01, -8.48254383e-01,  6.76496089e-01,\n",
              "         4.53400075e-01, -1.66412175e-01,  1.86715230e-01,\n",
              "         3.79327685e-01,  2.10905656e-01,  1.62562281e-01,\n",
              "         1.67917132e-01, -4.24334258e-02,  1.19241929e+00,\n",
              "         6.10358976e-02,  1.93883419e-01, -3.75699341e-01,\n",
              "         1.97468568e-02, -2.69226700e-01,  7.97593534e-01,\n",
              "        -7.58788347e-01,  1.12104917e+00,  1.23902082e+00,\n",
              "         1.38951913e-01, -1.64068699e-01,  9.61093068e-01,\n",
              "        -3.99324149e-01,  2.83160359e-01,  5.94607115e-01,\n",
              "         8.49774599e-01,  2.79032826e-01,  4.65562403e-01,\n",
              "        -3.17403793e-01, -5.94376802e-01, -1.34367496e-01,\n",
              "         6.96502924e-01,  7.64916837e-01, -2.75411099e-01,\n",
              "        -2.24779233e-01, -1.81259006e-01, -5.37695289e-01,\n",
              "         7.93318629e-01, -9.30157125e-01, -5.53512037e-01,\n",
              "         1.21972358e+00, -5.05849659e-01,  5.79981282e-02,\n",
              "         6.88469782e-02, -1.14034367e+00,  1.01711743e-01,\n",
              "        -1.85800374e-01,  4.77375723e-02,  1.11735463e+00,\n",
              "         6.41824901e-02, -2.98530251e-01,  8.32172036e-02,\n",
              "         1.45953521e-01, -9.84661341e-01,  3.20797972e-02,\n",
              "        -3.29808593e-01,  8.10989678e-01,  1.46750495e-01,\n",
              "        -3.26259553e-01,  8.23438987e-02,  4.43026185e-01,\n",
              "         1.13854185e-01, -5.06358624e-01, -1.28813773e-01,\n",
              "        -1.91255361e-01, -3.57913613e-01, -1.27801764e+00,\n",
              "        -1.00496674e+00,  6.15325645e-02, -1.78855047e-01,\n",
              "         3.05225641e-01,  4.02798533e-01, -4.96844918e-01,\n",
              "        -8.81162643e-01, -3.84924531e-01,  5.77501535e-01,\n",
              "        -1.07506663e-01, -1.19450331e-01, -8.13642085e-01,\n",
              "        -4.34890211e-01, -7.02312648e-01,  7.86282539e-01,\n",
              "         1.25053629e-01,  3.38283218e-02,  3.44893932e-01,\n",
              "         2.36542776e-01,  6.40448868e-01, -6.56116307e-01,\n",
              "        -9.30309832e-01,  9.53481436e-01,  3.29669267e-01,\n",
              "         6.22779667e-01,  3.70006748e-02, -6.21453449e-02,\n",
              "        -4.95728701e-01, -9.27357912e-01,  2.63881326e-01,\n",
              "        -3.15427452e-01, -8.16386759e-01, -1.62719563e-01,\n",
              "        -1.78640068e-01, -7.26627886e-01, -3.46077800e-01,\n",
              "        -6.30521357e-01, -1.71189994e-01, -2.83248052e-02,\n",
              "        -3.32937121e-01, -1.06475317e+00, -5.79169691e-01,\n",
              "         6.39127672e-01,  5.93926132e-01, -7.95770288e-02,\n",
              "        -7.23276675e-01, -1.12146246e+00,  4.51176055e-03,\n",
              "        -6.25027895e-01,  4.05491382e-01, -1.74606830e-01,\n",
              "         6.49539083e-02, -1.93222702e-01,  1.00690329e+00,\n",
              "        -4.33598876e-01,  7.43352100e-02,  4.29555327e-01,\n",
              "         6.22519732e-01, -1.25475779e-01,  4.52815861e-01,\n",
              "        -1.63313389e-01, -8.68100941e-01, -6.31250322e-01,\n",
              "         2.57464442e-02,  2.01787818e-02,  1.09401215e-02,\n",
              "        -5.31500518e-01, -1.09541941e+00, -4.46279049e-01,\n",
              "         4.22254175e-01, -3.55461955e-01, -9.20326889e-01,\n",
              "         4.67680246e-01, -6.21105218e-03, -6.80632174e-01,\n",
              "         7.58586600e-02, -7.57330418e-01, -5.55806048e-03,\n",
              "        -1.53804809e-01, -1.44532800e-01, -6.51741445e-01,\n",
              "         8.07973146e-02, -4.54932079e-02,  1.08624768e+00,\n",
              "        -1.08114958e+00,  1.15941346e+00, -1.59314007e-01,\n",
              "         9.56441343e-01,  1.10382013e-01, -1.36033492e-02,\n",
              "        -3.98627490e-01, -1.49811581e-01, -8.42775345e-01,\n",
              "        -2.27753267e-01, -9.00274992e-01, -7.52348185e-01,\n",
              "        -9.31036115e-01,  5.60708821e-01, -1.79752871e-01,\n",
              "         2.01722488e-01, -6.58948243e-01,  2.79924013e-02,\n",
              "         1.62582815e-01, -7.34699816e-02, -9.92002189e-02,\n",
              "         6.92021906e-01, -5.89553863e-02, -7.68946528e-01,\n",
              "        -8.38411093e-01, -4.47977148e-02,  4.19783652e-01,\n",
              "         3.84307176e-01, -2.70970672e-01,  1.44018269e+00,\n",
              "        -8.58150423e-02, -4.49138969e-01, -3.21816772e-01,\n",
              "        -5.09202003e-01,  9.49117243e-01, -1.10971689e+00,\n",
              "         4.47510242e-01, -5.24010420e-01, -9.26733136e-01,\n",
              "         6.68857276e-01, -3.26874912e-01,  3.28644961e-01,\n",
              "         4.01343107e-02,  1.16344035e+00, -7.68817246e-01,\n",
              "         4.91873384e-01,  3.51813346e-01,  4.98606950e-01,\n",
              "         5.98412991e-01, -1.21187639e+00,  8.84077668e-01,\n",
              "        -4.96268123e-01, -4.92409587e-01,  4.21633907e-02,\n",
              "         1.05996937e-01,  2.22196341e-01,  2.28530750e-01,\n",
              "        -2.33791560e-01,  1.58192885e+00, -5.48688509e-02,\n",
              "        -9.20116186e-01, -3.84397060e-01, -6.79780960e-01,\n",
              "         5.20419553e-02,  1.54322788e-01,  1.15972149e+00,\n",
              "         3.75465393e-01, -5.74604034e-01,  1.14727354e+00,\n",
              "         4.42947179e-01,  3.91348988e-01, -1.12941146e+00,\n",
              "        -4.60725188e-01, -1.01839542e+00,  8.35984230e-01,\n",
              "        -4.76944707e-02, -2.86076277e-01,  6.09597027e-01,\n",
              "        -1.27539530e-01,  9.69171524e-01, -6.02252901e-01,\n",
              "        -2.49287874e-01,  3.00020240e-02,  8.88566524e-02,\n",
              "         2.35203877e-01,  2.46149480e-01, -3.37655813e-01,\n",
              "         6.89828634e-01, -6.10575199e-01,  6.23012111e-02,\n",
              "         1.17346251e+00, -3.96809846e-01,  1.18078625e+00,\n",
              "        -8.64677250e-01,  3.85995924e-01, -1.51904255e-01,\n",
              "        -7.74068534e-01, -3.98308970e-02,  7.90806592e-01,\n",
              "         2.30265349e-01,  3.33098173e-02, -1.91931382e-01,\n",
              "        -1.31350458e-01,  3.54292654e-02,  3.39094758e-01,\n",
              "        -2.76733041e-01,  8.91797781e-01, -8.16088676e-01,\n",
              "        -4.54628408e-01,  2.95186609e-01,  1.61351427e-01,\n",
              "        -1.17683649e+00, -6.33142233e-01, -8.98352742e-01,\n",
              "         7.34898865e-01, -2.05581248e-01, -5.02075732e-01,\n",
              "         7.65986323e-01, -5.38063049e-01,  5.24436474e-01,\n",
              "         4.11135793e-01, -2.10019425e-01,  4.26818252e-01,\n",
              "         3.02772075e-01, -2.40276661e-02, -2.60636806e-01,\n",
              "         7.50243664e-02, -2.07640529e-01, -1.18505239e+00,\n",
              "         6.49544969e-02,  4.26799327e-01, -4.66603965e-01,\n",
              "         7.57445276e-01, -5.72072089e-01, -5.56725562e-01,\n",
              "        -6.10451937e-01,  8.54347408e-01,  4.20188338e-01,\n",
              "        -4.13977429e-02, -3.83724958e-01,  2.78183192e-01,\n",
              "        -7.18312502e-01, -4.95820753e-02, -9.27741468e-01,\n",
              "        -5.25491953e-01, -1.90530956e-01,  1.76397875e-01,\n",
              "        -6.51918864e-03,  3.26182604e-01,  2.20101014e-01,\n",
              "        -8.23774219e-01,  1.55914903e-01, -4.18582648e-01,\n",
              "         3.17694962e-01, -3.63035321e-01, -1.05368006e+00,\n",
              "        -4.09508869e-02,  6.51137054e-01, -4.12988305e-01,\n",
              "         8.02003026e-01,  1.17675936e+00, -4.86135483e-04,\n",
              "        -4.07606125e-01,  7.43753195e-01, -1.08622515e+00,\n",
              "         1.80828631e-01, -6.86340570e-01,  1.24318875e-01,\n",
              "        -5.34942865e-01, -1.77498069e-02, -9.21671331e-01,\n",
              "        -6.60119206e-02,  4.14940238e-01,  4.09657687e-01,\n",
              "         1.56571254e-01, -3.75224978e-01,  3.81737202e-01,\n",
              "        -6.62861526e-01, -2.23513916e-01, -3.20015013e-01,\n",
              "        -1.78490877e-01,  5.86799800e-01, -1.91229761e-01,\n",
              "         7.33855665e-01, -4.78163034e-01,  6.15655720e-01,\n",
              "        -6.13180101e-01,  2.46697024e-01,  4.86632347e-01,\n",
              "        -1.42709523e-01, -4.18394208e-02, -1.05068877e-01,\n",
              "        -8.68421674e-01, -2.18962952e-02,  5.16836286e-01,\n",
              "        -2.03941524e-01, -4.09964919e-01, -1.43421042e+00,\n",
              "        -1.64835583e-02,  5.47296926e-02,  1.35791302e-01,\n",
              "         6.02279723e-01,  1.68358773e-01,  2.43486777e-01,\n",
              "        -1.08614981e+00, -1.01476789e+00, -1.09900445e-01,\n",
              "         5.11230469e-01, -1.40733346e-01,  6.98688328e-01,\n",
              "        -3.31353784e-01,  2.43301839e-01, -8.48308742e-01,\n",
              "         4.83229220e-01, -4.54274923e-01,  2.19748423e-01,\n",
              "        -8.09199139e-02, -7.02738106e-01, -4.35261577e-01,\n",
              "        -5.73978186e-01, -1.76272884e-01,  1.61938325e-01,\n",
              "        -6.92203760e-01, -6.46496773e-01, -4.13537294e-01,\n",
              "        -3.51943135e-01, -1.80080816e-01,  4.09255594e-01,\n",
              "         5.70096731e-01,  2.95330048e-01,  3.79348516e-01,\n",
              "        -4.63392794e-01, -5.35609543e-01, -1.18376218e-01,\n",
              "        -2.96955585e-01, -9.78473663e-01,  7.88111210e-01,\n",
              "        -5.28377891e-01, -1.60174057e-01,  1.60849348e-01,\n",
              "        -7.90365934e-01, -6.22977555e-01, -5.17297685e-01,\n",
              "        -1.30290776e-01,  2.60564327e-01,  5.77962101e-01,\n",
              "        -1.21976189e-01,  5.90207458e-01,  4.32272911e-01,\n",
              "        -6.61351383e-01,  6.33277178e-01,  4.99751841e-05,\n",
              "         5.08102417e-01, -1.05944075e-01,  1.14258304e-01,\n",
              "         8.44643176e-01,  6.25394702e-01, -1.16457619e-01,\n",
              "        -4.30801392e-01, -4.96640325e-01,  4.14267749e-01,\n",
              "         4.87215400e-01,  1.27091551e+00,  8.36581469e-01,\n",
              "        -4.32687223e-01, -3.18778604e-01,  4.65970397e-01,\n",
              "         5.73356628e-01, -4.36538815e-01, -1.03709733e+00,\n",
              "         7.55606651e-01,  1.95812091e-01,  4.04692918e-01,\n",
              "         5.39384723e-01, -4.05219972e-01, -6.74464628e-02,\n",
              "        -6.96042299e-01,  9.32420865e-02, -3.77756990e-02,\n",
              "         3.04195713e-02,  4.85989362e-01,  6.78796113e-01,\n",
              "        -6.21727258e-02, -4.20509309e-01, -1.71904534e-01,\n",
              "        -6.47539258e-01,  9.41981018e-01, -1.12389736e-01,\n",
              "         1.10799119e-01, -5.04639864e-01,  1.07537173e-01,\n",
              "        -9.06240419e-02,  7.00712144e-01, -6.75311506e-01,\n",
              "        -6.10922158e-01,  7.98291326e-01, -3.21436107e-01,\n",
              "        -6.13075495e-01, -1.04015686e-01, -7.19483912e-01,\n",
              "         4.33353364e-01, -8.27923775e-01,  4.74822938e-01,\n",
              "         6.34726956e-02,  1.12379976e-01,  1.12168111e-01,\n",
              "        -1.45932809e-01, -5.39394021e-01,  5.15431821e-01,\n",
              "         7.92448759e-01, -2.23449528e-01,  1.18421638e+00,\n",
              "         7.72794843e-01, -8.54107380e-01,  1.00840735e+00,\n",
              "        -1.90184131e-01,  5.20703614e-01, -1.26909590e+00,\n",
              "         2.43842840e-01, -2.62078792e-01,  1.48935461e+00,\n",
              "         2.80904412e-01,  8.69164586e-01, -1.80809900e-01,\n",
              "        -1.36804163e-01,  4.17458147e-01,  7.28570342e-01,\n",
              "         9.68593597e-01, -1.08742476e+00,  1.49498403e-01,\n",
              "         5.42853415e-01, -1.19020414e+00,  2.57829934e-01,\n",
              "         6.75282478e-01, -1.52962661e+00,  4.86061454e-01,\n",
              "         1.73830748e-01, -4.01064232e-02,  3.62627029e-01,\n",
              "         1.31342900e+00, -7.72480011e-01, -5.75709417e-02,\n",
              "        -1.13038957e+00,  7.04163849e-01, -2.52866328e-01,\n",
              "        -1.29442185e-01,  3.94560069e-01, -2.29873478e-01,\n",
              "        -1.19865131e+00, -7.81645715e-01,  3.83646578e-01,\n",
              "         1.07727480e+00, -8.89120772e-02, -1.18560958e+00,\n",
              "         1.05583930e+00,  6.30513072e-01, -2.42585734e-01]], dtype=float32)"
            ]
          },
          "metadata": {
            "tags": []
          },
          "execution_count": 7
        }
      ]
    },
    {
      "cell_type": "code",
      "metadata": {
        "id": "l6TgFi28z3YR",
        "colab_type": "code",
        "colab": {}
      },
      "source": [
        "for vec in encoded_test:\n",
        "  print (len(vec))\n"
      ],
      "execution_count": 0,
      "outputs": []
    },
    {
      "cell_type": "code",
      "metadata": {
        "id": "jUV4LKYuQRMD",
        "colab_type": "code",
        "outputId": "8f7a584d-1579-4871-b815-7d8fd75d0156",
        "colab": {
          "base_uri": "https://localhost:8080/",
          "height": 34
        }
      },
      "source": [
        "# arg0, arg1, verb = 'маша петя любить'.split\n",
        "def a0_a1_sentence_maker(verb, arg0, arg1, arg0_case='nomn', arg1_case='accs', cap=True):\n",
        "\n",
        "  '''Генерирует простые предложения вида 'arg0 любит arg1'.\n",
        "  Параметры:\n",
        "  verb              глагол в любой форме;\n",
        "  arg0_case='nomn'  тег падежа подлежащего;\n",
        "  arg1_case='accs'  тег падежа дополнения;\n",
        "  arg0='Маша'       подлежащее;\n",
        "  arg1='Петя'       дополнение\n",
        "  cap=True        капитализация аргументов-имен собственных.\n",
        "  Допустимые теги падежей лежат тут: http://opencorpora.org/dict.php?act=gram.'''\n",
        "\n",
        "  inflected_arg0 = morph.parse(arg0)[0].inflect({'sing', 'nomn'}).word\n",
        "  inflected_verb = morph.parse(verb)[0].inflect({'sing', '3per', 'pres', 'indc'}).word\n",
        "  inflected_arg1 = morph.parse(arg1)[0].inflect({'sing', 'accs'}).word\n",
        "\n",
        "  if (cap == True) and ('Name' in morph.parse(arg1)[0].tag):\n",
        "    inflected_arg1 = inflected_arg1.capitalize()\n",
        "  if (cap == True) and ('Name' in morph.parse(arg0)[0].tag):\n",
        "    inflected_arg0 = inflected_arg0.capitalize()\n",
        "\n",
        "  sentence = '{} {} {}'.format(inflected_arg0, inflected_verb, inflected_arg1)\n",
        "  return sentence\n",
        "\n",
        "a0_a1_sentence_maker('любить', 'Маша', 'Петя')\n",
        "# a0_a1_sentence_maker('любить', 'Петя', 'Маша')\n",
        "\n",
        "\n",
        "  "
      ],
      "execution_count": 0,
      "outputs": [
        {
          "output_type": "execute_result",
          "data": {
            "text/plain": [
              "'Маша любит Петю'"
            ]
          },
          "metadata": {
            "tags": []
          },
          "execution_count": 51
        }
      ]
    },
    {
      "cell_type": "code",
      "metadata": {
        "id": "PyhO3vSB21-N",
        "colab_type": "code",
        "colab": {}
      },
      "source": [
        "# bc.server_status"
      ],
      "execution_count": 0,
      "outputs": []
    }
  ]
}