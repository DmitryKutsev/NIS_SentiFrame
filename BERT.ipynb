{
  "nbformat": 4,
  "nbformat_minor": 0,
  "metadata": {
    "colab": {
      "name": "BERT.ipynb",
      "provenance": [],
      "include_colab_link": true
    },
    "kernelspec": {
      "name": "python3",
      "display_name": "Python 3"
    },
    "accelerator": "GPU"
  },
  "cells": [
    {
      "cell_type": "markdown",
      "metadata": {
        "id": "view-in-github",
        "colab_type": "text"
      },
      "source": [
        "<a href=\"https://colab.research.google.com/github/DmitryKutsev/NIS_SentiFrame/blob/master/BERT.ipynb\" target=\"_parent\"><img src=\"https://colab.research.google.com/assets/colab-badge.svg\" alt=\"Open In Colab\"/></a>"
      ]
    },
    {
      "cell_type": "code",
      "metadata": {
        "id": "2BMxgA0IcPEL",
        "colab_type": "code",
        "colab": {
          "base_uri": "https://localhost:8080/",
          "height": 360
        },
        "outputId": "6f206a79-d351-4d60-fc64-b55cbadc6c19"
      },
      "source": [
        "!pip install pymorphy2[fast]"
      ],
      "execution_count": 1,
      "outputs": [
        {
          "output_type": "stream",
          "text": [
            "Collecting pymorphy2[fast]\n",
            "\u001b[?25l  Downloading https://files.pythonhosted.org/packages/a3/33/fff9675c68b5f6c63ec8c6e6ff57827dda28a1fa5b2c2d727dffff92dd47/pymorphy2-0.8-py2.py3-none-any.whl (46kB)\n",
            "\r\u001b[K     |███████                         | 10kB 23.3MB/s eta 0:00:01\r\u001b[K     |██████████████▏                 | 20kB 29.6MB/s eta 0:00:01\r\u001b[K     |█████████████████████▎          | 30kB 34.6MB/s eta 0:00:01\r\u001b[K     |████████████████████████████▍   | 40kB 38.1MB/s eta 0:00:01\r\u001b[K     |████████████████████████████████| 51kB 8.9MB/s \n",
            "\u001b[?25hCollecting dawg-python>=0.7\n",
            "  Downloading https://files.pythonhosted.org/packages/6a/84/ff1ce2071d4c650ec85745766c0047ccc3b5036f1d03559fd46bb38b5eeb/DAWG_Python-0.7.2-py2.py3-none-any.whl\n",
            "Requirement already satisfied: docopt>=0.6 in /usr/local/lib/python3.6/dist-packages (from pymorphy2[fast]) (0.6.2)\n",
            "Collecting pymorphy2-dicts<3.0,>=2.4\n",
            "\u001b[?25l  Downloading https://files.pythonhosted.org/packages/02/51/2465fd4f72328ab50877b54777764d928da8cb15b74e2680fc1bd8cb3173/pymorphy2_dicts-2.4.393442.3710985-py2.py3-none-any.whl (7.1MB)\n",
            "\u001b[K     |████████████████████████████████| 7.1MB 21.3MB/s \n",
            "\u001b[?25hCollecting DAWG>=0.7.3; extra == \"fast\"\n",
            "\u001b[?25l  Downloading https://files.pythonhosted.org/packages/b8/ef/91b619a399685f7a0a95a03628006ba814d96293bbbbed234ee66fbdefd9/DAWG-0.8.0.tar.gz (371kB)\n",
            "\u001b[K     |████████████████████████████████| 378kB 46.7MB/s \n",
            "\u001b[?25hBuilding wheels for collected packages: DAWG\n",
            "  Building wheel for DAWG (setup.py) ... \u001b[?25l\u001b[?25hdone\n",
            "  Created wheel for DAWG: filename=DAWG-0.8.0-cp36-cp36m-linux_x86_64.whl size=857286 sha256=473bb0339e836e5a55f206930776abe0d0249dd0b745eaf2a2b7392c3557ba3c\n",
            "  Stored in directory: /root/.cache/pip/wheels/3d/1f/f0/a5b1f9d02e193c997d252c33d215f24dfd7a448bc0166b2a12\n",
            "Successfully built DAWG\n",
            "Installing collected packages: dawg-python, pymorphy2-dicts, DAWG, pymorphy2\n",
            "Successfully installed DAWG-0.8.0 dawg-python-0.7.2 pymorphy2-0.8 pymorphy2-dicts-2.4.393442.3710985\n"
          ],
          "name": "stdout"
        }
      ]
    },
    {
      "cell_type": "code",
      "metadata": {
        "id": "daOtHkFvcV7-",
        "colab_type": "code",
        "colab": {}
      },
      "source": [
        "from pymorphy2 import MorphAnalyzer\n",
        "morph = MorphAnalyzer()"
      ],
      "execution_count": 0,
      "outputs": []
    },
    {
      "cell_type": "markdown",
      "metadata": {
        "id": "YG_gtye9xkfW",
        "colab_type": "text"
      },
      "source": [
        "Check out [this issue](https://github.com/hanxiao/bert-as-service/issues/380) and \"make sure Colab is using Tensorflow 1.x, because bert-serving-start doesn't currently work with TF 2.1 and nohup hides the output of the command failing\""
      ]
    },
    {
      "cell_type": "code",
      "metadata": {
        "id": "acWmlZeroAC3",
        "colab_type": "code",
        "colab": {}
      },
      "source": [
        "# import tensorflow as tf\n",
        "# print (tf.__version__)"
      ],
      "execution_count": 0,
      "outputs": []
    },
    {
      "cell_type": "code",
      "metadata": {
        "id": "Z5eP2_kNhvFf",
        "colab_type": "code",
        "colab": {}
      },
      "source": [
        "!pip install -U bert-serving-server[http]\n",
        "!pip install bert-serving-client  # client, independent of `bert-serving-server`"
      ],
      "execution_count": 0,
      "outputs": []
    },
    {
      "cell_type": "code",
      "metadata": {
        "id": "gePhcxaviZj7",
        "colab_type": "code",
        "colab": {}
      },
      "source": [
        "!wget https://storage.googleapis.com/bert_models/2018_11_23/multi_cased_L-12_H-768_A-12.zip\n",
        "!unzip /content/multi_cased_L-12_H-768_A-12.zip"
      ],
      "execution_count": 0,
      "outputs": []
    },
    {
      "cell_type": "code",
      "metadata": {
        "id": "-pKKkhNVjhXH",
        "colab_type": "code",
        "colab": {}
      },
      "source": [
        "!nohup bert-serving-start -model_dir=./multi_cased_L-12_H-768_A-12 > out.file 2>&1 &"
      ],
      "execution_count": 0,
      "outputs": []
    },
    {
      "cell_type": "code",
      "metadata": {
        "id": "oW2AyjWJkZNz",
        "colab_type": "code",
        "colab": {}
      },
      "source": [
        "from bert_serving.client import BertClient\n",
        "bc = BertClient()\n",
        "encoded_test = bc.encode(['First do it', 'then do it right', 'then do it better'])\n",
        "encoded_test"
      ],
      "execution_count": 0,
      "outputs": []
    },
    {
      "cell_type": "code",
      "metadata": {
        "id": "VEl66wvNF5DW",
        "colab_type": "code",
        "colab": {}
      },
      "source": [
        "encoded_test = bc.encode(['Вася любит Машу'])\n",
        "encoded_test"
      ],
      "execution_count": 0,
      "outputs": []
    },
    {
      "cell_type": "code",
      "metadata": {
        "id": "jUV4LKYuQRMD",
        "colab_type": "code",
        "outputId": "77372aa9-f132-4568-f9ce-c17dd63b7723",
        "colab": {
          "base_uri": "https://localhost:8080/",
          "height": 34
        }
      },
      "source": [
        "# arg0, arg1, verb = 'маша петя любить'.split\n",
        "def a0_a1_clause_maker(verb, arg0, arg1, arg0_case='nomn', arg1_case='accs', cap=True):\n",
        "\n",
        "  '''Генерирует простые предложения вида 'arg0 любит arg1'.\n",
        "  Параметры:\n",
        "  verb              глагол в любой форме;\n",
        "  arg0_case='nomn'  тег падежа подлежащего;\n",
        "  arg1_case='accs'  тег падежа дополнения;\n",
        "  arg0='Маша'       подлежащее;\n",
        "  arg1='Петя'       дополнение\n",
        "  cap=True        капитализация аргументов-имен собственных.\n",
        "  Допустимые теги падежей лежат тут: http://opencorpora.org/dict.php?act=gram.'''\n",
        "\n",
        "  inflected_arg0 = morph.parse(arg0)[0].inflect({'sing', 'nomn'}).word\n",
        "  inflected_verb = morph.parse(verb)[0].inflect({'sing', '3per', 'pres', 'indc'}).word\n",
        "  inflected_arg1 = morph.parse(arg1)[0].inflect({'sing', 'accs'}).word\n",
        "\n",
        "  if (cap == True) and ('Name' in morph.parse(arg1)[0].tag):\n",
        "    inflected_arg1 = inflected_arg1.capitalize()\n",
        "  if (cap == True) and ('Name' in morph.parse(arg0)[0].tag):\n",
        "    inflected_arg0 = inflected_arg0.capitalize()\n",
        "\n",
        "  sentence = '{} {} {}'.format(inflected_arg0, inflected_verb, inflected_arg1)\n",
        "  return sentence\n",
        "\n",
        "# a0_a1_clause_maker('любить', 'Маша', 'Петя')\n",
        "a0_a1_clause_maker('любить', 'Петя', 'Маша')\n",
        "\n",
        "\n",
        "  "
      ],
      "execution_count": 3,
      "outputs": [
        {
          "output_type": "execute_result",
          "data": {
            "text/plain": [
              "'Петя любит Машу'"
            ]
          },
          "metadata": {
            "tags": []
          },
          "execution_count": 3
        }
      ]
    },
    {
      "cell_type": "code",
      "metadata": {
        "id": "1d4qE2MlmIuM",
        "colab_type": "code",
        "colab": {
          "base_uri": "https://localhost:8080/",
          "height": 34
        },
        "outputId": "01c1087f-c30e-4f97-f11e-15fe28b059a9"
      },
      "source": [
        "# Пете нравится, что\n",
        "def clause_wrapper(verb, arg0, arg1, \n",
        "                   main_subject=1, main_verb='нравиться',\n",
        "                   arg0_case='nomn', arg1_case='accs', \n",
        "                   cap=True):\n",
        "\n",
        "  '''Генерирует сложноподчинённые предложения вида 'arg нравится, что arg0 любит arg1'.\n",
        "  Параметры:\n",
        "  verb              глагол в любой форме;\n",
        "  arg0_case='nomn'  тег падежа подлежащего подчинённой клаузы;\n",
        "  arg1_case='accs'  тег падежа дополнения подчинённой клаузы;\n",
        "  arg0='Маша'       подлежащее подчинённой клаузы;\n",
        "  arg1='Петя'       дополнение подчинённой клаузы;\n",
        "  cap=True        капитализация аргументов-имен собственных.\n",
        "  Допустимые теги падежей лежат тут: http://opencorpora.org/dict.php?act=gram.'''\n",
        "\n",
        "  if main_subject and ('Name' in morph.parse(arg1)[0].tag):\n",
        "    inflected_main_subject = morph.parse(arg1)[0].inflect({'sing', 'datv'}).word.capitalize()\n",
        "  else:\n",
        "    inflected_main_subject = morph.parse(arg0)[0].inflect({'sing', 'datv'}).word.capitalize()\n",
        "  \n",
        "  inflected_main_verb = morph.parse(main_verb)[0].inflect({'sing', '3per', 'pres', 'indc'}).word\n",
        "  subordinate_clause = a0_a1_clause_maker(verb, arg0, arg1, arg0_case, arg1_case, cap)\n",
        "  main_clause = '{} {}'.format (inflected_main_subject, inflected_main_verb)\n",
        "  sentence = '{}, что {}'.format(main_clause, subordinate_clause)\n",
        "\n",
        "  return sentence\n",
        "\n",
        "clause_wrapper('любить', 'Петя', 'Маша', 0)\n"
      ],
      "execution_count": 8,
      "outputs": [
        {
          "output_type": "execute_result",
          "data": {
            "text/plain": [
              "'Пете нравится, что Петя любит Машу'"
            ]
          },
          "metadata": {
            "tags": []
          },
          "execution_count": 8
        }
      ]
    },
    {
      "cell_type": "code",
      "metadata": {
        "id": "mD4iIJspqD-0",
        "colab_type": "code",
        "colab": {
          "base_uri": "https://localhost:8080/",
          "height": 34
        },
        "outputId": "d3219ac7-3d44-4c29-ec6f-355d8800e390"
      },
      "source": [
        "morph.parse('Пете')[0]"
      ],
      "execution_count": 8,
      "outputs": [
        {
          "output_type": "execute_result",
          "data": {
            "text/plain": [
              "Parse(word='пете', tag=OpencorporaTag('NOUN,anim,masc,Name sing,datv'), normal_form='петя', score=0.5, methods_stack=((<DictionaryAnalyzer>, 'пете', 407, 2),))"
            ]
          },
          "metadata": {
            "tags": []
          },
          "execution_count": 8
        }
      ]
    },
    {
      "cell_type": "code",
      "metadata": {
        "id": "PyhO3vSB21-N",
        "colab_type": "code",
        "colab": {}
      },
      "source": [
        "# bc.server_status"
      ],
      "execution_count": 0,
      "outputs": []
    }
  ]
}