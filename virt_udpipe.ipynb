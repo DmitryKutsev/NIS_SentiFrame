{
  "nbformat": 4,
  "nbformat_minor": 0,
  "metadata": {
    "colab": {
      "name": "Untitled40.ipynb",
      "provenance": [],
      "toc_visible": true,
      "include_colab_link": true
    },
    "kernelspec": {
      "name": "python3",
      "display_name": "Python 3"
    },
    "accelerator": "GPU"
  },
  "cells": [
    {
      "cell_type": "markdown",
      "metadata": {
        "id": "view-in-github",
        "colab_type": "text"
      },
      "source": [
        "<a href=\"https://colab.research.google.com/github/DmitryKutsev/NIS_SentiFrame/blob/master/virt_udpipe.ipynb\" target=\"_parent\"><img src=\"https://colab.research.google.com/assets/colab-badge.svg\" alt=\"Open In Colab\"/></a>"
      ]
    },
    {
      "cell_type": "code",
      "metadata": {
        "id": "BJCgjd0v5JKW"
      },
      "source": [
        "%%capture\n",
        "!pip install spacy_udpipe"
      ],
      "execution_count": 1,
      "outputs": []
    },
    {
      "cell_type": "code",
      "metadata": {
        "id": "mqLqyFfUN8VK"
      },
      "source": [
        "%%capture\n",
        "!pip install pymorphy2[fast]\n",
        "from pymorphy2 import MorphAnalyzer\n",
        "morph = MorphAnalyzer()"
      ],
      "execution_count": 2,
      "outputs": []
    },
    {
      "cell_type": "code",
      "metadata": {
        "id": "_oQleVfw4mDX"
      },
      "source": [
        "import os\n",
        "import unicodedata\n",
        "import json\n",
        "import spacy_udpipe\n",
        "import pandas as pd\n",
        "import numpy as np\n",
        "from sklearn.metrics.pairwise import cosine_similarity"
      ],
      "execution_count": 3,
      "outputs": []
    },
    {
      "cell_type": "markdown",
      "metadata": {
        "id": "9Y8qTHP-11U3"
      },
      "source": [
        "# Sentence-level experiment"
      ]
    },
    {
      "cell_type": "markdown",
      "metadata": {
        "id": "-54GVtLN15oV"
      },
      "source": [
        "For further exploration of the semantic axis method we make use of BERT embeddings.\n",
        "\n",
        "Seed verbs remain the same as in the word-level experiments, but may be subject to change later.\n",
        "\n",
        "1.   Seed sentences are constructed with regard to the arguments. For example, to test a sentence like 'Силовики вломились к журналисту', we compute the semantic axis as follows:\n",
        "\n",
        "*   Replace the target verb with a seed verb.\n",
        "*   Make changes to cases of arguments if necessary.\n",
        "*   Repeat for each seed verb to construct seed sentences.\n",
        "\n",
        "2.   \n",
        "\n"
      ]
    },
    {
      "cell_type": "markdown",
      "metadata": {
        "id": "Kn-sZhBpNkXW"
      },
      "source": [
        "# BERT-as-service"
      ]
    },
    {
      "cell_type": "markdown",
      "metadata": {
        "id": "as7RU7qSOHLg"
      },
      "source": [
        "Check out [this issue](https://github.com/hanxiao/bert-as-service/issues/380) and \"make sure Colab is using Tensorflow 1.x, because bert-serving-start doesn't currently work with TF 2.1 and nohup hides the output of the command failing\".\n",
        "\n",
        "Also make sure you're using GPU accelerator."
      ]
    },
    {
      "cell_type": "code",
      "metadata": {
        "id": "acWmlZeroAC3",
        "outputId": "f80f7de6-fd84-4eb1-f92b-b3bedcacb6d0",
        "colab": {
          "base_uri": "https://localhost:8080/",
          "height": 35
        }
      },
      "source": [
        "%tensorflow_version 1.x\n",
        "# import tensorflow as tf\n",
        "# print (tf.__version__)"
      ],
      "execution_count": 4,
      "outputs": [
        {
          "output_type": "stream",
          "text": [
            "TensorFlow 1.x selected.\n"
          ],
          "name": "stdout"
        }
      ]
    },
    {
      "cell_type": "code",
      "metadata": {
        "id": "Z5eP2_kNhvFf"
      },
      "source": [
        "%%capture\n",
        "!pip install -U bert-serving-server[http]\n",
        "!pip install bert-serving-client  # client, independent of `bert-serving-server`"
      ],
      "execution_count": 5,
      "outputs": []
    },
    {
      "cell_type": "code",
      "metadata": {
        "id": "gePhcxaviZj7"
      },
      "source": [
        "%%capture\n",
        "!wget https://storage.googleapis.com/bert_models/2018_11_23/multi_cased_L-12_H-768_A-12.zip\n",
        "!unzip /content/multi_cased_L-12_H-768_A-12.zip"
      ],
      "execution_count": 6,
      "outputs": []
    },
    {
      "cell_type": "code",
      "metadata": {
        "id": "-pKKkhNVjhXH"
      },
      "source": [
        "!nohup bert-serving-start -model_dir=./multi_cased_L-12_H-768_A-12 > out.file 2>&1 &"
      ],
      "execution_count": 7,
      "outputs": []
    },
    {
      "cell_type": "code",
      "metadata": {
        "id": "oW2AyjWJkZNz"
      },
      "source": [
        "from bert_serving.client import BertClient\n",
        "bc = BertClient()"
      ],
      "execution_count": 8,
      "outputs": []
    },
    {
      "cell_type": "code",
      "metadata": {
        "id": "nLqDAKQ74QyR",
        "outputId": "a05b44fc-a589-4922-bde2-00982ee12c44",
        "colab": {
          "base_uri": "https://localhost:8080/",
          "height": 35
        }
      },
      "source": [
        "encoded_test = bc.encode(['First do it', \n",
        "                          'then do it right', 'then do it better'\n",
        "                          ])\n",
        "len(encoded_test[0])"
      ],
      "execution_count": 12,
      "outputs": [
        {
          "output_type": "execute_result",
          "data": {
            "text/plain": [
              "768"
            ]
          },
          "metadata": {
            "tags": []
          },
          "execution_count": 12
        }
      ]
    },
    {
      "cell_type": "markdown",
      "metadata": {
        "id": "GnpR_O5BOW7C"
      },
      "source": [
        "# UDPipe"
      ]
    },
    {
      "cell_type": "code",
      "metadata": {
        "id": "_zp_ZjVC4olM"
      },
      "source": [
        "syntagrus = spacy_udpipe.load(\"ru\")\n",
        "\n",
        "# with open('16.txt') as f:\n",
        "#     text = f.read()\n",
        "\n",
        "# verbs = list(pd.read_csv('cross_seminar_task.csv', sep='\\t')['verb'])\n",
        "\n",
        "\n",
        "def text2ud(text):\n",
        "    udpiped = []\n",
        "    doc = syntagrus(text)\n",
        "    doc_len = len(doc)\n",
        "    for i, token in enumerate(doc):\n",
        "        if i <= 10 or i == doc_len-10:\n",
        "            continue\n",
        "        if token.lemma_ in verbs:\n",
        "            new_entry = {token.lemma_: []}\n",
        "            for t in reversed(doc[i-10:i]):\n",
        "                if t.head.lemma_ == token.lemma_:\n",
        "                    new_entry[token.lemma_].append([t.text, t.lemma_, t.pos_, t.dep_])\n",
        "            for t in doc[i:i+10]:\n",
        "                if t.head.lemma_ == token.lemma_:\n",
        "                    new_entry[token.lemma_].append([t.text, t.lemma_, t.pos_, t.dep_])\n",
        "            udpiped.append(new_entry)\n",
        "            \n",
        "    with open('result.json', 'w') as f:\n",
        "        json.dump(udpiped, f, ensure_ascii=False, indent=4)\n",
        "\n",
        "# text2ud(text[:1000])"
      ],
      "execution_count": null,
      "outputs": []
    },
    {
      "cell_type": "code",
      "metadata": {
        "id": "0w5H8Ooy4va_"
      },
      "source": [
        "class SemanticAxis():\n",
        "\n",
        "    def __init__(self):\n",
        "        self.seed0 = set()\n",
        "        self.seed1 = set()\n",
        "        self.targets = set()\n",
        "        self.axis_vector = None\n",
        "        self.axis_similarities = None\n",
        "\n",
        "    def add_seed(self, seed: set, seed_id: int):\n",
        "        if seed_id:\n",
        "            self.seed1 = set(seed)\n",
        "        else:\n",
        "            self.seed0 = set(seed)\n",
        "    def add2seed(self, seed: set, seed_id: int):\n",
        "        if seed_id:\n",
        "            self.seed1.update(seed)\n",
        "        else:\n",
        "            self.seed0.update(seed)\n",
        "    def flush_seed(self, seed_id=None, flush_both_seeds=True):\n",
        "        if seed_id != None:\n",
        "            if seed_id:\n",
        "                self.seed1 = set()\n",
        "            else:\n",
        "                self.seed0 = set()\n",
        "        else:\n",
        "            self.seed0, self.seed1 = set(), set()\n",
        "    \n",
        "    def add_targets(self, target):\n",
        "        self.targets = target\n",
        "    def add2targets(self, target):\n",
        "        self.targets.update(target)\n",
        "    def flush_targets(self):\n",
        "        self.targets = set()\n",
        "    \n",
        "    def compute_bert_axis(self, bert_client):\n",
        "        assert len(self.seed0) > 0, 'Seed0 set is empty.'\n",
        "        assert len(self.seed1) > 0, 'Seed1 set is empty.'\n",
        "        self.bert_client = bert_client\n",
        "\n",
        "        target_vectors = self.bert_client.encode(list(self.targets))\n",
        "        seed_vectors = [self.bert_client.encode(list(s)).mean(axis=0) \n",
        "        for s in (self.seed0, self.seed1)]\n",
        "\n",
        "        self.axis_vector = seed_vectors[1] - seed_vectors[0]\n",
        "\n",
        "        self.axis_similarities = {self.targets[i]:cosine_similarity(\n",
        "            np.atleast_2d(vector), \n",
        "            np.atleast_2d(self.axis_vector)\n",
        "            ).item() for i, vector in enumerate(target_vectors)}"
      ],
      "execution_count": 53,
      "outputs": []
    },
    {
      "cell_type": "code",
      "metadata": {
        "id": "Kjou_zArlamn"
      },
      "source": [
        "sa = SemanticAxis()"
      ],
      "execution_count": 44,
      "outputs": []
    },
    {
      "cell_type": "code",
      "metadata": {
        "id": "YCG0gYJlipFY"
      },
      "source": [
        "sa.add_targets(list2check)\n",
        "sa.add_seed(['разрушать'], 0)\n",
        "sa.add_seed(['ценить'], 1)"
      ],
      "execution_count": null,
      "outputs": []
    },
    {
      "cell_type": "code",
      "metadata": {
        "id": "3S1OBihYfekr"
      },
      "source": [
        "sa.compute_bert_axis(bc)\n",
        "df = pd.DataFrame({'target':sa.axis_similarities.keys(),\n",
        "                   'similarity':sa.axis_similarities.values()})\n",
        "df.sort_values(by='similarity')"
      ],
      "execution_count": null,
      "outputs": []
    },
    {
      "cell_type": "code",
      "metadata": {
        "id": "woJnnZVDjibu"
      },
      "source": [
        "from google.colab import drive\n",
        "drive.mount('/content/drive')\n",
        "!unrar x \"\""
      ],
      "execution_count": null,
      "outputs": []
    },
    {
      "cell_type": "code",
      "metadata": {
        "id": "fN5WJqomlgll"
      },
      "source": [
        "def ovd_loader():\n",
        "    path = 'OVD-Info/2019'\n",
        "    for month in os.listdir(path):\n",
        "        for filename in os.listdir('{}/{}'.format(path, month)):\n",
        "            filepath = '{}/{}/{}'.format(path, month, filename)\n",
        "            with open(filepath, 'r', encoding='utf-8') as f:\n",
        "                yield filepath, f.read()"
      ],
      "execution_count": 91,
      "outputs": []
    },
    {
      "cell_type": "code",
      "metadata": {
        "id": "lXsH-7IQnoo1"
      },
      "source": [
        "d = {x[0]:unicodedata.normalize(\"NFKD\", x[1]) for x in ovd_loader()}\n",
        "texts = pd.DataFrame({'url':d.keys(),\n",
        "                      'text':d.values()})"
      ],
      "execution_count": 95,
      "outputs": []
    }
  ]
}